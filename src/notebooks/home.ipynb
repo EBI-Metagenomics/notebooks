{
 "cells": [
  {
   "cell_type": "markdown",
   "id": "dc159a00-e9c2-44e9-ac9b-66d081bbc212",
   "metadata": {},
   "source": [
    "<div style=\"max-width:1200px\"><img src=\"_resources/mgnify_banner.png\" width=\"100%\"></div>"
   ]
  },
  {
   "cell_type": "markdown",
   "id": "cb5ddb79-47bd-49a1-ac5c-80800027f5b0",
   "metadata": {},
   "source": [
    "<img src=\"_resources/mgnify_logo.png\" width=\"200px\">\n",
    "\n",
    "# EMBL-EBI MGnify: Submit, analyse, discover and compare microbiome data\n",
    "### Examples using Python and R to access data from MGnify\n",
    "\n",
    "There are several interactive code notebooks in this repository.\n",
    "\n",
    "If you're using these examples on the `shiny-portal.embl.de` website, you can run code using this notebook server.\n",
    "\n",
    "You can also download these notebooks from our [GitHub account](https://github.com/EBI-Metagenomics/notebooks), to run them on your own computer."
   ]
  },
  {
   "cell_type": "markdown",
   "id": "1895be3e-94d4-4c94-a31a-cd9382c832f4",
   "metadata": {},
   "source": [
    "<div style=\"border-bottom: 8px solid #18974c; padding: 16px; box-shadow:0 5px 10px #33333333; max-width: 50%\">\n",
    "    <h1>How to use this resource</h1>\n",
    "    <p>\n",
    "        This Jupyter Lab is an online environment where you can write and run <b>R</b> or <b>Python</b> code.\n",
    "        It is organised into <b>Notebooks</b>, each of which contains example code. You can run this code as-is, or modify it to do your own analysis.\n",
    "        Each visitor to this service gets their own fresh set of Notebooks. Make sure you download or copy-paste any analysis code or results you create – it will be deleted once you leave.\n",
    "    </p>\n",
    "    <p>\n",
    "        Each Notebook is organised into \"cells\". You can <b>run a cell</b> by clicking in it and pressing `shift+enter`, or using the ▶ button in the top toolbar. Step through the Notebook Cells to run code piece-by-piece.\n",
    "    </p>\n",
    "</div>"
   ]
  },
  {
   "cell_type": "markdown",
   "id": "a04bce21-6d82-4a2a-9900-1fa006df5849",
   "metadata": {},
   "source": [
    "## Notebooks\n",
    "- [Home](home.ipynb)\n",
    "- Python examples:\n",
    "  - [Fetch paginated data from the API as a CSV](Python%20Examples/Download%20paginated%20API%20data%20to%20a%20CSV.ipynb)\n",
    "  - [Fetch Analysis data from a Study](Python%20Examples/Load%20Analyses%20for%20a%20MGnify%20Study.ipynb)\n",
    "- R examples:\n",
    "  - [Search for Samples or Studies using MGnifyR](R%20Examples/Search%20for%20Samples%20or%20Studies.ipynb)\n",
    "  - [Fetch Analysis metadata from a Study](R%20Examples/Fetch%20Analyses%20metadata%20for%20a%20Study.ipynb)\n",
    "  - [Comparative Metagenomics](R%20Examples/Comparative%20Metagenomics.ipynb)\n"
   ]
  },
  {
   "cell_type": "code",
   "execution_count": null,
   "id": "6d7f34b9-6cda-4c7c-a8b9-0a1afe8385df",
   "metadata": {},
   "outputs": [],
   "source": []
  }
 ],
 "metadata": {
  "kernelspec": {
   "display_name": "Python (mgnify-py-env)",
   "language": "python",
   "name": "conda-env-mgnify-py-env-py"
  },
  "language_info": {
   "codemirror_mode": {
    "name": "ipython",
    "version": 3
   },
   "file_extension": ".py",
   "mimetype": "text/x-python",
   "name": "python",
   "nbconvert_exporter": "python",
   "pygments_lexer": "ipython3",
   "version": "3.11.0"
  }
 },
 "nbformat": 4,
 "nbformat_minor": 5
}
