{
 "cells": [
  {
   "cell_type": "markdown",
   "id": "f3a383f6-829a-43b2-87ba-159d634fc2ce",
   "metadata": {},
   "source": [
    "<div style=\"max-width:1200px\"><img src=\"../_resources/mgnify_banner.png\" width=\"100%\"></div>"
   ]
  },
  {
   "cell_type": "markdown",
   "id": "9d8bedac-2993-42f4-a71e-b689466bd462",
   "metadata": {
    "tags": []
   },
   "source": [
    "<img src=\"../_resources/mgnify_logo.png\" width=\"200px\">\n",
    "\n",
    "# Comparative metagenomics\n",
    "\n",
    "## Normalization methods, alpha & beta diversity, and differentially abundant taxa\n",
    "\n",
    "In this notebook we aim to demonstrate how the MGnifyR tool can be used to fetch data and metadata of a MGnify metagenomic analyisis. Then we show how to generate diversity metrics for comparative metagenomics using taxonomic profiles. Finally, we will use `SIAMCAT` to detect differentially abundant taxa and to build a ML classification model.\n",
    "\n",
    "[MGnifyR](http://github.com/beadyallen/mgnifyr) is a library that provides a set of tools for easily accessing and processing MGnify data in R, making queries to MGnify databases through the [MGnify API](https://www.ebi.ac.uk/metagenomics/api/v1/). \n",
    "The benefit of MGnifyR is that data can either be fetched in tsv format or be directly combined in a phyloseq object to run an analysis in a custom workflow.\n",
    "\n",
    "This is an interactive code notebook (a Jupyter Notebook). To run this code, click into each cell and press the ▶ button in the top toolbar, or press shift+enter\n"
   ]
  },
  {
   "cell_type": "markdown",
   "id": "047933f6-06fc-461d-8873-de5715360e76",
   "metadata": {},
   "source": [
    "## Contents\n",
    "- [Part 1. Fetching data and preprocessing](#part1)\n",
    "  - [1.1. Fetch the MGnify Analyses accession](#part1_1)\n",
    "  - [1.2. Explore and filter samples by metadata](#part1_2)\n",
    "  - [1.3. Converting into phyloseq object](#part1_3)\n",
    "- [Part 2. Normalization, alpha diversity indices and taxonomic profiles visualization](#part2)\n",
    "   - [2.1. Cleaning the OTUs matrix](#part2_1)\n",
    "   - [2.2. Normalization by total sum scaling (TSS, relative abundance or proportions)](#part2_2)\n",
    "   - [2.3. Normalization by subsampling (rarefaction)](#part2_3)\n",
    "   - [2.4. Normalization by cumulative sum scaling (CSS)](#part2_4)\n",
    "   - [2.5. Computing alpha diversity indices](#part2_5)\n",
    "   - [2.6. Community profile visualization](#part2_6)\n",
    "- [Part 3. Comparative metagenomics at community-level: Beta diversity](#part3)\n",
    "- [Part 4. Detection of differentially abundant taxa](#part4)\n",
    "    - [4.1. Association testing](#part4_1)\n",
    "    - [4.2. Cofounder testing](#part4_2)\n",
    "    - [4.3. Generation of a predictive model: Machine learning workflow](#part4_3)\n",
    "- [References](#refs)"
   ]
  },
  {
   "cell_type": "code",
   "execution_count": null,
   "id": "c4900c9e-7d78-47f2-bb5f-f9d6d0ba0695",
   "metadata": {},
   "outputs": [],
   "source": [
    "# Loading libraries:\n",
    "suppressMessages({\n",
    "    library(ggplot2)\n",
    "    library(IRdisplay)    \n",
    "    library(MGnifyR)\n",
    "    library(microbiomeMarker)\n",
    "    library(plyr)\n",
    "    library(SIAMCAT)\n",
    "    library(tidyverse)\n",
    "    library(vegan)\n",
    "})\n",
    "    \n",
    "display_markdown(file = '../_resources/mgnifyr_help.md')"
   ]
  },
  {
   "cell_type": "code",
   "execution_count": null,
   "id": "9a54eed0-81ca-48ac-afb5-86f8a1fce9bc",
   "metadata": {},
   "outputs": [],
   "source": [
    "# Setting tables and figures size to display (these will be reset later):\n",
    "options(repr.matrix.max.cols=150, repr.matrix.max.rows=200)\n",
    "options(repr.plot.width=4, repr.plot.height=4)"
   ]
  },
  {
   "cell_type": "markdown",
   "id": "09672213-271c-4bcd-93d6-4eda159cb7a9",
   "metadata": {},
   "source": [
    "## Part 1. Fetching data and preprocessing <a id='part1'/>"
   ]
  },
  {
   "cell_type": "markdown",
   "id": "7f5b4814-c2cf-47fb-ab9e-9a1d8a97c958",
   "metadata": {},
   "source": [
    "In this example we are going to fetch MGnify analysis results and metadata for TARA ocean metagenomic study corresponding to size fractions for prokaryotes ([MGYS00002008](https://www.ebi.ac.uk/metagenomics/studies/MGYS00002008#overview)).\n",
    "Find more information about the [TARA Ocean Project.](https://fondationtaraocean.org/en/expedition/tara-oceans/)"
   ]
  },
  {
   "cell_type": "markdown",
   "id": "d1c71880-51ec-434f-8dbf-7abe3d63c366",
   "metadata": {},
   "source": [
    "### 1.1. Fetch the MGnify Analyses accession <a id='part1_1'/>"
   ]
  },
  {
   "cell_type": "markdown",
   "id": "4540955c-de1a-48b4-a407-215c965dc876",
   "metadata": {},
   "source": [
    "1. The first step is to retrieve the analysis accession list."
   ]
  },
  {
   "cell_type": "code",
   "execution_count": null,
   "id": "a5359e75-f33f-4e90-8b33-305106c90936",
   "metadata": {},
   "outputs": [],
   "source": [
    "# Create your session mgnify_client object\n",
    "mg = mgnify_client(usecache = T, cache_dir = '/home/jovyan/.mgnify_cache')\n",
    "tara_all = mgnify_analyses_from_studies(mg, 'MGYS00002008')"
   ]
  },
  {
   "cell_type": "markdown",
   "id": "c6320d71-f49f-4e1c-88cd-e7323af8ba66",
   "metadata": {},
   "source": [
    "2. Use the list of accessions to fetch the metadata for all of the analyses from the MGnify API."
   ]
  },
  {
   "cell_type": "code",
   "execution_count": null,
   "id": "e724912b-03b5-4577-8c95-c5366e50e1de",
   "metadata": {},
   "outputs": [],
   "source": [
    "metadata = mgnify_get_analyses_metadata(mg, tara_all)"
   ]
  },
  {
   "cell_type": "markdown",
   "id": "9a3858ee-6510-4e76-8627-08c423032e59",
   "metadata": {},
   "source": [
    "<div class=\"alert alert-block alert-info\">\n",
    "<b>Tip:</b> In case you are interested in running the comparative metagenomic analysis using data from different studies in MGnify, you can adapt the following commands:\n",
    "</div>\n",
    " \n",
    "    \n",
    "```R\n",
    "analyses_accessions = mgnify_analyses_from_studies(mg, c(\"MGYS1\",\"MGYS2\"))\n",
    "\n",
    "metadata = mgnify_get_analyses_metadata(mg, analyses_accessions)\n",
    "```"
   ]
  },
  {
   "cell_type": "markdown",
   "id": "5df0092b-96e7-4857-8e45-e96adc81929d",
   "metadata": {},
   "source": [
    "### 1.2. Explore and filter samples by metadata <a id='part1_2'/>"
   ]
  },
  {
   "cell_type": "markdown",
   "id": "c2a8d114-4810-4d6c-8d98-c0ce44f7a5bd",
   "metadata": {},
   "source": [
    "We want to keep only **metagenomic** samples (not amplicon) of 'surface' and 'mesopelagic zone' to compare. We also want to filter out results generated with old pipeline versions (<[v5.0](https://www.ebi.ac.uk/metagenomics/pipelines/5.0)). In the following steps we will filter out other samples before exporting to the phyloseq object. Let's first explore the metadata we fetched:"
   ]
  },
  {
   "cell_type": "markdown",
   "id": "bf79c63f-c91c-476b-b58e-5d7948d99a36",
   "metadata": {},
   "source": [
    "1) Check the number of analyses in the study."
   ]
  },
  {
   "cell_type": "code",
   "execution_count": null,
   "id": "fbdbf2f9-c411-44f1-8f91-ba3ef377ef60",
   "metadata": {},
   "outputs": [],
   "source": [
    "length(metadata$'analysis_accession')"
   ]
  },
  {
   "cell_type": "markdown",
   "id": "9e16a76e-2c80-4a7e-b247-184e2e5e8998",
   "metadata": {},
   "source": [
    "2) Check the `analysis_experiment-type` to determine whether a filtering is necesary to discard amplicon samples."
   ]
  },
  {
   "cell_type": "code",
   "execution_count": null,
   "id": "b6140e86-4b74-48dc-aae7-df2a0cde37c5",
   "metadata": {},
   "outputs": [],
   "source": [
    "unique(metadata$'analysis_experiment-type')"
   ]
  },
  {
   "cell_type": "markdown",
   "id": "58ef8de7-d22e-4d99-ade8-af0da232a406",
   "metadata": {},
   "source": [
    "3) Keep results generated only with the most updated pipeline (v5.0)."
   ]
  },
  {
   "cell_type": "code",
   "execution_count": null,
   "id": "eb8a625f-88cd-4c33-9068-2c35973a6a0a",
   "metadata": {},
   "outputs": [],
   "source": [
    "v5_metadata = metadata[which(metadata$'analysis_pipeline-version'=='5.0'), ]"
   ]
  },
  {
   "cell_type": "markdown",
   "id": "2b64e232-c366-4d51-aaf2-159680811972",
   "metadata": {},
   "source": [
    "4) Check the `sample_environment-feature` to discover what kind of samples are part of the study and how many of each exists.\n",
    "\n",
    "<div class=\"alert alert-block alert-info\">\n",
    "<b>Note:</b> For a comparative study, we need at least 5 samples per group\n",
    "</div>"
   ]
  },
  {
   "cell_type": "code",
   "execution_count": null,
   "id": "ada5c1f9-6a06-4880-bfe1-90d9737536ba",
   "metadata": {},
   "outputs": [],
   "source": [
    "table(v5_metadata$'sample_environment-feature')"
   ]
  },
  {
   "cell_type": "markdown",
   "id": "080aa6d8-6906-48da-ae18-36feb6265660",
   "metadata": {},
   "source": [
    "5. Filtering out noisy samples.\n",
    "\n",
    "We want to create a new dataframe containing the relevant samples. In this step, we will also create a clean label for the environment feature. Additionally, we noticed that some samples have extreme non-sense values in the metadata. We will filter out those samples to reduce the noise on the analysis."
   ]
  },
  {
   "cell_type": "markdown",
   "id": "e52de90b-b671-49eb-a8ab-d340f9a25a7c",
   "metadata": {},
   "source": [
    "<div class=\"alert alert-block alert-info\">\n",
    "<b>Note:</b> To speed up the following analysis, we are going to keep only 34 samples per group (by randomly subsampling the table)\n",
    "</div>"
   ]
  },
  {
   "cell_type": "code",
   "execution_count": null,
   "id": "51f1eec1-7de0-4b84-b3cf-916dd266ce1b",
   "metadata": {},
   "outputs": [],
   "source": [
    "# Saving the list of Surface water samples in a dataframe\n",
    "sub1 = v5_metadata[str_detect(v5_metadata$'sample_environment-feature', \"surface\"), ]\n",
    "\n",
    "# Reducing the metadata table to keep relevant fields only\n",
    "variables_to_keep = c('sample_temperature','sample_depth','sample_salinity','sample_chlorophyll sensor','sample_nitrate sensor','sample_oxygen sensor')\n",
    "reduced_sub1 = sub1[variables_to_keep]\n",
    "\n",
    "# Removing rows with extreme values\n",
    "reduced_sub1[reduced_sub1 == \"99999\"] <- NA\n",
    "reduced_sub1[reduced_sub1 == \"99999.0\"] <- NA\n",
    "reduced_sub1[reduced_sub1 == \"0\"] <- NA\n",
    "\n",
    "clean1=na.omit(reduced_sub1)\n",
    "\n",
    "# Subsampling to 34\n",
    "set.seed(345)\n",
    "random_1 = clean1[sample(nrow(clean1), 34), ]\n",
    "random_1$'env_label'=c(rep('Surface', times=length(rownames(random_1))))"
   ]
  },
  {
   "cell_type": "code",
   "execution_count": null,
   "id": "16f1394d-935b-4d91-9012-42be61c4359a",
   "metadata": {},
   "outputs": [],
   "source": [
    "# Saving the list of Mesopelagic zone samples in a dataframe\n",
    "sub2 = v5_metadata[str_detect(v5_metadata$'sample_environment-feature', \"mesopelagic\"), ]\n",
    "\n",
    "# Reducing the metadata table to keep relevant fields only\n",
    "reduced_sub2 = sub2[variables_to_keep]\n",
    "\n",
    "# Removing rows with extreme values\n",
    "reduced_sub2[reduced_sub2 == \"99999\"] <- NA\n",
    "reduced_sub2[reduced_sub2 == \"99999.0\"] <- NA\n",
    "reduced_sub2[reduced_sub2 == \"0\"] <- NA\n",
    "\n",
    "clean2=na.omit(reduced_sub2)\n",
    "\n",
    "# Subsampling to 34\n",
    "set.seed(345)\n",
    "random_2 = clean2[sample(nrow(clean2), 34), ]\n",
    "random_2$'env_label'=c(rep('Mesopelagic', times=length(rownames(random_2))))"
   ]
  },
  {
   "cell_type": "code",
   "execution_count": null,
   "id": "e0749670-9aa3-4c72-8bc8-4d20aedae8b3",
   "metadata": {},
   "outputs": [],
   "source": [
    "clean_metadata=rbind(random_1,random_2)\n",
    "clean_acc=rownames(clean_metadata)"
   ]
  },
  {
   "cell_type": "markdown",
   "id": "daf123c7-fc82-41f6-97f8-6b4e9fa4111b",
   "metadata": {},
   "source": [
    "### 1.3. Converting into phyloseq object <a id='part1_3'/>"
   ]
  },
  {
   "cell_type": "markdown",
   "id": "3dc92881-75bc-4931-90a5-96c6a4cf24ff",
   "metadata": {},
   "source": [
    "1. Now that we have a new dataframe with samples from either surface or mesopelagic zone water, we are going to create the phyloseq object."
   ]
  },
  {
   "cell_type": "code",
   "execution_count": null,
   "id": "95977717-ea94-4550-bc17-c8bbe3e2781c",
   "metadata": {},
   "outputs": [],
   "source": [
    "ps = mgnify_get_analyses_phyloseq(mg, clean_acc)"
   ]
  },
  {
   "cell_type": "markdown",
   "id": "b1a7166e-b287-4668-98e6-47a08841a725",
   "metadata": {},
   "source": [
    "2. Keep only relevant columns in the phyloseq metadata table and transform numeric variables from characters to numbers. Add the environment label as well."
   ]
  },
  {
   "cell_type": "code",
   "execution_count": null,
   "id": "c571fc4a-a1c4-4c86-81e0-df163919a80a",
   "metadata": {},
   "outputs": [],
   "source": [
    "# Keeping relevant metadata in the phyloseq object\n",
    "variables_to_keep = c('sample_temperature','sample_depth','sample_salinity','sample_chlorophyll.sensor','sample_nitrate.sensor','sample_oxygen.sensor')\n",
    "df = data.frame(sample_data(ps))[variables_to_keep]\n",
    "\n",
    "# Transforming character to nummeric variables\n",
    "df[] = lapply(df, function(x) as.numeric(as.character(x)))\n",
    "sample_data(ps) = df\n",
    "\n",
    "# Adding the env label                              \n",
    "sample_data(ps)$'env_label' = clean_metadata$env_label\n"
   ]
  },
  {
   "cell_type": "markdown",
   "id": "f07ff95a-55b0-4664-bd53-7f65b779048d",
   "metadata": {},
   "source": [
    "## Part 2. Normalization, alpha diversity indices and taxonomic profiles visualization <a id='part2'/>"
   ]
  },
  {
   "cell_type": "markdown",
   "id": "d4e432e7-1f5f-4f29-bbbb-c615f78065f7",
   "metadata": {
    "tags": []
   },
   "source": [
    "### 2.1. Cleaning the OTUs matrix <a id='part2_1'/>"
   ]
  },
  {
   "cell_type": "markdown",
   "id": "dcedcf9c-3689-4b3c-808b-0e5e0888a9db",
   "metadata": {},
   "source": [
    "1) Remove samples with extremely low coverage – they aren't informative and interfere with the normalization process. The first step is to detect outliers by plotting some histograms."
   ]
  },
  {
   "cell_type": "code",
   "execution_count": null,
   "id": "ea09d099-82a3-4206-8241-de263d17fcd5",
   "metadata": {},
   "outputs": [],
   "source": [
    "options(repr.plot.width=4, repr.plot.height=4)\n",
    "hist(log10(sample_sums(ps)), breaks=50, main=\"Sample size distribution\", xlab=\"Sample size (log10)\", ylab=\"Frequency\", col=\"#007c80\")"
   ]
  },
  {
   "cell_type": "markdown",
   "id": "de3ab6e5-038d-41ec-abec-566971bedee4",
   "metadata": {},
   "source": [
    "We can see that samples with number of reads $\\leq 10 ^ {1.5}$ (i.e. $\\lesssim 32$) seem to be outliers. \n",
    "   Let's filter out the outliers and plot a new histogram."
   ]
  },
  {
   "cell_type": "code",
   "execution_count": null,
   "id": "1bc85bcf-bb7f-4105-9b37-c13d1ebf995c",
   "metadata": {},
   "outputs": [],
   "source": [
    "ps_good = subset_samples(ps, sample_sums(ps) > 32)\n",
    "hist(log10(sample_sums(ps_good)), breaks=50, main=\"Sample size distribution\", xlab=\"Sample size (log10)\", ylab=\"Frequency\", col=\"#007c80\")"
   ]
  },
  {
   "cell_type": "markdown",
   "id": "0eaccdbf-3f28-4f00-abc2-ae7cd9bbb7ba",
   "metadata": {},
   "source": [
    "2) Remove singletons. Singletons are OTUs of size one, meaning that only one read was assigned to that OTU. These very low-abundance OTUs could be biologically real (belonging to the rare biosphere ([1](#reference_1))), or they could be false positives due to sequencing artefacts. Singletons observed in only one sample are more likely to be artefacts, and it is good practice to remove them from the OTUs counts table to avoid artificially over-estimating the OTUs richness. You can find more discussion about this in [Robert Edgar's blog](https://drive5.com/usearch/manual/singletons.html).\n"
   ]
  },
  {
   "cell_type": "code",
   "execution_count": null,
   "id": "3e40e52c-826d-4280-9bb5-95c1e3abffe2",
   "metadata": {},
   "outputs": [],
   "source": [
    "ps_final = filter_taxa(ps_good, function(x) sum(x) > 1, prune=TRUE)"
   ]
  },
  {
   "cell_type": "markdown",
   "id": "f3bf6d10-da48-4276-b353-d70b222ca1fb",
   "metadata": {},
   "source": [
    "3) Show some stats on the sequencing depth across samples."
   ]
  },
  {
   "cell_type": "code",
   "execution_count": null,
   "id": "65e46c67-a25f-49fb-bb4f-15189a5fe6cf",
   "metadata": {},
   "outputs": [],
   "source": [
    "max_difference = max(sample_sums(ps_final))/min(sample_sums(ps_final))\n",
    "\n",
    "sprintf(\"The max difference in sequencing depth is %s\", max_difference)\n",
    "\n",
    "options(repr.plot.width=4, repr.plot.height=5)\n",
    "\n",
    "boxplot(sample_sums(ps_final), main=\"Sequencing depth across samples\", xlab=\"\", ylab=\"Number of reads\", col=\"#a6093d\")\n",
    "text(y=boxplot.stats(sample_sums(ps_final))$stats, labels=boxplot.stats(sample_sums(ps_final))$stats, x=1.25)"
   ]
  },
  {
   "cell_type": "markdown",
   "id": "b44ce62e-85d8-4517-9b7b-717cf5dde623",
   "metadata": {},
   "source": [
    "An approximately 10-fold difference in the library sizes means that we will need to apply a normalization method before continuing with the analysis. The most common normalization methods used in microbiome count data are proportions and rarefaction. However, other methods originally developed to normalize RNA-seq counts have been adapted to differential-abundance analysis in microbiome data. A discussion about how to choose the right normalization method is out of the scope of this material, but the topic has been covered in multiple forums and scientific publications. Depending on the downstream analysis we intend to perform, different methods might be appropriate. For instance, to compare groups of samples at community-level through beta-diversity, \"...proportions and rarefying produced more accurate comparisons among communities and are the only methods that fully normalized read depths across samples. Additionally, upper quartile, cumulative sum scaling (CSS), edgeR-TMM, and DESeq-VS often masked differences among communities when common OTUs differed, and they produced false positives when rare OTUs differed\" ([2](#reference_2)). On the other hand, for detection of differentially abundant species, \"both proportions and rarefied counts result in a high rate of false positives in tests for species that are differentially abundant across sample classes\" ([3](#reference_3)).\n",
    "\n",
    "In the following examples we will show three popular ways of normalization: relative abundance, rarefaction and cummulative sum scaling."
   ]
  },
  {
   "cell_type": "markdown",
   "id": "43e075eb-288b-4308-8a30-443a7693275e",
   "metadata": {},
   "source": [
    "### 2.2. Normalization by total sum scaling (TSS, relative abundance or proportions) <a id='part2_2'/>"
   ]
  },
  {
   "cell_type": "markdown",
   "id": "5c578470-b42a-40f1-9e07-51b3c1b54561",
   "metadata": {},
   "source": [
    "The simplest way to normalize the differences in sample size is to transform the OTU counts table into relative abundance by dividing by the number of total reads of each sample. This type of normalization is also referred to as relative abundance or proportions. We use this normalization to compare taxonomic profiles, while alpha diversity indices are computed on the non-normalized matrix. The reason to do so is that we need a matrix of integer numbers as input."
   ]
  },
  {
   "cell_type": "markdown",
   "id": "3443c9b0-5c7e-48b3-9257-a180b423f1df",
   "metadata": {},
   "source": [
    "1) Transform taxonomy raw-counts matrix into relative abundance.  <a id='part2_2_2'/>"
   ]
  },
  {
   "cell_type": "code",
   "execution_count": null,
   "id": "e4642245-7adc-4cfa-9cc1-92484d532808",
   "metadata": {},
   "outputs": [],
   "source": [
    "relab_ps = transform_sample_counts(ps_final, function(x) x/sum(x))"
   ]
  },
  {
   "cell_type": "markdown",
   "id": "6dfe3c91-38de-467f-be40-edbdd31a6fe4",
   "metadata": {},
   "source": [
    "2) Agglomerate taxonomy at Class rank and keep only the most abundant classes (threshold=1%, i.e. 0.01). In microbial data, we expect to observe abundance distributions with a long 'tail' of low-abundance organisms which often comprise the large majority of species. For this reason, once the matrix has been transformed to relative abundance, we will transform the taxonomic profile at a high taxonomic rank (Class), agglomerating the counts first and using an abundance threshold of 1% to avoid displaying too many unreadable categories in the plot."
   ]
  },
  {
   "cell_type": "code",
   "execution_count": null,
   "id": "a87af8cc-6ba1-4fd6-854e-bb00fc35f2ad",
   "metadata": {},
   "outputs": [],
   "source": [
    "psglom = tax_glom(relab_ps, \"Class\")\n",
    "top_tss_ps = filter_taxa(psglom, function(x) mean(x) > 0.01, TRUE)"
   ]
  },
  {
   "cell_type": "markdown",
   "id": "8a9682bd-1e66-402b-9a51-34aa07fce3f5",
   "metadata": {},
   "source": [
    "### 2.3. Normalization by subsampling (rarefaction) <a id='part2_3'/>"
   ]
  },
  {
   "cell_type": "markdown",
   "id": "38390dee-688e-420e-bddf-305775d70615",
   "metadata": {},
   "source": [
    "Rarefaction is an alternative to relative abundance normalization to obtain an adjusted OTUs count matrix. The method is based on a process of subsampling to the smallest library size in the data set. The algorithm randomly removes reads until the samples reach the same library size. Despite the apparent disadvantage of discarding information from the larger samples, rarefaction is quite popular in microbial ecology. The first step is to find the smallest sample size. We can use the number of observed OTUs in the original matrix to do so."
   ]
  },
  {
   "cell_type": "markdown",
   "id": "dc7a2a99-46c6-4fe8-ae92-ebcc26075dee",
   "metadata": {},
   "source": [
    "1) Find the smallest sample size."
   ]
  },
  {
   "cell_type": "code",
   "execution_count": null,
   "id": "630cfed1-55e3-4ac7-b14e-73649c990ffd",
   "metadata": {},
   "outputs": [],
   "source": [
    "df=as.data.frame(sample_sums(ps_final))\n",
    "head(df[order( df[,1] ),],1)"
   ]
  },
  {
   "cell_type": "markdown",
   "id": "d74bf0a3-f34d-4847-9b33-241d5e6e74a2",
   "metadata": {
    "tags": []
   },
   "source": [
    "2) Rarefying to the smallest sample."
   ]
  },
  {
   "cell_type": "code",
   "execution_count": null,
   "id": "64abb3e3-c41a-4a41-935c-2bd44004ef9d",
   "metadata": {},
   "outputs": [],
   "source": [
    "ps_rare = rarefy_even_depth(ps_final, sample.size=56, replace=FALSE, rngseed=123, verbose=FALSE)"
   ]
  },
  {
   "cell_type": "markdown",
   "id": "79c10037-0b4c-4613-bf82-6dbbef8f93c4",
   "metadata": {},
   "source": [
    "3) Aglomerate taxonomy at Class rank keeping the top 15 classes only."
   ]
  },
  {
   "cell_type": "code",
   "execution_count": null,
   "id": "9afd4152-80be-4b82-91e7-4c95bfe1bdf5",
   "metadata": {},
   "outputs": [],
   "source": [
    "psglom = tax_glom(ps_rare, \"Class\")\n",
    "top15 = names(sort(taxa_sums(psglom), decreasing=TRUE)[1:15])\n",
    "top15_rare_ps = prune_taxa(top15, psglom)"
   ]
  },
  {
   "cell_type": "markdown",
   "id": "8d76c3cb-0069-4835-8703-0b313958df01",
   "metadata": {},
   "source": [
    "### 2.4. Normalization by cumulative sum scaling (CSS) <a id='part2_4'/>"
   ]
  },
  {
   "cell_type": "markdown",
   "id": "3206beb1-25ba-4494-b7ef-100ea54effef",
   "metadata": {},
   "source": [
    "The third normalization method we are going to apply is CSS. To do so, we will use the implementation on the `microbiomeMarker` library.\n",
    "Cumulative sum scaling normalization calculates scaling factors as the cumulative sum of gene (or taxa) abundances up to a data-derived threshold. This method is based on the assumption that the count distributions in each sample are equivalent for low abundance genes up to a certain threshold. Only the segment of each sample's count distribution that is relatively invariant across samples is scaled by CSS."
   ]
  },
  {
   "cell_type": "markdown",
   "id": "ffed20e0-f647-4c44-a644-f807d6497dde",
   "metadata": {},
   "source": [
    "1) Normalizing the OTU counts in the `ps_final` object."
   ]
  },
  {
   "cell_type": "code",
   "execution_count": null,
   "id": "d1e2e3ac-8a76-4590-ac0b-6ac24cd3365b",
   "metadata": {},
   "outputs": [],
   "source": [
    "ps_CSS = normalize(ps_final, method=\"CSS\")"
   ]
  },
  {
   "cell_type": "markdown",
   "id": "ad3dcd0a-1c95-4634-a3fe-6cae15f17ee0",
   "metadata": {},
   "source": [
    "2) Aglomerate taxonomy at Class rank and keep the top 15 classes only."
   ]
  },
  {
   "cell_type": "code",
   "execution_count": null,
   "id": "cebb4d78-de0b-42ba-93af-b22f10c0d663",
   "metadata": {},
   "outputs": [],
   "source": [
    "psglom = tax_glom(ps_CSS, \"Class\")\n",
    "top15 = names(sort(taxa_sums(psglom), decreasing=TRUE)[1:15])\n",
    "top15_css_ps = prune_taxa(top15, psglom)"
   ]
  },
  {
   "cell_type": "markdown",
   "id": "7307f484-0570-44a4-9057-c31655567003",
   "metadata": {},
   "source": [
    "### 2.5. Computing alpha diversity indices <a id='part2_5'/>"
   ]
  },
  {
   "cell_type": "markdown",
   "id": "69538034-d95b-4b67-897b-0324952cad6a",
   "metadata": {},
   "source": [
    "Alpha diversity is a measure of species diversity in a particular area or an ecosystem. In terms of microbial ecology, analyzing the sample diversity of sequencing data is commonly the first step in assessing differences between microbial environments. Some of the most popular alpha diversity indices reported in microbial community analyses are Chao, abundance-based coverage estimators (ACE), Simpson, and Shannon-Weaver.\n",
    "\n",
    "Chao1 and ACE are nonparametric estimators that describe diversity as the max number of expected species in the sample (species richness). They consider the proportion of species that have been observed before (\"recaptured\") to those that are observed only once. Both Chao1 and ACE underestimate true richness at low sample sizes.\n",
    "\n",
    "\n",
    "On the other hand, Simpson and Shannon-Weaver, consider relative abundances and depends on both, species richness and the evenness (or equitableness), with which individuals are distributed among the different species. However, both metrics have specific biases. The Shannon-Weaver index places a greater weight on species richness, whereas the Simpson index considers evenness more than richness in its measurement. \n",
    "\n",
    "\n",
    "More discussion and examples illustrating how sample size and normalization methods can affect alpha diversity metrics in references [4](#reference_4) and [5](#reference_5). "
   ]
  },
  {
   "cell_type": "code",
   "execution_count": null,
   "id": "54f14fe5-8709-43ea-b331-1f7c5cf898b6",
   "metadata": {},
   "outputs": [],
   "source": [
    "options(repr.plot.width=12, repr.plot.height=3)\n",
    "\n",
    "### No normalization\n",
    "plot_richness(ps_final, x=\"env_label\", color=\"env_label\", title=\"No normalization\", measures=c(\"Observed\", \"Chao1\", \"ACE\", \"Shannon\", \"Simpson\")) + \n",
    "    geom_boxplot() + \n",
    "    theme_bw() + \n",
    "    scale_color_manual(values=c(\"#0a5032\", \"#a1be1f\")) + \n",
    "    labs(x='', color = \"Environment\")\n",
    "\n",
    "### Rarefaction\n",
    "plot_richness(ps_rare, x=\"env_label\", color=\"env_label\", title=\"Rarefaction\", measures=c(\"Observed\", \"Chao1\", \"ACE\", \"Shannon\", \"Simpson\")) + \n",
    "    geom_boxplot() + \n",
    "    theme_bw() + \n",
    "    scale_color_manual(values=c(\"#0a5032\", \"#a1be1f\")) + \n",
    "    labs(x='', color = \"Environment\")\n",
    "\n",
    "### Cumulative sum scaling\n",
    "plot_richness(ps_CSS, x=\"env_label\", color=\"env_label\", title=\"Cumulative sum scaling\", measures=c(\"Observed\", \"Chao1\", \"ACE\", \"Shannon\", \"Simpson\")) + \n",
    "    geom_boxplot() + \n",
    "    theme_bw() + \n",
    "    scale_color_manual(values=c(\"#0a5032\", \"#a1be1f\")) + \n",
    "    labs(x='', color=\"Environment\")"
   ]
  },
  {
   "cell_type": "markdown",
   "id": "05bb2e53-3e15-44a2-9e55-ee9a4428a29b",
   "metadata": {},
   "source": [
    "### 2.6. Community profile visualization <a id='part2_6'/>"
   ]
  },
  {
   "cell_type": "markdown",
   "id": "56ada147-2796-4ded-97b5-f949adaaf38a",
   "metadata": {},
   "source": [
    "Visualise the taxonomic profile in barplots at Class rank in two modes."
   ]
  },
  {
   "cell_type": "code",
   "execution_count": null,
   "id": "47c1abdc-6e9a-490a-8098-e24011372259",
   "metadata": {},
   "outputs": [],
   "source": [
    "options(repr.plot.width=10, repr.plot.height=4)\n",
    "\n",
    "### Proportions\n",
    "plot_bar(top_tss_ps, fill = \"Class\", title=\"Proportions\") + \n",
    "    theme(axis.text.x=element_blank(), axis.ticks.x=element_blank(), panel.background=element_rect(fill=NA), panel.grid.major=element_line(colour=\"#ebebeb\")) + \n",
    "    labs(x='')\n",
    "\n",
    "### Rarefaction\n",
    "plot_bar(top15_rare_ps, fill=\"Class\", title=\"Rarefaction\") + \n",
    "    theme(axis.text.x=element_blank(), axis.ticks.x=element_blank(), panel.background=element_rect(fill=NA), panel.grid.major=element_line(colour=\"#ebebeb\")) + \n",
    "    labs(x=NULL)\n",
    "\n",
    "### Cumulative sum scaling\n",
    "plot_bar(top15_css_ps, fill=\"Class\", title=\"Cumulative sum scaling\") + \n",
    "    theme(axis.text.x=element_blank(), axis.ticks.x=element_blank(), panel.background=element_rect(fill=NA), panel.grid.major=element_line(colour=\"#ebebeb\")) + \n",
    "    labs(x=NULL)"
   ]
  },
  {
   "cell_type": "markdown",
   "id": "597bf905-b018-4a82-ba1c-532646cdbfdd",
   "metadata": {},
   "source": [
    "By naked eye, we can see that the profiles looks quite different. Let's take a deeper look at some interesting Classes to check how the abundance change depending on the normalization method."
   ]
  },
  {
   "cell_type": "code",
   "execution_count": null,
   "id": "8d1ea87d-d700-4fd3-ab0c-03da555f0802",
   "metadata": {},
   "outputs": [],
   "source": [
    "options(repr.plot.width=12, repr.plot.height=2)\n",
    "\n",
    "### Proportions\n",
    "plot_bar(subset_taxa(top_tss_ps, Class=='Alphaproteobacteria' | Class=='Dinophyceae' | Class=='Thermoplasmata' ), fill = \"Class\", title=\"Proportions\") + \n",
    "    facet_wrap(~Class) + \n",
    "    scale_fill_manual(values=c(\"#18974c\",\"#d41645\",\"#f49e17\")) +\n",
    "    theme(axis.text.x=element_blank(), axis.ticks.x=element_blank(), panel.background=element_rect(fill=NA), panel.grid.major=element_line(colour=\"#ebebeb\")) + \n",
    "    labs(x=NULL)\n",
    "\n",
    "### Rarefaction\n",
    "plot_bar(subset_taxa(top15_rare_ps, Class=='Alphaproteobacteria' | Class=='Dinophyceae' | Class=='Thermoplasmata' ), fill=\"Class\", title=\"Rarefaction\") + \n",
    "    facet_wrap(~Class) + \n",
    "    scale_fill_manual(values=c(\"#18974c\",\"#d41645\",\"#f49e17\")) +\n",
    "    theme(axis.text.x=element_blank(), axis.ticks.x=element_blank(), panel.background=element_rect(fill=NA), panel.grid.major=element_line(colour=\"#ebebeb\")) + \n",
    "    labs(x=NULL)\n",
    "\n",
    "### Cumulative sum scaling\n",
    "plot_bar(subset_taxa(top15_css_ps, Class=='Alphaproteobacteria' | Class=='Dinophyceae' | Class=='Thermoplasmata' ), fill=\"Class\", title=\"Cumulative sum scaling\") + \n",
    "    facet_wrap(~Class) + \n",
    "    scale_fill_manual(values=c(\"#18974c\",\"#d41645\",\"#f49e17\")) +\n",
    "    theme(axis.text.x=element_blank(), axis.ticks.x=element_blank(), panel.background=element_rect(fill=NA), panel.grid.major=element_line(colour=\"#ebebeb\")) + \n",
    "    labs(x=NULL)"
   ]
  },
  {
   "cell_type": "markdown",
   "id": "4be89d30-1e85-451d-875e-f0b942a4a137",
   "metadata": {},
   "source": [
    "## Part 3. Comparative metagenomics at community-level: Beta diversity <a id='part3'/>"
   ]
  },
  {
   "cell_type": "markdown",
   "id": "78b8befa-2619-447b-8fe9-c8d4adba4d6c",
   "metadata": {},
   "source": [
    "Beta (β)-diversity is used in ecology to assess the heterogeneity of local communities. It is defined as the ratio between regional and local species diversity. In simpler terms, it calculates the number of species that are not the same in two different environments. \n",
    "\n",
    "Some of the most popular beta diversity measures in microbiome research include Bray-Curtis index (for compositional data), Jaccard index (for presence/absence data, ignoring abundance information), Aitchison distance (Euclidean distance for transformed abundances, aiming to avoid the compositionality bias), and the Unifrac distances (that use the phylogenetic tree information). Only some of the commonly used beta diversity measures are actual distances, therefore, the term dissimilarity or beta-diversity is commonly used. The workflow to assess β-diversity between groups of samples starts with calculating the diversity indices for each pair of samples. This results in a distance (or dissimilarity) matrix that is often used for ordination (e.g., principal coordinates analysis) and data exploration in microbiota data analysis ([6](#reference_6)).\n",
    "\n",
    "For statistical analysis, [adonis](https://www.rdocumentation.org/packages/vegan/versions/2.6-4/topics/adonis) and [betadisper](https://www.rdocumentation.org/packages/vegan/versions/2.6-4/topics/betadisper) methods are widely used together in β-diversity analyses. \n",
    "\n",
    "Adonis tests whether two or more groups have different compositions. Adonis calculates the squared deviations of each site to the centroid and then, performs significance tests using F-tests based on sequential sums of squares from permutations of the raw data. It can be seen as an ANOVA using distance matrices (analogous to MANOVA). A non significant p-value (p>0.05), means that there's no difference in **composition** between groups (null hypothesis of no difference in composition between groups).\n",
    "\n",
    "Betadisper tests if two or more groups are homogeneously dispersed in relation to their species in studied samples. This test can be done to see if one group has more compositional variance than another. The method use the distance matrix to calculate the multivariate dispersions (variances; average distance to centroids). Then we use group dispersions to perform an ANOVA test. ANOVA's p-value not significant (p>0.05) means that group **dispersions** are homogenous (null hypothesis of no difference in dispersion between groups).\n"
   ]
  },
  {
   "cell_type": "markdown",
   "id": "6f9250ff-0a36-434e-abe1-1bb5018e449d",
   "metadata": {},
   "source": [
    "1) Compute beta diversity using various methods to calculate distance, and perform principle components analysis ploting the first two axes. \n",
    "\n",
    "According to Pereira *et al.,* (2018)([7](#reference_7)), the best normalization method for metagenomic gene abundance (tested in TARA ocean samples) is CSS for large group sizes. For this reason, we will use this method to show beta-diversity. Using as a guide the steps described in ([8](#reference_8)), we will create a list of suitable distance methods, iterate through them, and display a combined plot. For a better visualization we are going to show the 95% confidence region with an ellipse."
   ]
  },
  {
   "cell_type": "code",
   "execution_count": null,
   "id": "ace268c3-ee4a-47ec-8050-56c509bc3380",
   "metadata": {},
   "outputs": [],
   "source": [
    "# Generating the methods list and discarding those that are not included in adonis methods list\n",
    "dist_methods = unlist(distanceMethodList)\n",
    "dist_methods = dist_methods[c(-(1:4),-(20:47))]\n",
    "\n",
    "# Iterating through the list to save the plot\n",
    "plist = vector(\"list\", length(dist_methods))\n",
    "names(plist) = dist_methods\n",
    "for( i in dist_methods ){\n",
    "    # Calculate distance matrix\n",
    "    iDist = distance(ps_CSS, method=i)\n",
    "    # Calculate ordination\n",
    "    iMDS  = ordinate(ps_CSS, \"MDS\", distance=iDist)\n",
    "    ## Make plot\n",
    "    # Don't carry over previous plot (if error, p will be blank)\n",
    "    p = NULL\n",
    "    # Create plot, store as temp variable, p\n",
    "    p = plot_ordination(ps_CSS, iMDS, color=\"env_label\")\n",
    "    # Add title to each plot\n",
    "    p = p + ggtitle(paste(\"MDS using distance method \", i, sep=\"\"))\n",
    "    # Save the graphic to file.\n",
    "    plist[[i]] = p\n",
    "}\n",
    "\n",
    "# Create a combined plot\n",
    "df = ldply(plist, function(x) x$data)\n",
    "names(df)[1] = \"distance\"\n",
    "p = ggplot(df, aes(Axis.1, Axis.2, color=env_label))\n",
    "p = p + geom_point(size=3, alpha=0.5)\n",
    "p = p + facet_wrap(~distance, scales=\"free\")\n",
    "p = p + ggtitle(\"MDS on various distance metrics for TARA ocean dataset\") + \n",
    "    stat_ellipse(level=0.95, type=\"norm\", geom=\"polygon\", alpha=0, aes(color=env_label)) + \n",
    "    theme_bw() + \n",
    "    scale_color_manual(values=c(\"#0a5032\", \"#a1be1f\")) + \n",
    "    labs(color = \"Environment\") \n",
    "\n",
    "options(repr.plot.width=12, repr.plot.height=10)\n",
    "p"
   ]
  },
  {
   "cell_type": "markdown",
   "id": "58a895b2-693a-41f7-822f-e8fe4bd4b926",
   "metadata": {},
   "source": [
    "2) Separation of the groups observed in some of the ordination plots could be due to location effect, dispersion effect, or both. To test the location effect (null hypothesis of no difference in composition between groups) we use a permanova implemented in the `vegan` library's `adonis` function. We will use the distance metric that best segregates the groups and determine whether the two groups of samples have different centroids."
   ]
  },
  {
   "cell_type": "code",
   "execution_count": null,
   "id": "bfac182b-ca31-4642-a31e-f0dfcf5f1508",
   "metadata": {},
   "outputs": [],
   "source": [
    "metadata = data.frame(sample_data(ps_CSS))\n",
    "css_beta = distance(ps_CSS, method=\"mountford\")\n",
    "adonis2(css_beta ~ env_label, data = metadata, perm=1e3)"
   ]
  },
  {
   "cell_type": "markdown",
   "id": "f09ac678-56c7-4834-9477-85d8bacf804d",
   "metadata": {},
   "source": [
    "<div class=\"alert alert-block alert-info\">\n",
    "<b>Tip:</b> P-value tells you whether or not this result was likely a result of chance (we use p<0.05 as significant).\n",
    "</div>"
   ]
  },
  {
   "cell_type": "markdown",
   "id": "a1dbbd65-7920-413c-b267-85a8b13597f5",
   "metadata": {},
   "source": [
    "3) Adonis assumes there is homogeneity of dispersion among groups. Let's test this assumption, to check whether the differences detected by adonis are due to variation in dispersion of the data. The strategy is to run a `betadisper` (also from the `vegan` library) to calculate variances and  evaluate if there's a significant variation between groups through an anova. `Betadisper` is a sister function to `adonis` to study the differences in dispersion within the same geometric framework."
   ]
  },
  {
   "cell_type": "code",
   "execution_count": null,
   "id": "8c415a72-f29a-4c9f-9eb9-44e77475f297",
   "metadata": {},
   "outputs": [],
   "source": [
    "bd = betadisper(css_beta, metadata$'env_label')\n",
    "anova(bd)"
   ]
  },
  {
   "cell_type": "markdown",
   "id": "b89f180e-ee44-4455-9e6b-81aa01164550",
   "metadata": {},
   "source": [
    "ANOVA's p-value not significant (p>0.05) means that group dispersions are homogenous (acept the null hypothesis of no difference in dispersion between groups). The general conclusion of `adonis` and `betadisper` is that our groups of samples (Surface and Mesopelagic zone water) are homogeneous on group dispersions (compositions vary similarly within the group) while having significantly different compositions between groups (according to `adonis` p<0.05)."
   ]
  },
  {
   "cell_type": "markdown",
   "id": "0f3ca322-4c41-4a45-be6c-cc53b1a84b55",
   "metadata": {},
   "source": [
    "<div class=\"alert alert-block alert-info\">\n",
    "<b>Tip:</b> Distance methods available in <code>distance</code> phyloseq function are listed in the object <code>distanceMethodList</code>. You can check such distance methods in detailed in the <code>vegdist</code> <a href=\"https://search.r-project.org/CRAN/refmans/vegan/html/vegdist.html\">documentation</a>\n",
    "</div>"
   ]
  },
  {
   "cell_type": "markdown",
   "id": "01750618-93de-4110-99f7-999be932a74a",
   "metadata": {},
   "source": [
    "## Part 4. Detection of differentially abundant taxa <a id='part4'/>"
   ]
  },
  {
   "cell_type": "markdown",
   "id": "7f9d2060-7d8d-4198-96d5-7580a4abe0f6",
   "metadata": {},
   "source": [
    "There are many approaches out there to detect differentially abundant taxa (or genes). Here we are using the method implemented in `SIAMCAT` library. `SIAMCAT` is an R package that puts together statistical functions to compare large-scale studies in order to detect microbial community composition changes due to environmental factors. Describing such associations in quantitative models has multiple applications, such as in predicting disease status based on microbiome data. In addition, the pipeline includes the generation of high-quality plots for visual inspection of results ([9](#reference_9)). There are multiple parameters that can be adjusted for better performance in each step of the analysis. However, in this exercise we are using default arguments with minimal tuning."
   ]
  },
  {
   "cell_type": "markdown",
   "id": "3ba5fe1a-2f0a-41be-9ab4-f6687d7acb97",
   "metadata": {},
   "source": [
    "### 4.1. Association testing <a id='part4_1'/>"
   ]
  },
  {
   "cell_type": "markdown",
   "id": "9671a0c5-5dcf-4710-a554-e22940644e01",
   "metadata": {},
   "source": [
    "1. Preparing the data. The input for `SIAMCAT` is a matrix with normalized data as relative abundances. We will use the phyloseq object generated in step [2.2.2](#part2_2_2) of this notebook and aggregate the data at genus level."
   ]
  },
  {
   "cell_type": "code",
   "execution_count": null,
   "id": "9af07d9f-f00b-444c-894b-f4d97ed4af87",
   "metadata": {},
   "outputs": [],
   "source": [
    "psglom = tax_glom(relab_ps, \"Genus\")"
   ]
  },
  {
   "cell_type": "markdown",
   "id": "b68c76e0-2307-47a4-8963-b76203560d0e",
   "metadata": {},
   "source": [
    "2. Creating the `SIAMCAT` object. We first need to create a label to set which group will be used as control for comparisons. We selected arbitrary Surface water as a case group and Mesopelagic layer as a control."
   ]
  },
  {
   "cell_type": "code",
   "execution_count": null,
   "id": "3f6e51d5-bf28-4278-9ff2-1b9d756d4998",
   "metadata": {},
   "outputs": [],
   "source": [
    "# Creating a siamcat label\n",
    "sc_label = create.label(meta=sample_data(psglom), label='env_label', case='Surface')\n",
    "\n",
    "# Creating the siamcat object\n",
    "siamcat_obj = siamcat(phyloseq=psglom, label=sc_label)"
   ]
  },
  {
   "cell_type": "markdown",
   "id": "b11c1d8f-7af7-4ba3-a2fd-bda3c5ef4b60",
   "metadata": {},
   "source": [
    "3. Filtering low-abundant features by abundance (threshold=0.001) and prevalence (threshold=0.05)."
   ]
  },
  {
   "cell_type": "code",
   "execution_count": null,
   "id": "bbc9bee9-66bd-44c7-8961-85d4b96cfeeb",
   "metadata": {},
   "outputs": [],
   "source": [
    "siamcat_obj = filter.features(siamcat_obj, filter.method='abundance', cutoff=1e-03)\n",
    "siamcat_obj = filter.features(siamcat_obj, filter.method='prevalence', cutoff=0.05, feature.type='filtered')"
   ]
  },
  {
   "cell_type": "markdown",
   "id": "3e260a2d-0042-4fc3-9e65-3c243c6373d4",
   "metadata": {},
   "source": [
    "4. Computing differentially abundant taxa on filtered object. The function computes for each species the significance using a non-parametric Wilcoxon test and different effect sizes for the association (e.g. AUC or fold change)."
   ]
  },
  {
   "cell_type": "code",
   "execution_count": null,
   "id": "597de76f-edd9-49bd-8339-4fc9e1ce01e0",
   "metadata": {},
   "outputs": [],
   "source": [
    "options(repr.plot.width=12, repr.plot.height=7)\n",
    "siamcat_obj = check.associations(siamcat_obj)\n",
    "association.plot(siamcat_obj, panels=c(\"fc\", \"prevalence\"), prompt = FALSE, verbose = 0)"
   ]
  },
  {
   "cell_type": "markdown",
   "id": "c80a25ad-265b-4586-a188-f8af9d22f15b",
   "metadata": {},
   "source": [
    "<div class=\"alert alert-block alert-info\">\n",
    "<b>Tip:</b> For significantly associated microbial features, the plot shows:\n",
    "    <ul>\n",
    "     <li>The abundances of the features across the two different classes (Surface layer vs. Mesopelagic zone water)</li>\n",
    "     <li>The significance of the enrichment calculated by a Wilcoxon test (after multiple hypothesis testing correction)</li>\n",
    "     <li>The generalized fold change of each feature</li>\n",
    "     <li>The prevalence shift between the two classes</li>\n",
    "    </ul>\n",
    "Adding \"auroc\" to the <code>panels</code> list, you can also visualize the Area Under the Receiver Operating Characteristics Curve (AU-ROC) as non-parametric effect size measure.\n",
    "</div>\n"
   ]
  },
  {
   "cell_type": "markdown",
   "id": "515c631f-8b8f-47d4-aa90-d1ec8758d9b9",
   "metadata": {},
   "source": [
    "5. Printing the taxonomic labels of differentially abudant OTUs. "
   ]
  },
  {
   "cell_type": "code",
   "execution_count": null,
   "id": "4de2de7b-26e5-422a-b89a-3e379c95aa23",
   "metadata": {},
   "outputs": [],
   "source": [
    "# The results table of differentially abundant OTUs are stored in associations(siamcat_obj)\n",
    "diff_otus = as.list(rownames(associations(siamcat_obj)[associations(siamcat_obj)$p.adj < 0.05, ]))\n",
    "\n",
    "# The taxonomic label per OTU is stored in tax_table(psglom)\n",
    "tax_table(psglom)[rownames(tax_table(psglom)) %in% diff_otus, ]"
   ]
  },
  {
   "cell_type": "markdown",
   "id": "f3c4ff24-114d-49de-b1d9-b94f0817f07a",
   "metadata": {},
   "source": [
    "### 4.2. Cofounder testing <a id='part4_2'/>"
   ]
  },
  {
   "cell_type": "markdown",
   "id": "3a06e0a6-e653-4c6b-8d73-ad111e361cef",
   "metadata": {},
   "source": [
    "1. Test the associated metadata variables for potential confounding influence. As many biological and technical factors beyond the primary phenotype of interest can influence microbiome composition, simple association studies may suffer confounding by other variables, which can lead to spurious results. Associations are visualized either as barplot or Q-Q plot, depending on the type of metadata. Additionally, it evaluates associations among metadata variables using conditional entropy and associations with the label using generalized linear models, producing a correlation heatmap and appropriate quantitative barplots, respectively."
   ]
  },
  {
   "cell_type": "code",
   "execution_count": null,
   "id": "3f96c334-d899-4d1a-a9fb-daaa703c6c2b",
   "metadata": {},
   "outputs": [],
   "source": [
    "suppressWarnings(check.confounders(siamcat_obj, fn.plot='conf_check.pdf'))"
   ]
  },
  {
   "cell_type": "markdown",
   "id": "fedb5262-214c-4845-a01e-a66f6f8733d3",
   "metadata": {},
   "source": [
    "<div class=\"alert alert-block alert-info\">\n",
    "<b>Tip:</b> The output file has been created in the current directory. You can open the PDF file in a new tab in this notebook by following this <a href=\"conf_check.pdf\">link</a>.\n",
    "    You will find the following plots:\n",
    "    <ul>\n",
    "      <li>First Plot: Conditional entropies for metadata variables. The conditional entropy check primarily serves to remove nonsensical variables from subsequent checks. Conditional entropy quantifies the unique information contained in one variable (row) respective to another (column). Identical variables and derived variables which share the exact same information will have a value of zero.</li>    \n",
    "      <li>Second plots: glm regression coefficients + significance + AU-ROCs for the statistical test.</li>\n",
    "      <li>Third plots (Q-Q plot, boxplot and barplots): Original confounder check descriptive stat plots. The function produces plot for each meta-variable. When the distributions looks very similar for both controls and cases, it is unlikely that such variable would confound the analyses.</li>\n",
    "      <li>Fourth plots: Variance explained by label versus variance explained by metadata plots. These plots show the variance explained by the label in comparison with the variance explained by the metadata variable for each individual feature. Variables with many features in the upper left corner might be confounding the label associations.</li>\n",
    "    </ul>\n",
    "</div>\n"
   ]
  },
  {
   "cell_type": "markdown",
   "id": "6ebdbefc-39a5-4d40-9fd8-8b8c9496fb88",
   "metadata": {},
   "source": [
    "### 4.3. Generation of a predictive model: Machine learning workflow <a id='part4_3'/>"
   ]
  },
  {
   "cell_type": "markdown",
   "id": "4cf8070c-5c9c-4de0-89b2-a18a830c954b",
   "metadata": {},
   "source": [
    "Another feature of `SIAMCAT` is a versatile but easy-to-use interface for the construction of machine learning meta-analysis models on the basis of microbial markers. The steps to follow include functions for data normalization, splitting the data into cross-validation folds, training the model, and making predictions based on cross-validation instances and the trained models. Such a model can be built on one dataset and then be applied on another, similarly processed holdout dataset. This might be of interest when comparing data from two different studies testing the same condition."
   ]
  },
  {
   "cell_type": "markdown",
   "id": "4291a3bb-bc92-4762-8ec7-696ff9ee8597",
   "metadata": {},
   "source": [
    "1. Data normalisation. `SIAMCAT` offers a few normalization approaches that can be useful for subsequent statistical modeling in the sense that they transform features in a way that can increase the accuracy of the resulting models. Importantly, these normalization techniques do not make use of any label information, and can thus be applied up front to the whole data set and outside of the following cross validation."
   ]
  },
  {
   "cell_type": "code",
   "execution_count": null,
   "id": "a68ff86c-9439-491a-83c5-3dc87fc99fa0",
   "metadata": {},
   "outputs": [],
   "source": [
    "siamcat_obj = normalize.features(\n",
    "    siamcat_obj, \n",
    "    norm.method='log.std',\n",
    "    norm.param=list(log.n0=1e-06, sd.min.q=0)\n",
    ")"
   ]
  },
  {
   "cell_type": "markdown",
   "id": "a1975ac8-82d7-43d0-b4f5-7a2e7a4c48cf",
   "metadata": {},
   "source": [
    "2. Prepare cross-validation. Cross validation is a technique to assess how well a ML model would generalize to external data by partionining the dataset into training and test sets. `SIAMCAT` greatly simplifies the set-up of cross-validation schemes, including stratification of samples or keeping samples inseperable based on metadata. Here, we split the dataset into 10 parts and then train a model on 9 of these parts and use the left-out part to test the model. The whole process is repeated 20 times."
   ]
  },
  {
   "cell_type": "code",
   "execution_count": null,
   "id": "fffc110e-7497-4d6e-91d9-50a6e9df8690",
   "metadata": {},
   "outputs": [],
   "source": [
    "siamcat_obj = create.data.split(siamcat_obj, num.folds=10, num.resample=10)"
   ]
  },
  {
   "cell_type": "markdown",
   "id": "2dae8028-2d8d-422b-9c7c-ccf5dcaf2bd8",
   "metadata": {},
   "source": [
    "3. Model training. The actual model training is performed using the function `train.model`. Again, multiple options for customization are available, ranging from the machine learning method to the measure for model selection or customizable parameter set for hyperparameter tuning. Here, we train a Lasso model ([10](#reference_10)). This step takes a couple of minutes to complete – set `verbose = T` if you want to see the progress."
   ]
  },
  {
   "cell_type": "code",
   "execution_count": null,
   "id": "1914806d-024e-4601-88f4-c4cfbc975d51",
   "metadata": {},
   "outputs": [],
   "source": [
    "siamcat_obj = train.model(siamcat_obj, method='lasso', verbose = F)"
   ]
  },
  {
   "cell_type": "markdown",
   "id": "a251abd4-5fa0-49d0-b637-865646215480",
   "metadata": {},
   "source": [
    "4. Make predictions. This function will automatically apply the models trained in cross validation to their respective test sets and aggregate the predictions across the whole data set."
   ]
  },
  {
   "cell_type": "code",
   "execution_count": null,
   "id": "ecf48ffc-5ffa-4e56-a80e-ee07d56ab067",
   "metadata": {},
   "outputs": [],
   "source": [
    "siamcat_obj = make.predictions(siamcat_obj, verbose = F)"
   ]
  },
  {
   "cell_type": "markdown",
   "id": "21c5906b-f1b4-4788-b1c6-d42eedf672bf",
   "metadata": {},
   "source": [
    "5. Model evaluation and plot. In the final part, we want to find out how well the model performed and which microbial markers had been selected in the model. In order to do so, we first calculate how well the predictions fit the real data using the function `evaluate.predictions`. The function produces two plots for model evaluation. The first plot shows the Receiver Operating Characteristic (ROC)-curves, the other the Precision-recall (PR)-curves for the different cross-validation repetitions."
   ]
  },
  {
   "cell_type": "code",
   "execution_count": null,
   "id": "b7de460e-9946-46a9-aff4-39f1363889f6",
   "metadata": {},
   "outputs": [],
   "source": [
    "siamcat_obj = evaluate.predictions(siamcat_obj)\n",
    "\n",
    "options(repr.plot.width=5, repr.plot.height=5)\n",
    "model.evaluation.plot(siamcat_obj, colours=\"#007c80\")"
   ]
  },
  {
   "cell_type": "markdown",
   "id": "f293d3b4-210a-4326-85d0-46dfe43756cb",
   "metadata": {},
   "source": [
    "6. Interpretation plot. After statistical models have been trained to distinguish Surface layer from Mesopelagic zone water, we will plot characteristics of the models (i.e. model coefficients or feature importance) alongside the input data aiding in understanding how/why the model works (or not)."
   ]
  },
  {
   "cell_type": "code",
   "execution_count": null,
   "id": "4b959876-8a35-4ff0-9018-f7a8df2e5471",
   "metadata": {},
   "outputs": [],
   "source": [
    "model.interpretation.plot(siamcat_obj, consens.thres = 0.5, fn.plot = 'interpretation_plot.pdf')"
   ]
  },
  {
   "cell_type": "markdown",
   "id": "a81de3a6-e659-4a03-9ece-372efbe19841",
   "metadata": {},
   "source": [
    "<div class=\"alert alert-block alert-info\">\n",
    "<b>Tip:</b> The output file has been created in the current directory, you can explore the content of the PDF file following this <a href=\"interpretation_plot.pdf\">link</a>.\n",
    "    The plots shows: \n",
    "    <ul>\n",
    "      <li>The median relative feature weight for selected features (barplot on the left)</li>\n",
    "      <li>The robustness of features (i.e. in how many of the models the specific feature has been selected)</li>\n",
    "      <li>The distribution of selected features across samples (central heatmap)</li>\n",
    "      <li>Which proportion of the weight of all different models are shown in the plot (boxplot on the right)</li>\n",
    "      <li>Distribution of metadata across samples (heatmap below)</li>\n",
    "    </ul>\n",
    "</div>"
   ]
  },
  {
   "cell_type": "markdown",
   "id": "119204e1-81d8-4d1d-8407-776ed7e1d4dc",
   "metadata": {},
   "source": [
    " ### References: <a id='refs'/></a>\n",
    "\n",
    "<a id=\"reference_1\">1.</a> Lynch, M., Neufeld, J. Ecology and exploration of the rare biosphere. Nat Rev Microbiol 13:217–229 (2015) [DOI:10.1038/nrmicro3400](https://doi.org/10.1038/nrmicro3400)\n",
    "    \n",
    "<a id=\"reference_2\">2.</a> McKnight, DT., Huerlimann, R., Bower, DS. et al. Methods for Normalizing Microbiome Data: An Ecological Perspective. Methods in Ecology and Evolution / British Ecological Society 10(3):389–400 (2019) [DOI:10.1111/2041-210X.13115](https://doi.org/10.1111/2041-210X.13115)\n",
    "\n",
    "<a id=\"reference_3\">3.</a> McMurdie, PJ., Holmes, S. Waste Not, Want Not: Why Rarefying Microbiome Data Is Inadmissible. PLoS Comput Biol 10(4):e1003531 (2014) [DOI:10.1371/journal.pcbi.1003531](https://doi.org/10.1371/journal.pcbi.1003531)\n",
    "\n",
    "<a id=\"reference_4\">4.</a> Willis, A. Rarefaction, Alpha Diversity, and Statistics. Front. Microbiol. Sec. Terrestrial Microbiology 10:2407 (2019) [DOI:10.3389/fmicb.2019.02407](https://doi.org/10.3389/fmicb.2019.02407)\n",
    "    \n",
    "<a id=\"reference_5\">5.</a> Kim, BR., Shin, J., Guevarra, R. et al. Deciphering Diversity Indices for a Better Understanding of Microbial Communities. J Microbiol Biotechnol 28;27(12):2089-2093 (2017) [DOI:10.4014/jmb.1709.09027](https://doi.org/10.4014/jmb.1709.09027)\n",
    "\n",
    "<a id=\"reference_6\">6.</a> Wagner, BD., Grunwald, GK., Zerbe, GO. et al. On the Use of Diversity Measures in Longitudinal Sequencing Studies of Microbial Communities. Front. Microbiol. 9:1037 (2018) [DOI:10.3389/fmicb.2018.01037](https://doi.org/10.3389/fmicb.2018.01037)\n",
    "    \n",
    "<a id=\"reference_7\">7.</a> Pereira, M., Wallroth, M., Jonsson, V. et al. Comparison of normalization methods for the analysis of metagenomic gene abundance data. BMC Genomics 19,274 (2018) [DOI:10.1186/s12864-018-4637-6](https://doi.org/10.1186/s12864-018-4637-6)\n",
    "    \n",
    "<a id=\"reference_8\">8.</a> McMurdie, P., Holmes, S. Tutorial of 2018: The distance function in phyloseq. [Available at website](https://joey711.github.io/phyloseq/distance.html)\n",
    "\n",
    "<a id=\"reference_9\">9.</a> Wirbel, J., Zych, K., Essex, M. et al. Microbiome meta-analysis and cross-disease comparison enabled by the SIAMCAT machine learning toolbox. Genome Biol 22:93 (2021) [DOI:10.1186/s13059-021-02306-1](https://doi.org/10.1186/s13059-021-02306-1)\n",
    "        \n",
    "<a id=\"reference_10\">10.</a> Tibshirani, R. Regression Shrinkage and Selection via the Lasso. Journal of the Royal Statistical Society. Series B (Methodological) 58(1):267-288 (1996) [DOI:10.1111/j.2517-6161.1996.tb02080.x](https://doi.org/10.1111/j.2517-6161.1996.tb02080.x)\n",
    "    \n",
    "Documentation and more MGnifyR code and exercises available [on GitHub](https://beadyallen.github.io/MGnifyR/) and [on rdrr site](https://rdrr.io/github/beadyallen/MGnifyR/f/vignettes/MGnifyR.Rmd)\n",
    "\n",
    "Phyloseq tutorials available [on GitHub](https://joey711.github.io/phyloseq/index.html)\n",
    "    \n",
    "Visit the [SIAMCAT documentation](https://siamcat.embl.de/)\n"
   ]
  },
  {
   "cell_type": "code",
   "execution_count": null,
   "id": "1312441c-2ce7-47bf-b4e7-7261a5b20bb0",
   "metadata": {},
   "outputs": [],
   "source": []
  }
 ],
 "metadata": {
  "kernelspec": {
   "display_name": "R",
   "language": "R",
   "name": "ir"
  },
  "language_info": {
   "codemirror_mode": "r",
   "file_extension": ".r",
   "mimetype": "text/x-r-source",
   "name": "R",
   "pygments_lexer": "r",
   "version": "4.2.2"
  }
 },
 "nbformat": 4,
 "nbformat_minor": 5
}
