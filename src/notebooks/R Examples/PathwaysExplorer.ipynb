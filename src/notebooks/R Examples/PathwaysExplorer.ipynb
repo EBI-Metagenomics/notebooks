{
 "cells": [
  {
   "cell_type": "raw",
   "id": "cc2f3a6d-1a10-4009-83a4-be33c708354e",
   "metadata": {},
   "source": [
    "---\n",
    "title: \"Pathways Visualization\"\n",
    "author: \"Alejandra Escobar (MGnify team) and Amartya Nambiar (GSoC - 2023)\"\n",
    "categories: [R]\n",
    "execute: \n",
    "  enabled: true\n",
    "---"
   ]
  },
  {
   "attachments": {},
   "cell_type": "markdown",
   "id": "e53e00db-b4ac-44f7-9671-a66a8cafd281",
   "metadata": {},
   "source": [
    "<div style=\"max-width:1200px\"><img src=\"../_resources/mgnify_banner.png\" width=\"100%\"></div>"
   ]
  },
  {
   "attachments": {},
   "cell_type": "markdown",
   "id": "521ada23-45b1-4747-bbf9-0a8a919475a0",
   "metadata": {},
   "source": [
    "<img src=\"../_resources/mgnify_logo.png\" width=\"200px\">\n",
    "\n",
    "# Pathways Visualization\n",
    "\n",
    "In this notebook we aim to demonstrate how the MGnifyR tool can be used to fetch functional annotation results generated through the MGnify metagenomic analyisis pipelines. Then we show how to generate the pathways visualization using [Pathview](https://bioconductor.org/packages/release/bioc/html/pathview.html) in R.\n",
    "\n",
    "[MGnifyR](http://github.com/beadyallen/mgnifyr) is a library that provides a set of tools for easily accessing and processing MGnify data in R, making queries to MGnify databases through the [MGnify API](https://www.ebi.ac.uk/metagenomics/api/v1/). \n",
    "The benefit of MGnifyR is that data can either be fetched in tsv format or be directly combined in a phyloseq object to run an analysis in a custom workflow.\n",
    "\n",
    "This is an interactive code notebook (a Jupyter Notebook). To run this code, click into each cell and press the ▶ button in the top toolbar, or press shift+enter\n"
   ]
  },
  {
   "attachments": {},
   "cell_type": "markdown",
   "id": "7267c7c1-7314-4016-8a6d-95af18a9de75",
   "metadata": {
    "tags": []
   },
   "source": [
    "## Contents\n",
    "\n",
    "- [Drawing presence/absence KOs for one metagenomic sample](#part1)\n",
    "    - [1.1. Fetching data from MGnify](#part1_1)\n",
    "    - [1.2. Selecting the most complete pathways](#part1_2)\n",
    "    - [1.3. Ready to draw!](#part1_3)\n",
    "- [Resources and Documentation](#part2)"
   ]
  },
  {
   "cell_type": "code",
   "execution_count": null,
   "id": "9c615182-9d0c-4233-b783-5d2ca0c35302",
   "metadata": {
    "tags": [],
    "vscode": {
     "languageId": "r"
    }
   },
   "outputs": [],
   "source": [
    "# Loading libraries:\n",
    "suppressMessages({\n",
    "    library(ALDEx2)\n",
    "    library(data.table)\n",
    "    library(dplyr)\n",
    "    library(IRdisplay)\n",
    "    library(KEGGREST)\n",
    "    library(MGnifyR)   \n",
    "    library(pathview)\n",
    "    library(tidyjson)\n",
    "    library(IRdisplay)\n",
    "})\n",
    "source(\"lib/variable_utils.r\")\n",
    "source(\"lib/kegg_pathways_utils.r\")\n",
    "\n",
    "display_markdown(file = '../_resources/mgnifyr_help.md')"
   ]
  },
  {
   "cell_type": "code",
   "execution_count": null,
   "id": "41d801f4-3804-4800-b88b-2aa3bf34a315",
   "metadata": {
    "tags": [],
    "vscode": {
     "languageId": "r"
    }
   },
   "outputs": [],
   "source": [
    "# Create your session mgnify_client object\n",
    "mg = mgnify_client(usecache = T, cache_dir = '/home/jovyan/.mgnify_cache')"
   ]
  },
  {
   "cell_type": "code",
   "execution_count": null,
   "id": "cccb4bf9-3580-467a-b640-d8b6ecd453c6",
   "metadata": {
    "tags": [],
    "vscode": {
     "languageId": "r"
    }
   },
   "outputs": [],
   "source": [
    "# Setting tables and figures size to display (these will be reset later):\n",
    "options(repr.matrix.max.cols=150, repr.matrix.max.rows=500)\n",
    "options(repr.plot.width=4, repr.plot.height=4)"
   ]
  },
  {
   "attachments": {},
   "cell_type": "markdown",
   "id": "0d9d8852-e11d-4a9e-8c5c-4aa4bcb0a6ac",
   "metadata": {},
   "source": [
    "## Drawing presence/absence KOs for one metagenomic sample <a id='part1'/>"
   ]
  },
  {
   "attachments": {},
   "cell_type": "markdown",
   "id": "118909bd-fc1b-4d21-9a8f-23639f316b12",
   "metadata": {},
   "source": [
    "### 1.1. Fetching data from MGnify & Pathways Selection <a id='part1_1'/>"
   ]
  },
  {
   "cell_type": "code",
   "execution_count": null,
   "id": "af60a905-8e8d-47c0-9e68-86266147c076",
   "metadata": {
    "tags": [],
    "vscode": {
     "languageId": "r"
    }
   },
   "outputs": [],
   "source": [
    "PATHWAY_STUDY_IDS <- get_variable_from_link_or_input('PATHWAY_STUDY_IDS', name =  'Study Accession', default = 'MGYS00006180,MGYS00006178')\n",
    "PATHWAY_STUDY_IDS <- c(strsplit(PATHWAY_STUDY_IDS, \",\")[[1]])\n",
    "print(paste(\"Using\", PATHWAY_STUDY_IDS, \"as Study Accession\"))"
   ]
  },
  {
   "cell_type": "code",
   "execution_count": null,
   "id": "463d820c-ab72-43ab-90a4-660ba3d789ab",
   "metadata": {
    "tags": [],
    "vscode": {
     "languageId": "r"
    }
   },
   "outputs": [],
   "source": [
    "# Custom Pathways Selection\n",
    "\n",
    "# Most general pathways include\n",
    "# Glycolysis / Gluconeogenesis, Citrate cycle (TCA cycle), Pentose phosphate pathway, \n",
    "# Fatty acid biosynthesis, Pyrimidine metabolism, Oxidative phosphorylation\n",
    "\n",
    "CUSTOM_PATHWAY_IDS <- PathwaysSelection()"
   ]
  },
  {
   "attachments": {},
   "cell_type": "markdown",
   "id": "51daffcc-da2e-4fb3-a5f0-b1beff019c16",
   "metadata": {},
   "source": [
    "1. Fetching the analysis accession list using the study accessions. "
   ]
  },
  {
   "cell_type": "code",
   "execution_count": null,
   "id": "27314d41-e570-4a4e-b62c-1f2f7daa0998",
   "metadata": {
    "tags": [],
    "vscode": {
     "languageId": "r"
    }
   },
   "outputs": [],
   "source": [
    "output <- capture.output({\n",
    "  all_accessions <- mgnify_analyses_from_studies(mg, PATHWAY_STUDY_IDS)\n",
    "  all_metadata <- mgnify_get_analyses_metadata(mg, all_accessions)\n",
    "})"
   ]
  },
  {
   "attachments": {},
   "cell_type": "markdown",
   "id": "26d69fc9-88cd-479a-a741-ec0dadd7d5ff",
   "metadata": {},
   "source": [
    "2. Keeping just the first analysis accession to fetch the kegg orthologs count table from the MGnify API and transform from JSON to matrix."
   ]
  },
  {
   "cell_type": "code",
   "execution_count": null,
   "id": "d3333a89-0814-4900-ab64-a72cd8d51ab4",
   "metadata": {
    "tags": [],
    "vscode": {
     "languageId": "r"
    }
   },
   "outputs": [],
   "source": [
    "accession = head(all_accessions, 1)\n",
    "ko_loc = paste0('analyses/',accession,'/kegg-orthologs')"
   ]
  },
  {
   "cell_type": "code",
   "execution_count": null,
   "id": "c4187a5b-46dd-428f-89dc-22c22b4128a5",
   "metadata": {
    "tags": [],
    "vscode": {
     "languageId": "r"
    }
   },
   "outputs": [],
   "source": [
    "ko_json = mgnify_retrieve_json(mg, path = ko_loc)\n",
    "ko_data = as.data.frame(ko_json %>% spread_all)[ , c(\"attributes.accession\", \"attributes.count\")]\n",
    "ko_data = data.frame(ko_data, row.names=1)\n",
    "colnames(ko_data)[1] = 'counts'\n",
    "ko_matrix = data.matrix(ko_data)\n",
    "head(ko_matrix, 3)"
   ]
  },
  {
   "attachments": {},
   "cell_type": "markdown",
   "id": "b56a3bf5-e5fd-4879-8020-e17d268ac2e3",
   "metadata": {},
   "source": [
    "3. Fetch the modules completeness table and filter out completeness < 100%."
   ]
  },
  {
   "cell_type": "code",
   "execution_count": null,
   "id": "663328dc-ca2b-476c-944e-5c18a4cf1160",
   "metadata": {
    "tags": [],
    "vscode": {
     "languageId": "r"
    }
   },
   "outputs": [],
   "source": [
    "comp_loc = paste0('analyses/',accession,'/kegg-modules')\n",
    "ko_comp_json = mgnify_retrieve_json(mg, path = comp_loc)\n",
    "ko_comp = as.data.frame(ko_comp_json %>% spread_all)\n",
    "modules = ko_comp[ko_comp$attributes.completeness == 100,][, c(\"attributes.accession\")]\n",
    "head(modules)"
   ]
  },
  {
   "attachments": {},
   "cell_type": "markdown",
   "id": "af6e433a-9211-4496-8ae7-23a6f923d50e",
   "metadata": {},
   "source": [
    "---"
   ]
  },
  {
   "attachments": {},
   "cell_type": "markdown",
   "id": "2d72b9bd-e10d-439a-86c2-6a477f9d41cb",
   "metadata": {},
   "source": [
    "\n",
    "### 1.2. Selecting the most complete pathways <a id='part1_2'/>"
   ]
  },
  {
   "cell_type": "code",
   "execution_count": null,
   "id": "090b0acc-3b08-4e41-99c1-32ea502e37d4",
   "metadata": {
    "tags": [],
    "vscode": {
     "languageId": "r"
    }
   },
   "outputs": [],
   "source": [
    "# Setting up function that collects KEGG pathways for a given list of IDs, excluding chemical structure & global maps\n",
    "\n",
    "collect_pathways <- function(ids_list) {\n",
    "    pathways = list()\n",
    "    for (id in ids_list) { \n",
    "        current_pathway = as.list(keggLink(\"pathway\", id))\n",
    "        for (index in grep(\"map\", current_pathway)) {        \n",
    "            clean_id = gsub(\"*path:\", \"\", current_pathway[index])\n",
    "            # Discarding chemical structure (map010XX), global (map011XX), and overview (map012XX) maps\n",
    "            prefix = substring(clean_id, 1, 6)\n",
    "            if(is.na(match(\"map010\", prefix)) & is.na(match(\"map011\", prefix)) & is.na(match(\"map012\", prefix)) ){\n",
    "                pathways = append(pathways, clean_id)\n",
    "            }\n",
    "        }\n",
    "    }\n",
    "    return(pathways)\n",
    "}"
   ]
  },
  {
   "attachments": {},
   "cell_type": "markdown",
   "id": "a49273e8-71f7-49ca-afd5-120ae9616e4c",
   "metadata": {},
   "source": [
    "1. Now we need to collect the list of template pathways where these complete modules can be draw. This step takes less than 1 minute to run."
   ]
  },
  {
   "cell_type": "code",
   "execution_count": null,
   "id": "6d670a2a-4cc1-4a55-848e-25208c20f2ad",
   "metadata": {
    "tags": [],
    "vscode": {
     "languageId": "r"
    }
   },
   "outputs": [],
   "source": [
    "md_pathways = collect_pathways(modules)\n",
    "head(md_pathways)"
   ]
  },
  {
   "attachments": {},
   "cell_type": "markdown",
   "id": "6beb53ae-db68-4fe4-806e-07c45d82faf3",
   "metadata": {},
   "source": [
    "2. In order to draw the most complete pathways maps, we will use the list of templates we obtained in the previous step and select only pathways having all their constituent modules."
   ]
  },
  {
   "cell_type": "code",
   "execution_count": null,
   "id": "c94eff24-8e52-497b-bd94-55a0aa08673b",
   "metadata": {
    "tags": [],
    "vscode": {
     "languageId": "r"
    }
   },
   "outputs": [],
   "source": [
    "# Counting the number of modules we have in each pathway\n",
    "our_pathways_counts = list()\n",
    "for (path_element in md_pathways) {\n",
    "    if (path_element %in% names(our_pathways_counts)) {\n",
    "        new_value = our_pathways_counts[[path_element]] + 1\n",
    "        our_pathways_counts[path_element] = new_value       \n",
    "    } else {\n",
    "        our_pathways_counts[path_element] = 1 \n",
    "    }\n",
    "}\n",
    "\n",
    "# Counting the number of modules expected in each pathway\n",
    "u_pathways = unique(md_pathways)\n",
    "exp_pathways_counts = list()\n",
    "for (path in u_pathways) {\n",
    "    mod_count = length(as.list(keggLink(\"module\", path)))\n",
    "    exp_pathways_counts[path] = mod_count \n",
    "}\n",
    "\n",
    "# Selecting the pathways having all their constituent modules. We remove the 'map' prefix as pathview doesn't like it\n",
    "to_draw = list()\n",
    "for (pathway in names(our_pathways_counts)) {\n",
    "    our_value = our_pathways_counts[[pathway]]\n",
    "    exp_value = exp_pathways_counts[[pathway]]\n",
    "    ratio =  our_value / exp_value\n",
    "    if (ratio == 1) {\n",
    "        nude_id =  gsub(\"map\", \"\", pathway)\n",
    "        to_draw = append(to_draw, nude_id)   \n",
    "    }\n",
    "}\n",
    "\n",
    "\n",
    "# Adding the custom pathways to to_draw if not present already\n",
    "for (pathway in CUSTOM_PATHWAY_IDS){\n",
    "    if (!(pathway %in% to_draw)) {\n",
    "    to_draw = append(to_draw, pathway)\n",
    "        }\n",
    "    }"
   ]
  },
  {
   "cell_type": "code",
   "execution_count": null,
   "id": "52e8eba1-55ad-49b3-8e20-2d11aa9610b9",
   "metadata": {
    "tags": [],
    "vscode": {
     "languageId": "r"
    }
   },
   "outputs": [],
   "source": [
    "# printing name of the pathways to be drawn\n",
    "for (pathway in to_draw){\n",
    "    print(paste(pathway, \"-->\", get_pathway_info(pathway)[1],\" : \",get_pathway_info(pathway)[2], sep=\" \"))\n",
    "}"
   ]
  },
  {
   "attachments": {},
   "cell_type": "markdown",
   "id": "bfd4f6d5-bc21-4859-a51b-81cf56b506ca",
   "metadata": {},
   "source": [
    "---"
   ]
  },
  {
   "attachments": {},
   "cell_type": "markdown",
   "id": "49eac5da-6ebd-45a9-9b08-5d5bda805049",
   "metadata": {},
   "source": [
    "### 1.3. Ready to draw! <a id='part1_3'/>"
   ]
  },
  {
   "attachments": {},
   "cell_type": "markdown",
   "id": "fb17a0f6-3c46-4a5f-90d1-ab67703a153a",
   "metadata": {},
   "source": [
    "1. As we are plotting absence/presence, we set the number of bins = 2, the scale in one direction, and use 1 as limit.\n",
    "\n",
    "Takes a couple of  minutes depending on the number of pathways "
   ]
  },
  {
   "cell_type": "code",
   "execution_count": null,
   "id": "ca4ef359-4747-4b4e-863f-d7e463f3fbd2",
   "metadata": {
    "tags": [],
    "vscode": {
     "languageId": "r"
    }
   },
   "outputs": [],
   "source": [
    "suppressMessages({\n",
    "for (p in to_draw) {\n",
    "    pathview(gene.data = ko_matrix, \n",
    "             species = \"ko\", \n",
    "             pathway.id = p, \n",
    "             bins=c(2, 2), \n",
    "             both.dirs = FALSE, \n",
    "             limit = c(1,1), \n",
    "             mid = c(\"#ffffff\" , \"#ffffff\"), \n",
    "             high = c(\"#02b3ad\" , \"#02b3ad\")\n",
    "    )\n",
    "}\n",
    "})"
   ]
  },
  {
   "attachments": {},
   "cell_type": "markdown",
   "id": "0b79f98d-b830-4887-9594-b9a7831f896b",
   "metadata": {},
   "source": [
    "2. Clearing the current working directory and Displaying all the generated figures that are stored at the `pathway_plots/` directory. "
   ]
  },
  {
   "cell_type": "code",
   "execution_count": null,
   "id": "028f8259-728f-4d7e-9504-701383a19b08",
   "metadata": {
    "tags": [],
    "vscode": {
     "languageId": "r"
    }
   },
   "outputs": [],
   "source": [
    "generatePathwayPlots()"
   ]
  },
  {
   "attachments": {},
   "cell_type": "markdown",
   "id": "5740ffb7-8856-4d70-839c-ebd3b67cacd0",
   "metadata": {},
   "source": [
    "---"
   ]
  },
  {
   "attachments": {},
   "cell_type": "markdown",
   "id": "30f91f74-db78-4796-8958-669bed5472b9",
   "metadata": {
    "tags": []
   },
   "source": [
    "## Resources and Documentation<a id='part2'/>\n",
    "\n",
    "#### **MGnify**: \n",
    "- [https://docs.mgnify.org/src/docs/analysis.html#assembly-analysis-pipeline](https://docs.mgnify.org/src/docs/analysis.html#assembly-analysis-pipeline) - Description of the latest MGnify analysis pipeline and the tools it uses.\n",
    "- [https://academic.oup.com/nar/article/48/D1/D570/5614179](https://academic.oup.com/nar/article/48/D1/D570/5614179) - This paper highlights the platform's functionalities for metagenomic data assembly and analysis. It also describes he implementation of KEGG modules in MGnify.\n",
    "\n",
    "#### **Pathview**: \n",
    "- The official documentation for Pathview, a tool for pathway-based data integration and visualization. It provides an overview of the tool and explains how to use it effectively. \n",
    "- You can find more information at [https://pathview.uncc.edu/overview#kegg_view](https://pathview.uncc.edu/overview#kegg_view) .\n",
    "\n",
    "\n",
    "#### **KEGGREST**\n",
    "- KEGGREST is a Bioconductor package that provides programmatic access to the KEGG database. \n",
    "- More about KEGGREST at [http://www.bioconductor.org/packages/release/bioc/vignettes/KEGGREST/inst/doc/KEGGREST-vignette.html](http://www.bioconductor.org/packages/release/bioc/vignettes/KEGGREST/inst/doc/KEGGREST-vignette.html)\n",
    "\n"
   ]
  }
 ],
 "metadata": {
  "kernelspec": {
   "display_name": "R (mgnify-r-env)",
   "language": "R",
   "name": "conda-env-mgnify-r-env-r"
  },
  "language_info": {
   "codemirror_mode": "r",
   "file_extension": ".r",
   "mimetype": "text/x-r-source",
   "name": "R",
   "pygments_lexer": "r",
   "version": "4.2.2"
  }
 },
 "nbformat": 4,
 "nbformat_minor": 5
}
