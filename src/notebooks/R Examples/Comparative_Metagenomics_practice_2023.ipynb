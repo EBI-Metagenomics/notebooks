{
 "cells": [
  {
   "cell_type": "raw",
   "id": "d67cf0fc-4624-4036-a54a-7dc67a7f3369",
   "metadata": {
    "tags": []
   },
   "source": [
    "---\n",
    "title: \"Metagenomics bioinformatics at MGnify course, 2023: Comparative Metagenomics practice session\"\n",
    "author:\n",
    "  - name: Alejandra Escobar\n",
    "    affiliation:\n",
    "      - id: ebi-emg\n",
    "        name: MGnify team at EMBL-EBI\n",
    "categories: [R]\n",
    "execute: \n",
    "  eval: false\n",
    "---"
   ]
  },
  {
   "cell_type": "markdown",
   "id": "f3a383f6-829a-43b2-87ba-159d634fc2ce",
   "metadata": {},
   "source": [
    "<div style=\"max-width:1200px\"><img src=\"../_resources/mgnify_banner.png\" width=\"100%\"></div>"
   ]
  },
  {
   "cell_type": "markdown",
   "id": "9d8bedac-2993-42f4-a71e-b689466bd462",
   "metadata": {
    "tags": []
   },
   "source": [
    "<img src=\"../_resources/mgnify_logo.png\" width=\"200px\">\n",
    "\n",
    "[MGnifyR](http://github.com/beadyallen/mgnifyr) is a library that provides a set of tools for easily accessing and processing MGnify data in R, making queries to MGnify databases through the [MGnify API](https://www.ebi.ac.uk/metagenomics/api/v1/). \n",
    "The benefits of MGnifyR are that data can either be fetched in tsv format or be directly combined in a phyloseq object to run an analysis in a custom workflow.\n",
    "\n",
    "This is an interactive code notebook (a Jupyter Notebook). To run this code, click into each cell and press the ▶ button in the top toolbar, or press shift+enter\n",
    "\n",
    "# Metagenomics bioinformatics at MGnify 2023\n",
    "\n",
    "## Comparative metagenomics (practical session)\n",
    "\n",
    "### Normalization methods, alpha & beta diversity, and differentially abundant features\n",
    "\n",
    "In this notebook we aim to demonstrate how the MGnifyR tool can be used to fetch data and metadata of a MGnify metagenomic analyisis. Then we show diversity metrics calculus and two methods to identify differentially abundant features using taxonomic and functional profiles generated through the [MGnify v5.0 pipeline](https://doi.org/10.1093/nar/gkac1080) for metagenomic assemblies, as shown in the workflow schema below.\n"
   ]
  },
  {
   "cell_type": "markdown",
   "id": "8f00ad96-d651-4516-babc-42a5a5006f36",
   "metadata": {
    "tags": []
   },
   "source": [
    "<figure>\n",
    "  <img src=\"https://www.ebi.ac.uk/metagenomics/static/5e55649e459d5f26ee6c.png\" alt=\"Alt Text\" width=\"800px\">\n",
    "  <figcaption>Mgnify assembly analysis pipeline v5.0</figcaption>\n",
    "</figure>"
   ]
  },
  {
   "cell_type": "markdown",
   "id": "047933f6-06fc-461d-8873-de5715360e76",
   "metadata": {
    "tags": []
   },
   "source": [
    "## Contents\n",
    "- [Part 1. Fetching data and preprocessing](#part1)\n",
    "  - [1.1. Fetch the MGnify Analyses accession](#part1_1)\n",
    "  - [1.2. Explore and filter samples by metadata](#part1_2)\n",
    "  - [1.3. Converting into phyloseq object](#part1_3)\n",
    "- [Part 2. Normalization, alpha diversity indices and taxonomic profiles visualization](#part2)\n",
    "   - [2.1. Cleaning the OTUs matrix](#part2_1)\n",
    "   - [2.2. Normalization methods (relative abundance, rarefaction, and CSS)](#part2_2)\n",
    "   - [2.3. Computing alpha diversity indices](#part2_3)\n",
    "- [Part 3. Comparative metagenomics at community-level: Beta diversity](#part3)\n",
    "- [Part 4. Detection of differentially abundant taxa](#part4)\n",
    "    - [4.1. Association testing](#part4_1)\n",
    "    - [4.2. Cofounder testing](#part4_2)\n",
    "- [Part 5. Detection of differentially abundant functions](#part5)\n",
    "    - [5.1. Fetching KO tables from MGnify and formatting the condition label](#part5_1)\n",
    "    - [5.2. Generating differentially abundance count tables](#part5_2)\n",
    "    - [5.3. Selecting pathways to draw](#part5_3)\n",
    "    - [5.4. Drawing pathways!](#part5_4)\n",
    "- [References](#refs)"
   ]
  },
  {
   "cell_type": "code",
   "execution_count": null,
   "id": "c4900c9e-7d78-47f2-bb5f-f9d6d0ba0695",
   "metadata": {
    "tags": []
   },
   "outputs": [],
   "source": [
    "# Loading libraries:\n",
    "suppressMessages({    \n",
    "    library(ALDEx2)\n",
    "    library(data.table)\n",
    "    library(dplyr)\n",
    "    library(ggplot2)\n",
    "    library(IRdisplay)\n",
    "    library(KEGGREST)\n",
    "    library(metagenomeSeq)\n",
    "    library(microbiomeMarker)\n",
    "    library(MGnifyR)   \n",
    "    library(pathview)\n",
    "    library(phyloseq)\n",
    "    library(plyr)\n",
    "    library(SIAMCAT)\n",
    "    library(stringr)\n",
    "    library(tidyjson)\n",
    "    library(tidyverse)\n",
    "    library(vegan)\n",
    "})"
   ]
  },
  {
   "cell_type": "code",
   "execution_count": null,
   "id": "9a54eed0-81ca-48ac-afb5-86f8a1fce9bc",
   "metadata": {
    "tags": []
   },
   "outputs": [],
   "source": [
    "# Setting tables and figures size to display (these will be reset later):\n",
    "options(repr.matrix.max.cols=150, repr.matrix.max.rows=200)\n",
    "options(repr.plot.width=4, repr.plot.height=4)"
   ]
  },
  {
   "cell_type": "code",
   "execution_count": null,
   "id": "3a4429ca-a8a6-416b-aea9-4720277e9048",
   "metadata": {
    "tags": []
   },
   "outputs": [],
   "source": [
    "# Setting up functions\n",
    "collect_pathways = function(ids_list) {\n",
    "    pathways = list()\n",
    "    for (id in ids_list) { \n",
    "        current_pathway = as.list(keggLink(\"pathway\", id))\n",
    "        for (index in grep(\"map\", current_pathway)) {        \n",
    "            clean_id = gsub(\"*path:\", \"\", current_pathway[index])\n",
    "            # Discarding chemical structure (map010XX), global (map011XX), and overview (map012XX) maps\n",
    "            prefix = substring(clean_id, 1, 6)\n",
    "            if(is.na(match(\"map010\", prefix)) & is.na(match(\"map011\", prefix)) & is.na(match(\"map012\", prefix)) ){\n",
    "                pathways = append(pathways, clean_id)\n",
    "            }\n",
    "        }\n",
    "    }\n",
    "    return(pathways)\n",
    "}"
   ]
  },
  {
   "cell_type": "code",
   "execution_count": null,
   "id": "fba3ca71-917c-4e98-b5d3-9e019133ade9",
   "metadata": {
    "tags": []
   },
   "outputs": [],
   "source": [
    "# Create your session mgnify_client object. For info, \"jovyan\" is always the user for these Jupyter Docker images. Jovyan as in jovian (a being from the planet Jupiter), but from Jupyter!\n",
    "mg = mgnify_client(usecache = T, cache_dir = '/home/jovyan/.mgnify_cache')"
   ]
  },
  {
   "cell_type": "markdown",
   "id": "09672213-271c-4bcd-93d6-4eda159cb7a9",
   "metadata": {},
   "source": [
    "## Part 1. Fetching data and preprocessing <a id='part1'/>"
   ]
  },
  {
   "cell_type": "markdown",
   "id": "7f5b4814-c2cf-47fb-ab9e-9a1d8a97c958",
   "metadata": {},
   "source": [
    "In this example we are going to fetch MGnify analysis results and metadata for TARA ocean metagenomic study corresponding to size fractions for prokaryotes ([MGYS00002008](https://www.ebi.ac.uk/metagenomics/studies/MGYS00002008#overview)).\n",
    "Find more information about the [TARA Ocean Project.](https://fondationtaraocean.org/en/expedition/tara-oceans/)"
   ]
  },
  {
   "cell_type": "markdown",
   "id": "d1c71880-51ec-434f-8dbf-7abe3d63c366",
   "metadata": {},
   "source": [
    "### 1.1. Fetch the MGnify Analyses accession <a id='part1_1'/>"
   ]
  },
  {
   "cell_type": "markdown",
   "id": "4540955c-de1a-48b4-a407-215c965dc876",
   "metadata": {},
   "source": [
    "1. The first step is to retrieve the analysis accession list and metadata."
   ]
  },
  {
   "cell_type": "code",
   "execution_count": null,
   "id": "a5359e75-f33f-4e90-8b33-305106c90936",
   "metadata": {
    "tags": []
   },
   "outputs": [],
   "source": [
    "tara_all = mgnify_analyses_from_studies(mg, 'MGYS00002008')\n",
    "metadata = mgnify_get_analyses_metadata(mg, tara_all)"
   ]
  },
  {
   "cell_type": "markdown",
   "id": "9a3858ee-6510-4e76-8627-08c423032e59",
   "metadata": {},
   "source": [
    "<div class=\"alert alert-block alert-info\">\n",
    "<b>Tip:</b> In case you are interested in running the comparative metagenomic analysis using data from different studies in MGnify, you can adapt the following commands:\n",
    "</div>\n",
    " \n",
    "    \n",
    "```R\n",
    "analyses_accessions = mgnify_analyses_from_studies(mg, c(\"MGYS1\",\"MGYS2\"))\n",
    "\n",
    "metadata = mgnify_get_analyses_metadata(mg, analyses_accessions)\n",
    "```"
   ]
  },
  {
   "cell_type": "markdown",
   "id": "5df0092b-96e7-4857-8e45-e96adc81929d",
   "metadata": {},
   "source": [
    "### 1.2. Explore and filter samples by metadata <a id='part1_2'/>"
   ]
  },
  {
   "cell_type": "markdown",
   "id": "c2a8d114-4810-4d6c-8d98-c0ce44f7a5bd",
   "metadata": {},
   "source": [
    "We want to keep only **metagenomic** samples (not amplicon) of 'surface water layer ([ENVO:00002042](https://www.ebi.ac.uk/ols/ontologies/envo/terms?iri=http%3A%2F%2Fpurl.obolibrary.org%2Fobo%2FENVO_00002042))' and 'mesopelagic zone ([ENVO:00000213](https://www.ebi.ac.uk/ols/ontologies/envo/terms?iri=http%3A%2F%2Fpurl.obolibrary.org%2Fobo%2FENVO_00000213))' to compare. We also want to filter out results generated with old pipeline versions (<[v5.0](https://www.ebi.ac.uk/metagenomics/pipelines/5.0)). In the following steps we will keep relevant samples and export them to the phyloseq object. Let's first explore the metadata we fetched:"
   ]
  },
  {
   "cell_type": "markdown",
   "id": "bf79c63f-c91c-476b-b58e-5d7948d99a36",
   "metadata": {},
   "source": [
    "1) Check the number of analyses in the study."
   ]
  },
  {
   "cell_type": "code",
   "execution_count": null,
   "id": "fbdbf2f9-c411-44f1-8f91-ba3ef377ef60",
   "metadata": {
    "tags": []
   },
   "outputs": [],
   "source": [
    "length(metadata$'analysis_accession')"
   ]
  },
  {
   "cell_type": "markdown",
   "id": "9e16a76e-2c80-4a7e-b247-184e2e5e8998",
   "metadata": {},
   "source": [
    "2) Check the `analysis_experiment-type` to determine whether a filtering is necesary to discard amplicon samples."
   ]
  },
  {
   "cell_type": "code",
   "execution_count": null,
   "id": "b6140e86-4b74-48dc-aae7-df2a0cde37c5",
   "metadata": {
    "tags": []
   },
   "outputs": [],
   "source": [
    "unique(metadata$'analysis_experiment-type')"
   ]
  },
  {
   "cell_type": "markdown",
   "id": "58ef8de7-d22e-4d99-ade8-af0da232a406",
   "metadata": {},
   "source": [
    "3) Keep results generated only with the most updated pipeline (v5.0)."
   ]
  },
  {
   "cell_type": "code",
   "execution_count": null,
   "id": "eb8a625f-88cd-4c33-9068-2c35973a6a0a",
   "metadata": {
    "tags": []
   },
   "outputs": [],
   "source": [
    "v5_metadata = metadata[which(metadata$'analysis_pipeline-version'=='5.0'), ]\n",
    "length(v5_metadata$'analysis_accession')"
   ]
  },
  {
   "cell_type": "markdown",
   "id": "2b64e232-c366-4d51-aaf2-159680811972",
   "metadata": {},
   "source": [
    "4) Check the `sample_environment-feature` to discover what kind of samples are part of the study and how many of each exists.\n",
    "\n",
    "<div class=\"alert alert-block alert-info\">\n",
    "<b>Note:</b> For a comparative study, we need at least 5 samples per group\n",
    "</div>"
   ]
  },
  {
   "cell_type": "code",
   "execution_count": null,
   "id": "ada5c1f9-6a06-4880-bfe1-90d9737536ba",
   "metadata": {
    "tags": []
   },
   "outputs": [],
   "source": [
    "table(v5_metadata$'sample_environment-feature')"
   ]
  },
  {
   "cell_type": "markdown",
   "id": "080aa6d8-6906-48da-ae18-36feb6265660",
   "metadata": {},
   "source": [
    "Let's keep only samples having [ENVO:00002042](https://www.ebi.ac.uk/ols/ontologies/envo/terms?iri=http%3A%2F%2Fpurl.obolibrary.org%2Fobo%2FENVO_00002042) or [ENVO:00000213](https://www.ebi.ac.uk/ols/ontologies/envo/terms?iri=http%3A%2F%2Fpurl.obolibrary.org%2Fobo%2FENVO_00000213) in the `sample_environment-feature` column. We want to create a new dataframe containing the relevant samples.  \n",
    "We are also going to create a clean label for the environment feature.  \n",
    "<div class=\"alert alert-block alert-info\">\n",
    "<b>Note:</b> To speed up the following analysis, we are going to keep only 25 samples per group (by randomly subsampling the accessions)\n",
    "</div>"
   ]
  },
  {
   "cell_type": "markdown",
   "id": "d6c18ffb-be6f-4684-a0c2-dac51668b6a7",
   "metadata": {},
   "source": [
    "5. Filtering out noisy samples and subsampling to 25 samples. We want to create a new dataframe containing the relevant samples. In this step, we will also create a clean label for the environment feature. Additionally, we noticed that some samples have extreme non-sense values in the metadata. We will filter out those samples to reduce the noise on the analysis."
   ]
  },
  {
   "cell_type": "code",
   "execution_count": null,
   "id": "fef6a5ad-789f-4b23-ad6e-eeb39bd7201c",
   "metadata": {
    "tags": []
   },
   "outputs": [],
   "source": [
    "# Saving the list of Surface water samples in a dataframe\n",
    "surface_table = v5_metadata[str_detect(v5_metadata$'sample_environment-feature', \"surface\"), ]\n",
    "\n",
    "# Reducing the metadata table to keep relevant fields only\n",
    "variables_to_keep = c('sample_temperature','sample_depth','sample_salinity','sample_chlorophyll sensor','sample_nitrate sensor','sample_oxygen sensor')\n",
    "reduced_surface_table = surface_table[variables_to_keep]\n",
    "\n",
    "# Removing rows with extreme values\n",
    "reduced_surface_table[reduced_surface_table == \"99999\"] <- NA\n",
    "reduced_surface_table[reduced_surface_table == \"99999.0\"] <- NA\n",
    "reduced_surface_table[reduced_surface_table == \"0\"] <- NA\n",
    "\n",
    "clean_reduced_surface_table=na.omit(reduced_surface_table)\n",
    "\n",
    "# Subsampling to 25\n",
    "set.seed(345)\n",
    "random_clean_reduced_surface_table = clean_reduced_surface_table[sample(nrow(clean_reduced_surface_table), 25), ]\n",
    "random_clean_reduced_surface_table$'env_label' = c(rep('Surface', times = length(rownames(random_clean_reduced_surface_table))))"
   ]
  },
  {
   "cell_type": "code",
   "execution_count": null,
   "id": "c0ff0ee0-c3f1-4cc6-b343-75ad0f6e6e9b",
   "metadata": {
    "tags": []
   },
   "outputs": [],
   "source": [
    "# Saving the list of Mesopelagic zone samples in a dataframe\n",
    "mesopelagic_table = v5_metadata[str_detect(v5_metadata$'sample_environment-feature', \"mesopelagic\"), ]\n",
    "\n",
    "# Reducing the metadata table to keep relevant fields only\n",
    "reduced_mesopelagic_table = mesopelagic_table[variables_to_keep]\n",
    "\n",
    "# Removing rows with extreme values\n",
    "reduced_mesopelagic_table[reduced_mesopelagic_table == \"99999\"] <- NA\n",
    "reduced_mesopelagic_table[reduced_mesopelagic_table == \"99999.0\"] <- NA\n",
    "reduced_mesopelagic_table[reduced_mesopelagic_table == \"0\"] <- NA\n",
    "\n",
    "clean_reduced_mesopelagic_table=na.omit(reduced_mesopelagic_table)\n",
    "\n",
    "# Subsampling to 25\n",
    "set.seed(345)\n",
    "random_clean_reduced_mesopelagic_table = clean_reduced_mesopelagic_table[sample(nrow(clean_reduced_mesopelagic_table), 25), ]\n",
    "random_clean_reduced_mesopelagic_table$'env_label' = c(rep('Mesopelagic', times = length(rownames(random_clean_reduced_mesopelagic_table))))"
   ]
  },
  {
   "cell_type": "code",
   "execution_count": null,
   "id": "2ff1a227-ef6c-45a1-b9ff-04f8e5d685be",
   "metadata": {
    "tags": []
   },
   "outputs": [],
   "source": [
    "# Integrating the metadata table\n",
    "clean_metadata = rbind(random_clean_reduced_surface_table,random_clean_reduced_mesopelagic_table)\n",
    "clean_acc = rownames(clean_metadata)"
   ]
  },
  {
   "cell_type": "markdown",
   "id": "dcaa9b96-dbc5-433d-9f46-21865b399b9b",
   "metadata": {},
   "source": [
    "<div class=\"alert alert-block alert-warning\">\n",
    "<b>Up to you:</b> You can try to re-run the analysis with a different set of samples to compare for instance 'deep chlorophyll maximum layer' versus 'mesopelagic zone'. How would you change the code to filter in relevant samples? Could you used another column in the metadata table?\n",
    "</div>"
   ]
  },
  {
   "cell_type": "markdown",
   "id": "daf123c7-fc82-41f6-97f8-6b4e9fa4111b",
   "metadata": {},
   "source": [
    "### 1.3. Converting into phyloseq object <a id='part1_3'/>"
   ]
  },
  {
   "cell_type": "markdown",
   "id": "3dc92881-75bc-4931-90a5-96c6a4cf24ff",
   "metadata": {},
   "source": [
    "1. Now that we have a new dataframe with 50 samples from either surface or mesopelagic zone water, we are going to create the phyloseq object."
   ]
  },
  {
   "cell_type": "code",
   "execution_count": null,
   "id": "95977717-ea94-4550-bc17-c8bbe3e2781c",
   "metadata": {
    "tags": []
   },
   "outputs": [],
   "source": [
    "ps = mgnify_get_analyses_phyloseq(mg, clean_acc)"
   ]
  },
  {
   "cell_type": "markdown",
   "id": "b1a7166e-b287-4668-98e6-47a08841a725",
   "metadata": {},
   "source": [
    "2. Keep only relevant columns in metadata table and transform numeric variables from characters to numbers. Add the environment label as well."
   ]
  },
  {
   "cell_type": "code",
   "execution_count": null,
   "id": "c571fc4a-a1c4-4c86-81e0-df163919a80a",
   "metadata": {
    "tags": []
   },
   "outputs": [],
   "source": [
    "# Keeping relevant metadata in the phyloseq object\n",
    "variables_to_keep = c('sample_temperature','sample_depth','sample_salinity','sample_chlorophyll.sensor','sample_nitrate.sensor','sample_oxygen.sensor')\n",
    "df = data.frame(sample_data(ps))[variables_to_keep]\n",
    "\n",
    "# Transforming character to nummeric variables\n",
    "df[] = lapply(df, function(x) as.numeric(as.character(x)))\n",
    "sample_data(ps) = df\n",
    "\n",
    "# Adding the env label                              \n",
    "sample_data(ps)$'env_label' = clean_metadata$env_label\n",
    "              \n",
    "head(sample_data(ps), 3)"
   ]
  },
  {
   "cell_type": "markdown",
   "id": "f07ff95a-55b0-4664-bd53-7f65b779048d",
   "metadata": {},
   "source": [
    "## Part 2. Normalization, alpha diversity indices and taxonomic profiles visualization <a id='part2'/>"
   ]
  },
  {
   "cell_type": "markdown",
   "id": "d4e432e7-1f5f-4f29-bbbb-c615f78065f7",
   "metadata": {
    "tags": []
   },
   "source": [
    "### 2.1. Cleaning the OTUs matrix <a id='part2_1'/>"
   ]
  },
  {
   "cell_type": "markdown",
   "id": "dcedcf9c-3689-4b3c-808b-0e5e0888a9db",
   "metadata": {},
   "source": [
    "1) Remove samples with extremely low coverage – they aren't informative and interfere with the normalization process. The first step is to detect outliers by plotting some histograms."
   ]
  },
  {
   "cell_type": "code",
   "execution_count": null,
   "id": "ea09d099-82a3-4206-8241-de263d17fcd5",
   "metadata": {
    "tags": []
   },
   "outputs": [],
   "source": [
    "options(repr.plot.width = 4, repr.plot.height = 4)\n",
    "hist(log10(sample_sums(ps)), breaks = 50, main = \"Sample size distribution\", xlab = \"Sample size (log10)\", ylab = \"Frequency\", col = \"#007c80\")"
   ]
  },
  {
   "cell_type": "markdown",
   "id": "de3ab6e5-038d-41ec-abec-566971bedee4",
   "metadata": {},
   "source": [
    "We can see that samples with number of reads $\\leq 10 ^ {1.5}$ (i.e. $\\lesssim 32$) seem to be outliers. \n",
    "   Let's filter out the outliers and plot a new histogram."
   ]
  },
  {
   "cell_type": "code",
   "execution_count": null,
   "id": "1bc85bcf-bb7f-4105-9b37-c13d1ebf995c",
   "metadata": {
    "tags": []
   },
   "outputs": [],
   "source": [
    "ps_good = subset_samples(ps, sample_sums(ps) > 32)\n",
    "hist(log10(sample_sums(ps_good)), breaks = 50, main = \"Sample size distribution\", xlab = \"Sample size (log10)\", ylab = \"Frequency\", col = \"#007c80\")"
   ]
  },
  {
   "cell_type": "markdown",
   "id": "0eaccdbf-3f28-4f00-abc2-ae7cd9bbb7ba",
   "metadata": {},
   "source": [
    "2) Remove singletons. Singletons are OTUs of size one, meaning that only one read was assigned to that OTU. These very low-abundance OTUs could be biologically real (belonging to the rare biosphere ([1](#reference_1))), or they could be false positives due to sequencing artefacts. Singletons observed in only one sample are more likely to be artefacts, and it is good practice to remove them from the OTUs counts table to avoid artificially over-estimating the OTUs richness. You can find more discussion about this in [Robert Edgar's blog](https://drive5.com/usearch/manual/singletons.html).\n",
    "\n",
    "<div class=\"alert alert-block alert-warning\">\n",
    "<b>Question:</b> Is the low abundant portion of the microbial community (rare biosphere) biologically relevant? What would be a good approach to study this particular fraction of the microbial communities?\n",
    "</div>"
   ]
  },
  {
   "cell_type": "code",
   "execution_count": null,
   "id": "3e40e52c-826d-4280-9bb5-95c1e3abffe2",
   "metadata": {
    "tags": []
   },
   "outputs": [],
   "source": [
    "ps_final = filter_taxa(ps_good, function(x) sum(x) > 1, prune=TRUE)"
   ]
  },
  {
   "cell_type": "markdown",
   "id": "6c432d02-7b52-4302-b597-58e54950564f",
   "metadata": {},
   "source": [
    "\n",
    "<div class=\"alert alert-block alert-warning\">\n",
    "<b>Up to you:</b> You can try to discard also doubletons or OTUs in size<=3. Is there any difference in the OTUs table?\n",
    "</div>"
   ]
  },
  {
   "cell_type": "markdown",
   "id": "f3bf6d10-da48-4276-b353-d70b222ca1fb",
   "metadata": {},
   "source": [
    "3) Show some stats on the sequencing depth across samples."
   ]
  },
  {
   "cell_type": "code",
   "execution_count": null,
   "id": "65e46c67-a25f-49fb-bb4f-15189a5fe6cf",
   "metadata": {
    "tags": []
   },
   "outputs": [],
   "source": [
    "max_ratio = max(sample_sums(ps_final))/min(sample_sums(ps_final))\n",
    "\n",
    "sprintf(\"The difference in sequencing depth across samples is at most %.2f times larger\", max_ratio)\n",
    "\n",
    "options(repr.plot.width=4, repr.plot.height=5)\n",
    "\n",
    "boxplot(sample_sums(ps_final), main=\"Sequencing depth across samples\", xlab=\"\", ylab=\"Number of reads\", col=\"#a6093d\")\n",
    "text(y=boxplot.stats(sample_sums(ps_final))$stats, labels=boxplot.stats(sample_sums(ps_final))$stats, x=1.25)"
   ]
  },
  {
   "cell_type": "markdown",
   "id": "b44ce62e-85d8-4517-9b7b-717cf5dde623",
   "metadata": {},
   "source": [
    "An approximately 10-fold difference in the library sizes means that we will need to apply a normalization method before continuing with the analysis. The most common normalization methods used in microbiome count data are proportions and rarefaction. However, other methods originally developed to normalize RNA-seq counts have been adapted to differential-abundance analysis in microbiome data.  \n",
    "\n",
    "A discussion about how to choose the right normalization method is out of the scope of this material, but the topic has been covered in multiple forums and scientific publications. Depending on the downstream analysis we intend to perform, different methods might be appropriate. For instance, to compare groups of samples at community-level through beta-diversity, \"...proportions and rarefying produced more accurate comparisons among communities and are the only methods that fully normalized read depths across samples. Additionally, upper quartile, cumulative sum scaling (CSS), edgeR-TMM, and DESeq-VS often masked differences among communities when common OTUs differed, and they produced false positives when rare OTUs differed\" ([2](#reference_2)). On the other hand, for detection of differentially abundant species, \"both proportions and rarefied counts result in a high rate of false positives in tests for species that are differentially abundant across sample classes\" ([3](#reference_3)).    \n",
    "\n",
    "In the following examples we will show three popular ways of normalization: relative abundance, rarefaction and cummulative sum scaling (CSS). We will produce plots for the taxonomic profile visualization agglomerating the taxonomc labels at Class rank and keep only the most abundant classes to avoid displaying too many unreadable categories in the plot (threshold=1%, i.e. 0.01)."
   ]
  },
  {
   "cell_type": "markdown",
   "id": "43e075eb-288b-4308-8a30-443a7693275e",
   "metadata": {},
   "source": [
    "### 2.2. Normalization methods (relative abundance, rarefaction, and CSS) <a id='part2_2'/>"
   ]
  },
  {
   "cell_type": "markdown",
   "id": "5c578470-b42a-40f1-9e07-51b3c1b54561",
   "metadata": {},
   "source": [
    "1. **Relative abundance.** The simplest way to normalize the differences in sample size is to transform the OTU counts table into relative abundance through dividing by the number of total reads of each sample. This type of normalization is also referred to as proportions. "
   ]
  },
  {
   "cell_type": "code",
   "execution_count": null,
   "id": "e4642245-7adc-4cfa-9cc1-92484d532808",
   "metadata": {
    "tags": []
   },
   "outputs": [],
   "source": [
    "# Transform taxonomy raw-counts matrix into relative abundance\n",
    "relab_ps = transform_sample_counts(ps_final, function(x) x/sum(x))\n",
    "\n",
    "# Agglomerating to class level and store the most abundant classes\n",
    "psglom = tax_glom(relab_ps, \"Class\")\n",
    "top_tss_ps = filter_taxa(psglom, function(x) mean(x) > 0.01, TRUE)"
   ]
  },
  {
   "cell_type": "markdown",
   "id": "f66e3dfd-34f0-4dc9-8719-a90d97c03624",
   "metadata": {},
   "source": [
    "2. **Rarefaction.** Normalization by subsampling is an alternative to relative abundance normalization to obtain an adjusted OTUs count matrix. The method is based on a process of subsampling to the smallest library size in the data set. The algorithm randomly removes reads until the samples reach the same library size. Despite the apparent disadvantage of discarding information from the larger samples, rarefaction is quite popular in microbial ecology. The first step is to find the smallest sample size. We can use the number of observed OTUs in the matrix to do so."
   ]
  },
  {
   "cell_type": "code",
   "execution_count": null,
   "id": "630cfed1-55e3-4ac7-b14e-73649c990ffd",
   "metadata": {
    "tags": []
   },
   "outputs": [],
   "source": [
    "# Find the smallest sample size\n",
    "df = as.data.frame(sample_sums(ps_final))\n",
    "smallest = head(df[order( df[,1] ),],1)\n",
    "\n",
    "# Rarefying to the smallest sample\n",
    "ps_rare = rarefy_even_depth(ps_final, sample.size = smallest, replace = FALSE, rngseed = 123, verbose = FALSE)\n",
    "\n",
    "# Aglomerate taxonomy at Class rank keeping the top 15 classes only\n",
    "psglom = tax_glom(ps_rare, \"Class\")\n",
    "top15 = names(sort(taxa_sums(psglom), decreasing = TRUE)[1:15])\n",
    "top15_rare_ps = prune_taxa(top15, psglom)"
   ]
  },
  {
   "cell_type": "markdown",
   "id": "de817a6d-3a0b-4134-b79e-7a5ff4ae956a",
   "metadata": {},
   "source": [
    "3. **Normalization by cumulative sum scaling (CSS).** For this method we will use the implementation on the `microbiomeMarker` library. Cumulative sum scaling normalization calculates scaling factors as the cumulative sum of gene (or taxa) abundances up to a data-derived threshold. This method is based on the assumption that the count distributions in each sample are equivalent for low abundance genes up to a certain threshold. Only the segment of each sample's count distribution that is relatively invariant across samples is scaled by CSS."
   ]
  },
  {
   "cell_type": "code",
   "execution_count": null,
   "id": "d1e2e3ac-8a76-4590-ac0b-6ac24cd3365b",
   "metadata": {
    "tags": []
   },
   "outputs": [],
   "source": [
    "# Normalizing the OTU counts in the `ps_final` object\n",
    "ps_CSS = normalize(ps_final, method = \"CSS\")\n",
    "\n",
    "# Aglomerate taxonomy at Class rank and keep the top 15 classes only\n",
    "psglom = tax_glom(ps_CSS, \"Class\")\n",
    "top15 = names(sort(taxa_sums(psglom), decreasing = TRUE)[1:15])\n",
    "top15_css_ps = prune_taxa(top15, psglom)"
   ]
  },
  {
   "cell_type": "markdown",
   "id": "06458b78-221e-4779-8c2f-89cbaf2ca3ba",
   "metadata": {},
   "source": [
    "4. **Community profile visualization.** Visualise the taxonomic profiles using the different normalization methods in barplots at Class rank in two modes."
   ]
  },
  {
   "cell_type": "code",
   "execution_count": null,
   "id": "47c1abdc-6e9a-490a-8098-e24011372259",
   "metadata": {
    "tags": []
   },
   "outputs": [],
   "source": [
    "options(repr.plot.width=10, repr.plot.height=4)\n",
    "\n",
    "### Proportions\n",
    "plot_bar(top_tss_ps, fill = \"Class\", title=\"Proportions\") + \n",
    "    theme(axis.text.x=element_blank(), axis.ticks.x=element_blank(), panel.background=element_rect(fill=NA), panel.grid.major=element_line(colour=\"#ebebeb\")) + \n",
    "    labs(x='')\n",
    "\n",
    "### Rarefaction\n",
    "plot_bar(top15_rare_ps, fill=\"Class\", title=\"Rarefaction\") + \n",
    "    theme(axis.text.x=element_blank(), axis.ticks.x=element_blank(), panel.background=element_rect(fill=NA), panel.grid.major=element_line(colour=\"#ebebeb\")) + \n",
    "    labs(x=NULL)\n",
    "\n",
    "### Cumulative sum scaling\n",
    "plot_bar(top15_css_ps, fill=\"Class\", title=\"Cumulative sum scaling\") + \n",
    "    theme(axis.text.x=element_blank(), axis.ticks.x=element_blank(), panel.background=element_rect(fill=NA), panel.grid.major=element_line(colour=\"#ebebeb\")) + \n",
    "    labs(x=NULL)\n"
   ]
  },
  {
   "cell_type": "markdown",
   "id": "edfd2deb-34b1-4427-95c8-645853818dfb",
   "metadata": {},
   "source": [
    "Stacked barplots are useful to see an overview of the taxonomic profiles across samples and spot samples with a very different profile. However, to compare the abundance profile of particular classes, a single barplot visualization could be more convenient."
   ]
  },
  {
   "cell_type": "code",
   "execution_count": null,
   "id": "a4947b3e-2851-467d-82d1-d871f2729e84",
   "metadata": {
    "tags": []
   },
   "outputs": [],
   "source": [
    "options(repr.plot.width=12, repr.plot.height=2)\n",
    "\n",
    "### Proportions\n",
    "plot_bar(subset_taxa(top_tss_ps, Class=='Alphaproteobacteria' | Class=='Dinophyceae' | Class=='Thermoplasmata' ), fill = \"Class\", title=\"Proportions\") + \n",
    "    facet_wrap(~Class) + \n",
    "    scale_fill_manual(values=c(\"#18974c\",\"#d41645\",\"#f49e17\")) +\n",
    "    theme(axis.text.x=element_blank(), axis.ticks.x=element_blank(), panel.background=element_rect(fill=NA), panel.grid.major=element_line(colour=\"#ebebeb\")) + \n",
    "    labs(x=NULL)\n",
    "\n",
    "### Rarefaction\n",
    "plot_bar(subset_taxa(top15_rare_ps, Class=='Alphaproteobacteria' | Class=='Dinophyceae' | Class=='Thermoplasmata' ), fill=\"Class\", title=\"Rarefaction\") + \n",
    "    facet_wrap(~Class) + \n",
    "    scale_fill_manual(values=c(\"#18974c\",\"#d41645\",\"#f49e17\")) +\n",
    "    theme(axis.text.x=element_blank(), axis.ticks.x=element_blank(), panel.background=element_rect(fill=NA), panel.grid.major=element_line(colour=\"#ebebeb\")) + \n",
    "    labs(x=NULL)\n",
    "\n",
    "### Cumulative sum scaling\n",
    "plot_bar(subset_taxa(top15_css_ps, Class=='Alphaproteobacteria' | Class=='Dinophyceae' | Class=='Thermoplasmata' ), fill=\"Class\", title=\"Cumulative sum scaling\") + \n",
    "    facet_wrap(~Class) + \n",
    "    scale_fill_manual(values=c(\"#18974c\",\"#d41645\",\"#f49e17\")) +\n",
    "    theme(axis.text.x=element_blank(), axis.ticks.x=element_blank(), panel.background=element_rect(fill=NA), panel.grid.major=element_line(colour=\"#ebebeb\")) + \n",
    "    labs(x=NULL)"
   ]
  },
  {
   "cell_type": "markdown",
   "id": "7307f484-0570-44a4-9057-c31655567003",
   "metadata": {},
   "source": [
    "### 2.3. Computing alpha diversity indices <a id='part2_5'/>"
   ]
  },
  {
   "cell_type": "markdown",
   "id": "69538034-d95b-4b67-897b-0324952cad6a",
   "metadata": {},
   "source": [
    "Alpha diversity is a measure of species diversity in a particular area or an ecosystem. In terms of microbial ecology, analyzing the sample diversity of sequencing data is commonly the first step in assessing differences between microbial environments. Some of the most popular alpha diversity indices reported in microbial community analyses are Chao1, abundance-based coverage estimators (ACE), Simpson, and Shannon-Weaver.  \n",
    "Chao1 and ACE are nonparametric estimators that describe diversity as the max number of expected species in the sample (species richness). They consider the proportion of species that have been observed before (\"recaptured\") to those that are observed only once. Both Chao1 and ACE underestimate true richness at low sample sizes.  \n",
    "On the other hand, Simpson and Shannon-Weaver, consider relative abundances and depends on both, species richness and the evenness (or equitableness), with which individuals are distributed among the different species. However, both metrics have specific biases. The Shannon-Weaver index places a greater weight on species richness, whereas the Simpson index considers evenness more than richness in its measurement.  \n",
    "More discussion and examples illustrating how sample size and normalization methods can affect alpha diversity metrics in references [4](#reference_4) and [5](#reference_5).  \n",
    "According to Pereira *et al.,* (2018)([7](#reference_7)), the best normalization method for metagenomic gene abundance (tested in TARA ocean samples) is CSS for large group sizes. For this reason, we will use this method to show alpha and beta-diversity analyses. "
   ]
  },
  {
   "cell_type": "code",
   "execution_count": null,
   "id": "54f14fe5-8709-43ea-b331-1f7c5cf898b6",
   "metadata": {
    "tags": []
   },
   "outputs": [],
   "source": [
    "options(repr.plot.width=18, repr.plot.height=6)\n",
    "\n",
    "plot_richness(ps_CSS, x=\"env_label\", color=\"env_label\", title=\"Cumulative sum scaling\", measures=c(\"Observed\", \"Chao1\", \"ACE\", \"Shannon\", \"Simpson\")) + \n",
    "    geom_boxplot() + \n",
    "    theme_bw() + \n",
    "    scale_color_manual(values=c(\"#0a5032\", \"#a1be1f\")) + \n",
    "    labs(x='', color=\"Environment\")\n"
   ]
  },
  {
   "cell_type": "markdown",
   "id": "fc3f8575-9928-40f8-b4f6-bf6f386e43dd",
   "metadata": {},
   "source": [
    "<div class=\"alert alert-block alert-warning\">\n",
    "<b>Question:</b> Which group is more diverse?\n",
    "</div>"
   ]
  },
  {
   "cell_type": "markdown",
   "id": "4be89d30-1e85-451d-875e-f0b942a4a137",
   "metadata": {},
   "source": [
    "## Part 3. Comparative metagenomics at community-level: Beta diversity <a id='part3'/>"
   ]
  },
  {
   "cell_type": "markdown",
   "id": "78b8befa-2619-447b-8fe9-c8d4adba4d6c",
   "metadata": {},
   "source": [
    "Beta (β)-diversity is used in ecology to assess the heterogeneity of local communities. It is defined as the ratio between regional and local species diversity. In simpler terms, it calculates the number of species that are not the same in two different environments. \n",
    "\n",
    "Some of the most popular beta diversity measures in microbiome research include Bray-Curtis index (for compositional data), Jaccard index (for presence/absence data, ignoring abundance information), Aitchison distance (Euclidean distance for transformed abundances, aiming to avoid the compositionality bias), and the Unifrac distances (that use the phylogenetic tree information). Only some of the commonly used beta diversity measures are actual distances, therefore, the term dissimilarity or beta-diversity is commonly used. The workflow to assess β-diversity between groups of samples starts with calculating the diversity indices for each pair of samples. This results in a distance (or dissimilarity) matrix that is often used for ordination (e.g., principal coordinates analysis) and data exploration in microbiota data analysis ([6](#reference_6)).\n",
    "\n",
    "For statistical analysis, [adonis](https://www.rdocumentation.org/packages/vegan/versions/2.6-4/topics/adonis) and [betadisper](https://www.rdocumentation.org/packages/vegan/versions/2.6-4/topics/betadisper) methods are widely used together in β-diversity analyses. \n",
    "\n",
    "Adonis tests whether two or more groups have different compositions. Adonis calculates the squared deviations of each site to the centroid and then, performs significance tests using F-tests based on sequential sums of squares from permutations of the raw data. It can be seen as an ANOVA using distance matrices (analogous to MANOVA). A non significant p-value (p>0.05), means that there's no difference in **composition** between groups (null hypothesis of no difference in composition between groups).\n",
    "\n",
    "Betadisper tests if two or more groups are homogeneously dispersed in relation to their species in studied samples. This test can be done to see if one group has more compositional variance than another. The method uses the distance matrix to calculate the multivariate dispersions (variances; average distance to centroids). Then we use group dispersions to perform an ANOVA test. ANOVA's p-value not significant (p>0.05) means that group **dispersions** are homogenous (null hypothesis of no difference in dispersion between groups).\n"
   ]
  },
  {
   "cell_type": "markdown",
   "id": "6f9250ff-0a36-434e-abe1-1bb5018e449d",
   "metadata": {},
   "source": [
    "1) Compute beta diversity using various methods to calculate distance, and perform principle components analysis ploting the first two axes. \n",
    "\n",
    "According to Pereira *et al.,* (2018)([7](#reference_7)), the best normalization method for metagenomic gene abundance (tested in TARA ocean samples) is CSS for large group sizes. For this reason, we will use this method to show beta-diversity. Then, using as a guide the steps described in ([8](#reference_8)), we will create a list of suitable distance methods, iterate through them, and display a combined plot. For a better visualization we are going to show the 95% confidence region with an ellipse."
   ]
  },
  {
   "cell_type": "code",
   "execution_count": null,
   "id": "ace268c3-ee4a-47ec-8050-56c509bc3380",
   "metadata": {
    "tags": []
   },
   "outputs": [],
   "source": [
    "# Generating the methods list and discarding those that are not included in adonis methods list\n",
    "dist_methods = unlist(distanceMethodList)\n",
    "dist_methods = dist_methods[c(-(1:4),-(20:47))]\n",
    "\n",
    "# Iterating through the list and save the plots\n",
    "plist = vector(\"list\", length(dist_methods))\n",
    "names(plist) = dist_methods\n",
    "for( i in dist_methods ){\n",
    "    # Calculate distance matrix\n",
    "    iDist = distance(ps_CSS, method=i)\n",
    "    # Calculate ordination\n",
    "    iMDS  = ordinate(ps_CSS, \"MDS\", distance=iDist)\n",
    "    ## Make plot\n",
    "    # Don't carry over previous plot (if error, p will be blank)\n",
    "    p = NULL\n",
    "    # Create plot, store as temp variable, p\n",
    "    p = plot_ordination(ps_CSS, iMDS, color=\"env_label\")\n",
    "    # Add title to each plot\n",
    "    p = p + ggtitle(paste(\"MDS using distance method \", i, sep=\"\"))\n",
    "    # Save the graphic to file.\n",
    "    plist[[i]] = p\n",
    "}\n",
    "\n",
    "# Create a combined plot\n",
    "df = ldply(plist, function(x) x$data)\n",
    "names(df)[1] = \"distance\"\n",
    "p = ggplot(df, aes(Axis.1, Axis.2, color=env_label))\n",
    "p = p + geom_point(size=3, alpha=0.5)\n",
    "p = p + facet_wrap(~distance, scales=\"free\")\n",
    "p = p + ggtitle(\"MDS on various distance metrics for TARA ocean dataset\") + \n",
    "    stat_ellipse(level=0.95, type=\"norm\", geom=\"polygon\", alpha=0, aes(color=env_label)) + \n",
    "    theme_bw() + \n",
    "    scale_color_manual(values=c(\"#0a5032\", \"#a1be1f\")) + \n",
    "    labs(color = \"Environment\") \n",
    "\n",
    "options(repr.plot.width=12, repr.plot.height=10)\n",
    "p"
   ]
  },
  {
   "cell_type": "markdown",
   "id": "4863adba-6177-4c81-91d1-d93bb12e0cc2",
   "metadata": {},
   "source": [
    "<div class=\"alert alert-block alert-warning\">\n",
    "<b>Up to you:</b> Remake the plots changing the confidence level used to draw the ellipses. What does it mean?\n",
    "</div>\n",
    "\n",
    "<div class=\"alert alert-block alert-warning\">\n",
    "<b>Question:</b> How do the most commonly used metrics (Bray-Curtis, Jaccard, Euclidian) perform? Which distance metric best segregates the data by water layer?\n",
    "</div>"
   ]
  },
  {
   "cell_type": "markdown",
   "id": "58a895b2-693a-41f7-822f-e8fe4bd4b926",
   "metadata": {},
   "source": [
    "2) Separation of the groups observed in some of the ordination plots could be due to composition effect, dispersion effect, or both. To test the composition effect (null hypothesis of no difference in composition between groups) we use a permanova implemented in the `vegan` library's `adonis` function. We will use the distance metric that best segregates the groups and determine whether the two groups of samples have different centroids."
   ]
  },
  {
   "cell_type": "code",
   "execution_count": null,
   "id": "bfac182b-ca31-4642-a31e-f0dfcf5f1508",
   "metadata": {
    "tags": []
   },
   "outputs": [],
   "source": [
    "metadata = data.frame(sample_data(ps_CSS))\n",
    "css_beta = distance(ps_CSS, method=\"canberra\")\n",
    "adonis2(css_beta ~ env_label, data = metadata, perm=1e3)"
   ]
  },
  {
   "cell_type": "markdown",
   "id": "fc46d554-3a8d-4583-ac5e-0082fb3af6a6",
   "metadata": {},
   "source": [
    "<div class=\"alert alert-block alert-warning\">\n",
    "<b>Question:</b> What is the conclusion of adonis results?\n",
    "</div>"
   ]
  },
  {
   "cell_type": "markdown",
   "id": "f09ac678-56c7-4834-9477-85d8bacf804d",
   "metadata": {},
   "source": [
    "<div class=\"alert alert-block alert-info\">\n",
    "<b>Tip:</b> If the p-value is less than some significance level (e.g. 0.05) then we can reject the null hypothesis and conclude that not all group means are equal. Null hypothesis of no difference in composition between groups.\n",
    "</div>"
   ]
  },
  {
   "cell_type": "markdown",
   "id": "a1dbbd65-7920-413c-b267-85a8b13597f5",
   "metadata": {},
   "source": [
    "3) Adonis assumes there is homogeneity of dispersion among groups. Let's test this assumption, to check whether the differences detected by adonis are due to variation in dispersion of the data. The strategy is to run a `betadisper` (also from the `vegan` library) to calculate variances and  evaluate if there's a significant variation between groups through an anova. `Betadisper` is a sister function to `adonis` to study the differences in dispersion within the same geometric framework."
   ]
  },
  {
   "cell_type": "code",
   "execution_count": null,
   "id": "8c415a72-f29a-4c9f-9eb9-44e77475f297",
   "metadata": {
    "tags": []
   },
   "outputs": [],
   "source": [
    "bd = betadisper(css_beta, metadata$'env_label')\n",
    "anova(bd)"
   ]
  },
  {
   "cell_type": "markdown",
   "id": "b89f180e-ee44-4455-9e6b-81aa01164550",
   "metadata": {},
   "source": [
    "ANOVA's p-value not significant (p>0.05) means that group dispersions are homogenous (acept the null hypothesis of no difference in dispersion between groups). The general conclusion of `adonis` and `betadisper` is that our groups of samples (Surface and Mesopelagic water layers) are homogeneous on group dispersions (compositions vary similarly within the group) while having significantly different compositions between groups (according to `adonis` p<0.05)."
   ]
  },
  {
   "cell_type": "markdown",
   "id": "0f3ca322-4c41-4a45-be6c-cc53b1a84b55",
   "metadata": {},
   "source": [
    "<div class=\"alert alert-block alert-warning\">\n",
    "<b>Up to you:</b> Try to run the statistical analysis selecting a beta-diversity metric that looks unsuitable for this data (like altGower distance or Raup–Crick dissimilarity). Do you get different conclusions?\n",
    "</div>\n",
    "\n",
    "<div class=\"alert alert-block alert-info\">\n",
    "<b>Tip:</b> Distance methods available in <code>distance</code> phyloseq function are listed in the object <code>distanceMethodList</code>. You can check such distance methods in detailed in the <code>vegdist</code> <a href=\"https://search.r-project.org/CRAN/refmans/vegan/html/vegdist.html\">documentation</a>\n",
    "</div>"
   ]
  },
  {
   "cell_type": "markdown",
   "id": "01750618-93de-4110-99f7-999be932a74a",
   "metadata": {},
   "source": [
    "## Part 4. Detection of differentially abundant taxa <a id='part4'/>"
   ]
  },
  {
   "cell_type": "markdown",
   "id": "7f9d2060-7d8d-4198-96d5-7580a4abe0f6",
   "metadata": {},
   "source": [
    "There are many approaches out there to detect differentially abudant taxa (or genes). Here we are using the method implemented in `SIAMCAT` library. `SIAMCAT` is an R package that puts together statistical functions to compare large-scale studies in order to detect microbial community composition changes due to environmental factors. Describing such associations in quantitative models has multiple applications, such as in predicting disease status based on microbiome data. In addition, the pipeline includes the generation of high-quality plots for visual inspection of results ([9](#reference_9)). Noteworthy there are multiple parameters that can be adjusted for a better performance in each step of the analysis. However, in this exercise we are showing the tool behaviour with minimal tuning in default arguments."
   ]
  },
  {
   "cell_type": "markdown",
   "id": "3ba5fe1a-2f0a-41be-9ab4-f6687d7acb97",
   "metadata": {},
   "source": [
    "### 4.1. Association testing <a id='part4_1'/>"
   ]
  },
  {
   "cell_type": "markdown",
   "id": "9671a0c5-5dcf-4710-a554-e22940644e01",
   "metadata": {},
   "source": [
    "1. Preparing the data. The input for `SIAMCAT` is a matrix with normalized data as relative abundances. We will use the phyloseq object generated in step [2.2](#part2_2) of this notebook and aggregate the data at genus level."
   ]
  },
  {
   "cell_type": "code",
   "execution_count": null,
   "id": "9af07d9f-f00b-444c-894b-f4d97ed4af87",
   "metadata": {
    "tags": []
   },
   "outputs": [],
   "source": [
    "psglom = tax_glom(relab_ps, \"Genus\")"
   ]
  },
  {
   "cell_type": "markdown",
   "id": "b68c76e0-2307-47a4-8963-b76203560d0e",
   "metadata": {},
   "source": [
    "2. Creating the `SIAMCAT` object. We first need to create a label to set which group will be used as control for comparisons. We arbitrarily selected Surface as the case group and Mesopelagic as the control group."
   ]
  },
  {
   "cell_type": "code",
   "execution_count": null,
   "id": "3f6e51d5-bf28-4278-9ff2-1b9d756d4998",
   "metadata": {
    "tags": []
   },
   "outputs": [],
   "source": [
    "# Creating a siamcat label\n",
    "sc_label = create.label(meta=sample_data(psglom), label='env_label', case='Surface')\n",
    "\n",
    "# Creating the siamcat object\n",
    "siamcat_obj = siamcat(phyloseq=psglom, label=sc_label)\n"
   ]
  },
  {
   "cell_type": "markdown",
   "id": "b11c1d8f-7af7-4ba3-a2fd-bda3c5ef4b60",
   "metadata": {},
   "source": [
    "3. Filtering low-abundant features by abundance (threshold=0.001) and prevalence (threshold=0.05)."
   ]
  },
  {
   "cell_type": "code",
   "execution_count": null,
   "id": "bbc9bee9-66bd-44c7-8961-85d4b96cfeeb",
   "metadata": {
    "tags": []
   },
   "outputs": [],
   "source": [
    "siamcat_obj = filter.features(siamcat_obj, filter.method='abundance', cutoff=1e-03)\n",
    "siamcat_obj = filter.features(siamcat_obj, filter.method='prevalence', cutoff=0.05, feature.type='filtered')"
   ]
  },
  {
   "cell_type": "markdown",
   "id": "3e260a2d-0042-4fc3-9e65-3c243c6373d4",
   "metadata": {},
   "source": [
    "4. Computing differentially abundant taxa on filtered object. The function computes for each species the significance using a non-parametric Wilcoxon test and different effect sizes for the association (e.g. AUC or fold change)."
   ]
  },
  {
   "cell_type": "code",
   "execution_count": null,
   "id": "597de76f-edd9-49bd-8339-4fc9e1ce01e0",
   "metadata": {
    "tags": []
   },
   "outputs": [],
   "source": [
    "options(repr.plot.width=12, repr.plot.height=10)\n",
    "siamcat_obj = check.associations(siamcat_obj)\n",
    "association.plot(siamcat_obj, panels=c(\"fc\", \"prevalence\"), prompt = FALSE, verbose = 0)"
   ]
  },
  {
   "cell_type": "markdown",
   "id": "c80a25ad-265b-4586-a188-f8af9d22f15b",
   "metadata": {},
   "source": [
    "<div class=\"alert alert-block alert-info\">\n",
    "<b>Tip:</b> For significantly associated microbial features, the plot shows:\n",
    "    <ul>\n",
    "     <li>The abundances of the features across the two different classes (Mesopelagic vs. Surface)</li>\n",
    "     <li>The significance of the enrichment calculated by a Wilcoxon test (after multiple hypothesis testing correction)</li>\n",
    "     <li>The generalized fold change of each feature</li>\n",
    "     <li>The prevalence shift between the two classes</li>\n",
    "    </ul>\n",
    "By adding \"auroc\" to the <code>panels</code> list, you can also visualize the Area Under the Receiver Operating Characteristics Curve (AU-ROC) as non-parametric effect size measure.\n",
    "</div>\n",
    "\n",
    "<div class=\"alert alert-block alert-warning\">\n",
    "<b>Up to you:</b> Play around with the filtering parameters <code>detect.lim</code> and <code>pr.cutoff</code> to see if you can catch more significantly different OTUs. \n",
    "</div>"
   ]
  },
  {
   "cell_type": "markdown",
   "id": "515c631f-8b8f-47d4-aa90-d1ec8758d9b9",
   "metadata": {},
   "source": [
    "5. Printing the taxonomic labels of differentially abudant OTUs. "
   ]
  },
  {
   "cell_type": "code",
   "execution_count": null,
   "id": "4de2de7b-26e5-422a-b89a-3e379c95aa23",
   "metadata": {
    "tags": []
   },
   "outputs": [],
   "source": [
    "# The results table of differentially abundant OTUs are stored in associations(siamcat_obj)\n",
    "diff_otus = as.list(rownames(associations(siamcat_obj)[associations(siamcat_obj)$p.adj < 0.05, ]))\n",
    "\n",
    "# The taxonomic label per OTU is stored in tax_table(psglom)\n",
    "tax_table(psglom)[rownames(tax_table(psglom)) %in% diff_otus, ]"
   ]
  },
  {
   "cell_type": "markdown",
   "id": "09047e33-f0c5-4312-b2e5-8183e6f38cb9",
   "metadata": {},
   "source": [
    "### 4.2. Confounder testing <a id='part4_2'/>"
   ]
  },
  {
   "cell_type": "markdown",
   "id": "588ff6bb-b23c-49cd-95af-50e14c4c7eb1",
   "metadata": {},
   "source": [
    "1. Test the associated metadata variables for potential confounding influence. As many biological and technical factors beyond the primary phenotype of interest can influence microbiome composition, simple association studies may suffer confounding by other variables, which can lead to spurious results. Associations are visualized either as barplot or Q-Q plot, depending on the type of metadata. Additionally, it evaluates associations among metadata variables using conditional entropy and associations with the label using generalized linear models, producing a correlation heatmap and appropriate quantitative barplots, respectively."
   ]
  },
  {
   "cell_type": "code",
   "execution_count": null,
   "id": "99d314b8-23df-4a87-9931-6a1dfac923f4",
   "metadata": {
    "tags": []
   },
   "outputs": [],
   "source": [
    "suppressWarnings(check.confounders(siamcat_obj, fn.plot='conf_check.pdf'))"
   ]
  },
  {
   "cell_type": "markdown",
   "id": "52aa0f40-b7a6-4139-b7ab-b49d8224305c",
   "metadata": {},
   "source": [
    "<div class=\"alert alert-block alert-info\">\n",
    "<b>Tip:</b> The output file has been created in the current directory. You can open the PDF file in a new tab in this notebook by following this <a href=\"conf_check.pdf\">link</a>.\n",
    "    You will find the following plots:\n",
    "    <ul>\n",
    "      <li>First Plot: Conditional entropies for metadata variables. The conditional entropy check primarily serves to remove nonsensical variables from subsequent checks. Conditional entropy quantifies the unique information contained in one variable (row) respective to another (column). Identical variables and derived variables which share the exact same information will have a value of zero.</li>    \n",
    "      <li>Second plots: glm regression coefficients + significance + AU-ROCs for the statistical test.</li>\n",
    "      <li>Third plots (Q-Q plot, boxplot and barplots): Original confounder check descriptive stat plots. The function produces plot for each meta-variable. When the distributions looks very similar for both controls and cases, it is unlikely that such variable would confound the analyses.</li>\n",
    "      <li>Fourth plots: Variance explained by label versus variance explained by metadata plots. These plots show the variance explained by the label in comparison with the variance explained by the metadata variable for each individual feature. Variables with many features in the upper left corner might be confounding the label associations.</li>\n",
    "    </ul>\n",
    "</div>\n"
   ]
  },
  {
   "cell_type": "markdown",
   "id": "268c3226-746d-4281-a5a2-81a87890d153",
   "metadata": {},
   "source": [
    "## Part 5. Detection of differentially abundant functions <a id='part5'/>"
   ]
  },
  {
   "cell_type": "markdown",
   "id": "b2ac8afc-6e48-4d55-84df-212b32cfa6de",
   "metadata": {},
   "source": [
    "In this part of the notebook we will use the subsampled list of Surface and Mesopelagic samples from the TARA Oceans Project, generated on step [1.2.5](#part1_2). After integrating the KO's tables, we run [Aldex2](https://www.bioconductor.org/packages/devel/bioc/vignettes/ALDEx2/inst/doc/ALDEx2_vignette.html) to find differentially abudant genes with KO annotation between Surface and Mesopelagic layers. For this purpose, we will use the `effect` as scale to plot the pathways with the highest number of differentially abundant KOs. Consider that steps involving fetching KO tables and `KEGGREST` queries can take few minutes to run.\n",
    "\n",
    "To add information to metabolic pathways plots, we use annotation results at gene level by assigning a KEGG Orthology (KO) to putative protein sequences. These results are generated through the [MGnify v5.0 pipeline](https://doi.org/10.1093/nar/gkac1080) for metagenomic assemblies. The [KEGG (Kyoto Encyclopedia of Genes and Genomes) database](https://www.genome.jp/kegg/) is a collection of biological databases, including genetic and metabolic pathways, diseases and drugs, protein-protein interactions, and gene expression. We use the KEGG database to make connections between genes and their biological functions, and define pathways containing the functions to be used as a resource for systems biology.  \n",
    "\n",
    "The two main key concepts we use in this section of the notebook are:  \n",
    "\n",
    "1. KEGG Orthologs (KO): Orthologs are genes in different species that evolved from a common ancestral gene and typically retain similar functions. KEGG Orthologs are a set of manually curated genes and proteins grouped into categories based on their functional similarities, particularly their roles in biological pathways and molecular functions. KEGG Orthologues IDs are unique and always starts with the letter 'K' (uppercase) followed by 5 numbers.  \n",
    "\n",
    "2. KEGG Pathways: Pathways are sets of interconnected biochemical reactions that form a chain leading from an initial reactant to a final product. KEGG pathways provide a high-level overview of the major metabolic pathways in an organism, while KEGG modules provide a more detailed view of the genes and reactions involved in a specific pathway. The IDs of manually drawn reference pathway starts with the word 'map' followed by 5 numbers. Another pathways prefix you will se in the notebook is 'ko' for reference pathway highlighting KO.  \n",
    "\n",
    "For a better displaying of results, in this notebook we are discarding templates for chemical structure (map010XX), global (map011XX), and overview (map012XX) maps.\n"
   ]
  },
  {
   "cell_type": "markdown",
   "id": "9eb004a9-0e74-493f-a454-a9e5104e6508",
   "metadata": {
    "tags": []
   },
   "source": [
    "### 5.1. Fetching KO tables from MGnify and formatting the condition label <a id='part5_1'/>"
   ]
  },
  {
   "cell_type": "markdown",
   "id": "21ca9129-93ea-41bf-b088-a78d8fa13ad6",
   "metadata": {},
   "source": [
    "1. For this example we need to fetch the KO annotation tables in JSON format from MGnify and reformat it as a dataframe. To speed up this time consuming step, we will subsampled to 10 samples per condition (Surface and Mesopelagic) from the list of accessions in the `ps_final` object generated in section [1.2](#part1_2). Then we integrate the KO annotation tables into a single dataframe. We will discard any sample having zero genes with KO annotation. The KOs table fetching step takes 3 min to run."
   ]
  },
  {
   "cell_type": "code",
   "execution_count": null,
   "id": "422bc23d-9044-4878-ac3e-7aed12546351",
   "metadata": {
    "tags": []
   },
   "outputs": [],
   "source": [
    "head(sample_data(ps_final), 3)\n",
    "table(sample_data(ps_final)$env_label)"
   ]
  },
  {
   "cell_type": "code",
   "execution_count": null,
   "id": "e2cd1802-d3cc-4d33-bcc1-f8f95dc0f7a3",
   "metadata": {
    "tags": []
   },
   "outputs": [],
   "source": [
    "# Subsampling to 10 samples per condition\n",
    "set.seed(123)\n",
    "\n",
    "surface_sub = data.frame(sample_data(ps)) %>%\n",
    "  filter(env_label == \"Surface\") %>%\n",
    "  sample_n(10, replace = FALSE)\n",
    "\n",
    "mesopelagic_sub = data.frame(sample_data(ps)) %>%\n",
    "  filter(env_label == \"Mesopelagic\") %>%\n",
    "  sample_n(10, replace = FALSE)\n",
    "\n",
    "# Storing subsamples in a single dataframe having the MGnify accessions as a column instead of as rownames\n",
    "sub_table = rbind(surface_sub, mesopelagic_sub)\n",
    "\n",
    "sub_table$mgnify_accession = rownames(sub_table)\n",
    "rownames(sub_table) <- NULL"
   ]
  },
  {
   "cell_type": "code",
   "execution_count": null,
   "id": "8a287500-7082-4397-b102-34d92346701c",
   "metadata": {
    "tags": []
   },
   "outputs": [],
   "source": [
    "# Fetching KO tables for 20 samples. This step takes 3 min to run\n",
    "list_of_dfs = list()\n",
    "for (accession in sub_table$mgnify_accession) {\n",
    "    ko_loc = paste0('analyses/',accession,'/kegg-orthologs')\n",
    "    ko_json = mgnify_retrieve_json(mg, path = ko_loc)\n",
    "    ko_data = as.data.frame(ko_json %>% spread_all)[ , c(\"attributes.accession\", \"attributes.count\")]\n",
    "    colnames(ko_data) = c('ko_id', accession)\n",
    "    list_of_dfs = append(list_of_dfs, list(ko_data)) \n",
    "}"
   ]
  },
  {
   "cell_type": "code",
   "execution_count": null,
   "id": "5ab7cdfb-24c5-47ec-9421-95f5c66b2833",
   "metadata": {
    "tags": []
   },
   "outputs": [],
   "source": [
    "# Integrating all KO dataframes into a single dataframe\n",
    "integrated_df = data.frame()\n",
    "for (df in list_of_dfs){\n",
    "    integrated_df = merge(integrated_df, df, all = T)\n",
    "}\n",
    "\n",
    "## Cleaning the integrated table\n",
    "# Using the KO id column as row names\n",
    "row.names(integrated_df) = integrated_df$ko_id\n",
    "integrated_df$ko_id = NULL\n",
    "\n",
    "# Converting NA to zero \n",
    "integrated_df[is.na(integrated_df)] = 0\n",
    "\n",
    "# Discarding samples that KOs abundance sum = 0\n",
    "integrated_df = integrated_df %>% select_if(is.numeric) %>% select_if(~ sum(. != 0) > 0)"
   ]
  },
  {
   "cell_type": "code",
   "execution_count": null,
   "id": "95124bfb-dc17-402d-8ce3-0cdeafdfd0ff",
   "metadata": {
    "tags": []
   },
   "outputs": [],
   "source": [
    "head(integrated_df, c(3,5))"
   ]
  },
  {
   "cell_type": "markdown",
   "id": "1ada7361-9ffd-48a9-a893-853f0cc07d7d",
   "metadata": {},
   "source": [
    "2. Aldex2 requires a list with the condition (Surface or Mesopelagic) sorted according with the features tables (KO counts table). We will use the metadata in the `sub_table` dataframe to map the condition based on the column names of the `integrated_df` object."
   ]
  },
  {
   "cell_type": "code",
   "execution_count": null,
   "id": "2f54d40f-5ef7-4662-ad6d-491a12366a27",
   "metadata": {
    "tags": []
   },
   "outputs": [],
   "source": [
    "# Mapping the MGYA accession to the condition\n",
    "sorted_conds = list()\n",
    "for (sample in colnames(integrated_df)) {\n",
    "    match = sub_table[sub_table$mgnify_accession %in% sample,]$env_label\n",
    "    cond = paste(match, collapse = \"\")\n",
    "    sorted_conds = append(sorted_conds, cond)    \n",
    "}\n",
    "vector_conds = unlist(sorted_conds)\n",
    "table(vector_conds)"
   ]
  },
  {
   "cell_type": "markdown",
   "id": "d0686490-8aca-4dfb-bbbe-bcf7b5e744af",
   "metadata": {},
   "source": [
    "### 5.2. Generating differentially abundance count tables<a id='part5_2'/>"
   ]
  },
  {
   "cell_type": "markdown",
   "id": "5e1249df-4e14-4f7c-9ad2-feeac2f625b5",
   "metadata": {},
   "source": [
    "1. Running Aldex2. It takes 2 minutes to complete."
   ]
  },
  {
   "cell_type": "code",
   "execution_count": null,
   "id": "714c7131-cfc9-4dcd-9e15-f4d96ec99b81",
   "metadata": {
    "tags": []
   },
   "outputs": [],
   "source": [
    "x.all = aldex(integrated_df, \n",
    "              vector_conds, \n",
    "              mc.samples=128, \n",
    "              test=\"t\", \n",
    "              effect=TRUE, \n",
    "              include.sample.summary=FALSE, \n",
    "              denom=\"all\", \n",
    "              verbose=FALSE,\n",
    "              group = \"Mesopelagic\"\n",
    "        )"
   ]
  },
  {
   "cell_type": "code",
   "execution_count": null,
   "id": "0b38b11d-7fc9-43d4-bc6e-7ef58a09ca5c",
   "metadata": {
    "tags": []
   },
   "outputs": [],
   "source": [
    "head(x.all, 3)"
   ]
  },
  {
   "cell_type": "markdown",
   "id": "2457fcff-bcdc-42de-8d35-ab3a98236a89",
   "metadata": {},
   "source": [
    "2. The column `effect` in the above output (`x.all` table) contains the log ratio of the sample mean to the reference mean. A positive effect indicates that the sample mean is greater than the reference mean, while a negative effect indicates that the sample mean is lower than the reference mean. In this example, Mesopelagic group is used as reference. We will generate now the matrix of KO-effect."
   ]
  },
  {
   "cell_type": "code",
   "execution_count": null,
   "id": "575855b2-a7e6-428a-867e-7072362b72c2",
   "metadata": {
    "tags": []
   },
   "outputs": [],
   "source": [
    "ko_matrix = data.matrix(subset(x.all, select = c('effect')))"
   ]
  },
  {
   "cell_type": "markdown",
   "id": "683e8d35-bca4-4b54-b2c8-eb9fb84fb1aa",
   "metadata": {},
   "source": [
    "3. Plotting the effect size (`effect`) and difference (`diff.btw`) to show an overview of differentially abundant functions. Two type of P-value results from the Welch’s t test are shown: In blue marks the expected P-value; in red marks the expected Benjamini-Hochberg corrected P-value. The threshold line indicates P-value = 0.05."
   ]
  },
  {
   "cell_type": "code",
   "execution_count": null,
   "id": "1f67bc4e-e8a6-47e0-ab0f-f1e579e17982",
   "metadata": {
    "tags": []
   },
   "outputs": [],
   "source": [
    "options(repr.plot.width=10, repr.plot.height=8)\n",
    "\n",
    "# Effect size plot\n",
    "par(mfrow=c(1,2))\n",
    "plot(x.all$effect, \n",
    "    x.all$we.ep, \n",
    "    log=\"y\", \n",
    "    cex=0.7, \n",
    "    col=rgb(0,0,1,0.2),  # Blue marks for expected P value of Welch’s t test\n",
    "    pch=19, \n",
    "    xlab=\"Effect size\", \n",
    "    ylab=\"P value\", \n",
    "    main=\"Effect size plot\")\n",
    "points(x.all$effect, \n",
    "    x.all$we.eBH, \n",
    "    cex=0.7, \n",
    "    col=rgb(1,0,0,0.2), # Red marks for expected Benjamini-Hochberg corrected P value of Welch’s t test\n",
    "    pch=19)\n",
    "abline(h=0.05, lty=2, col=\"grey\")\n",
    "legend(-3,0.000005, legend=c(\"P value\", \"BH-adjusted\"), pch=19, col=c(\"blue\", \"red\"))\n",
    "\n",
    "# Volcano plot\n",
    "plot(x.all$diff.btw, \n",
    "    x.all$we.ep, \n",
    "    log=\"y\", \n",
    "    cex=0.7, \n",
    "    col=rgb(0,0,1,0.2), # Blue marks for expected P value of Welch’s t test\n",
    "    pch=19, \n",
    "    xlab=\"Difference\", \n",
    "    ylab=\"P value\", \n",
    "    main=\"Volcano plot\")\n",
    "points(x.all$diff.btw, \n",
    "    x.all$we.eBH, \n",
    "    cex=0.7, \n",
    "    col=rgb(1,0,0,0.2), # Red marks for expected Benjamini-Hochberg corrected P value of Welch’s t test\n",
    "    pch=19)\n",
    "abline(h=0.05, lty=2, col=\"grey\")\n",
    "legend(-8,0.000005, legend=c(\"P value\", \"BH-adjusted\"), pch=19, col=c(\"blue\", \"red\"))"
   ]
  },
  {
   "cell_type": "markdown",
   "id": "bf6d3a85-9124-477e-ad82-6a7185452db7",
   "metadata": {},
   "source": [
    "4. Reporting features detected by the Welchs’ or Wilcoxon test individually (blue) or by both (red)."
   ]
  },
  {
   "cell_type": "code",
   "execution_count": null,
   "id": "7636c4ad-6a57-491c-ab65-7db26e8bc002",
   "metadata": {
    "tags": []
   },
   "outputs": [],
   "source": [
    "options(repr.plot.width=8, repr.plot.height=8)\n",
    "\n",
    "found.by.all <- which(x.all$we.eBH < 0.05 & x.all$wi.eBH < 0.05)\n",
    "found.by.one <- which(x.all$we.eBH < 0.05 | x.all$wi.eBH < 0.05)\n",
    "\n",
    "plot(x.all$diff.win, x.all$diff.btw, pch=19, cex=1, col=rgb(0,0,0,0.3),\n",
    " xlab=\"Dispersion\", ylab=\"Difference\")\n",
    "points(x.all$diff.win[found.by.one], x.all$diff.btw[found.by.one], pch=19,\n",
    " cex=1, col=rgb(0,0,1,0.5))\n",
    "points(x.all$diff.win[found.by.all], x.all$diff.btw[found.by.all], pch=19,\n",
    " cex=1, col=rgb(1,0,0,1))\n",
    "abline(0,1,lty=2)\n",
    "abline(0,-1,lty=2)\n"
   ]
  },
  {
   "cell_type": "markdown",
   "id": "a4317b13-aa5c-4001-85da-eb34ffc6fcaa",
   "metadata": {},
   "source": [
    "### 5.3. Selecting pathways to draw<a id='part5_3'/>"
   ]
  },
  {
   "cell_type": "markdown",
   "id": "8333a53e-1778-4df1-b3a9-34a328f4b19c",
   "metadata": {},
   "source": [
    "1. We will use the intersection of both testing methods (Welchs’ or Wilcoxon) to find the pathways with differentially abundant KOs. This step takes 3 min to run."
   ]
  },
  {
   "cell_type": "code",
   "execution_count": null,
   "id": "e8deb3d9-dca9-4128-a25d-57b7c065aa45",
   "metadata": {
    "tags": []
   },
   "outputs": [],
   "source": [
    "# Storing the list of KOs found as differentially abundant by both methods\n",
    "kos_list = list()\n",
    "for (index in found.by.all){\n",
    "    current_ko = rownames(x.all)[index]\n",
    "    kos_list = append(kos_list, current_ko)\n",
    "}"
   ]
  },
  {
   "cell_type": "code",
   "execution_count": null,
   "id": "62de0d1a-6225-4bd5-9347-924cb0181e78",
   "metadata": {
    "tags": []
   },
   "outputs": [],
   "source": [
    "# Generating the list of pathways with differentially abundant KOs. This step takes 3 min to complete\n",
    "ko_pathways = collect_pathways(kos_list)"
   ]
  },
  {
   "cell_type": "markdown",
   "id": "871ba3aa-289f-4d83-a074-edf7730e2d8d",
   "metadata": {},
   "source": [
    "2. Finding the pathways with the highest number of significant KOs."
   ]
  },
  {
   "cell_type": "code",
   "execution_count": null,
   "id": "9fc83771-900e-4db7-8933-05bf7c911c2a",
   "metadata": {
    "tags": []
   },
   "outputs": [],
   "source": [
    "# Counting the number of differentially abundant KOs per pathway\n",
    "pathways_counts = list()\n",
    "for (path_element in ko_pathways) {\n",
    "    if (path_element %in% names(pathways_counts)) {\n",
    "        new_value = pathways_counts[[path_element]] + 1\n",
    "        pathways_counts[path_element] = new_value       \n",
    "    } else {\n",
    "        pathways_counts[path_element] = 1 \n",
    "    }\n",
    "}"
   ]
  },
  {
   "cell_type": "code",
   "execution_count": null,
   "id": "80ce429f-c59e-42e3-a4d0-edca27042a52",
   "metadata": {
    "tags": []
   },
   "outputs": [],
   "source": [
    "# Saving the pathways with the highest number of differentially abundant KOs\n",
    "top_to_plot = names(tail(pathways_counts[order(unlist(pathways_counts))], 12))\n",
    "top_to_plot"
   ]
  },
  {
   "cell_type": "markdown",
   "id": "423d6248-a286-499d-9a90-487764fe6338",
   "metadata": {},
   "source": [
    "### 5.4. Drawing pathways!<a id='part5_4'/>"
   ]
  },
  {
   "cell_type": "markdown",
   "id": "67fe129e-416e-4d4e-ac70-daa877564102",
   "metadata": {},
   "source": [
    "1. For this type of data, values can have both negative and positive fractions, that's why we use both directions when plotting. Pathview will display a long message while working with some warnings. You will see new files with `png` and `xml` extension appearing on the left-hand side panel, we will clean that in the next step. This step takes around 2 minutes to complete."
   ]
  },
  {
   "cell_type": "code",
   "execution_count": null,
   "id": "641f25a8-ff85-472a-93c9-cdda43290862",
   "metadata": {
    "tags": []
   },
   "outputs": [],
   "source": [
    "for (p in top_to_plot) {\n",
    "    nude_id =  gsub(\"map\", \"\", p)\n",
    "    pathview(gene.data = ko_matrix, \n",
    "        species = \"ko\", \n",
    "        pathway.id = nude_id, \n",
    "        both.dirs = TRUE, \n",
    "        low = c(\"#bd066b\", \"#bd066b\"),  \n",
    "        mid = c(\"#c9c9c9\" , \"#c9c9c9\"), \n",
    "        high = c(\"#02b3ad\" , \"#02b3ad\")\n",
    "    )\n",
    "}"
   ]
  },
  {
   "cell_type": "markdown",
   "id": "3b79bb4f-2cfc-4900-bafc-84859eb67b1d",
   "metadata": {},
   "source": [
    "2. Cleaning the working directory."
   ]
  },
  {
   "cell_type": "code",
   "execution_count": null,
   "id": "875dc611-2082-4662-8069-db53a540091f",
   "metadata": {
    "tags": []
   },
   "outputs": [],
   "source": [
    "if (!dir.exists(\"output_plots\")){\n",
    "    dir.create(\"output_plots\")\n",
    "    dir.create(\"output_plots/functions\")\n",
    "}\n",
    "if (!dir.exists(\"output_plots/functions\")){\n",
    "    dir.create(\"output_plots/functions\")\n",
    "}\n",
    "\n",
    "file.copy(from=list.files(pattern=\"./*pathview.png\"), to=\"./output_plots/functions/\", overwrite = TRUE)\n",
    "\n",
    "png_files = list.files(path = \".\", pattern = \"*.png\")\n",
    "xml_files = list.files(path = \".\", pattern = \"*.xml\")\n",
    "files = c(png_files, xml_files)\n",
    "unlink(files)"
   ]
  },
  {
   "cell_type": "markdown",
   "id": "acc5dd85-542e-474c-a241-74f9897d43ab",
   "metadata": {},
   "source": [
    "3. The following are two examples of pathways having a high number of differentially abundant KOs. Other maps are stored at the `output_plots/functions/` directory."
   ]
  },
  {
   "cell_type": "code",
   "execution_count": null,
   "id": "5a2431c6-d3f0-44e0-90fd-1fa24db5507b",
   "metadata": {
    "tags": []
   },
   "outputs": [],
   "source": [
    "display_png(file='./output_plots/functions/ko00720.pathview.png')"
   ]
  },
  {
   "cell_type": "code",
   "execution_count": null,
   "id": "22f0f7be-20ce-4f2d-a193-8ca7005f35bd",
   "metadata": {
    "tags": []
   },
   "outputs": [],
   "source": [
    "display_png(file='./output_plots/functions/ko00680.pathview.png')"
   ]
  },
  {
   "cell_type": "code",
   "execution_count": null,
   "id": "16f92d6d-2a97-4d15-876d-6883cf7831b3",
   "metadata": {
    "tags": []
   },
   "outputs": [],
   "source": [
    "# Get pathview help\n",
    "#?pathview"
   ]
  },
  {
   "cell_type": "markdown",
   "id": "119204e1-81d8-4d1d-8407-776ed7e1d4dc",
   "metadata": {},
   "source": [
    " ### References: <a id='refs'/></a>\n",
    "\n",
    "<a id=\"reference_1\">1.</a> Lynch, M., Neufeld, J. Ecology and exploration of the rare biosphere. Nat Rev Microbiol 13:217–229 (2015) [DOI:10.1038/nrmicro3400](https://doi.org/10.1038/nrmicro3400)\n",
    "    \n",
    "<a id=\"reference_2\">2.</a> McKnight, DT., Huerlimann, R., Bower, DS. et al. Methods for Normalizing Microbiome Data: An Ecological Perspective. Methods in Ecology and Evolution / British Ecological Society 10(3):389–400 (2019) [DOI:10.1111/2041-210X.13115](https://doi.org/10.1111/2041-210X.13115)\n",
    "\n",
    "<a id=\"reference_3\">3.</a> McMurdie, PJ., Holmes, S. Waste Not, Want Not: Why Rarefying Microbiome Data Is Inadmissible. PLoS Comput Biol 10(4):e1003531 (2014) [DOI:10.1371/journal.pcbi.1003531](https://doi.org/10.1371/journal.pcbi.1003531)\n",
    "\n",
    "<a id=\"reference_4\">4.</a> Willis, A. Rarefaction, Alpha Diversity, and Statistics. Front. Microbiol. Sec. Terrestrial Microbiology 10:2407 (2019) [DOI:10.3389/fmicb.2019.02407](https://doi.org/10.3389/fmicb.2019.02407)\n",
    "    \n",
    "<a id=\"reference_5\">5.</a> Kim, BR., Shin, J., Guevarra, R. et al. Deciphering Diversity Indices for a Better Understanding of Microbial Communities. J Microbiol Biotechnol 28;27(12):2089-2093 (2017) [DOI:10.4014/jmb.1709.09027](https://doi.org/10.4014/jmb.1709.09027)\n",
    "\n",
    "<a id=\"reference_6\">6.</a> Wagner, BD., Grunwald, GK., Zerbe, GO. et al. On the Use of Diversity Measures in Longitudinal Sequencing Studies of Microbial Communities. Front. Microbiol. 9:1037 (2018) [DOI:10.3389/fmicb.2018.01037](https://doi.org/10.3389/fmicb.2018.01037)\n",
    "    \n",
    "<a id=\"reference_7\">7.</a> Pereira, M., Wallroth, M., Jonsson, V. et al. Comparison of normalization methods for the analysis of metagenomic gene abundance data. BMC Genomics 19,274 (2018) [DOI:10.1186/s12864-018-4637-6](https://doi.org/10.1186/s12864-018-4637-6)\n",
    "    \n",
    "<a id=\"reference_8\">8.</a> McMurdie, P., Holmes, S. Tutorial of 2018: The distance function in phyloseq. [Available at website](https://joey711.github.io/phyloseq/distance.html)\n",
    "\n",
    "<a id=\"reference_9\">9.</a> Wirbel, J., Zych, K., Essex, M. et al. Microbiome meta-analysis and cross-disease comparison enabled by the SIAMCAT machine learning toolbox. Genome Biol 22:93 (2021) [DOI:10.1186/s13059-021-02306-1](https://doi.org/10.1186/s13059-021-02306-1)\n",
    "        \n",
    "<a id=\"reference_10\">10.</a> Tibshirani, R. Regression Shrinkage and Selection via the Lasso. Journal of the Royal Statistical Society. Series B (Methodological) 58(1):267-288 (1996) [DOI:10.1111/j.2517-6161.1996.tb02080.x](https://doi.org/10.1111/j.2517-6161.1996.tb02080.x)\n",
    "\n",
    "\n",
    "#### R libraries:\n",
    " - `library(ALDEx2)` Gloor GB, Macklaim JM, Fernandes AD (2016). Displaying Variation in Large Datasets: a Visual Summary of Effect Sizes. Journal of Computational and Graphical Statistics, 2016 http://doi.org/10.1080/10618600.2015.1131161. R package version 1.30.0.  \n",
    "\n",
    " - `library(data.table)` Matt Dowle and Arun Srinivasan (2023). data.table: Extension of `data.frame`. R package version 1.14.8. https://CRAN.R-project.org/package=data.table  \n",
    "\n",
    " - `library(dplyr)` Hadley Wickham, Romain François, Lionel Henry, Kirill Müller and Davis Vaughan (2023). dplyr: A Grammar of Data Manipulation. R package version 1.1.2. https://CRAN.R-project.org/package=dplyr  \n",
    "\n",
    " - `library(ggplot2)` Wickham H (2016). ggplot2: Elegant Graphics for Data Analysis. Springer-Verlag New York. ISBN 978-3-319-24277-4, https://ggplot2.tidyverse.org.  \n",
    "\n",
    " - `library(IRdisplay)` Thomas Kluyver, Philipp Angerer and Jan Schulz (NA). IRdisplay: 'Jupyter' Display Machinery. R package version 1.1. https://github.com/IRkernel/IRdisplay  \n",
    "\n",
    " - `library(KEGGREST)` Dan Tenenbaum and Bioconductor Package Maintainer (2021). KEGGREST: Client-side REST access to the Kyoto Encyclopedia of Genes and Genomes (KEGG). R package version 1.38.0.  \n",
    "\n",
    " - `library(metagenomeSeq)` Paulson JN, Olson ND, Braccia DJ, Wagner J, Talukder H, Pop M, Bravo HC (2013). metagenomeSeq: Statistical analysis for sparse high-throughput sequencing. Bioconductor package, http://www.cbcb.umd.edu/software/metagenomeSeq.  \n",
    "\n",
    " - `library(MGnifyR)` Ben Allen (2022). MGnifyR: R interface to EBI MGnify metagenomics resource. R package version 0.1.0.  \n",
    "\n",
    " - `library(microbiomeMarker)` Cao Y, Dong Q, Wang D, Zhang P, Liu Y, Niu C (2022). “microbiomeMarker: an R/Bioconductor package for microbiome marker identification and visualization.” Bioinformatics. doi:10.1093/bioinformatics/btac438.  \n",
    "\n",
    " - `library(pathview)` Luo, W. and Brouwer C., Pathview: an R/Bioconductor package for pathway-based data integration and visualization. Bioinformatics, 2013, 29(14): 1830-1831, doi: 10.1093/bioinformatics/btt285. R package version 1.38.0.  \n",
    "\n",
    " - `library(phyloseq)` McMurdie and Holmes (2013) phyloseq: An R Package for Reproducible Interactive Analysis and Graphics of Microbiome Census Data. PLoS ONE. 8(4):e61217  \n",
    "\n",
    " - `library(plyr)` Wickham H (2011). “The Split-Apply-Combine Strategy for Data Analysis.” Journal of Statistical Software, 40(1), 1–29. https://www.jstatsoft.org/v40/i01/.  \n",
    "\n",
    " - `library(SIAMCAT)` Wirbel J, Zych K, Essex M, Karcher N, Kartal E, Salazar G, Bork P, Sunagawa S, Zeller G (2021). “Microbiome meta-analysis and cross-disease comparison enabled by the SIAMCAT machine learning toolbox.” Genome Biology. https://doi.org/10.1186/s13059-021-02306-1.  \n",
    "    \n",
    " - `library(stringr)` Wickham H (2022). stringr: Simple, Consistent Wrappers for Common String Operations. https://stringr.tidyverse.org, https://github.com/tidyverse/stringr.  \n",
    "\n",
    " - `library(tidyjson)` Jeremy Stanley and Cole Arendt (2023). tidyjson: Tidy Complex 'JSON'. R package version 0.3.2. https://CRAN.R-project.org/package=tidyjson  \n",
    "\n",
    " - `library(tidyverse)` Wickham H, Averick M, Bryan J, Chang W, McGowan LD, François R, Grolemund G, Hayes A, Henry L, Hester J, Kuhn M, Pedersen TL, Miller E, Bache SM, Müller K, Ooms J, Robinson D, Seidel DP, Spinu V, Takahashi K, Vaughan D, Wilke C, Woo K, Yutani H (2019). “Welcome to the tidyverse.” Journal of Open Source Software, 4(43), 1686. doi:10.21105/joss.01686.  \n",
    "    \n",
    " - `library(vegan)` Oksanen, J., Blanchet, F. G., Friendly, M., Kindt, R., Legendre, P., McGlinn, D., ... & Wagner, H. (2019). vegan: Community Ecology Package. R package version 2.6-4. Retrieved from https://CRAN.R-project.org/package=vegan.  \n",
    "\n",
    "\n",
    "\n",
    "#### Going deeper:\n",
    "\n",
    "Documentation and more MGnifyR code and exercises available [on GitHub](https://beadyallen.github.io/MGnifyR/) and [on rdrr site](https://rdrr.io/github/beadyallen/MGnifyR/f/vignettes/MGnifyR.Rmd). Online tutorial available here:\n",
    "https://www.ebi.ac.uk/training/online/courses/metagenomics-bioinformatics/mgnifyr/\n",
    "\n",
    "KEGGREST documentation with multiple examples:\n",
    "https://www.bioconductor.org/packages/devel/bioc/vignettes/KEGGREST/inst/doc/KEGGREST-vignette.html\n",
    "\n",
    "Pathview user manual:\n",
    "https://www.bioconductor.org/packages/release/bioc/vignettes/pathview/inst/doc/pathview.pdf\n",
    "\n",
    "Phyloseq tutorials available [on GitHub](https://joey711.github.io/phyloseq/index.html)\n",
    "    \n",
    "Visit the [SIAMCAT documentation](https://siamcat.embl.de/)"
   ]
  },
  {
   "cell_type": "code",
   "execution_count": null,
   "id": "1312441c-2ce7-47bf-b4e7-7261a5b20bb0",
   "metadata": {},
   "outputs": [],
   "source": []
  }
 ],
 "metadata": {
  "kernelspec": {
   "display_name": "R (mgnify-r-env)",
   "language": "R",
   "name": "conda-env-mgnify-r-env-r"
  },
  "language_info": {
   "codemirror_mode": "r",
   "file_extension": ".r",
   "mimetype": "text/x-r-source",
   "name": "R",
   "pygments_lexer": "r",
   "version": "4.2.3"
  }
 },
 "nbformat": 4,
 "nbformat_minor": 5
}
