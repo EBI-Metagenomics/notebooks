{
 "cells": [
  {
   "cell_type": "raw",
   "id": "dd5613df-43c2-4319-bd46-ca18a85c51ff",
   "metadata": {},
   "source": [
    "---\n",
    "title: \"DIME project examples\"\n",
    "author: \"Alejandra Escobar (MGnify team)\"\n",
    "categories: [R]\n",
    "execute: \n",
    "  enabled: true\n",
    "---"
   ]
  },
  {
   "cell_type": "markdown",
   "id": "f3a383f6-829a-43b2-87ba-159d634fc2ce",
   "metadata": {},
   "source": [
    "<div style=\"max-width:1200px\"><img src=\"../_resources/mgnify_banner.png\" width=\"100%\"></div>"
   ]
  },
  {
   "cell_type": "markdown",
   "id": "9d8bedac-2993-42f4-a71e-b689466bd462",
   "metadata": {
    "tags": []
   },
   "source": [
    "<img src=\"../_resources/mgnify_logo.png\" width=\"200px\">\n",
    "\n",
    "[MGnifyR](http://github.com/beadyallen/mgnifyr) is a library that provides a set of tools for easily accessing and processing MGnify data in R, making queries to MGnify databases through the [MGnify API](https://www.ebi.ac.uk/metagenomics/api/v1/). \n",
    "The benefit of MGnifyR is that data can either be fetched in tsv format or be directly combined in a phyloseq object to run an analysis in a custom workflow.\n",
    "\n",
    "This is an interactive code notebook (a Jupyter Notebook). To run this code, click into each cell and press the ▶ button in the top toolbar, or press shift+enter.\n"
   ]
  },
  {
   "cell_type": "markdown",
   "id": "14928ada-cf8d-41d8-8256-a1377a7fccb1",
   "metadata": {},
   "source": [
    "# Pathways Visualisation\n",
    "\n",
    "This is a notebook generated for the 2nd Biohackathon of ELIXIR Food and Nutrition project. We use the DIME study results ([MGYS00006076](https://www.ebi.ac.uk/metagenomics/studies/MGYS00006076#overview)) on MGnify as example on how to fetch and process metagenomic data.  \n",
    "\n",
    "We aim to demonstrate how the MGnifyR tool can be used to fetch functional annotation results generated through the MGnify metagenomic analyisis pipelines. Then we will use the metadata file from the [Phenotype database](https://dashin.eu/interventionstudies/) (not-publicly available) to group the samples and to generate a comparative metagenomics analysis to find diffentially abundant genes using [Aldex2](https://www.bioconductor.org/packages/devel/bioc/vignettes/ALDEx2/inst/doc/ALDEx2_vignette.html). Finally, we will generate the pathways visualization using [Pathview](https://bioconductor.org/packages/release/bioc/html/pathview.html) in R.\n"
   ]
  },
  {
   "cell_type": "markdown",
   "id": "047933f6-06fc-461d-8873-de5715360e76",
   "metadata": {},
   "source": [
    "## Contents\n",
    "\n",
    "- [Introduction](#intro)\n",
    "    - [Minimal example 1. Fetching KEGG orthologs and modules tables from MGnify](#min_mgnifyr)\n",
    "    - [Minimal example 2. Accessing to KEGG pathways info using the KEGGREST API](#min_keggrest)\n",
    "- [Part 1. Comparative analysis of microbiota response to low and high bioactive diets](#part1)\n",
    "    - [1.1. Fetching metadata tables of DIME project from MGnify](#part1_1)\n",
    "    - [1.2. Reading and formating the DIME Phenotype table](#part1_2)\n",
    "    - [1.3. Fetching KO tables from MGnify](#part1_3)\n",
    "    - [1.4. Add the Start group label to the KO integrated table](#part1_4)\n",
    "    - [1.5. Generating differentially abundance count tables](#part1_5)\n",
    "    - [1.6. Selecting pathways to draw](#part1_6)\n",
    "    - [1.7. Drawing pathways!](#part1_7)\n",
    "- [References](#refs)"
   ]
  },
  {
   "cell_type": "code",
   "execution_count": null,
   "id": "c4900c9e-7d78-47f2-bb5f-f9d6d0ba0695",
   "metadata": {
    "tags": []
   },
   "outputs": [],
   "source": [
    "# Loading libraries:\n",
    "suppressMessages({\n",
    "    library(ALDEx2)\n",
    "    library(data.table)\n",
    "    library(dplyr)\n",
    "    library(IRdisplay)\n",
    "    library(KEGGREST)\n",
    "    library(MGnifyR)   \n",
    "    library(pathview)\n",
    "    library(tidyjson)\n",
    "})\n",
    "    \n",
    "#display_markdown(file = 'assets/mgnifyr_help.md')"
   ]
  },
  {
   "cell_type": "code",
   "execution_count": null,
   "id": "9a54eed0-81ca-48ac-afb5-86f8a1fce9bc",
   "metadata": {
    "tags": []
   },
   "outputs": [],
   "source": [
    "# Setting tables and figures size to display (these will be reset later):\n",
    "options(repr.matrix.max.cols=150, repr.matrix.max.rows=500)\n",
    "options(repr.plot.width=4, repr.plot.height=4)"
   ]
  },
  {
   "cell_type": "code",
   "execution_count": null,
   "id": "b402def3-01d0-414f-9116-86fefe2cac08",
   "metadata": {
    "tags": []
   },
   "outputs": [],
   "source": [
    "# Setting up functions\n",
    "collect_pathways <- function(ids_list) {\n",
    "    pathways = list()\n",
    "    for (id in ids_list) { \n",
    "        current_pathway = as.list(keggLink(\"pathway\", id))\n",
    "        for (index in grep(\"map\", current_pathway)) {        \n",
    "            clean_id = gsub(\"*path:\", \"\", current_pathway[index])\n",
    "            # Discarding chemical structure (map010XX), global (map011XX), and overview (map012XX) maps\n",
    "            prefix = substring(clean_id, 1, 6)\n",
    "            if(is.na(match(\"map010\", prefix)) & is.na(match(\"map011\", prefix)) & is.na(match(\"map012\", prefix)) ){\n",
    "                pathways = append(pathways, clean_id)\n",
    "            }\n",
    "        }\n",
    "    }\n",
    "    return(pathways)\n",
    "}"
   ]
  },
  {
   "cell_type": "code",
   "execution_count": null,
   "id": "a5359e75-f33f-4e90-8b33-305106c90936",
   "metadata": {
    "tags": []
   },
   "outputs": [],
   "source": [
    "# Create your session mgnify_client object\n",
    "mg = mgnify_client(usecache = T, cache_dir = '/home/jovyan/.mgnify_cache')"
   ]
  },
  {
   "cell_type": "markdown",
   "id": "9a5d7e81-5112-4bce-9dbd-f1e89d2740b7",
   "metadata": {},
   "source": [
    "## Introduction <a id='intro'/>"
   ]
  },
  {
   "cell_type": "markdown",
   "id": "237b3f50-44f9-4dc2-b8a1-c9a8b5108b09",
   "metadata": {},
   "source": [
    "The goal of this notebook is to demonstrate how to create KEGG pathway maps to visualise metabolic potential and metabolite production in metagenomic samples. We will use metabolic pathways annotated at the gene level by assigning a KEGG Orthology (KO) to putative protein sequences. These results are generated through the [MGnify v5.0 pipeline](https://doi.org/10.1093/nar/gkac1080) for metagenomic assemblies, as shown in the workflow schema below. We will also use the completeness estimation of KEGG modules available in the [MGnify web portal](https://www.ebi.ac.uk/metagenomics). Consider that modules completeness is determined by the shortest possible path which contains the essential steps for the pathway; therefore, even if 100% completeness is achieved, there can still be gaps.\n",
    "\n",
    "The [KEGG (Kyoto Encyclopedia of Genes and Genomes) database](https://www.genome.jp/kegg/) is a collection of biological databases, including genetic and metabolic pathways, diseases and drugs, protein-protein interactions, and gene expression. We use the KEGG database to make connections between genes and their biological functions, and define pathways containing the functions to be used as a resource for systems biology.  \n",
    "\n",
    "Some key concepts we will use in this notebook are:  \n",
    "\n",
    "1. KEGG Orthologs (KO): Orthologs are genes in different species that evolved from a common ancestral gene and typically retain similar functions. KEGG Orthologs are a set of manually curated genes and proteins grouped into categories based on their functional similarities, particularly their roles in biological pathways and molecular functions. KEGG Orthologues IDs are unique and always starts with the letter 'K' (uppercase) followed by 5 numbers.  \n",
    "\n",
    "2. KEGG Modules: Modules are clusters of related genes that are involved in a specific biological process or pathway. KEGG modules IDs starts with 'M' followed by 5 numbers.  \n",
    "\n",
    "3. KEGG Pathways: Pathways are sets of interconnected biochemical reactions that form a chain leading from an initial reactant to a final product. KEGG pathways provide a high-level overview of the major metabolic pathways in an organism, while KEGG modules provide a more detailed view of the genes and reactions involved in a specific pathway. The IDs of manually drawn reference pathway starts with the word 'map' followed by 5 numbers. Another pathways prefix you will se in the notebook is 'ko' for reference pathway highlighting KO.  \n",
    "\n",
    "For a better display of results, in this notebook we are not using as templates chemical structure (map010XX), global (map011XX), and overview (map012XX) maps."
   ]
  },
  {
   "cell_type": "markdown",
   "id": "6be1aea5-3ab1-46ea-9ef8-3cdef75fc3ea",
   "metadata": {},
   "source": [
    "<figure>\n",
    "  <img src=\"https://www.ebi.ac.uk/metagenomics/static/5e55649e459d5f26ee6c.png\" alt=\"Alt Text\" width=\"800px\">\n",
    "  <figcaption>Mgnify assembly analysis pipeline v5.0</figcaption>\n",
    "</figure>"
   ]
  },
  {
   "cell_type": "markdown",
   "id": "145c1350-767e-47d2-8948-64e0b5984ada",
   "metadata": {},
   "source": [
    "In the following sections of this introduction you will find a couple of simplest minimal examples on the main functions we will use to fetch and format the input tables for KEGG pathways visualization."
   ]
  },
  {
   "cell_type": "markdown",
   "id": "db528e1d-e830-4b7d-be53-993a2ab4b227",
   "metadata": {},
   "source": [
    "### Minimal example 1. Fetching KEGG orthologs and modules tables from MGnify <a id='min_mgnifyr'/>\n"
   ]
  },
  {
   "cell_type": "markdown",
   "id": "804370c5-1a88-4a29-93f7-fddc6262b7bd",
   "metadata": {},
   "source": [
    "`MgnifyR` has pre-built functions to retrieve data from MGnify databases. The `mgnify_retrieve_json` function can be used to access results that are not available in tabular format. In this notebook we will fetch the pathways annotation and pathways completeness tables generated by the latest version of the MGnify analysis pipeline in json format and reformat into dataframes to easily manipulate the data. "
   ]
  },
  {
   "cell_type": "markdown",
   "id": "462171cc-9bd2-4584-b91b-b77f1e757743",
   "metadata": {},
   "source": [
    "1. Example on how to fetch the KOs counts table for one sample having the analysis accession `MGYA00636312`:"
   ]
  },
  {
   "cell_type": "code",
   "execution_count": null,
   "id": "01ac30ee-9c79-4524-a413-a579d35b6bb9",
   "metadata": {
    "tags": []
   },
   "outputs": [],
   "source": [
    "ko_json = mgnify_retrieve_json(mg, path = 'analyses/MGYA00636312/kegg-orthologs')\n",
    "ko_data = as.data.frame(ko_json %>% spread_all)[ , c(\"attributes.accession\", \"attributes.count\")]"
   ]
  },
  {
   "cell_type": "code",
   "execution_count": null,
   "id": "6bd137d6-49a2-41ae-be25-d34ca81df9ed",
   "metadata": {
    "tags": []
   },
   "outputs": [],
   "source": [
    "head(ko_data, 3)"
   ]
  },
  {
   "cell_type": "markdown",
   "id": "64de9fbe-9596-4c0e-b173-f9d6bb5e2e19",
   "metadata": {},
   "source": [
    "2. And we can also fetch the modules completeness table for the same sample using the following code:"
   ]
  },
  {
   "cell_type": "code",
   "execution_count": null,
   "id": "d9d6abcd-d13e-475c-82b3-1e8d0b9be3f5",
   "metadata": {
    "tags": []
   },
   "outputs": [],
   "source": [
    "ko_comp_json = mgnify_retrieve_json(mg, path = 'analyses/MGYA00636312/kegg-modules')\n",
    "ko_comp = as.data.frame(ko_comp_json %>% spread_all)[ , c(\"id\", \"attributes.completeness\")]"
   ]
  },
  {
   "cell_type": "code",
   "execution_count": null,
   "id": "21a8e1d8-1642-4c26-98a4-7c23147ec0a7",
   "metadata": {
    "tags": []
   },
   "outputs": [],
   "source": [
    "head(ko_comp, 3)"
   ]
  },
  {
   "cell_type": "markdown",
   "id": "ee37b4bb-a894-46a9-b2bf-feeeb6509c18",
   "metadata": {},
   "source": [
    "### Minimal example 2. Accessing to KEGG pathways info using the KEGGREST API <a id='min_keggrest'/>"
   ]
  },
  {
   "cell_type": "markdown",
   "id": "10027150-dd66-439c-840d-3ef949e0f0e4",
   "metadata": {},
   "source": [
    "[KEGGREST](https://www.bioconductor.org/packages/devel/bioc/vignettes/KEGGREST/inst/doc/KEGGREST-vignette.html) is a powerful tool with multiple functions to access and utilize data from KEGG databases. We can use `KEGGREST` to map between IDs in different databases and to find pathways associated with a module, orthologue, or compound. To display the list of KEGG databases we can query, you can run `listDatabases()` command."
   ]
  },
  {
   "cell_type": "markdown",
   "id": "939df2b7-a7c6-4bde-a223-8d7148e89e49",
   "metadata": {},
   "source": [
    "1. With `keggLink` function we can find the ID of the pathways to use as template to draw the module of methane production from CO2 (M00567). We find that the module M00567 is present in 4 possible pathways."
   ]
  },
  {
   "cell_type": "code",
   "execution_count": null,
   "id": "cb00ebe1-39f5-467c-9981-d679c50f76e1",
   "metadata": {
    "tags": []
   },
   "outputs": [],
   "source": [
    "as.list(keggLink(\"pathway\", 'M00567'))"
   ]
  },
  {
   "cell_type": "markdown",
   "id": "3ef0e2cd-fd15-4045-b41e-fbfa921d415d",
   "metadata": {},
   "source": [
    "2. Using `keggFind` to find all the KOs associated to the Methyl-coenzyme M reductase (EC 2.8.4.1)"
   ]
  },
  {
   "cell_type": "code",
   "execution_count": null,
   "id": "c7cd6207-ac97-41e5-a8d6-7e44239a3785",
   "metadata": {
    "tags": []
   },
   "outputs": [],
   "source": [
    "as.list(keggFind(\"ko\", '2.8.4.1'))"
   ]
  },
  {
   "cell_type": "markdown",
   "id": "09672213-271c-4bcd-93d6-4eda159cb7a9",
   "metadata": {},
   "source": [
    "## Part 1. Comparative analysis of microbiota response to low and high bioactive diets <a id='part1'/>"
   ]
  },
  {
   "cell_type": "markdown",
   "id": "3589583c-bf0a-42b9-a203-8e36fb1a638a",
   "metadata": {},
   "source": [
    "In this part of the notebook we will use all the samples for the DIME study `MGYS00006076`. The workflow includes the following steps:  \n",
    "\n",
    "1. Fetch data from MGnify.  \n",
    "2. Generate a simple phenotype table with the SubjectID and the Start group.\n",
    "3. Download ko tables from MGnify and integrate the resuls into a single table.\n",
    "4. Add the phenotype group label to the integrated ko table. We assume that the numerical section of SubjectID in the phenotype database corresponds to the prefix of the sample-name in MGnify.\n",
    "5. Run [Aldex2](https://www.bioconductor.org/packages/devel/bioc/vignettes/ALDEx2/inst/doc/ALDEx2_vignette.html) to find differentially abudant genes with KO annotation between low and high bioactives diet\n",
    "6. Use the `effect` as scale to plot the pathways with the highest number of differentially abundant KOs. \n",
    "7. Draw pathways!\n",
    "\n",
    "Consider that steps involving fetching KO tables and `KEGGREST` queries can take few minutes to run.\n",
    "\n",
    "Phenotype database id:  \n",
    "Metadata for 20 individuals named under SubjectID as `DIME_[001-027]`  \n",
    "\n",
    "MGnify results table id:  \n",
    "MGnify accessions for 100 samples named under sample_sample-name as `[01-27]-[MP|V|v][1-4]]`  \n"
   ]
  },
  {
   "cell_type": "markdown",
   "id": "d1c71880-51ec-434f-8dbf-7abe3d63c366",
   "metadata": {},
   "source": [
    "### 1.1. Fetching metadata tables of DIME project from MGnify <a id='part1_1'/>"
   ]
  },
  {
   "cell_type": "markdown",
   "id": "4540955c-de1a-48b4-a407-215c965dc876",
   "metadata": {},
   "source": [
    "1. Fetching the analysis accession list using the study accessions. This step takes 6 minutes to run, as we are fetching the MGnify metadata of 100 samples."
   ]
  },
  {
   "cell_type": "code",
   "execution_count": null,
   "id": "6bc9fed2-2cbb-4920-8e61-413b67569ed8",
   "metadata": {
    "tags": []
   },
   "outputs": [],
   "source": [
    "all_accessions = mgnify_analyses_from_studies(mg, 'MGYS00006076')\n",
    "all_metadata = mgnify_get_analyses_metadata(mg, all_accessions)"
   ]
  },
  {
   "cell_type": "code",
   "execution_count": null,
   "id": "0f69424e-86b7-43d8-9a83-2695b825e025",
   "metadata": {
    "tags": []
   },
   "outputs": [],
   "source": [
    "write.table(all_metadata, file = 'dime_mgnify_metadata.txt', sep = \"\\t\", quote = FALSE, row.names = FALSE)"
   ]
  },
  {
   "cell_type": "markdown",
   "id": "d7c62ab4-f39b-4c02-b3bd-eada8bef8807",
   "metadata": {
    "tags": []
   },
   "source": [
    "### 1.2. Reading and formating the DIME Phenotype table <a id='part1_2'/>"
   ]
  },
  {
   "cell_type": "markdown",
   "id": "d03167de-eebc-4157-9b71-6deaaed0924a",
   "metadata": {},
   "source": [
    "1. The file `Dietary Bioactives and Microbiome Diversity (DIME)_SimpleTox.xls` was downloaded from the Phenotype database and exported as csv to `dime_phenotype_metadata.txt`."
   ]
  },
  {
   "cell_type": "code",
   "execution_count": null,
   "id": "7435501b-46a0-4a0f-a36e-404523b28dad",
   "metadata": {
    "tags": []
   },
   "outputs": [],
   "source": [
    "phenotype_data = read.table(\"dime_phenotype_metadata.txt\", header = TRUE, sep = \",\")"
   ]
  },
  {
   "cell_type": "code",
   "execution_count": null,
   "id": "b294ec0a-f87b-436a-84f7-df0ae3b43fd3",
   "metadata": {
    "tags": []
   },
   "outputs": [],
   "source": [
    "start_group = unique(subset(phenotype_data, select = c('SubjectID', 'Start.group')))"
   ]
  },
  {
   "cell_type": "code",
   "execution_count": null,
   "id": "572091a7-a2c9-4b92-b0b4-416787d2a423",
   "metadata": {
    "tags": []
   },
   "outputs": [],
   "source": [
    "head(start_group)"
   ]
  },
  {
   "cell_type": "code",
   "execution_count": null,
   "id": "6c5c6baa-c04e-41e1-b724-010f63fd01de",
   "metadata": {
    "tags": []
   },
   "outputs": [],
   "source": [
    "table(start_group$Start.group)"
   ]
  },
  {
   "cell_type": "markdown",
   "id": "d4e432e7-1f5f-4f29-bbbb-c615f78065f7",
   "metadata": {
    "tags": []
   },
   "source": [
    "### 1.3. Fetching KO tables from MGnify <a id='part1_3'/>"
   ]
  },
  {
   "cell_type": "markdown",
   "id": "b26de4b2-687c-490f-bdbf-7f977862250a",
   "metadata": {},
   "source": [
    "1. Download and integrate KO counts tables. We will discard any sample having zero genes with KO annotation. This step takes several minutes to complete."
   ]
  },
  {
   "cell_type": "code",
   "execution_count": null,
   "id": "63c221bc-8274-4ea8-8056-9e6cb1a54483",
   "metadata": {
    "tags": []
   },
   "outputs": [],
   "source": [
    "# Saving KO tables as a list of dataframes\n",
    "list_of_dfs = list()\n",
    "for (accession in all_accessions) {\n",
    "    ko_loc = paste0('analyses/',accession,'/kegg-orthologs')\n",
    "    ko_json = mgnify_retrieve_json(mg, path = ko_loc)\n",
    "    ko_data = as.data.frame(ko_json %>% spread_all)[ , c(\"attributes.accession\", \"attributes.count\")]\n",
    "    colnames(ko_data) = c('ko_id', accession)\n",
    "    list_of_dfs = append(list_of_dfs, list(ko_data)) \n",
    "}"
   ]
  },
  {
   "cell_type": "code",
   "execution_count": null,
   "id": "c6438389-2ec9-448b-9a87-f24b398f4d04",
   "metadata": {
    "tags": []
   },
   "outputs": [],
   "source": [
    "# Integrating all dataframes into a single dataframe\n",
    "integrated_df = data.frame()\n",
    "for (df in list_of_dfs){\n",
    "    integrated_df = merge(integrated_df,df, all = T)\n",
    "}\n",
    "\n",
    "## Cleaning the integrated table\n",
    "# Using the KO id column as row names\n",
    "row.names(integrated_df) = integrated_df$ko_id\n",
    "integrated_df$ko_id = NULL\n",
    "\n",
    "# Converting NA to zero \n",
    "integrated_df[is.na(integrated_df)] = 0\n",
    "\n",
    "# Discarding samples that KOs abundance sum = 0\n",
    "integrated_df = integrated_df %>% select_if(is.numeric) %>% select_if(~ sum(. != 0) > 0)"
   ]
  },
  {
   "cell_type": "markdown",
   "id": "ba95948d-7eb2-458e-97e5-70b3cb9d145b",
   "metadata": {},
   "source": [
    "### 1.4. Add the Start group label to the KO integrated table <a id='part1_4'/>"
   ]
  },
  {
   "cell_type": "markdown",
   "id": "17dbae27-a040-4834-a99e-bf10fdc49f91",
   "metadata": {},
   "source": [
    "1. Reformating the MGnify sample id to mathc with the phenotype subject ID"
   ]
  },
  {
   "cell_type": "code",
   "execution_count": null,
   "id": "9101d1d0-5745-4f81-bb50-29ef7962887b",
   "metadata": {
    "tags": []
   },
   "outputs": [],
   "source": [
    "magnify_subject = all_metadata %>% select('sample_sample-name')\n",
    "head(magnify_subject)"
   ]
  },
  {
   "cell_type": "code",
   "execution_count": null,
   "id": "699bb48b-db8a-4cfb-9fd9-8a4273ca22b0",
   "metadata": {
    "tags": []
   },
   "outputs": [],
   "source": [
    "magnify_subject <- magnify_subject %>%\n",
    "  mutate(`sample_sample-name` = paste(\"DIME_0\", sub(\"-.*\", \"\", `sample_sample-name`), sep = \"\"))"
   ]
  },
  {
   "cell_type": "code",
   "execution_count": null,
   "id": "c35758b2-1d57-4449-bc91-5a96a4041108",
   "metadata": {
    "tags": []
   },
   "outputs": [],
   "source": [
    "magnify_subject$mgnify_accession <- rownames(magnify_subject)\n",
    "rownames(magnify_subject) <- NULL"
   ]
  },
  {
   "cell_type": "code",
   "execution_count": null,
   "id": "a66642dc-4c81-48b8-b6ce-a220a9ed4364",
   "metadata": {
    "tags": []
   },
   "outputs": [],
   "source": [
    "head(magnify_subject)"
   ]
  },
  {
   "cell_type": "markdown",
   "id": "d4897d67-d57a-43bf-a98c-92cb07ffc305",
   "metadata": {},
   "source": [
    "2. Generating the condition table based on the sample order in the KOs integrated table"
   ]
  },
  {
   "cell_type": "code",
   "execution_count": null,
   "id": "8ad8ced4-a2f8-4b12-9a2e-766dcb6bddbb",
   "metadata": {
    "tags": []
   },
   "outputs": [],
   "source": [
    "ids_table = merge(start_group, magnify_subject, by.x = \"SubjectID\", by.y = \"sample_sample-name\", all.x = TRUE)"
   ]
  },
  {
   "cell_type": "code",
   "execution_count": null,
   "id": "015797ac-1fd4-43f4-a2f2-cef0fd7d8d45",
   "metadata": {
    "tags": []
   },
   "outputs": [],
   "source": [
    "head(ids_table)"
   ]
  },
  {
   "cell_type": "code",
   "execution_count": null,
   "id": "4480c193-3898-46e3-a8f0-61be77d2388f",
   "metadata": {
    "tags": []
   },
   "outputs": [],
   "source": [
    "sorted_conds = list()\n",
    "for (sample in colnames(integrated_df)) {\n",
    "    match = ids_table[ids_table$mgnify_accession %in% sample,]$Start.group\n",
    "    cond = paste(match, collapse = \"\")\n",
    "    sorted_conds = append(sorted_conds, cond)    \n",
    "}\n",
    "vector_conds = unlist(sorted_conds)"
   ]
  },
  {
   "cell_type": "code",
   "execution_count": null,
   "id": "bf972f32-e97d-4cf1-b20d-1a44b65e783b",
   "metadata": {
    "tags": []
   },
   "outputs": [],
   "source": [
    "table(vector_conds)"
   ]
  },
  {
   "cell_type": "markdown",
   "id": "634cd95f-3b50-4292-ac05-d9a54238fccc",
   "metadata": {},
   "source": [
    "### 1.5. Generating differentially abundance count tables<a id='part1_5'/>"
   ]
  },
  {
   "cell_type": "markdown",
   "id": "f8169f93-64e3-4293-8bc7-7ac5f1dbfe1c",
   "metadata": {},
   "source": [
    "1. Running Aldex step. It takes 5 minutes to complete."
   ]
  },
  {
   "cell_type": "code",
   "execution_count": null,
   "id": "b00cdb64-5c82-41b4-9032-6fda03eb97a3",
   "metadata": {
    "tags": []
   },
   "outputs": [],
   "source": [
    "x.all = aldex(integrated_df, \n",
    "              vector_conds, \n",
    "              mc.samples=128, \n",
    "              test=\"t\", \n",
    "              effect=TRUE, \n",
    "              include.sample.summary=FALSE, \n",
    "              denom=\"all\", \n",
    "              verbose=FALSE\n",
    "        )"
   ]
  },
  {
   "cell_type": "code",
   "execution_count": null,
   "id": "a17e799d-f8b8-485e-9f6f-29c2a323cd76",
   "metadata": {
    "tags": []
   },
   "outputs": [],
   "source": [
    "head(x.all, 3)"
   ]
  },
  {
   "cell_type": "markdown",
   "id": "2001b480-2185-429d-8b82-23853bc1dfe8",
   "metadata": {},
   "source": [
    "2. The column `effect` in the above output (`x.all` table) contains the log ratio of the sample mean to the reference mean. A positive effect indicates that the sample mean is greater than the reference mean, while a negative effect indicates that the sample mean is lower than the reference mean. We will generate now the matrix of KO-effect for plotting."
   ]
  },
  {
   "cell_type": "code",
   "execution_count": null,
   "id": "430c4dbc-bd7c-41a0-a33f-c69a0b773d53",
   "metadata": {
    "tags": []
   },
   "outputs": [],
   "source": [
    "ko_matrix = data.matrix(subset(x.all, select = c('effect')))"
   ]
  },
  {
   "cell_type": "code",
   "execution_count": null,
   "id": "b8364290-982e-49f2-9067-570bf620dbc0",
   "metadata": {
    "tags": []
   },
   "outputs": [],
   "source": [
    "head(ko_matrix, 3)"
   ]
  },
  {
   "cell_type": "markdown",
   "id": "cd4383c7-a413-4712-a3e4-e5c4201d33ad",
   "metadata": {},
   "source": [
    "3. Plotting the effect size (`effect`) and difference (`diff.btw`) to show an overview of differentially abundant functions. Two type of P-value results from the Welch’s t test are shown: In blue marks the expected P-value; in red marks the expected Benjamini-Hochberg corrected P-value. The threshold line indicates P-value = 0.05."
   ]
  },
  {
   "cell_type": "code",
   "execution_count": null,
   "id": "34162804-10c5-48ec-b8e1-37a01b4920aa",
   "metadata": {
    "tags": []
   },
   "outputs": [],
   "source": [
    "options(repr.plot.width=10, repr.plot.height=8)\n",
    "\n",
    "# Effect size plot\n",
    "par(mfrow=c(1,2))\n",
    "plot(x.all$effect, \n",
    "    x.all$we.ep, \n",
    "    log=\"y\", \n",
    "    cex=0.7, \n",
    "    col=rgb(0,0,1,0.2),  # Blue marks for expected P value of Welch’s t test\n",
    "    pch=19, \n",
    "    xlab=\"Effect size\", \n",
    "    ylab=\"P value\", \n",
    "    main=\"Effect size plot\")\n",
    "points(x.all$effect, \n",
    "    x.all$we.eBH, \n",
    "    cex=0.7, \n",
    "    col=rgb(1,0,0,0.2), # Red marks for expected Benjamini-Hochberg corrected P value of Welch’s t test\n",
    "    pch=19)\n",
    "abline(h=0.05, lty=2, col=\"grey\")\n",
    "legend(-0.5,0.0005, legend=c(\"P value\", \"BH-adjusted\"), pch=19, col=c(\"blue\", \"red\"))\n",
    "\n",
    "# Volcano plot\n",
    "plot(x.all$diff.btw, \n",
    "    x.all$we.ep, \n",
    "    log=\"y\", \n",
    "    cex=0.7, \n",
    "    col=rgb(0,0,1,0.2), # Blue marks for expected P value of Welch’s t test\n",
    "    pch=19, \n",
    "    xlab=\"Difference\", \n",
    "    ylab=\"P value\", \n",
    "    main=\"Volcano plot\")\n",
    "points(x.all$diff.btw, \n",
    "    x.all$we.eBH, \n",
    "    cex=0.7, \n",
    "    col=rgb(1,0,0,0.2), # Red marks for expected Benjamini-Hochberg corrected P value of Welch’s t test\n",
    "    pch=19)\n",
    "abline(h=0.05, lty=2, col=\"grey\")\n",
    "legend(-2,0.0005, legend=c(\"P value\", \"BH-adjusted\"), pch=19, col=c(\"blue\", \"red\"))"
   ]
  },
  {
   "cell_type": "markdown",
   "id": "0a4ac0f0-0781-45cf-bc2a-384ce0a1d5e0",
   "metadata": {},
   "source": [
    "4. Reporting features detected by the Welchs’ or Wilcoxon test individually (blue) or by both (red)."
   ]
  },
  {
   "cell_type": "code",
   "execution_count": null,
   "id": "f54b2bf8-61b9-4c6a-9d50-a095121985b0",
   "metadata": {
    "tags": []
   },
   "outputs": [],
   "source": [
    "options(repr.plot.width=8, repr.plot.height=8)\n",
    "\n",
    "found.by.all <- which(x.all$we.eBH < 0.05 & x.all$wi.eBH < 0.05)\n",
    "found.by.one <- which(x.all$we.eBH < 0.05 | x.all$wi.eBH < 0.05)\n",
    "\n",
    "plot(x.all$diff.win, x.all$diff.btw, pch=19, cex=1, col=rgb(0,0,0,0.3),\n",
    " xlab=\"Dispersion\", ylab=\"Difference\")\n",
    "points(x.all$diff.win[found.by.one], x.all$diff.btw[found.by.one], pch=19,\n",
    " cex=1, col=rgb(0,0,1,0.5))\n",
    "points(x.all$diff.win[found.by.all], x.all$diff.btw[found.by.all], pch=19,\n",
    " cex=1, col=rgb(1,0,0,1))\n",
    "abline(0,1,lty=2)\n",
    "abline(0,-1,lty=2)\n"
   ]
  },
  {
   "cell_type": "markdown",
   "id": "b55f62b5-e191-4d1a-836c-b8318e24238f",
   "metadata": {},
   "source": [
    "### 1.6. Selecting pathways to draw<a id='part1_6'/>"
   ]
  },
  {
   "cell_type": "markdown",
   "id": "b8787d97-2204-44c8-9dcd-9eaa91a6b77c",
   "metadata": {},
   "source": [
    "1. We will use the union of both testing methods (Welchs’ or Wilcoxon) to find the pathways with differentially abundant KOs."
   ]
  },
  {
   "cell_type": "code",
   "execution_count": null,
   "id": "5791ddb1-0618-4f60-80b9-20b3e786ede1",
   "metadata": {
    "tags": []
   },
   "outputs": [],
   "source": [
    "kos_list = list()\n",
    "for (index in found.by.one){\n",
    "    current_ko = rownames(x.all)[index]\n",
    "    kos_list = append(kos_list, current_ko)\n",
    "}"
   ]
  },
  {
   "cell_type": "code",
   "execution_count": null,
   "id": "9ccb1e26-ab6d-4542-9a14-652799c159b7",
   "metadata": {
    "tags": []
   },
   "outputs": [],
   "source": [
    "ko_pathways = collect_pathways(kos_list)"
   ]
  },
  {
   "cell_type": "code",
   "execution_count": null,
   "id": "bc932fe4-4507-449e-a8e0-ead48aae5733",
   "metadata": {
    "tags": []
   },
   "outputs": [],
   "source": [
    "head(ko_pathways)"
   ]
  },
  {
   "cell_type": "markdown",
   "id": "2d59b158-e8e1-427c-a86f-2709dd7173e0",
   "metadata": {},
   "source": [
    "2. Finding the pathways with the highest number of significant KOs."
   ]
  },
  {
   "cell_type": "code",
   "execution_count": null,
   "id": "70175467-a1e2-47d1-8be6-991abfd4d8eb",
   "metadata": {
    "tags": []
   },
   "outputs": [],
   "source": [
    "pathways_counts = list()\n",
    "for (path_element in ko_pathways) {\n",
    "    if (path_element %in% names(pathways_counts)) {\n",
    "        new_value = pathways_counts[[path_element]] + 1\n",
    "        pathways_counts[path_element] = new_value       \n",
    "    } else {\n",
    "        pathways_counts[path_element] = 1 \n",
    "    }\n",
    "}"
   ]
  },
  {
   "cell_type": "code",
   "execution_count": null,
   "id": "cdaa050b-2afd-41db-a257-19dd50f8f535",
   "metadata": {
    "tags": []
   },
   "outputs": [],
   "source": [
    "top_to_plot = names(tail(pathways_counts[order(unlist(pathways_counts))], 10))\n",
    "top_to_plot"
   ]
  },
  {
   "cell_type": "markdown",
   "id": "58e4b311-ab08-4e15-bc64-66fe9033805c",
   "metadata": {},
   "source": [
    "### 1.7. Drawing pathways!<a id='part1_7'/>"
   ]
  },
  {
   "cell_type": "markdown",
   "id": "166767eb-2384-4725-8be4-77c20dc44caa",
   "metadata": {},
   "source": [
    "1. For this type of data, values range from -1 to 1, with both negative and positive fractions. We use both directions when plotting."
   ]
  },
  {
   "cell_type": "code",
   "execution_count": null,
   "id": "a0a7aae1-a8c2-406f-86b2-918914cdbd93",
   "metadata": {
    "tags": []
   },
   "outputs": [],
   "source": [
    "for (p in top_to_plot) {\n",
    "    nude_id =  gsub(\"map\", \"\", p)\n",
    "    pathview(gene.data = ko_matrix, \n",
    "        species = \"ko\", \n",
    "        pathway.id = nude_id, \n",
    "        both.dirs = TRUE, \n",
    "        low = c(\"#bd066b\", \"#bd066b\"),  \n",
    "        mid = c(\"#c9c9c9\" , \"#c9c9c9\"), \n",
    "        high = c(\"#02b3ad\" , \"#02b3ad\")\n",
    "    )\n",
    "}"
   ]
  },
  {
   "cell_type": "markdown",
   "id": "9885305d-73b3-4f8a-aad2-03d6031dbe24",
   "metadata": {},
   "source": [
    "2. Cleaning the working directory."
   ]
  },
  {
   "cell_type": "code",
   "execution_count": null,
   "id": "5f08edbf-b7f1-45f4-a7d6-20d2c75473ad",
   "metadata": {
    "tags": []
   },
   "outputs": [],
   "source": [
    "if(!dir.exists(\"output_plots\")){\n",
    "    dir.create(\"output_plots\")\n",
    "    dir.create(\"output_plots/dime_comp\")\n",
    "}\n",
    "\n",
    "file.copy(from=list.files(pattern=\"./*pathview.png\"), to=\"./output_plots/dime_comp/\", overwrite = TRUE)\n",
    "\n",
    "png_files = list.files(path = \".\", pattern = \"*.png\")\n",
    "xml_files = list.files(path = \".\", pattern = \"*.xml\")\n",
    "files = c(png_files, xml_files)\n",
    "unlink(files)"
   ]
  },
  {
   "cell_type": "markdown",
   "id": "fc7243c3-ca45-4cb7-96f2-6adeff23f5b2",
   "metadata": {},
   "source": [
    "3. This is one example of the plots generated by the Pathview. The rest of the outputs are stored at the `output_plots/dime_comp/` directory."
   ]
  },
  {
   "cell_type": "code",
   "execution_count": null,
   "id": "2120d69e-92ac-4752-abcf-888a63e4dea8",
   "metadata": {
    "tags": []
   },
   "outputs": [],
   "source": [
    "display_png(file='./output_plots/dime_comp/ko00680.pathview.png')"
   ]
  },
  {
   "cell_type": "code",
   "execution_count": null,
   "id": "f6fbbe40-8259-44b4-8468-c8535037004d",
   "metadata": {
    "tags": []
   },
   "outputs": [],
   "source": [
    "# Get pathview help\n",
    "?pathview"
   ]
  },
  {
   "cell_type": "markdown",
   "id": "119204e1-81d8-4d1d-8407-776ed7e1d4dc",
   "metadata": {},
   "source": [
    " ### References: <a id='refs'/></a>"
   ]
  },
  {
   "cell_type": "markdown",
   "id": "d234455e-c703-420d-a28e-95f88a751fed",
   "metadata": {},
   "source": [
    "#### Datasets and databases papers:\n",
    "MGnify pipeline:\n",
    "https://doi.org/10.1093/nar/gkac1080\n",
    "\n",
    "KEGG database:\n",
    "https://doi.org/10.1093/nar/gkw1092\n",
    "\n",
    "#### R libraries:\n",
    " - `library(ALDEx2)` Gloor GB, Macklaim JM, Fernandes AD (2016). Displaying Variation in Large Datasets: a Visual Summary of Effect Sizes. Journal of Computational and Graphical Statistics, 2016 http://doi.org/10.1080/10618600.2015.1131161. R package version 1.30.0.\n",
    "\n",
    " - `library(data.table)` Matt Dowle and Arun Srinivasan (2023). data.table: Extension of `data.frame`. R package version 1.14.8. https://CRAN.R-project.org/package=data.table    \n",
    "\n",
    " - `library(dplyr)` Hadley Wickham, Romain François, Lionel Henry, Kirill Müller and Davis Vaughan (2023). dplyr: A Grammar of Data Manipulation. R package version 1.1.2. https://CRAN.R-project.org/package=dplyr\n",
    "\n",
    " - `library(IRdisplay)` Thomas Kluyver, Philipp Angerer and Jan Schulz (NA). IRdisplay: 'Jupyter' Display Machinery. R package version 1.1. https://github.com/IRkernel/IRdisplay\n",
    "\n",
    " - `library(KEGGREST)` Dan Tenenbaum and Bioconductor Package Maintainer (2021). KEGGREST: Client-side REST access to the Kyoto Encyclopedia of Genes and Genomes (KEGG). R package version 1.38.0.\n",
    "\n",
    " - `library(MGnifyR)` Ben Allen (2022). MGnifyR: R interface to EBI MGnify metagenomics resource. R package version 0.1.0.\n",
    "\n",
    " - `library(pathview)` Luo, W. and Brouwer C., Pathview: an R/Bioconductor package for pathway-based data integration and visualization. Bioinformatics, 2013, 29(14): 1830-1831, doi: 10.1093/bioinformatics/btt285. R package version 1.38.0.\n",
    "\n",
    " - `library(tidyjson)` Jeremy Stanley and Cole Arendt (2023). tidyjson: Tidy Complex 'JSON'. R package version 0.3.2. https://CRAN.R-project.org/package=tidyjson\n",
    "  \n",
    "\n",
    "#### Going deeper:\n",
    "\n",
    "If you want to learn more about using MGnifyR, you can follow the online tutorial available here:\n",
    "https://www.ebi.ac.uk/training/online/courses/metagenomics-bioinformatics/mgnifyr/\n",
    "\n",
    "KEGGREST documentation with multiple examples:\n",
    "https://www.bioconductor.org/packages/devel/bioc/vignettes/KEGGREST/inst/doc/KEGGREST-vignette.html\n",
    "\n",
    "Pathview user manual:\n",
    "https://www.bioconductor.org/packages/release/bioc/vignettes/pathview/inst/doc/pathview.pdf\n",
    "\n"
   ]
  },
  {
   "cell_type": "code",
   "execution_count": null,
   "id": "2b497ce2-a5f2-4d9f-89a3-87e598d968eb",
   "metadata": {},
   "outputs": [],
   "source": []
  }
 ],
 "metadata": {
  "kernelspec": {
   "display_name": "R (mgnify-r-env)",
   "language": "R",
   "name": "conda-env-mgnify-r-env-r"
  },
  "language_info": {
   "codemirror_mode": "r",
   "file_extension": ".r",
   "mimetype": "text/x-r-source",
   "name": "R",
   "pygments_lexer": "r",
   "version": "4.2.3"
  }
 },
 "nbformat": 4,
 "nbformat_minor": 5
}
