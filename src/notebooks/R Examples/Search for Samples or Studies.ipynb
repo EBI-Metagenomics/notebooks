{
 "cells": [
  {
   "cell_type": "raw",
   "id": "c77864f8-222e-4907-94f7-dc6711e2f7a6",
   "metadata": {
    "jupyter": {
     "source_hidden": true
    },
    "tags": []
   },
   "source": [
    "---\n",
    "title: \"Search for Samples or Studies\"\n",
    "author:\n",
    "  - name: Sandy Rogers\n",
    "    affiliation:\n",
    "      - id: ebi-emg\n",
    "        name: MGnify team at EMBL-EBI\n",
    "  - name: Ben Allen\n",
    "    affiliation:\n",
    "      - id: newc\n",
    "        name: Newcastle University\n",
    "categories: [R]\n",
    "execute: \n",
    "  eval: true\n",
    "---"
   ]
  },
  {
   "cell_type": "markdown",
   "id": "fa105c88-1308-4fbc-94a5-a9a0fde4c6d9",
   "metadata": {},
   "source": [
    "<div style=\"max-width:1200px\"><img src=\"../_resources/mgnify_banner.png\" width=\"100%\"></div>"
   ]
  },
  {
   "cell_type": "markdown",
   "id": "ca82f5f5-8773-415e-b332-005d2aa29a40",
   "metadata": {},
   "source": [
    "<img src=\"../_resources/mgnify_logo.png\" width=\"200px\">\n",
    "\n",
    "# Search for MGnify Studies or Samples, using MGnifyR\n",
    "\n",
    "The [MGnify API](https://www.ebi.ac.uk/metagenomics/api/v1) returns data and relationships as JSON. \n",
    "[MGnifyR](https://github.com/beadyallen/MGnifyR) is a package to help you read MGnify data into your R analyses.\n",
    "\n",
    "**This example shows you how to perform a search of MGnify Studies or Samples**\n",
    "\n",
    "You can find all of the other \"API endpoints\" using the [Browsable API interface in your web browser](https://www.ebi.ac.uk/metagenomics/api/v1).\n",
    "This interface also lets you inspect the kinds of Filters that can be created for each list.\n",
    "\n",
    "This is an interactive code notebook (a Jupyter Notebook).\n",
    "To run this code, click into each cell and press the ▶ button in the top toolbar, or press `shift+enter`.\n",
    "\n",
    "---"
   ]
  },
  {
   "cell_type": "code",
   "execution_count": null,
   "id": "6cfcb483-889c-4d26-b2e2-c325f8a66283",
   "metadata": {
    "tags": []
   },
   "outputs": [],
   "source": [
    "library(IRdisplay)\n",
    "display_markdown(file = '../_resources/mgnifyr_help.md')"
   ]
  },
  {
   "cell_type": "markdown",
   "id": "b5e630cf-fb24-45a7-b1bc-22669e583c09",
   "metadata": {},
   "source": [
    "Load packages:"
   ]
  },
  {
   "cell_type": "code",
   "execution_count": null,
   "id": "bb99acc5-6bfe-4d93-b258-6885505df8db",
   "metadata": {
    "tags": []
   },
   "outputs": [],
   "source": [
    "library(vegan)\n",
    "library(ggplot2)\n",
    "library(phyloseq)\n",
    "library(MGnifyR)\n",
    "\n",
    "mg <- mgnify_client(usecache = T, cache_dir = '/tmp/mgnify_cache')"
   ]
  },
  {
   "cell_type": "markdown",
   "id": "1205a39a-25d1-4a04-b7cf-7bf5cfec79b9",
   "metadata": {},
   "source": [
    "## Contents\n",
    "- [Example: Find Polar Samples](#Example:-find-Polar-samples)\n",
    "- [Example: Find Wastewater Samples](#Example:-find-Wastewater-studies)\n",
    "- [More Sample filters](#More-Sample-filters)\n",
    "- [More Study filters](#More-Study-filters)\n",
    "- [Example: Filtering Samples both API-side and client-side](#Example:-adding-additional-filters-to-the-data-frame)"
   ]
  },
  {
   "cell_type": "markdown",
   "id": "b99a5b00-266b-4d89-9a3e-ce9b52c052e5",
   "metadata": {},
   "source": [
    "### Documentation for `mgnify_query`"
   ]
  },
  {
   "cell_type": "code",
   "execution_count": null,
   "id": "f4396d6a-57ca-4a05-9315-c8b661b8ea4c",
   "metadata": {
    "tags": []
   },
   "outputs": [],
   "source": [
    "?mgnify_query"
   ]
  },
  {
   "cell_type": "markdown",
   "id": "31501a56-24ae-4045-be4d-0df51293cf61",
   "metadata": {
    "tags": []
   },
   "source": [
    "## Example: find Polar samples \n",
    "In these examples we set `maxhits=1` to retrieve only the first page of results. You can change the limit or set it to `-1` to retrieve all samples matching the query."
   ]
  },
  {
   "cell_type": "code",
   "execution_count": null,
   "id": "83e3d3f1-701b-4528-a6a6-44ac8637f385",
   "metadata": {
    "tags": []
   },
   "outputs": [],
   "source": [
    "samps_np <- mgnify_query(mg, \"samples\", latitude_gte=88, maxhits=1)\n",
    "samps_sp <- mgnify_query(mg, \"samples\", latitude_lte=-88, maxhits=1)\n",
    "samps_polar <- rbind(samps_np, samps_sp)"
   ]
  },
  {
   "cell_type": "code",
   "execution_count": null,
   "id": "bbeaf601-0b08-4954-a169-41c2a5971f18",
   "metadata": {
    "tags": []
   },
   "outputs": [],
   "source": [
    "head(samps_polar)"
   ]
  },
  {
   "cell_type": "markdown",
   "id": "4b2c4b5a-0915-4da0-a9df-c85a692f86db",
   "metadata": {},
   "source": [
    "## Example: find Wastewater studies"
   ]
  },
  {
   "cell_type": "code",
   "execution_count": null,
   "id": "1587a68f-d855-4bb8-a540-829aebc80f44",
   "metadata": {
    "tags": []
   },
   "outputs": [],
   "source": [
    "studies_ww <- mgnify_query(mg, \"studies\", biome_name=\"wastewater\", maxhits=1)"
   ]
  },
  {
   "cell_type": "code",
   "execution_count": null,
   "id": "d825d7a4-319c-419a-b5c0-9b2bab3dd87a",
   "metadata": {
    "tags": []
   },
   "outputs": [],
   "source": [
    "head(studies_ww)"
   ]
  },
  {
   "cell_type": "markdown",
   "id": "f6edc0c5-48a8-4b8d-a227-b82991007935",
   "metadata": {},
   "source": [
    "## More filters to try:\n",
    "\n",
    "### Samples by location\n",
    "\n",
    "```R\n",
    "more_northerly_than <- mgnify_query(mg, \"samples\", latitude_gte=88, maxhits=1)\n",
    "\n",
    "more_southerly_than <- mgnify_query(mg, \"samples\", latitude_lte=-88, maxhits=1)\n",
    "\n",
    "more_easterly_than <- mgnify_query(mg, \"samples\", longitude_gte=170, maxhits=1)\n",
    "\n",
    "more_westerly_than <- mgnify_query(mg, \"samples\", longitude_lte=170, maxhits=1)\n",
    "\n",
    "at_location <- mgnify_query(mg, \"samples\", geo_loc_name=\"usa\", maxhits=1)\n",
    "```\n",
    "\n",
    "### Samples by biome\n",
    "```R\n",
    "biome_within_wastewater <- mgnify_query(mg, \"samples\", biome_name=\"wastewater\", maxhits=1)\n",
    "```\n",
    "\n",
    "### Samples by metadata\n",
    "There are a large number of metadata key:value pairs, because these are author-submitted, along with the samples, to the ENA archive.\n",
    "\n",
    "If you know how to specify the metadata key:value query for the samples you're interested in, you can use this form to find matching Samples:\n",
    "\n",
    "```R\n",
    "from_ex_smokers <- mgnify_query(mg, \"samples\", metadata_key=\"smoker\", metadata_value=\"ex-smoker\", maxhits=-1)\n",
    "```\n",
    "To find `metadata_key`s and values, it is best to browse the [interactive API Browser](https://www.ebi.ac.uk/metagenomics/v1/samples), and use the `Filters` button to construct queries interactively at first.\n",
    "\n",
    "### Studies by centre name\n",
    "```R\n",
    "from_smithsonian <- mgnify_query(mg, \"studies\", centre_name=\"Smithsonian\", maxhits=-1)\n",
    "```\n",
    "\n",
    "To find `metadata_key`s and values, it is best to browse the [interactive API Browser](https://www.ebi.ac.uk/metagenomics/v1/samples), and use the `Filters` button to construct queries interactively at first."
   ]
  },
  {
   "cell_type": "markdown",
   "id": "fe1f615b-68ec-4b60-bd87-74d3f6fe016b",
   "metadata": {},
   "source": [
    "---\n",
    "\n",
    "\n",
    "## Example: adding additional filters to the data frame"
   ]
  },
  {
   "cell_type": "markdown",
   "id": "a35c8957-f3de-4526-9f27-fc9e2b28c3df",
   "metadata": {},
   "source": [
    "First, fetch some samples from the Lentic biome. We can specify the entire Biome lineage, too."
   ]
  },
  {
   "cell_type": "code",
   "execution_count": null,
   "id": "1dd0f6c8-0430-4ad2-adef-fb7c5c776fa5",
   "metadata": {
    "tags": []
   },
   "outputs": [],
   "source": [
    "lentic_samples <- mgnify_query(mg, \"samples\", biome_name=\"root:Environmental:Aquatic:Lentic\", usecache=T)"
   ]
  },
  {
   "cell_type": "markdown",
   "id": "7d5c00be-be94-4368-9141-2ec66e8e16ce",
   "metadata": {},
   "source": [
    "Now, also filter by depth *within* the returned results, using normal R syntax."
   ]
  },
  {
   "cell_type": "code",
   "execution_count": null,
   "id": "8e0a11f8-bb7c-4cd6-a314-9cb3ed7b4e0f",
   "metadata": {
    "tags": []
   },
   "outputs": [],
   "source": [
    "depth_numeric = as.numeric(lentic_samples$depth)  # We must convert data from MGnifyR (always strings) to numerical format.\n",
    "depth_numeric[is.na(depth_numeric)] = 0.0  # If depth data is missing, assume it is surface-level.\n",
    "lentic_subset = lentic_samples[depth_numeric >=25 & depth_numeric <=50,]  # Filter to samples collected between 25m and 50m down.\n",
    "lentic_subset"
   ]
  },
  {
   "cell_type": "code",
   "execution_count": null,
   "id": "7934c0bf-aa6c-4c8e-85e7-aca272db3daf",
   "metadata": {},
   "outputs": [],
   "source": []
  }
 ],
 "metadata": {
  "kernelspec": {
   "display_name": "R (mgnify-r-env)",
   "language": "R",
   "name": "conda-env-mgnify-r-env-r"
  },
  "language_info": {
   "codemirror_mode": "r",
   "file_extension": ".r",
   "mimetype": "text/x-r-source",
   "name": "R",
   "pygments_lexer": "r",
   "version": "4.2.2"
  }
 },
 "nbformat": 4,
 "nbformat_minor": 5
}
