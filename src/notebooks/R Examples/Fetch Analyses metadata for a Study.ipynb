{
 "cells": [
  {
   "cell_type": "raw",
   "id": "c77864f8-222e-4907-94f7-dc6711e2f7a6",
   "metadata": {
    "tags": []
   },
   "source": [
    "---\n",
    "title: \"Fetch Analyses metadata for a Study\"\n",
    "author: \"Sandy R (MGnify team)\"\n",
    "categories: [R]\n",
    "execute: \n",
    "  enabled: true\n",
    "---"
   ]
  },
  {
   "cell_type": "markdown",
   "id": "bd13063e-c632-42db-a288-ae251c9fd78b",
   "metadata": {},
   "source": [
    "<div style=\"max-width:1200px\"><img src=\"../_resources/mgnify_banner.png\" width=\"100%\"></div>"
   ]
  },
  {
   "cell_type": "markdown",
   "id": "7a3bebb3-f8e6-4a1b-adbf-46dd1f0f4791",
   "metadata": {},
   "source": [
    "<img src=\"../_resources/mgnify_logo.png\" width=\"200px\">\n",
    "\n",
    "# Fetch a Study using MGnifyR; download the metadata for all of its Analyses\n",
    "\n",
    "The [MGnify API](https://www.ebi.ac.uk/metagenomics/api/v1) returns data and relationships as JSON. \n",
    "[MGnifyR](https://github.com/beadyallen/MGnifyR) is a package to help you read MGnify data into your R analyses.\n",
    "\n",
    "**This example shows you how fetch the Analyses for a Study into a Phyloseq object**\n",
    "\n",
    "You can find all of the other \"API endpoints\" using the [Browsable API interface in your web browser](https://www.ebi.ac.uk/metagenomics/api/v1).\n",
    "\n",
    "This is an interactive code notebook (a Jupyter Notebook).\n",
    "To run this code, click into each cell and press the ▶ button in the top toolbar, or press `shift+enter`.\n",
    "\n",
    "---"
   ]
  },
  {
   "cell_type": "code",
   "execution_count": null,
   "id": "f1e0d181-f8cf-44e6-ad85-d1199cf8cf5e",
   "metadata": {
    "tags": []
   },
   "outputs": [],
   "source": [
    "source(\"lib/variable_utils.r\")"
   ]
  },
  {
   "cell_type": "code",
   "execution_count": null,
   "id": "c842ef4d-ef46-4a05-8269-ab4eb14824bb",
   "metadata": {
    "tags": []
   },
   "outputs": [],
   "source": [
    "mgnify_study_accession <- get_variable_from_link_or_input('MGYS', 'Study Accession', 'MGYS00005116')\n",
    "\n",
    "# You can also just directly set the accession variable in code, like this:\n",
    "# mgnify_study_accession <- \"MGYS00005292\""
   ]
  },
  {
   "cell_type": "code",
   "execution_count": null,
   "id": "dc08608b-fa6d-4e33-b50c-c484985d664d",
   "metadata": {
    "tags": []
   },
   "outputs": [],
   "source": [
    "library(vegan)\n",
    "library(ggplot2)\n",
    "library(phyloseq)\n",
    "\n",
    "library(MGnifyR)\n",
    "\n",
    "mg <- mgnify_client(usecache = T, cache_dir = '/home/jovyan/.mgnify_cache')"
   ]
  },
  {
   "cell_type": "code",
   "execution_count": null,
   "id": "908b1c3a-0c06-456c-8d5b-af3dddd020ca",
   "metadata": {},
   "outputs": [],
   "source": [
    "library(IRdisplay)\n",
    "display_markdown(file = '../_resources/mgnifyr_help.md')"
   ]
  },
  {
   "cell_type": "markdown",
   "id": "dc11eea1-73ed-4751-92e9-aa0ba4b265a5",
   "metadata": {},
   "source": [
    "## Fetch a list of the Analyses for the Study"
   ]
  },
  {
   "cell_type": "code",
   "execution_count": null,
   "id": "cba3d4ff-d90d-4388-9466-1c3f2f8f9b7c",
   "metadata": {},
   "outputs": [],
   "source": [
    "analyses_accessions <- mgnify_analyses_from_studies(mg, mgnify_study_accession)\n",
    "analyses_accessions"
   ]
  },
  {
   "cell_type": "markdown",
   "id": "9ecbc81f-92e0-49c9-8228-286e12102ff1",
   "metadata": {},
   "source": [
    "## Download metadata for the first 10 Analyses\n",
    "...and put it into a dataframe."
   ]
  },
  {
   "cell_type": "code",
   "execution_count": 6,
   "id": "76681960-a132-4809-ab20-fe322f86113c",
   "metadata": {},
   "outputs": [],
   "source": [
    "analyses_metadata_df <- mgnify_get_analyses_metadata(mg, head(analyses_accessions, 10));"
   ]
  },
  {
   "cell_type": "markdown",
   "id": "0b701c68-84c7-4ccb-bb17-aeec07b91543",
   "metadata": {},
   "source": [
    "## Display metadata\n",
    "The table could be big, so let's look at a sample of it (`head`)"
   ]
  },
  {
   "cell_type": "code",
   "execution_count": null,
   "id": "6ba3ec9b-2b82-4706-9da7-a2f1300ddbc0",
   "metadata": {},
   "outputs": [],
   "source": [
    "t(head(analyses_metadata_df))"
   ]
  },
  {
   "cell_type": "markdown",
   "id": "16d68d53-584a-422b-ad26-a4c1e0fd4b6b",
   "metadata": {},
   "source": [
    "## Convert to [phyloseq](https://joey711.github.io/phyloseq/)\n",
    "> The phyloseq package is a tool to import, store, analyze, and graphically display complex phylogenetic sequencing data that has already been clustered into Operational Taxonomic Units (OTUs), especially when there is associated sample data, phylogenetic tree, and/or taxonomic assignment of the OTUs."
   ]
  },
  {
   "cell_type": "code",
   "execution_count": null,
   "id": "991c1f1e-1780-45a1-aab0-e990439848fa",
   "metadata": {},
   "outputs": [],
   "source": [
    "analyses_ps <- mgnify_get_analyses_phyloseq(mg, analyses_metadata_df$analysis_accession, tax_SU = \"SSU\")"
   ]
  },
  {
   "cell_type": "markdown",
   "id": "22ba24f3-f94b-45f0-bc9f-d2a300a78645",
   "metadata": {},
   "source": [
    "You can now use any of the `phyloseq` methods to explore this Study's Analyses (run `?phyloseq` in a code cell to learn more). \n",
    "\n",
    "You could also use further `MGnifyR` features, e.g. to download data. Check the Cheat Sheet at the top for more.\n",
    "\n",
    "Example of Phyloseq usage:"
   ]
  },
  {
   "cell_type": "code",
   "execution_count": null,
   "id": "7313ccae-1fdd-4660-927d-c31f971efcd8",
   "metadata": {},
   "outputs": [],
   "source": [
    "options(repr.plot.width=12, repr.plot.height=5)\n",
    "plot_phyloseq(analyses_ps, )"
   ]
  },
  {
   "cell_type": "code",
   "execution_count": null,
   "id": "47e55dae-8ab4-4753-a377-fba7f2d0173a",
   "metadata": {},
   "outputs": [],
   "source": []
  }
 ],
 "metadata": {
  "kernelspec": {
   "display_name": "R (mgnify-r-env)",
   "language": "R",
   "name": "conda-env-mgnify-r-env-r"
  },
  "language_info": {
   "codemirror_mode": "r",
   "file_extension": ".r",
   "mimetype": "text/x-r-source",
   "name": "R",
   "pygments_lexer": "r",
   "version": "4.2.2"
  }
 },
 "nbformat": 4,
 "nbformat_minor": 5
}
