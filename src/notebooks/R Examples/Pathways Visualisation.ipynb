{
 "cells": [
  {
   "cell_type": "raw",
   "id": "dd5613df-43c2-4319-bd46-ca18a85c51ff",
   "metadata": {},
   "source": [
    "---\n",
    "title: \"Pathways Visualisation\"\n",
    "author: \"Alejandra Escobar (MGnify team)\"\n",
    "categories: [R]\n",
    "execute: \n",
    "  enabled: true\n",
    "---"
   ]
  },
  {
   "cell_type": "markdown",
   "id": "f3a383f6-829a-43b2-87ba-159d634fc2ce",
   "metadata": {},
   "source": [
    "<div style=\"max-width:1200px\"><img src=\"../_resources/mgnify_banner.png\" width=\"100%\"></div>"
   ]
  },
  {
   "cell_type": "markdown",
   "id": "9d8bedac-2993-42f4-a71e-b689466bd462",
   "metadata": {
    "tags": []
   },
   "source": [
    "<img src=\"../_resources/mgnify_logo.png\" width=\"200px\">\n",
    "\n",
    "[MGnifyR](http://github.com/beadyallen/mgnifyr) is a library that provides a set of tools for easily accessing and processing MGnify data in R, making queries to MGnify databases through the [MGnify API](https://www.ebi.ac.uk/metagenomics/api/v1/). \n",
    "The benefit of MGnifyR is that data can either be fetched in tsv format or be directly combined in a phyloseq object to run an analysis in a custom workflow.\n",
    "\n",
    "This is an interactive code notebook (a Jupyter Notebook). To run this code, click into each cell and press the ▶ button in the top toolbar, or press shift+enter.\n"
   ]
  },
  {
   "cell_type": "markdown",
   "id": "14928ada-cf8d-41d8-8256-a1377a7fccb1",
   "metadata": {},
   "source": [
    "# Pathways Visualisation\n",
    "\n",
    "In this notebook we aim to demonstrate how the MGnifyR tool can be used to fetch functional annotation results generated through the MGnify metagenomic analyisis pipelines.  \n",
    "Then we show how to generate the pathways visualization using [Pathview](https://bioconductor.org/packages/release/bioc/html/pathview.html) in R with the following input data:  \n",
    "\n",
    "- Annotated functional genes [MGnify](https://www.ebi.ac.uk/metagenomics)  \n",
    "- Annotated metabolic compounds [Metabolights](https://www.ebi.ac.uk/metabolights/)\n"
   ]
  },
  {
   "cell_type": "markdown",
   "id": "047933f6-06fc-461d-8873-de5715360e76",
   "metadata": {},
   "source": [
    "## Contents\n",
    "\n",
    "- [Introduction](#intro)\n",
    "    - [Minimal example 1. Fetching KEGG orthologs and modules tables from MGnify](#min_mgnifyr)\n",
    "    - [Minimal example 2. Accessing to KEGG pathways info using the KEGGREST API](#min_keggrest)\n",
    "- [Part 1. Drawing presence/absence of KOs for one metagenomic sample](#part1)\n",
    "    - [1.1. Fetching data from MGnify](#part1_1)\n",
    "    - [1.2. Selecting pathways](#part1_2)\n",
    "    - [1.3. Ready to draw!](#part1_3)\n",
    "- [Part 2. Comparing groups of samples, drawing KOs abundance](#part2)\n",
    "    - [2.1. Fetching KO tables from MGnify](#part2_1)\n",
    "    - [2.2. Generating differentially abundance count tables](#part2_2)\n",
    "    - [2.3. Selecting pathways to draw](#part2_3)\n",
    "    - [2.4. Drawing pathways!](#part2_4)\n",
    "- [Part 3. Plotting presence/absence of KOs and metabolites for one sample](#part3)\n",
    "    - [3.1. Fetching KOs table from MGnify](#part3_1)\n",
    "    - [3.2. Fetching and formatting metabolites data](#part3_2)\n",
    "    - [3.3. Drawing pathways!](#part3_3)\n",
    "- [References](#refs)"
   ]
  },
  {
   "cell_type": "code",
   "execution_count": null,
   "id": "c4900c9e-7d78-47f2-bb5f-f9d6d0ba0695",
   "metadata": {
    "tags": []
   },
   "outputs": [],
   "source": [
    "# Loading libraries:\n",
    "suppressMessages({\n",
    "    library(ALDEx2)\n",
    "    library(data.table)\n",
    "    library(dplyr)\n",
    "    library(IRdisplay)\n",
    "    library(KEGGREST)\n",
    "    library(MGnifyR)   \n",
    "    library(pathview)\n",
    "    library(tidyjson)\n",
    "})\n",
    "    \n",
    "#display_markdown(file = 'assets/mgnifyr_help.md')"
   ]
  },
  {
   "cell_type": "code",
   "execution_count": null,
   "id": "9a54eed0-81ca-48ac-afb5-86f8a1fce9bc",
   "metadata": {
    "tags": []
   },
   "outputs": [],
   "source": [
    "# Setting tables and figures size to display (these will be reset later):\n",
    "options(repr.matrix.max.cols=150, repr.matrix.max.rows=500)\n",
    "options(repr.plot.width=4, repr.plot.height=4)"
   ]
  },
  {
   "cell_type": "code",
   "execution_count": null,
   "id": "b402def3-01d0-414f-9116-86fefe2cac08",
   "metadata": {
    "tags": []
   },
   "outputs": [],
   "source": [
    "# Setting up functions\n",
    "collect_pathways <- function(ids_list) {\n",
    "    pathways = list()\n",
    "    for (id in ids_list) { \n",
    "        current_pathway = as.list(keggLink(\"pathway\", id))\n",
    "        for (index in grep(\"map\", current_pathway)) {        \n",
    "            clean_id = gsub(\"*path:\", \"\", current_pathway[index])\n",
    "            # Discarding chemical structure (map010XX), global (map011XX), and overview (map012XX) maps\n",
    "            prefix = substring(clean_id, 1, 6)\n",
    "            if(is.na(match(\"map010\", prefix)) & is.na(match(\"map011\", prefix)) & is.na(match(\"map012\", prefix)) ){\n",
    "                pathways = append(pathways, clean_id)\n",
    "            }\n",
    "        }\n",
    "    }\n",
    "    return(pathways)\n",
    "}"
   ]
  },
  {
   "cell_type": "code",
   "execution_count": null,
   "id": "a5359e75-f33f-4e90-8b33-305106c90936",
   "metadata": {
    "tags": []
   },
   "outputs": [],
   "source": [
    "# Create your session mgnify_client object\n",
    "mg = mgnify_client(usecache = T, cache_dir = '/home/jovyan/.mgnify_cache')"
   ]
  },
  {
   "cell_type": "markdown",
   "id": "9a5d7e81-5112-4bce-9dbd-f1e89d2740b7",
   "metadata": {},
   "source": [
    "## Introduction <a id='intro'/>"
   ]
  },
  {
   "cell_type": "markdown",
   "id": "237b3f50-44f9-4dc2-b8a1-c9a8b5108b09",
   "metadata": {},
   "source": [
    "The goal of this notebook is to demonstrate how to create KEGG pathway maps to visualise metabolic potential and metabolite production in metagenomic samples. We will use metabolic pathways annotated at the gene level by assigning a KEGG Orthology (KO) to putative protein sequences. These results are generated through the [MGnify v5.0 pipeline](https://doi.org/10.1093/nar/gkac1080) for metagenomic assemblies, as shown in the workflow schema below. We will also use the completeness estimation of KEGG modules available in the [MGnify web portal](https://www.ebi.ac.uk/metagenomics). Consider that modules completeness is determined by the shortest possible path which contains the essential steps for the pathway; therefore, even if 100% completeness is achieved, there can still be gaps.\n",
    "\n",
    "The [KEGG (Kyoto Encyclopedia of Genes and Genomes) database](https://www.genome.jp/kegg/) is a collection of biological databases, including genetic and metabolic pathways, diseases and drugs, protein-protein interactions, and gene expression. We use the KEGG database to make connections between genes and their biological functions, and define pathways containing the functions to be used as a resource for systems biology.  \n",
    "\n",
    "Some key concepts we will use in this notebook are:  \n",
    "\n",
    "1. KEGG Orthologs (KO): Orthologs are genes in different species that evolved from a common ancestral gene and typically retain similar functions. KEGG Orthologs are a set of manually curated genes and proteins grouped into categories based on their functional similarities, particularly their roles in biological pathways and molecular functions. KEGG Orthologues IDs are unique and always starts with the letter 'K' (uppercase) followed by 5 numbers.  \n",
    "\n",
    "2. KEGG Modules: Modules are clusters of related genes that are involved in a specific biological process or pathway. KEGG modules IDs starts with 'M' followed by 5 numbers.  \n",
    "\n",
    "3. KEGG Pathways: Pathways are sets of interconnected biochemical reactions that form a chain leading from an initial reactant to a final product. KEGG pathways provide a high-level overview of the major metabolic pathways in an organism, while KEGG modules provide a more detailed view of the genes and reactions involved in a specific pathway. The IDs of manually drawn reference pathway starts with the word 'map' followed by 5 numbers. Another pathways prefix you will se in the notebook is 'ko' for reference pathway highlighting KO.  \n",
    "\n",
    "For a better display of results, in this notebook we are not using as templates chemical structure (map010XX), global (map011XX), and overview (map012XX) maps."
   ]
  },
  {
   "cell_type": "markdown",
   "id": "6be1aea5-3ab1-46ea-9ef8-3cdef75fc3ea",
   "metadata": {},
   "source": [
    "<figure>\n",
    "  <img src=\"https://www.ebi.ac.uk/metagenomics/static/5e55649e459d5f26ee6c.png\" alt=\"Alt Text\" width=\"800px\">\n",
    "  <figcaption>Mgnify assembly analysis pipeline v5.0</figcaption>\n",
    "</figure>"
   ]
  },
  {
   "cell_type": "markdown",
   "id": "145c1350-767e-47d2-8948-64e0b5984ada",
   "metadata": {},
   "source": [
    "In the following sections of this introduction you will find a couple of simplest minimal examples on the main functions we will use to fetch and format the input tables for KEGG pathways visualization."
   ]
  },
  {
   "cell_type": "markdown",
   "id": "db528e1d-e830-4b7d-be53-993a2ab4b227",
   "metadata": {},
   "source": [
    "### Minimal example 1. Fetching KEGG orthologs and modules tables from MGnify <a id='min_mgnifyr'/>\n"
   ]
  },
  {
   "cell_type": "markdown",
   "id": "804370c5-1a88-4a29-93f7-fddc6262b7bd",
   "metadata": {},
   "source": [
    "`MgnifyR` has pre-built functions to retrieve data from MGnify databases. The `mgnify_retrieve_json` function can be used to access results that are not available in tabular format. In this notebook we will fetch the pathways annotation and pathways completeness tables generated by the latest version of the MGnify analysis pipeline in json format and reformat into dataframes to easily manipulate the data. "
   ]
  },
  {
   "cell_type": "markdown",
   "id": "462171cc-9bd2-4584-b91b-b77f1e757743",
   "metadata": {},
   "source": [
    "1. Example on how to fetch the KOs counts table for one sample having the analysis accession `MGYA00636312`:"
   ]
  },
  {
   "cell_type": "code",
   "execution_count": null,
   "id": "01ac30ee-9c79-4524-a413-a579d35b6bb9",
   "metadata": {
    "tags": []
   },
   "outputs": [],
   "source": [
    "ko_json = mgnify_retrieve_json(mg, path = 'analyses/MGYA00636312/kegg-orthologs')\n",
    "ko_data = as.data.frame(ko_json %>% spread_all)[ , c(\"attributes.accession\", \"attributes.count\")]"
   ]
  },
  {
   "cell_type": "code",
   "execution_count": null,
   "id": "6bd137d6-49a2-41ae-be25-d34ca81df9ed",
   "metadata": {
    "tags": []
   },
   "outputs": [],
   "source": [
    "head(ko_data, 3)"
   ]
  },
  {
   "cell_type": "markdown",
   "id": "64de9fbe-9596-4c0e-b173-f9d6bb5e2e19",
   "metadata": {},
   "source": [
    "2. And we can also fetch the modules completeness table for the same sample using the following code:"
   ]
  },
  {
   "cell_type": "code",
   "execution_count": null,
   "id": "d9d6abcd-d13e-475c-82b3-1e8d0b9be3f5",
   "metadata": {
    "tags": []
   },
   "outputs": [],
   "source": [
    "ko_comp_json = mgnify_retrieve_json(mg, path = 'analyses/MGYA00636312/kegg-modules')\n",
    "ko_comp = as.data.frame(ko_comp_json %>% spread_all)[ , c(\"id\", \"attributes.completeness\")]"
   ]
  },
  {
   "cell_type": "code",
   "execution_count": null,
   "id": "21a8e1d8-1642-4c26-98a4-7c23147ec0a7",
   "metadata": {
    "tags": []
   },
   "outputs": [],
   "source": [
    "head(ko_comp, 3)"
   ]
  },
  {
   "cell_type": "markdown",
   "id": "ee37b4bb-a894-46a9-b2bf-feeeb6509c18",
   "metadata": {},
   "source": [
    "### Minimal example 2. Accessing to KEGG pathways info using the KEGGREST API <a id='min_keggrest'/>"
   ]
  },
  {
   "cell_type": "markdown",
   "id": "10027150-dd66-439c-840d-3ef949e0f0e4",
   "metadata": {},
   "source": [
    "[KEGGREST](https://www.bioconductor.org/packages/devel/bioc/vignettes/KEGGREST/inst/doc/KEGGREST-vignette.html) is a powerful tool with multiple functions to access and utilize data from KEGG databases. We can use `KEGGREST` to map between IDs in different databases and to find pathways associated with a module, orthologue, or compound. To display the list of KEGG databases we can query, you can run `listDatabases()` command."
   ]
  },
  {
   "cell_type": "markdown",
   "id": "939df2b7-a7c6-4bde-a223-8d7148e89e49",
   "metadata": {},
   "source": [
    "1. With `keggLink` function we can find the ID of the pathways to use as template to draw the module of methane production from CO2 (M00567). We find that the module M00567 is present in 4 possible pathways."
   ]
  },
  {
   "cell_type": "code",
   "execution_count": null,
   "id": "cb00ebe1-39f5-467c-9981-d679c50f76e1",
   "metadata": {
    "tags": []
   },
   "outputs": [],
   "source": [
    "as.list(keggLink(\"pathway\", 'M00567'))"
   ]
  },
  {
   "cell_type": "markdown",
   "id": "3ef0e2cd-fd15-4045-b41e-fbfa921d415d",
   "metadata": {},
   "source": [
    "2. Using `keggFind` to find all the KOs associated to the Methyl-coenzyme M reductase (EC 2.8.4.1)"
   ]
  },
  {
   "cell_type": "code",
   "execution_count": null,
   "id": "c7cd6207-ac97-41e5-a8d6-7e44239a3785",
   "metadata": {
    "tags": []
   },
   "outputs": [],
   "source": [
    "as.list(keggFind(\"ko\", '2.8.4.1'))"
   ]
  },
  {
   "cell_type": "markdown",
   "id": "09672213-271c-4bcd-93d6-4eda159cb7a9",
   "metadata": {},
   "source": [
    "## Part 1. Drawing presence/absence of KOs for one metagenomic sample <a id='part1'/>"
   ]
  },
  {
   "cell_type": "markdown",
   "id": "f7429870-9419-4130-a0ba-275df6ff97a6",
   "metadata": {},
   "source": [
    "For Parts 1 and 2 of this notebook, we will use MGnify results generated for two studies: \n",
    "1. Metagenomes of bacteria colonizing the gut of *Apis mellifera* and *Apis cerana* from Japan ([MGYS00006180](https://www.ebi.ac.uk/metagenomics/studies/MGYS00006180#overview)).\n",
    "2. Gut microbiota of Switzerland honeybees ([MGYS00006178](https://www.ebi.ac.uk/metagenomics/studies/MGYS00006178#overview)). \n",
    "\n",
    "The original analysis based on viral communities can be found in the [Bonilla-Rosso et al.,](https://doi.org/10.1073/pnas.2000228117) publication.\n"
   ]
  },
  {
   "cell_type": "markdown",
   "id": "d1c71880-51ec-434f-8dbf-7abe3d63c366",
   "metadata": {},
   "source": [
    "### 1.1. Fetching data from MGnify <a id='part1_1'/>"
   ]
  },
  {
   "cell_type": "markdown",
   "id": "4540955c-de1a-48b4-a407-215c965dc876",
   "metadata": {},
   "source": [
    "1. Fetching the analysis accession list using the study accessions. "
   ]
  },
  {
   "cell_type": "code",
   "execution_count": null,
   "id": "6bc9fed2-2cbb-4920-8e61-413b67569ed8",
   "metadata": {
    "tags": []
   },
   "outputs": [],
   "source": [
    "all_accessions = mgnify_analyses_from_studies(mg, c('MGYS00006180','MGYS00006178'))\n",
    "all_metadata = mgnify_get_analyses_metadata(mg, all_accessions)"
   ]
  },
  {
   "cell_type": "markdown",
   "id": "c6320d71-f49f-4e1c-88cd-e7323af8ba66",
   "metadata": {},
   "source": [
    "2. Keeping just the first analysis accession to fetch the kegg orthologs count table from the MGnify API and transform from JSON to matrix."
   ]
  },
  {
   "cell_type": "code",
   "execution_count": null,
   "id": "b740cf36-f5a8-49ff-9e41-b25cd72ea18d",
   "metadata": {
    "tags": []
   },
   "outputs": [],
   "source": [
    "accession = head(all_accessions, 1)\n",
    "ko_loc = paste0('analyses/',accession,'/kegg-orthologs')"
   ]
  },
  {
   "cell_type": "code",
   "execution_count": null,
   "id": "fa5ea7bb-2543-455e-adf7-f726f0bff036",
   "metadata": {
    "tags": []
   },
   "outputs": [],
   "source": [
    "ko_json = mgnify_retrieve_json(mg, path = ko_loc)\n",
    "ko_data = as.data.frame(ko_json %>% spread_all)[ , c(\"attributes.accession\", \"attributes.count\")]\n",
    "ko_data = data.frame(ko_data, row.names=1)\n",
    "colnames(ko_data)[1] = 'counts'\n",
    "ko_matrix = data.matrix(ko_data)"
   ]
  },
  {
   "cell_type": "code",
   "execution_count": null,
   "id": "9c8c9c8d-e068-4df7-9d45-25ff02e710d2",
   "metadata": {
    "tags": []
   },
   "outputs": [],
   "source": [
    "head(ko_matrix, 3)"
   ]
  },
  {
   "cell_type": "markdown",
   "id": "bc9871de-29b2-444c-93aa-a74986a01fbd",
   "metadata": {},
   "source": [
    "### 1.2. Selecting pathways <a id='part1_2'/>"
   ]
  },
  {
   "cell_type": "markdown",
   "id": "c47e5dd1-9cfa-425d-8582-c7171ffe2ca8",
   "metadata": {},
   "source": [
    "1. We are going to draw metabolic pathways for essential metabolism of carbohydrates plus fructose and manose metabolism, which is non-essential:\n",
    "\n",
    "- Glycolysis/Gluconeogenesis (00010)\n",
    "- Citric Acid (TCA) Cycle (00020)\n",
    "- Pentose Phosphate Pathway (00030)\n",
    "- Fructose and manose metabolism (00051)\n"
   ]
  },
  {
   "cell_type": "code",
   "execution_count": null,
   "id": "7435bbb2-1124-4eb2-9881-e4fced2a2960",
   "metadata": {
    "tags": []
   },
   "outputs": [],
   "source": [
    "to_draw = c('map00010', 'map00020', 'map00030', 'map00051')"
   ]
  },
  {
   "cell_type": "markdown",
   "id": "af9fd488-458e-4a43-b757-090fb1b3bce2",
   "metadata": {},
   "source": [
    "### 1.3. Ready to draw! <a id='part1_3'/>"
   ]
  },
  {
   "cell_type": "markdown",
   "id": "16403dbe-b86b-41d5-856a-155c196873b6",
   "metadata": {},
   "source": [
    "1. As we are plotting absence/presence, we set the number of bins = 2, the scale in one direction, and use 1 as limit. You will see some 'Note' and 'Info' messages, don't panic, it is pathview normal behaviour."
   ]
  },
  {
   "cell_type": "code",
   "execution_count": null,
   "id": "179ec96c-1ef9-4b32-be27-d0ca2603f291",
   "metadata": {
    "tags": []
   },
   "outputs": [],
   "source": [
    "for (p in to_draw) {\n",
    "    nude_id =  gsub(\"map\", \"\", p)\n",
    "    pathview(gene.data = ko_matrix, \n",
    "             species = \"ko\", \n",
    "             pathway.id = nude_id, \n",
    "             bins=c(2, 2), \n",
    "             both.dirs = FALSE, \n",
    "             limit = c(1,1), \n",
    "             mid = c(\"#ffffff\" , \"#ffffff\"), \n",
    "             high = c(\"#02b3ad\" , \"#02b3ad\")\n",
    "    )\n",
    "}"
   ]
  },
  {
   "cell_type": "markdown",
   "id": "bfaf1947-8ce5-4713-9ac2-65a5e9d0df90",
   "metadata": {},
   "source": [
    "2. Cleaning the working directory."
   ]
  },
  {
   "cell_type": "code",
   "execution_count": null,
   "id": "2dcfb4e6-3545-4532-8c7d-1a640b827932",
   "metadata": {
    "tags": []
   },
   "outputs": [],
   "source": [
    "if(!dir.exists(\"output_plots\")){\n",
    "    dir.create(\"output_plots\")\n",
    "    dir.create(\"output_plots/single_sample\")\n",
    "}\n",
    "\n",
    "file.copy(from=list.files(pattern=\"./*pathview.png\"), to=\"./output_plots/single_sample/\", overwrite = TRUE)\n",
    "\n",
    "png_files = list.files(path = \".\", pattern = \"*.png\")\n",
    "xml_files = list.files(path = \".\", pattern = \"*.xml\")\n",
    "files = c(png_files, xml_files)\n",
    "unlink(files)"
   ]
  },
  {
   "cell_type": "markdown",
   "id": "daeb3352-23b5-422e-9da1-2e4715ae02bf",
   "metadata": {},
   "source": [
    "3. This is one example of Pathview outputs. The rest of the generated figures are stored at `output_plots/single_sample/` directory. You can explore the files by clicking on them at the left-side panel."
   ]
  },
  {
   "cell_type": "code",
   "execution_count": null,
   "id": "84f7a483-2a42-4072-af99-e6b4a8071169",
   "metadata": {
    "tags": []
   },
   "outputs": [],
   "source": [
    "display_png(file='./output_plots/single_sample/ko00030.pathview.png')"
   ]
  },
  {
   "cell_type": "markdown",
   "id": "f07ff95a-55b0-4664-bd53-7f65b779048d",
   "metadata": {},
   "source": [
    "## Part 2. Comparing groups of samples, drawing KOs abundance <a id='part2'/>"
   ]
  },
  {
   "cell_type": "markdown",
   "id": "3589583c-bf0a-42b9-a203-8e36fb1a638a",
   "metadata": {},
   "source": [
    "In this part of the notebook we use the whole list of accessions for both studies (`MGYS00006180` and `MGYS00006178`). After integrating the KO's tables, we run [Aldex2](https://www.bioconductor.org/packages/devel/bioc/vignettes/ALDEx2/inst/doc/ALDEx2_vignette.html) to find differentially abudant genes with KO annotation between honeybees from Japan and Switzerland, and we use the `effect` as scale to plot the pathways with the highest number of differentially abundant KOs. Consider that steps involving fetching KO tables and `KEGGREST` queries can take few minutes to run."
   ]
  },
  {
   "cell_type": "markdown",
   "id": "d4e432e7-1f5f-4f29-bbbb-c615f78065f7",
   "metadata": {
    "tags": []
   },
   "source": [
    "### 2.1. Fetching KO tables from MGnify <a id='part2_1'/>"
   ]
  },
  {
   "cell_type": "markdown",
   "id": "cd9f48ed-eda6-414b-8bf2-cbaaf29819e6",
   "metadata": {},
   "source": [
    "1. Generating condition labels."
   ]
  },
  {
   "cell_type": "code",
   "execution_count": null,
   "id": "947959fc-a36b-4e1e-9aa3-bef693cef328",
   "metadata": {
    "tags": []
   },
   "outputs": [],
   "source": [
    "accession_alias = subset(all_metadata, select = c('analysis_accession', 'study_attributes.accession'))"
   ]
  },
  {
   "cell_type": "code",
   "execution_count": null,
   "id": "b63e915d-ccf6-483e-a59f-4cb143d0d475",
   "metadata": {
    "tags": []
   },
   "outputs": [],
   "source": [
    "cond_list = list()\n",
    "for (study_id in accession_alias$'study_attributes.accession') {\n",
    "    if (study_id == 'MGYS00006180') {\n",
    "        cond_list = append(cond_list , 'Japan')\n",
    "    } else {\n",
    "        cond_list = append(cond_list , 'Switzerland')\n",
    "    }\n",
    "}\n",
    "accession_alias$condition = cond_list"
   ]
  },
  {
   "cell_type": "code",
   "execution_count": null,
   "id": "1d954b5a-27e7-4e95-bb7b-562231731f97",
   "metadata": {
    "tags": []
   },
   "outputs": [],
   "source": [
    "table(unlist(accession_alias$condition))"
   ]
  },
  {
   "cell_type": "markdown",
   "id": "2753de4d-4c80-4503-882e-1505e2b2281e",
   "metadata": {},
   "source": [
    "2. Selecting randomly 15 samples from each location to speed up the downstream analysis."
   ]
  },
  {
   "cell_type": "code",
   "execution_count": null,
   "id": "ef1647f8-1867-413e-ae42-f636618be0ca",
   "metadata": {
    "tags": []
   },
   "outputs": [],
   "source": [
    "set.seed(123)\n",
    "grouped_df = accession_alias %>% group_by(condition)\n",
    "random_sample = grouped_df %>% sample_n(size = 15, replace = FALSE)"
   ]
  },
  {
   "cell_type": "markdown",
   "id": "b26de4b2-687c-490f-bdbf-7f977862250a",
   "metadata": {},
   "source": [
    "3. Download and integrate KO counts tables. We will discard any sample having zero genes with KO annotation. This step takes around 3 minutes to complete."
   ]
  },
  {
   "cell_type": "code",
   "execution_count": null,
   "id": "da1d853c-bb2c-40e9-ac2a-6ce59949b2c5",
   "metadata": {
    "tags": []
   },
   "outputs": [],
   "source": [
    "# Saving KO tables as a list of dataframes\n",
    "samples_list = random_sample$'analysis_accession'\n",
    "list_of_dfs = list()\n",
    "for (accession in samples_list) {\n",
    "    ko_loc = paste0('analyses/',accession,'/kegg-orthologs')\n",
    "    ko_json = mgnify_retrieve_json(mg, path = ko_loc)\n",
    "    ko_data = as.data.frame(ko_json %>% spread_all)[ , c(\"attributes.accession\", \"attributes.count\")]\n",
    "    colnames(ko_data) = c('ko_id', accession)\n",
    "    list_of_dfs = append(list_of_dfs, list(ko_data)) \n",
    "}"
   ]
  },
  {
   "cell_type": "code",
   "execution_count": null,
   "id": "c6438389-2ec9-448b-9a87-f24b398f4d04",
   "metadata": {
    "tags": []
   },
   "outputs": [],
   "source": [
    "# Integrating all dataframes into a single dataframe\n",
    "integrated_df = data.frame()\n",
    "for (df in list_of_dfs){\n",
    "    integrated_df = merge(integrated_df,df, all = T)\n",
    "}\n",
    "\n",
    "## Cleaning the integrated table\n",
    "# Using the KO id column as row names\n",
    "row.names(integrated_df) = integrated_df$ko_id\n",
    "integrated_df$ko_id = NULL\n",
    "\n",
    "# Converting NA to zero \n",
    "integrated_df[is.na(integrated_df)] = 0\n",
    "\n",
    "# Discarding samples that KOs abundance sum = 0\n",
    "integrated_df = integrated_df %>% select_if(is.numeric) %>% select_if(~ sum(. != 0) > 0)"
   ]
  },
  {
   "cell_type": "code",
   "execution_count": null,
   "id": "e2cd25fd-3eb6-4a6e-813b-6a975c812364",
   "metadata": {
    "tags": []
   },
   "outputs": [],
   "source": [
    "head(integrated_df, c(3, 2))"
   ]
  },
  {
   "cell_type": "markdown",
   "id": "c73a5626-e317-4c5a-9181-ca83c83430c3",
   "metadata": {},
   "source": [
    "4. Reformating the condition label according with the KOs dataframe."
   ]
  },
  {
   "cell_type": "code",
   "execution_count": null,
   "id": "12c951d3-bb7a-41af-8402-ca564a9aa239",
   "metadata": {
    "tags": []
   },
   "outputs": [],
   "source": [
    "sorted_conds = list()\n",
    "for (sample in colnames(integrated_df)) {\n",
    "    match = accession_alias[accession_alias$analysis_accession %in% sample,]$condition\n",
    "    cond = paste(match, collapse = \"\")\n",
    "    sorted_conds = append(sorted_conds, cond)    \n",
    "}\n",
    "vector_conds = unlist(sorted_conds)"
   ]
  },
  {
   "cell_type": "code",
   "execution_count": null,
   "id": "bf972f32-e97d-4cf1-b20d-1a44b65e783b",
   "metadata": {
    "tags": []
   },
   "outputs": [],
   "source": [
    "table(vector_conds)"
   ]
  },
  {
   "cell_type": "markdown",
   "id": "634cd95f-3b50-4292-ac05-d9a54238fccc",
   "metadata": {},
   "source": [
    "### 2.2. Generating differentially abundance count tables<a id='part2_2'/>"
   ]
  },
  {
   "cell_type": "markdown",
   "id": "f8169f93-64e3-4293-8bc7-7ac5f1dbfe1c",
   "metadata": {},
   "source": [
    "1. Running Aldex step. It takes 2 minutes to complete."
   ]
  },
  {
   "cell_type": "code",
   "execution_count": null,
   "id": "b00cdb64-5c82-41b4-9032-6fda03eb97a3",
   "metadata": {
    "tags": []
   },
   "outputs": [],
   "source": [
    "x.all = aldex(integrated_df, \n",
    "              vector_conds, \n",
    "              mc.samples=128, \n",
    "              test=\"t\", \n",
    "              effect=TRUE, \n",
    "              include.sample.summary=FALSE, \n",
    "              denom=\"all\", \n",
    "              verbose=FALSE\n",
    "        )"
   ]
  },
  {
   "cell_type": "code",
   "execution_count": null,
   "id": "a17e799d-f8b8-485e-9f6f-29c2a323cd76",
   "metadata": {
    "tags": []
   },
   "outputs": [],
   "source": [
    "head(x.all, 3)"
   ]
  },
  {
   "cell_type": "markdown",
   "id": "2001b480-2185-429d-8b82-23853bc1dfe8",
   "metadata": {},
   "source": [
    "2. The column `effect` in the above output (`x.all` table) contains the log ratio of the sample mean to the reference mean. A positive effect indicates that the sample mean is greater than the reference mean, while a negative effect indicates that the sample mean is lower than the reference mean. In this example, Japan group is used as reference. We will generate now the matrix of KO-effect for plotting."
   ]
  },
  {
   "cell_type": "code",
   "execution_count": null,
   "id": "430c4dbc-bd7c-41a0-a33f-c69a0b773d53",
   "metadata": {
    "tags": []
   },
   "outputs": [],
   "source": [
    "ko_matrix = data.matrix(subset(x.all, select = c('effect')))"
   ]
  },
  {
   "cell_type": "code",
   "execution_count": null,
   "id": "b8364290-982e-49f2-9067-570bf620dbc0",
   "metadata": {
    "tags": []
   },
   "outputs": [],
   "source": [
    "head(ko_matrix, 3)"
   ]
  },
  {
   "cell_type": "markdown",
   "id": "cd4383c7-a413-4712-a3e4-e5c4201d33ad",
   "metadata": {},
   "source": [
    "3. Plotting the effect size (`effect`) and difference (`diff.btw`) to show an overview of differentially abundant functions. Two type of P-value results from the Welch’s t test are shown: In blue marks the expected P-value; in red marks the expected Benjamini-Hochberg corrected P-value. The threshold line indicates P-value = 0.05."
   ]
  },
  {
   "cell_type": "code",
   "execution_count": null,
   "id": "34162804-10c5-48ec-b8e1-37a01b4920aa",
   "metadata": {
    "tags": []
   },
   "outputs": [],
   "source": [
    "options(repr.plot.width=10, repr.plot.height=8)\n",
    "\n",
    "# Effect size plot\n",
    "par(mfrow=c(1,2))\n",
    "plot(x.all$effect, \n",
    "    x.all$we.ep, \n",
    "    log=\"y\", \n",
    "    cex=0.7, \n",
    "    col=rgb(0,0,1,0.2),  # Blue marks for expected P value of Welch’s t test\n",
    "    pch=19, \n",
    "    xlab=\"Effect size\", \n",
    "    ylab=\"P value\", \n",
    "    main=\"Effect size plot\")\n",
    "points(x.all$effect, \n",
    "    x.all$we.eBH, \n",
    "    cex=0.7, \n",
    "    col=rgb(1,0,0,0.2), # Red marks for expected Benjamini-Hochberg corrected P value of Welch’s t test\n",
    "    pch=19)\n",
    "abline(h=0.05, lty=2, col=\"grey\")\n",
    "legend(-0.5,0.0005, legend=c(\"P value\", \"BH-adjusted\"), pch=19, col=c(\"blue\", \"red\"))\n",
    "\n",
    "# Volcano plot\n",
    "plot(x.all$diff.btw, \n",
    "    x.all$we.ep, \n",
    "    log=\"y\", \n",
    "    cex=0.7, \n",
    "    col=rgb(0,0,1,0.2), # Blue marks for expected P value of Welch’s t test\n",
    "    pch=19, \n",
    "    xlab=\"Difference\", \n",
    "    ylab=\"P value\", \n",
    "    main=\"Volcano plot\")\n",
    "points(x.all$diff.btw, \n",
    "    x.all$we.eBH, \n",
    "    cex=0.7, \n",
    "    col=rgb(1,0,0,0.2), # Red marks for expected Benjamini-Hochberg corrected P value of Welch’s t test\n",
    "    pch=19)\n",
    "abline(h=0.05, lty=2, col=\"grey\")\n",
    "legend(-2,0.0005, legend=c(\"P value\", \"BH-adjusted\"), pch=19, col=c(\"blue\", \"red\"))"
   ]
  },
  {
   "cell_type": "markdown",
   "id": "0a4ac0f0-0781-45cf-bc2a-384ce0a1d5e0",
   "metadata": {},
   "source": [
    "4. Reporting features detected by the Welchs’ or Wilcoxon test individually (blue) or by both (red)."
   ]
  },
  {
   "cell_type": "code",
   "execution_count": null,
   "id": "f54b2bf8-61b9-4c6a-9d50-a095121985b0",
   "metadata": {
    "tags": []
   },
   "outputs": [],
   "source": [
    "options(repr.plot.width=8, repr.plot.height=8)\n",
    "\n",
    "found.by.all <- which(x.all$we.eBH < 0.05 & x.all$wi.eBH < 0.05)\n",
    "found.by.one <- which(x.all$we.eBH < 0.05 | x.all$wi.eBH < 0.05)\n",
    "\n",
    "plot(x.all$diff.win, x.all$diff.btw, pch=19, cex=1, col=rgb(0,0,0,0.3),\n",
    " xlab=\"Dispersion\", ylab=\"Difference\")\n",
    "points(x.all$diff.win[found.by.one], x.all$diff.btw[found.by.one], pch=19,\n",
    " cex=1, col=rgb(0,0,1,0.5))\n",
    "points(x.all$diff.win[found.by.all], x.all$diff.btw[found.by.all], pch=19,\n",
    " cex=1, col=rgb(1,0,0,1))\n",
    "abline(0,1,lty=2)\n",
    "abline(0,-1,lty=2)\n"
   ]
  },
  {
   "cell_type": "markdown",
   "id": "b55f62b5-e191-4d1a-836c-b8318e24238f",
   "metadata": {},
   "source": [
    "### 2.3. Selecting pathways to draw<a id='part2_3'/>"
   ]
  },
  {
   "cell_type": "markdown",
   "id": "b8787d97-2204-44c8-9dcd-9eaa91a6b77c",
   "metadata": {},
   "source": [
    "1. We will use the union of both testing methods (Welchs’ or Wilcoxon) to find the pathways with differentially abundant KOs."
   ]
  },
  {
   "cell_type": "code",
   "execution_count": null,
   "id": "5791ddb1-0618-4f60-80b9-20b3e786ede1",
   "metadata": {
    "tags": []
   },
   "outputs": [],
   "source": [
    "kos_list = list()\n",
    "for (index in found.by.one){\n",
    "    current_ko = rownames(x.all)[index]\n",
    "    kos_list = append(kos_list, current_ko)\n",
    "}"
   ]
  },
  {
   "cell_type": "code",
   "execution_count": null,
   "id": "9ccb1e26-ab6d-4542-9a14-652799c159b7",
   "metadata": {
    "tags": []
   },
   "outputs": [],
   "source": [
    "ko_pathways = collect_pathways(kos_list)"
   ]
  },
  {
   "cell_type": "code",
   "execution_count": null,
   "id": "bc932fe4-4507-449e-a8e0-ead48aae5733",
   "metadata": {
    "tags": []
   },
   "outputs": [],
   "source": [
    "head(ko_pathways)"
   ]
  },
  {
   "cell_type": "markdown",
   "id": "2d59b158-e8e1-427c-a86f-2709dd7173e0",
   "metadata": {},
   "source": [
    "2. Finding the pathway with the highest number of significant KOs."
   ]
  },
  {
   "cell_type": "code",
   "execution_count": null,
   "id": "70175467-a1e2-47d1-8be6-991abfd4d8eb",
   "metadata": {
    "tags": []
   },
   "outputs": [],
   "source": [
    "pathways_counts = list()\n",
    "for (path_element in ko_pathways) {\n",
    "    if (path_element %in% names(pathways_counts)) {\n",
    "        new_value = pathways_counts[[path_element]] + 1\n",
    "        pathways_counts[path_element] = new_value       \n",
    "    } else {\n",
    "        pathways_counts[path_element] = 1 \n",
    "    }\n",
    "}"
   ]
  },
  {
   "cell_type": "code",
   "execution_count": null,
   "id": "cdaa050b-2afd-41db-a257-19dd50f8f535",
   "metadata": {
    "tags": []
   },
   "outputs": [],
   "source": [
    "top_to_plot = names(tail(pathways_counts[order(unlist(pathways_counts))], 1))\n",
    "top_to_plot"
   ]
  },
  {
   "cell_type": "markdown",
   "id": "58e4b311-ab08-4e15-bc64-66fe9033805c",
   "metadata": {},
   "source": [
    "### 2.4. Drawing pathways!<a id='part2_4'/>"
   ]
  },
  {
   "cell_type": "markdown",
   "id": "166767eb-2384-4725-8be4-77c20dc44caa",
   "metadata": {},
   "source": [
    "1. For this type of data, values range from -1 to 1, with both negative and positive fractions. We use both directions when plotting."
   ]
  },
  {
   "cell_type": "code",
   "execution_count": null,
   "id": "a0a7aae1-a8c2-406f-86b2-918914cdbd93",
   "metadata": {
    "tags": []
   },
   "outputs": [],
   "source": [
    "for (p in top_to_plot) {\n",
    "    nude_id =  gsub(\"map\", \"\", p)\n",
    "    pathview(gene.data = ko_matrix, \n",
    "        species = \"ko\", \n",
    "        pathway.id = nude_id, \n",
    "        both.dirs = TRUE, \n",
    "        low = c(\"#bd066b\", \"#bd066b\"),  \n",
    "        mid = c(\"#c9c9c9\" , \"#c9c9c9\"), \n",
    "        high = c(\"#02b3ad\" , \"#02b3ad\")\n",
    "    )\n",
    "}"
   ]
  },
  {
   "cell_type": "markdown",
   "id": "9885305d-73b3-4f8a-aad2-03d6031dbe24",
   "metadata": {},
   "source": [
    "2. Cleaning the working directory."
   ]
  },
  {
   "cell_type": "code",
   "execution_count": null,
   "id": "5f08edbf-b7f1-45f4-a7d6-20d2c75473ad",
   "metadata": {
    "tags": []
   },
   "outputs": [],
   "source": [
    "if(!dir.exists(\"output_plots/comparative\")){\n",
    "    dir.create(\"output_plots/comparative\")\n",
    "}\n",
    "\n",
    "file.copy(from=list.files(pattern=\"./*pathview.png\"), to=\"./output_plots/comparative/\", overwrite = TRUE)\n",
    "\n",
    "png_files = list.files(path = \".\", pattern = \"*.png\")\n",
    "xml_files = list.files(path = \".\", pattern = \"*.xml\")\n",
    "files = c(png_files, xml_files)\n",
    "unlink(files)"
   ]
  },
  {
   "cell_type": "markdown",
   "id": "fc7243c3-ca45-4cb7-96f2-6adeff23f5b2",
   "metadata": {},
   "source": [
    "3. This is the Pathview output stored at `output_plots/comparative/` directory."
   ]
  },
  {
   "cell_type": "code",
   "execution_count": null,
   "id": "2120d69e-92ac-4752-abcf-888a63e4dea8",
   "metadata": {
    "tags": []
   },
   "outputs": [],
   "source": [
    "display_png(file='./output_plots/comparative/ko00860.pathview.png')"
   ]
  },
  {
   "cell_type": "markdown",
   "id": "891b5fa0-feec-4357-a5ea-ea049f87af62",
   "metadata": {},
   "source": [
    "## Part 3. Plotting presence/absence of KOs and metabolites for one sample <a id='part3'/>"
   ]
  },
  {
   "cell_type": "markdown",
   "id": "0cdd7d9b-7a59-42e5-8568-8e753e50012b",
   "metadata": {},
   "source": [
    "For this part of the notebook we will use public data of the study [An untargeted metabolomics approach to characterize dissolved organic matter in groundwater of the Samail Ophiolite](https://www.biorxiv.org/content/10.1101/2022.11.09.515806v1). Metatranscriptomics (RNA-Seq) raw-reads are available at the ENA under the accession [PRJNA560313](https://www.ebi.ac.uk/ena/browser/view/PRJNA560313). Analysis results are available on MGnify under the study accession [MGYS00006297](https://www.ebi.ac.uk/metagenomics/studies/MGYS00006297#overview), and compound data can be found on Metabolights under the accession [MTBLS6081](https://www.ebi.ac.uk/metabolights/editor/MTBLS6081/descriptors). "
   ]
  },
  {
   "cell_type": "markdown",
   "id": "96d1f02c-e717-4a8a-9dd0-9f72f94daccf",
   "metadata": {},
   "source": [
    "### 3.1. Fetching KOs table from MGnify <a id='part3_1'/>"
   ]
  },
  {
   "cell_type": "markdown",
   "id": "8af16f44-fbdc-461f-8be5-e3a0a4c7cb06",
   "metadata": {},
   "source": [
    "1. As we are using only one sample, we will fetch metadata and the KO table for that sample directly from MGnify."
   ]
  },
  {
   "cell_type": "code",
   "execution_count": null,
   "id": "c97e6dc4-cbf5-41b6-bcbd-4846c9d87604",
   "metadata": {
    "tags": []
   },
   "outputs": [],
   "source": [
    "sample = 'MGYA00652853'\n",
    "metadata = mgnify_get_analyses_metadata(mg, sample)\n",
    "mgnify_sample = metadata$'sample_sample-name'\n",
    "mgnify_sample"
   ]
  },
  {
   "cell_type": "code",
   "execution_count": null,
   "id": "c8830b97-ba07-4e8a-8b82-986dfd721acc",
   "metadata": {
    "tags": []
   },
   "outputs": [],
   "source": [
    "ko_loc = paste0('analyses/',sample,'/kegg-orthologs')\n",
    "\n",
    "ko_json = mgnify_retrieve_json(mg, path = ko_loc)\n",
    "ko_data = as.data.frame(ko_json %>% spread_all)[ , c(\"attributes.accession\", \"attributes.count\")]\n",
    "ko_data = data.frame(ko_data, row.names=1)\n",
    "colnames(ko_data)[1] = 'counts'\n",
    "\n",
    "# Transforming kos matrix into a named vector\n",
    "ko_values = ko_data$'counts'\n",
    "ko_names = rownames(ko_data)\n",
    "ko_vector = setNames(ko_values, ko_names)\n",
    "\n",
    "head(ko_vector, 3)"
   ]
  },
  {
   "cell_type": "markdown",
   "id": "14cdf1f2-7435-47e5-bf74-d6c517d7c28c",
   "metadata": {},
   "source": [
    "2. Find the pathways with at least 10 genes. This step takes 3 min to run."
   ]
  },
  {
   "cell_type": "code",
   "execution_count": null,
   "id": "9f02da8c-21f4-4c0f-8cc7-c64262dda929",
   "metadata": {
    "tags": []
   },
   "outputs": [],
   "source": [
    "ko_pathways = collect_pathways(ko_names)"
   ]
  },
  {
   "cell_type": "code",
   "execution_count": null,
   "id": "3e5c1d9b-1f53-440b-983a-71295f4e99a2",
   "metadata": {
    "tags": []
   },
   "outputs": [],
   "source": [
    "pathways_counts = list()\n",
    "for (path_element in ko_pathways) {\n",
    "    if (path_element %in% names(pathways_counts)) {\n",
    "        new_value = pathways_counts[[path_element]] + 1\n",
    "        pathways_counts[path_element] = new_value       \n",
    "    } else {\n",
    "        pathways_counts[path_element] = 1 \n",
    "    }\n",
    "}\n",
    "top_genes_pathways = names(pathways_counts)[sapply(pathways_counts, function(x) x > 9)]\n",
    "print(length(top_genes_pathways))\n",
    "#print(top_genes_pathways)"
   ]
  },
  {
   "cell_type": "markdown",
   "id": "60f4139e-73a7-4ba3-8a60-6ce4ba027066",
   "metadata": {},
   "source": [
    "### 3.2. Fetching and formatting metabolites data <a id='part3_2'/>"
   ]
  },
  {
   "cell_type": "markdown",
   "id": "a0ce0c03-8744-4cf9-baf6-1730cbefac74",
   "metadata": {},
   "source": [
    "1. We will fetch the samples table s_MTBLS6081.txt and the compounds table m_MTBLS6081_LC-MS_negative_reverse-phase_metabolite_profiling_v2_maf.tsv from the Metabolights database using the url and save them on files with shorter names."
   ]
  },
  {
   "cell_type": "code",
   "execution_count": null,
   "id": "f4d093e3-bd97-405b-b3bc-c39c4caaadae",
   "metadata": {
    "tags": []
   },
   "outputs": [],
   "source": [
    "# Downloading the metabolites samples table\n",
    "url = 'https://www.ebi.ac.uk/metabolights/ws/studies/MTBLS6081/download/39846581-6c64-4e09-99dd-74cb05921f85?file=s_MTBLS6081.txt'\n",
    "destfile = 's_MTBLS6081.txt'\n",
    "download.file(url, destfile = destfile, method = \"auto\")\n",
    "\n",
    "# Downloading the compounds table\n",
    "url = 'https://www.ebi.ac.uk/metabolights/ws/studies/MTBLS6081/download/39846581-6c64-4e09-99dd-74cb05921f85?file=m_MTBLS6081_LC-MS_negative_reverse-phase_metabolite_profiling_v2_maf.tsv'\n",
    "destfile = 'm_MTBLS6081.tsv'\n",
    "download.file(url, destfile = destfile, method = \"auto\")"
   ]
  },
  {
   "cell_type": "markdown",
   "id": "ffae5c47-9894-48a6-8a23-f8a98772fe48",
   "metadata": {},
   "source": [
    "2. Finding the sample ID corresponding to MGnify results on the metadata table"
   ]
  },
  {
   "cell_type": "code",
   "execution_count": null,
   "id": "7a1a96e7-78a9-4d36-b11c-618e49ba824c",
   "metadata": {
    "tags": []
   },
   "outputs": [],
   "source": [
    "metadata_comp = read.table(\"s_MTBLS6081.txt\", header = TRUE, sep = \"\\t\")\n",
    "metabolights_sample = metadata_comp[grepl(mgnify_sample, metadata_comp$'Source.Name'), ]$'Sample.Name'\n",
    "print(c(mgnify_sample, metabolights_sample))"
   ]
  },
  {
   "cell_type": "markdown",
   "id": "5e841112-2cda-4b03-9515-943b235c2a5a",
   "metadata": {},
   "source": [
    "3. Parsing and formating the metabolites table"
   ]
  },
  {
   "cell_type": "code",
   "execution_count": null,
   "id": "6631125f-a7d3-45d1-a9f4-6c19a9f74462",
   "metadata": {
    "tags": []
   },
   "outputs": [],
   "source": [
    "compound_data = read.table(\"m_MTBLS6081.tsv\", header = TRUE, sep = \"\\t\", comment.char = \"|\", quote = \"\") \n",
    "head(compound_data, 3)"
   ]
  },
  {
   "cell_type": "code",
   "execution_count": null,
   "id": "1499ec7d-528e-4791-8f8d-14191114b259",
   "metadata": {
    "tags": []
   },
   "outputs": [],
   "source": [
    "# Keeping rows with CHEBI id\n",
    "chebi_compound = compound_data[grepl(\"CHEBI\", compound_data$database_identifier), ]\n",
    "\n",
    "# Keeping data for the sample of interest only\n",
    "chebi_compound = subset(chebi_compound, select = c('database_identifier', metabolights_sample))\n",
    "\n",
    "# Discarding rows with abundance = 0\n",
    "compound_clean = chebi_compound[chebi_compound[, 2] != 0, ]\n",
    "\n",
    "head(compound_clean, 3)"
   ]
  },
  {
   "cell_type": "markdown",
   "id": "b8d4a90b-681a-4fe5-baeb-e36421586de7",
   "metadata": {},
   "source": [
    "4. Transforming CHEBI ids into KEGG compound IDs. To speed up this step, instead of using KEGGREST, we are going to use a relational table of IDs available at the FTP site of the EBI public databases."
   ]
  },
  {
   "cell_type": "code",
   "execution_count": null,
   "id": "ac8e9d79-7af6-45f5-9da0-e67805052074",
   "metadata": {
    "tags": []
   },
   "outputs": [],
   "source": [
    "# Downloading the relational table\n",
    "url = 'https://ftp.ebi.ac.uk/pub/databases/chebi/Flat_file_tab_delimited/database_accession.tsv'\n",
    "destfile = 'chebi2kegg.tsv'\n",
    "download.file(url, destfile = destfile, method = \"auto\")\n",
    "\n",
    "# Reading the table\n",
    "chebi2kegg_df = fread(\"chebi2kegg.tsv\")"
   ]
  },
  {
   "cell_type": "code",
   "execution_count": null,
   "id": "fba7ae84-7324-480b-a0ef-c632cb0241d4",
   "metadata": {
    "tags": []
   },
   "outputs": [],
   "source": [
    "# Generate a subtable of ChEBI accessions having KEGG compound accessions\n",
    "ch2co = chebi2kegg_df[grepl('KEGG COMPOUND accession', chebi2kegg_df$TYPE), ]\n",
    "\n",
    "# Extract compound IDs from clean metabolights table\n",
    "chebi_ids = gsub(\"CHEBI:\", \"\", compound_clean$'database_identifier')\n",
    "\n",
    "# Filter ch2co for relevant rows using chebi_ids\n",
    "filtered_ch2co = ch2co[ch2co$COMPOUND_ID %in% chebi_ids, ]\n",
    "\n",
    "# Extract unique KEGG IDs from filtered_ch2co\n",
    "unique_kegg_ids = unique(filtered_ch2co$ACCESSION_NUMBER)\n",
    "\n",
    "# Saving unique_kegg_ids as a vector\n",
    "cpd_vector = unique_kegg_ids\n",
    "length(cpd_vector)"
   ]
  },
  {
   "cell_type": "markdown",
   "id": "1f46ec88-e7d3-45b3-a3c3-e3b02fa22855",
   "metadata": {},
   "source": [
    "### 3.3. Drawing! <a id='part3_3'/>"
   ]
  },
  {
   "cell_type": "markdown",
   "id": "0484dd36-df9c-43e4-8065-58bc70a3374b",
   "metadata": {},
   "source": [
    "1. We will use the list of pathways having at least 10 genes to draw. Note that not all of them have compounds data. As we are plotting absence/presence, we set the number of bins = 2, the scale in one direction, and use 1 as limit. This step takes 3 min to run and generates a bunch of files on the working directory that we will clean on the next step."
   ]
  },
  {
   "cell_type": "code",
   "execution_count": null,
   "id": "a4370a98-c28c-4ec4-b68d-2ddbaf9f4a4f",
   "metadata": {
    "tags": []
   },
   "outputs": [],
   "source": [
    "for (p in top_genes_pathways) {\n",
    "    nude_id = gsub(\"map\", \"\", p)\n",
    "    pathview(gene.data = ko_vector, \n",
    "        cpd.data = cpd_vector, \n",
    "        species = \"ko\", \n",
    "        pathway.id = nude_id, \n",
    "        bins=c(2, 2), \n",
    "        both.dirs = FALSE, \n",
    "        limit = c(1,1), \n",
    "        mid = c(\"#c9c9c9\" , \"#c9c9c9\"), \n",
    "        high = c(\"#02b3ad\" , \"#d67e03\")\n",
    "    )\n",
    "}"
   ]
  },
  {
   "cell_type": "markdown",
   "id": "e1e57acb-2d93-440d-a5e6-85da16fba2e8",
   "metadata": {},
   "source": [
    "2. Cleaning working directory."
   ]
  },
  {
   "cell_type": "code",
   "execution_count": null,
   "id": "0002ff27-0454-4266-a7db-1e07423d5ade",
   "metadata": {
    "tags": []
   },
   "outputs": [],
   "source": [
    "if(!dir.exists(\"output_plots/metabolites\")){\n",
    "    dir.create(\"output_plots/metabolites\")\n",
    "}\n",
    "\n",
    "file.copy(from=list.files(pattern=\"./*pathview.png\"), to=\"./output_plots/metabolites/\", overwrite = TRUE)\n",
    "\n",
    "png_files = list.files(path = \".\", pattern = \"*.png\")\n",
    "xml_files = list.files(path = \".\", pattern = \"*.xml\")\n",
    "files = c(png_files, xml_files)\n",
    "unlink(files)\n"
   ]
  },
  {
   "cell_type": "markdown",
   "id": "1824fa25-6605-45fc-9622-bb0e8b9dd48b",
   "metadata": {},
   "source": [
    "3. Here are two examples of Pathview outputs that showcase the intersection between active genes and the presence of compounds. Please note that we have intentionally refrained from filtering out genes or compounds based on abundance or quality for these specific examples. Our primary objective is to generate visualization material that effectively highlights these intersections. The rest of the generated figures are stored at `output_plots/metabolites/` directory. You can explore the files by clicking on them at the left-side panel."
   ]
  },
  {
   "cell_type": "code",
   "execution_count": null,
   "id": "af689534-f2ca-461a-bbf3-baae9bb9a418",
   "metadata": {
    "tags": []
   },
   "outputs": [],
   "source": [
    "display_png(file=\"./output_plots/metabolites/ko00400.pathview.png\")\n",
    "display_png(file=\"./output_plots/metabolites/ko02060.pathview.png\")"
   ]
  },
  {
   "cell_type": "code",
   "execution_count": null,
   "id": "f6fbbe40-8259-44b4-8468-c8535037004d",
   "metadata": {
    "tags": []
   },
   "outputs": [],
   "source": [
    "# Get pathview help\n",
    "?pathview"
   ]
  },
  {
   "cell_type": "markdown",
   "id": "119204e1-81d8-4d1d-8407-776ed7e1d4dc",
   "metadata": {},
   "source": [
    " ### References: <a id='refs'/></a>"
   ]
  },
  {
   "cell_type": "markdown",
   "id": "d234455e-c703-420d-a28e-95f88a751fed",
   "metadata": {},
   "source": [
    "#### Datasets and databases papers:\n",
    "Honeybee datasets (used in parts 1 and 2 of this notebook):\n",
    "https://doi.org/10.1073/pnas.2000228117\n",
    "\n",
    "Metabolites dataset (used in part 3):\n",
    "https://doi.org/10.1101/2022.11.09.515806\n",
    "\n",
    "MGnify pipeline:\n",
    "https://doi.org/10.1093/nar/gkac1080\n",
    "\n",
    "KEGG database:\n",
    "https://doi.org/10.1093/nar/gkw1092\n",
    "\n",
    "Metabolights database:\n",
    "https://doi.org/10.1093/nar/gkz1019\n",
    "\n",
    "\n",
    "#### R libraries:\n",
    " - `library(ALDEx2)` Gloor GB, Macklaim JM, Fernandes AD (2016). Displaying Variation in Large Datasets: a Visual Summary of Effect Sizes. Journal of Computational and Graphical Statistics, 2016 http://doi.org/10.1080/10618600.2015.1131161. R package version 1.30.0.\n",
    "\n",
    " - `library(data.table)` Matt Dowle and Arun Srinivasan (2023). data.table: Extension of `data.frame`. R package version 1.14.8. https://CRAN.R-project.org/package=data.table    \n",
    "\n",
    " - `library(dplyr)` Hadley Wickham, Romain François, Lionel Henry, Kirill Müller and Davis Vaughan (2023). dplyr: A Grammar of Data Manipulation. R package version 1.1.2. https://CRAN.R-project.org/package=dplyr\n",
    "\n",
    " - `library(IRdisplay)` Thomas Kluyver, Philipp Angerer and Jan Schulz (NA). IRdisplay: 'Jupyter' Display Machinery. R package version 1.1. https://github.com/IRkernel/IRdisplay\n",
    "\n",
    " - `library(KEGGREST)` Dan Tenenbaum and Bioconductor Package Maintainer (2021). KEGGREST: Client-side REST access to the Kyoto Encyclopedia of Genes and Genomes (KEGG). R package version 1.38.0.\n",
    "\n",
    " - `library(MGnifyR)` Ben Allen (2022). MGnifyR: R interface to EBI MGnify metagenomics resource. R package version 0.1.0.\n",
    "\n",
    " - `library(pathview)` Luo, W. and Brouwer C., Pathview: an R/Bioconductor package for pathway-based data integration and visualization. Bioinformatics, 2013, 29(14): 1830-1831, doi: 10.1093/bioinformatics/btt285. R package version 1.38.0.\n",
    "\n",
    " - `library(tidyjson)` Jeremy Stanley and Cole Arendt (2023). tidyjson: Tidy Complex 'JSON'. R package version 0.3.2. https://CRAN.R-project.org/package=tidyjson\n",
    "  \n",
    "\n",
    "#### Going deeper:\n",
    "\n",
    "If you want to learn more about using MGnifyR, you can follow the online tutorial available here:\n",
    "https://www.ebi.ac.uk/training/online/courses/metagenomics-bioinformatics/mgnifyr/\n",
    "\n",
    "KEGGREST documentation with multiple examples:\n",
    "https://www.bioconductor.org/packages/devel/bioc/vignettes/KEGGREST/inst/doc/KEGGREST-vignette.html\n",
    "\n",
    "Pathview user manual:\n",
    "https://www.bioconductor.org/packages/release/bioc/vignettes/pathview/inst/doc/pathview.pdf\n",
    "\n"
   ]
  },
  {
   "cell_type": "code",
   "execution_count": null,
   "id": "2b497ce2-a5f2-4d9f-89a3-87e598d968eb",
   "metadata": {},
   "outputs": [],
   "source": []
  }
 ],
 "metadata": {
  "kernelspec": {
   "display_name": "R (mgnify-r-env)",
   "language": "R",
   "name": "conda-env-mgnify-r-env-r"
  },
  "language_info": {
   "codemirror_mode": "r",
   "file_extension": ".r",
   "mimetype": "text/x-r-source",
   "name": "R",
   "pygments_lexer": "r",
   "version": "4.2.3"
  }
 },
 "nbformat": 4,
 "nbformat_minor": 5
}
