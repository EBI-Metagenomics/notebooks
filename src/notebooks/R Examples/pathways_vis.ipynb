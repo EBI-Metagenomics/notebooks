{
 "cells": [
  {
   "cell_type": "raw",
   "id": "dd5613df-43c2-4319-bd46-ca18a85c51ff",
   "metadata": {},
   "source": [
    "---\n",
    "title: \"Pathways Visualization\"\n",
    "author: \"Alejandra Escobar (MGnify team)\"\n",
    "categories: [R]\n",
    "execute: \n",
    "  enabled: true\n",
    "---"
   ]
  },
  {
   "cell_type": "markdown",
   "id": "f3a383f6-829a-43b2-87ba-159d634fc2ce",
   "metadata": {},
   "source": [
    "<div style=\"max-width:1200px\"><img src=\"../_resources/mgnify_banner.png\" width=\"100%\"></div>"
   ]
  },
  {
   "cell_type": "markdown",
   "id": "9d8bedac-2993-42f4-a71e-b689466bd462",
   "metadata": {
    "tags": []
   },
   "source": [
    "<img src=\"../_resources/mgnify_logo.png\" width=\"200px\">\n",
    "\n",
    "# Pathways Visualization\n",
    "\n",
    "In this notebook we aim to demonstrate how the MGnifyR tool can be used to fetch functional annotation results generated through the MGnify metagenomic analyisis pipelines. Then we show how to generate the pathways visualization using [Pathview](https://bioconductor.org/packages/release/bioc/html/pathview.html) in R.\n",
    "\n",
    "[MGnifyR](http://github.com/beadyallen/mgnifyr) is a library that provides a set of tools for easily accessing and processing MGnify data in R, making queries to MGnify databases through the [MGnify API](https://www.ebi.ac.uk/metagenomics/api/v1/). \n",
    "The benefit of MGnifyR is that data can either be fetched in tsv format or be directly combined in a phyloseq object to run an analysis in a custom workflow.\n",
    "\n",
    "This is an interactive code notebook (a Jupyter Notebook). To run this code, click into each cell and press the ▶ button in the top toolbar, or press shift+enter\n"
   ]
  },
  {
   "cell_type": "markdown",
   "id": "047933f6-06fc-461d-8873-de5715360e76",
   "metadata": {},
   "source": [
    "## Contents\n",
    "\n",
    "- [Introduction](#intro)\n",
    "    - [Fetching kegg orthologs and modules from MGnify](#mgnifyr)\n",
    "    - [Fetching pathways relating info from kegg rest api](#keggrest)\n",
    "- [Part 1. Drawing presence/absence KOs for one metagenomic sample](#part1)\n",
    "    - [1.1. Fetching data from MGnify](#part1_1)\n",
    "    - [1.2. Selecting the most complete pathways](#part1_2)\n",
    "    - [1.3. Ready to draw!](#part1_3)\n",
    "- [Part 2. Comparing groups of samples, drawing KOs abundance](#part2)\n",
    "    - [2.1. Fetching data from MGnify](#part2_1)\n",
    "    - [2.2. Generating differentially abundance count tables](#part2_2)\n",
    "    - [2.3. Plotting pathways](#part2_3)\n",
    "- [Part 3. Plotting presence/absence of KOs and metabolites for one metagenomic sample](#part3)\n",
    "    - [3.1. Extracting KOs from input tables](#part3_1)\n",
    "    - [3.2. Loading and formatting metabolites data](#part3_2)\n",
    "    - [3.3. Drawing!](#part3_3)\n",
    "- [References](#refs)"
   ]
  },
  {
   "cell_type": "code",
   "execution_count": null,
   "id": "c4900c9e-7d78-47f2-bb5f-f9d6d0ba0695",
   "metadata": {
    "tags": []
   },
   "outputs": [],
   "source": [
    "# Loading libraries:\n",
    "suppressMessages({\n",
    "    library(pathview)\n",
    "    library(MGnifyR)\n",
    "    library(IRdisplay)\n",
    "    library(data.table)\n",
    "    library(dplyr)\n",
    "    library(tidyjson)\n",
    "    library(KEGGREST)\n",
    "    library(ALDEx2)\n",
    "})\n",
    "    \n",
    "#display_markdown(file = 'assets/mgnifyr_help.md')"
   ]
  },
  {
   "cell_type": "code",
   "execution_count": null,
   "id": "9a54eed0-81ca-48ac-afb5-86f8a1fce9bc",
   "metadata": {
    "tags": []
   },
   "outputs": [],
   "source": [
    "# Setting tables and figures size to display (these will be reset later):\n",
    "options(repr.matrix.max.cols=150, repr.matrix.max.rows=500)\n",
    "options(repr.plot.width=4, repr.plot.height=4)"
   ]
  },
  {
   "cell_type": "code",
   "execution_count": null,
   "id": "b402def3-01d0-414f-9116-86fefe2cac08",
   "metadata": {
    "tags": []
   },
   "outputs": [],
   "source": [
    "# Setting up functions\n",
    "collect_pathways <- function(ids_list) {\n",
    "    pathways = list()\n",
    "    for (id in ids_list) { \n",
    "        current_pathway = as.list(keggLink(\"pathway\", id))\n",
    "        for (index in grep(\"map\", current_pathway)) {        \n",
    "            clean_id = gsub(\"*path:\", \"\", current_pathway[index])\n",
    "            # Discarding chemical structure (map010XX), global (map011XX), and overview (map012XX) maps\n",
    "            prefix = substring(clean_id, 1, 6)\n",
    "            if(is.na(match(\"map010\", prefix)) & is.na(match(\"map011\", prefix)) & is.na(match(\"map012\", prefix)) ){\n",
    "                pathways = append(pathways, clean_id)\n",
    "            }\n",
    "        }\n",
    "    }\n",
    "    return(pathways)\n",
    "}"
   ]
  },
  {
   "cell_type": "markdown",
   "id": "9a5d7e81-5112-4bce-9dbd-f1e89d2740b7",
   "metadata": {},
   "source": [
    "## Introduction <a id='intro'/>"
   ]
  },
  {
   "cell_type": "markdown",
   "id": "237b3f50-44f9-4dc2-b8a1-c9a8b5108b09",
   "metadata": {},
   "source": [
    "\n",
    "\n",
    "\n",
    "\n",
    "modules (MXXXXX) are manually defined functional units of gene sets in metabolic pathways\n",
    "\n",
    "Pathview package is a tool set for pathway based data integration and visualization. \n",
    "\n",
    "the inputs are gene or compound data\n",
    "and the pathway to be draw\n",
    "\n",
    "\n",
    "used for metagenomic, microbiome or\n",
    "unknown species data when the data are mapped to KEGG ortholog pathways\n",
    "\n",
    "\n",
    "\n",
    "draw pathways (mapXXXX ids)\n",
    "map - manually drawn reference pathway\n",
    "\n",
    "In MGnify, we report modules completeness\n",
    "\n",
    "\n",
    "We"
   ]
  },
  {
   "cell_type": "code",
   "execution_count": null,
   "id": "55b9036e-d01d-4061-acfd-20487527f743",
   "metadata": {},
   "outputs": [],
   "source": []
  },
  {
   "cell_type": "markdown",
   "id": "145c1350-767e-47d2-8948-64e0b5984ada",
   "metadata": {},
   "source": [
    "First thing is to create the mgnify client object:"
   ]
  },
  {
   "cell_type": "code",
   "execution_count": null,
   "id": "a5359e75-f33f-4e90-8b33-305106c90936",
   "metadata": {
    "tags": []
   },
   "outputs": [],
   "source": [
    "# Create your session mgnify_client object\n",
    "mg = mgnify_client(usecache = T, cache_dir = '/home/jovyan/.mgnify_cache')"
   ]
  },
  {
   "cell_type": "markdown",
   "id": "db528e1d-e830-4b7d-be53-993a2ab4b227",
   "metadata": {},
   "source": [
    "### Fetching kegg orthologs and modules from MGnify <a id='mgnifyr'/>\n"
   ]
  },
  {
   "cell_type": "markdown",
   "id": "804370c5-1a88-4a29-93f7-fddc6262b7bd",
   "metadata": {},
   "source": [
    "MgnifyR has pre-built functions to retrieve data from MGnify databases. The `mgnify_retrieve_json` function can be used to access results that are not available in tabular format. In this notebook we will retrieve the pathways annotation and pathways completeness tables generated by the latest version of the MGnify analysis pipeline in json format and reformat into dataframes to easily manipulate the data. "
   ]
  },
  {
   "cell_type": "markdown",
   "id": "462171cc-9bd2-4584-b91b-b77f1e757743",
   "metadata": {},
   "source": [
    "1. Example on how to fetch the KOs counts table for one sample having the analysis accession MGYA00636312:"
   ]
  },
  {
   "cell_type": "code",
   "execution_count": null,
   "id": "01ac30ee-9c79-4524-a413-a579d35b6bb9",
   "metadata": {
    "tags": []
   },
   "outputs": [],
   "source": [
    "ko_json = mgnify_retrieve_json(mg, path = 'analyses/MGYA00636312/kegg-orthologs')\n",
    "ko_data = as.data.frame(ko_json %>% spread_all)[ , c(\"attributes.accession\", \"attributes.count\")]"
   ]
  },
  {
   "cell_type": "code",
   "execution_count": null,
   "id": "6bd137d6-49a2-41ae-be25-d34ca81df9ed",
   "metadata": {
    "tags": []
   },
   "outputs": [],
   "source": [
    "head(ko_data, 3)"
   ]
  },
  {
   "cell_type": "markdown",
   "id": "64de9fbe-9596-4c0e-b173-f9d6bb5e2e19",
   "metadata": {},
   "source": [
    "2. And we can also fetch the modules completeness table for the same sample like this:"
   ]
  },
  {
   "cell_type": "code",
   "execution_count": null,
   "id": "d9d6abcd-d13e-475c-82b3-1e8d0b9be3f5",
   "metadata": {
    "tags": []
   },
   "outputs": [],
   "source": [
    "ko_comp_json = mgnify_retrieve_json(mg, path = 'analyses/MGYA00636312/kegg-modules')\n",
    "ko_comp = as.data.frame(ko_comp_json %>% spread_all)[ , c(\"id\", \"attributes.completeness\")]"
   ]
  },
  {
   "cell_type": "code",
   "execution_count": null,
   "id": "21a8e1d8-1642-4c26-98a4-7c23147ec0a7",
   "metadata": {
    "tags": []
   },
   "outputs": [],
   "source": [
    "head(ko_comp, 3)"
   ]
  },
  {
   "cell_type": "markdown",
   "id": "ee37b4bb-a894-46a9-b2bf-feeeb6509c18",
   "metadata": {},
   "source": [
    "### Fetching pathways relating info from kegg rest api <a id='keggrest'/>"
   ]
  },
  {
   "cell_type": "markdown",
   "id": "10027150-dd66-439c-840d-3ef949e0f0e4",
   "metadata": {},
   "source": [
    "In case we need to \n",
    "map between IDs in different databases and know to which pathway a module, an orthologue, or a compond belong to.\n",
    "\n",
    "cross kegg databases and retrieve \n",
    "\n",
    "[KEGGREST](https://www.bioconductor.org/packages/devel/bioc/vignettes/KEGGREST/inst/doc/KEGGREST-vignette.html) is a powerfull tool with multiple functions to get info from KEGG databases.\n",
    "\n",
    "In this notebook, we are using mainly two types of queries: \n",
    "\n",
    "keggLink and \n",
    "keggFind\n",
    "\n",
    "to get the "
   ]
  },
  {
   "cell_type": "code",
   "execution_count": 122,
   "id": "5731df0f-2235-4284-95ce-a2b4d90ecb2d",
   "metadata": {
    "tags": []
   },
   "outputs": [
    {
     "data": {
      "text/html": [
       "<style>\n",
       ".list-inline {list-style: none; margin:0; padding: 0}\n",
       ".list-inline>li {display: inline-block}\n",
       ".list-inline>li:not(:last-child)::after {content: \"\\00b7\"; padding: 0 .5ex}\n",
       "</style>\n",
       "<ol class=list-inline><li>'SYMBOL'</li><li>'GENENAME'</li><li>'ENSEMBL'</li><li>'ENSEMBLPROT'</li><li>'UNIGENE'</li><li>'UNIPROT'</li><li>'ACCNUM'</li><li>'ENSEMBLTRANS'</li><li>'REFSEQ'</li><li>'ENZYME'</li><li>'TAIR'</li><li>'PROSITE'</li><li>'ORF'</li></ol>\n"
      ],
      "text/latex": [
       "\\begin{enumerate*}\n",
       "\\item 'SYMBOL'\n",
       "\\item 'GENENAME'\n",
       "\\item 'ENSEMBL'\n",
       "\\item 'ENSEMBLPROT'\n",
       "\\item 'UNIGENE'\n",
       "\\item 'UNIPROT'\n",
       "\\item 'ACCNUM'\n",
       "\\item 'ENSEMBLTRANS'\n",
       "\\item 'REFSEQ'\n",
       "\\item 'ENZYME'\n",
       "\\item 'TAIR'\n",
       "\\item 'PROSITE'\n",
       "\\item 'ORF'\n",
       "\\end{enumerate*}\n"
      ],
      "text/markdown": [
       "1. 'SYMBOL'\n",
       "2. 'GENENAME'\n",
       "3. 'ENSEMBL'\n",
       "4. 'ENSEMBLPROT'\n",
       "5. 'UNIGENE'\n",
       "6. 'UNIPROT'\n",
       "7. 'ACCNUM'\n",
       "8. 'ENSEMBLTRANS'\n",
       "9. 'REFSEQ'\n",
       "10. 'ENZYME'\n",
       "11. 'TAIR'\n",
       "12. 'PROSITE'\n",
       "13. 'ORF'\n",
       "\n",
       "\n"
      ],
      "text/plain": [
       " [1] \"SYMBOL\"       \"GENENAME\"     \"ENSEMBL\"      \"ENSEMBLPROT\"  \"UNIGENE\"     \n",
       " [6] \"UNIPROT\"      \"ACCNUM\"       \"ENSEMBLTRANS\" \"REFSEQ\"       \"ENZYME\"      \n",
       "[11] \"TAIR\"         \"PROSITE\"      \"ORF\"         "
      ]
     },
     "metadata": {},
     "output_type": "display_data"
    }
   ],
   "source": [
    "gene.idtype.list"
   ]
  },
  {
   "cell_type": "code",
   "execution_count": null,
   "id": "8294ef12-4eee-4b50-875c-483d12e6684f",
   "metadata": {},
   "outputs": [],
   "source": [
    "gene.idtype = 'ENZYME'"
   ]
  },
  {
   "cell_type": "code",
   "execution_count": 123,
   "id": "e2f42f20-d8d9-46ce-ab94-b99260977ea9",
   "metadata": {
    "tags": []
   },
   "outputs": [],
   "source": [
    "data(rn.list)\n"
   ]
  },
  {
   "cell_type": "code",
   "execution_count": 121,
   "id": "bace0c5b-722b-473e-8de3-a366643959a1",
   "metadata": {
    "tags": []
   },
   "outputs": [
    {
     "data": {
      "text/html": [
       "<style>\n",
       ".list-inline {list-style: none; margin:0; padding: 0}\n",
       ".list-inline>li {display: inline-block}\n",
       ".list-inline>li:not(:last-child)::after {content: \"\\00b7\"; padding: 0 .5ex}\n",
       "</style>\n",
       "<ol class=list-inline><li>'pathway'</li><li>'brite'</li><li>'module'</li><li>'ko'</li><li>'genome'</li><li>'vg'</li><li>'ag'</li><li>'compound'</li><li>'glycan'</li><li>'reaction'</li><li>'rclass'</li><li>'enzyme'</li><li>'disease'</li><li>'drug'</li><li>'dgroup'</li><li>'environ'</li><li>'genes'</li><li>'ligand'</li><li>'kegg'</li></ol>\n"
      ],
      "text/latex": [
       "\\begin{enumerate*}\n",
       "\\item 'pathway'\n",
       "\\item 'brite'\n",
       "\\item 'module'\n",
       "\\item 'ko'\n",
       "\\item 'genome'\n",
       "\\item 'vg'\n",
       "\\item 'ag'\n",
       "\\item 'compound'\n",
       "\\item 'glycan'\n",
       "\\item 'reaction'\n",
       "\\item 'rclass'\n",
       "\\item 'enzyme'\n",
       "\\item 'disease'\n",
       "\\item 'drug'\n",
       "\\item 'dgroup'\n",
       "\\item 'environ'\n",
       "\\item 'genes'\n",
       "\\item 'ligand'\n",
       "\\item 'kegg'\n",
       "\\end{enumerate*}\n"
      ],
      "text/markdown": [
       "1. 'pathway'\n",
       "2. 'brite'\n",
       "3. 'module'\n",
       "4. 'ko'\n",
       "5. 'genome'\n",
       "6. 'vg'\n",
       "7. 'ag'\n",
       "8. 'compound'\n",
       "9. 'glycan'\n",
       "10. 'reaction'\n",
       "11. 'rclass'\n",
       "12. 'enzyme'\n",
       "13. 'disease'\n",
       "14. 'drug'\n",
       "15. 'dgroup'\n",
       "16. 'environ'\n",
       "17. 'genes'\n",
       "18. 'ligand'\n",
       "19. 'kegg'\n",
       "\n",
       "\n"
      ],
      "text/plain": [
       " [1] \"pathway\"  \"brite\"    \"module\"   \"ko\"       \"genome\"   \"vg\"      \n",
       " [7] \"ag\"       \"compound\" \"glycan\"   \"reaction\" \"rclass\"   \"enzyme\"  \n",
       "[13] \"disease\"  \"drug\"     \"dgroup\"   \"environ\"  \"genes\"    \"ligand\"  \n",
       "[19] \"kegg\"    "
      ]
     },
     "metadata": {},
     "output_type": "display_data"
    }
   ],
   "source": [
    "listDatabases()"
   ]
  },
  {
   "cell_type": "code",
   "execution_count": null,
   "id": "704a26aa-5bec-4011-828e-8b3b0c21bb39",
   "metadata": {},
   "outputs": [],
   "source": []
  },
  {
   "cell_type": "markdown",
   "id": "09672213-271c-4bcd-93d6-4eda159cb7a9",
   "metadata": {},
   "source": [
    "## Part 1. Drawing presence/absence KOs for one metagenomic sample <a id='part1'/>"
   ]
  },
  {
   "cell_type": "markdown",
   "id": "f7429870-9419-4130-a0ba-275df6ff97a6",
   "metadata": {},
   "source": [
    "For Parts 1 and 2 of this notebook, we will use MGnify results generated for two studies: \n",
    "1. Metagenomes of bacteria colonizing the gut of Apis mellifera and Apis cerana from Japan ([MGYS00006180](https://www.ebi.ac.uk/metagenomics/studies/MGYS00006180#overview)).\n",
    "2. Gut microbiota of Switzerland honeybees ([MGYS00006178](https://www.ebi.ac.uk/metagenomics/studies/MGYS00006178#overview)). \n",
    "\n",
    "The original analysis based on viral communities can be found in the [publication](https://www.pnas.org/doi/full/10.1073/pnas.2000228117)."
   ]
  },
  {
   "cell_type": "markdown",
   "id": "d1c71880-51ec-434f-8dbf-7abe3d63c366",
   "metadata": {},
   "source": [
    "### 1.1. Fetching data from MGnify <a id='part1_1'/>"
   ]
  },
  {
   "cell_type": "markdown",
   "id": "4540955c-de1a-48b4-a407-215c965dc876",
   "metadata": {},
   "source": [
    "1. Setting up the client object and retrieving the analysis accession list. "
   ]
  },
  {
   "cell_type": "code",
   "execution_count": null,
   "id": "6bc9fed2-2cbb-4920-8e61-413b67569ed8",
   "metadata": {
    "tags": []
   },
   "outputs": [],
   "source": [
    "all_accessions = mgnify_analyses_from_studies(mg, c('MGYS00006180','MGYS00006178'))\n",
    "all_metadata = mgnify_get_analyses_metadata(mg, all_accessions)"
   ]
  },
  {
   "cell_type": "markdown",
   "id": "c6320d71-f49f-4e1c-88cd-e7323af8ba66",
   "metadata": {},
   "source": [
    "2. Use the first accession to fetch the kegg orthologs count table for one of the analyses from the MGnify API and transform from JSON to matrix."
   ]
  },
  {
   "cell_type": "code",
   "execution_count": null,
   "id": "b740cf36-f5a8-49ff-9e41-b25cd72ea18d",
   "metadata": {
    "tags": []
   },
   "outputs": [],
   "source": [
    "accession = head(all_accessions, 1)\n",
    "ko_loc = paste0('analyses/',accession,'/kegg-orthologs')"
   ]
  },
  {
   "cell_type": "code",
   "execution_count": null,
   "id": "fa5ea7bb-2543-455e-adf7-f726f0bff036",
   "metadata": {
    "tags": []
   },
   "outputs": [],
   "source": [
    "ko_json = mgnify_retrieve_json(mg, path = ko_loc)\n",
    "ko_data = as.data.frame(ko_json %>% spread_all)[ , c(\"attributes.accession\", \"attributes.count\")]\n",
    "ko_data = data.frame(ko_data, row.names=1)\n",
    "colnames(ko_data)[1] = 'counts'\n",
    "ko_matrix = data.matrix(ko_data)"
   ]
  },
  {
   "cell_type": "markdown",
   "id": "db497fd5-1cf2-46c0-8f30-f5d63d36e5e3",
   "metadata": {},
   "source": [
    "3. Fetch the modules completeness table and filter out completeness < 100%."
   ]
  },
  {
   "cell_type": "code",
   "execution_count": null,
   "id": "e3328ca7-5b53-44d3-9157-539bf272562a",
   "metadata": {
    "tags": []
   },
   "outputs": [],
   "source": [
    "comp_loc = paste0('analyses/',accession,'/kegg-modules')\n",
    "ko_comp_json = mgnify_retrieve_json(mg, path = comp_loc)\n",
    "ko_comp = as.data.frame(ko_comp_json %>% spread_all)\n",
    "modules = ko_comp[ko_comp$attributes.completeness == 100,][, c(\"attributes.accession\")]\n",
    "#modules"
   ]
  },
  {
   "cell_type": "markdown",
   "id": "04bd0b25-f121-42dd-a7a1-bc26cc4e2c82",
   "metadata": {},
   "source": [
    "4. Collecting the pathways for each module using [KEGGREST](#ref)."
   ]
  },
  {
   "cell_type": "code",
   "execution_count": null,
   "id": "a5c2f190-1bc0-4e0d-8ede-04c0127ee920",
   "metadata": {
    "tags": []
   },
   "outputs": [],
   "source": [
    "md_pathways = collect_pathways(modules)"
   ]
  },
  {
   "cell_type": "markdown",
   "id": "f14d46bc-1eeb-4a48-b65d-16ab738692a7",
   "metadata": {},
   "source": [
    "5. Counting the number of modules we have per pathway."
   ]
  },
  {
   "cell_type": "code",
   "execution_count": null,
   "id": "3890cd4e-f06a-4d7c-bb86-4c2172d3acbd",
   "metadata": {
    "tags": []
   },
   "outputs": [],
   "source": [
    "our_pathways_counts = list()\n",
    "for (path_element in md_pathways) {\n",
    "    if (path_element %in% names(our_pathways_counts)) {\n",
    "        new_value = our_pathways_counts[[path_element]] + 1\n",
    "        our_pathways_counts[path_element] = new_value       \n",
    "    } else {\n",
    "        our_pathways_counts[path_element] = 1 \n",
    "    }\n",
    "}"
   ]
  },
  {
   "cell_type": "markdown",
   "id": "7d97d188-6a21-4bbb-8938-b046839dc31f",
   "metadata": {},
   "source": [
    "6. Counting the number of modules expected in each pathway."
   ]
  },
  {
   "cell_type": "code",
   "execution_count": null,
   "id": "669bce8d-a4e9-491b-b273-4aebba8fee7c",
   "metadata": {
    "tags": []
   },
   "outputs": [],
   "source": [
    "u_pathways = unique(md_pathways)\n",
    "exp_pathways_counts = list()\n",
    "for (path in u_pathways) {\n",
    "    mod_count = length(as.list(keggLink(\"module\", path)))\n",
    "    exp_pathways_counts[path] = mod_count \n",
    "}\n",
    "#length(our_pathways_counts)\n",
    "#length(exp_pathways_counts)"
   ]
  },
  {
   "cell_type": "markdown",
   "id": "9c73bd40-694f-43f2-a563-01fb513e8fe4",
   "metadata": {},
   "source": [
    "### 1.2. Selecting the most complete pathways <a id='part1_2'/>"
   ]
  },
  {
   "cell_type": "code",
   "execution_count": null,
   "id": "c0407128-3d0e-40ad-aece-b74ef982b553",
   "metadata": {
    "tags": []
   },
   "outputs": [],
   "source": [
    "to_draw = list()\n",
    "for (pathway in names(our_pathways_counts)) {\n",
    "    our_value = our_pathways_counts[[pathway]]\n",
    "    exp_value = exp_pathways_counts[[pathway]]\n",
    "    ratio =  our_value / exp_value\n",
    "    if (ratio == 1) {\n",
    "        nude_id =  gsub(\"map\", \"\", pathway)\n",
    "        to_draw = append(to_draw, nude_id)   \n",
    "    }\n",
    "}\n",
    "#to_draw"
   ]
  },
  {
   "cell_type": "markdown",
   "id": "8e220927-5025-4f04-a621-36d61ceb0622",
   "metadata": {},
   "source": [
    "### 1.3. Ready to draw! <a id='part1_3'/>"
   ]
  },
  {
   "cell_type": "code",
   "execution_count": null,
   "id": "179ec96c-1ef9-4b32-be27-d0ca2603f291",
   "metadata": {
    "tags": []
   },
   "outputs": [],
   "source": [
    "for (p in to_draw) {\n",
    "    pathview(gene.data = ko_matrix, \n",
    "             species = \"ko\", \n",
    "             pathway.id = p, \n",
    "             bins=c(2, 2), \n",
    "             both.dirs = FALSE, \n",
    "             limit = c(1,1), \n",
    "             mid = c(\"#ffffff\" , \"#ffffff\"), \n",
    "             high = c(\"#02b3ad\" , \"#02b3ad\")\n",
    "    )\n",
    "}"
   ]
  },
  {
   "cell_type": "markdown",
   "id": "bfaf1947-8ce5-4713-9ac2-65a5e9d0df90",
   "metadata": {},
   "source": [
    "1. Cleaning the working directory."
   ]
  },
  {
   "cell_type": "code",
   "execution_count": null,
   "id": "2dcfb4e6-3545-4532-8c7d-1a640b827932",
   "metadata": {
    "tags": []
   },
   "outputs": [],
   "source": [
    "if(!dir.exists(\"output_plots\")){\n",
    "    dir.create(\"output_plots\")\n",
    "    dir.create(\"output_plots/single_sample\")\n",
    "}\n",
    "\n",
    "file.copy(from=list.files(pattern=\"./*pathview.png\"), to=\"./output_plots/single_sample/\", overwrite = TRUE)\n",
    "\n",
    "png_files = list.files(path = \".\", pattern = \"*.png\")\n",
    "xml_files = list.files(path = \".\", pattern = \"*.xml\")\n",
    "files = c(png_files, xml_files)\n",
    "unlink(files)"
   ]
  },
  {
   "cell_type": "markdown",
   "id": "536e85a3-aec5-40e5-bcd3-d35aa1a44f89",
   "metadata": {
    "tags": []
   },
   "source": [
    "<div style=\"max-width:600px\"><img src=\"output_plots/single_sample/ko00010.pathview.png\" width=\"100%\"></div>"
   ]
  },
  {
   "cell_type": "markdown",
   "id": "f07ff95a-55b0-4664-bd53-7f65b779048d",
   "metadata": {},
   "source": [
    "## Part 2. Comparing groups of samples, drawing KOs abundance <a id='part2'/>"
   ]
  },
  {
   "cell_type": "markdown",
   "id": "d4e432e7-1f5f-4f29-bbbb-c615f78065f7",
   "metadata": {
    "tags": []
   },
   "source": [
    "### 2.1. Fetching data from MGnify <a id='part2_1'/>"
   ]
  },
  {
   "cell_type": "markdown",
   "id": "cd9f48ed-eda6-414b-8bf2-cbaaf29819e6",
   "metadata": {},
   "source": [
    "1. Generating condition labels."
   ]
  },
  {
   "cell_type": "code",
   "execution_count": null,
   "id": "947959fc-a36b-4e1e-9aa3-bef693cef328",
   "metadata": {
    "tags": []
   },
   "outputs": [],
   "source": [
    "accession_alias = subset(all_metadata, select = c('analysis_accession', 'study_attributes.accession'))"
   ]
  },
  {
   "cell_type": "code",
   "execution_count": null,
   "id": "b63e915d-ccf6-483e-a59f-4cb143d0d475",
   "metadata": {
    "tags": []
   },
   "outputs": [],
   "source": [
    "cond_list = list()\n",
    "for (study_id in accession_alias$'study_attributes.accession') {\n",
    "    if (study_id == 'MGYS00006180') {\n",
    "        cond_list = append(cond_list , 'Japan')\n",
    "    } else {\n",
    "        cond_list = append(cond_list , 'Switzerland')\n",
    "    }\n",
    "}\n",
    "accession_alias$condition = cond_list"
   ]
  },
  {
   "cell_type": "code",
   "execution_count": null,
   "id": "1d954b5a-27e7-4e95-bb7b-562231731f97",
   "metadata": {
    "tags": []
   },
   "outputs": [],
   "source": [
    "table(unlist(accession_alias$condition))"
   ]
  },
  {
   "cell_type": "markdown",
   "id": "b26de4b2-687c-490f-bdbf-7f977862250a",
   "metadata": {},
   "source": [
    "2. Download and integrate KO counts tables."
   ]
  },
  {
   "cell_type": "code",
   "execution_count": null,
   "id": "515c3deb-6af0-4637-9500-93814ad0eb34",
   "metadata": {
    "tags": []
   },
   "outputs": [],
   "source": [
    "samples_list = accession_alias$'analysis_accession'\n",
    "list_of_dfs = list()\n",
    "for (accession in samples_list) {\n",
    "    ko_loc = paste0('analyses/',accession,'/kegg-orthologs')\n",
    "    ko_json = mgnify_retrieve_json(mg, path = ko_loc)\n",
    "    ko_data = as.data.frame(ko_json %>% spread_all)[ , c(\"attributes.accession\", \"attributes.count\")]\n",
    "    colnames(ko_data) = c('ko_id', accession)\n",
    "    list_of_dfs = append(list_of_dfs, list(ko_data)) \n",
    "}"
   ]
  },
  {
   "cell_type": "code",
   "execution_count": null,
   "id": "c6438389-2ec9-448b-9a87-f24b398f4d04",
   "metadata": {
    "tags": []
   },
   "outputs": [],
   "source": [
    "integrated_df = data.frame()\n",
    "\n",
    "for (df in list_of_dfs){\n",
    "    integrated_df = merge(integrated_df,df, all = T)\n",
    "}\n",
    "\n",
    "row.names(integrated_df) = integrated_df$ko_id\n",
    "integrated_df$ko_id = NULL\n",
    "integrated_df[is.na(integrated_df)] = 0\n",
    "integrated_df = integrated_df %>% select_if(is.numeric) %>% select_if(~ sum(. != 0) > 0)"
   ]
  },
  {
   "cell_type": "markdown",
   "id": "c73a5626-e317-4c5a-9181-ca83c83430c3",
   "metadata": {},
   "source": [
    "3. Reformating condition labels according with the KOs dataframe."
   ]
  },
  {
   "cell_type": "code",
   "execution_count": null,
   "id": "12c951d3-bb7a-41af-8402-ca564a9aa239",
   "metadata": {
    "tags": []
   },
   "outputs": [],
   "source": [
    "sorted_conds = list()\n",
    "for (sample in colnames(integrated_df)) {\n",
    "    match = accession_alias[accession_alias$analysis_accession %in% sample,]$condition\n",
    "    cond = paste(match, collapse = \"\")\n",
    "    sorted_conds = append(sorted_conds, cond)    \n",
    "}\n",
    "vector_conds = unlist(sorted_conds)"
   ]
  },
  {
   "cell_type": "code",
   "execution_count": null,
   "id": "bf972f32-e97d-4cf1-b20d-1a44b65e783b",
   "metadata": {
    "tags": []
   },
   "outputs": [],
   "source": [
    "table(vector_conds)"
   ]
  },
  {
   "cell_type": "markdown",
   "id": "634cd95f-3b50-4292-ac05-d9a54238fccc",
   "metadata": {},
   "source": [
    "### 2.1. Generating differentially abundance count tables<a id='part2_2'/>"
   ]
  },
  {
   "cell_type": "markdown",
   "id": "f8169f93-64e3-4293-8bc7-7ac5f1dbfe1c",
   "metadata": {},
   "source": [
    "1. We are using [aldex2](https://www.bioconductor.org/packages/devel/bioc/vignettes/ALDEx2/inst/doc/ALDEx2_vignette.html). This step takes 2 minutes to run."
   ]
  },
  {
   "cell_type": "code",
   "execution_count": null,
   "id": "b00cdb64-5c82-41b4-9032-6fda03eb97a3",
   "metadata": {
    "tags": []
   },
   "outputs": [],
   "source": [
    "x.all = aldex(integrated_df, \n",
    "              vector_conds, \n",
    "              mc.samples=128, \n",
    "              test=\"t\", \n",
    "              effect=TRUE, \n",
    "              include.sample.summary=FALSE, \n",
    "              denom=\"all\", \n",
    "              verbose=FALSE\n",
    "        )"
   ]
  },
  {
   "cell_type": "markdown",
   "id": "2001b480-2185-429d-8b82-23853bc1dfe8",
   "metadata": {},
   "source": [
    "1. Saving in a matrix the list of KOs and the effect value to be used as differential abundance in the plot."
   ]
  },
  {
   "cell_type": "code",
   "execution_count": null,
   "id": "430c4dbc-bd7c-41a0-a33f-c69a0b773d53",
   "metadata": {
    "tags": []
   },
   "outputs": [],
   "source": [
    "ko_matrix = data.matrix(subset(x.all, select = c('effect')))"
   ]
  },
  {
   "cell_type": "markdown",
   "id": "cd4383c7-a413-4712-a3e4-e5c4201d33ad",
   "metadata": {},
   "source": [
    "2. Plotting effect and difference versus P-value."
   ]
  },
  {
   "cell_type": "code",
   "execution_count": null,
   "id": "34162804-10c5-48ec-b8e1-37a01b4920aa",
   "metadata": {
    "tags": []
   },
   "outputs": [],
   "source": [
    "options(repr.plot.width=10, repr.plot.height=8)\n",
    "\n",
    "par(mfrow=c(1,2))\n",
    "plot(x.all$effect, x.all$we.ep, log=\"y\", cex=0.7, col=rgb(0,0,1,0.2),\n",
    "  pch=19, xlab=\"Effect size\", ylab=\"P value\", main=\"Effect size plot\")\n",
    "points(x.all$effect, x.all$we.eBH, cex=0.7, col=rgb(1,0,0,0.2),\n",
    "  pch=19)\n",
    "abline(h=0.05, lty=2, col=\"grey\")\n",
    "legend(15,1, legend=c(\"P value\", \"BH-adjusted\"), pch=19, col=c(\"blue\", \"red\"))\n",
    "\n",
    "plot(x.all$diff.btw, x.all$we.ep, log=\"y\", cex=0.7, col=rgb(0,0,1,0.2),\n",
    "  pch=19, xlab=\"Difference\", ylab=\"P value\", main=\"Volcano plot\")\n",
    "points(x.all$diff.btw, x.all$we.eBH, cex=0.7, col=rgb(1,0,0,0.2),\n",
    "  pch=19)\n",
    "abline(h=0.05, lty=2, col=\"grey\")"
   ]
  },
  {
   "cell_type": "markdown",
   "id": "0a4ac0f0-0781-45cf-bc2a-384ce0a1d5e0",
   "metadata": {},
   "source": [
    "3. Reporting features detected by the Welchs’ or Wilcoxon test individually (blue) or by both (red)."
   ]
  },
  {
   "cell_type": "code",
   "execution_count": null,
   "id": "f54b2bf8-61b9-4c6a-9d50-a095121985b0",
   "metadata": {
    "tags": []
   },
   "outputs": [],
   "source": [
    "options(repr.plot.width=8, repr.plot.height=8)\n",
    "\n",
    "found.by.all <- which(x.all$we.eBH < 0.05 & x.all$wi.eBH < 0.05)\n",
    "found.by.one <- which(x.all$we.eBH < 0.05 | x.all$wi.eBH < 0.05)\n",
    "\n",
    "plot(x.all$diff.win, x.all$diff.btw, pch=19, cex=1, col=rgb(0,0,0,0.3),\n",
    " xlab=\"Dispersion\", ylab=\"Difference\")\n",
    "points(x.all$diff.win[found.by.one], x.all$diff.btw[found.by.one], pch=19,\n",
    " cex=1, col=rgb(0,0,1,0.5))\n",
    "points(x.all$diff.win[found.by.all], x.all$diff.btw[found.by.all], pch=19,\n",
    " cex=1, col=rgb(1,0,0,1))\n",
    "abline(0,1,lty=2)\n",
    "abline(0,-1,lty=2)\n"
   ]
  },
  {
   "cell_type": "markdown",
   "id": "b8787d97-2204-44c8-9dcd-9eaa91a6b77c",
   "metadata": {},
   "source": [
    "4. Find the pathways with differentially abundant KOs."
   ]
  },
  {
   "cell_type": "code",
   "execution_count": null,
   "id": "5791ddb1-0618-4f60-80b9-20b3e786ede1",
   "metadata": {
    "tags": []
   },
   "outputs": [],
   "source": [
    "kos_list = list()\n",
    "for (index in found.by.one){\n",
    "    current_ko = rownames(x.all)[index]\n",
    "    kos_list = append(kos_list, current_ko)\n",
    "}"
   ]
  },
  {
   "cell_type": "code",
   "execution_count": null,
   "id": "9ccb1e26-ab6d-4542-9a14-652799c159b7",
   "metadata": {
    "tags": []
   },
   "outputs": [],
   "source": [
    "ko_pathways = collect_pathways(kos_list)"
   ]
  },
  {
   "cell_type": "markdown",
   "id": "2d59b158-e8e1-427c-a86f-2709dd7173e0",
   "metadata": {},
   "source": [
    "5. Select the top 3 pathways with the highest number of significant KOs."
   ]
  },
  {
   "cell_type": "code",
   "execution_count": null,
   "id": "70175467-a1e2-47d1-8be6-991abfd4d8eb",
   "metadata": {
    "tags": []
   },
   "outputs": [],
   "source": [
    "pathways_counts = list()\n",
    "for (path_element in ko_pathways) {\n",
    "    if (path_element %in% names(pathways_counts)) {\n",
    "        new_value = pathways_counts[[path_element]] + 1\n",
    "        pathways_counts[path_element] = new_value       \n",
    "    } else {\n",
    "        pathways_counts[path_element] = 1 \n",
    "    }\n",
    "}"
   ]
  },
  {
   "cell_type": "code",
   "execution_count": null,
   "id": "cdaa050b-2afd-41db-a257-19dd50f8f535",
   "metadata": {
    "tags": []
   },
   "outputs": [],
   "source": [
    "top_to_plot = names(tail(pathways_counts[order(unlist(pathways_counts))], 3))\n",
    "top_to_plot"
   ]
  },
  {
   "cell_type": "markdown",
   "id": "58e4b311-ab08-4e15-bc64-66fe9033805c",
   "metadata": {},
   "source": [
    "### 2.3. Plotting pathways<a id='part2_2'/>"
   ]
  },
  {
   "cell_type": "code",
   "execution_count": null,
   "id": "a0a7aae1-a8c2-406f-86b2-918914cdbd93",
   "metadata": {
    "tags": []
   },
   "outputs": [],
   "source": [
    "for (p in top_to_plot) {\n",
    "    nude_id =  gsub(\"map\", \"\", p)\n",
    "    pathview(gene.data = ko_matrix, \n",
    "             species = \"ko\", \n",
    "             pathway.id = nude_id, \n",
    "             both.dirs = TRUE, \n",
    "             low = c(\"#bd066b\", \"#bd066b\"),  \n",
    "             mid = c(\"#c9c9c9\" , \"#c9c9c9\"), \n",
    "             high = c(\"#02b3ad\" , \"#02b3ad\")\n",
    "    )\n",
    "}"
   ]
  },
  {
   "cell_type": "markdown",
   "id": "9885305d-73b3-4f8a-aad2-03d6031dbe24",
   "metadata": {},
   "source": [
    "1. Cleaning the working directory."
   ]
  },
  {
   "cell_type": "code",
   "execution_count": null,
   "id": "5f08edbf-b7f1-45f4-a7d6-20d2c75473ad",
   "metadata": {
    "tags": []
   },
   "outputs": [],
   "source": [
    "if(!dir.exists(\"output_plots/comparative\")){\n",
    "    dir.create(\"output_plots/comparative\")\n",
    "}\n",
    "\n",
    "file.copy(from=list.files(pattern=\"./*pathview.png\"), to=\"./output_plots/comparative/\", overwrite = TRUE)\n",
    "\n",
    "png_files = list.files(path = \".\", pattern = \"*.png\")\n",
    "xml_files = list.files(path = \".\", pattern = \"*.xml\")\n",
    "files = c(png_files, xml_files)\n",
    "unlink(files)"
   ]
  },
  {
   "cell_type": "markdown",
   "id": "3ad62117-2f53-444a-9af6-45998dabcf04",
   "metadata": {
    "tags": []
   },
   "source": [
    "<div style=\"max-width:800px\"><img src=\"output_plots/comparative/ko00970.pathview.png\" width=\"100%\"></div>"
   ]
  },
  {
   "cell_type": "markdown",
   "id": "891b5fa0-feec-4357-a5ea-ea049f87af62",
   "metadata": {},
   "source": [
    "## Part 3. Plotting presence/absence of KOs and metabolites for one metagenomic sample <a id='part3'/>"
   ]
  },
  {
   "cell_type": "markdown",
   "id": "0cdd7d9b-7a59-42e5-8568-8e753e50012b",
   "metadata": {},
   "source": [
    "For this exercise, we are using supplementary tables available on the original publication of [Franzosa et al.](https://doi.org/10.1038/s41564-018-0306-4), and processed tables for this publication available at [The Curated Gut Microbiome Metabolome Data Resource](https://github.com/borenstein-lab/microbiome-metabolome-curated-data). We will use presence/absence data for only one sample to illustrate the generation of metabolic pathways maps with compounds, as normalizing metabolites data is not straightforward."
   ]
  },
  {
   "cell_type": "markdown",
   "id": "96d1f02c-e717-4a8a-9dd0-9f72f94daccf",
   "metadata": {},
   "source": [
    "### 3.1. Extracting KOs from input tables <a id='part3_1'/>"
   ]
  },
  {
   "cell_type": "markdown",
   "id": "e50aff15-2149-4ad2-bee7-fc9adedb2b32",
   "metadata": {},
   "source": [
    "1. Loading abundance data of enzymes annotation (EC numbers). "
   ]
  },
  {
   "cell_type": "code",
   "execution_count": null,
   "id": "077e4ebe-3283-4d1d-81e3-971f6bcb424b",
   "metadata": {
    "tags": []
   },
   "outputs": [],
   "source": [
    "enzymes_data = read.table(\"/home/jovyan/supp_tables/enzymes.tsv\", header = TRUE, sep = \"\\t\") "
   ]
  },
  {
   "cell_type": "markdown",
   "id": "247de1b0-e678-4b26-af4b-280874c15ecf",
   "metadata": {},
   "source": [
    "2. Cleaning the IDs and keeping data for one sample (PRISM.7122)."
   ]
  },
  {
   "cell_type": "code",
   "execution_count": null,
   "id": "04fdb1d5-07c0-4b76-8607-c64e2103ba6d",
   "metadata": {
    "tags": []
   },
   "outputs": [],
   "source": [
    "EC_ids = list()\n",
    "comp_ids = list()\n",
    "for ( enzyme_id in enzymes_data$Enzyme ){\n",
    "    new_id = gsub(\": .*\", \"\", enzyme_id)\n",
    "    EC_ids = append(EC_ids, new_id)\n",
    "}\n",
    "enzymes_data$ec_id = EC_ids"
   ]
  },
  {
   "cell_type": "code",
   "execution_count": null,
   "id": "efb16a5f-ae1d-4e26-9684-88be824d5dd3",
   "metadata": {
    "tags": []
   },
   "outputs": [],
   "source": [
    "enzymes_df = subset(enzymes_data, select = c('ec_id', 'PRISM.7122'))\n",
    "row.names(enzymes_df) = enzymes_df$ec_id\n",
    "enzymes_df$ec_id = NULL\n",
    "enzymes_clean = subset(enzymes_df, enzymes_df[,1] > 0)"
   ]
  },
  {
   "cell_type": "markdown",
   "id": "ae6be358-004d-4cc5-ade4-de5d07240a23",
   "metadata": {},
   "source": [
    "3. Finding the corresponding KOs for each EC number."
   ]
  },
  {
   "cell_type": "code",
   "execution_count": null,
   "id": "45b5b7ac-2d29-4856-9e91-8ec9ede08fe7",
   "metadata": {
    "tags": []
   },
   "outputs": [],
   "source": [
    "kos_presence = list()\n",
    "for( ec_number in rownames(enzymes_clean) ){ \n",
    "    current_kos = as.list(names(as.list(keggFind(\"ko\", ec_number))))\n",
    "    kos_presence = append(kos_presence, current_kos) \n",
    "}"
   ]
  },
  {
   "cell_type": "code",
   "execution_count": null,
   "id": "732fd869-1877-4bbf-9867-cefee43b833f",
   "metadata": {
    "tags": []
   },
   "outputs": [],
   "source": [
    "kos_vector = unlist(gsub('ko:', '', kos_presence))"
   ]
  },
  {
   "cell_type": "markdown",
   "id": "60f4139e-73a7-4ba3-8a60-6ce4ba027066",
   "metadata": {},
   "source": [
    "### 3.2. Loading and formatting metabolites data <a id='part3_2'/>"
   ]
  },
  {
   "cell_type": "code",
   "execution_count": null,
   "id": "1f6e7db8-0a8f-47d4-83e0-a0b7203431fa",
   "metadata": {
    "tags": []
   },
   "outputs": [],
   "source": [
    "compound_data = read.table(\"/home/jovyan/supp_tables/mtb.tsv\", header = TRUE, row.names = 1, sep = \"\\t\") "
   ]
  },
  {
   "cell_type": "code",
   "execution_count": null,
   "id": "38067a10-d8ed-4ef5-838c-14d6d6e2e01d",
   "metadata": {
    "tags": []
   },
   "outputs": [],
   "source": [
    "compound_data = data.frame(t(compound_data))"
   ]
  },
  {
   "cell_type": "markdown",
   "id": "e9a2faab-fc55-4977-9c61-c9a6657232e0",
   "metadata": {},
   "source": [
    "1. Subsetting table for one sample (PRISM.7122)."
   ]
  },
  {
   "cell_type": "code",
   "execution_count": null,
   "id": "6fd95709-1191-4b4d-8a34-9dbcaaeaa826",
   "metadata": {
    "tags": []
   },
   "outputs": [],
   "source": [
    "compound_df = subset(compound_data, select = c('PRISM.7122'))\n",
    "compound_clean = subset(compound_df, compound_df[,1] > 0)\n",
    "row.names(compound_clean) = gsub(\"\\\\.\\\\..*\", \"\", row.names(compound_clean))\n",
    "row.names(compound_clean) = gsub(\"\\\\.\", \"-\", row.names(compound_clean))"
   ]
  },
  {
   "cell_type": "markdown",
   "id": "73df3d30-7ceb-4769-87da-f6771f304f33",
   "metadata": {},
   "source": [
    "2. Loading mapping data to transform cluster ID into KEGG compound ID."
   ]
  },
  {
   "cell_type": "code",
   "execution_count": null,
   "id": "6e0e7778-be29-4441-9e9d-d017a63667f7",
   "metadata": {
    "tags": []
   },
   "outputs": [],
   "source": [
    "mapping_data = read.table(\"/home/jovyan/supp_tables/mtb.map.tsv\", header = TRUE, row.names = 1, sep = \"\\t\") "
   ]
  },
  {
   "cell_type": "code",
   "execution_count": null,
   "id": "ac8826d7-a282-48d0-ac7e-3737fa571a90",
   "metadata": {
    "tags": []
   },
   "outputs": [],
   "source": [
    "compound_map = subset(mapping_data, select = c('KEGG'))\n",
    "compound_map <- na.omit(compound_map)\n",
    "row.names(compound_map) = gsub(\": .*\", \"\", row.names(compound_map))"
   ]
  },
  {
   "cell_type": "code",
   "execution_count": null,
   "id": "7339ef37-f14f-41b4-8d9e-b09c8cfc9dd4",
   "metadata": {
    "tags": []
   },
   "outputs": [],
   "source": [
    "cpd_names = list()\n",
    "for (name in rownames(compound_clean)) {\n",
    "    if (name %in% rownames(compound_map)) {\n",
    "        compound = compound_map[row.names(compound_map) == name, \"KEGG\"]\n",
    "        cpd_names = append(cpd_names, compound)   \n",
    "    }\n",
    "}"
   ]
  },
  {
   "cell_type": "code",
   "execution_count": null,
   "id": "0edb6b12-f856-42b9-842c-08817d4a8230",
   "metadata": {
    "tags": []
   },
   "outputs": [],
   "source": [
    "cpd_vector = unlist(cpd_names)"
   ]
  },
  {
   "cell_type": "markdown",
   "id": "77ca6780-1f94-4b9c-88f5-644cef2915cb",
   "metadata": {},
   "source": [
    "3. Finding pathways with annotated compounds. It takes 4 minutes to run."
   ]
  },
  {
   "cell_type": "code",
   "execution_count": null,
   "id": "0aab9687-16d1-4710-b3e5-8df9a288f9a9",
   "metadata": {
    "tags": []
   },
   "outputs": [],
   "source": [
    "cpd_pathways = collect_pathways(cpd_names)"
   ]
  },
  {
   "cell_type": "markdown",
   "id": "d1adb6e5-6f74-46c6-bea7-04b883eb18b9",
   "metadata": {},
   "source": [
    "4. Selecting the top 3 pathways with more compounds to draw."
   ]
  },
  {
   "cell_type": "code",
   "execution_count": null,
   "id": "f9a6ef92-86d5-4e1c-bc05-9897e54b9d84",
   "metadata": {
    "tags": []
   },
   "outputs": [],
   "source": [
    "pathways_counts = list()\n",
    "for (path_element in cpd_pathways) {\n",
    "    if (path_element %in% names(pathways_counts)) {\n",
    "        new_value = pathways_counts[[path_element]] + 1\n",
    "        pathways_counts[path_element] = new_value       \n",
    "    } else {\n",
    "        pathways_counts[path_element] = 1 \n",
    "    }\n",
    "}"
   ]
  },
  {
   "cell_type": "code",
   "execution_count": null,
   "id": "86615bd2-f5a3-4b5f-a8fb-572a8024442e",
   "metadata": {
    "tags": []
   },
   "outputs": [],
   "source": [
    "top_to_plot = names(tail(pathways_counts[order(unlist(pathways_counts))], 3))"
   ]
  },
  {
   "cell_type": "code",
   "execution_count": null,
   "id": "209deaa7-7b19-4665-ac32-8a30c8f6ac08",
   "metadata": {
    "tags": []
   },
   "outputs": [],
   "source": [
    "top_to_plot"
   ]
  },
  {
   "cell_type": "markdown",
   "id": "1f46ec88-e7d3-45b3-a3c3-e3b02fa22855",
   "metadata": {},
   "source": [
    "### 3.3. Drawing! <a id='part3_3'/>"
   ]
  },
  {
   "cell_type": "code",
   "execution_count": null,
   "id": "644b299a-34d2-409f-a822-e66621442d47",
   "metadata": {
    "tags": []
   },
   "outputs": [],
   "source": [
    "for (p in top_to_plot) {\n",
    "    nude_id =  gsub(\"map\", \"\", p)\n",
    "    pathview(gene.data = kos_vector, \n",
    "             cpd.data = cpd_vector, \n",
    "             species = \"ko\", \n",
    "             pathway.id = nude_id, \n",
    "             bins=c(2, 2), \n",
    "             both.dirs = FALSE, \n",
    "             limit = c(1,1), \n",
    "             mid = c(\"#c9c9c9\" , \"#c9c9c9\"), \n",
    "             high = c(\"#02b3ad\" , \"#d67e03\")\n",
    "    )\n",
    "}"
   ]
  },
  {
   "cell_type": "markdown",
   "id": "e1e57acb-2d93-440d-a5e6-85da16fba2e8",
   "metadata": {},
   "source": [
    "1. Cleaning working directory."
   ]
  },
  {
   "cell_type": "code",
   "execution_count": null,
   "id": "0002ff27-0454-4266-a7db-1e07423d5ade",
   "metadata": {
    "tags": []
   },
   "outputs": [],
   "source": [
    "if(!dir.exists(\"output_plots/metabolites\")){\n",
    "    dir.create(\"output_plots/metabolites\")\n",
    "}\n",
    "\n",
    "file.copy(from=list.files(pattern=\"./*pathview.png\"), to=\"./output_plots/metabolites/\", overwrite = TRUE)\n",
    "\n",
    "png_files = list.files(path = \".\", pattern = \"*.png\")\n",
    "xml_files = list.files(path = \".\", pattern = \"*.xml\")\n",
    "files = c(png_files, xml_files)\n",
    "unlink(files)\n"
   ]
  },
  {
   "cell_type": "markdown",
   "id": "4335f06b-024c-4359-ae5f-c1ae9f84f63c",
   "metadata": {
    "tags": []
   },
   "source": [
    "<div style=\"max-width:1200px\"><img src=\"output_plots/metabolites/ko05230.pathview.png\" width=\"100%\"></div>"
   ]
  },
  {
   "cell_type": "code",
   "execution_count": null,
   "id": "f6fbbe40-8259-44b4-8468-c8535037004d",
   "metadata": {},
   "outputs": [],
   "source": [
    "#?pathview"
   ]
  },
  {
   "cell_type": "markdown",
   "id": "119204e1-81d8-4d1d-8407-776ed7e1d4dc",
   "metadata": {},
   "source": [
    " ### References: <a id='refs'/></a>\n",
    "\n"
   ]
  },
  {
   "cell_type": "markdown",
   "id": "d234455e-c703-420d-a28e-95f88a751fed",
   "metadata": {},
   "source": [
    "KEGGREST - Tenenbaum D, Maintainer B (2023). KEGGREST: Client-side REST access to the Kyoto Encyclopedia of Genes and Genomes (KEGG). R package version 1.40.0.\n",
    "\n",
    "\n",
    "pathview - Weijun Luo and Cory Brouwer. Pathview: an R/Bioconductor package for pathway-based data integration and visualization. Bioinformatics, 29(14):1830-1831, 2013. doi: 10.1093/bioinformatics/btt285."
   ]
  }
 ],
 "metadata": {
  "kernelspec": {
   "display_name": "R (mgnify-r-env)",
   "language": "R",
   "name": "conda-env-mgnify-r-env-r"
  },
  "language_info": {
   "codemirror_mode": "r",
   "file_extension": ".r",
   "mimetype": "text/x-r-source",
   "name": "R",
   "pygments_lexer": "r",
   "version": "4.2.2"
  }
 },
 "nbformat": 4,
 "nbformat_minor": 5
}
