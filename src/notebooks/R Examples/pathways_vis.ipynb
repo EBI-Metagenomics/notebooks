{
 "cells": [
  {
   "cell_type": "raw",
   "id": "dd5613df-43c2-4319-bd46-ca18a85c51ff",
   "metadata": {},
   "source": [
    "---\n",
    "title: \"Pathways Visualization\"\n",
    "author: \"Alejandra Escobar (MGnify team)\"\n",
    "categories: [R]\n",
    "execute: \n",
    "  enabled: true\n",
    "---"
   ]
  },
  {
   "cell_type": "markdown",
   "id": "f3a383f6-829a-43b2-87ba-159d634fc2ce",
   "metadata": {},
   "source": [
    "<div style=\"max-width:1200px\"><img src=\"../_resources/mgnify_banner.png\" width=\"100%\"></div>"
   ]
  },
  {
   "cell_type": "markdown",
   "id": "9d8bedac-2993-42f4-a71e-b689466bd462",
   "metadata": {
    "tags": []
   },
   "source": [
    "<img src=\"../_resources/mgnify_logo.png\" width=\"200px\">\n",
    "\n",
    "# Pathways Visualization\n",
    "\n",
    "In this notebook we aim to demonstrate how the MGnifyR tool can be used to fetch functional annotation results generated through the MGnify metagenomic analyisis pipelines. Then we show how to generate the pathways visualization using [Pathview](https://bioconductor.org/packages/release/bioc/html/pathview.html) in R.\n",
    "\n",
    "[MGnifyR](http://github.com/beadyallen/mgnifyr) is a library that provides a set of tools for easily accessing and processing MGnify data in R, making queries to MGnify databases through the [MGnify API](https://www.ebi.ac.uk/metagenomics/api/v1/). \n",
    "The benefit of MGnifyR is that data can either be fetched in tsv format or be directly combined in a phyloseq object to run an analysis in a custom workflow.\n",
    "\n",
    "This is an interactive code notebook (a Jupyter Notebook). To run this code, click into each cell and press the ▶ button in the top toolbar, or press shift+enter\n"
   ]
  },
  {
   "cell_type": "markdown",
   "id": "047933f6-06fc-461d-8873-de5715360e76",
   "metadata": {},
   "source": [
    "## Contents\n",
    "\n",
    "- [Introduction](#intro)\n",
    "    - [Minimal example 1. Fetching kegg orthologs and modules tables from MGnify](#mgnifyr)\n",
    "    - [Minimal example 2. Get pathways relating info from KEGGREST api](#keggrest)\n",
    "- [Part 1. Drawing presence/absence KOs for one metagenomic sample](#part1)\n",
    "    - [1.1. Fetching data from MGnify](#part1_1)\n",
    "    - [1.2. Selecting the most complete pathways](#part1_2)\n",
    "    - [1.3. Ready to draw!](#part1_3)\n",
    "- [Part 2. Comparing groups of samples, drawing KOs abundance](#part2)\n",
    "    - [2.1. Fetching KO tables from MGnify](#part2_1)\n",
    "    - [2.2. Generating differentially abundance count tables](#part2_2)\n",
    "    - [2.3. Selecting the pathways templates to draw](#part2_3)\n",
    "    - [2.4. Plotting pathways](#part2_4)\n",
    "- [Part 3. Plotting presence/absence of KOs and metabolites for one metagenomic sample](#part3)\n",
    "    - [3.1. Extracting KOs from input tables](#part3_1)\n",
    "    - [3.2. Loading and formatting metabolites data](#part3_2)\n",
    "    - [3.3. Drawing!](#part3_3)\n",
    "- [References](#refs)"
   ]
  },
  {
   "cell_type": "code",
   "execution_count": null,
   "id": "c4900c9e-7d78-47f2-bb5f-f9d6d0ba0695",
   "metadata": {
    "tags": []
   },
   "outputs": [],
   "source": [
    "# Loading libraries:\n",
    "suppressMessages({\n",
    "    library(ALDEx2)\n",
    "    library(data.table)\n",
    "    library(dplyr)\n",
    "    library(IRdisplay)\n",
    "    library(KEGGREST)\n",
    "    library(MGnifyR)   \n",
    "    library(pathview)\n",
    "    library(tidyjson)\n",
    "})\n",
    "    \n",
    "#display_markdown(file = 'assets/mgnifyr_help.md')"
   ]
  },
  {
   "cell_type": "code",
   "execution_count": null,
   "id": "9a54eed0-81ca-48ac-afb5-86f8a1fce9bc",
   "metadata": {
    "tags": []
   },
   "outputs": [],
   "source": [
    "# Setting tables and figures size to display (these will be reset later):\n",
    "options(repr.matrix.max.cols=150, repr.matrix.max.rows=500)\n",
    "options(repr.plot.width=4, repr.plot.height=4)"
   ]
  },
  {
   "cell_type": "code",
   "execution_count": null,
   "id": "b402def3-01d0-414f-9116-86fefe2cac08",
   "metadata": {
    "tags": []
   },
   "outputs": [],
   "source": [
    "# Setting up functions\n",
    "collect_pathways <- function(ids_list) {\n",
    "    pathways = list()\n",
    "    for (id in ids_list) { \n",
    "        current_pathway = as.list(keggLink(\"pathway\", id))\n",
    "        for (index in grep(\"map\", current_pathway)) {        \n",
    "            clean_id = gsub(\"*path:\", \"\", current_pathway[index])\n",
    "            # Discarding chemical structure (map010XX), global (map011XX), and overview (map012XX) maps\n",
    "            prefix = substring(clean_id, 1, 6)\n",
    "            if(is.na(match(\"map010\", prefix)) & is.na(match(\"map011\", prefix)) & is.na(match(\"map012\", prefix)) ){\n",
    "                pathways = append(pathways, clean_id)\n",
    "            }\n",
    "        }\n",
    "    }\n",
    "    return(pathways)\n",
    "}"
   ]
  },
  {
   "cell_type": "code",
   "execution_count": null,
   "id": "a5359e75-f33f-4e90-8b33-305106c90936",
   "metadata": {
    "tags": []
   },
   "outputs": [],
   "source": [
    "# Create your session mgnify_client object\n",
    "mg = mgnify_client(usecache = T, cache_dir = '/home/jovyan/.mgnify_cache')"
   ]
  },
  {
   "cell_type": "markdown",
   "id": "9a5d7e81-5112-4bce-9dbd-f1e89d2740b7",
   "metadata": {},
   "source": [
    "## Introduction <a id='intro'/>"
   ]
  },
  {
   "cell_type": "markdown",
   "id": "237b3f50-44f9-4dc2-b8a1-c9a8b5108b09",
   "metadata": {},
   "source": [
    "The goal of this notebook is to demonstrate how to create KEGG pathway maps to visualize metabolic potential and metabolite production in metagenomic samples. We will use metabolic pathways annotated at the gene level by assigning a KEGG Orthology (KO) to putative protein sequences. These results are generated through the [MGnify v5.0 pipeline](https://doi.org/10.1093/nar/gkac1080) for metagenomic assemblies, as shown in the workflow schema below. We will also use the completeness estimation of KEGG modules available in the [MGnify web portal](https://www.ebi.ac.uk/metagenomics). Consider that modules completeness is determined by the number of essential steps present; therefore, even if 100% completeness is achieved, there can still be gaps.\n",
    "\n",
    "The [KEGG (Kyoto Encyclopedia of Genes and Genomes) database](https://www.genome.jp/kegg/) is a collection of biologically-oriented data, including genetic and metabolic pathways, diseases and drugs, protein-protein interactions, and gene expression. We use the KEGG database to make connections between genes and biological information and provides pathways as a resource for systems biology.\n",
    "\n",
    "KEGG Modules are clusters of related genes that are involved in a specific biological process or pathway. KEGG modules IDs starts with 'M' followed by 5 numbers.\n",
    "Pathways are sets of interconnected biochemical reactions that form a chain leading from an initial reactant to a final product. The IDs of manually drawn reference pathway starts with the word 'map' followed by 5 numbers. KEGG pathways provide a high-level overview of the major metabolic pathways in an organism, while KEGG modules provide a more detailed view of the genes and reactions involved in a specific pathway. For a better display of results, in this notebook we are not using as templates chemical structure (map010XX), global (map011XX), and overview (map012XX) maps."
   ]
  },
  {
   "cell_type": "markdown",
   "id": "6e2fb79a-b8db-4cf1-8492-e3addaa03624",
   "metadata": {},
   "source": [
    "<img src=\"https://www.ebi.ac.uk/metagenomics/static/5e55649e459d5f26ee6c.png\" width=\"800px\">\n"
   ]
  },
  {
   "cell_type": "markdown",
   "id": "145c1350-767e-47d2-8948-64e0b5984ada",
   "metadata": {},
   "source": [
    "In the following sections of this introduction you will find a couple of simplest minimal examples on the main functions we will use to fetch and format the input tables for KEGG pathways visualization."
   ]
  },
  {
   "cell_type": "markdown",
   "id": "db528e1d-e830-4b7d-be53-993a2ab4b227",
   "metadata": {},
   "source": [
    "### Minimal example 1. Fetching kegg orthologs and modules tables from MGnify <a id='mgnifyr'/>\n"
   ]
  },
  {
   "cell_type": "markdown",
   "id": "804370c5-1a88-4a29-93f7-fddc6262b7bd",
   "metadata": {},
   "source": [
    "`MgnifyR` has pre-built functions to retrieve data from MGnify databases. The `mgnify_retrieve_json` function can be used to access results that are not available in tabular format. In this notebook we will fetch the pathways annotation and pathways completeness tables generated by the latest version of the MGnify analysis pipeline in json format and reformat into dataframes to easily manipulate the data. "
   ]
  },
  {
   "cell_type": "markdown",
   "id": "462171cc-9bd2-4584-b91b-b77f1e757743",
   "metadata": {},
   "source": [
    "1. Example on how to fetch the KOs counts table for one sample having the analysis accession `MGYA00636312`:"
   ]
  },
  {
   "cell_type": "code",
   "execution_count": null,
   "id": "01ac30ee-9c79-4524-a413-a579d35b6bb9",
   "metadata": {
    "tags": []
   },
   "outputs": [],
   "source": [
    "ko_json = mgnify_retrieve_json(mg, path = 'analyses/MGYA00636312/kegg-orthologs')\n",
    "ko_data = as.data.frame(ko_json %>% spread_all)[ , c(\"attributes.accession\", \"attributes.count\")]"
   ]
  },
  {
   "cell_type": "code",
   "execution_count": null,
   "id": "6bd137d6-49a2-41ae-be25-d34ca81df9ed",
   "metadata": {
    "tags": []
   },
   "outputs": [],
   "source": [
    "head(ko_data, 3)"
   ]
  },
  {
   "cell_type": "markdown",
   "id": "64de9fbe-9596-4c0e-b173-f9d6bb5e2e19",
   "metadata": {},
   "source": [
    "2. And we can also fetch the modules completeness table for the same sample using the following code:"
   ]
  },
  {
   "cell_type": "code",
   "execution_count": null,
   "id": "d9d6abcd-d13e-475c-82b3-1e8d0b9be3f5",
   "metadata": {
    "tags": []
   },
   "outputs": [],
   "source": [
    "ko_comp_json = mgnify_retrieve_json(mg, path = 'analyses/MGYA00636312/kegg-modules')\n",
    "ko_comp = as.data.frame(ko_comp_json %>% spread_all)[ , c(\"id\", \"attributes.completeness\")]"
   ]
  },
  {
   "cell_type": "code",
   "execution_count": null,
   "id": "21a8e1d8-1642-4c26-98a4-7c23147ec0a7",
   "metadata": {
    "tags": []
   },
   "outputs": [],
   "source": [
    "head(ko_comp, 3)"
   ]
  },
  {
   "cell_type": "markdown",
   "id": "ee37b4bb-a894-46a9-b2bf-feeeb6509c18",
   "metadata": {},
   "source": [
    "### Minimal example 2. Get pathways relating info from KEGGREST API <a id='keggrest'/>"
   ]
  },
  {
   "cell_type": "markdown",
   "id": "10027150-dd66-439c-840d-3ef949e0f0e4",
   "metadata": {},
   "source": [
    "[KEGGREST](https://www.bioconductor.org/packages/devel/bioc/vignettes/KEGGREST/inst/doc/KEGGREST-vignette.html) is a powerful tool with multiple functions to access and utilize data from KEGG databases. In this notebook we use `KEGGREST` to map between IDs in different databases and to determine the pathways associated with a module, orthologue, or compound. To display the list of KEGG databases we can query, you can run `listDatabases()` command."
   ]
  },
  {
   "cell_type": "markdown",
   "id": "939df2b7-a7c6-4bde-a223-8d7148e89e49",
   "metadata": {},
   "source": [
    "1. Using `keggLink` function to find the ID of the pathways we can use as template to draw the module of methane production from CO2 (M00567)"
   ]
  },
  {
   "cell_type": "code",
   "execution_count": null,
   "id": "cb00ebe1-39f5-467c-9981-d679c50f76e1",
   "metadata": {
    "tags": []
   },
   "outputs": [],
   "source": [
    "as.list(keggLink(\"pathway\", 'M00567'))"
   ]
  },
  {
   "cell_type": "markdown",
   "id": "3ef0e2cd-fd15-4045-b41e-fbfa921d415d",
   "metadata": {},
   "source": [
    "2. Using `keggFind` to find all the KOs associated to the Methyl-coenzyme M reductase (EC 2.8.4.1)"
   ]
  },
  {
   "cell_type": "code",
   "execution_count": null,
   "id": "c7cd6207-ac97-41e5-a8d6-7e44239a3785",
   "metadata": {
    "tags": []
   },
   "outputs": [],
   "source": [
    "as.list(keggFind(\"ko\", '2.8.4.1'))"
   ]
  },
  {
   "cell_type": "markdown",
   "id": "09672213-271c-4bcd-93d6-4eda159cb7a9",
   "metadata": {},
   "source": [
    "## Part 1. Drawing presence/absence KOs for one metagenomic sample <a id='part1'/>"
   ]
  },
  {
   "cell_type": "markdown",
   "id": "f7429870-9419-4130-a0ba-275df6ff97a6",
   "metadata": {},
   "source": [
    "For Parts 1 and 2 of this notebook, we will use MGnify results generated for two studies: \n",
    "1. Metagenomes of bacteria colonizing the gut of Apis mellifera and Apis cerana from Japan ([MGYS00006180](https://www.ebi.ac.uk/metagenomics/studies/MGYS00006180#overview)).\n",
    "2. Gut microbiota of Switzerland honeybees ([MGYS00006178](https://www.ebi.ac.uk/metagenomics/studies/MGYS00006178#overview)). \n",
    "\n",
    "The original analysis based on viral communities can be found in the [Bonilla-Rosso et al.,](https://doi.org/10.1073/pnas.2000228117) publication.\n"
   ]
  },
  {
   "cell_type": "markdown",
   "id": "d1c71880-51ec-434f-8dbf-7abe3d63c366",
   "metadata": {},
   "source": [
    "### 1.1. Fetching data from MGnify <a id='part1_1'/>"
   ]
  },
  {
   "cell_type": "markdown",
   "id": "4540955c-de1a-48b4-a407-215c965dc876",
   "metadata": {},
   "source": [
    "1. Fetching the analysis accession list using the study accessions. "
   ]
  },
  {
   "cell_type": "code",
   "execution_count": null,
   "id": "6bc9fed2-2cbb-4920-8e61-413b67569ed8",
   "metadata": {
    "tags": []
   },
   "outputs": [],
   "source": [
    "all_accessions = mgnify_analyses_from_studies(mg, c('MGYS00006180','MGYS00006178'))\n",
    "all_metadata = mgnify_get_analyses_metadata(mg, all_accessions)"
   ]
  },
  {
   "cell_type": "markdown",
   "id": "c6320d71-f49f-4e1c-88cd-e7323af8ba66",
   "metadata": {},
   "source": [
    "2. Keeping just the first analysis accession to fetch the kegg orthologs count table from the MGnify API and transform from JSON to matrix."
   ]
  },
  {
   "cell_type": "code",
   "execution_count": null,
   "id": "b740cf36-f5a8-49ff-9e41-b25cd72ea18d",
   "metadata": {
    "tags": []
   },
   "outputs": [],
   "source": [
    "accession = head(all_accessions, 1)\n",
    "ko_loc = paste0('analyses/',accession,'/kegg-orthologs')"
   ]
  },
  {
   "cell_type": "code",
   "execution_count": null,
   "id": "fa5ea7bb-2543-455e-adf7-f726f0bff036",
   "metadata": {
    "tags": []
   },
   "outputs": [],
   "source": [
    "ko_json = mgnify_retrieve_json(mg, path = ko_loc)\n",
    "ko_data = as.data.frame(ko_json %>% spread_all)[ , c(\"attributes.accession\", \"attributes.count\")]\n",
    "ko_data = data.frame(ko_data, row.names=1)\n",
    "colnames(ko_data)[1] = 'counts'\n",
    "ko_matrix = data.matrix(ko_data)"
   ]
  },
  {
   "cell_type": "code",
   "execution_count": null,
   "id": "9c8c9c8d-e068-4df7-9d45-25ff02e710d2",
   "metadata": {
    "tags": []
   },
   "outputs": [],
   "source": [
    "head(ko_matrix, 3)"
   ]
  },
  {
   "cell_type": "markdown",
   "id": "db497fd5-1cf2-46c0-8f30-f5d63d36e5e3",
   "metadata": {},
   "source": [
    "3. Fetch the modules completeness table and filter out completeness < 100%."
   ]
  },
  {
   "cell_type": "code",
   "execution_count": null,
   "id": "e3328ca7-5b53-44d3-9157-539bf272562a",
   "metadata": {
    "tags": []
   },
   "outputs": [],
   "source": [
    "comp_loc = paste0('analyses/',accession,'/kegg-modules')\n",
    "ko_comp_json = mgnify_retrieve_json(mg, path = comp_loc)\n",
    "ko_comp = as.data.frame(ko_comp_json %>% spread_all)\n",
    "modules = ko_comp[ko_comp$attributes.completeness == 100,][, c(\"attributes.accession\")]"
   ]
  },
  {
   "cell_type": "code",
   "execution_count": null,
   "id": "4697b4cf-6bf1-4ef2-9d1e-0523178d959d",
   "metadata": {
    "tags": []
   },
   "outputs": [],
   "source": [
    "head(modules)"
   ]
  },
  {
   "cell_type": "markdown",
   "id": "8e220927-5025-4f04-a621-36d61ceb0622",
   "metadata": {},
   "source": [
    "### 1.2. Selecting the most complete pathways <a id='part1_2'/>"
   ]
  },
  {
   "cell_type": "markdown",
   "id": "04bd0b25-f121-42dd-a7a1-bc26cc4e2c82",
   "metadata": {},
   "source": [
    "1. Now we need to collect the list of template pathways where these complete modules can be draw. This step takes less than 1 minute to run."
   ]
  },
  {
   "cell_type": "code",
   "execution_count": null,
   "id": "a5c2f190-1bc0-4e0d-8ede-04c0127ee920",
   "metadata": {
    "tags": []
   },
   "outputs": [],
   "source": [
    "md_pathways = collect_pathways(modules)"
   ]
  },
  {
   "cell_type": "code",
   "execution_count": null,
   "id": "d25b1f7a-4099-42af-917a-e70823662813",
   "metadata": {
    "tags": []
   },
   "outputs": [],
   "source": [
    "head(md_pathways)"
   ]
  },
  {
   "cell_type": "markdown",
   "id": "f14d46bc-1eeb-4a48-b65d-16ab738692a7",
   "metadata": {},
   "source": [
    "2. In order to draw the most complete pathways maps, we will use the list of templates we obtained in the previous step and select only pathways having all their constituent modules."
   ]
  },
  {
   "cell_type": "code",
   "execution_count": null,
   "id": "3890cd4e-f06a-4d7c-bb86-4c2172d3acbd",
   "metadata": {
    "tags": []
   },
   "outputs": [],
   "source": [
    "# Counting the number of modules we have in each pathway\n",
    "our_pathways_counts = list()\n",
    "for (path_element in md_pathways) {\n",
    "    if (path_element %in% names(our_pathways_counts)) {\n",
    "        new_value = our_pathways_counts[[path_element]] + 1\n",
    "        our_pathways_counts[path_element] = new_value       \n",
    "    } else {\n",
    "        our_pathways_counts[path_element] = 1 \n",
    "    }\n",
    "}\n",
    "\n",
    "# Counting the number of modules expected in each pathway\n",
    "u_pathways = unique(md_pathways)\n",
    "exp_pathways_counts = list()\n",
    "for (path in u_pathways) {\n",
    "    mod_count = length(as.list(keggLink(\"module\", path)))\n",
    "    exp_pathways_counts[path] = mod_count \n",
    "}\n",
    "\n",
    "# Selecting the pathways having all their constituent modules. We remove the 'map' prefix as pathview doesn't like it\n",
    "to_draw = list()\n",
    "for (pathway in names(our_pathways_counts)) {\n",
    "    our_value = our_pathways_counts[[pathway]]\n",
    "    exp_value = exp_pathways_counts[[pathway]]\n",
    "    ratio =  our_value / exp_value\n",
    "    if (ratio == 1) {\n",
    "        nude_id =  gsub(\"map\", \"\", pathway)\n",
    "        to_draw = append(to_draw, nude_id)   \n",
    "    }\n",
    "}"
   ]
  },
  {
   "cell_type": "code",
   "execution_count": null,
   "id": "10344ad2-2c17-481a-abe8-cdb438a5b3e8",
   "metadata": {
    "tags": []
   },
   "outputs": [],
   "source": [
    "to_draw"
   ]
  },
  {
   "cell_type": "markdown",
   "id": "af9fd488-458e-4a43-b757-090fb1b3bce2",
   "metadata": {},
   "source": [
    "### 1.3. Ready to draw! <a id='part1_3'/>"
   ]
  },
  {
   "cell_type": "markdown",
   "id": "16403dbe-b86b-41d5-856a-155c196873b6",
   "metadata": {},
   "source": [
    "1. As we are plotting absence/presence, we set the number of bins = 2, the scale in one direction, and use 1 as limit."
   ]
  },
  {
   "cell_type": "code",
   "execution_count": null,
   "id": "179ec96c-1ef9-4b32-be27-d0ca2603f291",
   "metadata": {
    "tags": []
   },
   "outputs": [],
   "source": [
    "for (p in to_draw) {\n",
    "    pathview(gene.data = ko_matrix, \n",
    "             species = \"ko\", \n",
    "             pathway.id = p, \n",
    "             bins=c(2, 2), \n",
    "             both.dirs = FALSE, \n",
    "             limit = c(1,1), \n",
    "             mid = c(\"#ffffff\" , \"#ffffff\"), \n",
    "             high = c(\"#02b3ad\" , \"#02b3ad\")\n",
    "    )\n",
    "}"
   ]
  },
  {
   "cell_type": "markdown",
   "id": "bfaf1947-8ce5-4713-9ac2-65a5e9d0df90",
   "metadata": {},
   "source": [
    "2. Cleaning the working directory."
   ]
  },
  {
   "cell_type": "code",
   "execution_count": null,
   "id": "2dcfb4e6-3545-4532-8c7d-1a640b827932",
   "metadata": {
    "tags": []
   },
   "outputs": [],
   "source": [
    "if(!dir.exists(\"output_plots\")){\n",
    "    dir.create(\"output_plots\")\n",
    "    dir.create(\"output_plots/single_sample\")\n",
    "}\n",
    "\n",
    "file.copy(from=list.files(pattern=\"./*pathview.png\"), to=\"./output_plots/single_sample/\", overwrite = TRUE)\n",
    "\n",
    "png_files = list.files(path = \".\", pattern = \"*.png\")\n",
    "xml_files = list.files(path = \".\", pattern = \"*.xml\")\n",
    "files = c(png_files, xml_files)\n",
    "unlink(files)"
   ]
  },
  {
   "cell_type": "markdown",
   "id": "daeb3352-23b5-422e-9da1-2e4715ae02bf",
   "metadata": {},
   "source": [
    "3. This is one example of Pathview outputs. The rest of the generated figures are stored at `output_plots/single_sample/` directory. You can explore the files by clicking on them at the left-side panel."
   ]
  },
  {
   "cell_type": "markdown",
   "id": "9f83172f-92be-4474-a5fd-3f67d1812799",
   "metadata": {
    "tags": []
   },
   "source": [
    "<div style=\"max-width:800px\"><img src=\"output_plots/single_sample/ko00010.pathview.png\" width=\"100%\"></div>"
   ]
  },
  {
   "cell_type": "markdown",
   "id": "f07ff95a-55b0-4664-bd53-7f65b779048d",
   "metadata": {},
   "source": [
    "## Part 2. Comparing groups of samples, drawing KOs abundance <a id='part2'/>"
   ]
  },
  {
   "cell_type": "markdown",
   "id": "3589583c-bf0a-42b9-a203-8e36fb1a638a",
   "metadata": {},
   "source": [
    "In this part of the notebook we use the whole list of accessions for both studies (`MGYS00006180` and `MGYS00006178`). After integrate the KO's tables, we run [Aldex2](https://www.bioconductor.org/packages/devel/bioc/vignettes/ALDEx2/inst/doc/ALDEx2_vignette.html) to find differentially abudant KOs between honeybees from Japan and Switzerland, and we use the `effect` as scale to plot the pathways with the highest number of differentially abundant KOs. Consider that steps involving fetching KO tables and `KEGGREST` queries can take several minutes to run."
   ]
  },
  {
   "cell_type": "markdown",
   "id": "d4e432e7-1f5f-4f29-bbbb-c615f78065f7",
   "metadata": {
    "tags": []
   },
   "source": [
    "### 2.1. Fetching KO tables from MGnify <a id='part2_1'/>"
   ]
  },
  {
   "cell_type": "markdown",
   "id": "cd9f48ed-eda6-414b-8bf2-cbaaf29819e6",
   "metadata": {},
   "source": [
    "1. Generating condition labels."
   ]
  },
  {
   "cell_type": "code",
   "execution_count": null,
   "id": "947959fc-a36b-4e1e-9aa3-bef693cef328",
   "metadata": {
    "tags": []
   },
   "outputs": [],
   "source": [
    "accession_alias = subset(all_metadata, select = c('analysis_accession', 'study_attributes.accession'))"
   ]
  },
  {
   "cell_type": "code",
   "execution_count": null,
   "id": "b63e915d-ccf6-483e-a59f-4cb143d0d475",
   "metadata": {
    "tags": []
   },
   "outputs": [],
   "source": [
    "cond_list = list()\n",
    "for (study_id in accession_alias$'study_attributes.accession') {\n",
    "    if (study_id == 'MGYS00006180') {\n",
    "        cond_list = append(cond_list , 'Japan')\n",
    "    } else {\n",
    "        cond_list = append(cond_list , 'Switzerland')\n",
    "    }\n",
    "}\n",
    "accession_alias$condition = cond_list"
   ]
  },
  {
   "cell_type": "code",
   "execution_count": null,
   "id": "1d954b5a-27e7-4e95-bb7b-562231731f97",
   "metadata": {
    "tags": []
   },
   "outputs": [],
   "source": [
    "table(unlist(accession_alias$condition))"
   ]
  },
  {
   "cell_type": "markdown",
   "id": "b26de4b2-687c-490f-bdbf-7f977862250a",
   "metadata": {},
   "source": [
    "2. Download and integrate KO counts tables. This step takes 8 minutes to complete."
   ]
  },
  {
   "cell_type": "code",
   "execution_count": null,
   "id": "515c3deb-6af0-4637-9500-93814ad0eb34",
   "metadata": {
    "tags": []
   },
   "outputs": [],
   "source": [
    "samples_list = accession_alias$'analysis_accession'\n",
    "list_of_dfs = list()\n",
    "for (accession in samples_list) {\n",
    "    ko_loc = paste0('analyses/',accession,'/kegg-orthologs')\n",
    "    ko_json = mgnify_retrieve_json(mg, path = ko_loc)\n",
    "    ko_data = as.data.frame(ko_json %>% spread_all)[ , c(\"attributes.accession\", \"attributes.count\")]\n",
    "    colnames(ko_data) = c('ko_id', accession)\n",
    "    list_of_dfs = append(list_of_dfs, list(ko_data)) \n",
    "}"
   ]
  },
  {
   "cell_type": "code",
   "execution_count": null,
   "id": "c6438389-2ec9-448b-9a87-f24b398f4d04",
   "metadata": {
    "tags": []
   },
   "outputs": [],
   "source": [
    "integrated_df = data.frame()\n",
    "for (df in list_of_dfs){\n",
    "    integrated_df = merge(integrated_df,df, all = T)\n",
    "}\n",
    "\n",
    "# Using the KO id column as row names\n",
    "row.names(integrated_df) = integrated_df$ko_id\n",
    "integrated_df$ko_id = NULL\n",
    "\n",
    "# Converting NA to zero \n",
    "integrated_df[is.na(integrated_df)] = 0\n",
    "\n",
    "# Discarding samples that KOs abundance sum = 0\n",
    "integrated_df = integrated_df %>% select_if(is.numeric) %>% select_if(~ sum(. != 0) > 0)"
   ]
  },
  {
   "cell_type": "code",
   "execution_count": null,
   "id": "e2cd25fd-3eb6-4a6e-813b-6a975c812364",
   "metadata": {
    "tags": []
   },
   "outputs": [],
   "source": [
    "head(integrated_df, c(3, 2))"
   ]
  },
  {
   "cell_type": "markdown",
   "id": "c73a5626-e317-4c5a-9181-ca83c83430c3",
   "metadata": {},
   "source": [
    "3. Reformating the condition label according with the KOs dataframe."
   ]
  },
  {
   "cell_type": "code",
   "execution_count": null,
   "id": "12c951d3-bb7a-41af-8402-ca564a9aa239",
   "metadata": {
    "tags": []
   },
   "outputs": [],
   "source": [
    "sorted_conds = list()\n",
    "for (sample in colnames(integrated_df)) {\n",
    "    match = accession_alias[accession_alias$analysis_accession %in% sample,]$condition\n",
    "    cond = paste(match, collapse = \"\")\n",
    "    sorted_conds = append(sorted_conds, cond)    \n",
    "}\n",
    "vector_conds = unlist(sorted_conds)"
   ]
  },
  {
   "cell_type": "code",
   "execution_count": null,
   "id": "bf972f32-e97d-4cf1-b20d-1a44b65e783b",
   "metadata": {
    "tags": []
   },
   "outputs": [],
   "source": [
    "table(vector_conds)"
   ]
  },
  {
   "cell_type": "markdown",
   "id": "634cd95f-3b50-4292-ac05-d9a54238fccc",
   "metadata": {},
   "source": [
    "### 2.1. Generating differentially abundance count tables<a id='part2_2'/>"
   ]
  },
  {
   "cell_type": "markdown",
   "id": "f8169f93-64e3-4293-8bc7-7ac5f1dbfe1c",
   "metadata": {},
   "source": [
    "1. This step takes 2 minutes to run."
   ]
  },
  {
   "cell_type": "code",
   "execution_count": null,
   "id": "b00cdb64-5c82-41b4-9032-6fda03eb97a3",
   "metadata": {
    "tags": []
   },
   "outputs": [],
   "source": [
    "x.all = aldex(integrated_df, \n",
    "              vector_conds, \n",
    "              mc.samples=128, \n",
    "              test=\"t\", \n",
    "              effect=TRUE, \n",
    "              include.sample.summary=FALSE, \n",
    "              denom=\"all\", \n",
    "              verbose=FALSE\n",
    "        )"
   ]
  },
  {
   "cell_type": "code",
   "execution_count": null,
   "id": "a17e799d-f8b8-485e-9f6f-29c2a323cd76",
   "metadata": {
    "tags": []
   },
   "outputs": [],
   "source": [
    "head(x.all, 3)"
   ]
  },
  {
   "cell_type": "markdown",
   "id": "2001b480-2185-429d-8b82-23853bc1dfe8",
   "metadata": {},
   "source": [
    "1. The column `effect` in the above output (`x.all` table) contains the log ratio of the sample mean to the reference mean. A positive effect indicates that the sample mean is greater than the reference mean, while a negative effect indicates that the sample mean is lower than the reference mean. In this example, Japan group is used as reference. We are keeping in a separate matrix the list of KOs and the effect value to be used to plot."
   ]
  },
  {
   "cell_type": "code",
   "execution_count": null,
   "id": "430c4dbc-bd7c-41a0-a33f-c69a0b773d53",
   "metadata": {
    "tags": []
   },
   "outputs": [],
   "source": [
    "ko_matrix = data.matrix(subset(x.all, select = c('effect')))"
   ]
  },
  {
   "cell_type": "code",
   "execution_count": null,
   "id": "b8364290-982e-49f2-9067-570bf620dbc0",
   "metadata": {
    "tags": []
   },
   "outputs": [],
   "source": [
    "head(ko_matrix, 3)"
   ]
  },
  {
   "cell_type": "markdown",
   "id": "cd4383c7-a413-4712-a3e4-e5c4201d33ad",
   "metadata": {},
   "source": [
    "2. Plotting effect and difference (`diff.btw`) versus P-value. The threshold line indicates P-value = 0.05."
   ]
  },
  {
   "cell_type": "code",
   "execution_count": null,
   "id": "34162804-10c5-48ec-b8e1-37a01b4920aa",
   "metadata": {
    "tags": []
   },
   "outputs": [],
   "source": [
    "options(repr.plot.width=10, repr.plot.height=8)\n",
    "\n",
    "par(mfrow=c(1,2))\n",
    "plot(x.all$effect, x.all$we.ep, log=\"y\", cex=0.7, col=rgb(0,0,1,0.2),\n",
    "  pch=19, xlab=\"Effect size\", ylab=\"P value\", main=\"Effect size plot\")\n",
    "points(x.all$effect, x.all$we.eBH, cex=0.7, col=rgb(1,0,0,0.2),\n",
    "  pch=19)\n",
    "abline(h=0.05, lty=2, col=\"grey\")\n",
    "legend(15,1, legend=c(\"P value\", \"BH-adjusted\"), pch=19, col=c(\"blue\", \"red\"))\n",
    "\n",
    "plot(x.all$diff.btw, x.all$we.ep, log=\"y\", cex=0.7, col=rgb(0,0,1,0.2),\n",
    "  pch=19, xlab=\"Difference\", ylab=\"P value\", main=\"Volcano plot\")\n",
    "points(x.all$diff.btw, x.all$we.eBH, cex=0.7, col=rgb(1,0,0,0.2),\n",
    "  pch=19)\n",
    "abline(h=0.05, lty=2, col=\"grey\")"
   ]
  },
  {
   "cell_type": "markdown",
   "id": "0a4ac0f0-0781-45cf-bc2a-384ce0a1d5e0",
   "metadata": {},
   "source": [
    "3. Reporting features detected by the Welchs’ or Wilcoxon test individually (blue) or by both (red)."
   ]
  },
  {
   "cell_type": "code",
   "execution_count": null,
   "id": "f54b2bf8-61b9-4c6a-9d50-a095121985b0",
   "metadata": {
    "tags": []
   },
   "outputs": [],
   "source": [
    "options(repr.plot.width=8, repr.plot.height=8)\n",
    "\n",
    "found.by.all <- which(x.all$we.eBH < 0.05 & x.all$wi.eBH < 0.05)\n",
    "found.by.one <- which(x.all$we.eBH < 0.05 | x.all$wi.eBH < 0.05)\n",
    "\n",
    "plot(x.all$diff.win, x.all$diff.btw, pch=19, cex=1, col=rgb(0,0,0,0.3),\n",
    " xlab=\"Dispersion\", ylab=\"Difference\")\n",
    "points(x.all$diff.win[found.by.one], x.all$diff.btw[found.by.one], pch=19,\n",
    " cex=1, col=rgb(0,0,1,0.5))\n",
    "points(x.all$diff.win[found.by.all], x.all$diff.btw[found.by.all], pch=19,\n",
    " cex=1, col=rgb(1,0,0,1))\n",
    "abline(0,1,lty=2)\n",
    "abline(0,-1,lty=2)\n"
   ]
  },
  {
   "cell_type": "markdown",
   "id": "b55f62b5-e191-4d1a-836c-b8318e24238f",
   "metadata": {},
   "source": [
    "### 2.3. Selecting the pathways templates to draw<a id='part2_3'/>"
   ]
  },
  {
   "cell_type": "markdown",
   "id": "b8787d97-2204-44c8-9dcd-9eaa91a6b77c",
   "metadata": {},
   "source": [
    "1. We will use the union of both methods to find the pathways with differentially abundant KOs. This step takes 3 minutes to run."
   ]
  },
  {
   "cell_type": "code",
   "execution_count": null,
   "id": "5791ddb1-0618-4f60-80b9-20b3e786ede1",
   "metadata": {
    "tags": []
   },
   "outputs": [],
   "source": [
    "kos_list = list()\n",
    "for (index in found.by.one){\n",
    "    current_ko = rownames(x.all)[index]\n",
    "    kos_list = append(kos_list, current_ko)\n",
    "}"
   ]
  },
  {
   "cell_type": "code",
   "execution_count": null,
   "id": "9ccb1e26-ab6d-4542-9a14-652799c159b7",
   "metadata": {
    "tags": []
   },
   "outputs": [],
   "source": [
    "ko_pathways = collect_pathways(kos_list)"
   ]
  },
  {
   "cell_type": "code",
   "execution_count": null,
   "id": "bc932fe4-4507-449e-a8e0-ead48aae5733",
   "metadata": {
    "tags": []
   },
   "outputs": [],
   "source": [
    "head(ko_pathways)"
   ]
  },
  {
   "cell_type": "markdown",
   "id": "2d59b158-e8e1-427c-a86f-2709dd7173e0",
   "metadata": {},
   "source": [
    "2. Select the top 3 pathways with the highest number of significant KOs."
   ]
  },
  {
   "cell_type": "code",
   "execution_count": null,
   "id": "70175467-a1e2-47d1-8be6-991abfd4d8eb",
   "metadata": {
    "tags": []
   },
   "outputs": [],
   "source": [
    "pathways_counts = list()\n",
    "for (path_element in ko_pathways) {\n",
    "    if (path_element %in% names(pathways_counts)) {\n",
    "        new_value = pathways_counts[[path_element]] + 1\n",
    "        pathways_counts[path_element] = new_value       \n",
    "    } else {\n",
    "        pathways_counts[path_element] = 1 \n",
    "    }\n",
    "}"
   ]
  },
  {
   "cell_type": "code",
   "execution_count": null,
   "id": "cdaa050b-2afd-41db-a257-19dd50f8f535",
   "metadata": {
    "tags": []
   },
   "outputs": [],
   "source": [
    "top_to_plot = names(tail(pathways_counts[order(unlist(pathways_counts))], 3))\n",
    "top_to_plot"
   ]
  },
  {
   "cell_type": "markdown",
   "id": "58e4b311-ab08-4e15-bc64-66fe9033805c",
   "metadata": {},
   "source": [
    "### 2.4. Plotting pathways<a id='part2_4'/>"
   ]
  },
  {
   "cell_type": "markdown",
   "id": "166767eb-2384-4725-8be4-77c20dc44caa",
   "metadata": {},
   "source": [
    "1. For this type of data, values range from -1 to 1, with both negative and positive fractions. We use both directions when plotting."
   ]
  },
  {
   "cell_type": "code",
   "execution_count": null,
   "id": "a0a7aae1-a8c2-406f-86b2-918914cdbd93",
   "metadata": {
    "tags": []
   },
   "outputs": [],
   "source": [
    "for (p in top_to_plot) {\n",
    "    nude_id =  gsub(\"map\", \"\", p)\n",
    "    pathview(gene.data = ko_matrix, \n",
    "             species = \"ko\", \n",
    "             pathway.id = nude_id, \n",
    "             both.dirs = TRUE, \n",
    "             low = c(\"#bd066b\", \"#bd066b\"),  \n",
    "             mid = c(\"#c9c9c9\" , \"#c9c9c9\"), \n",
    "             high = c(\"#02b3ad\" , \"#02b3ad\")\n",
    "    )\n",
    "}"
   ]
  },
  {
   "cell_type": "markdown",
   "id": "9885305d-73b3-4f8a-aad2-03d6031dbe24",
   "metadata": {},
   "source": [
    "2. Cleaning the working directory."
   ]
  },
  {
   "cell_type": "code",
   "execution_count": null,
   "id": "5f08edbf-b7f1-45f4-a7d6-20d2c75473ad",
   "metadata": {
    "tags": []
   },
   "outputs": [],
   "source": [
    "if(!dir.exists(\"output_plots/comparative\")){\n",
    "    dir.create(\"output_plots/comparative\")\n",
    "}\n",
    "\n",
    "file.copy(from=list.files(pattern=\"./*pathview.png\"), to=\"./output_plots/comparative/\", overwrite = TRUE)\n",
    "\n",
    "png_files = list.files(path = \".\", pattern = \"*.png\")\n",
    "xml_files = list.files(path = \".\", pattern = \"*.xml\")\n",
    "files = c(png_files, xml_files)\n",
    "unlink(files)"
   ]
  },
  {
   "cell_type": "markdown",
   "id": "fc7243c3-ca45-4cb7-96f2-6adeff23f5b2",
   "metadata": {},
   "source": [
    "3. This is one example of Pathview outputs. The rest of the generated figures are stored at `output_plots/comparative/` directory. You can explore the files by clicking on them at the left-side panel."
   ]
  },
  {
   "cell_type": "markdown",
   "id": "9ff824ac-3f18-45b1-a059-85884a53d199",
   "metadata": {
    "tags": []
   },
   "source": [
    "<div style=\"max-width:1200px\"><img src=\"output_plots/comparative/ko00270.pathview.png\" width=\"100%\"></div>"
   ]
  },
  {
   "cell_type": "markdown",
   "id": "891b5fa0-feec-4357-a5ea-ea049f87af62",
   "metadata": {},
   "source": [
    "## Part 3. Plotting presence/absence of KOs and metabolites for one metagenomic sample <a id='part3'/>"
   ]
  },
  {
   "cell_type": "markdown",
   "id": "0cdd7d9b-7a59-42e5-8568-8e753e50012b",
   "metadata": {},
   "source": [
    "We are using supplementary and processed tables from [Franzosa et al](https://doi.org/10.1038/s41564-018-0306-4).'s publication, available at [The Curated Gut Microbiome Metabolome Data Resource](https://doi.org/10.1038/s41522-022-00345-5). As normalizing metabolites data is not straightforward, this section will only use presence/absence data from one sample to demonstrate the creation of metabolic pathways maps using metabolites and KOs tables as input."
   ]
  },
  {
   "cell_type": "markdown",
   "id": "96d1f02c-e717-4a8a-9dd0-9f72f94daccf",
   "metadata": {},
   "source": [
    "### 3.1. Extracting KOs from input tables <a id='part3_1'/>"
   ]
  },
  {
   "cell_type": "markdown",
   "id": "e50aff15-2149-4ad2-bee7-fc9adedb2b32",
   "metadata": {},
   "source": [
    "1. We need a KOs list as input to draw pathways, so we are generating a KOs table from the enzyme (EC number) identifiers in the `Supplementary Dataset 6: Per-subject microbial enzyme relative abundance profiles`, as there are no KOs count tables available for this data."
   ]
  },
  {
   "cell_type": "code",
   "execution_count": null,
   "id": "077e4ebe-3283-4d1d-81e3-971f6bcb424b",
   "metadata": {
    "tags": []
   },
   "outputs": [],
   "source": [
    "enzymes_data = read.table(\"/home/jovyan/supp_tables/enzymes.tsv\", header = TRUE, sep = \"\\t\") "
   ]
  },
  {
   "cell_type": "code",
   "execution_count": null,
   "id": "55289fd9-d86f-4db7-836e-5c532d196d17",
   "metadata": {
    "tags": []
   },
   "outputs": [],
   "source": [
    "head(enzymes_data, c(3,3))"
   ]
  },
  {
   "cell_type": "markdown",
   "id": "247de1b0-e678-4b26-af4b-280874c15ecf",
   "metadata": {},
   "source": [
    "2. Cleaning the enzyme IDs to get the EC number only and keeping data for only one sample (PRISM.7122)"
   ]
  },
  {
   "cell_type": "code",
   "execution_count": null,
   "id": "d99be19b-25a8-4682-ad8b-3c338292c7ee",
   "metadata": {
    "tags": []
   },
   "outputs": [],
   "source": [
    "EC_ids = list()\n",
    "comp_ids = list()\n",
    "for ( enzyme_id in enzymes_data$Enzyme ){\n",
    "    new_id = gsub(\": .*\", \"\", enzyme_id)\n",
    "    EC_ids = append(EC_ids, new_id)\n",
    "}\n",
    "\n",
    "# Keeping data for PRISM.7122 sample\n",
    "enzymes_df = subset(enzymes_data, select = c('PRISM.7122'))\n",
    "\n",
    "# Using the clean EC number column  as row names\n",
    "row.names(enzymes_df) = EC_ids\n",
    "\n",
    "# Discarding enzymes with abundance = 0\n",
    "enzymes_clean = subset(enzymes_df, enzymes_df[,1] > 0)\n",
    "\n",
    "head(enzymes_clean, 3)"
   ]
  },
  {
   "cell_type": "markdown",
   "id": "ae6be358-004d-4cc5-ade4-de5d07240a23",
   "metadata": {},
   "source": [
    "3. Finding the corresponding KOs for each EC number. As we want to plot presence/absence we can input Pathview with a list (formatted as vector) of KO ids instead of an abundance matrix. This step takes 4 minutes to complete.\n"
   ]
  },
  {
   "cell_type": "code",
   "execution_count": null,
   "id": "45b5b7ac-2d29-4856-9e91-8ec9ede08fe7",
   "metadata": {
    "tags": []
   },
   "outputs": [],
   "source": [
    "kos_presence = list()\n",
    "for( ec_number in rownames(enzymes_clean) ){ \n",
    "    current_kos = as.list(names(as.list(keggFind(\"ko\", ec_number))))\n",
    "    kos_presence = append(kos_presence, current_kos) \n",
    "}\n",
    "\n",
    "kos_vector = unlist(gsub('ko:', '', kos_presence))"
   ]
  },
  {
   "cell_type": "code",
   "execution_count": null,
   "id": "a04f2a82-1b9b-417b-a685-b1e0c9560c41",
   "metadata": {
    "tags": []
   },
   "outputs": [],
   "source": [
    "head(kos_vector)"
   ]
  },
  {
   "cell_type": "markdown",
   "id": "60f4139e-73a7-4ba3-8a60-6ce4ba027066",
   "metadata": {},
   "source": [
    "### 3.2. Loading and formatting metabolites data <a id='part3_2'/>"
   ]
  },
  {
   "cell_type": "markdown",
   "id": "a0ce0c03-8744-4cf9-baf6-1730cbefac74",
   "metadata": {},
   "source": [
    "1. We are using the metabolites table available at the [The Curated Gut Microbiome Metabolome Data Resource github repo](https://github.com/borenstein-lab/microbiome-metabolome-curated-data) generated from the `Supplementary Dataset 2: Per-subject metabolite relative abundance profiles` of the [original publication](https://doi.org/10.1038/s41564-018-0306-4) subsetted for sample PRISM.7122."
   ]
  },
  {
   "cell_type": "code",
   "execution_count": null,
   "id": "1f6e7db8-0a8f-47d4-83e0-a0b7203431fa",
   "metadata": {
    "tags": []
   },
   "outputs": [],
   "source": [
    "compound_data = read.table(\"/home/jovyan/supp_tables/mtb.tsv\", header = TRUE, row.names = 1, sep = \"\\t\") \n",
    "\n",
    "# Transposing the table\n",
    "compound_data = data.frame(t(compound_data))\n",
    "\n",
    "# Keeping data for sample PRISM.7122 only\n",
    "compound_df = subset(compound_data, select = c('PRISM.7122'))\n",
    "\n",
    "# Discarding rows with abundance = 0\n",
    "compound_clean = subset(compound_df, compound_df[,1] > 0)\n",
    "\n",
    "# Formatting row names to be mapped to compound names\n",
    "row.names(compound_clean) = gsub(\"\\\\.\\\\..*\", \"\", row.names(compound_clean))\n",
    "row.names(compound_clean) = gsub(\"\\\\.\", \"-\", row.names(compound_clean))"
   ]
  },
  {
   "cell_type": "code",
   "execution_count": null,
   "id": "92c089cb-6f8c-45db-b43b-e4e123b8f66f",
   "metadata": {
    "tags": []
   },
   "outputs": [],
   "source": [
    "head(compound_clean, c(3,3))"
   ]
  },
  {
   "cell_type": "markdown",
   "id": "73df3d30-7ceb-4769-87da-f6771f304f33",
   "metadata": {},
   "source": [
    "2. Now we have to transform the cluster IDs into KEGG compound IDs. This info is not available in the [original publication](https://doi.org/10.1038/s41564-018-0306-4). Fortunatelly, a mapping table exists available in [The Curated Gut Microbiome Metabolome Data Resource github repo](https://github.com/borenstein-lab/microbiome-metabolome-curated-data). Loading and formatting mapping data to transform cluster ID into KEGG compound ID."
   ]
  },
  {
   "cell_type": "code",
   "execution_count": null,
   "id": "6e0e7778-be29-4441-9e9d-d017a63667f7",
   "metadata": {
    "tags": []
   },
   "outputs": [],
   "source": [
    "mapping_data = read.table(\"/home/jovyan/supp_tables/mtb.map.tsv\", header = TRUE, row.names = 1, sep = \"\\t\", quote = '#') "
   ]
  },
  {
   "cell_type": "code",
   "execution_count": null,
   "id": "5581cdca-9d75-437f-9db3-9c14409ad5d1",
   "metadata": {
    "tags": []
   },
   "outputs": [],
   "source": [
    "head(mapping_data, 3)"
   ]
  },
  {
   "cell_type": "code",
   "execution_count": null,
   "id": "ac8826d7-a282-48d0-ac7e-3737fa571a90",
   "metadata": {
    "tags": []
   },
   "outputs": [],
   "source": [
    "# Reducing the table to keep only raw names and KEGG compund ID\n",
    "compound_map = subset(mapping_data, select = c('KEGG'))\n",
    "\n",
    "# Removing rows with NA in the compound ID column\n",
    "compound_map = na.omit(compound_map)\n",
    "\n",
    "# Formatting the row names to be correctly mapped on the abundance table 'compound_clean'\n",
    "row.names(compound_map) = gsub(\": .*\", \"\", row.names(compound_map))\n",
    "\n",
    "head(compound_map, 3)"
   ]
  },
  {
   "cell_type": "markdown",
   "id": "031dbbb6-36da-4e11-80c0-28c61c0ee721",
   "metadata": {},
   "source": [
    "3. Generating the compounds list (as vector) to plot as presence/absence."
   ]
  },
  {
   "cell_type": "code",
   "execution_count": null,
   "id": "7339ef37-f14f-41b4-8d9e-b09c8cfc9dd4",
   "metadata": {
    "tags": []
   },
   "outputs": [],
   "source": [
    "cpd_names = list()\n",
    "for (name in rownames(compound_clean)) {\n",
    "    if (name %in% rownames(compound_map)) {\n",
    "        compound = compound_map[row.names(compound_map) == name, \"KEGG\"]\n",
    "        cpd_names = append(cpd_names, compound)   \n",
    "    }\n",
    "}\n",
    "cpd_vector = unlist(cpd_names)"
   ]
  },
  {
   "cell_type": "code",
   "execution_count": null,
   "id": "0edb6b12-f856-42b9-842c-08817d4a8230",
   "metadata": {
    "tags": []
   },
   "outputs": [],
   "source": [
    "head(cpd_vector)"
   ]
  },
  {
   "cell_type": "markdown",
   "id": "77ca6780-1f94-4b9c-88f5-644cef2915cb",
   "metadata": {},
   "source": [
    "4. Finding pathways with annotated compounds. It takes 2 minutes to run."
   ]
  },
  {
   "cell_type": "code",
   "execution_count": null,
   "id": "0aab9687-16d1-4710-b3e5-8df9a288f9a9",
   "metadata": {
    "tags": []
   },
   "outputs": [],
   "source": [
    "cpd_pathways = collect_pathways(cpd_names)"
   ]
  },
  {
   "cell_type": "code",
   "execution_count": null,
   "id": "56122254-dc34-4529-b704-7aa706b03c32",
   "metadata": {
    "tags": []
   },
   "outputs": [],
   "source": [
    "head(cpd_pathways)"
   ]
  },
  {
   "cell_type": "markdown",
   "id": "d1adb6e5-6f74-46c6-bea7-04b883eb18b9",
   "metadata": {},
   "source": [
    "5. Selecting the top 3 pathways with the largest number of compounds to draw."
   ]
  },
  {
   "cell_type": "code",
   "execution_count": null,
   "id": "f9a6ef92-86d5-4e1c-bc05-9897e54b9d84",
   "metadata": {
    "tags": []
   },
   "outputs": [],
   "source": [
    "pathways_counts = list()\n",
    "for (path_element in cpd_pathways) {\n",
    "    if (path_element %in% names(pathways_counts)) {\n",
    "        new_value = pathways_counts[[path_element]] + 1\n",
    "        pathways_counts[path_element] = new_value       \n",
    "    } else {\n",
    "        pathways_counts[path_element] = 1 \n",
    "    }\n",
    "}\n",
    "\n",
    "top_to_plot = names(tail(pathways_counts[order(unlist(pathways_counts))], 3))"
   ]
  },
  {
   "cell_type": "code",
   "execution_count": null,
   "id": "209deaa7-7b19-4665-ac32-8a30c8f6ac08",
   "metadata": {
    "tags": []
   },
   "outputs": [],
   "source": [
    "top_to_plot"
   ]
  },
  {
   "cell_type": "markdown",
   "id": "1f46ec88-e7d3-45b3-a3c3-e3b02fa22855",
   "metadata": {},
   "source": [
    "### 3.3. Drawing! <a id='part3_3'/>"
   ]
  },
  {
   "cell_type": "markdown",
   "id": "0484dd36-df9c-43e4-8065-58bc70a3374b",
   "metadata": {},
   "source": [
    "1. As we are plotting absence/presence, we set the number of bins = 2, the scale in one direction, and use 1 as limit."
   ]
  },
  {
   "cell_type": "code",
   "execution_count": null,
   "id": "644b299a-34d2-409f-a822-e66621442d47",
   "metadata": {
    "tags": []
   },
   "outputs": [],
   "source": [
    "for (p in top_to_plot) {\n",
    "    nude_id =  gsub(\"map\", \"\", p)\n",
    "    pathview(gene.data = kos_vector, \n",
    "             cpd.data = cpd_vector, \n",
    "             species = \"ko\", \n",
    "             pathway.id = nude_id, \n",
    "             bins=c(2, 2), \n",
    "             both.dirs = FALSE, \n",
    "             limit = c(1,1), \n",
    "             mid = c(\"#c9c9c9\" , \"#c9c9c9\"), \n",
    "             high = c(\"#02b3ad\" , \"#d67e03\")\n",
    "    )\n",
    "}"
   ]
  },
  {
   "cell_type": "markdown",
   "id": "e1e57acb-2d93-440d-a5e6-85da16fba2e8",
   "metadata": {},
   "source": [
    "2. Cleaning working directory."
   ]
  },
  {
   "cell_type": "code",
   "execution_count": null,
   "id": "0002ff27-0454-4266-a7db-1e07423d5ade",
   "metadata": {
    "tags": []
   },
   "outputs": [],
   "source": [
    "if(!dir.exists(\"output_plots/metabolites\")){\n",
    "    dir.create(\"output_plots/metabolites\")\n",
    "}\n",
    "\n",
    "file.copy(from=list.files(pattern=\"./*pathview.png\"), to=\"./output_plots/metabolites/\", overwrite = TRUE)\n",
    "\n",
    "png_files = list.files(path = \".\", pattern = \"*.png\")\n",
    "xml_files = list.files(path = \".\", pattern = \"*.xml\")\n",
    "files = c(png_files, xml_files)\n",
    "unlink(files)\n"
   ]
  },
  {
   "cell_type": "markdown",
   "id": "1824fa25-6605-45fc-9622-bb0e8b9dd48b",
   "metadata": {},
   "source": [
    "3. This is one example of Pathview outputs. The rest of the generated figures are stored at `output_plots/metabolites/` directory. You can explore the files by clicking on them at the left-side panel."
   ]
  },
  {
   "cell_type": "markdown",
   "id": "49862410-9e6b-4993-b4b0-bd8aabafeb08",
   "metadata": {
    "tags": []
   },
   "source": [
    "<div style=\"max-width:1400px\"><img src=\"output_plots/metabolites/ko05230.pathview.png\" width=\"100%\"></div>"
   ]
  },
  {
   "cell_type": "code",
   "execution_count": null,
   "id": "f6fbbe40-8259-44b4-8468-c8535037004d",
   "metadata": {
    "tags": []
   },
   "outputs": [],
   "source": [
    "?pathview"
   ]
  },
  {
   "cell_type": "markdown",
   "id": "119204e1-81d8-4d1d-8407-776ed7e1d4dc",
   "metadata": {},
   "source": [
    " ### References: <a id='refs'/></a>"
   ]
  },
  {
   "cell_type": "markdown",
   "id": "d234455e-c703-420d-a28e-95f88a751fed",
   "metadata": {},
   "source": [
    "#### Datasets and databases papers:\n",
    "Honeybee datasets (used in parts 1 and 2 of this notebook):\n",
    "https://doi.org/10.1073/pnas.2000228117\n",
    "\n",
    "Metabolites dataset (used in part 3):\n",
    "https://doi.org/10.1038/s41564-018-0306-4\n",
    "\n",
    "The Curated Gut Microbiome Metabolome Data Resource (used in part 3):\n",
    "https://doi.org/10.1038/s41522-022-00345-5\n",
    "\n",
    "MGnify pipeline:\n",
    "https://doi.org/10.1093/nar/gkac1080\n",
    "\n",
    "KEGG database:\n",
    "https://doi.org/10.1093/nar/gkw1092\n",
    "\n",
    "\n",
    "#### R libraries:\n",
    " - `library(ALDEx2)` Gloor GB, Macklaim JM, Fernandes AD (2016). Displaying Variation in Large Datasets: a Visual Summary of Effect Sizes. Journal of Computational and Graphical Statistics, 2016 http://doi.org/10.1080/10618600.2015.1131161. R package version 1.30.0.\n",
    "\n",
    " - `library(data.table)` Matt Dowle and Arun Srinivasan (2023). data.table: Extension of `data.frame`. R package version 1.14.8. https://CRAN.R-project.org/package=data.table    \n",
    "\n",
    " - `library(dplyr)` Hadley Wickham, Romain François, Lionel Henry, Kirill Müller and Davis Vaughan (2023). dplyr: A Grammar of Data Manipulation. R package version 1.1.2. https://CRAN.R-project.org/package=dplyr\n",
    "\n",
    " - `library(IRdisplay)` Thomas Kluyver, Philipp Angerer and Jan Schulz (NA). IRdisplay: 'Jupyter' Display Machinery. R package version 1.1. https://github.com/IRkernel/IRdisplay\n",
    "\n",
    " - `library(KEGGREST)` Dan Tenenbaum and Bioconductor Package Maintainer (2021). KEGGREST: Client-side REST access to the Kyoto Encyclopedia of Genes and Genomes (KEGG). R package version 1.38.0.\n",
    "\n",
    " - `library(MGnifyR)` Ben Allen (2022). MGnifyR: R interface to EBI MGnify metagenomics resource. R package version 0.1.0.\n",
    "\n",
    " - `library(pathview)` Luo, W. and Brouwer C., Pathview: an R/Bioconductor package for pathway-based data integration and visualization. Bioinformatics, 2013, 29(14): 1830-1831, doi: 10.1093/bioinformatics/btt285. R package version 1.38.0.\n",
    "\n",
    " - `library(tidyjson)` Jeremy Stanley and Cole Arendt (2023). tidyjson: Tidy Complex 'JSON'. R package version 0.3.2. https://CRAN.R-project.org/package=tidyjson\n",
    "  \n",
    "\n",
    "#### Going deeper:\n",
    "\n",
    "If you want to learn more about using MGnifyR, you can follow the online tutorial available here:\n",
    "https://www.ebi.ac.uk/training/online/courses/metagenomics-bioinformatics/mgnifyr/\n",
    "\n",
    "KEGGREST documentation with multiple examples:\n",
    "https://www.bioconductor.org/packages/devel/bioc/vignettes/KEGGREST/inst/doc/KEGGREST-vignette.html\n",
    "\n",
    "Pathview user manual:\n",
    "https://www.bioconductor.org/packages/release/bioc/vignettes/pathview/inst/doc/pathview.pdf\n",
    "\n"
   ]
  },
  {
   "cell_type": "code",
   "execution_count": null,
   "id": "2b497ce2-a5f2-4d9f-89a3-87e598d968eb",
   "metadata": {},
   "outputs": [],
   "source": []
  }
 ],
 "metadata": {
  "kernelspec": {
   "display_name": "R (mgnify-r-env)",
   "language": "R",
   "name": "conda-env-mgnify-r-env-r"
  },
  "language_info": {
   "codemirror_mode": "r",
   "file_extension": ".r",
   "mimetype": "text/x-r-source",
   "name": "R",
   "pygments_lexer": "r",
   "version": "4.2.2"
  }
 },
 "nbformat": 4,
 "nbformat_minor": 5
}
