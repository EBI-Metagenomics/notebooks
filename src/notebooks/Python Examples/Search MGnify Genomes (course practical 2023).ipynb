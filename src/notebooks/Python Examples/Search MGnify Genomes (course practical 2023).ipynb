{
 "cells": [
  {
   "cell_type": "raw",
   "id": "49a40a34-7a8c-46ca-bc98-7878d56b5a1d",
   "metadata": {
    "jupyter": {
     "source_hidden": true
    },
    "tags": []
   },
   "source": [
    "---\n",
    "title: \"Search MGnify Genomes (MGnify course practical 2023)\"\n",
    "author:\n",
    "  - name: Sandy Rogers\n",
    "    orcid: 0000-0002-4283-6135\n",
    "    email: sandyr@ebi.ac.uk\n",
    "    affiliation: \n",
    "      - name: EMBL-EBI\n",
    "        url: www.ebi.ac.uk\n",
    "  - name: Virginie Grosboillot\n",
    "    affiliation:\n",
    "      - id: eth-z\n",
    "        name: ETH Zurich\n",
    "categories: [Python]\n",
    "execute: \n",
    "  eval: false\n",
    "---"
   ]
  },
  {
   "cell_type": "markdown",
   "id": "867ee43d-50ae-44e6-b7bd-363fc17cdf38",
   "metadata": {},
   "source": [
    "<div style=\"max-width:1200px\"><img src=\"../_resources/mgnify_banner.png\" width=\"100%\"></div>"
   ]
  },
  {
   "cell_type": "markdown",
   "id": "407e9af0-8f25-4839-8dbc-cf78f825c23b",
   "metadata": {},
   "source": [
    "<img src=\"../_resources/mgnify_logo.png\" width=\"200px\">"
   ]
  },
  {
   "cell_type": "markdown",
   "id": "d6d6d389-1b2d-499d-b3d0-fb573557173e",
   "metadata": {},
   "source": [
    "**This notebook is part of the practical session for the Metagenomics Bioinformatics at MGnify course (2023)**\n",
    "\n",
    "This is an interactive code notebook (a Jupyter Notebook).\n",
    "To run this code, click into each cell and press the ▶ button in the top toolbar, or press `shift+enter`."
   ]
  },
  {
   "cell_type": "markdown",
   "id": "90cb3d29-3cd9-4c44-9097-2dc4793b196e",
   "metadata": {},
   "source": [
    "# Comparing a set of MAGs (Metagenome Assembled Genomes) against MGnify's [MAG Catalogues](https://www.ebi.ac.uk/browse/genomes)\n",
    "\n",
    "In this practical, we will use the [sourmash library](https://sourmash.readthedocs.io/en/latest/) to compare a \"novel\" catalogue of MAGs against the existing catalogues of MAGs on MGnify.\n",
    "\n",
    "At small scale, this can be done [on the MGnify website](https://www.ebi.ac.uk/metagenomics/browse/genomes?browse-by=mag-search).\n",
    "\n",
    "But what about at large scale, with hundreds of newly assembled MAGs? Or in a pipeline?\n",
    "\n",
    "For that, we can use sourmash locally to produce \"sketches\" of our query MAGs, and the MGnify API to compare those against the catalogues."
   ]
  },
  {
   "cell_type": "code",
   "execution_count": null,
   "id": "522041f9-c4a8-443b-8906-8b1ea7e61580",
   "metadata": {
    "tags": []
   },
   "outputs": [],
   "source": [
    "import sourmash  # the library for computing sketches of dna sequences\n",
    "from Bio import SeqIO  # the library for dealing with FASTA files\n",
    "\n",
    "# standard libraries for finding and manipulating files and directories:\n",
    "import glob\n",
    "from os import mkdir\n",
    "import shutil\n",
    "from pathlib import PurePath\n",
    "\n",
    "import time\n",
    "\n",
    "# libraries for dealing with APIs and web requests:\n",
    "from jsonapi_client import Session as APISession\n",
    "from jsonapi_client import Modifier as APIModifier\n",
    "import requests\n",
    "\n",
    "# the quintessential python data tables manipulation and plotting libraries:\n",
    "import pandas as pd\n",
    "import matplotlib.pyplot as plt"
   ]
  },
  {
   "cell_type": "markdown",
   "id": "feb44482-110b-48cb-b88c-27e7c5c0a798",
   "metadata": {},
   "source": [
    "### Get the paths to our query MAGs\n",
    "\n",
    "If you completed the **MAG Generation** practical session of this course, you will have some of your own MAGs to use.\n",
    "\n",
    "To use them:"
   ]
  },
  {
   "cell_type": "code",
   "execution_count": null,
   "id": "c3138c95-0ed1-4841-9c22-e1ca396b4811",
   "metadata": {
    "tags": []
   },
   "outputs": [],
   "source": [
    "try:\n",
    "    mkdir('query-mags')\n",
    "except FileExistsError:\n",
    "    pass"
   ]
  },
  {
   "cell_type": "markdown",
   "id": "dfdcd461-ec47-45df-a94e-7af82a67f976",
   "metadata": {},
   "source": [
    "**Now open the `query-mags` directory in the left pane of Jupyter Lab, and drag-and-drop your MAGs into it.**"
   ]
  },
  {
   "cell_type": "markdown",
   "id": "0da2bb31-1812-49d7-a614-ec09b67d37c9",
   "metadata": {},
   "source": [
    "If you didn't complete the MAG generation practical, you can use some example data.\n",
    "\n",
    "Uncomment the code in the following cell to use the example data instead."
   ]
  },
  {
   "cell_type": "code",
   "execution_count": null,
   "id": "8feb1fd6-9774-4e77-b87a-c37045e3fb6d",
   "metadata": {
    "tags": []
   },
   "outputs": [],
   "source": [
    "# shutil.copytree('../example-data/genomes', './query-mags', ignore=shutil.ignore_patterns('*.parquet'), dirs_exist_ok=True)"
   ]
  },
  {
   "cell_type": "markdown",
   "id": "53064ed1-f959-49fa-9d7c-3b2d06523239",
   "metadata": {},
   "source": [
    "Now – however we got them – let's list the MAGs we will query with:"
   ]
  },
  {
   "cell_type": "code",
   "execution_count": null,
   "id": "c5575b0f-43e7-4d07-b7d8-4a1e32f74a7f",
   "metadata": {
    "tags": []
   },
   "outputs": [],
   "source": [
    "query_mags = glob.glob('query-mags/*.fa')\n",
    "\n",
    "query_mags"
   ]
  },
  {
   "cell_type": "markdown",
   "id": "91fe3a20-929f-490b-bbbc-195570a304ee",
   "metadata": {
    "tags": []
   },
   "source": [
    "### Compute a sourmash sketch for each MAG"
   ]
  },
  {
   "cell_type": "markdown",
   "id": "817423ef-3e79-42b1-8234-8b566aa20bcd",
   "metadata": {},
   "source": [
    "Create \"sketches\" for each MAG using [Sourmash](https://sourmash.readthedocs.io/en/latest/index.html#sourmash-in-brief)"
   ]
  },
  {
   "cell_type": "markdown",
   "id": "f346d773-eacc-4a33-a1ad-81abd2a4c6bf",
   "metadata": {},
   "source": [
    "A sketch goes into a signature, that we will use for searching. The signature is a sort of collection of hashes that are well suited for calculating the containment of your MAGs within the catalogue's MAGs."
   ]
  },
  {
   "cell_type": "markdown",
   "id": "07c0cd45-afb7-45d4-80cc-09b8c6db6eaa",
   "metadata": {},
   "source": [
    "<span style=\"background-color: #d0debb; color: #000; padding: 32px; font-weight: 800\">Complete the following piece of code</span>"
   ]
  },
  {
   "cell_type": "code",
   "execution_count": null,
   "id": "ed8a7218-d4fe-4249-8cf3-a6d2106a7335",
   "metadata": {
    "tags": []
   },
   "outputs": [],
   "source": [
    "for mag in ____________:\n",
    "\n",
    "    # The sourmash parameters are chosen to match those used within MGnify\n",
    "    sketch = sourmash.MinHash(n=0, ksize=31, scaled=1000)\n",
    "    \n",
    "    # A fasta file may have multiple records in it. Add them all to the sourmash signature.\n",
    "    for index, record in enumerate(SeqIO.parse(mag, 'fasta')):\n",
    "        sketch.add_sequence(str(______.seq))\n",
    "        \n",
    "    # Save the sourmash sketch as a \"signature\" file\n",
    "    signature = sourmash.SourmashSignature(sketch, name=record.name)\n",
    "    with open(f'query-mags/{PurePath(PurePath(mag).name).stem}.sig', 'wt') as fp:\n",
    "        sourmash.save_signatures([signature], fp)"
   ]
  },
  {
   "cell_type": "markdown",
   "id": "d28c9a09-62a4-4e88-ba1e-7987a90d39c0",
   "metadata": {},
   "source": [
    "You can unhide the following cell (click the •••) for a solution"
   ]
  },
  {
   "cell_type": "code",
   "execution_count": null,
   "id": "cc954ec3-5a20-47c4-80f8-f21981c78a77",
   "metadata": {
    "jupyter": {
     "source_hidden": true
    },
    "tags": []
   },
   "outputs": [],
   "source": [
    "for mag in query_mags:\n",
    "\n",
    "    # The sourmash parameters are chosen to match those used within MGnify\n",
    "    sketch = sourmash.MinHash(n=0, ksize=31, scaled=1000)\n",
    "    \n",
    "    # A fasta file may have multiple records in it. Add them all to the sourmash signature.\n",
    "    for index, record in enumerate(SeqIO.parse(mag, 'fasta')):\n",
    "        sketch.add_sequence(str(record.seq))\n",
    "        \n",
    "    # Save the sourmash sketch as a \"signature\" file\n",
    "    signature = sourmash.SourmashSignature(sketch, name=record.name)\n",
    "    with open(f'query-mags/{PurePath(PurePath(mag).name).stem}.sig', 'wt') as fp:\n",
    "        sourmash.save_signatures([signature], fp)"
   ]
  },
  {
   "cell_type": "markdown",
   "id": "1a3c92dd-9922-4adb-bdb3-d312bac0294c",
   "metadata": {},
   "source": [
    "All being well, we now have some `*.sig` signature files in the `query-mags` directory:"
   ]
  },
  {
   "cell_type": "code",
   "execution_count": null,
   "id": "83e2b87a-3ed5-4737-9fce-7602dfb108e9",
   "metadata": {
    "tags": []
   },
   "outputs": [],
   "source": [
    "glob.glob('query-mags/*.sig')"
   ]
  },
  {
   "cell_type": "markdown",
   "id": "04257c2f-298f-4df7-9364-fd5f1aeaec1b",
   "metadata": {},
   "source": [
    "### Fetch all of the catalogue IDs currently available on MGnify"
   ]
  },
  {
   "cell_type": "markdown",
   "id": "7b1f3a0b-ad33-4062-8250-a4f5638870b3",
   "metadata": {},
   "source": [
    "Next, we need to know which catalogues we can search against.\n",
    "\n",
    "We could figure this out by hand on the MGnify website, but again the API makes it programtically accessible.\n",
    "\n",
    "To fetch the `catalogue IDs` to the MGnify API, use the following endpoint: `https://www.ebi.ac.uk/metagenomics/api/v1/genome-catalogues`.  "
   ]
  },
  {
   "cell_type": "code",
   "execution_count": null,
   "id": "708faae2-82da-4352-8527-6fa4ab7e3609",
   "metadata": {
    "tags": []
   },
   "outputs": [],
   "source": [
    "catalogues_endpoint = \"genome-catalogues\""
   ]
  },
  {
   "cell_type": "code",
   "execution_count": null,
   "id": "7807ca21-07b9-43e2-a484-5589bde76294",
   "metadata": {
    "tags": []
   },
   "outputs": [],
   "source": [
    "with APISession(\"https://www.ebi.ac.uk/metagenomics/api/v1\") as mgnify:\n",
    "    catalogues = map(lambda r: r.json, mgnify.iterate(catalogues_endpoint))\n",
    "    catalogues = pd.json_normalize(catalogues)\n",
    "catalogues"
   ]
  },
  {
   "cell_type": "markdown",
   "id": "6721012d-2b49-488b-ae51-27466bfd6c41",
   "metadata": {},
   "source": [
    "<span style=\"background-color: #d0debb; color: #000; padding: 32px; font-weight: 800\">\n",
    "    Complete the following piece of code. We want to create a `list` of the catalogue `id`s.\n",
    "</span>"
   ]
  },
  {
   "cell_type": "code",
   "execution_count": null,
   "id": "ceccc19a-1d68-4be2-85ff-4dfec71bcbfb",
   "metadata": {
    "tags": []
   },
   "outputs": [],
   "source": [
    "catalogue_ids = ____________________\n",
    "\n",
    "catalogue_ids"
   ]
  },
  {
   "cell_type": "markdown",
   "id": "8cbd82db-5f6c-4565-9712-aad652040e79",
   "metadata": {},
   "source": [
    "You can unhide the following cell (click the •••) for a solution"
   ]
  },
  {
   "cell_type": "code",
   "execution_count": null,
   "id": "48a35aa2-16de-4b10-aa47-826e28d6b373",
   "metadata": {
    "jupyter": {
     "source_hidden": true
    },
    "tags": []
   },
   "outputs": [],
   "source": [
    "catalogue_ids = list(catalogues['id'])\n",
    "catalogue_ids"
   ]
  },
  {
   "cell_type": "markdown",
   "id": "98c47271-dfc1-4e79-9556-726e27a3a0c5",
   "metadata": {},
   "source": [
    "### Submit a search job to the MGnify API"
   ]
  },
  {
   "cell_type": "markdown",
   "id": "c94e88f2-0250-4c8f-ba55-3bd37f9f6e20",
   "metadata": {},
   "source": [
    "To`submit a job` to the MGnify API, use the following endpoint: `https://www.ebi.ac.uk/metagenomics/api/v1/genomes-search/gather`.  \n",
    "Data will be send to the API, which is called \"POST\"ing data in the API world.  \n",
    "This part of the API is quite specialized and so is not a formal JSON:API, the `requests` Python package ìs therefore used to communicate with it."
   ]
  },
  {
   "cell_type": "code",
   "execution_count": null,
   "id": "8a2e743a-1ffb-4ae5-a3d1-be2dfe959b6f",
   "metadata": {
    "tags": []
   },
   "outputs": [],
   "source": [
    "endpoint = 'https://www.ebi.ac.uk/metagenomics/api/v1/genomes-search/gather'"
   ]
  },
  {
   "cell_type": "markdown",
   "id": "56e5d469-9632-463e-9aae-925e5539754b",
   "metadata": {
    "tags": []
   },
   "source": [
    "<span style=\"background-color: #d0debb; color: #000; padding: 32px; font-weight: 800\">Complete the following piece of code</span>"
   ]
  },
  {
   "cell_type": "code",
   "execution_count": null,
   "id": "4e2d356e-eacd-4f5f-bc27-97575964d307",
   "metadata": {},
   "outputs": [],
   "source": [
    "# Create a list of file uploads, and attach them to the API request\n",
    "\n",
    "## First, read the contents of the .sig files into a list:\n",
    "sketch_file_pointers = [open(sig_file, 'rb') for sig_file in ____.____('__________/_.___')]\n",
    "\n",
    "## Next, make a list of tuples of the signature contents to send to the API:\n",
    "sketch_uploads = [('file_uploaded', sketch_file_pointer) for ___________________ in ____________________]\n",
    "\n",
    "# Send the API request - it specifies which catalogue IDs to search against and attaches all of the sketch files.\n",
    "submitted_job_response = requests.post(endpoint, data={'mag_catalogues': _____________}, files=______________)\n",
    "\n",
    "assert submitted_job_response.status_code == 200\n",
    "\n",
    "submitted_job = submitted_job_response.json()\n",
    "\n",
    "submitted_job"
   ]
  },
  {
   "cell_type": "markdown",
   "id": "a55a180b-931e-4706-8a6b-bdd2947235ef",
   "metadata": {},
   "source": [
    "You can unhide the following cell (click the •••) for a solution"
   ]
  },
  {
   "cell_type": "code",
   "execution_count": null,
   "id": "528cfb40-568b-49d3-9bd5-853a72259325",
   "metadata": {
    "jupyter": {
     "source_hidden": true
    },
    "tags": []
   },
   "outputs": [],
   "source": [
    "# Create a list of file uploads, and attach them to the API request\n",
    "\n",
    "## First, read the contents of the .sig files into a list:\n",
    "sketch_file_pointers = [open(sig_file, 'rb') for sig_file in glob.glob('query-mags/*.sig')]\n",
    "\n",
    "## Next, make a list of tuples of the signature contents to send to the API:\n",
    "sketch_uploads = [('file_uploaded', sketch_file_pointer) for sketch_file_pointer in sketch_file_pointers]\n",
    "\n",
    "# Send the API request - it specifies which catalogue IDs to search against and attaches all of the sketch files.\n",
    "submitted_job_response = requests.post(endpoint, data={'mag_catalogues': catalogue_ids}, files=sketch_uploads)\n",
    "\n",
    "assert submitted_job_response.status_code == 200\n",
    "\n",
    "submitted_job = submitted_job_response.json()\n",
    "\n",
    "submitted_job"
   ]
  },
  {
   "cell_type": "markdown",
   "id": "cd2b581f-cacd-4ba1-8bd0-575f81317b52",
   "metadata": {},
   "source": [
    "### Wait for the results to be ready"
   ]
  },
  {
   "cell_type": "markdown",
   "id": "93a07a23-7994-4f1d-81ca-895e8a9e3d3f",
   "metadata": {},
   "source": [
    "As you can see in the `printed submitted_job` above, a status_URL was returned in the response from submitting the job via the API. Since the job is in a queue, this status_URL must be polled to wait for our job to be completed.  \n",
    "Below is an example to check every 2 seconds until ALL of the jobs are finished. The time can be easily change (to 10s in the example below) by setting a different sleeping value:\n",
    "```python\n",
    "time.sleep(10)\n",
    "```"
   ]
  },
  {
   "cell_type": "code",
   "execution_count": null,
   "id": "9a0825fd-2dbe-454c-b49a-3bfade5adada",
   "metadata": {
    "tags": []
   },
   "outputs": [],
   "source": [
    "job_done = False\n",
    "while not job_done:\n",
    "    print('Checking status...')\n",
    "    # The status_URL is another API endpoint that's unique for the submitted search job\n",
    "    query_result = None\n",
    "    \n",
    "    while not query_result:\n",
    "        query_result = requests.get(submitted_job['data']['status_URL'])\n",
    "        print('Still waiting for jobs to complete. Current status of jobs')\n",
    "        print('Will check again in 2 seconds')\n",
    "        time.sleep(2) \n",
    "        \n",
    "    queries_status = {sig['job_id']: sig['status'] for sig in query_result.json()['data']['signatures']}\n",
    "    job_done = all(map(lambda q: q == 'SUCCESS', queries_status.values()))\n",
    "    \n",
    "print('Job done!')"
   ]
  },
  {
   "cell_type": "markdown",
   "id": "fe834b92-3762-435c-be03-e9e8b680b241",
   "metadata": {},
   "source": [
    "The `query_result` contains the results of the query.   \n",
    "The results can be visualised as json (try entering `query_results.json()`), or as a Pandas dataframe:"
   ]
  },
  {
   "cell_type": "markdown",
   "id": "e532fc7c-3d86-4e87-8027-34ac234136e4",
   "metadata": {},
   "source": [
    "<span style=\"background-color: #d0debb; color: #000; padding: 32px; font-weight: 800\">Complete the following piece of code. We want to create a Pandas dataframe from the JSON data at the JSON path `data.signatures` in the response.</span>"
   ]
  },
  {
   "cell_type": "code",
   "execution_count": null,
   "id": "ba6b2275-fae8-4178-bcc3-507fbb6b7126",
   "metadata": {},
   "outputs": [],
   "source": [
    "query_result_df = pd.json__________(query_result.json()['____']['__________'])\n",
    "\n",
    "query_result_df"
   ]
  },
  {
   "cell_type": "markdown",
   "id": "8a5911f5-fc61-44c1-ae97-fd5682cd2455",
   "metadata": {},
   "source": [
    "You can unhide the following cell (click the •••) for a solution"
   ]
  },
  {
   "cell_type": "code",
   "execution_count": null,
   "id": "1aaefffb-a782-4eff-8ea9-2e300d4aa633",
   "metadata": {
    "jupyter": {
     "source_hidden": true
    },
    "tags": []
   },
   "outputs": [],
   "source": [
    "query_result_df = pd.json_normalize(query_result.json()['data']['signatures'])\n",
    "query_result_df"
   ]
  },
  {
   "cell_type": "markdown",
   "id": "f3862cd7-bddc-43bb-a9ad-292687790d20",
   "metadata": {},
   "source": [
    "<span style=\"background-color: #d0debb; color: #000; padding: 32px; font-weight: 800\">Why are there the number of results that there are?</span>"
   ]
  },
  {
   "cell_type": "markdown",
   "id": "0283cfd5-e4c0-461c-8725-1780816b6e3a",
   "metadata": {
    "tags": []
   },
   "source": [
    "### Are any of our MAGs found in biomes other than the human gut?"
   ]
  },
  {
   "cell_type": "markdown",
   "id": "8f0033f3-1d67-4a2a-94e4-28ec3537fc7c",
   "metadata": {},
   "source": [
    "<span style=\"background-color: #d0debb; color: #000; padding: 32px; font-weight: 800\">Complete the following piece of code</span>"
   ]
  },
  {
   "cell_type": "markdown",
   "id": "8ba079a7-154f-45c0-86be-031e1ab4fe72",
   "metadata": {},
   "source": [
    "Use the pandas `dropna` method on the `query_result_df` dataframe to drop rows which have a `NaN` in the `result.match` column only."
   ]
  },
  {
   "cell_type": "code",
   "execution_count": null,
   "id": "bba7a840-d1dc-49be-b9f1-d493c5c58d50",
   "metadata": {},
   "outputs": [],
   "source": [
    "matches = _______________.______(subset=['______._____'])\n",
    "\n",
    "matches"
   ]
  },
  {
   "cell_type": "markdown",
   "id": "d3453ae3-ccb5-4b3a-bf5a-34b6dbf7d0ec",
   "metadata": {},
   "source": [
    "You can unhide the following cell (click the •••) for a solution"
   ]
  },
  {
   "cell_type": "code",
   "execution_count": null,
   "id": "068a2ccc-6b82-463f-a1e4-f4297328a78f",
   "metadata": {
    "jupyter": {
     "source_hidden": true
    },
    "tags": []
   },
   "outputs": [],
   "source": [
    "matches = query_result_df.dropna(subset=['result.match'])\n",
    "\n",
    "matches"
   ]
  },
  {
   "cell_type": "markdown",
   "id": "dbedb6f9-ef81-4535-adff-a588b88354fe",
   "metadata": {},
   "source": [
    "<span style=\"background-color: #d0debb; color: #000; padding: 32px; font-weight: 800\">Complete the following piece of code</span>"
   ]
  },
  {
   "cell_type": "markdown",
   "id": "ff1aaec2-7ef3-47ce-9e1e-aa2262f91cc6",
   "metadata": {},
   "source": [
    "Use the pandas `hist` method on the `matches` dataframe's `catalogue` column to show a histogram of the number of matches per catalogue:"
   ]
  },
  {
   "cell_type": "code",
   "execution_count": null,
   "id": "9d417bca-c5c9-47f3-9e6a-0403a569b15d",
   "metadata": {},
   "outputs": [],
   "source": [
    "matches._________.____()\n",
    "plt.xlabel('catalogue')\n",
    "plt.ylabel('number of matches')"
   ]
  },
  {
   "cell_type": "markdown",
   "id": "50ebe34c-8d95-4686-a600-df869ecb09ef",
   "metadata": {},
   "source": [
    "You can unhide the following cell (click the •••) for a solution"
   ]
  },
  {
   "cell_type": "code",
   "execution_count": null,
   "id": "c2bebdc5-fe8b-4a9f-b7d2-8dddb469b7ba",
   "metadata": {
    "jupyter": {
     "source_hidden": true
    },
    "tags": []
   },
   "outputs": [],
   "source": [
    "matches.catalogue.hist()\n",
    "plt.xlabel('catalogue')\n",
    "plt.ylabel('number of matches')"
   ]
  },
  {
   "cell_type": "markdown",
   "id": "24010036-7bb9-4320-bba0-02799f301c8c",
   "metadata": {},
   "source": [
    "### Bonus round\n",
    "\n",
    "Use the [MGnify API](https://www.ebi.ac.uk/metagenomics/api/v1) to fetch the detail of each matching genome (MGYG). Print a list of which continents (the `geographic_origin` attribute) each match is found in for each of the query MAGs."
   ]
  },
  {
   "cell_type": "code",
   "execution_count": null,
   "id": "0fa8e755-f6cb-42e9-ab44-8c8936fda560",
   "metadata": {
    "jupyter": {
     "source_hidden": true
    },
    "tags": []
   },
   "outputs": [],
   "source": [
    "matching_continents = {}\n",
    "\n",
    "with APISession(\"https://www.ebi.ac.uk/metagenomics/api/v1\") as mgnify:\n",
    "    for _, genome in matches.iterrows():\n",
    "        genome_detail = mgnify.get('genomes', genome['result.match'])\n",
    "        found_in = genome_detail.resource.geographic_origin\n",
    "        matching_continents.setdefault(genome.filename, []).append(found_in)\n",
    "        # print(matching_continents)\n",
    "for query_mag, continents in matching_continents.items():\n",
    "    print(f'Query MAG {query_mag} matched genomes found in {\", \".join(continents)}')"
   ]
  }
 ],
 "metadata": {
  "kernelspec": {
   "display_name": "Python (mgnify-py-env)",
   "language": "python",
   "name": "conda-env-mgnify-py-env-py"
  },
  "language_info": {
   "codemirror_mode": {
    "name": "ipython",
    "version": 3
   },
   "file_extension": ".py",
   "mimetype": "text/x-python",
   "name": "python",
   "nbconvert_exporter": "python",
   "pygments_lexer": "ipython3",
   "version": "3.11.0"
  }
 },
 "nbformat": 4,
 "nbformat_minor": 5
}
