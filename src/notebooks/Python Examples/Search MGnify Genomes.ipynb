{
 "cells": [
  {
   "cell_type": "raw",
   "id": "796355f4-32b8-4624-8b8f-7a799236e851",
   "metadata": {
    "jupyter": {
     "source_hidden": true
    },
    "tags": []
   },
   "source": [
    "---\n",
    "title: \"Search MGnify Genomes\"\n",
    "author: \"Virginie Grosboillot\"\n",
    "categories: [Python]\n",
    "execute: \n",
    "  enabled: true\n",
    "---"
   ]
  },
  {
   "cell_type": "markdown",
   "id": "7fe8e0e0-03c1-48e4-863e-68c4cd489ac9",
   "metadata": {},
   "source": [
    "<div style=\"max-width:1200px\"><img src=\"../_resources/mgnify_banner.png\" width=\"100%\"></div>"
   ]
  },
  {
   "cell_type": "markdown",
   "id": "db2a10ec-391f-4e94-9567-20cb317be480",
   "metadata": {},
   "source": [
    "<img src=\"../_resources/mgnify_logo.png\" width=\"200px\">"
   ]
  },
  {
   "cell_type": "markdown",
   "id": "109c2b12-e047-45e7-b971-6a6f6d5b1158",
   "metadata": {},
   "source": [
    "# How to use the “genome search” for MGnify MAGs"
   ]
  },
  {
   "cell_type": "markdown",
   "id": "f1df2905-91cc-402b-ba13-a897a70a2bf2",
   "metadata": {},
   "source": [
    "**This notebook aims to give an non-exhaustive overview on how to use the genome search API for MGnify MAGs.**\n",
    "\n",
    "This notebook is divided in 5 sections:\n",
    "- 1: Libraries needed to run the full notebook\n",
    "- 2: How to query the `genomes` database from the MGnify API, save and reload the results\n",
    "- 3: Explore the whole genome dataset\n",
    "- 4: Graphical representations\n",
    "- 5: Case study: Find out whether your own MAGs are novel compared to the MGnify catalogues\n",
    "\n",
    "This is an interactive code notebook (a Jupyter Notebook).\n",
    "To run this code, click into each cell and press the ▶ button in the top toolbar, or press `shift+enter`."
   ]
  },
  {
   "cell_type": "markdown",
   "id": "51528be3-5bab-4ef4-b2eb-e2dec76c53ff",
   "metadata": {},
   "source": [
    "## Import libraries"
   ]
  },
  {
   "cell_type": "markdown",
   "id": "048ab0e7-e29e-4fc2-b8d2-64c69d1c1a6b",
   "metadata": {},
   "source": [
    "Here are imported the necessary python libraries required to run the examples presented in this notebook."
   ]
  },
  {
   "cell_type": "code",
   "execution_count": 1,
   "id": "3a6568b0-c830-4909-802a-110903eda428",
   "metadata": {
    "tags": []
   },
   "outputs": [],
   "source": [
    "# Connection to MGnify API\n",
    "from jsonapi_client import Session as APISession\n",
    "from jsonapi_client import Modifier\n",
    "import requests\n",
    "\n",
    "# Dataframes and display\n",
    "import pandas as pd\n",
    "\n",
    "pd.set_option('display.max_columns', None)\n",
    "pd.set_option('display.max_colwidth', None)\n",
    "\n",
    "# Data transformation\n",
    "from functools import reduce\n",
    "\n",
    "# Plots\n",
    "import matplotlib.pyplot as plt\n",
    "import seaborn as sns\n",
    "import plotly.graph_objects as go\n",
    "%matplotlib inline \n",
    "\n",
    "# Create signature of MAGs for comparison against database\n",
    "import sourmash\n",
    "import glob\n",
    "import time\n",
    "from pathlib import PurePath as pp\n",
    "from Bio import SeqIO\n",
    "\n",
    "# Warning verbosity\n",
    "import warnings \n",
    "warnings.filterwarnings(action=\"ignore\")"
   ]
  },
  {
   "cell_type": "markdown",
   "id": "d9e8fd11-c18d-4f9f-b971-3a7340187483",
   "metadata": {},
   "source": [
    "## Query the `genomes` database from MGnify API"
   ]
  },
  {
   "cell_type": "markdown",
   "id": "821d29a2-5699-4137-8d9e-a16046b0daa3",
   "metadata": {},
   "source": [
    "For the genome dataset, use `genomes` endpoint.   \n",
    "A complete list of endpoints can be found at https://www.ebi.ac.uk/metagenomics/api/v1/."
   ]
  },
  {
   "cell_type": "code",
   "execution_count": 3,
   "id": "a141a7c4-2ce3-4ceb-a62f-001c0582bd86",
   "metadata": {
    "tags": []
   },
   "outputs": [],
   "source": [
    "endpoint_name = 'genomes'"
   ]
  },
  {
   "cell_type": "markdown",
   "id": "a6b1a1fc-0a99-4cbb-b205-1de6a07807fb",
   "metadata": {},
   "source": [
    "The function `Modifier` from the `jsonapi_client` module allows us to query for specific values in given fields (e.g.: 'geographic-origin', 'taxon-lineage').    \n",
    "One way to explore the available fields is to use `requests` to fetch the API endpoint:"
   ]
  },
  {
   "cell_type": "code",
   "execution_count": 4,
   "id": "e8122a2c-1007-417c-bce1-2b7b8cb9a00a",
   "metadata": {
    "tags": []
   },
   "outputs": [],
   "source": [
    "r = requests.get(f\"https://www.ebi.ac.uk/metagenomics/api/v1/{endpoint_name}\")"
   ]
  },
  {
   "cell_type": "code",
   "execution_count": 5,
   "id": "52e09911-7eb1-481b-b85c-404b68a565a1",
   "metadata": {
    "tags": []
   },
   "outputs": [
    {
     "data": {
      "text/plain": [
       "{'type': 'genomes',\n",
       " 'id': 'MGYG000303671',\n",
       " 'attributes': {'genome-id': 15495,\n",
       "  'geographic-origin': 'Asia',\n",
       "  'geographic-range': [],\n",
       "  'accession': 'MGYG000303671',\n",
       "  'ena-genome-accession': None,\n",
       "  'ena-sample-accession': None,\n",
       "  'ena-study-accession': 'SRP272619',\n",
       "  'ncbi-genome-accession': 'GCA_016303265',\n",
       "  'ncbi-sample-accession': 'SAMN16927400',\n",
       "  'ncbi-study-accession': None,\n",
       "  'img-genome-accession': None,\n",
       "  'patric-genome-accession': None,\n",
       "  'length': 1584781,\n",
       "  'num-contigs': 173,\n",
       "  'n-50': 12841,\n",
       "  'gc-content': 43.6,\n",
       "  'type': 'MAG',\n",
       "  'completeness': 84.08,\n",
       "  'contamination': 2.71,\n",
       "  'rna-5s': 0.0,\n",
       "  'rna-16s': 0.0,\n",
       "  'rna-23s': 0.0,\n",
       "  'trnas': 13.0,\n",
       "  'nc-rnas': 19,\n",
       "  'num-proteins': 1447,\n",
       "  'eggnog-coverage': 90.12,\n",
       "  'ipr-coverage': 88.8,\n",
       "  'taxon-lineage': 'd__Bacteria;p__Firmicutes_A;c__Clostridia;o__Monoglobales;f__Monoglobaceae;g__SIG454;s__SIG454 sp016303265',\n",
       "  'num-genomes-total': 1,\n",
       "  'pangenome-size': None,\n",
       "  'pangenome-core-size': None,\n",
       "  'pangenome-accessory-size': None,\n",
       "  'last-update': '2022-11-29T11:36:29.962422',\n",
       "  'first-created': '2022-11-29T11:36:29.959975'},\n",
       " 'relationships': {'kegg-modules-matches': {'links': {'related': 'https://www.ebi.ac.uk/metagenomics/api/v1/genomes/MGYG000303671/kegg-module'}},\n",
       "  'biome': {'data': {'type': 'biomes',\n",
       "    'id': 'root:Host-associated:Mammals:Gastrointestinal tract'},\n",
       "   'links': {'related': 'https://www.ebi.ac.uk/metagenomics/api/v1/biomes/root:Host-associated:Mammals:Gastrointestinal%20tract'}},\n",
       "  'cog-matches': {'links': {'related': 'https://www.ebi.ac.uk/metagenomics/api/v1/genomes/MGYG000303671/cogs'}},\n",
       "  'kegg-class-matches': {'links': {'related': 'https://www.ebi.ac.uk/metagenomics/api/v1/genomes/MGYG000303671/kegg-class'}},\n",
       "  'catalogue': {'data': {'type': 'genome-catalogues', 'id': 'pig-gut-v1-0'},\n",
       "   'links': {'related': 'https://www.ebi.ac.uk/metagenomics/api/v1/genome-catalogues/pig-gut-v1-0'}},\n",
       "  'downloads': {'links': {'related': 'https://www.ebi.ac.uk/metagenomics/api/v1/genomes/MGYG000303671/downloads'}},\n",
       "  'antismash-geneclusters': {'links': {'related': 'https://www.ebi.ac.uk/metagenomics/api/v1/genomes/MGYG000303671/antismash-genecluster'}}},\n",
       " 'links': {'self': 'https://www.ebi.ac.uk/metagenomics/api/v1/genomes/MGYG000303671'}}"
      ]
     },
     "execution_count": 5,
     "metadata": {},
     "output_type": "execute_result"
    }
   ],
   "source": [
    "r.json()['data'][0]"
   ]
  },
  {
   "cell_type": "markdown",
   "id": "a7efc9a7-f2a0-4991-9489-074907254c1e",
   "metadata": {},
   "source": [
    "### Get information for a specific genus or species"
   ]
  },
  {
   "cell_type": "markdown",
   "id": "0dbf63a8-aa24-40f9-9954-8b903e77557a",
   "metadata": {},
   "source": [
    "**Examples:**\n",
    "Search for available ressources for a specific genus or species of interest.  \n",
    "- *Listeria*\n",
    "- *Listeria monocytogenes*\n"
   ]
  },
  {
   "cell_type": "markdown",
   "id": "61489d88-ab80-4c8a-9df7-38a81740e568",
   "metadata": {},
   "source": [
    "The `taxon-lineage` field contains domain, phylum, class, order, family, genus, species, subspecies as `d__Bacteria;p__Firmicutes;c__Bacilli;o__Lactobacillales;f__Listeriaceae;g__Listeria;s__Listeria monocytogenes`(example for *Listeria monocytogenes*).   \n",
    "The filter can use the full lineage `d__Bacteria;p__Firmicutes;c__Bacilli;o__Lactobacillales;f__Listeriaceae;g__Listeria` or only part of it `g__Listeria` or `Listeria`."
   ]
  },
  {
   "cell_type": "markdown",
   "id": "f764c141-ac1a-4d00-b3a2-7ed5a1b36faf",
   "metadata": {},
   "source": [
    "#### Set the desired filter(s)"
   ]
  },
  {
   "cell_type": "code",
   "execution_count": 7,
   "id": "b93e0463-e674-4c14-a5aa-f34da11dd649",
   "metadata": {
    "tags": []
   },
   "outputs": [],
   "source": [
    "genus_filter = 'Listeria'\n",
    "species_filter = 'Listeria monocytogenes'"
   ]
  },
  {
   "cell_type": "markdown",
   "id": "92b3c558-3a8f-403b-bbcc-92d2a52e5d17",
   "metadata": {},
   "source": [
    "#### Query the database with the 'Listeria' filter and store the results in a Pandas DataFrame."
   ]
  },
  {
   "cell_type": "code",
   "execution_count": 8,
   "id": "d9ef9a46-430c-4d38-9cd1-1d3ed3518640",
   "metadata": {
    "tags": []
   },
   "outputs": [],
   "source": [
    "with APISession(\"https://www.ebi.ac.uk/metagenomics/api/v1\") as mgnify:\n",
    "    search_filter = Modifier(f\"taxon_lineage={genus_filter}\")\n",
    "    resources = map(lambda r: r.json, mgnify.iterate(endpoint_name, filter=search_filter))\n",
    "    resources_df = pd.json_normalize(resources)"
   ]
  },
  {
   "cell_type": "code",
   "execution_count": 9,
   "id": "900d6c4c-bec9-4e36-bbd7-e8199ad33a9c",
   "metadata": {
    "tags": []
   },
   "outputs": [
    {
     "data": {
      "text/html": [
       "<div>\n",
       "<style scoped>\n",
       "    .dataframe tbody tr th:only-of-type {\n",
       "        vertical-align: middle;\n",
       "    }\n",
       "\n",
       "    .dataframe tbody tr th {\n",
       "        vertical-align: top;\n",
       "    }\n",
       "\n",
       "    .dataframe thead th {\n",
       "        text-align: right;\n",
       "    }\n",
       "</style>\n",
       "<table border=\"1\" class=\"dataframe\">\n",
       "  <thead>\n",
       "    <tr style=\"text-align: right;\">\n",
       "      <th></th>\n",
       "      <th>type</th>\n",
       "      <th>id</th>\n",
       "      <th>attributes.genome-id</th>\n",
       "      <th>attributes.geographic-range</th>\n",
       "      <th>attributes.geographic-origin</th>\n",
       "      <th>attributes.accession</th>\n",
       "      <th>attributes.ncbi-sample-accession</th>\n",
       "      <th>attributes.ncbi-study-accession</th>\n",
       "      <th>attributes.length</th>\n",
       "      <th>attributes.num-contigs</th>\n",
       "      <th>attributes.n-50</th>\n",
       "      <th>attributes.gc-content</th>\n",
       "      <th>attributes.type</th>\n",
       "      <th>attributes.completeness</th>\n",
       "      <th>attributes.contamination</th>\n",
       "      <th>attributes.rna-5s</th>\n",
       "      <th>attributes.rna-16s</th>\n",
       "      <th>attributes.rna-23s</th>\n",
       "      <th>attributes.trnas</th>\n",
       "      <th>attributes.nc-rnas</th>\n",
       "      <th>attributes.num-proteins</th>\n",
       "      <th>attributes.eggnog-coverage</th>\n",
       "      <th>attributes.ipr-coverage</th>\n",
       "      <th>attributes.taxon-lineage</th>\n",
       "      <th>attributes.num-genomes-total</th>\n",
       "      <th>attributes.pangenome-size</th>\n",
       "      <th>attributes.pangenome-core-size</th>\n",
       "      <th>attributes.pangenome-accessory-size</th>\n",
       "      <th>attributes.last-update</th>\n",
       "      <th>attributes.first-created</th>\n",
       "      <th>relationships.catalogue.data.id</th>\n",
       "      <th>relationships.catalogue.data.type</th>\n",
       "      <th>relationships.biome.data.id</th>\n",
       "      <th>relationships.biome.data.type</th>\n",
       "    </tr>\n",
       "  </thead>\n",
       "  <tbody>\n",
       "    <tr>\n",
       "      <th>0</th>\n",
       "      <td>genomes</td>\n",
       "      <td>MGYG000002392</td>\n",
       "      <td>6517</td>\n",
       "      <td>[NA]</td>\n",
       "      <td>not provided</td>\n",
       "      <td>MGYG000002392</td>\n",
       "      <td>SAMN09947982</td>\n",
       "      <td>PRJNA486730</td>\n",
       "      <td>2941624</td>\n",
       "      <td>14</td>\n",
       "      <td>443696</td>\n",
       "      <td>37.79</td>\n",
       "      <td>Isolate</td>\n",
       "      <td>99.45</td>\n",
       "      <td>0.00</td>\n",
       "      <td>94.96</td>\n",
       "      <td>99.67</td>\n",
       "      <td>99.83</td>\n",
       "      <td>20.0</td>\n",
       "      <td>105</td>\n",
       "      <td>2895</td>\n",
       "      <td>98.20</td>\n",
       "      <td>92.92</td>\n",
       "      <td>d__Bacteria;p__Firmicutes;c__Bacilli;o__Lactobacillales;f__Listeriaceae;g__Listeria;s__Listeria monocytogenes</td>\n",
       "      <td>2</td>\n",
       "      <td>2975.0</td>\n",
       "      <td>2760.0</td>\n",
       "      <td>215.0</td>\n",
       "      <td>2021-12-07T19:05:27.619229</td>\n",
       "      <td>2021-12-07T19:05:27.616284</td>\n",
       "      <td>human-gut-v2-0-1</td>\n",
       "      <td>genome-catalogues</td>\n",
       "      <td>root:Host-associated:Human:Digestive system:Large intestine</td>\n",
       "      <td>biomes</td>\n",
       "    </tr>\n",
       "    <tr>\n",
       "      <th>1</th>\n",
       "      <td>genomes</td>\n",
       "      <td>MGYG000002325</td>\n",
       "      <td>6025</td>\n",
       "      <td>[North America, Europe, NA]</td>\n",
       "      <td>North America</td>\n",
       "      <td>MGYG000002325</td>\n",
       "      <td>SAMN07124731</td>\n",
       "      <td>PRJNA167876</td>\n",
       "      <td>3017944</td>\n",
       "      <td>1</td>\n",
       "      <td>3017944</td>\n",
       "      <td>37.96</td>\n",
       "      <td>Isolate</td>\n",
       "      <td>99.45</td>\n",
       "      <td>0.00</td>\n",
       "      <td>94.96</td>\n",
       "      <td>99.67</td>\n",
       "      <td>99.79</td>\n",
       "      <td>20.0</td>\n",
       "      <td>108</td>\n",
       "      <td>2967</td>\n",
       "      <td>97.84</td>\n",
       "      <td>92.25</td>\n",
       "      <td>d__Bacteria;p__Firmicutes;c__Bacilli;o__Lactobacillales;f__Listeriaceae;g__Listeria;s__Listeria monocytogenes_B</td>\n",
       "      <td>7</td>\n",
       "      <td>3286.0</td>\n",
       "      <td>2650.0</td>\n",
       "      <td>636.0</td>\n",
       "      <td>2021-12-07T18:49:57.209400</td>\n",
       "      <td>2021-12-07T18:49:57.206690</td>\n",
       "      <td>human-gut-v2-0-1</td>\n",
       "      <td>genome-catalogues</td>\n",
       "      <td>root:Host-associated:Human:Digestive system:Large intestine</td>\n",
       "      <td>biomes</td>\n",
       "    </tr>\n",
       "    <tr>\n",
       "      <th>2</th>\n",
       "      <td>genomes</td>\n",
       "      <td>MGYG000001395</td>\n",
       "      <td>5358</td>\n",
       "      <td>[]</td>\n",
       "      <td>not provided</td>\n",
       "      <td>MGYG000001395</td>\n",
       "      <td>SAMN02299452</td>\n",
       "      <td>PRJNA224116</td>\n",
       "      <td>2890785</td>\n",
       "      <td>45</td>\n",
       "      <td>227246</td>\n",
       "      <td>37.35</td>\n",
       "      <td>Isolate</td>\n",
       "      <td>99.45</td>\n",
       "      <td>0.55</td>\n",
       "      <td>94.96</td>\n",
       "      <td>93.93</td>\n",
       "      <td>99.83</td>\n",
       "      <td>18.0</td>\n",
       "      <td>86</td>\n",
       "      <td>2880</td>\n",
       "      <td>97.15</td>\n",
       "      <td>91.77</td>\n",
       "      <td>d__Bacteria;p__Firmicutes;c__Bacilli;o__Lactobacillales;f__Listeriaceae;g__Listeria;s__Listeria innocua</td>\n",
       "      <td>1</td>\n",
       "      <td>NaN</td>\n",
       "      <td>NaN</td>\n",
       "      <td>NaN</td>\n",
       "      <td>2021-12-07T18:25:36.389648</td>\n",
       "      <td>2021-12-07T18:25:36.386977</td>\n",
       "      <td>human-gut-v2-0-1</td>\n",
       "      <td>genome-catalogues</td>\n",
       "      <td>root:Host-associated:Human:Digestive system:Large intestine</td>\n",
       "      <td>biomes</td>\n",
       "    </tr>\n",
       "    <tr>\n",
       "      <th>3</th>\n",
       "      <td>genomes</td>\n",
       "      <td>MGYG000001298</td>\n",
       "      <td>8569</td>\n",
       "      <td>[Europe]</td>\n",
       "      <td>Europe</td>\n",
       "      <td>MGYG000001298</td>\n",
       "      <td>SAMN00001446</td>\n",
       "      <td>PRJNA224116</td>\n",
       "      <td>2589961</td>\n",
       "      <td>6</td>\n",
       "      <td>982217</td>\n",
       "      <td>41.60</td>\n",
       "      <td>Isolate</td>\n",
       "      <td>99.45</td>\n",
       "      <td>0.00</td>\n",
       "      <td>94.96</td>\n",
       "      <td>99.67</td>\n",
       "      <td>99.83</td>\n",
       "      <td>20.0</td>\n",
       "      <td>64</td>\n",
       "      <td>2561</td>\n",
       "      <td>95.28</td>\n",
       "      <td>91.88</td>\n",
       "      <td>d__Bacteria;p__Firmicutes;c__Bacilli;o__Lactobacillales;f__Listeriaceae;g__Listeria;s__Listeria grayi</td>\n",
       "      <td>2</td>\n",
       "      <td>2552.0</td>\n",
       "      <td>2552.0</td>\n",
       "      <td>0.0</td>\n",
       "      <td>2021-12-07T20:02:11.108760</td>\n",
       "      <td>2021-12-07T20:02:11.105691</td>\n",
       "      <td>human-gut-v2-0-1</td>\n",
       "      <td>genome-catalogues</td>\n",
       "      <td>root:Host-associated:Human:Digestive system:Large intestine</td>\n",
       "      <td>biomes</td>\n",
       "    </tr>\n",
       "  </tbody>\n",
       "</table>\n",
       "</div>"
      ],
      "text/plain": [
       "      type             id  attributes.genome-id  attributes.geographic-range  \\\n",
       "0  genomes  MGYG000002392                  6517                         [NA]   \n",
       "1  genomes  MGYG000002325                  6025  [North America, Europe, NA]   \n",
       "2  genomes  MGYG000001395                  5358                           []   \n",
       "3  genomes  MGYG000001298                  8569                     [Europe]   \n",
       "\n",
       "  attributes.geographic-origin attributes.accession  \\\n",
       "0                 not provided        MGYG000002392   \n",
       "1                North America        MGYG000002325   \n",
       "2                 not provided        MGYG000001395   \n",
       "3                       Europe        MGYG000001298   \n",
       "\n",
       "  attributes.ncbi-sample-accession attributes.ncbi-study-accession  \\\n",
       "0                     SAMN09947982                     PRJNA486730   \n",
       "1                     SAMN07124731                     PRJNA167876   \n",
       "2                     SAMN02299452                     PRJNA224116   \n",
       "3                     SAMN00001446                     PRJNA224116   \n",
       "\n",
       "   attributes.length  attributes.num-contigs  attributes.n-50  \\\n",
       "0            2941624                      14           443696   \n",
       "1            3017944                       1          3017944   \n",
       "2            2890785                      45           227246   \n",
       "3            2589961                       6           982217   \n",
       "\n",
       "   attributes.gc-content attributes.type  attributes.completeness  \\\n",
       "0                  37.79         Isolate                    99.45   \n",
       "1                  37.96         Isolate                    99.45   \n",
       "2                  37.35         Isolate                    99.45   \n",
       "3                  41.60         Isolate                    99.45   \n",
       "\n",
       "   attributes.contamination  attributes.rna-5s  attributes.rna-16s  \\\n",
       "0                      0.00              94.96               99.67   \n",
       "1                      0.00              94.96               99.67   \n",
       "2                      0.55              94.96               93.93   \n",
       "3                      0.00              94.96               99.67   \n",
       "\n",
       "   attributes.rna-23s  attributes.trnas  attributes.nc-rnas  \\\n",
       "0               99.83              20.0                 105   \n",
       "1               99.79              20.0                 108   \n",
       "2               99.83              18.0                  86   \n",
       "3               99.83              20.0                  64   \n",
       "\n",
       "   attributes.num-proteins  attributes.eggnog-coverage  \\\n",
       "0                     2895                       98.20   \n",
       "1                     2967                       97.84   \n",
       "2                     2880                       97.15   \n",
       "3                     2561                       95.28   \n",
       "\n",
       "   attributes.ipr-coverage  \\\n",
       "0                    92.92   \n",
       "1                    92.25   \n",
       "2                    91.77   \n",
       "3                    91.88   \n",
       "\n",
       "                                                                                          attributes.taxon-lineage  \\\n",
       "0    d__Bacteria;p__Firmicutes;c__Bacilli;o__Lactobacillales;f__Listeriaceae;g__Listeria;s__Listeria monocytogenes   \n",
       "1  d__Bacteria;p__Firmicutes;c__Bacilli;o__Lactobacillales;f__Listeriaceae;g__Listeria;s__Listeria monocytogenes_B   \n",
       "2          d__Bacteria;p__Firmicutes;c__Bacilli;o__Lactobacillales;f__Listeriaceae;g__Listeria;s__Listeria innocua   \n",
       "3            d__Bacteria;p__Firmicutes;c__Bacilli;o__Lactobacillales;f__Listeriaceae;g__Listeria;s__Listeria grayi   \n",
       "\n",
       "   attributes.num-genomes-total  attributes.pangenome-size  \\\n",
       "0                             2                     2975.0   \n",
       "1                             7                     3286.0   \n",
       "2                             1                        NaN   \n",
       "3                             2                     2552.0   \n",
       "\n",
       "   attributes.pangenome-core-size  attributes.pangenome-accessory-size  \\\n",
       "0                          2760.0                                215.0   \n",
       "1                          2650.0                                636.0   \n",
       "2                             NaN                                  NaN   \n",
       "3                          2552.0                                  0.0   \n",
       "\n",
       "       attributes.last-update    attributes.first-created  \\\n",
       "0  2021-12-07T19:05:27.619229  2021-12-07T19:05:27.616284   \n",
       "1  2021-12-07T18:49:57.209400  2021-12-07T18:49:57.206690   \n",
       "2  2021-12-07T18:25:36.389648  2021-12-07T18:25:36.386977   \n",
       "3  2021-12-07T20:02:11.108760  2021-12-07T20:02:11.105691   \n",
       "\n",
       "  relationships.catalogue.data.id relationships.catalogue.data.type  \\\n",
       "0                human-gut-v2-0-1                 genome-catalogues   \n",
       "1                human-gut-v2-0-1                 genome-catalogues   \n",
       "2                human-gut-v2-0-1                 genome-catalogues   \n",
       "3                human-gut-v2-0-1                 genome-catalogues   \n",
       "\n",
       "                                   relationships.biome.data.id  \\\n",
       "0  root:Host-associated:Human:Digestive system:Large intestine   \n",
       "1  root:Host-associated:Human:Digestive system:Large intestine   \n",
       "2  root:Host-associated:Human:Digestive system:Large intestine   \n",
       "3  root:Host-associated:Human:Digestive system:Large intestine   \n",
       "\n",
       "  relationships.biome.data.type  \n",
       "0                        biomes  \n",
       "1                        biomes  \n",
       "2                        biomes  \n",
       "3                        biomes  "
      ]
     },
     "execution_count": 9,
     "metadata": {},
     "output_type": "execute_result"
    }
   ],
   "source": [
    "# Display the table containing the results of the query\n",
    "resources_df"
   ]
  },
  {
   "cell_type": "markdown",
   "id": "6f2211a2-35b3-4c58-bedd-3a87f3f5a9fe",
   "metadata": {},
   "source": [
    "**Output:** Four entries are obtained for *Listeria* genus. "
   ]
  },
  {
   "cell_type": "markdown",
   "id": "8d2f86f9-eaf8-4706-af0b-27683d5e0ee5",
   "metadata": {},
   "source": [
    "#### Query the database with the 'Listeria monocytogenes' filter and store the results in a Pandas DataFrame."
   ]
  },
  {
   "cell_type": "code",
   "execution_count": 8,
   "id": "90521ff6-2a05-4ced-9884-c1d5a7d8968c",
   "metadata": {},
   "outputs": [],
   "source": [
    "with APISession(\"https://www.ebi.ac.uk/metagenomics/api/v1\") as mgnify:\n",
    "    search_filter_2 = Modifier(f\"taxon_lineage={species_filter}\")\n",
    "    resources_2 = map(lambda r: r.json, mgnify.iterate(endpoint_name, filter=search_filter_2))\n",
    "    resources_df_2 = pd.json_normalize(resources_2)"
   ]
  },
  {
   "cell_type": "code",
   "execution_count": 9,
   "id": "83392e36-0d01-4647-9684-89b197ea3620",
   "metadata": {},
   "outputs": [
    {
     "data": {
      "text/html": [
       "<div>\n",
       "<style scoped>\n",
       "    .dataframe tbody tr th:only-of-type {\n",
       "        vertical-align: middle;\n",
       "    }\n",
       "\n",
       "    .dataframe tbody tr th {\n",
       "        vertical-align: top;\n",
       "    }\n",
       "\n",
       "    .dataframe thead th {\n",
       "        text-align: right;\n",
       "    }\n",
       "</style>\n",
       "<table border=\"1\" class=\"dataframe\">\n",
       "  <thead>\n",
       "    <tr style=\"text-align: right;\">\n",
       "      <th></th>\n",
       "      <th>type</th>\n",
       "      <th>id</th>\n",
       "      <th>attributes.genome-id</th>\n",
       "      <th>attributes.geographic-origin</th>\n",
       "      <th>attributes.geographic-range</th>\n",
       "      <th>attributes.accession</th>\n",
       "      <th>attributes.ncbi-sample-accession</th>\n",
       "      <th>attributes.ncbi-study-accession</th>\n",
       "      <th>attributes.length</th>\n",
       "      <th>attributes.num-contigs</th>\n",
       "      <th>attributes.n-50</th>\n",
       "      <th>attributes.gc-content</th>\n",
       "      <th>attributes.type</th>\n",
       "      <th>attributes.completeness</th>\n",
       "      <th>attributes.contamination</th>\n",
       "      <th>attributes.rna-5s</th>\n",
       "      <th>attributes.rna-16s</th>\n",
       "      <th>attributes.rna-23s</th>\n",
       "      <th>attributes.trnas</th>\n",
       "      <th>attributes.nc-rnas</th>\n",
       "      <th>attributes.num-proteins</th>\n",
       "      <th>attributes.eggnog-coverage</th>\n",
       "      <th>attributes.ipr-coverage</th>\n",
       "      <th>attributes.taxon-lineage</th>\n",
       "      <th>attributes.num-genomes-total</th>\n",
       "      <th>attributes.pangenome-size</th>\n",
       "      <th>attributes.pangenome-core-size</th>\n",
       "      <th>attributes.pangenome-accessory-size</th>\n",
       "      <th>attributes.last-update</th>\n",
       "      <th>attributes.first-created</th>\n",
       "      <th>relationships.biome.data.id</th>\n",
       "      <th>relationships.biome.data.type</th>\n",
       "      <th>relationships.catalogue.data.id</th>\n",
       "      <th>relationships.catalogue.data.type</th>\n",
       "    </tr>\n",
       "  </thead>\n",
       "  <tbody>\n",
       "    <tr>\n",
       "      <th>0</th>\n",
       "      <td>genomes</td>\n",
       "      <td>MGYG000002392</td>\n",
       "      <td>6517</td>\n",
       "      <td>not provided</td>\n",
       "      <td>[NA]</td>\n",
       "      <td>MGYG000002392</td>\n",
       "      <td>SAMN09947982</td>\n",
       "      <td>PRJNA486730</td>\n",
       "      <td>2941624</td>\n",
       "      <td>14</td>\n",
       "      <td>443696</td>\n",
       "      <td>37.79</td>\n",
       "      <td>Isolate</td>\n",
       "      <td>99.45</td>\n",
       "      <td>0.0</td>\n",
       "      <td>94.96</td>\n",
       "      <td>99.67</td>\n",
       "      <td>99.83</td>\n",
       "      <td>20.0</td>\n",
       "      <td>105</td>\n",
       "      <td>2895</td>\n",
       "      <td>98.20</td>\n",
       "      <td>92.92</td>\n",
       "      <td>d__Bacteria;p__Firmicutes;c__Bacilli;o__Lactobacillales;f__Listeriaceae;g__Listeria;s__Listeria monocytogenes</td>\n",
       "      <td>2</td>\n",
       "      <td>2975</td>\n",
       "      <td>2760</td>\n",
       "      <td>215</td>\n",
       "      <td>2021-12-07T19:05:27.619229</td>\n",
       "      <td>2021-12-07T19:05:27.616284</td>\n",
       "      <td>root:Host-associated:Human:Digestive system:Large intestine</td>\n",
       "      <td>biomes</td>\n",
       "      <td>human-gut-v2-0</td>\n",
       "      <td>genome-catalogues</td>\n",
       "    </tr>\n",
       "    <tr>\n",
       "      <th>1</th>\n",
       "      <td>genomes</td>\n",
       "      <td>MGYG000002325</td>\n",
       "      <td>6025</td>\n",
       "      <td>North America</td>\n",
       "      <td>[North America, Europe, NA]</td>\n",
       "      <td>MGYG000002325</td>\n",
       "      <td>SAMN07124731</td>\n",
       "      <td>PRJNA167876</td>\n",
       "      <td>3017944</td>\n",
       "      <td>1</td>\n",
       "      <td>3017944</td>\n",
       "      <td>37.96</td>\n",
       "      <td>Isolate</td>\n",
       "      <td>99.45</td>\n",
       "      <td>0.0</td>\n",
       "      <td>94.96</td>\n",
       "      <td>99.67</td>\n",
       "      <td>99.79</td>\n",
       "      <td>20.0</td>\n",
       "      <td>108</td>\n",
       "      <td>2967</td>\n",
       "      <td>97.84</td>\n",
       "      <td>92.25</td>\n",
       "      <td>d__Bacteria;p__Firmicutes;c__Bacilli;o__Lactobacillales;f__Listeriaceae;g__Listeria;s__Listeria monocytogenes_B</td>\n",
       "      <td>7</td>\n",
       "      <td>3286</td>\n",
       "      <td>2650</td>\n",
       "      <td>636</td>\n",
       "      <td>2021-12-07T18:49:57.209400</td>\n",
       "      <td>2021-12-07T18:49:57.206690</td>\n",
       "      <td>root:Host-associated:Human:Digestive system:Large intestine</td>\n",
       "      <td>biomes</td>\n",
       "      <td>human-gut-v2-0</td>\n",
       "      <td>genome-catalogues</td>\n",
       "    </tr>\n",
       "  </tbody>\n",
       "</table>\n",
       "</div>"
      ],
      "text/plain": [
       "      type             id  attributes.genome-id attributes.geographic-origin  \\\n",
       "0  genomes  MGYG000002392                  6517                 not provided   \n",
       "1  genomes  MGYG000002325                  6025                North America   \n",
       "\n",
       "   attributes.geographic-range attributes.accession  \\\n",
       "0                         [NA]        MGYG000002392   \n",
       "1  [North America, Europe, NA]        MGYG000002325   \n",
       "\n",
       "  attributes.ncbi-sample-accession attributes.ncbi-study-accession  \\\n",
       "0                     SAMN09947982                     PRJNA486730   \n",
       "1                     SAMN07124731                     PRJNA167876   \n",
       "\n",
       "   attributes.length  attributes.num-contigs  attributes.n-50  \\\n",
       "0            2941624                      14           443696   \n",
       "1            3017944                       1          3017944   \n",
       "\n",
       "   attributes.gc-content attributes.type  attributes.completeness  \\\n",
       "0                  37.79         Isolate                    99.45   \n",
       "1                  37.96         Isolate                    99.45   \n",
       "\n",
       "   attributes.contamination  attributes.rna-5s  attributes.rna-16s  \\\n",
       "0                       0.0              94.96               99.67   \n",
       "1                       0.0              94.96               99.67   \n",
       "\n",
       "   attributes.rna-23s  attributes.trnas  attributes.nc-rnas  \\\n",
       "0               99.83              20.0                 105   \n",
       "1               99.79              20.0                 108   \n",
       "\n",
       "   attributes.num-proteins  attributes.eggnog-coverage  \\\n",
       "0                     2895                       98.20   \n",
       "1                     2967                       97.84   \n",
       "\n",
       "   attributes.ipr-coverage  \\\n",
       "0                    92.92   \n",
       "1                    92.25   \n",
       "\n",
       "                                                                                          attributes.taxon-lineage  \\\n",
       "0    d__Bacteria;p__Firmicutes;c__Bacilli;o__Lactobacillales;f__Listeriaceae;g__Listeria;s__Listeria monocytogenes   \n",
       "1  d__Bacteria;p__Firmicutes;c__Bacilli;o__Lactobacillales;f__Listeriaceae;g__Listeria;s__Listeria monocytogenes_B   \n",
       "\n",
       "   attributes.num-genomes-total  attributes.pangenome-size  \\\n",
       "0                             2                       2975   \n",
       "1                             7                       3286   \n",
       "\n",
       "   attributes.pangenome-core-size  attributes.pangenome-accessory-size  \\\n",
       "0                            2760                                  215   \n",
       "1                            2650                                  636   \n",
       "\n",
       "       attributes.last-update    attributes.first-created  \\\n",
       "0  2021-12-07T19:05:27.619229  2021-12-07T19:05:27.616284   \n",
       "1  2021-12-07T18:49:57.209400  2021-12-07T18:49:57.206690   \n",
       "\n",
       "                                   relationships.biome.data.id  \\\n",
       "0  root:Host-associated:Human:Digestive system:Large intestine   \n",
       "1  root:Host-associated:Human:Digestive system:Large intestine   \n",
       "\n",
       "  relationships.biome.data.type relationships.catalogue.data.id  \\\n",
       "0                        biomes                  human-gut-v2-0   \n",
       "1                        biomes                  human-gut-v2-0   \n",
       "\n",
       "  relationships.catalogue.data.type  \n",
       "0                 genome-catalogues  \n",
       "1                 genome-catalogues  "
      ]
     },
     "execution_count": 9,
     "metadata": {},
     "output_type": "execute_result"
    }
   ],
   "source": [
    "# Display the table containing the results of the query\n",
    "resources_df_2"
   ]
  },
  {
   "cell_type": "markdown",
   "id": "fb9bd868-2fe0-4a12-bafe-7498424049f3",
   "metadata": {},
   "source": [
    "**Output:** Two entries are obtained for *Listeria monocytogenes* species. "
   ]
  },
  {
   "cell_type": "markdown",
   "id": "f75355fd-1e31-4514-adae-bd5d2923a3b9",
   "metadata": {},
   "source": [
    "### Save the results as parquet."
   ]
  },
  {
   "cell_type": "markdown",
   "id": "010d468e-69ca-4fb7-a0a2-0e0dfbae4bf4",
   "metadata": {},
   "source": [
    "Pandas allow you to save your query results in multiple formats. (See [Pandas documentation for more options](https://pandas.pydata.org/docs/reference/frame.html).\n",
    "\n",
    "`parquet` files can be opened with different libraries including (pandas, pyspark, polar...) and has the advantage of being a compressed data format with column types preserved."
   ]
  },
  {
   "cell_type": "markdown",
   "id": "2288262b-5a2e-4f7b-98ac-4246ecd3378e",
   "metadata": {},
   "source": [
    "*Note: Uncomment the following cell to save your query and replace `'outputs/'` by the`'desired directory/'` to save your data and `'Listeria_ressources'` by the`'name'` you want to give to your file.*"
   ]
  },
  {
   "cell_type": "code",
   "execution_count": 16,
   "id": "1116e61e-ac95-425e-bd41-4167e2695787",
   "metadata": {
    "tags": []
   },
   "outputs": [],
   "source": [
    "resources_df.to_parquet('Listeria_resources.parquet')"
   ]
  },
  {
   "cell_type": "markdown",
   "id": "81eae674-a82f-4e11-a161-ba46ab171aad",
   "metadata": {},
   "source": [
    "### Load previously saved parquet files"
   ]
  },
  {
   "cell_type": "code",
   "execution_count": 17,
   "id": "222e7f46-bc1a-4924-9e84-f3d257cb377f",
   "metadata": {
    "tags": []
   },
   "outputs": [],
   "source": [
    "listeria_df = pd.read_parquet('Listeria_resources.parquet')"
   ]
  },
  {
   "cell_type": "code",
   "execution_count": 18,
   "id": "0804a6ab-00a2-4ad8-8e13-93eb2b18da66",
   "metadata": {
    "tags": []
   },
   "outputs": [
    {
     "data": {
      "text/html": [
       "<div>\n",
       "<style scoped>\n",
       "    .dataframe tbody tr th:only-of-type {\n",
       "        vertical-align: middle;\n",
       "    }\n",
       "\n",
       "    .dataframe tbody tr th {\n",
       "        vertical-align: top;\n",
       "    }\n",
       "\n",
       "    .dataframe thead th {\n",
       "        text-align: right;\n",
       "    }\n",
       "</style>\n",
       "<table border=\"1\" class=\"dataframe\">\n",
       "  <thead>\n",
       "    <tr style=\"text-align: right;\">\n",
       "      <th></th>\n",
       "      <th>type</th>\n",
       "      <th>id</th>\n",
       "      <th>attributes.genome-id</th>\n",
       "      <th>attributes.geographic-range</th>\n",
       "      <th>attributes.geographic-origin</th>\n",
       "      <th>attributes.accession</th>\n",
       "      <th>attributes.ncbi-sample-accession</th>\n",
       "      <th>attributes.ncbi-study-accession</th>\n",
       "      <th>attributes.length</th>\n",
       "      <th>attributes.num-contigs</th>\n",
       "      <th>attributes.n-50</th>\n",
       "      <th>attributes.gc-content</th>\n",
       "      <th>attributes.type</th>\n",
       "      <th>attributes.completeness</th>\n",
       "      <th>attributes.contamination</th>\n",
       "      <th>attributes.rna-5s</th>\n",
       "      <th>attributes.rna-16s</th>\n",
       "      <th>attributes.rna-23s</th>\n",
       "      <th>attributes.trnas</th>\n",
       "      <th>attributes.nc-rnas</th>\n",
       "      <th>attributes.num-proteins</th>\n",
       "      <th>attributes.eggnog-coverage</th>\n",
       "      <th>attributes.ipr-coverage</th>\n",
       "      <th>attributes.taxon-lineage</th>\n",
       "      <th>attributes.num-genomes-total</th>\n",
       "      <th>attributes.pangenome-size</th>\n",
       "      <th>attributes.pangenome-core-size</th>\n",
       "      <th>attributes.pangenome-accessory-size</th>\n",
       "      <th>attributes.last-update</th>\n",
       "      <th>attributes.first-created</th>\n",
       "      <th>relationships.catalogue.data.id</th>\n",
       "      <th>relationships.catalogue.data.type</th>\n",
       "      <th>relationships.biome.data.id</th>\n",
       "      <th>relationships.biome.data.type</th>\n",
       "    </tr>\n",
       "  </thead>\n",
       "  <tbody>\n",
       "    <tr>\n",
       "      <th>0</th>\n",
       "      <td>genomes</td>\n",
       "      <td>MGYG000002392</td>\n",
       "      <td>6517</td>\n",
       "      <td>[NA]</td>\n",
       "      <td>not provided</td>\n",
       "      <td>MGYG000002392</td>\n",
       "      <td>SAMN09947982</td>\n",
       "      <td>PRJNA486730</td>\n",
       "      <td>2941624</td>\n",
       "      <td>14</td>\n",
       "      <td>443696</td>\n",
       "      <td>37.79</td>\n",
       "      <td>Isolate</td>\n",
       "      <td>99.45</td>\n",
       "      <td>0.00</td>\n",
       "      <td>94.96</td>\n",
       "      <td>99.67</td>\n",
       "      <td>99.83</td>\n",
       "      <td>20.0</td>\n",
       "      <td>105</td>\n",
       "      <td>2895</td>\n",
       "      <td>98.20</td>\n",
       "      <td>92.92</td>\n",
       "      <td>d__Bacteria;p__Firmicutes;c__Bacilli;o__Lactobacillales;f__Listeriaceae;g__Listeria;s__Listeria monocytogenes</td>\n",
       "      <td>2</td>\n",
       "      <td>2975.0</td>\n",
       "      <td>2760.0</td>\n",
       "      <td>215.0</td>\n",
       "      <td>2021-12-07T19:05:27.619229</td>\n",
       "      <td>2021-12-07T19:05:27.616284</td>\n",
       "      <td>human-gut-v2-0-1</td>\n",
       "      <td>genome-catalogues</td>\n",
       "      <td>root:Host-associated:Human:Digestive system:Large intestine</td>\n",
       "      <td>biomes</td>\n",
       "    </tr>\n",
       "    <tr>\n",
       "      <th>1</th>\n",
       "      <td>genomes</td>\n",
       "      <td>MGYG000002325</td>\n",
       "      <td>6025</td>\n",
       "      <td>[North America, Europe, NA]</td>\n",
       "      <td>North America</td>\n",
       "      <td>MGYG000002325</td>\n",
       "      <td>SAMN07124731</td>\n",
       "      <td>PRJNA167876</td>\n",
       "      <td>3017944</td>\n",
       "      <td>1</td>\n",
       "      <td>3017944</td>\n",
       "      <td>37.96</td>\n",
       "      <td>Isolate</td>\n",
       "      <td>99.45</td>\n",
       "      <td>0.00</td>\n",
       "      <td>94.96</td>\n",
       "      <td>99.67</td>\n",
       "      <td>99.79</td>\n",
       "      <td>20.0</td>\n",
       "      <td>108</td>\n",
       "      <td>2967</td>\n",
       "      <td>97.84</td>\n",
       "      <td>92.25</td>\n",
       "      <td>d__Bacteria;p__Firmicutes;c__Bacilli;o__Lactobacillales;f__Listeriaceae;g__Listeria;s__Listeria monocytogenes_B</td>\n",
       "      <td>7</td>\n",
       "      <td>3286.0</td>\n",
       "      <td>2650.0</td>\n",
       "      <td>636.0</td>\n",
       "      <td>2021-12-07T18:49:57.209400</td>\n",
       "      <td>2021-12-07T18:49:57.206690</td>\n",
       "      <td>human-gut-v2-0-1</td>\n",
       "      <td>genome-catalogues</td>\n",
       "      <td>root:Host-associated:Human:Digestive system:Large intestine</td>\n",
       "      <td>biomes</td>\n",
       "    </tr>\n",
       "    <tr>\n",
       "      <th>2</th>\n",
       "      <td>genomes</td>\n",
       "      <td>MGYG000001395</td>\n",
       "      <td>5358</td>\n",
       "      <td>[]</td>\n",
       "      <td>not provided</td>\n",
       "      <td>MGYG000001395</td>\n",
       "      <td>SAMN02299452</td>\n",
       "      <td>PRJNA224116</td>\n",
       "      <td>2890785</td>\n",
       "      <td>45</td>\n",
       "      <td>227246</td>\n",
       "      <td>37.35</td>\n",
       "      <td>Isolate</td>\n",
       "      <td>99.45</td>\n",
       "      <td>0.55</td>\n",
       "      <td>94.96</td>\n",
       "      <td>93.93</td>\n",
       "      <td>99.83</td>\n",
       "      <td>18.0</td>\n",
       "      <td>86</td>\n",
       "      <td>2880</td>\n",
       "      <td>97.15</td>\n",
       "      <td>91.77</td>\n",
       "      <td>d__Bacteria;p__Firmicutes;c__Bacilli;o__Lactobacillales;f__Listeriaceae;g__Listeria;s__Listeria innocua</td>\n",
       "      <td>1</td>\n",
       "      <td>NaN</td>\n",
       "      <td>NaN</td>\n",
       "      <td>NaN</td>\n",
       "      <td>2021-12-07T18:25:36.389648</td>\n",
       "      <td>2021-12-07T18:25:36.386977</td>\n",
       "      <td>human-gut-v2-0-1</td>\n",
       "      <td>genome-catalogues</td>\n",
       "      <td>root:Host-associated:Human:Digestive system:Large intestine</td>\n",
       "      <td>biomes</td>\n",
       "    </tr>\n",
       "    <tr>\n",
       "      <th>3</th>\n",
       "      <td>genomes</td>\n",
       "      <td>MGYG000001298</td>\n",
       "      <td>8569</td>\n",
       "      <td>[Europe]</td>\n",
       "      <td>Europe</td>\n",
       "      <td>MGYG000001298</td>\n",
       "      <td>SAMN00001446</td>\n",
       "      <td>PRJNA224116</td>\n",
       "      <td>2589961</td>\n",
       "      <td>6</td>\n",
       "      <td>982217</td>\n",
       "      <td>41.60</td>\n",
       "      <td>Isolate</td>\n",
       "      <td>99.45</td>\n",
       "      <td>0.00</td>\n",
       "      <td>94.96</td>\n",
       "      <td>99.67</td>\n",
       "      <td>99.83</td>\n",
       "      <td>20.0</td>\n",
       "      <td>64</td>\n",
       "      <td>2561</td>\n",
       "      <td>95.28</td>\n",
       "      <td>91.88</td>\n",
       "      <td>d__Bacteria;p__Firmicutes;c__Bacilli;o__Lactobacillales;f__Listeriaceae;g__Listeria;s__Listeria grayi</td>\n",
       "      <td>2</td>\n",
       "      <td>2552.0</td>\n",
       "      <td>2552.0</td>\n",
       "      <td>0.0</td>\n",
       "      <td>2021-12-07T20:02:11.108760</td>\n",
       "      <td>2021-12-07T20:02:11.105691</td>\n",
       "      <td>human-gut-v2-0-1</td>\n",
       "      <td>genome-catalogues</td>\n",
       "      <td>root:Host-associated:Human:Digestive system:Large intestine</td>\n",
       "      <td>biomes</td>\n",
       "    </tr>\n",
       "  </tbody>\n",
       "</table>\n",
       "</div>"
      ],
      "text/plain": [
       "      type             id  attributes.genome-id  attributes.geographic-range  \\\n",
       "0  genomes  MGYG000002392                  6517                         [NA]   \n",
       "1  genomes  MGYG000002325                  6025  [North America, Europe, NA]   \n",
       "2  genomes  MGYG000001395                  5358                           []   \n",
       "3  genomes  MGYG000001298                  8569                     [Europe]   \n",
       "\n",
       "  attributes.geographic-origin attributes.accession  \\\n",
       "0                 not provided        MGYG000002392   \n",
       "1                North America        MGYG000002325   \n",
       "2                 not provided        MGYG000001395   \n",
       "3                       Europe        MGYG000001298   \n",
       "\n",
       "  attributes.ncbi-sample-accession attributes.ncbi-study-accession  \\\n",
       "0                     SAMN09947982                     PRJNA486730   \n",
       "1                     SAMN07124731                     PRJNA167876   \n",
       "2                     SAMN02299452                     PRJNA224116   \n",
       "3                     SAMN00001446                     PRJNA224116   \n",
       "\n",
       "   attributes.length  attributes.num-contigs  attributes.n-50  \\\n",
       "0            2941624                      14           443696   \n",
       "1            3017944                       1          3017944   \n",
       "2            2890785                      45           227246   \n",
       "3            2589961                       6           982217   \n",
       "\n",
       "   attributes.gc-content attributes.type  attributes.completeness  \\\n",
       "0                  37.79         Isolate                    99.45   \n",
       "1                  37.96         Isolate                    99.45   \n",
       "2                  37.35         Isolate                    99.45   \n",
       "3                  41.60         Isolate                    99.45   \n",
       "\n",
       "   attributes.contamination  attributes.rna-5s  attributes.rna-16s  \\\n",
       "0                      0.00              94.96               99.67   \n",
       "1                      0.00              94.96               99.67   \n",
       "2                      0.55              94.96               93.93   \n",
       "3                      0.00              94.96               99.67   \n",
       "\n",
       "   attributes.rna-23s  attributes.trnas  attributes.nc-rnas  \\\n",
       "0               99.83              20.0                 105   \n",
       "1               99.79              20.0                 108   \n",
       "2               99.83              18.0                  86   \n",
       "3               99.83              20.0                  64   \n",
       "\n",
       "   attributes.num-proteins  attributes.eggnog-coverage  \\\n",
       "0                     2895                       98.20   \n",
       "1                     2967                       97.84   \n",
       "2                     2880                       97.15   \n",
       "3                     2561                       95.28   \n",
       "\n",
       "   attributes.ipr-coverage  \\\n",
       "0                    92.92   \n",
       "1                    92.25   \n",
       "2                    91.77   \n",
       "3                    91.88   \n",
       "\n",
       "                                                                                          attributes.taxon-lineage  \\\n",
       "0    d__Bacteria;p__Firmicutes;c__Bacilli;o__Lactobacillales;f__Listeriaceae;g__Listeria;s__Listeria monocytogenes   \n",
       "1  d__Bacteria;p__Firmicutes;c__Bacilli;o__Lactobacillales;f__Listeriaceae;g__Listeria;s__Listeria monocytogenes_B   \n",
       "2          d__Bacteria;p__Firmicutes;c__Bacilli;o__Lactobacillales;f__Listeriaceae;g__Listeria;s__Listeria innocua   \n",
       "3            d__Bacteria;p__Firmicutes;c__Bacilli;o__Lactobacillales;f__Listeriaceae;g__Listeria;s__Listeria grayi   \n",
       "\n",
       "   attributes.num-genomes-total  attributes.pangenome-size  \\\n",
       "0                             2                     2975.0   \n",
       "1                             7                     3286.0   \n",
       "2                             1                        NaN   \n",
       "3                             2                     2552.0   \n",
       "\n",
       "   attributes.pangenome-core-size  attributes.pangenome-accessory-size  \\\n",
       "0                          2760.0                                215.0   \n",
       "1                          2650.0                                636.0   \n",
       "2                             NaN                                  NaN   \n",
       "3                          2552.0                                  0.0   \n",
       "\n",
       "       attributes.last-update    attributes.first-created  \\\n",
       "0  2021-12-07T19:05:27.619229  2021-12-07T19:05:27.616284   \n",
       "1  2021-12-07T18:49:57.209400  2021-12-07T18:49:57.206690   \n",
       "2  2021-12-07T18:25:36.389648  2021-12-07T18:25:36.386977   \n",
       "3  2021-12-07T20:02:11.108760  2021-12-07T20:02:11.105691   \n",
       "\n",
       "  relationships.catalogue.data.id relationships.catalogue.data.type  \\\n",
       "0                human-gut-v2-0-1                 genome-catalogues   \n",
       "1                human-gut-v2-0-1                 genome-catalogues   \n",
       "2                human-gut-v2-0-1                 genome-catalogues   \n",
       "3                human-gut-v2-0-1                 genome-catalogues   \n",
       "\n",
       "                                   relationships.biome.data.id  \\\n",
       "0  root:Host-associated:Human:Digestive system:Large intestine   \n",
       "1  root:Host-associated:Human:Digestive system:Large intestine   \n",
       "2  root:Host-associated:Human:Digestive system:Large intestine   \n",
       "3  root:Host-associated:Human:Digestive system:Large intestine   \n",
       "\n",
       "  relationships.biome.data.type  \n",
       "0                        biomes  \n",
       "1                        biomes  \n",
       "2                        biomes  \n",
       "3                        biomes  "
      ]
     },
     "execution_count": 18,
     "metadata": {},
     "output_type": "execute_result"
    }
   ],
   "source": [
    "listeria_df"
   ]
  },
  {
   "cell_type": "markdown",
   "id": "52021e7f-0bfb-4f58-8e84-72276fc47497",
   "metadata": {},
   "source": [
    "**Output:** Display the saved data as a pandas DataFrame."
   ]
  },
  {
   "cell_type": "markdown",
   "id": "391c4979-1342-48fa-a9a4-4fd92e6c27d0",
   "metadata": {},
   "source": [
    "## Explore the whole `genomes` dataset."
   ]
  },
  {
   "cell_type": "markdown",
   "id": "d7cc3681-6c9b-41bb-a4d3-8c0790d07bf8",
   "metadata": {},
   "source": [
    "### Query and save the dataset as parquet file"
   ]
  },
  {
   "cell_type": "markdown",
   "id": "a466fd62-d82c-4d1a-a880-eefc068e69ad",
   "metadata": {},
   "source": [
    "To query the whole dataset, we can use the same method as previously. The only difference is that **no filter** is passed to the query.  \n",
    "\n",
    "**Warning:** Querying without filter is computationally expensive and will take time.\n",
    "\n",
    "A pre-fetched copy of the data (as of 8 November 2022) is available in `../example-data/genomes/all_genome_resources.parquet`.\n",
    "\n",
    "This was fetched using the following code, which you could copy-and-paste into a code cell to re-fetch the latest data:\n",
    "```python\n",
    "with APISession(\"https://www.ebi.ac.uk/metagenomics/api/v1\") as mgnify:\n",
    "    resources_all = map(lambda r: r.json, mgnify.iterate(endpoint_name))\n",
    "resources_all_df = pd.json_normalize(resources_all)\n",
    "resources_all_df\n",
    "resources_all_df.to_parquet('latest_genome_resources.parquet')\n",
    "```"
   ]
  },
  {
   "cell_type": "markdown",
   "id": "965dadca-7b62-416b-bee8-c4da83656dba",
   "metadata": {},
   "source": [
    "### Load the dataset file with another python library"
   ]
  },
  {
   "cell_type": "markdown",
   "id": "234a5f1f-2ccb-4210-98f7-3f7f81b7a9c3",
   "metadata": {},
   "source": [
    "Here is an example to show that the saved parquet files can be loaded with different python libraries (some being more suitable for loading and transforming large amount of data). Of course, this file can also be loaded with pandas (see section 1.3.3. of this notebook). "
   ]
  },
  {
   "cell_type": "markdown",
   "id": "fda7ead6-a1cd-4b2c-a052-6653d63807a3",
   "metadata": {},
   "source": [
    "For this example, we use pyspark. For help, see the documentation: https://spark.apache.org/docs/latest/api/python/.\n",
    "\n",
    "Pyspark require to start a `SparkSession` before use. A basic example is shown in the section below."
   ]
  },
  {
   "cell_type": "markdown",
   "id": "5d729afc-fe25-49e4-8a53-dea326ba1f44",
   "metadata": {},
   "source": [
    "#### Start Spark Session"
   ]
  },
  {
   "cell_type": "code",
   "execution_count": 20,
   "id": "644030c5-42c7-4c58-ac55-93b3f6c68ddd",
   "metadata": {
    "tags": []
   },
   "outputs": [],
   "source": [
    "from pyspark.sql import SparkSession\n",
    "\n",
    "import pyspark.sql.functions as F"
   ]
  },
  {
   "cell_type": "code",
   "execution_count": 21,
   "id": "52ddc568-6384-4fba-b8f3-387c81b9419c",
   "metadata": {
    "tags": []
   },
   "outputs": [
    {
     "name": "stderr",
     "output_type": "stream",
     "text": [
      "JAVA_HOME is not set\n"
     ]
    },
    {
     "ename": "RuntimeError",
     "evalue": "Java gateway process exited before sending its port number",
     "output_type": "error",
     "traceback": [
      "\u001b[0;31m---------------------------------------------------------------------------\u001b[0m",
      "\u001b[0;31mRuntimeError\u001b[0m                              Traceback (most recent call last)",
      "Cell \u001b[0;32mIn[21], line 1\u001b[0m\n\u001b[0;32m----> 1\u001b[0m spark \u001b[38;5;241m=\u001b[39m \u001b[43mSparkSession\u001b[49m\u001b[38;5;241;43m.\u001b[39;49m\u001b[43mbuilder\u001b[49m\u001b[38;5;241;43m.\u001b[39;49m\u001b[43mgetOrCreate\u001b[49m\u001b[43m(\u001b[49m\u001b[43m)\u001b[49m\n",
      "File \u001b[0;32m~/.local/lib/python3.11/site-packages/pyspark/sql/session.py:269\u001b[0m, in \u001b[0;36mSparkSession.Builder.getOrCreate\u001b[0;34m(self)\u001b[0m\n\u001b[1;32m    267\u001b[0m     sparkConf\u001b[38;5;241m.\u001b[39mset(key, value)\n\u001b[1;32m    268\u001b[0m \u001b[38;5;66;03m# This SparkContext may be an existing one.\u001b[39;00m\n\u001b[0;32m--> 269\u001b[0m sc \u001b[38;5;241m=\u001b[39m \u001b[43mSparkContext\u001b[49m\u001b[38;5;241;43m.\u001b[39;49m\u001b[43mgetOrCreate\u001b[49m\u001b[43m(\u001b[49m\u001b[43msparkConf\u001b[49m\u001b[43m)\u001b[49m\n\u001b[1;32m    270\u001b[0m \u001b[38;5;66;03m# Do not update `SparkConf` for existing `SparkContext`, as it's shared\u001b[39;00m\n\u001b[1;32m    271\u001b[0m \u001b[38;5;66;03m# by all sessions.\u001b[39;00m\n\u001b[1;32m    272\u001b[0m session \u001b[38;5;241m=\u001b[39m SparkSession(sc, options\u001b[38;5;241m=\u001b[39m\u001b[38;5;28mself\u001b[39m\u001b[38;5;241m.\u001b[39m_options)\n",
      "File \u001b[0;32m~/.local/lib/python3.11/site-packages/pyspark/context.py:483\u001b[0m, in \u001b[0;36mSparkContext.getOrCreate\u001b[0;34m(cls, conf)\u001b[0m\n\u001b[1;32m    481\u001b[0m \u001b[38;5;28;01mwith\u001b[39;00m SparkContext\u001b[38;5;241m.\u001b[39m_lock:\n\u001b[1;32m    482\u001b[0m     \u001b[38;5;28;01mif\u001b[39;00m SparkContext\u001b[38;5;241m.\u001b[39m_active_spark_context \u001b[38;5;129;01mis\u001b[39;00m \u001b[38;5;28;01mNone\u001b[39;00m:\n\u001b[0;32m--> 483\u001b[0m         \u001b[43mSparkContext\u001b[49m\u001b[43m(\u001b[49m\u001b[43mconf\u001b[49m\u001b[38;5;241;43m=\u001b[39;49m\u001b[43mconf\u001b[49m\u001b[43m \u001b[49m\u001b[38;5;129;43;01mor\u001b[39;49;00m\u001b[43m \u001b[49m\u001b[43mSparkConf\u001b[49m\u001b[43m(\u001b[49m\u001b[43m)\u001b[49m\u001b[43m)\u001b[49m\n\u001b[1;32m    484\u001b[0m     \u001b[38;5;28;01massert\u001b[39;00m SparkContext\u001b[38;5;241m.\u001b[39m_active_spark_context \u001b[38;5;129;01mis\u001b[39;00m \u001b[38;5;129;01mnot\u001b[39;00m \u001b[38;5;28;01mNone\u001b[39;00m\n\u001b[1;32m    485\u001b[0m     \u001b[38;5;28;01mreturn\u001b[39;00m SparkContext\u001b[38;5;241m.\u001b[39m_active_spark_context\n",
      "File \u001b[0;32m~/.local/lib/python3.11/site-packages/pyspark/context.py:195\u001b[0m, in \u001b[0;36mSparkContext.__init__\u001b[0;34m(self, master, appName, sparkHome, pyFiles, environment, batchSize, serializer, conf, gateway, jsc, profiler_cls, udf_profiler_cls)\u001b[0m\n\u001b[1;32m    189\u001b[0m \u001b[38;5;28;01mif\u001b[39;00m gateway \u001b[38;5;129;01mis\u001b[39;00m \u001b[38;5;129;01mnot\u001b[39;00m \u001b[38;5;28;01mNone\u001b[39;00m \u001b[38;5;129;01mand\u001b[39;00m gateway\u001b[38;5;241m.\u001b[39mgateway_parameters\u001b[38;5;241m.\u001b[39mauth_token \u001b[38;5;129;01mis\u001b[39;00m \u001b[38;5;28;01mNone\u001b[39;00m:\n\u001b[1;32m    190\u001b[0m     \u001b[38;5;28;01mraise\u001b[39;00m \u001b[38;5;167;01mValueError\u001b[39;00m(\n\u001b[1;32m    191\u001b[0m         \u001b[38;5;124m\"\u001b[39m\u001b[38;5;124mYou are trying to pass an insecure Py4j gateway to Spark. This\u001b[39m\u001b[38;5;124m\"\u001b[39m\n\u001b[1;32m    192\u001b[0m         \u001b[38;5;124m\"\u001b[39m\u001b[38;5;124m is not allowed as it is a security risk.\u001b[39m\u001b[38;5;124m\"\u001b[39m\n\u001b[1;32m    193\u001b[0m     )\n\u001b[0;32m--> 195\u001b[0m \u001b[43mSparkContext\u001b[49m\u001b[38;5;241;43m.\u001b[39;49m\u001b[43m_ensure_initialized\u001b[49m\u001b[43m(\u001b[49m\u001b[38;5;28;43mself\u001b[39;49m\u001b[43m,\u001b[49m\u001b[43m \u001b[49m\u001b[43mgateway\u001b[49m\u001b[38;5;241;43m=\u001b[39;49m\u001b[43mgateway\u001b[49m\u001b[43m,\u001b[49m\u001b[43m \u001b[49m\u001b[43mconf\u001b[49m\u001b[38;5;241;43m=\u001b[39;49m\u001b[43mconf\u001b[49m\u001b[43m)\u001b[49m\n\u001b[1;32m    196\u001b[0m \u001b[38;5;28;01mtry\u001b[39;00m:\n\u001b[1;32m    197\u001b[0m     \u001b[38;5;28mself\u001b[39m\u001b[38;5;241m.\u001b[39m_do_init(\n\u001b[1;32m    198\u001b[0m         master,\n\u001b[1;32m    199\u001b[0m         appName,\n\u001b[0;32m   (...)\u001b[0m\n\u001b[1;32m    208\u001b[0m         udf_profiler_cls,\n\u001b[1;32m    209\u001b[0m     )\n",
      "File \u001b[0;32m~/.local/lib/python3.11/site-packages/pyspark/context.py:417\u001b[0m, in \u001b[0;36mSparkContext._ensure_initialized\u001b[0;34m(cls, instance, gateway, conf)\u001b[0m\n\u001b[1;32m    415\u001b[0m \u001b[38;5;28;01mwith\u001b[39;00m SparkContext\u001b[38;5;241m.\u001b[39m_lock:\n\u001b[1;32m    416\u001b[0m     \u001b[38;5;28;01mif\u001b[39;00m \u001b[38;5;129;01mnot\u001b[39;00m SparkContext\u001b[38;5;241m.\u001b[39m_gateway:\n\u001b[0;32m--> 417\u001b[0m         SparkContext\u001b[38;5;241m.\u001b[39m_gateway \u001b[38;5;241m=\u001b[39m gateway \u001b[38;5;129;01mor\u001b[39;00m \u001b[43mlaunch_gateway\u001b[49m\u001b[43m(\u001b[49m\u001b[43mconf\u001b[49m\u001b[43m)\u001b[49m\n\u001b[1;32m    418\u001b[0m         SparkContext\u001b[38;5;241m.\u001b[39m_jvm \u001b[38;5;241m=\u001b[39m SparkContext\u001b[38;5;241m.\u001b[39m_gateway\u001b[38;5;241m.\u001b[39mjvm\n\u001b[1;32m    420\u001b[0m     \u001b[38;5;28;01mif\u001b[39;00m instance:\n",
      "File \u001b[0;32m~/.local/lib/python3.11/site-packages/pyspark/java_gateway.py:106\u001b[0m, in \u001b[0;36mlaunch_gateway\u001b[0;34m(conf, popen_kwargs)\u001b[0m\n\u001b[1;32m    103\u001b[0m     time\u001b[38;5;241m.\u001b[39msleep(\u001b[38;5;241m0.1\u001b[39m)\n\u001b[1;32m    105\u001b[0m \u001b[38;5;28;01mif\u001b[39;00m \u001b[38;5;129;01mnot\u001b[39;00m os\u001b[38;5;241m.\u001b[39mpath\u001b[38;5;241m.\u001b[39misfile(conn_info_file):\n\u001b[0;32m--> 106\u001b[0m     \u001b[38;5;28;01mraise\u001b[39;00m \u001b[38;5;167;01mRuntimeError\u001b[39;00m(\u001b[38;5;124m\"\u001b[39m\u001b[38;5;124mJava gateway process exited before sending its port number\u001b[39m\u001b[38;5;124m\"\u001b[39m)\n\u001b[1;32m    108\u001b[0m \u001b[38;5;28;01mwith\u001b[39;00m \u001b[38;5;28mopen\u001b[39m(conn_info_file, \u001b[38;5;124m\"\u001b[39m\u001b[38;5;124mrb\u001b[39m\u001b[38;5;124m\"\u001b[39m) \u001b[38;5;28;01mas\u001b[39;00m info:\n\u001b[1;32m    109\u001b[0m     gateway_port \u001b[38;5;241m=\u001b[39m read_int(info)\n",
      "\u001b[0;31mRuntimeError\u001b[0m: Java gateway process exited before sending its port number"
     ]
    }
   ],
   "source": [
    "spark = SparkSession.builder.getOrCreate()"
   ]
  },
  {
   "cell_type": "code",
   "execution_count": 19,
   "id": "39607f3c-e202-4bb8-a9ed-b240ce45d957",
   "metadata": {},
   "outputs": [
    {
     "data": {
      "text/html": [
       "\n",
       "            <div>\n",
       "                <p><b>SparkSession - in-memory</b></p>\n",
       "                \n",
       "        <div>\n",
       "            <p><b>SparkContext</b></p>\n",
       "\n",
       "            <p><a href=\"http://c8c0d450a910:4040\">Spark UI</a></p>\n",
       "\n",
       "            <dl>\n",
       "              <dt>Version</dt>\n",
       "                <dd><code>v3.3.1</code></dd>\n",
       "              <dt>Master</dt>\n",
       "                <dd><code>local[*]</code></dd>\n",
       "              <dt>AppName</dt>\n",
       "                <dd><code>pyspark-shell</code></dd>\n",
       "            </dl>\n",
       "        </div>\n",
       "        \n",
       "            </div>\n",
       "        "
      ],
      "text/plain": [
       "<pyspark.sql.session.SparkSession at 0xffff4b52e290>"
      ]
     },
     "execution_count": 19,
     "metadata": {},
     "output_type": "execute_result"
    }
   ],
   "source": [
    "spark"
   ]
  },
  {
   "cell_type": "markdown",
   "id": "670fba9c-914e-4a63-9918-257babffd18c",
   "metadata": {},
   "source": [
    "#### Load the data from the parquet file"
   ]
  },
  {
   "cell_type": "code",
   "execution_count": 20,
   "id": "60ff4da3-ae0d-483b-8146-1cef6d6e9744",
   "metadata": {},
   "outputs": [],
   "source": [
    "all_df = spark.read.parquet('./outputs/parquets/all_genome_ressources')"
   ]
  },
  {
   "cell_type": "markdown",
   "id": "a0b317bb-31cf-40ce-aeda-5e1a600e22f6",
   "metadata": {},
   "source": [
    "#### Get the shape of the DataFrame"
   ]
  },
  {
   "cell_type": "code",
   "execution_count": 21,
   "id": "a1a8a399-97a3-4865-8a37-aed5138f4075",
   "metadata": {},
   "outputs": [
    {
     "data": {
      "text/plain": [
       "9421"
      ]
     },
     "execution_count": 21,
     "metadata": {},
     "output_type": "execute_result"
    }
   ],
   "source": [
    "# To get the number of rows\n",
    "all_df.count()"
   ]
  },
  {
   "cell_type": "code",
   "execution_count": 22,
   "id": "423bc13b-bea9-4ebf-a0fa-29c95dc7f9fd",
   "metadata": {},
   "outputs": [
    {
     "data": {
      "text/plain": [
       "37"
      ]
     },
     "execution_count": 22,
     "metadata": {},
     "output_type": "execute_result"
    }
   ],
   "source": [
    "# To get the number of columns\n",
    "len(all_df.columns)"
   ]
  },
  {
   "cell_type": "markdown",
   "id": "949b8ab0-70ab-4428-a65e-3ae87972430c",
   "metadata": {},
   "source": [
    "**Outputs:** The dataframe has 9421 rows and 37 columns."
   ]
  },
  {
   "cell_type": "markdown",
   "id": "cfc7a103-a154-4f5e-8c4b-e6bd7f2313ba",
   "metadata": {},
   "source": [
    "### Get stats when applicable"
   ]
  },
  {
   "cell_type": "code",
   "execution_count": 23,
   "id": "2c8b40fb-100f-4375-9fa0-d3583c84754d",
   "metadata": {},
   "outputs": [
    {
     "name": "stderr",
     "output_type": "stream",
     "text": [
      "[Stage 4:>                                                          (0 + 1) / 1]\r"
     ]
    },
    {
     "name": "stdout",
     "output_type": "stream",
     "text": [
      "22/11/10 09:37:48 WARN package: Truncated the string representation of a plan since it was too large. This behavior can be adjusted by setting 'spark.sql.debug.maxToStringFields'.\n",
      "-RECORD 0-------------------------------------------------------------------------------------------------------------------------------------------------------\n",
      " summary                             | count                                                                                                                    \n",
      " type                                | 9421                                                                                                                     \n",
      " id                                  | 9421                                                                                                                     \n",
      " attributes.genome-id                | 9421                                                                                                                     \n",
      " attributes.geographic-origin        | 9421                                                                                                                     \n",
      " attributes.accession                | 9421                                                                                                                     \n",
      " attributes.ena-sample-accession     | 8440                                                                                                                     \n",
      " attributes.ena-study-accession      | 8558                                                                                                                     \n",
      " attributes.length                   | 9421                                                                                                                     \n",
      " attributes.num-contigs              | 9421                                                                                                                     \n",
      " attributes.n-50                     | 9421                                                                                                                     \n",
      " attributes.gc-content               | 9421                                                                                                                     \n",
      " attributes.type                     | 9421                                                                                                                     \n",
      " attributes.completeness             | 9421                                                                                                                     \n",
      " attributes.contamination            | 9421                                                                                                                     \n",
      " attributes.rna-5s                   | 9421                                                                                                                     \n",
      " attributes.rna-16s                  | 9421                                                                                                                     \n",
      " attributes.rna-23s                  | 9421                                                                                                                     \n",
      " attributes.trnas                    | 9421                                                                                                                     \n",
      " attributes.nc-rnas                  | 9421                                                                                                                     \n",
      " attributes.num-proteins             | 9421                                                                                                                     \n",
      " attributes.eggnog-coverage          | 9421                                                                                                                     \n",
      " attributes.ipr-coverage             | 9421                                                                                                                     \n",
      " attributes.taxon-lineage            | 9421                                                                                                                     \n",
      " attributes.num-genomes-total        | 9421                                                                                                                     \n",
      " attributes.pangenome-size           | 4456                                                                                                                     \n",
      " attributes.pangenome-core-size      | 4456                                                                                                                     \n",
      " attributes.pangenome-accessory-size | 4456                                                                                                                     \n",
      " attributes.last-update              | 9421                                                                                                                     \n",
      " attributes.first-created            | 9421                                                                                                                     \n",
      " relationships.biome.data.id         | 9421                                                                                                                     \n",
      " relationships.biome.data.type       | 9421                                                                                                                     \n",
      " relationships.catalogue.data.id     | 9421                                                                                                                     \n",
      " relationships.catalogue.data.type   | 9421                                                                                                                     \n",
      " attributes.ncbi-genome-accession    | 133                                                                                                                      \n",
      " attributes.ncbi-sample-accession    | 869                                                                                                                      \n",
      " attributes.ncbi-study-accession     | 756                                                                                                                      \n",
      "-RECORD 1-------------------------------------------------------------------------------------------------------------------------------------------------------\n",
      " summary                             | mean                                                                                                                     \n",
      " type                                | null                                                                                                                     \n",
      " id                                  | null                                                                                                                     \n",
      " attributes.genome-id                | 9355.0                                                                                                                   \n",
      " attributes.geographic-origin        | null                                                                                                                     \n",
      " attributes.accession                | null                                                                                                                     \n",
      " attributes.ena-sample-accession     | null                                                                                                                     \n",
      " attributes.ena-study-accession      | null                                                                                                                     \n",
      " attributes.length                   | 2368922.5665003713                                                                                                       \n",
      " attributes.num-contigs              | 151.3833987899374                                                                                                        \n",
      " attributes.n-50                     | 123226.4390192124                                                                                                        \n",
      " attributes.gc-content               | 47.951392633478235                                                                                                       \n",
      " attributes.type                     | null                                                                                                                     \n",
      " attributes.completeness             | 89.62222269398094                                                                                                        \n",
      " attributes.contamination            | 1.0800191062519993                                                                                                       \n",
      " attributes.rna-5s                   | 25.60162190850182                                                                                                        \n",
      " attributes.rna-16s                  | 20.272170682517864                                                                                                       \n",
      " attributes.rna-23s                  | 18.180766372996413                                                                                                       \n",
      " attributes.trnas                    | 17.125464388069208                                                                                                       \n",
      " attributes.nc-rnas                  | 21.581466935569473                                                                                                       \n",
      " attributes.num-proteins             | 2107.188302727948                                                                                                        \n",
      " attributes.eggnog-coverage          | 89.30559388599937                                                                                                        \n",
      " attributes.ipr-coverage             | 88.30321091179326                                                                                                        \n",
      " attributes.taxon-lineage            | null                                                                                                                     \n",
      " attributes.num-genomes-total        | 31.582528394013373                                                                                                       \n",
      " attributes.pangenome-size           | 3364.979353680431                                                                                                        \n",
      " attributes.pangenome-core-size      | 1252.9001346499103                                                                                                       \n",
      " attributes.pangenome-accessory-size | 2112.0792190305206                                                                                                       \n",
      " attributes.last-update              | null                                                                                                                     \n",
      " attributes.first-created            | null                                                                                                                     \n",
      " relationships.biome.data.id         | null                                                                                                                     \n",
      " relationships.biome.data.type       | null                                                                                                                     \n",
      " relationships.catalogue.data.id     | null                                                                                                                     \n",
      " relationships.catalogue.data.type   | null                                                                                                                     \n",
      " attributes.ncbi-genome-accession    | null                                                                                                                     \n",
      " attributes.ncbi-sample-accession    | null                                                                                                                     \n",
      " attributes.ncbi-study-accession     | null                                                                                                                     \n",
      "-RECORD 2-------------------------------------------------------------------------------------------------------------------------------------------------------\n",
      " summary                             | stddev                                                                                                                   \n",
      " type                                | null                                                                                                                     \n",
      " id                                  | null                                                                                                                     \n",
      " attributes.genome-id                | 2719.752776755024                                                                                                        \n",
      " attributes.geographic-origin        | null                                                                                                                     \n",
      " attributes.accession                | null                                                                                                                     \n",
      " attributes.ena-sample-accession     | null                                                                                                                     \n",
      " attributes.ena-study-accession      | null                                                                                                                     \n",
      " attributes.length                   | 1000659.4724411627                                                                                                       \n",
      " attributes.num-contigs              | 151.63673318044016                                                                                                       \n",
      " attributes.n-50                     | 411428.23676042625                                                                                                       \n",
      " attributes.gc-content               | 10.364966184467969                                                                                                       \n",
      " attributes.type                     | null                                                                                                                     \n",
      " attributes.completeness             | 10.601592944326633                                                                                                       \n",
      " attributes.contamination            | 1.130176460516972                                                                                                        \n",
      " attributes.rna-5s                   | 41.17409094104411                                                                                                        \n",
      " attributes.rna-16s                  | 35.85258518442612                                                                                                        \n",
      " attributes.rna-23s                  | 35.164432273831                                                                                                          \n",
      " attributes.trnas                    | 3.2306208295136187                                                                                                       \n",
      " attributes.nc-rnas                  | 18.928989899416273                                                                                                       \n",
      " attributes.num-proteins             | 864.1145387552573                                                                                                        \n",
      " attributes.eggnog-coverage          | 7.04156405886782                                                                                                         \n",
      " attributes.ipr-coverage             | 4.397153875505659                                                                                                        \n",
      " attributes.taxon-lineage            | null                                                                                                                     \n",
      " attributes.num-genomes-total        | 231.0914748625717                                                                                                        \n",
      " attributes.pangenome-size           | 4815.997455826069                                                                                                        \n",
      " attributes.pangenome-core-size      | 714.044410770206                                                                                                         \n",
      " attributes.pangenome-accessory-size | 4839.513868626893                                                                                                        \n",
      " attributes.last-update              | null                                                                                                                     \n",
      " attributes.first-created            | null                                                                                                                     \n",
      " relationships.biome.data.id         | null                                                                                                                     \n",
      " relationships.biome.data.type       | null                                                                                                                     \n",
      " relationships.catalogue.data.id     | null                                                                                                                     \n",
      " relationships.catalogue.data.type   | null                                                                                                                     \n",
      " attributes.ncbi-genome-accession    | null                                                                                                                     \n",
      " attributes.ncbi-sample-accession    | null                                                                                                                     \n",
      " attributes.ncbi-study-accession     | null                                                                                                                     \n",
      "-RECORD 3-------------------------------------------------------------------------------------------------------------------------------------------------------\n",
      " summary                             | min                                                                                                                      \n",
      " type                                | genomes                                                                                                                  \n",
      " id                                  | MGYG000000001                                                                                                            \n",
      " attributes.genome-id                | 4645                                                                                                                     \n",
      " attributes.geographic-origin        | Africa                                                                                                                   \n",
      " attributes.accession                | MGYG000000001                                                                                                            \n",
      " attributes.ena-sample-accession     | DRS026393                                                                                                                \n",
      " attributes.ena-study-accession      | DRP003048                                                                                                                \n",
      " attributes.length                   | 341836                                                                                                                   \n",
      " attributes.num-contigs              | 1                                                                                                                        \n",
      " attributes.n-50                     | 1772                                                                                                                     \n",
      " attributes.gc-content               | 22.94                                                                                                                    \n",
      " attributes.type                     | Isolate                                                                                                                  \n",
      " attributes.completeness             | 50.06                                                                                                                    \n",
      " attributes.contamination            | 0.0                                                                                                                      \n",
      " attributes.rna-5s                   | 0.0                                                                                                                      \n",
      " attributes.rna-16s                  | 0.0                                                                                                                      \n",
      " attributes.rna-23s                  | 0.0                                                                                                                      \n",
      " attributes.trnas                    | 1.0                                                                                                                      \n",
      " attributes.nc-rnas                  | 0                                                                                                                        \n",
      " attributes.num-proteins             | 357                                                                                                                      \n",
      " attributes.eggnog-coverage          | 24.17                                                                                                                    \n",
      " attributes.ipr-coverage             | 34.74                                                                                                                    \n",
      " attributes.taxon-lineage            | d__Archaea;p__Halobacteriota;c__Halobacteria;o__Halobacteriales;f__Haloferacaceae;g__Haloferax;s__Haloferax massiliensis \n",
      " attributes.num-genomes-total        | 1                                                                                                                        \n",
      " attributes.pangenome-size           | 255.0                                                                                                                    \n",
      " attributes.pangenome-core-size      | 0.0                                                                                                                      \n",
      " attributes.pangenome-accessory-size | 0.0                                                                                                                      \n",
      " attributes.last-update              | 2021-12-07T17:55:25.649984                                                                                               \n",
      " attributes.first-created            | 2021-12-07T17:55:25.600900                                                                                               \n",
      " relationships.biome.data.id         | root:Environmental:Aquatic:Marine                                                                                        \n",
      " relationships.biome.data.type       | biomes                                                                                                                   \n",
      " relationships.catalogue.data.id     | cow-rumen-v1-0                                                                                                           \n",
      " relationships.catalogue.data.type   | genome-catalogues                                                                                                        \n",
      " attributes.ncbi-genome-accession    | GCA_003638725                                                                                                            \n",
      " attributes.ncbi-sample-accession    | SAMD00019865                                                                                                             \n",
      " attributes.ncbi-study-accession     | PRJDB259                                                                                                                 \n",
      "-RECORD 4-------------------------------------------------------------------------------------------------------------------------------------------------------\n",
      " summary                             | max                                                                                                                      \n",
      " type                                | genomes                                                                                                                  \n",
      " id                                  | MGYG000299273                                                                                                            \n",
      " attributes.genome-id                | 14065                                                                                                                    \n",
      " attributes.geographic-origin        | not provided                                                                                                             \n",
      " attributes.accession                | MGYG000299273                                                                                                            \n",
      " attributes.ena-sample-accession     | SRS935445                                                                                                                \n",
      " attributes.ena-study-accession      | SRP311368                                                                                                                \n",
      " attributes.length                   | 11357224                                                                                                                 \n",
      " attributes.num-contigs              | 1955                                                                                                                     \n",
      " attributes.n-50                     | 6802552                                                                                                                  \n",
      " attributes.gc-content               | 74.84                                                                                                                    \n",
      " attributes.type                     | MAG                                                                                                                      \n",
      " attributes.completeness             | 100.0                                                                                                                    \n",
      " attributes.contamination            | 5.0                                                                                                                      \n",
      " attributes.rna-5s                   | 95.8                                                                                                                     \n",
      " attributes.rna-16s                  | 99.74                                                                                                                    \n",
      " attributes.rna-23s                  | 99.86                                                                                                                    \n",
      " attributes.trnas                    | 20.0                                                                                                                     \n",
      " attributes.nc-rnas                  | 271                                                                                                                      \n",
      " attributes.num-proteins             | 9488                                                                                                                     \n",
      " attributes.eggnog-coverage          | 99.5                                                                                                                     \n",
      " attributes.ipr-coverage             | 97.59                                                                                                                    \n",
      " attributes.taxon-lineage            | d__Bacteria;p__Zixibacteria;c__MSB-5A5;o__GN15;f__FEB-12;g__QQUK01;s__                                                   \n",
      " attributes.num-genomes-total        | 8314                                                                                                                     \n",
      " attributes.pangenome-size           | 125448.0                                                                                                                 \n",
      " attributes.pangenome-core-size      | 8903.0                                                                                                                   \n",
      " attributes.pangenome-accessory-size | 124208.0                                                                                                                 \n",
      " attributes.last-update              | 2021-12-17T12:09:44.586805                                                                                               \n",
      " attributes.first-created            | 2021-12-15T12:24:13.903255                                                                                               \n",
      " relationships.biome.data.id         | root:Host-associated:Mammals:Digestive system:Stomach:Rumen                                                              \n",
      " relationships.biome.data.type       | biomes                                                                                                                   \n",
      " relationships.catalogue.data.id     | marine-v1-0                                                                                                              \n",
      " relationships.catalogue.data.type   | genome-catalogues                                                                                                        \n",
      " attributes.ncbi-genome-accession    | GCA_015354175                                                                                                            \n",
      " attributes.ncbi-sample-accession    | SAMN14602682                                                                                                             \n",
      " attributes.ncbi-study-accession     | PRJNA82453                                                                                                               \n",
      "\n"
     ]
    },
    {
     "name": "stderr",
     "output_type": "stream",
     "text": [
      "                                                                                \r"
     ]
    }
   ],
   "source": [
    "all_df.describe().show(truncate=False, vertical=True)"
   ]
  },
  {
   "cell_type": "markdown",
   "id": "ec812589-1162-48ed-b992-2ef60da35913",
   "metadata": {},
   "source": [
    "**Ouputs:** For example:\n",
    "- the first record gives the number of non-null values for each column.\n",
    "- gc-content on the whole dataset is 47.951392633478235 ± 10.364966184467969 % with a min value of 22.94% and a max value of 74.84%\n",
    "\n",
    "**Warning:** For Spark, pass column name as '`column.name`' is column name contains `'.'` and `' '`."
   ]
  },
  {
   "cell_type": "code",
   "execution_count": 24,
   "id": "cc12e3f1-e279-4025-bd44-f2975f3007ff",
   "metadata": {},
   "outputs": [
    {
     "name": "stdout",
     "output_type": "stream",
     "text": [
      "+-------+---------------------+\n",
      "|summary|attributes.gc-content|\n",
      "+-------+---------------------+\n",
      "|  count|                 9421|\n",
      "|   mean|   47.951392633478235|\n",
      "| stddev|   10.364966184467969|\n",
      "|    min|                22.94|\n",
      "|    max|                74.84|\n",
      "+-------+---------------------+\n",
      "\n"
     ]
    }
   ],
   "source": [
    "# To visualise only gc-content:\n",
    "all_df.select('`attributes.gc-content`').describe().show()"
   ]
  },
  {
   "cell_type": "markdown",
   "id": "4a9077cd-db25-410f-b60a-1397afac34d5",
   "metadata": {},
   "source": [
    "### Get the most represented genus in the dataset"
   ]
  },
  {
   "cell_type": "code",
   "execution_count": 25,
   "id": "45f8f1ce-8afd-4fc2-ac92-637c064c444d",
   "metadata": {},
   "outputs": [
    {
     "name": "stdout",
     "output_type": "stream",
     "text": [
      "+-------------------------------------------------------------------------------------------------------------------------------------+\n",
      "|attributes.taxon-lineage                                                                                                             |\n",
      "+-------------------------------------------------------------------------------------------------------------------------------------+\n",
      "|d__Bacteria;p__Firmicutes_C;c__Negativicutes;o__Veillonellales;f__Megasphaeraceae;g__Anaeroglobus;s__Anaeroglobus micronuciformis    |\n",
      "|d__Bacteria;p__Bacteroidota;c__Bacteroidia;o__Bacteroidales;f__Bacteroidaceae;g__Prevotella;s__Prevotella loescheii                  |\n",
      "|d__Bacteria;p__Firmicutes;c__Bacilli;o__Lactobacillales;f__Streptococcaceae;g__Streptococcus;s__Streptococcus pneumoniae_D           |\n",
      "|d__Bacteria;p__Patescibacteria;c__Saccharimonadia;o__Saccharimonadales;f__Saccharimonadaceae;g__UMGS1907;s__                         |\n",
      "|d__Bacteria;p__Firmicutes_C;c__Negativicutes;o__Selenomonadales;f__Selenomonadaceae;g__Centipeda;s__                                 |\n",
      "|d__Bacteria;p__Firmicutes_C;c__Negativicutes;o__Selenomonadales;f__Selenomonadaceae;g__Selenomonas;s__                               |\n",
      "|d__Bacteria;p__Firmicutes_A;c__Clostridia;o__Lachnospirales;f__Lachnospiraceae;g__Johnsonella;s__                                    |\n",
      "|d__Bacteria;p__Proteobacteria;c__Gammaproteobacteria;o__Enterobacterales;f__Pasteurellaceae;g__Haemophilus_D;s__                     |\n",
      "|d__Bacteria;p__Actinobacteriota;c__Actinomycetia;o__Actinomycetales;f__Actinomycetaceae;g__Pauljensenia;s__Pauljensenia hongkongensis|\n",
      "|d__Bacteria;p__Firmicutes;c__Bacilli;o__Lactobacillales;f__Streptococcaceae;g__Streptococcus;s__                                     |\n",
      "|d__Bacteria;p__Actinobacteriota;c__Actinomycetia;o__Actinomycetales;f__Micrococcaceae;g__Rothia;s__Rothia mucilaginosa_B             |\n",
      "|d__Bacteria;p__Patescibacteria;c__Gracilibacteria;o__Absconditabacterales;f__X112;g__HOT-345;s__HOT-345 sp013333605                  |\n",
      "|d__Bacteria;p__Proteobacteria;c__Gammaproteobacteria;o__Burkholderiales;f__Neisseriaceae;g__Neisseria;s__Neisseria sp000186165       |\n",
      "|d__Bacteria;p__Firmicutes;c__Bacilli;o__Lactobacillales;f__Streptococcaceae;g__Streptococcus;s__                                     |\n",
      "|d__Bacteria;p__Actinobacteriota;c__Actinomycetia;o__Propionibacteriales;f__Propionibacteriaceae;g__Arachnia;s__Arachnia propionica   |\n",
      "|d__Bacteria;p__Patescibacteria;c__Saccharimonadia;o__Saccharimonadales;f__Saccharimonadaceae;g__UBA2866;s__UBA2866 sp013333375       |\n",
      "|d__Bacteria;p__Bacteroidota;c__Bacteroidia;o__Flavobacteriales;f__Flavobacteriaceae;g__Capnocytophaga;s__                            |\n",
      "|d__Bacteria;p__Actinobacteriota;c__Coriobacteriia;o__Coriobacteriales;f__Atopobiaceae;g__Lancefieldella;s__Lancefieldella sp000564995|\n",
      "|d__Bacteria;p__Firmicutes_C;c__Negativicutes;o__Selenomonadales;f__Selenomonadaceae;g__Centipeda;s__                                 |\n",
      "|d__Bacteria;p__Actinobacteriota;c__Actinomycetia;o__Actinomycetales;f__Actinomycetaceae;g__Pauljensenia;s__Pauljensenia sp000466265  |\n",
      "+-------------------------------------------------------------------------------------------------------------------------------------+\n",
      "only showing top 20 rows\n",
      "\n"
     ]
    }
   ],
   "source": [
    "all_df.select(f'`attributes.taxon-lineage`').show(truncate=False)"
   ]
  },
  {
   "cell_type": "markdown",
   "id": "e9e19728-338d-409c-bae8-fc3d7f6f0c2b",
   "metadata": {},
   "source": [
    "**Outputs:** Give a sample of `taxon-lineage` present in the dataset. "
   ]
  },
  {
   "cell_type": "code",
   "execution_count": 26,
   "id": "6bdf9cda-16bc-4943-a61c-dd02dd8b1d1c",
   "metadata": {},
   "outputs": [
    {
     "data": {
      "text/plain": [
       "9421"
      ]
     },
     "execution_count": 26,
     "metadata": {},
     "output_type": "execute_result"
    }
   ],
   "source": [
    "all_df.select('`id`').distinct().count()"
   ]
  },
  {
   "cell_type": "code",
   "execution_count": 27,
   "id": "feb1e9cd-06e7-4bb5-ba87-13c0e8817f50",
   "metadata": {},
   "outputs": [
    {
     "data": {
      "text/plain": [
       "7352"
      ]
     },
     "execution_count": 27,
     "metadata": {},
     "output_type": "execute_result"
    }
   ],
   "source": [
    "all_df.select('`attributes.taxon-lineage`').distinct().count()"
   ]
  },
  {
   "cell_type": "markdown",
   "id": "4588cc3b-4348-426c-b4da-79a482489324",
   "metadata": {},
   "source": [
    "**Output:** 9421 entries/ids and 7352 unique taxons."
   ]
  },
  {
   "cell_type": "markdown",
   "id": "05ae93e5-fc44-4e71-a409-a8c6e8dec003",
   "metadata": {},
   "source": [
    "#### Split the taxon-lineage column into 7 columns"
   ]
  },
  {
   "cell_type": "code",
   "execution_count": 28,
   "id": "e1c09710-6948-4705-a1e4-b0884e416d9c",
   "metadata": {},
   "outputs": [],
   "source": [
    "features = ['domain', 'phylum', 'class', 'order', 'family', 'genus', 'species']"
   ]
  },
  {
   "cell_type": "code",
   "execution_count": 29,
   "id": "7e4b841f-1d80-469f-8600-4995fbadad55",
   "metadata": {
    "tags": []
   },
   "outputs": [],
   "source": [
    "all_df1 = reduce(lambda df, i: df.withColumn(features[i], F.col('lineage_split')[i]),\n",
    "                range(len(features)),\n",
    "                all_df.withColumn('lineage_split', F.split(F.col('`attributes.taxon-lineage`'), ';')),\n",
    "                )"
   ]
  },
  {
   "cell_type": "code",
   "execution_count": 30,
   "id": "a65f77c9-fda9-4111-ae42-1abc22c30bfb",
   "metadata": {},
   "outputs": [
    {
     "name": "stdout",
     "output_type": "stream",
     "text": [
      "+-----------+------------------+------------------+--------------------+--------------------+----------------+--------------------+\n",
      "|     domain|            phylum|             class|               order|              family|           genus|             species|\n",
      "+-----------+------------------+------------------+--------------------+--------------------+----------------+--------------------+\n",
      "|d__Bacteria|   p__Firmicutes_C|  c__Negativicutes|   o__Veillonellales|  f__Megasphaeraceae| g__Anaeroglobus|s__Anaeroglobus m...|\n",
      "|d__Bacteria|   p__Bacteroidota|    c__Bacteroidia|    o__Bacteroidales|   f__Bacteroidaceae|   g__Prevotella|s__Prevotella loe...|\n",
      "|d__Bacteria|     p__Firmicutes|        c__Bacilli|  o__Lactobacillales| f__Streptococcaceae|g__Streptococcus|s__Streptococcus ...|\n",
      "|d__Bacteria|p__Patescibacteria|c__Saccharimonadia|o__Saccharimonadales|f__Saccharimonada...|     g__UMGS1907|                 s__|\n",
      "|d__Bacteria|   p__Firmicutes_C|  c__Negativicutes|  o__Selenomonadales| f__Selenomonadaceae|    g__Centipeda|                 s__|\n",
      "+-----------+------------------+------------------+--------------------+--------------------+----------------+--------------------+\n",
      "only showing top 5 rows\n",
      "\n"
     ]
    }
   ],
   "source": [
    "all_df1.select(features).show(n=5)"
   ]
  },
  {
   "cell_type": "markdown",
   "id": "162d3cc1-3562-496e-94e5-c4c74d453497",
   "metadata": {},
   "source": [
    "**Output:** 7 new columns are created containing each of the features separatly."
   ]
  },
  {
   "cell_type": "markdown",
   "id": "e24ab5c4-7bc3-46c1-a8fc-58e357788adf",
   "metadata": {},
   "source": [
    "#### Query examples on taxon-lineage column"
   ]
  },
  {
   "cell_type": "markdown",
   "id": "b455a8c9-be29-4d5d-b8dc-2bfa8b6d3c52",
   "metadata": {},
   "source": [
    "##### To search the most represented taxon:"
   ]
  },
  {
   "cell_type": "code",
   "execution_count": 31,
   "id": "768060a1-a1d2-4727-a1c8-f5fac7012901",
   "metadata": {},
   "outputs": [
    {
     "name": "stdout",
     "output_type": "stream",
     "text": [
      "+-------------------------------------------------------------------------------------------------------------+-----+\n",
      "|attributes.taxon-lineage                                                                                     |count|\n",
      "+-------------------------------------------------------------------------------------------------------------+-----+\n",
      "|d__Bacteria;p__Actinobacteriota;c__Coriobacteriia;o__Coriobacteriales;f__Coriobacteriaceae;g__Collinsella;s__|226  |\n",
      "+-------------------------------------------------------------------------------------------------------------+-----+\n",
      "\n"
     ]
    }
   ],
   "source": [
    "all_df1.groupby('`attributes.taxon-lineage`').count().filter(F.col('count')>100).show(truncate=False)"
   ]
  },
  {
   "cell_type": "markdown",
   "id": "a45d7215-650e-48ce-b777-4e439f89902b",
   "metadata": {},
   "source": [
    "**Output:**  *Collinsella* genus with no species annotated is the most represented taxon in the dataset."
   ]
  },
  {
   "cell_type": "markdown",
   "id": "5a083adf-34fa-4e6d-a110-694134bfb8b8",
   "metadata": {},
   "source": [
    "##### To search for a particular lineage:"
   ]
  },
  {
   "cell_type": "code",
   "execution_count": 32,
   "id": "20f82e09-fc23-4861-bb21-265858ef7de1",
   "metadata": {},
   "outputs": [
    {
     "data": {
      "text/plain": [
       "584"
      ]
     },
     "execution_count": 32,
     "metadata": {},
     "output_type": "execute_result"
    }
   ],
   "source": [
    "all_df1.filter(F.col('`attributes.taxon-lineage`').startswith('d__Bacteria;p__Actinobacteriota;c__Coriobacteriia;o__Coriobacteriales;f__Coriobacteriaceae;g__Collinsella')).count()"
   ]
  },
  {
   "cell_type": "markdown",
   "id": "599b9bae-8346-46c2-9df7-d58d0cc81382",
   "metadata": {},
   "source": [
    "**Output:** Number of entries for the *Collinsella* genus, across all species."
   ]
  },
  {
   "cell_type": "markdown",
   "id": "ccc58fc2-0d3f-4b9b-a02b-7f6b4047203f",
   "metadata": {},
   "source": [
    "##### To search for a particular genus:"
   ]
  },
  {
   "cell_type": "code",
   "execution_count": 33,
   "id": "040613b3-d1b2-491d-9aef-3430f88dc0ee",
   "metadata": {},
   "outputs": [
    {
     "data": {
      "text/plain": [
       "584"
      ]
     },
     "execution_count": 33,
     "metadata": {},
     "output_type": "execute_result"
    }
   ],
   "source": [
    "all_df1.filter(F.col('`attributes.taxon-lineage`').contains('Collinsella')).count()"
   ]
  },
  {
   "cell_type": "markdown",
   "id": "0241c23b-454f-4b4c-a604-7e858007a7ef",
   "metadata": {},
   "source": [
    "**Output:** Same results as previously is expected."
   ]
  },
  {
   "cell_type": "markdown",
   "id": "43c4ea7e-18ae-40c9-a190-8e40ff2974f0",
   "metadata": {},
   "source": [
    "#### Query examples on newly created columns:"
   ]
  },
  {
   "cell_type": "markdown",
   "id": "af8e1afb-f8ee-4eb2-8e88-f070008a41ab",
   "metadata": {},
   "source": [
    "To search for the most or least represented genus, species, ... in this dataset for example. The search is more flexible than for the full taxon."
   ]
  },
  {
   "cell_type": "code",
   "execution_count": 34,
   "id": "7eeb4646-ccc8-416b-ace9-9b2b2dee1a22",
   "metadata": {},
   "outputs": [
    {
     "name": "stdout",
     "output_type": "stream",
     "text": [
      "+--------------+-----+\n",
      "|         genus|count|\n",
      "+--------------+-----+\n",
      "| g__Prevotella|  351|\n",
      "|        g__RC9|  152|\n",
      "|           g__|  325|\n",
      "|g__Collinsella|  584|\n",
      "+--------------+-----+\n",
      "\n"
     ]
    }
   ],
   "source": [
    "all_df1.groupby('genus').count().filter(F.col('count')>100).show()"
   ]
  },
  {
   "cell_type": "markdown",
   "id": "666c45bf-83a0-49ad-b098-1408a18e5dd1",
   "metadata": {},
   "source": [
    "**Output:** As previously, the genus *Collinsella* is the most represented with 584 entries.  \n",
    "The advanges of having the taxon splitted in several columns, allow to show that the genus *Prevotella*, RC9 are among the most represented in this dataset. And also that 325 of the taxons in the database don't have a genus.  \n",
    "The reason why those taxons didn't appear in the query on the `taxon-lineage` column is that the number of different species indexed for each genus compared to the number of hints calculated are proportionaly higher than for *Collinsella* genus."
   ]
  },
  {
   "cell_type": "code",
   "execution_count": 35,
   "id": "68f0c0b4-7a63-4e1f-8ed0-4d4c564fe351",
   "metadata": {},
   "outputs": [
    {
     "name": "stdout",
     "output_type": "stream",
     "text": [
      "+--------------+--------------+\n",
      "|         genus|count(species)|\n",
      "+--------------+--------------+\n",
      "| g__Prevotella|           278|\n",
      "|        g__RC9|           113|\n",
      "|g__Collinsella|           277|\n",
      "+--------------+--------------+\n",
      "\n"
     ]
    }
   ],
   "source": [
    "all_df1.filter(F.col('genus').isin('g__Prevotella', 'g__RC9', 'g__Collinsella')).groupby('genus').agg(F.countDistinct('species')).show()"
   ]
  },
  {
   "cell_type": "code",
   "execution_count": 36,
   "id": "a9c7c3f4-91ff-4060-bbd5-110b2e0a83e3",
   "metadata": {},
   "outputs": [
    {
     "name": "stdout",
     "output_type": "stream",
     "text": [
      "Prevotella: 1.2625899280575539\n",
      "RC9: 1.345132743362832\n",
      "Collinsella: 2.108303249097473. \n"
     ]
    }
   ],
   "source": [
    "print(f'Prevotella: {351/278}')\n",
    "print(f'RC9: {152/113}')\n",
    "print(f'Collinsella: {584/277}. ')"
   ]
  },
  {
   "cell_type": "code",
   "execution_count": 37,
   "id": "d66ba971-bc47-4840-aed4-4ab62245ed6d",
   "metadata": {},
   "outputs": [
    {
     "name": "stdout",
     "output_type": "stream",
     "text": [
      "+----------------------------+\n",
      "|species                     |\n",
      "+----------------------------+\n",
      "|s__Collinsella sp900547765  |\n",
      "|s__Collinsella sp900548935  |\n",
      "|s__Collinsella aerofaciens_N|\n",
      "|s__Collinsella sp900754445  |\n",
      "|s__Collinsella sp900549455  |\n",
      "|s__Collinsella sp900549715  |\n",
      "|s__Collinsella sp900541195  |\n",
      "|s__Collinsella sp003466125  |\n",
      "|s__Collinsella sp900555765  |\n",
      "|s__Collinsella sp900547505  |\n",
      "|s__Collinsella sp900544995  |\n",
      "|s__Collinsella sp900551555  |\n",
      "|s__Collinsella sp900556495  |\n",
      "|s__Collinsella sp900556415  |\n",
      "|s__Collinsella sp003438495  |\n",
      "|s__Collinsella sp900554255  |\n",
      "|s__Collinsella sp900548565  |\n",
      "|s__Collinsella sp900545615  |\n",
      "|s__Collinsella sp900553415  |\n",
      "|s__Collinsella sp900545165  |\n",
      "+----------------------------+\n",
      "only showing top 20 rows\n",
      "\n"
     ]
    }
   ],
   "source": [
    "all_df1.filter(F.col('genus')=='g__Collinsella').select('species').distinct().show(truncate=False)"
   ]
  },
  {
   "cell_type": "markdown",
   "id": "c164d284-e1ed-414b-a563-ea74575be872",
   "metadata": {},
   "source": [
    "**Output:** Show a sample of *Collinsella* species present in the dataset."
   ]
  },
  {
   "cell_type": "markdown",
   "id": "3e4c9488-8d3f-45a8-a3ba-fe5480a7ad11",
   "metadata": {},
   "source": [
    "## Graphical representation"
   ]
  },
  {
   "cell_type": "markdown",
   "id": "9668b44e-98ec-409b-a733-1eb0ea6018f0",
   "metadata": {},
   "source": [
    "In this section are examples of graphical representations that migth be obtained from data of this dataset."
   ]
  },
  {
   "cell_type": "code",
   "execution_count": 38,
   "id": "dfb01512-ad4c-4563-b02b-17be2018fe49",
   "metadata": {},
   "outputs": [
    {
     "data": {
      "text/plain": [
       "9421"
      ]
     },
     "execution_count": 38,
     "metadata": {},
     "output_type": "execute_result"
    }
   ],
   "source": [
    "all_df1.count()"
   ]
  },
  {
   "cell_type": "markdown",
   "id": "a4dd561e-8ad4-44d6-9aae-c4226e1378e6",
   "metadata": {},
   "source": [
    "#### Representation of the bacterial taxon-lineage"
   ]
  },
  {
   "cell_type": "markdown",
   "id": "f6234f70-fd2b-49b1-a631-0feae0194342",
   "metadata": {},
   "source": [
    "Gives an idea of the representation (proportional) of each taxon in the dataset."
   ]
  },
  {
   "cell_type": "markdown",
   "id": "f28b0b6e-903b-4d2d-8a31-f756383ad08f",
   "metadata": {},
   "source": [
    "List of the features used for the graphical representation: *(see section 1.4.4.1 where the feature variable is defined)*"
   ]
  },
  {
   "cell_type": "code",
   "execution_count": 39,
   "id": "f37da256-d9c7-4093-a1bd-9a2485f4b69d",
   "metadata": {},
   "outputs": [
    {
     "data": {
      "text/plain": [
       "['domain', 'phylum', 'class', 'order', 'family', 'genus', 'species']"
      ]
     },
     "execution_count": 39,
     "metadata": {},
     "output_type": "execute_result"
    }
   ],
   "source": [
    "features "
   ]
  },
  {
   "cell_type": "code",
   "execution_count": 40,
   "id": "c49ec428-80e0-4538-b664-568c444f2d0b",
   "metadata": {},
   "outputs": [
    {
     "name": "stdout",
     "output_type": "stream",
     "text": [
      "+------------+------------+-----------+-----------+------------+-----------+-------------+\n",
      "|domain_count|phylum_count|class_count|order_count|family_count|genus_count|species_count|\n",
      "+------------+------------+-----------+-----------+------------+-----------+-------------+\n",
      "|           2|          56|        107|        293|         585|       1991|         6263|\n",
      "+------------+------------+-----------+-----------+------------+-----------+-------------+\n",
      "\n"
     ]
    }
   ],
   "source": [
    "all_df1.select([F.count_distinct(x).alias(f'{features[i]}_count') for i, x in enumerate([*features])]).show()"
   ]
  },
  {
   "cell_type": "markdown",
   "id": "768ffd7c-5342-463c-b42d-5b41375e8b66",
   "metadata": {},
   "source": [
    "**Output:** Count of the distinct values for each categories."
   ]
  },
  {
   "cell_type": "markdown",
   "id": "e9e1aba4-cf38-4a9b-86ab-e8f248d4c46c",
   "metadata": {},
   "source": [
    "Function used for graphic representation:   \n",
    "*Note: Colours and node size can be changed in the code below.*"
   ]
  },
  {
   "cell_type": "code",
   "execution_count": 41,
   "id": "b42163b3-83a3-4e6c-9cdd-540f80f0bcaa",
   "metadata": {
    "scrolled": true,
    "tags": []
   },
   "outputs": [],
   "source": [
    "def get_Sankey(df,cat_cols=[],value_cols='', title='Sankey Diagram'):\n",
    "    # Colors\n",
    "    colorPalette = ['rgba(31, 119, 180, 0.8)',\n",
    "     'rgba(255, 127, 14, 0.8)',\n",
    "     'rgba(44, 160, 44, 0.8)',\n",
    "     'rgba(214, 39, 40, 0.8)',\n",
    "     'rgba(148, 103, 189, 0.8)',\n",
    "     'rgba(140, 86, 75, 0.8)',\n",
    "     'rgba(227, 119, 194, 0.8)',\n",
    "     'rgba(127, 127, 127, 0.8)']\n",
    "    labelList = []\n",
    "    colorNumList = []\n",
    "    for catCol in cat_cols:\n",
    "        labelListTemp =  list(set(df[catCol].values))\n",
    "        colorNumList.append(len(labelListTemp))\n",
    "        labelList = labelList + labelListTemp\n",
    " \n",
    "    # remove duplicates from labelList\n",
    "    labelList = list(dict.fromkeys(labelList))\n",
    " \n",
    "    # define colors based on number of levels\n",
    "    colorList = []\n",
    "    for idx, colorNum in enumerate(colorNumList):\n",
    "        colorList = colorList + [colorPalette[idx]]*colorNum\n",
    "\n",
    "    # transform df into a source-target pair\n",
    "    for i in range(len(cat_cols)-1):\n",
    "        if i==0:\n",
    "            sourceTargetDf = df[[cat_cols[i],cat_cols[i+1],value_cols]]\n",
    "            sourceTargetDf.columns = ['source','target','count']\n",
    "        else:\n",
    "            tempDf = df[[cat_cols[i],cat_cols[i+1],value_cols]]\n",
    "            tempDf.columns = ['source','target','count']\n",
    "            sourceTargetDf = pd.concat([sourceTargetDf,tempDf])\n",
    "        sourceTargetDf = sourceTargetDf.groupby(['source','target']).agg({'count':'sum'}).reset_index()\n",
    " \n",
    "    # add index for source-target pair\n",
    "    sourceTargetDf['sourceID'] = sourceTargetDf['source'].apply(lambda x: labelList.index(x))\n",
    "    sourceTargetDf['targetID'] = sourceTargetDf['target'].apply(lambda x: labelList.index(x))\n",
    " \n",
    "    # creating data for the sankey diagram\n",
    "    data = dict(\n",
    "        type='sankey',\n",
    "        node = dict(\n",
    "            pad = 15,\n",
    "            thickness = 20,\n",
    "            line = dict(\n",
    "                color = \"black\",\n",
    "                width = 0.5\n",
    "            ),\n",
    "            label = labelList,\n",
    "            color = colorList\n",
    "        ),\n",
    "        link = dict(\n",
    "            source = sourceTargetDf['sourceID'],\n",
    "            target = sourceTargetDf['targetID'],\n",
    "            value = sourceTargetDf['count']\n",
    "        )\n",
    "    )\n",
    "    \n",
    "    # override gray link colors with 'source' colors\n",
    "    opacity = 0.4\n",
    "    # change 'magenta' to its 'rgba' value to add opacity\n",
    "    data['node']['color'] = ['rgba(255,0,255, 0.8)' if color == \"magenta\" else color for color in data['node']['color']]\n",
    "    data['link']['color'] = [data['node']['color'][src].replace(\"0.8\", str(opacity))\n",
    "                                        for src in data['link']['source']]\n",
    "    \n",
    "    \n",
    "    fig = go.Figure(data=[go.Sankey(\n",
    "    # Define nodes\n",
    "    node = dict(\n",
    "      pad = 15,\n",
    "      thickness = 15,\n",
    "      line = dict(color = \"black\", width = 0.5),\n",
    "      label =  data['node']['label'],\n",
    "      color =  data['node']['color']\n",
    "    ),\n",
    "    # Add links\n",
    "    link = dict(\n",
    "      source =  data['link']['source'],\n",
    "      target =  data['link']['target'],\n",
    "      value =  data['link']['value'],\n",
    "      color =  data['link']['color']\n",
    "    ))])\n",
    "    \n",
    "    fig.update_layout(title_text=title, font_size=10)\n",
    "    \n",
    "    return fig.show(renderer='iframe')"
   ]
  },
  {
   "cell_type": "markdown",
   "id": "49451ac7-7fd6-4a63-a859-13509967ec29",
   "metadata": {},
   "source": [
    "Taxon-lineage represented in Genomes dataset"
   ]
  },
  {
   "cell_type": "code",
   "execution_count": 42,
   "id": "4aa7a0bf-f182-432a-9e43-17667a3cff7d",
   "metadata": {},
   "outputs": [],
   "source": [
    "# Convert Spark DataFrame to Pandas DataFrame:\n",
    "pdf = all_df1.select(features).groupby(features).count().toPandas()"
   ]
  },
  {
   "cell_type": "code",
   "execution_count": 43,
   "id": "64aec10b-0ad0-49eb-91ab-da002aec2d5f",
   "metadata": {},
   "outputs": [
    {
     "data": {
      "text/html": [
       "<iframe\n",
       "    scrolling=\"no\"\n",
       "    width=\"100%\"\n",
       "    height=\"545px\"\n",
       "    src=\"iframe_figures/figure_43.html\"\n",
       "    frameborder=\"0\"\n",
       "    allowfullscreen\n",
       "></iframe>\n"
      ]
     },
     "metadata": {},
     "output_type": "display_data"
    }
   ],
   "source": [
    "# Title and number of displayed features can be modified  \n",
    "fig = get_Sankey(pdf,cat_cols=features[0:4], value_cols='count', title='Taxon-lineage represented in Genomes dataset')"
   ]
  },
  {
   "cell_type": "markdown",
   "id": "c06326ba-091b-4244-80ea-f4cc0edc115b",
   "metadata": {},
   "source": [
    "#### Representation of a sample of the genomes present in the dataset: Example of the order of the Lactobacillales."
   ]
  },
  {
   "cell_type": "code",
   "execution_count": 44,
   "id": "f3e00eea-1076-4955-8076-6135e6fe51ab",
   "metadata": {},
   "outputs": [],
   "source": [
    "pdf_lactobacillales = all_df1.filter(F.col('order')=='o__Lactobacillales').select(features).groupby(features).count().toPandas()"
   ]
  },
  {
   "cell_type": "code",
   "execution_count": 45,
   "id": "714bd0a1-265d-4d00-bd92-cdf8d110a166",
   "metadata": {},
   "outputs": [
    {
     "data": {
      "text/html": [
       "<iframe\n",
       "    scrolling=\"no\"\n",
       "    width=\"100%\"\n",
       "    height=\"545px\"\n",
       "    src=\"iframe_figures/figure_45.html\"\n",
       "    frameborder=\"0\"\n",
       "    allowfullscreen\n",
       "></iframe>\n"
      ]
     },
     "metadata": {},
     "output_type": "display_data"
    }
   ],
   "source": [
    "fig_l = get_Sankey(pdf_lactobacillales,cat_cols=features[0:6], value_cols='count',title='Genomes from the Lactobacillales order')"
   ]
  },
  {
   "cell_type": "code",
   "execution_count": 46,
   "id": "5d90316c-19d4-44e5-aecf-34ff212c2398",
   "metadata": {},
   "outputs": [
    {
     "data": {
      "text/plain": [
       "164"
      ]
     },
     "execution_count": 46,
     "metadata": {},
     "output_type": "execute_result"
    }
   ],
   "source": [
    "all_df1.filter(F.col('order')=='o__Lactobacillales').select('species').distinct().count()"
   ]
  },
  {
   "cell_type": "markdown",
   "id": "43ec4744-f4c7-4943-a86f-45bac4fb6e2e",
   "metadata": {},
   "source": [
    "**Output:** 164 distinct species are present in the database for the order of the Lactobacillales.    \n",
    "There are too numerous to be represented on this graph."
   ]
  },
  {
   "cell_type": "markdown",
   "id": "e1f42e27-5db8-4d94-8779-2c796cd5838d",
   "metadata": {},
   "source": [
    "### Information such as genome length or GC-content can also be represented"
   ]
  },
  {
   "cell_type": "markdown",
   "id": "b193dc08-a673-4183-b0b1-d6bf260556ec",
   "metadata": {},
   "source": [
    "Representation can be made by family, genus, species... depending on the number of sequence available and on the biological significance."
   ]
  },
  {
   "cell_type": "code",
   "execution_count": 47,
   "id": "ec928cc0-3fd4-4d5e-a11b-aaa0a5e524f6",
   "metadata": {},
   "outputs": [],
   "source": [
    "lactobacillales_df = all_df1.filter(F.col('order')=='o__Lactobacillales').orderBy('family').toPandas()\n",
    "lactobacillales_count = all_df1.filter(F.col('order')=='o__Lactobacillales').groupby('family').count().orderBy('family').toPandas()"
   ]
  },
  {
   "cell_type": "code",
   "execution_count": 48,
   "id": "540fb8d3-bbed-4498-89ef-2361eaf667a4",
   "metadata": {},
   "outputs": [
    {
     "data": {
      "text/html": [
       "<div>\n",
       "<style scoped>\n",
       "    .dataframe tbody tr th:only-of-type {\n",
       "        vertical-align: middle;\n",
       "    }\n",
       "\n",
       "    .dataframe tbody tr th {\n",
       "        vertical-align: top;\n",
       "    }\n",
       "\n",
       "    .dataframe thead th {\n",
       "        text-align: right;\n",
       "    }\n",
       "</style>\n",
       "<table border=\"1\" class=\"dataframe\">\n",
       "  <thead>\n",
       "    <tr style=\"text-align: right;\">\n",
       "      <th></th>\n",
       "      <th>family</th>\n",
       "      <th>count</th>\n",
       "    </tr>\n",
       "  </thead>\n",
       "  <tbody>\n",
       "    <tr>\n",
       "      <th>0</th>\n",
       "      <td>f__Aerococcaceae</td>\n",
       "      <td>12</td>\n",
       "    </tr>\n",
       "    <tr>\n",
       "      <th>1</th>\n",
       "      <td>f__Enterococcaceae</td>\n",
       "      <td>20</td>\n",
       "    </tr>\n",
       "    <tr>\n",
       "      <th>2</th>\n",
       "      <td>f__Lactobacillaceae</td>\n",
       "      <td>86</td>\n",
       "    </tr>\n",
       "    <tr>\n",
       "      <th>3</th>\n",
       "      <td>f__Listeriaceae</td>\n",
       "      <td>4</td>\n",
       "    </tr>\n",
       "    <tr>\n",
       "      <th>4</th>\n",
       "      <td>f__Streptococcaceae</td>\n",
       "      <td>100</td>\n",
       "    </tr>\n",
       "    <tr>\n",
       "      <th>5</th>\n",
       "      <td>f__Vagococcaceae</td>\n",
       "      <td>2</td>\n",
       "    </tr>\n",
       "  </tbody>\n",
       "</table>\n",
       "</div>"
      ],
      "text/plain": [
       "                family  count\n",
       "0     f__Aerococcaceae     12\n",
       "1   f__Enterococcaceae     20\n",
       "2  f__Lactobacillaceae     86\n",
       "3      f__Listeriaceae      4\n",
       "4  f__Streptococcaceae    100\n",
       "5     f__Vagococcaceae      2"
      ]
     },
     "execution_count": 48,
     "metadata": {},
     "output_type": "execute_result"
    }
   ],
   "source": [
    "lactobacillales_count"
   ]
  },
  {
   "cell_type": "code",
   "execution_count": 49,
   "id": "75dc459c-9a5a-4687-8b26-8d33049ade9d",
   "metadata": {},
   "outputs": [
    {
     "data": {
      "text/plain": [
       "Text(0.5, 0.98, 'Number of genomes avalaible, genome length and GC-content of bacteria belonging the Lactobacillales order')"
      ]
     },
     "execution_count": 49,
     "metadata": {},
     "output_type": "execute_result"
    },
    {
     "data": {
      "image/png": "[encoded data removed]",
      "text/plain": [
       "<Figure size 1000x1000 with 3 Axes>"
      ]
     },
     "metadata": {},
     "output_type": "display_data"
    }
   ],
   "source": [
    "fig = plt.figure(figsize=(10, 10), layout=\"constrained\")\n",
    "spec = fig.add_gridspec(3, 1)\n",
    "\n",
    "ax00 = fig.add_subplot(spec[0, 0])\n",
    "sns.barplot(data=lactobacillales_count, x='family', y='count')\n",
    "plt.ylabel(\"Number of genome available\")\n",
    "\n",
    "ax10 = fig.add_subplot(spec[1, 0])\n",
    "sns.boxplot(data=lactobacillales_df, x='family', y='attributes.length')\n",
    "plt.ylabel(\"Genome length (bp)\")\n",
    "#plt.xlabel(\"Family of the Lactobacillales order\")\n",
    "\n",
    "ax20 = fig.add_subplot(spec[2, 0])\n",
    "sns.boxplot(data=lactobacillales_df, x='family', y='attributes.gc-content')\n",
    "plt.ylabel(\"GC-content (%)\")\n",
    "plt.xlabel(\"Family of the Lactobacillales order\")\n",
    "\n",
    "\n",
    "fig.suptitle('Number of genomes avalaible, genome length and GC-content of bacteria belonging the Lactobacillales order')\n",
    "#plt.savefig(\"outputs/plots/lactobacillales_1.png\",transparent=True)"
   ]
  },
  {
   "cell_type": "code",
   "execution_count": 50,
   "id": "ad370aaa-1c3a-4fe4-bc06-887b9f5b8553",
   "metadata": {},
   "outputs": [
    {
     "data": {
      "text/plain": [
       "Text(0.5, 0.98, 'Biome and Catalogue related to bacteria belonging the Lactobacillales order')"
      ]
     },
     "execution_count": 50,
     "metadata": {},
     "output_type": "execute_result"
    },
    {
     "data": {
      "image/png": "[encoded data removed]",
      "text/plain": [
       "<Figure size 2000x500 with 1 Axes>"
      ]
     },
     "metadata": {},
     "output_type": "display_data"
    }
   ],
   "source": [
    "fig = plt.figure(figsize=(20, 5))\n",
    "spec = fig.add_gridspec(1, 2)\n",
    "\n",
    "#ax00 = fig.add_subplot(spec[0, 0])\n",
    "#lactobacillales_df['relationships.biome.data.id'].hist()\n",
    "#plt.xlabel(\"Biome\")\n",
    "\n",
    "ax01 = fig.add_subplot(spec[0:])\n",
    "lactobacillales_df['relationships.catalogue.data.id'].hist()\n",
    "plt.xlabel(\"Catalogue\")\n",
    "ax01.grid(False)\n",
    "\n",
    "fig.suptitle('Biome and Catalogue related to bacteria belonging the Lactobacillales order')\n",
    "#plt.savefig(\"outputs/plots/lactobacillales_2.png\",transparent=True)"
   ]
  },
  {
   "cell_type": "markdown",
   "id": "843cda21-09e2-4c15-a337-255a92f8c7bc",
   "metadata": {},
   "source": [
    "### More example: Produce a similar Figure than Extended Data Fig. 4 a from (https://www.nature.com/articles/s41587-020-0603-3/figures/10)"
   ]
  },
  {
   "cell_type": "code",
   "execution_count": 51,
   "id": "9203b5ba-03d4-481b-b76b-728fa6248b37",
   "metadata": {},
   "outputs": [],
   "source": [
    "test_df = all_df1.toPandas()"
   ]
  },
  {
   "cell_type": "markdown",
   "id": "6a97927a-ff3c-4f16-aca0-49aea900c4c5",
   "metadata": {},
   "source": [
    "Statistical informations can be obtained with the `describe` function... (see section 1.4.3)"
   ]
  },
  {
   "cell_type": "code",
   "execution_count": 52,
   "id": "92fc6672-b5a4-48c2-bf5e-a75e1bd2c2a8",
   "metadata": {},
   "outputs": [
    {
     "data": {
      "text/html": [
       "<div>\n",
       "<style scoped>\n",
       "    .dataframe tbody tr th:only-of-type {\n",
       "        vertical-align: middle;\n",
       "    }\n",
       "\n",
       "    .dataframe tbody tr th {\n",
       "        vertical-align: top;\n",
       "    }\n",
       "\n",
       "    .dataframe thead th {\n",
       "        text-align: right;\n",
       "    }\n",
       "</style>\n",
       "<table border=\"1\" class=\"dataframe\">\n",
       "  <thead>\n",
       "    <tr style=\"text-align: right;\">\n",
       "      <th></th>\n",
       "      <th>attributes.completeness</th>\n",
       "      <th>attributes.contamination</th>\n",
       "    </tr>\n",
       "  </thead>\n",
       "  <tbody>\n",
       "    <tr>\n",
       "      <th>count</th>\n",
       "      <td>9421.000000</td>\n",
       "      <td>9421.000000</td>\n",
       "    </tr>\n",
       "    <tr>\n",
       "      <th>mean</th>\n",
       "      <td>89.622223</td>\n",
       "      <td>1.080019</td>\n",
       "    </tr>\n",
       "    <tr>\n",
       "      <th>std</th>\n",
       "      <td>10.601593</td>\n",
       "      <td>1.130176</td>\n",
       "    </tr>\n",
       "    <tr>\n",
       "      <th>min</th>\n",
       "      <td>50.060000</td>\n",
       "      <td>0.000000</td>\n",
       "    </tr>\n",
       "    <tr>\n",
       "      <th>25%</th>\n",
       "      <td>85.080000</td>\n",
       "      <td>0.030000</td>\n",
       "    </tr>\n",
       "    <tr>\n",
       "      <th>50%</th>\n",
       "      <td>93.030000</td>\n",
       "      <td>0.810000</td>\n",
       "    </tr>\n",
       "    <tr>\n",
       "      <th>75%</th>\n",
       "      <td>97.630000</td>\n",
       "      <td>1.620000</td>\n",
       "    </tr>\n",
       "    <tr>\n",
       "      <th>max</th>\n",
       "      <td>100.000000</td>\n",
       "      <td>5.000000</td>\n",
       "    </tr>\n",
       "  </tbody>\n",
       "</table>\n",
       "</div>"
      ],
      "text/plain": [
       "       attributes.completeness  attributes.contamination\n",
       "count              9421.000000               9421.000000\n",
       "mean                 89.622223                  1.080019\n",
       "std                  10.601593                  1.130176\n",
       "min                  50.060000                  0.000000\n",
       "25%                  85.080000                  0.030000\n",
       "50%                  93.030000                  0.810000\n",
       "75%                  97.630000                  1.620000\n",
       "max                 100.000000                  5.000000"
      ]
     },
     "execution_count": 52,
     "metadata": {},
     "output_type": "execute_result"
    }
   ],
   "source": [
    "test_df[['attributes.completeness', 'attributes.contamination']].describe()"
   ]
  },
  {
   "cell_type": "markdown",
   "id": "77322f03-9754-49c2-a7ce-751164ba6f1b",
   "metadata": {},
   "source": [
    "... and visualised in plots:"
   ]
  },
  {
   "cell_type": "code",
   "execution_count": 53,
   "id": "9ef819db-b415-4c7a-9f6a-a3613a830d3f",
   "metadata": {},
   "outputs": [
    {
     "data": {
      "text/plain": [
       "Text(0.5, 0.98, 'Quality of genomes avalaible')"
      ]
     },
     "execution_count": 53,
     "metadata": {},
     "output_type": "execute_result"
    },
    {
     "data": {
      "image/png": "[encoded data removed]",
      "text/plain": [
       "<Figure size 500x1000 with 1 Axes>"
      ]
     },
     "metadata": {},
     "output_type": "display_data"
    }
   ],
   "source": [
    "fig = plt.figure(figsize=(5, 10), layout=\"constrained\")\n",
    "spec = fig.add_gridspec(1, 1)\n",
    "\n",
    "ax00 = fig.add_subplot(spec[0, 0])\n",
    "sns.boxplot(data=test_df[['attributes.completeness', 'attributes.contamination']])\n",
    "plt.ylabel(\"%\")\n",
    "\n",
    "\n",
    "fig.suptitle('Quality of genomes avalaible')\n",
    "#plt.savefig(\"outputs/lactobacillales_1.png\",transparent=True)"
   ]
  },
  {
   "cell_type": "markdown",
   "id": "5d3cf976-2228-4c33-8164-13977bcb8ff3",
   "metadata": {},
   "source": [
    "## Find out whether your own MAGs are novel compared to the MGnify catalogues"
   ]
  },
  {
   "cell_type": "markdown",
   "id": "9d466cc7-ce61-470d-8301-cd5490a9ed9a",
   "metadata": {},
   "source": [
    "Another important use is to query your own MAG against MGnify's MAG catalogues, to see whether they are novel or already represented"
   ]
  },
  {
   "cell_type": "markdown",
   "id": "fd0c06a1-e0be-4619-be24-3c7d3a464fea",
   "metadata": {},
   "source": [
    "### List directories of the files to be analysed:"
   ]
  },
  {
   "cell_type": "markdown",
   "id": "67721763-ff5e-448e-b0ec-b64a615a8919",
   "metadata": {},
   "source": [
    "Replace the str with your own path to folder containing your files. `*` allows to query all the file with the `.fa` extension."
   ]
  },
  {
   "cell_type": "code",
   "execution_count": 54,
   "id": "2196b200-d6a3-4517-8dd5-82ef7e92e39f",
   "metadata": {},
   "outputs": [],
   "source": [
    "files = glob.glob('inputs/*.fa')"
   ]
  },
  {
   "cell_type": "code",
   "execution_count": 55,
   "id": "5a09b406-9bb1-43b6-9c48-ae211247ccd4",
   "metadata": {},
   "outputs": [
    {
     "data": {
      "text/plain": [
       "['inputs/bin.1.fa',\n",
       " 'inputs/bin.3.fa',\n",
       " 'inputs/bin.5.fa',\n",
       " 'inputs/bin.4.fa',\n",
       " 'inputs/bin.2.fa']"
      ]
     },
     "execution_count": 55,
     "metadata": {},
     "output_type": "execute_result"
    }
   ],
   "source": [
    "files"
   ]
  },
  {
   "cell_type": "markdown",
   "id": "a68bdb34-f89e-4441-942f-dfa07ad7be72",
   "metadata": {
    "tags": []
   },
   "source": [
    "### Compute a sourmash sketch for each MAG"
   ]
  },
  {
   "cell_type": "markdown",
   "id": "5913c12a-1de8-461a-b0a2-b83b714dc24c",
   "metadata": {},
   "source": [
    "Create \"sketches\" for each MAG using Sourmash\n",
    "(https://sourmash.readthedocs.io/en/latest/index.html#sourmash-in-brief)"
   ]
  },
  {
   "cell_type": "markdown",
   "id": "8b186d78-0fdc-48aa-8bc8-f3788eea34cd",
   "metadata": {},
   "source": [
    "A sketch goes into a signature, that we will use for searching. The signature is a sort of collection of hashes that are well suited for calculating the containment of your MAGs within the catalogue's MAGs."
   ]
  },
  {
   "cell_type": "code",
   "execution_count": 56,
   "id": "d8486a4f-d642-4428-bc15-3032ddfe911d",
   "metadata": {
    "tags": []
   },
   "outputs": [],
   "source": [
    "for mag in files:\n",
    "    # The sourmash parameters are chosen to match those used within MGnify\n",
    "    sketch = sourmash.MinHash(n=0, ksize=31, scaled=1000)\n",
    "    \n",
    "    # A fasta file may have multiple records in it. Add them all to the sourmash signature.\n",
    "    for index, record in enumerate(SeqIO.parse(mag, 'fasta')):\n",
    "        sketch.add_sequence(str(record.seq))\n",
    "        \n",
    "    # Save the sourmash sketch as a \"signature\" file\n",
    "    signature = sourmash.SourmashSignature(sketch, name=record.name)\n",
    "    with open('outputs/signatures/'+ pp(pp(mag).name).stem + '.sig', 'wt') as fp:\n",
    "        sourmash.save_signatures([signature], fp)"
   ]
  },
  {
   "cell_type": "markdown",
   "id": "e9c05e63-cad2-4352-85c5-36b3166c3c8a",
   "metadata": {},
   "source": [
    "### Fetch all of the catalogue IDs currently available on MGnify"
   ]
  },
  {
   "cell_type": "markdown",
   "id": "91362715-211b-4a0b-86d6-37d4b8c15aaf",
   "metadata": {},
   "source": [
    "To fetch the `catalogue IDs` to the MGnify API, use the following endpoint: `https://www.ebi.ac.uk/metagenomics/api/v1/genome-catalogues`.  "
   ]
  },
  {
   "cell_type": "code",
   "execution_count": 57,
   "id": "ebf89280-c01c-41e1-9daf-018d95a25194",
   "metadata": {},
   "outputs": [],
   "source": [
    "catalogue_endpoint = \"genome-catalogues\""
   ]
  },
  {
   "cell_type": "code",
   "execution_count": 58,
   "id": "38ead2f1-fc2c-43c3-9f11-b9e406cb0132",
   "metadata": {},
   "outputs": [],
   "source": [
    "with APISession(\"https://www.ebi.ac.uk/metagenomics/api/v1\") as mgnify:\n",
    "    catalogues = map(lambda r: r.json, mgnify.iterate(catalogue_endpoint))\n",
    "    catalogues = pd.json_normalize(catalogues)"
   ]
  },
  {
   "cell_type": "code",
   "execution_count": 59,
   "id": "e2910a99-29c5-475d-95b7-6ab4850f9e5f",
   "metadata": {},
   "outputs": [
    {
     "data": {
      "text/plain": [
       "['cow-rumen-v1-0', 'human-gut-v2-0', 'human-oral-v1-0', 'marine-v1-0']"
      ]
     },
     "execution_count": 59,
     "metadata": {},
     "output_type": "execute_result"
    }
   ],
   "source": [
    "catalogue_ids = list(catalogues['id'])\n",
    "catalogue_ids"
   ]
  },
  {
   "cell_type": "markdown",
   "id": "5646fa34-f602-476c-96b6-4fbcf4774145",
   "metadata": {},
   "source": [
    "### Submit a search job to the MGnify API"
   ]
  },
  {
   "cell_type": "markdown",
   "id": "253bc73e-79b3-4361-86d9-bc0668ff6b8a",
   "metadata": {},
   "source": [
    "To`submit a job` to the MGnify API, use the following endpoint: `https://www.ebi.ac.uk/metagenomics/api/v1/genomes-search/gather`.  \n",
    "Data will be send to the API, which is called \"POST\"ing data in the API world.  \n",
    "This part of the API is quite specialized and so is not a formal JSON:API, the `requests` Python packageìs therefore used to communicate with it."
   ]
  },
  {
   "cell_type": "code",
   "execution_count": 60,
   "id": "617dd142-5d9d-4139-aff0-60f7a4eadadf",
   "metadata": {},
   "outputs": [],
   "source": [
    "endpoint = 'https://www.ebi.ac.uk/metagenomics/api/v1/genomes-search/gather'"
   ]
  },
  {
   "cell_type": "code",
   "execution_count": 61,
   "id": "a4b39e1a-4c1f-4686-b03b-5e47782f3ba9",
   "metadata": {},
   "outputs": [
    {
     "name": "stdout",
     "output_type": "stream",
     "text": [
      "{'data': {'message': 'Your files bin.4.sig,bin.1.sig,bin.5.sig,bin.3.sig,bin.2.sig were successfully uploaded. Use the given URL to check the status of the new job', 'job_id': 'fc655e22-176a-480a-8b38-29f60db5b896', 'children_ids': None, 'signatures_received': ['bin.4.sig', 'bin.1.sig', 'bin.5.sig', 'bin.3.sig', 'bin.2.sig'], 'status_URL': 'https://www.ebi.ac.uk/metagenomics/api/v1/genomes-search/status/fc655e22-176a-480a-8b38-29f60db5b896'}}\n"
     ]
    }
   ],
   "source": [
    "# Create a list of file uploads, and attach them to the API request\n",
    "signatures = [open(sig, 'rb') for sig in glob.glob('outputs/signatures/*.sig')]\n",
    "sketch_uploads = [('file_uploaded', signature) for signature in signatures]\n",
    "\n",
    "# Send the API request - it specifies which catalogue to search against and attaches all of the signature files.\n",
    "submitted_job = requests.post(endpoint, data={'mag_catalogues': catalogue_ids}, files=sketch_uploads).json()\n",
    "\n",
    "\n",
    "map(lambda fp: fp.close(), signatures)  # tidy up open file pointers\n",
    "\n",
    "print(submitted_job)"
   ]
  },
  {
   "cell_type": "markdown",
   "id": "dc03f7b3-c4cf-4812-a34c-238834beb68c",
   "metadata": {},
   "source": [
    "### Wait for the results to be ready"
   ]
  },
  {
   "cell_type": "markdown",
   "id": "b1436808-50dc-4017-9692-22e8c5c500a6",
   "metadata": {},
   "source": [
    "As you can see in the `printed submitted_job` above, a status_URL was returned in the response from submitting the job via the API. Since the job is in a queue, this status_URL must be polled to wait for our job to be completed.  \n",
    "Below is an example to check every 2 seconds until ALL of the jobs are finished. The time can be easily change (to 10s in the example below) by setting a different sleeping value:\n",
    "```python\n",
    "time.sleep(10)\n",
    "```"
   ]
  },
  {
   "cell_type": "code",
   "execution_count": 62,
   "id": "7eaf5d5d-9759-4f51-b800-032ec1f08510",
   "metadata": {},
   "outputs": [
    {
     "name": "stdout",
     "output_type": "stream",
     "text": [
      "Checking status...\n",
      "Still waiting for jobs to complete. Current status of jobs\n",
      "Will check again in 2 seconds\n",
      "Still waiting for jobs to complete. Current status of jobs\n",
      "Will check again in 2 seconds\n",
      "Job done!\n"
     ]
    }
   ],
   "source": [
    "job_done = False\n",
    "while not job_done:\n",
    "    print('Checking status...')\n",
    "    # The status_URL is another API endpoint that's unique for the submitted search job\n",
    "    query_result = None\n",
    "    \n",
    "    while not query_result:\n",
    "        query_result = requests.get(submitted_job['data']['status_URL'])\n",
    "        print('Still waiting for jobs to complete. Current status of jobs')\n",
    "        print('Will check again in 2 seconds')\n",
    "        time.sleep(2) \n",
    "        \n",
    "    queries_status = {sig['job_id']: sig['status'] for sig in query_result.json()['data']['signatures']}\n",
    "    job_done = all(map(lambda q: q == 'SUCCESS', queries_status.values()))\n",
    "    \n",
    "print('Job done!')"
   ]
  },
  {
   "cell_type": "markdown",
   "id": "132e331d-7066-4c53-ab4f-9606643dac30",
   "metadata": {},
   "source": [
    "The `query_result` contains the results of the query.   \n",
    "The results can be visualised as json:"
   ]
  },
  {
   "cell_type": "code",
   "execution_count": 63,
   "id": "c3b75578-a807-4569-9102-7879f3c4e6ba",
   "metadata": {
    "tags": []
   },
   "outputs": [
    {
     "data": {
      "text/plain": [
       "{'data': {'group_id': 'fc655e22-176a-480a-8b38-29f60db5b896',\n",
       "  'signatures': [{'job_id': '76b553fe-9463-4bb2-87a8-027a84849b24',\n",
       "    'status': 'SUCCESS',\n",
       "    'filename': 'bin.4.sig',\n",
       "    'result': {'status': 'NO_RESULTS',\n",
       "     'catalog': 'marine-v1-0',\n",
       "     'query_filename': 'bin.4.sig',\n",
       "     'md5_name': '95935c5aa1283dd063a19eff883ea84c.sig'},\n",
       "    'results_url': 'https://www.ebi.ac.uk/metagenomics/api/v1/genomes-search/results/76b553fe-9463-4bb2-87a8-027a84849b24',\n",
       "    'catalogue': 'marine-v1-0'},\n",
       "   {'job_id': '1d3b9270-414d-4e0a-ae11-44fb2daf433c',\n",
       "    'status': 'SUCCESS',\n",
       "    'filename': 'bin.4.sig',\n",
       "    'result': {'status': 'NO_RESULTS',\n",
       "     'catalog': 'cow-rumen-v1-0',\n",
       "     'query_filename': 'bin.4.sig',\n",
       "     'md5_name': '95935c5aa1283dd063a19eff883ea84c.sig'},\n",
       "    'results_url': 'https://www.ebi.ac.uk/metagenomics/api/v1/genomes-search/results/1d3b9270-414d-4e0a-ae11-44fb2daf433c',\n",
       "    'catalogue': 'cow-rumen-v1-0'},\n",
       "   {'job_id': 'a7382137-af64-43e2-b302-2e61fa7822a1',\n",
       "    'status': 'SUCCESS',\n",
       "    'filename': 'bin.4.sig',\n",
       "    'result': {'overlap': '0.9 Mbp',\n",
       "     'p_query': '66.8%',\n",
       "     'p_match': '45.4%',\n",
       "     'match': 'MGYG000002570',\n",
       "     'catalog': 'human-gut-v2-0',\n",
       "     'query_filename': 'bin.4.sig',\n",
       "     'md5_name': '95935c5aa1283dd063a19eff883ea84c.sig',\n",
       "     'matches': 1},\n",
       "    'results_url': 'https://www.ebi.ac.uk/metagenomics/api/v1/genomes-search/results/a7382137-af64-43e2-b302-2e61fa7822a1',\n",
       "    'catalogue': 'human-gut-v2-0'},\n",
       "   {'job_id': 'a2aa6603-7cb7-463b-89dc-1deb8460d554',\n",
       "    'status': 'SUCCESS',\n",
       "    'filename': 'bin.4.sig',\n",
       "    'result': {'status': 'NO_RESULTS',\n",
       "     'catalog': 'human-oral-v1-0',\n",
       "     'query_filename': 'bin.4.sig',\n",
       "     'md5_name': '95935c5aa1283dd063a19eff883ea84c.sig'},\n",
       "    'results_url': 'https://www.ebi.ac.uk/metagenomics/api/v1/genomes-search/results/a2aa6603-7cb7-463b-89dc-1deb8460d554',\n",
       "    'catalogue': 'human-oral-v1-0'},\n",
       "   {'job_id': '36ffae11-c56a-40c8-af55-74f1c1ebd575',\n",
       "    'status': 'SUCCESS',\n",
       "    'filename': 'bin.1.sig',\n",
       "    'result': {'status': 'NO_RESULTS',\n",
       "     'catalog': 'marine-v1-0',\n",
       "     'query_filename': 'bin.1.sig',\n",
       "     'md5_name': '90de13310088a31d1ccb76f1da574cb6.sig'},\n",
       "    'results_url': 'https://www.ebi.ac.uk/metagenomics/api/v1/genomes-search/results/36ffae11-c56a-40c8-af55-74f1c1ebd575',\n",
       "    'catalogue': 'marine-v1-0'},\n",
       "   {'job_id': 'ba04545d-5bfb-471d-97ff-c1d96fe36af0',\n",
       "    'status': 'SUCCESS',\n",
       "    'filename': 'bin.1.sig',\n",
       "    'result': {'status': 'NO_RESULTS',\n",
       "     'catalog': 'cow-rumen-v1-0',\n",
       "     'query_filename': 'bin.1.sig',\n",
       "     'md5_name': '90de13310088a31d1ccb76f1da574cb6.sig'},\n",
       "    'results_url': 'https://www.ebi.ac.uk/metagenomics/api/v1/genomes-search/results/ba04545d-5bfb-471d-97ff-c1d96fe36af0',\n",
       "    'catalogue': 'cow-rumen-v1-0'},\n",
       "   {'job_id': '14b0a47d-6a88-43ab-83c9-b661765d6cd1',\n",
       "    'status': 'SUCCESS',\n",
       "    'filename': 'bin.1.sig',\n",
       "    'result': {'overlap': '1.9 Mbp',\n",
       "     'p_query': '58.9%',\n",
       "     'p_match': '52.7%',\n",
       "     'match': 'MGYG000000217',\n",
       "     'catalog': 'human-gut-v2-0',\n",
       "     'query_filename': 'bin.1.sig',\n",
       "     'md5_name': '90de13310088a31d1ccb76f1da574cb6.sig',\n",
       "     'matches': 3},\n",
       "    'results_url': 'https://www.ebi.ac.uk/metagenomics/api/v1/genomes-search/results/14b0a47d-6a88-43ab-83c9-b661765d6cd1',\n",
       "    'catalogue': 'human-gut-v2-0'},\n",
       "   {'job_id': 'd1776b48-7d34-4436-9dd6-c37119b70096',\n",
       "    'status': 'SUCCESS',\n",
       "    'filename': 'bin.1.sig',\n",
       "    'result': {'status': 'NO_RESULTS',\n",
       "     'catalog': 'human-oral-v1-0',\n",
       "     'query_filename': 'bin.1.sig',\n",
       "     'md5_name': '90de13310088a31d1ccb76f1da574cb6.sig'},\n",
       "    'results_url': 'https://www.ebi.ac.uk/metagenomics/api/v1/genomes-search/results/d1776b48-7d34-4436-9dd6-c37119b70096',\n",
       "    'catalogue': 'human-oral-v1-0'},\n",
       "   {'job_id': '39e4ca1f-28b2-412c-b8ec-5d9dc0aa771b',\n",
       "    'status': 'SUCCESS',\n",
       "    'filename': 'bin.5.sig',\n",
       "    'result': {'status': 'NO_RESULTS',\n",
       "     'catalog': 'marine-v1-0',\n",
       "     'query_filename': 'bin.5.sig',\n",
       "     'md5_name': '588a9cfc6aad0f88443f6afd115a738e.sig'},\n",
       "    'results_url': 'https://www.ebi.ac.uk/metagenomics/api/v1/genomes-search/results/39e4ca1f-28b2-412c-b8ec-5d9dc0aa771b',\n",
       "    'catalogue': 'marine-v1-0'},\n",
       "   {'job_id': '6adfa89a-6ca7-494a-8115-29e96ca6c238',\n",
       "    'status': 'SUCCESS',\n",
       "    'filename': 'bin.5.sig',\n",
       "    'result': {'status': 'NO_RESULTS',\n",
       "     'catalog': 'cow-rumen-v1-0',\n",
       "     'query_filename': 'bin.5.sig',\n",
       "     'md5_name': '588a9cfc6aad0f88443f6afd115a738e.sig'},\n",
       "    'results_url': 'https://www.ebi.ac.uk/metagenomics/api/v1/genomes-search/results/6adfa89a-6ca7-494a-8115-29e96ca6c238',\n",
       "    'catalogue': 'cow-rumen-v1-0'},\n",
       "   {'job_id': '18d07061-76da-433a-aba5-a0cc53ca9c18',\n",
       "    'status': 'SUCCESS',\n",
       "    'filename': 'bin.5.sig',\n",
       "    'result': {'overlap': '0.9 Mbp',\n",
       "     'p_query': '49.9%',\n",
       "     'p_match': '48.0%',\n",
       "     'match': 'MGYG000004533',\n",
       "     'catalog': 'human-gut-v2-0',\n",
       "     'query_filename': 'bin.5.sig',\n",
       "     'md5_name': '588a9cfc6aad0f88443f6afd115a738e.sig',\n",
       "     'matches': 1},\n",
       "    'results_url': 'https://www.ebi.ac.uk/metagenomics/api/v1/genomes-search/results/18d07061-76da-433a-aba5-a0cc53ca9c18',\n",
       "    'catalogue': 'human-gut-v2-0'},\n",
       "   {'job_id': 'eb2fdc6d-263e-4135-843b-4addc5223043',\n",
       "    'status': 'SUCCESS',\n",
       "    'filename': 'bin.5.sig',\n",
       "    'result': {'status': 'NO_RESULTS',\n",
       "     'catalog': 'human-oral-v1-0',\n",
       "     'query_filename': 'bin.5.sig',\n",
       "     'md5_name': '588a9cfc6aad0f88443f6afd115a738e.sig'},\n",
       "    'results_url': 'https://www.ebi.ac.uk/metagenomics/api/v1/genomes-search/results/eb2fdc6d-263e-4135-843b-4addc5223043',\n",
       "    'catalogue': 'human-oral-v1-0'},\n",
       "   {'job_id': 'c5604780-e5ce-435b-98fe-4aa2bdf4496c',\n",
       "    'status': 'SUCCESS',\n",
       "    'filename': 'bin.3.sig',\n",
       "    'result': {'status': 'NO_RESULTS',\n",
       "     'catalog': 'marine-v1-0',\n",
       "     'query_filename': 'bin.3.sig',\n",
       "     'md5_name': 'c399bb823a0358c2951ad2ac951daef6.sig'},\n",
       "    'results_url': 'https://www.ebi.ac.uk/metagenomics/api/v1/genomes-search/results/c5604780-e5ce-435b-98fe-4aa2bdf4496c',\n",
       "    'catalogue': 'marine-v1-0'},\n",
       "   {'job_id': '5596a219-7fb2-4d62-8765-687b94618200',\n",
       "    'status': 'SUCCESS',\n",
       "    'filename': 'bin.3.sig',\n",
       "    'result': {'overlap': '0.8 Mbp',\n",
       "     'p_query': '30.3%',\n",
       "     'p_match': '31.3%',\n",
       "     'match': 'MGYG000292488',\n",
       "     'catalog': 'cow-rumen-v1-0',\n",
       "     'query_filename': 'bin.3.sig',\n",
       "     'md5_name': 'c399bb823a0358c2951ad2ac951daef6.sig',\n",
       "     'matches': 1},\n",
       "    'results_url': 'https://www.ebi.ac.uk/metagenomics/api/v1/genomes-search/results/5596a219-7fb2-4d62-8765-687b94618200',\n",
       "    'catalogue': 'cow-rumen-v1-0'},\n",
       "   {'job_id': '3930defe-b858-47c9-ad79-18c6ea185395',\n",
       "    'status': 'SUCCESS',\n",
       "    'filename': 'bin.3.sig',\n",
       "    'result': {'overlap': '1.8 Mbp',\n",
       "     'p_query': '66.8%',\n",
       "     'p_match': '57.0%',\n",
       "     'match': 'MGYG000000060',\n",
       "     'catalog': 'human-gut-v2-0',\n",
       "     'query_filename': 'bin.3.sig',\n",
       "     'md5_name': 'c399bb823a0358c2951ad2ac951daef6.sig',\n",
       "     'matches': 2},\n",
       "    'results_url': 'https://www.ebi.ac.uk/metagenomics/api/v1/genomes-search/results/3930defe-b858-47c9-ad79-18c6ea185395',\n",
       "    'catalogue': 'human-gut-v2-0'},\n",
       "   {'job_id': 'eb86281e-ae0d-4b58-9033-4d18dbe75518',\n",
       "    'status': 'SUCCESS',\n",
       "    'filename': 'bin.3.sig',\n",
       "    'result': {'status': 'NO_RESULTS',\n",
       "     'catalog': 'human-oral-v1-0',\n",
       "     'query_filename': 'bin.3.sig',\n",
       "     'md5_name': 'c399bb823a0358c2951ad2ac951daef6.sig'},\n",
       "    'results_url': 'https://www.ebi.ac.uk/metagenomics/api/v1/genomes-search/results/eb86281e-ae0d-4b58-9033-4d18dbe75518',\n",
       "    'catalogue': 'human-oral-v1-0'},\n",
       "   {'job_id': '11e39fe0-55ae-4e5d-b206-87da2de313a4',\n",
       "    'status': 'SUCCESS',\n",
       "    'filename': 'bin.2.sig',\n",
       "    'result': {'status': 'NO_RESULTS',\n",
       "     'catalog': 'marine-v1-0',\n",
       "     'query_filename': 'bin.2.sig',\n",
       "     'md5_name': 'a6546452612d9462460ebdbd94c6c611.sig'},\n",
       "    'results_url': 'https://www.ebi.ac.uk/metagenomics/api/v1/genomes-search/results/11e39fe0-55ae-4e5d-b206-87da2de313a4',\n",
       "    'catalogue': 'marine-v1-0'},\n",
       "   {'job_id': 'e2d48e30-a3ae-48bc-bf9d-07d66d4a1984',\n",
       "    'status': 'SUCCESS',\n",
       "    'filename': 'bin.2.sig',\n",
       "    'result': {'status': 'NO_RESULTS',\n",
       "     'catalog': 'cow-rumen-v1-0',\n",
       "     'query_filename': 'bin.2.sig',\n",
       "     'md5_name': 'a6546452612d9462460ebdbd94c6c611.sig'},\n",
       "    'results_url': 'https://www.ebi.ac.uk/metagenomics/api/v1/genomes-search/results/e2d48e30-a3ae-48bc-bf9d-07d66d4a1984',\n",
       "    'catalogue': 'cow-rumen-v1-0'},\n",
       "   {'job_id': '37572925-2cec-482c-8cd3-712125b4f8b3',\n",
       "    'status': 'SUCCESS',\n",
       "    'filename': 'bin.2.sig',\n",
       "    'result': {'overlap': '3.4 Mbp',\n",
       "     'p_query': '22.2%',\n",
       "     'p_match': '63.0%',\n",
       "     'match': 'MGYG000002478',\n",
       "     'catalog': 'human-gut-v2-0',\n",
       "     'query_filename': 'bin.2.sig',\n",
       "     'md5_name': 'a6546452612d9462460ebdbd94c6c611.sig',\n",
       "     'matches': 19},\n",
       "    'results_url': 'https://www.ebi.ac.uk/metagenomics/api/v1/genomes-search/results/37572925-2cec-482c-8cd3-712125b4f8b3',\n",
       "    'catalogue': 'human-gut-v2-0'},\n",
       "   {'job_id': 'fbcbf579-abbc-4465-92ea-1a1d60fd31ac',\n",
       "    'status': 'SUCCESS',\n",
       "    'filename': 'bin.2.sig',\n",
       "    'result': {'status': 'NO_RESULTS',\n",
       "     'catalog': 'human-oral-v1-0',\n",
       "     'query_filename': 'bin.2.sig',\n",
       "     'md5_name': 'a6546452612d9462460ebdbd94c6c611.sig'},\n",
       "    'results_url': 'https://www.ebi.ac.uk/metagenomics/api/v1/genomes-search/results/fbcbf579-abbc-4465-92ea-1a1d60fd31ac',\n",
       "    'catalogue': 'human-oral-v1-0'}],\n",
       "  'results_url': 'https://www.ebi.ac.uk/metagenomics/api/v1/genomes-search/results/fc655e22-176a-480a-8b38-29f60db5b896',\n",
       "  'worker_status': 'OK'}}"
      ]
     },
     "execution_count": 63,
     "metadata": {},
     "output_type": "execute_result"
    }
   ],
   "source": [
    "query_result.json()"
   ]
  },
  {
   "cell_type": "markdown",
   "id": "69e411ad-b17c-4289-a0d9-f07c43005c42",
   "metadata": {},
   "source": [
    "Or in a DataFrame:"
   ]
  },
  {
   "cell_type": "code",
   "execution_count": 64,
   "id": "0b089749-c0ac-47cb-b0cb-e5a539caf22f",
   "metadata": {},
   "outputs": [],
   "source": [
    "query_result_df = pd.json_normalize(query_result.json()['data']['signatures'])"
   ]
  },
  {
   "cell_type": "code",
   "execution_count": 65,
   "id": "5943feee-19ec-4acd-a7a5-69cae0d48bfc",
   "metadata": {},
   "outputs": [
    {
     "data": {
      "text/html": [
       "<div>\n",
       "<style scoped>\n",
       "    .dataframe tbody tr th:only-of-type {\n",
       "        vertical-align: middle;\n",
       "    }\n",
       "\n",
       "    .dataframe tbody tr th {\n",
       "        vertical-align: top;\n",
       "    }\n",
       "\n",
       "    .dataframe thead th {\n",
       "        text-align: right;\n",
       "    }\n",
       "</style>\n",
       "<table border=\"1\" class=\"dataframe\">\n",
       "  <thead>\n",
       "    <tr style=\"text-align: right;\">\n",
       "      <th></th>\n",
       "      <th>job_id</th>\n",
       "      <th>status</th>\n",
       "      <th>filename</th>\n",
       "      <th>results_url</th>\n",
       "      <th>catalogue</th>\n",
       "      <th>result.status</th>\n",
       "      <th>result.catalog</th>\n",
       "      <th>result.query_filename</th>\n",
       "      <th>result.md5_name</th>\n",
       "      <th>result.overlap</th>\n",
       "      <th>result.p_query</th>\n",
       "      <th>result.p_match</th>\n",
       "      <th>result.match</th>\n",
       "      <th>result.matches</th>\n",
       "    </tr>\n",
       "  </thead>\n",
       "  <tbody>\n",
       "    <tr>\n",
       "      <th>0</th>\n",
       "      <td>76b553fe-9463-4bb2-87a8-027a84849b24</td>\n",
       "      <td>SUCCESS</td>\n",
       "      <td>bin.4.sig</td>\n",
       "      <td>https://www.ebi.ac.uk/metagenomics/api/v1/genomes-search/results/76b553fe-9463-4bb2-87a8-027a84849b24</td>\n",
       "      <td>marine-v1-0</td>\n",
       "      <td>NO_RESULTS</td>\n",
       "      <td>marine-v1-0</td>\n",
       "      <td>bin.4.sig</td>\n",
       "      <td>95935c5aa1283dd063a19eff883ea84c.sig</td>\n",
       "      <td>NaN</td>\n",
       "      <td>NaN</td>\n",
       "      <td>NaN</td>\n",
       "      <td>NaN</td>\n",
       "      <td>NaN</td>\n",
       "    </tr>\n",
       "    <tr>\n",
       "      <th>1</th>\n",
       "      <td>1d3b9270-414d-4e0a-ae11-44fb2daf433c</td>\n",
       "      <td>SUCCESS</td>\n",
       "      <td>bin.4.sig</td>\n",
       "      <td>https://www.ebi.ac.uk/metagenomics/api/v1/genomes-search/results/1d3b9270-414d-4e0a-ae11-44fb2daf433c</td>\n",
       "      <td>cow-rumen-v1-0</td>\n",
       "      <td>NO_RESULTS</td>\n",
       "      <td>cow-rumen-v1-0</td>\n",
       "      <td>bin.4.sig</td>\n",
       "      <td>95935c5aa1283dd063a19eff883ea84c.sig</td>\n",
       "      <td>NaN</td>\n",
       "      <td>NaN</td>\n",
       "      <td>NaN</td>\n",
       "      <td>NaN</td>\n",
       "      <td>NaN</td>\n",
       "    </tr>\n",
       "    <tr>\n",
       "      <th>2</th>\n",
       "      <td>a7382137-af64-43e2-b302-2e61fa7822a1</td>\n",
       "      <td>SUCCESS</td>\n",
       "      <td>bin.4.sig</td>\n",
       "      <td>https://www.ebi.ac.uk/metagenomics/api/v1/genomes-search/results/a7382137-af64-43e2-b302-2e61fa7822a1</td>\n",
       "      <td>human-gut-v2-0</td>\n",
       "      <td>NaN</td>\n",
       "      <td>human-gut-v2-0</td>\n",
       "      <td>bin.4.sig</td>\n",
       "      <td>95935c5aa1283dd063a19eff883ea84c.sig</td>\n",
       "      <td>0.9 Mbp</td>\n",
       "      <td>66.8%</td>\n",
       "      <td>45.4%</td>\n",
       "      <td>MGYG000002570</td>\n",
       "      <td>1.0</td>\n",
       "    </tr>\n",
       "    <tr>\n",
       "      <th>3</th>\n",
       "      <td>a2aa6603-7cb7-463b-89dc-1deb8460d554</td>\n",
       "      <td>SUCCESS</td>\n",
       "      <td>bin.4.sig</td>\n",
       "      <td>https://www.ebi.ac.uk/metagenomics/api/v1/genomes-search/results/a2aa6603-7cb7-463b-89dc-1deb8460d554</td>\n",
       "      <td>human-oral-v1-0</td>\n",
       "      <td>NO_RESULTS</td>\n",
       "      <td>human-oral-v1-0</td>\n",
       "      <td>bin.4.sig</td>\n",
       "      <td>95935c5aa1283dd063a19eff883ea84c.sig</td>\n",
       "      <td>NaN</td>\n",
       "      <td>NaN</td>\n",
       "      <td>NaN</td>\n",
       "      <td>NaN</td>\n",
       "      <td>NaN</td>\n",
       "    </tr>\n",
       "    <tr>\n",
       "      <th>4</th>\n",
       "      <td>36ffae11-c56a-40c8-af55-74f1c1ebd575</td>\n",
       "      <td>SUCCESS</td>\n",
       "      <td>bin.1.sig</td>\n",
       "      <td>https://www.ebi.ac.uk/metagenomics/api/v1/genomes-search/results/36ffae11-c56a-40c8-af55-74f1c1ebd575</td>\n",
       "      <td>marine-v1-0</td>\n",
       "      <td>NO_RESULTS</td>\n",
       "      <td>marine-v1-0</td>\n",
       "      <td>bin.1.sig</td>\n",
       "      <td>90de13310088a31d1ccb76f1da574cb6.sig</td>\n",
       "      <td>NaN</td>\n",
       "      <td>NaN</td>\n",
       "      <td>NaN</td>\n",
       "      <td>NaN</td>\n",
       "      <td>NaN</td>\n",
       "    </tr>\n",
       "    <tr>\n",
       "      <th>5</th>\n",
       "      <td>ba04545d-5bfb-471d-97ff-c1d96fe36af0</td>\n",
       "      <td>SUCCESS</td>\n",
       "      <td>bin.1.sig</td>\n",
       "      <td>https://www.ebi.ac.uk/metagenomics/api/v1/genomes-search/results/ba04545d-5bfb-471d-97ff-c1d96fe36af0</td>\n",
       "      <td>cow-rumen-v1-0</td>\n",
       "      <td>NO_RESULTS</td>\n",
       "      <td>cow-rumen-v1-0</td>\n",
       "      <td>bin.1.sig</td>\n",
       "      <td>90de13310088a31d1ccb76f1da574cb6.sig</td>\n",
       "      <td>NaN</td>\n",
       "      <td>NaN</td>\n",
       "      <td>NaN</td>\n",
       "      <td>NaN</td>\n",
       "      <td>NaN</td>\n",
       "    </tr>\n",
       "    <tr>\n",
       "      <th>6</th>\n",
       "      <td>14b0a47d-6a88-43ab-83c9-b661765d6cd1</td>\n",
       "      <td>SUCCESS</td>\n",
       "      <td>bin.1.sig</td>\n",
       "      <td>https://www.ebi.ac.uk/metagenomics/api/v1/genomes-search/results/14b0a47d-6a88-43ab-83c9-b661765d6cd1</td>\n",
       "      <td>human-gut-v2-0</td>\n",
       "      <td>NaN</td>\n",
       "      <td>human-gut-v2-0</td>\n",
       "      <td>bin.1.sig</td>\n",
       "      <td>90de13310088a31d1ccb76f1da574cb6.sig</td>\n",
       "      <td>1.9 Mbp</td>\n",
       "      <td>58.9%</td>\n",
       "      <td>52.7%</td>\n",
       "      <td>MGYG000000217</td>\n",
       "      <td>3.0</td>\n",
       "    </tr>\n",
       "    <tr>\n",
       "      <th>7</th>\n",
       "      <td>d1776b48-7d34-4436-9dd6-c37119b70096</td>\n",
       "      <td>SUCCESS</td>\n",
       "      <td>bin.1.sig</td>\n",
       "      <td>https://www.ebi.ac.uk/metagenomics/api/v1/genomes-search/results/d1776b48-7d34-4436-9dd6-c37119b70096</td>\n",
       "      <td>human-oral-v1-0</td>\n",
       "      <td>NO_RESULTS</td>\n",
       "      <td>human-oral-v1-0</td>\n",
       "      <td>bin.1.sig</td>\n",
       "      <td>90de13310088a31d1ccb76f1da574cb6.sig</td>\n",
       "      <td>NaN</td>\n",
       "      <td>NaN</td>\n",
       "      <td>NaN</td>\n",
       "      <td>NaN</td>\n",
       "      <td>NaN</td>\n",
       "    </tr>\n",
       "    <tr>\n",
       "      <th>8</th>\n",
       "      <td>39e4ca1f-28b2-412c-b8ec-5d9dc0aa771b</td>\n",
       "      <td>SUCCESS</td>\n",
       "      <td>bin.5.sig</td>\n",
       "      <td>https://www.ebi.ac.uk/metagenomics/api/v1/genomes-search/results/39e4ca1f-28b2-412c-b8ec-5d9dc0aa771b</td>\n",
       "      <td>marine-v1-0</td>\n",
       "      <td>NO_RESULTS</td>\n",
       "      <td>marine-v1-0</td>\n",
       "      <td>bin.5.sig</td>\n",
       "      <td>588a9cfc6aad0f88443f6afd115a738e.sig</td>\n",
       "      <td>NaN</td>\n",
       "      <td>NaN</td>\n",
       "      <td>NaN</td>\n",
       "      <td>NaN</td>\n",
       "      <td>NaN</td>\n",
       "    </tr>\n",
       "    <tr>\n",
       "      <th>9</th>\n",
       "      <td>6adfa89a-6ca7-494a-8115-29e96ca6c238</td>\n",
       "      <td>SUCCESS</td>\n",
       "      <td>bin.5.sig</td>\n",
       "      <td>https://www.ebi.ac.uk/metagenomics/api/v1/genomes-search/results/6adfa89a-6ca7-494a-8115-29e96ca6c238</td>\n",
       "      <td>cow-rumen-v1-0</td>\n",
       "      <td>NO_RESULTS</td>\n",
       "      <td>cow-rumen-v1-0</td>\n",
       "      <td>bin.5.sig</td>\n",
       "      <td>588a9cfc6aad0f88443f6afd115a738e.sig</td>\n",
       "      <td>NaN</td>\n",
       "      <td>NaN</td>\n",
       "      <td>NaN</td>\n",
       "      <td>NaN</td>\n",
       "      <td>NaN</td>\n",
       "    </tr>\n",
       "    <tr>\n",
       "      <th>10</th>\n",
       "      <td>18d07061-76da-433a-aba5-a0cc53ca9c18</td>\n",
       "      <td>SUCCESS</td>\n",
       "      <td>bin.5.sig</td>\n",
       "      <td>https://www.ebi.ac.uk/metagenomics/api/v1/genomes-search/results/18d07061-76da-433a-aba5-a0cc53ca9c18</td>\n",
       "      <td>human-gut-v2-0</td>\n",
       "      <td>NaN</td>\n",
       "      <td>human-gut-v2-0</td>\n",
       "      <td>bin.5.sig</td>\n",
       "      <td>588a9cfc6aad0f88443f6afd115a738e.sig</td>\n",
       "      <td>0.9 Mbp</td>\n",
       "      <td>49.9%</td>\n",
       "      <td>48.0%</td>\n",
       "      <td>MGYG000004533</td>\n",
       "      <td>1.0</td>\n",
       "    </tr>\n",
       "    <tr>\n",
       "      <th>11</th>\n",
       "      <td>eb2fdc6d-263e-4135-843b-4addc5223043</td>\n",
       "      <td>SUCCESS</td>\n",
       "      <td>bin.5.sig</td>\n",
       "      <td>https://www.ebi.ac.uk/metagenomics/api/v1/genomes-search/results/eb2fdc6d-263e-4135-843b-4addc5223043</td>\n",
       "      <td>human-oral-v1-0</td>\n",
       "      <td>NO_RESULTS</td>\n",
       "      <td>human-oral-v1-0</td>\n",
       "      <td>bin.5.sig</td>\n",
       "      <td>588a9cfc6aad0f88443f6afd115a738e.sig</td>\n",
       "      <td>NaN</td>\n",
       "      <td>NaN</td>\n",
       "      <td>NaN</td>\n",
       "      <td>NaN</td>\n",
       "      <td>NaN</td>\n",
       "    </tr>\n",
       "    <tr>\n",
       "      <th>12</th>\n",
       "      <td>c5604780-e5ce-435b-98fe-4aa2bdf4496c</td>\n",
       "      <td>SUCCESS</td>\n",
       "      <td>bin.3.sig</td>\n",
       "      <td>https://www.ebi.ac.uk/metagenomics/api/v1/genomes-search/results/c5604780-e5ce-435b-98fe-4aa2bdf4496c</td>\n",
       "      <td>marine-v1-0</td>\n",
       "      <td>NO_RESULTS</td>\n",
       "      <td>marine-v1-0</td>\n",
       "      <td>bin.3.sig</td>\n",
       "      <td>c399bb823a0358c2951ad2ac951daef6.sig</td>\n",
       "      <td>NaN</td>\n",
       "      <td>NaN</td>\n",
       "      <td>NaN</td>\n",
       "      <td>NaN</td>\n",
       "      <td>NaN</td>\n",
       "    </tr>\n",
       "    <tr>\n",
       "      <th>13</th>\n",
       "      <td>5596a219-7fb2-4d62-8765-687b94618200</td>\n",
       "      <td>SUCCESS</td>\n",
       "      <td>bin.3.sig</td>\n",
       "      <td>https://www.ebi.ac.uk/metagenomics/api/v1/genomes-search/results/5596a219-7fb2-4d62-8765-687b94618200</td>\n",
       "      <td>cow-rumen-v1-0</td>\n",
       "      <td>NaN</td>\n",
       "      <td>cow-rumen-v1-0</td>\n",
       "      <td>bin.3.sig</td>\n",
       "      <td>c399bb823a0358c2951ad2ac951daef6.sig</td>\n",
       "      <td>0.8 Mbp</td>\n",
       "      <td>30.3%</td>\n",
       "      <td>31.3%</td>\n",
       "      <td>MGYG000292488</td>\n",
       "      <td>1.0</td>\n",
       "    </tr>\n",
       "    <tr>\n",
       "      <th>14</th>\n",
       "      <td>3930defe-b858-47c9-ad79-18c6ea185395</td>\n",
       "      <td>SUCCESS</td>\n",
       "      <td>bin.3.sig</td>\n",
       "      <td>https://www.ebi.ac.uk/metagenomics/api/v1/genomes-search/results/3930defe-b858-47c9-ad79-18c6ea185395</td>\n",
       "      <td>human-gut-v2-0</td>\n",
       "      <td>NaN</td>\n",
       "      <td>human-gut-v2-0</td>\n",
       "      <td>bin.3.sig</td>\n",
       "      <td>c399bb823a0358c2951ad2ac951daef6.sig</td>\n",
       "      <td>1.8 Mbp</td>\n",
       "      <td>66.8%</td>\n",
       "      <td>57.0%</td>\n",
       "      <td>MGYG000000060</td>\n",
       "      <td>2.0</td>\n",
       "    </tr>\n",
       "    <tr>\n",
       "      <th>15</th>\n",
       "      <td>eb86281e-ae0d-4b58-9033-4d18dbe75518</td>\n",
       "      <td>SUCCESS</td>\n",
       "      <td>bin.3.sig</td>\n",
       "      <td>https://www.ebi.ac.uk/metagenomics/api/v1/genomes-search/results/eb86281e-ae0d-4b58-9033-4d18dbe75518</td>\n",
       "      <td>human-oral-v1-0</td>\n",
       "      <td>NO_RESULTS</td>\n",
       "      <td>human-oral-v1-0</td>\n",
       "      <td>bin.3.sig</td>\n",
       "      <td>c399bb823a0358c2951ad2ac951daef6.sig</td>\n",
       "      <td>NaN</td>\n",
       "      <td>NaN</td>\n",
       "      <td>NaN</td>\n",
       "      <td>NaN</td>\n",
       "      <td>NaN</td>\n",
       "    </tr>\n",
       "    <tr>\n",
       "      <th>16</th>\n",
       "      <td>11e39fe0-55ae-4e5d-b206-87da2de313a4</td>\n",
       "      <td>SUCCESS</td>\n",
       "      <td>bin.2.sig</td>\n",
       "      <td>https://www.ebi.ac.uk/metagenomics/api/v1/genomes-search/results/11e39fe0-55ae-4e5d-b206-87da2de313a4</td>\n",
       "      <td>marine-v1-0</td>\n",
       "      <td>NO_RESULTS</td>\n",
       "      <td>marine-v1-0</td>\n",
       "      <td>bin.2.sig</td>\n",
       "      <td>a6546452612d9462460ebdbd94c6c611.sig</td>\n",
       "      <td>NaN</td>\n",
       "      <td>NaN</td>\n",
       "      <td>NaN</td>\n",
       "      <td>NaN</td>\n",
       "      <td>NaN</td>\n",
       "    </tr>\n",
       "    <tr>\n",
       "      <th>17</th>\n",
       "      <td>e2d48e30-a3ae-48bc-bf9d-07d66d4a1984</td>\n",
       "      <td>SUCCESS</td>\n",
       "      <td>bin.2.sig</td>\n",
       "      <td>https://www.ebi.ac.uk/metagenomics/api/v1/genomes-search/results/e2d48e30-a3ae-48bc-bf9d-07d66d4a1984</td>\n",
       "      <td>cow-rumen-v1-0</td>\n",
       "      <td>NO_RESULTS</td>\n",
       "      <td>cow-rumen-v1-0</td>\n",
       "      <td>bin.2.sig</td>\n",
       "      <td>a6546452612d9462460ebdbd94c6c611.sig</td>\n",
       "      <td>NaN</td>\n",
       "      <td>NaN</td>\n",
       "      <td>NaN</td>\n",
       "      <td>NaN</td>\n",
       "      <td>NaN</td>\n",
       "    </tr>\n",
       "    <tr>\n",
       "      <th>18</th>\n",
       "      <td>37572925-2cec-482c-8cd3-712125b4f8b3</td>\n",
       "      <td>SUCCESS</td>\n",
       "      <td>bin.2.sig</td>\n",
       "      <td>https://www.ebi.ac.uk/metagenomics/api/v1/genomes-search/results/37572925-2cec-482c-8cd3-712125b4f8b3</td>\n",
       "      <td>human-gut-v2-0</td>\n",
       "      <td>NaN</td>\n",
       "      <td>human-gut-v2-0</td>\n",
       "      <td>bin.2.sig</td>\n",
       "      <td>a6546452612d9462460ebdbd94c6c611.sig</td>\n",
       "      <td>3.4 Mbp</td>\n",
       "      <td>22.2%</td>\n",
       "      <td>63.0%</td>\n",
       "      <td>MGYG000002478</td>\n",
       "      <td>19.0</td>\n",
       "    </tr>\n",
       "    <tr>\n",
       "      <th>19</th>\n",
       "      <td>fbcbf579-abbc-4465-92ea-1a1d60fd31ac</td>\n",
       "      <td>SUCCESS</td>\n",
       "      <td>bin.2.sig</td>\n",
       "      <td>https://www.ebi.ac.uk/metagenomics/api/v1/genomes-search/results/fbcbf579-abbc-4465-92ea-1a1d60fd31ac</td>\n",
       "      <td>human-oral-v1-0</td>\n",
       "      <td>NO_RESULTS</td>\n",
       "      <td>human-oral-v1-0</td>\n",
       "      <td>bin.2.sig</td>\n",
       "      <td>a6546452612d9462460ebdbd94c6c611.sig</td>\n",
       "      <td>NaN</td>\n",
       "      <td>NaN</td>\n",
       "      <td>NaN</td>\n",
       "      <td>NaN</td>\n",
       "      <td>NaN</td>\n",
       "    </tr>\n",
       "  </tbody>\n",
       "</table>\n",
       "</div>"
      ],
      "text/plain": [
       "                                  job_id   status   filename  \\\n",
       "0   76b553fe-9463-4bb2-87a8-027a84849b24  SUCCESS  bin.4.sig   \n",
       "1   1d3b9270-414d-4e0a-ae11-44fb2daf433c  SUCCESS  bin.4.sig   \n",
       "2   a7382137-af64-43e2-b302-2e61fa7822a1  SUCCESS  bin.4.sig   \n",
       "3   a2aa6603-7cb7-463b-89dc-1deb8460d554  SUCCESS  bin.4.sig   \n",
       "4   36ffae11-c56a-40c8-af55-74f1c1ebd575  SUCCESS  bin.1.sig   \n",
       "5   ba04545d-5bfb-471d-97ff-c1d96fe36af0  SUCCESS  bin.1.sig   \n",
       "6   14b0a47d-6a88-43ab-83c9-b661765d6cd1  SUCCESS  bin.1.sig   \n",
       "7   d1776b48-7d34-4436-9dd6-c37119b70096  SUCCESS  bin.1.sig   \n",
       "8   39e4ca1f-28b2-412c-b8ec-5d9dc0aa771b  SUCCESS  bin.5.sig   \n",
       "9   6adfa89a-6ca7-494a-8115-29e96ca6c238  SUCCESS  bin.5.sig   \n",
       "10  18d07061-76da-433a-aba5-a0cc53ca9c18  SUCCESS  bin.5.sig   \n",
       "11  eb2fdc6d-263e-4135-843b-4addc5223043  SUCCESS  bin.5.sig   \n",
       "12  c5604780-e5ce-435b-98fe-4aa2bdf4496c  SUCCESS  bin.3.sig   \n",
       "13  5596a219-7fb2-4d62-8765-687b94618200  SUCCESS  bin.3.sig   \n",
       "14  3930defe-b858-47c9-ad79-18c6ea185395  SUCCESS  bin.3.sig   \n",
       "15  eb86281e-ae0d-4b58-9033-4d18dbe75518  SUCCESS  bin.3.sig   \n",
       "16  11e39fe0-55ae-4e5d-b206-87da2de313a4  SUCCESS  bin.2.sig   \n",
       "17  e2d48e30-a3ae-48bc-bf9d-07d66d4a1984  SUCCESS  bin.2.sig   \n",
       "18  37572925-2cec-482c-8cd3-712125b4f8b3  SUCCESS  bin.2.sig   \n",
       "19  fbcbf579-abbc-4465-92ea-1a1d60fd31ac  SUCCESS  bin.2.sig   \n",
       "\n",
       "                                                                                              results_url  \\\n",
       "0   https://www.ebi.ac.uk/metagenomics/api/v1/genomes-search/results/76b553fe-9463-4bb2-87a8-027a84849b24   \n",
       "1   https://www.ebi.ac.uk/metagenomics/api/v1/genomes-search/results/1d3b9270-414d-4e0a-ae11-44fb2daf433c   \n",
       "2   https://www.ebi.ac.uk/metagenomics/api/v1/genomes-search/results/a7382137-af64-43e2-b302-2e61fa7822a1   \n",
       "3   https://www.ebi.ac.uk/metagenomics/api/v1/genomes-search/results/a2aa6603-7cb7-463b-89dc-1deb8460d554   \n",
       "4   https://www.ebi.ac.uk/metagenomics/api/v1/genomes-search/results/36ffae11-c56a-40c8-af55-74f1c1ebd575   \n",
       "5   https://www.ebi.ac.uk/metagenomics/api/v1/genomes-search/results/ba04545d-5bfb-471d-97ff-c1d96fe36af0   \n",
       "6   https://www.ebi.ac.uk/metagenomics/api/v1/genomes-search/results/14b0a47d-6a88-43ab-83c9-b661765d6cd1   \n",
       "7   https://www.ebi.ac.uk/metagenomics/api/v1/genomes-search/results/d1776b48-7d34-4436-9dd6-c37119b70096   \n",
       "8   https://www.ebi.ac.uk/metagenomics/api/v1/genomes-search/results/39e4ca1f-28b2-412c-b8ec-5d9dc0aa771b   \n",
       "9   https://www.ebi.ac.uk/metagenomics/api/v1/genomes-search/results/6adfa89a-6ca7-494a-8115-29e96ca6c238   \n",
       "10  https://www.ebi.ac.uk/metagenomics/api/v1/genomes-search/results/18d07061-76da-433a-aba5-a0cc53ca9c18   \n",
       "11  https://www.ebi.ac.uk/metagenomics/api/v1/genomes-search/results/eb2fdc6d-263e-4135-843b-4addc5223043   \n",
       "12  https://www.ebi.ac.uk/metagenomics/api/v1/genomes-search/results/c5604780-e5ce-435b-98fe-4aa2bdf4496c   \n",
       "13  https://www.ebi.ac.uk/metagenomics/api/v1/genomes-search/results/5596a219-7fb2-4d62-8765-687b94618200   \n",
       "14  https://www.ebi.ac.uk/metagenomics/api/v1/genomes-search/results/3930defe-b858-47c9-ad79-18c6ea185395   \n",
       "15  https://www.ebi.ac.uk/metagenomics/api/v1/genomes-search/results/eb86281e-ae0d-4b58-9033-4d18dbe75518   \n",
       "16  https://www.ebi.ac.uk/metagenomics/api/v1/genomes-search/results/11e39fe0-55ae-4e5d-b206-87da2de313a4   \n",
       "17  https://www.ebi.ac.uk/metagenomics/api/v1/genomes-search/results/e2d48e30-a3ae-48bc-bf9d-07d66d4a1984   \n",
       "18  https://www.ebi.ac.uk/metagenomics/api/v1/genomes-search/results/37572925-2cec-482c-8cd3-712125b4f8b3   \n",
       "19  https://www.ebi.ac.uk/metagenomics/api/v1/genomes-search/results/fbcbf579-abbc-4465-92ea-1a1d60fd31ac   \n",
       "\n",
       "          catalogue result.status   result.catalog result.query_filename  \\\n",
       "0       marine-v1-0    NO_RESULTS      marine-v1-0             bin.4.sig   \n",
       "1    cow-rumen-v1-0    NO_RESULTS   cow-rumen-v1-0             bin.4.sig   \n",
       "2    human-gut-v2-0           NaN   human-gut-v2-0             bin.4.sig   \n",
       "3   human-oral-v1-0    NO_RESULTS  human-oral-v1-0             bin.4.sig   \n",
       "4       marine-v1-0    NO_RESULTS      marine-v1-0             bin.1.sig   \n",
       "5    cow-rumen-v1-0    NO_RESULTS   cow-rumen-v1-0             bin.1.sig   \n",
       "6    human-gut-v2-0           NaN   human-gut-v2-0             bin.1.sig   \n",
       "7   human-oral-v1-0    NO_RESULTS  human-oral-v1-0             bin.1.sig   \n",
       "8       marine-v1-0    NO_RESULTS      marine-v1-0             bin.5.sig   \n",
       "9    cow-rumen-v1-0    NO_RESULTS   cow-rumen-v1-0             bin.5.sig   \n",
       "10   human-gut-v2-0           NaN   human-gut-v2-0             bin.5.sig   \n",
       "11  human-oral-v1-0    NO_RESULTS  human-oral-v1-0             bin.5.sig   \n",
       "12      marine-v1-0    NO_RESULTS      marine-v1-0             bin.3.sig   \n",
       "13   cow-rumen-v1-0           NaN   cow-rumen-v1-0             bin.3.sig   \n",
       "14   human-gut-v2-0           NaN   human-gut-v2-0             bin.3.sig   \n",
       "15  human-oral-v1-0    NO_RESULTS  human-oral-v1-0             bin.3.sig   \n",
       "16      marine-v1-0    NO_RESULTS      marine-v1-0             bin.2.sig   \n",
       "17   cow-rumen-v1-0    NO_RESULTS   cow-rumen-v1-0             bin.2.sig   \n",
       "18   human-gut-v2-0           NaN   human-gut-v2-0             bin.2.sig   \n",
       "19  human-oral-v1-0    NO_RESULTS  human-oral-v1-0             bin.2.sig   \n",
       "\n",
       "                         result.md5_name result.overlap result.p_query  \\\n",
       "0   95935c5aa1283dd063a19eff883ea84c.sig            NaN            NaN   \n",
       "1   95935c5aa1283dd063a19eff883ea84c.sig            NaN            NaN   \n",
       "2   95935c5aa1283dd063a19eff883ea84c.sig        0.9 Mbp          66.8%   \n",
       "3   95935c5aa1283dd063a19eff883ea84c.sig            NaN            NaN   \n",
       "4   90de13310088a31d1ccb76f1da574cb6.sig            NaN            NaN   \n",
       "5   90de13310088a31d1ccb76f1da574cb6.sig            NaN            NaN   \n",
       "6   90de13310088a31d1ccb76f1da574cb6.sig        1.9 Mbp          58.9%   \n",
       "7   90de13310088a31d1ccb76f1da574cb6.sig            NaN            NaN   \n",
       "8   588a9cfc6aad0f88443f6afd115a738e.sig            NaN            NaN   \n",
       "9   588a9cfc6aad0f88443f6afd115a738e.sig            NaN            NaN   \n",
       "10  588a9cfc6aad0f88443f6afd115a738e.sig        0.9 Mbp          49.9%   \n",
       "11  588a9cfc6aad0f88443f6afd115a738e.sig            NaN            NaN   \n",
       "12  c399bb823a0358c2951ad2ac951daef6.sig            NaN            NaN   \n",
       "13  c399bb823a0358c2951ad2ac951daef6.sig        0.8 Mbp          30.3%   \n",
       "14  c399bb823a0358c2951ad2ac951daef6.sig        1.8 Mbp          66.8%   \n",
       "15  c399bb823a0358c2951ad2ac951daef6.sig            NaN            NaN   \n",
       "16  a6546452612d9462460ebdbd94c6c611.sig            NaN            NaN   \n",
       "17  a6546452612d9462460ebdbd94c6c611.sig            NaN            NaN   \n",
       "18  a6546452612d9462460ebdbd94c6c611.sig        3.4 Mbp          22.2%   \n",
       "19  a6546452612d9462460ebdbd94c6c611.sig            NaN            NaN   \n",
       "\n",
       "   result.p_match   result.match  result.matches  \n",
       "0             NaN            NaN             NaN  \n",
       "1             NaN            NaN             NaN  \n",
       "2           45.4%  MGYG000002570             1.0  \n",
       "3             NaN            NaN             NaN  \n",
       "4             NaN            NaN             NaN  \n",
       "5             NaN            NaN             NaN  \n",
       "6           52.7%  MGYG000000217             3.0  \n",
       "7             NaN            NaN             NaN  \n",
       "8             NaN            NaN             NaN  \n",
       "9             NaN            NaN             NaN  \n",
       "10          48.0%  MGYG000004533             1.0  \n",
       "11            NaN            NaN             NaN  \n",
       "12            NaN            NaN             NaN  \n",
       "13          31.3%  MGYG000292488             1.0  \n",
       "14          57.0%  MGYG000000060             2.0  \n",
       "15            NaN            NaN             NaN  \n",
       "16            NaN            NaN             NaN  \n",
       "17            NaN            NaN             NaN  \n",
       "18          63.0%  MGYG000002478            19.0  \n",
       "19            NaN            NaN             NaN  "
      ]
     },
     "execution_count": 65,
     "metadata": {},
     "output_type": "execute_result"
    }
   ],
   "source": [
    "query_result_df"
   ]
  },
  {
   "cell_type": "markdown",
   "id": "f398676c-4fd3-4691-b8f5-fb0a5252c700",
   "metadata": {},
   "source": [
    "**Output:** Each signature is queried against each catalogue entry.  \n",
    "Results can then be analysed according to your research:\n",
    "- study related to bacteria of the human gut,\n",
    "- ..."
   ]
  },
  {
   "cell_type": "markdown",
   "id": "a2f2ee71-1fec-433b-835b-2e971e8d24bb",
   "metadata": {},
   "source": [
    "#### Are any of our MAGs found in biomes other than the human gut?"
   ]
  },
  {
   "cell_type": "code",
   "execution_count": 66,
   "id": "304ba7a6-44e9-4d90-adad-3f68784b1c2e",
   "metadata": {},
   "outputs": [],
   "source": [
    "matches = query_result_df.dropna(subset=['result.match'])"
   ]
  },
  {
   "cell_type": "code",
   "execution_count": 67,
   "id": "68fab036-adfe-467e-9b66-7744db35cee4",
   "metadata": {},
   "outputs": [
    {
     "data": {
      "text/html": [
       "<div>\n",
       "<style scoped>\n",
       "    .dataframe tbody tr th:only-of-type {\n",
       "        vertical-align: middle;\n",
       "    }\n",
       "\n",
       "    .dataframe tbody tr th {\n",
       "        vertical-align: top;\n",
       "    }\n",
       "\n",
       "    .dataframe thead th {\n",
       "        text-align: right;\n",
       "    }\n",
       "</style>\n",
       "<table border=\"1\" class=\"dataframe\">\n",
       "  <thead>\n",
       "    <tr style=\"text-align: right;\">\n",
       "      <th></th>\n",
       "      <th>job_id</th>\n",
       "      <th>status</th>\n",
       "      <th>filename</th>\n",
       "      <th>results_url</th>\n",
       "      <th>catalogue</th>\n",
       "      <th>result.status</th>\n",
       "      <th>result.catalog</th>\n",
       "      <th>result.query_filename</th>\n",
       "      <th>result.md5_name</th>\n",
       "      <th>result.overlap</th>\n",
       "      <th>result.p_query</th>\n",
       "      <th>result.p_match</th>\n",
       "      <th>result.match</th>\n",
       "      <th>result.matches</th>\n",
       "    </tr>\n",
       "  </thead>\n",
       "  <tbody>\n",
       "    <tr>\n",
       "      <th>2</th>\n",
       "      <td>a7382137-af64-43e2-b302-2e61fa7822a1</td>\n",
       "      <td>SUCCESS</td>\n",
       "      <td>bin.4.sig</td>\n",
       "      <td>https://www.ebi.ac.uk/metagenomics/api/v1/genomes-search/results/a7382137-af64-43e2-b302-2e61fa7822a1</td>\n",
       "      <td>human-gut-v2-0</td>\n",
       "      <td>NaN</td>\n",
       "      <td>human-gut-v2-0</td>\n",
       "      <td>bin.4.sig</td>\n",
       "      <td>95935c5aa1283dd063a19eff883ea84c.sig</td>\n",
       "      <td>0.9 Mbp</td>\n",
       "      <td>66.8%</td>\n",
       "      <td>45.4%</td>\n",
       "      <td>MGYG000002570</td>\n",
       "      <td>1.0</td>\n",
       "    </tr>\n",
       "    <tr>\n",
       "      <th>6</th>\n",
       "      <td>14b0a47d-6a88-43ab-83c9-b661765d6cd1</td>\n",
       "      <td>SUCCESS</td>\n",
       "      <td>bin.1.sig</td>\n",
       "      <td>https://www.ebi.ac.uk/metagenomics/api/v1/genomes-search/results/14b0a47d-6a88-43ab-83c9-b661765d6cd1</td>\n",
       "      <td>human-gut-v2-0</td>\n",
       "      <td>NaN</td>\n",
       "      <td>human-gut-v2-0</td>\n",
       "      <td>bin.1.sig</td>\n",
       "      <td>90de13310088a31d1ccb76f1da574cb6.sig</td>\n",
       "      <td>1.9 Mbp</td>\n",
       "      <td>58.9%</td>\n",
       "      <td>52.7%</td>\n",
       "      <td>MGYG000000217</td>\n",
       "      <td>3.0</td>\n",
       "    </tr>\n",
       "    <tr>\n",
       "      <th>10</th>\n",
       "      <td>18d07061-76da-433a-aba5-a0cc53ca9c18</td>\n",
       "      <td>SUCCESS</td>\n",
       "      <td>bin.5.sig</td>\n",
       "      <td>https://www.ebi.ac.uk/metagenomics/api/v1/genomes-search/results/18d07061-76da-433a-aba5-a0cc53ca9c18</td>\n",
       "      <td>human-gut-v2-0</td>\n",
       "      <td>NaN</td>\n",
       "      <td>human-gut-v2-0</td>\n",
       "      <td>bin.5.sig</td>\n",
       "      <td>588a9cfc6aad0f88443f6afd115a738e.sig</td>\n",
       "      <td>0.9 Mbp</td>\n",
       "      <td>49.9%</td>\n",
       "      <td>48.0%</td>\n",
       "      <td>MGYG000004533</td>\n",
       "      <td>1.0</td>\n",
       "    </tr>\n",
       "    <tr>\n",
       "      <th>13</th>\n",
       "      <td>5596a219-7fb2-4d62-8765-687b94618200</td>\n",
       "      <td>SUCCESS</td>\n",
       "      <td>bin.3.sig</td>\n",
       "      <td>https://www.ebi.ac.uk/metagenomics/api/v1/genomes-search/results/5596a219-7fb2-4d62-8765-687b94618200</td>\n",
       "      <td>cow-rumen-v1-0</td>\n",
       "      <td>NaN</td>\n",
       "      <td>cow-rumen-v1-0</td>\n",
       "      <td>bin.3.sig</td>\n",
       "      <td>c399bb823a0358c2951ad2ac951daef6.sig</td>\n",
       "      <td>0.8 Mbp</td>\n",
       "      <td>30.3%</td>\n",
       "      <td>31.3%</td>\n",
       "      <td>MGYG000292488</td>\n",
       "      <td>1.0</td>\n",
       "    </tr>\n",
       "    <tr>\n",
       "      <th>14</th>\n",
       "      <td>3930defe-b858-47c9-ad79-18c6ea185395</td>\n",
       "      <td>SUCCESS</td>\n",
       "      <td>bin.3.sig</td>\n",
       "      <td>https://www.ebi.ac.uk/metagenomics/api/v1/genomes-search/results/3930defe-b858-47c9-ad79-18c6ea185395</td>\n",
       "      <td>human-gut-v2-0</td>\n",
       "      <td>NaN</td>\n",
       "      <td>human-gut-v2-0</td>\n",
       "      <td>bin.3.sig</td>\n",
       "      <td>c399bb823a0358c2951ad2ac951daef6.sig</td>\n",
       "      <td>1.8 Mbp</td>\n",
       "      <td>66.8%</td>\n",
       "      <td>57.0%</td>\n",
       "      <td>MGYG000000060</td>\n",
       "      <td>2.0</td>\n",
       "    </tr>\n",
       "    <tr>\n",
       "      <th>18</th>\n",
       "      <td>37572925-2cec-482c-8cd3-712125b4f8b3</td>\n",
       "      <td>SUCCESS</td>\n",
       "      <td>bin.2.sig</td>\n",
       "      <td>https://www.ebi.ac.uk/metagenomics/api/v1/genomes-search/results/37572925-2cec-482c-8cd3-712125b4f8b3</td>\n",
       "      <td>human-gut-v2-0</td>\n",
       "      <td>NaN</td>\n",
       "      <td>human-gut-v2-0</td>\n",
       "      <td>bin.2.sig</td>\n",
       "      <td>a6546452612d9462460ebdbd94c6c611.sig</td>\n",
       "      <td>3.4 Mbp</td>\n",
       "      <td>22.2%</td>\n",
       "      <td>63.0%</td>\n",
       "      <td>MGYG000002478</td>\n",
       "      <td>19.0</td>\n",
       "    </tr>\n",
       "  </tbody>\n",
       "</table>\n",
       "</div>"
      ],
      "text/plain": [
       "                                  job_id   status   filename  \\\n",
       "2   a7382137-af64-43e2-b302-2e61fa7822a1  SUCCESS  bin.4.sig   \n",
       "6   14b0a47d-6a88-43ab-83c9-b661765d6cd1  SUCCESS  bin.1.sig   \n",
       "10  18d07061-76da-433a-aba5-a0cc53ca9c18  SUCCESS  bin.5.sig   \n",
       "13  5596a219-7fb2-4d62-8765-687b94618200  SUCCESS  bin.3.sig   \n",
       "14  3930defe-b858-47c9-ad79-18c6ea185395  SUCCESS  bin.3.sig   \n",
       "18  37572925-2cec-482c-8cd3-712125b4f8b3  SUCCESS  bin.2.sig   \n",
       "\n",
       "                                                                                              results_url  \\\n",
       "2   https://www.ebi.ac.uk/metagenomics/api/v1/genomes-search/results/a7382137-af64-43e2-b302-2e61fa7822a1   \n",
       "6   https://www.ebi.ac.uk/metagenomics/api/v1/genomes-search/results/14b0a47d-6a88-43ab-83c9-b661765d6cd1   \n",
       "10  https://www.ebi.ac.uk/metagenomics/api/v1/genomes-search/results/18d07061-76da-433a-aba5-a0cc53ca9c18   \n",
       "13  https://www.ebi.ac.uk/metagenomics/api/v1/genomes-search/results/5596a219-7fb2-4d62-8765-687b94618200   \n",
       "14  https://www.ebi.ac.uk/metagenomics/api/v1/genomes-search/results/3930defe-b858-47c9-ad79-18c6ea185395   \n",
       "18  https://www.ebi.ac.uk/metagenomics/api/v1/genomes-search/results/37572925-2cec-482c-8cd3-712125b4f8b3   \n",
       "\n",
       "         catalogue result.status  result.catalog result.query_filename  \\\n",
       "2   human-gut-v2-0           NaN  human-gut-v2-0             bin.4.sig   \n",
       "6   human-gut-v2-0           NaN  human-gut-v2-0             bin.1.sig   \n",
       "10  human-gut-v2-0           NaN  human-gut-v2-0             bin.5.sig   \n",
       "13  cow-rumen-v1-0           NaN  cow-rumen-v1-0             bin.3.sig   \n",
       "14  human-gut-v2-0           NaN  human-gut-v2-0             bin.3.sig   \n",
       "18  human-gut-v2-0           NaN  human-gut-v2-0             bin.2.sig   \n",
       "\n",
       "                         result.md5_name result.overlap result.p_query  \\\n",
       "2   95935c5aa1283dd063a19eff883ea84c.sig        0.9 Mbp          66.8%   \n",
       "6   90de13310088a31d1ccb76f1da574cb6.sig        1.9 Mbp          58.9%   \n",
       "10  588a9cfc6aad0f88443f6afd115a738e.sig        0.9 Mbp          49.9%   \n",
       "13  c399bb823a0358c2951ad2ac951daef6.sig        0.8 Mbp          30.3%   \n",
       "14  c399bb823a0358c2951ad2ac951daef6.sig        1.8 Mbp          66.8%   \n",
       "18  a6546452612d9462460ebdbd94c6c611.sig        3.4 Mbp          22.2%   \n",
       "\n",
       "   result.p_match   result.match  result.matches  \n",
       "2           45.4%  MGYG000002570             1.0  \n",
       "6           52.7%  MGYG000000217             3.0  \n",
       "10          48.0%  MGYG000004533             1.0  \n",
       "13          31.3%  MGYG000292488             1.0  \n",
       "14          57.0%  MGYG000000060             2.0  \n",
       "18          63.0%  MGYG000002478            19.0  "
      ]
     },
     "execution_count": 67,
     "metadata": {},
     "output_type": "execute_result"
    }
   ],
   "source": [
    "matches"
   ]
  },
  {
   "cell_type": "markdown",
   "id": "cd462b28-abef-4b37-97dc-581330c165b5",
   "metadata": {},
   "source": [
    "**Output:** DataFrame containing only the results with a positive match in the catalogue."
   ]
  },
  {
   "cell_type": "code",
   "execution_count": 68,
   "id": "f1aeac25-4884-46b4-80c7-aea99a2d882c",
   "metadata": {},
   "outputs": [
    {
     "data": {
      "text/plain": [
       "Text(0.5, 0.98, 'Biomes matched by the MAGs')"
      ]
     },
     "execution_count": 68,
     "metadata": {},
     "output_type": "execute_result"
    },
    {
     "data": {
      "image/png": "[encoded data removed]",
      "text/plain": [
       "<Figure size 300x300 with 1 Axes>"
      ]
     },
     "metadata": {},
     "output_type": "display_data"
    }
   ],
   "source": [
    "fig = plt.figure(figsize=(3, 3))\n",
    "spec = fig.add_gridspec(1, 2)\n",
    "\n",
    "ax01 = fig.add_subplot(spec[0:])\n",
    "matches.catalogue.hist()\n",
    "plt.xlabel(\"Catalogue\")\n",
    "ax01.grid(False)\n",
    "\n",
    "fig.suptitle('Biomes matched by the MAGs')\n",
    "#plt.savefig(\"outputs/signature_matches.png\",transparent=True)"
   ]
  },
  {
   "cell_type": "markdown",
   "id": "50392ce5-57f1-4223-8386-66ce1ccee5c0",
   "metadata": {},
   "source": [
    "**Output:** Display which biomes that were matched during the search by the MAGs. The five signatures match the `human-gut-v2-0` biome and one of the signature also matches the `cow-rumen-v1-0` biome."
   ]
  },
  {
   "cell_type": "markdown",
   "id": "1c566d3a-44de-4953-89ed-a6b8117c5c40",
   "metadata": {},
   "source": [
    "#### What is the taxonomy of the MGnify MAGs which match the query?"
   ]
  },
  {
   "cell_type": "markdown",
   "id": "6296b1f2-e6ae-4865-9489-aff7e33400b7",
   "metadata": {},
   "source": [
    "Call the API for each Genome, to find it's taxonomic lineage."
   ]
  },
  {
   "cell_type": "code",
   "execution_count": 69,
   "id": "6b64a710-2d74-478e-b9a5-768810d5eaa5",
   "metadata": {
    "tags": []
   },
   "outputs": [],
   "source": [
    "def get_taxonomy_of_mgnify_mag(match_row):\n",
    "    mgyg_accession = match_row['result.match']\n",
    "    with APISession(\"https://www.ebi.ac.uk/metagenomics/api/v1\") as mgnify:\n",
    "        genome_document = mgnify.get('genomes', mgyg_accession)\n",
    "        return genome_document.resource.taxon_lineage"
   ]
  },
  {
   "cell_type": "markdown",
   "id": "addd4448-e1cc-4408-8894-f55ae3ac13b3",
   "metadata": {},
   "source": [
    "Create a new column in the matches the table."
   ]
  },
  {
   "cell_type": "code",
   "execution_count": 70,
   "id": "565a914b-eaaa-4599-b144-9232061c9a54",
   "metadata": {},
   "outputs": [],
   "source": [
    "matches['best_match_taxonomy'] = matches.apply(get_taxonomy_of_mgnify_mag, axis=1)"
   ]
  },
  {
   "cell_type": "code",
   "execution_count": 71,
   "id": "cb189fb5-40dd-4f23-9026-78c33d5aeb43",
   "metadata": {},
   "outputs": [
    {
     "data": {
      "text/html": [
       "<div>\n",
       "<style scoped>\n",
       "    .dataframe tbody tr th:only-of-type {\n",
       "        vertical-align: middle;\n",
       "    }\n",
       "\n",
       "    .dataframe tbody tr th {\n",
       "        vertical-align: top;\n",
       "    }\n",
       "\n",
       "    .dataframe thead th {\n",
       "        text-align: right;\n",
       "    }\n",
       "</style>\n",
       "<table border=\"1\" class=\"dataframe\">\n",
       "  <thead>\n",
       "    <tr style=\"text-align: right;\">\n",
       "      <th></th>\n",
       "      <th>job_id</th>\n",
       "      <th>status</th>\n",
       "      <th>filename</th>\n",
       "      <th>results_url</th>\n",
       "      <th>catalogue</th>\n",
       "      <th>result.status</th>\n",
       "      <th>result.catalog</th>\n",
       "      <th>result.query_filename</th>\n",
       "      <th>result.md5_name</th>\n",
       "      <th>result.overlap</th>\n",
       "      <th>result.p_query</th>\n",
       "      <th>result.p_match</th>\n",
       "      <th>result.match</th>\n",
       "      <th>result.matches</th>\n",
       "      <th>best_match_taxonomy</th>\n",
       "    </tr>\n",
       "  </thead>\n",
       "  <tbody>\n",
       "    <tr>\n",
       "      <th>2</th>\n",
       "      <td>a7382137-af64-43e2-b302-2e61fa7822a1</td>\n",
       "      <td>SUCCESS</td>\n",
       "      <td>bin.4.sig</td>\n",
       "      <td>https://www.ebi.ac.uk/metagenomics/api/v1/genomes-search/results/a7382137-af64-43e2-b302-2e61fa7822a1</td>\n",
       "      <td>human-gut-v2-0</td>\n",
       "      <td>NaN</td>\n",
       "      <td>human-gut-v2-0</td>\n",
       "      <td>bin.4.sig</td>\n",
       "      <td>95935c5aa1283dd063a19eff883ea84c.sig</td>\n",
       "      <td>0.9 Mbp</td>\n",
       "      <td>66.8%</td>\n",
       "      <td>45.4%</td>\n",
       "      <td>MGYG000002570</td>\n",
       "      <td>1.0</td>\n",
       "      <td>d__Bacteria;p__Firmicutes_A;c__Clostridia;o__Oscillospirales;f__Acutalibacteraceae;g__Ruminococcus_E;s__Ruminococcus_E sp003526955</td>\n",
       "    </tr>\n",
       "    <tr>\n",
       "      <th>6</th>\n",
       "      <td>14b0a47d-6a88-43ab-83c9-b661765d6cd1</td>\n",
       "      <td>SUCCESS</td>\n",
       "      <td>bin.1.sig</td>\n",
       "      <td>https://www.ebi.ac.uk/metagenomics/api/v1/genomes-search/results/14b0a47d-6a88-43ab-83c9-b661765d6cd1</td>\n",
       "      <td>human-gut-v2-0</td>\n",
       "      <td>NaN</td>\n",
       "      <td>human-gut-v2-0</td>\n",
       "      <td>bin.1.sig</td>\n",
       "      <td>90de13310088a31d1ccb76f1da574cb6.sig</td>\n",
       "      <td>1.9 Mbp</td>\n",
       "      <td>58.9%</td>\n",
       "      <td>52.7%</td>\n",
       "      <td>MGYG000000217</td>\n",
       "      <td>3.0</td>\n",
       "      <td>d__Bacteria;p__Firmicutes_A;c__Clostridia;o__Lachnospirales;f__Lachnospiraceae;g__Acetatifactor;s__Acetatifactor sp900066565</td>\n",
       "    </tr>\n",
       "    <tr>\n",
       "      <th>10</th>\n",
       "      <td>18d07061-76da-433a-aba5-a0cc53ca9c18</td>\n",
       "      <td>SUCCESS</td>\n",
       "      <td>bin.5.sig</td>\n",
       "      <td>https://www.ebi.ac.uk/metagenomics/api/v1/genomes-search/results/18d07061-76da-433a-aba5-a0cc53ca9c18</td>\n",
       "      <td>human-gut-v2-0</td>\n",
       "      <td>NaN</td>\n",
       "      <td>human-gut-v2-0</td>\n",
       "      <td>bin.5.sig</td>\n",
       "      <td>588a9cfc6aad0f88443f6afd115a738e.sig</td>\n",
       "      <td>0.9 Mbp</td>\n",
       "      <td>49.9%</td>\n",
       "      <td>48.0%</td>\n",
       "      <td>MGYG000004533</td>\n",
       "      <td>1.0</td>\n",
       "      <td>d__Bacteria;p__Proteobacteria;c__Alphaproteobacteria;o__RF32;f__CAG-239;g__CAG-495;s__CAG-495 sp000436375</td>\n",
       "    </tr>\n",
       "    <tr>\n",
       "      <th>13</th>\n",
       "      <td>5596a219-7fb2-4d62-8765-687b94618200</td>\n",
       "      <td>SUCCESS</td>\n",
       "      <td>bin.3.sig</td>\n",
       "      <td>https://www.ebi.ac.uk/metagenomics/api/v1/genomes-search/results/5596a219-7fb2-4d62-8765-687b94618200</td>\n",
       "      <td>cow-rumen-v1-0</td>\n",
       "      <td>NaN</td>\n",
       "      <td>cow-rumen-v1-0</td>\n",
       "      <td>bin.3.sig</td>\n",
       "      <td>c399bb823a0358c2951ad2ac951daef6.sig</td>\n",
       "      <td>0.8 Mbp</td>\n",
       "      <td>30.3%</td>\n",
       "      <td>31.3%</td>\n",
       "      <td>MGYG000292488</td>\n",
       "      <td>1.0</td>\n",
       "      <td>d__Bacteria;p__Firmicutes_A;c__Clostridia;o__Lachnospirales;f__Lachnospiraceae;g__Lachnospira;s__Lachnospira sp003537285</td>\n",
       "    </tr>\n",
       "    <tr>\n",
       "      <th>14</th>\n",
       "      <td>3930defe-b858-47c9-ad79-18c6ea185395</td>\n",
       "      <td>SUCCESS</td>\n",
       "      <td>bin.3.sig</td>\n",
       "      <td>https://www.ebi.ac.uk/metagenomics/api/v1/genomes-search/results/3930defe-b858-47c9-ad79-18c6ea185395</td>\n",
       "      <td>human-gut-v2-0</td>\n",
       "      <td>NaN</td>\n",
       "      <td>human-gut-v2-0</td>\n",
       "      <td>bin.3.sig</td>\n",
       "      <td>c399bb823a0358c2951ad2ac951daef6.sig</td>\n",
       "      <td>1.8 Mbp</td>\n",
       "      <td>66.8%</td>\n",
       "      <td>57.0%</td>\n",
       "      <td>MGYG000000060</td>\n",
       "      <td>2.0</td>\n",
       "      <td>d__Bacteria;p__Firmicutes_A;c__Clostridia;o__Lachnospirales;f__Lachnospiraceae;g__Lachnospira;s__Lachnospira eligens_A</td>\n",
       "    </tr>\n",
       "    <tr>\n",
       "      <th>18</th>\n",
       "      <td>37572925-2cec-482c-8cd3-712125b4f8b3</td>\n",
       "      <td>SUCCESS</td>\n",
       "      <td>bin.2.sig</td>\n",
       "      <td>https://www.ebi.ac.uk/metagenomics/api/v1/genomes-search/results/37572925-2cec-482c-8cd3-712125b4f8b3</td>\n",
       "      <td>human-gut-v2-0</td>\n",
       "      <td>NaN</td>\n",
       "      <td>human-gut-v2-0</td>\n",
       "      <td>bin.2.sig</td>\n",
       "      <td>a6546452612d9462460ebdbd94c6c611.sig</td>\n",
       "      <td>3.4 Mbp</td>\n",
       "      <td>22.2%</td>\n",
       "      <td>63.0%</td>\n",
       "      <td>MGYG000002478</td>\n",
       "      <td>19.0</td>\n",
       "      <td>d__Bacteria;p__Bacteroidota;c__Bacteroidia;o__Bacteroidales;f__Bacteroidaceae;g__Phocaeicola;s__Phocaeicola dorei</td>\n",
       "    </tr>\n",
       "  </tbody>\n",
       "</table>\n",
       "</div>"
      ],
      "text/plain": [
       "                                  job_id   status   filename  \\\n",
       "2   a7382137-af64-43e2-b302-2e61fa7822a1  SUCCESS  bin.4.sig   \n",
       "6   14b0a47d-6a88-43ab-83c9-b661765d6cd1  SUCCESS  bin.1.sig   \n",
       "10  18d07061-76da-433a-aba5-a0cc53ca9c18  SUCCESS  bin.5.sig   \n",
       "13  5596a219-7fb2-4d62-8765-687b94618200  SUCCESS  bin.3.sig   \n",
       "14  3930defe-b858-47c9-ad79-18c6ea185395  SUCCESS  bin.3.sig   \n",
       "18  37572925-2cec-482c-8cd3-712125b4f8b3  SUCCESS  bin.2.sig   \n",
       "\n",
       "                                                                                              results_url  \\\n",
       "2   https://www.ebi.ac.uk/metagenomics/api/v1/genomes-search/results/a7382137-af64-43e2-b302-2e61fa7822a1   \n",
       "6   https://www.ebi.ac.uk/metagenomics/api/v1/genomes-search/results/14b0a47d-6a88-43ab-83c9-b661765d6cd1   \n",
       "10  https://www.ebi.ac.uk/metagenomics/api/v1/genomes-search/results/18d07061-76da-433a-aba5-a0cc53ca9c18   \n",
       "13  https://www.ebi.ac.uk/metagenomics/api/v1/genomes-search/results/5596a219-7fb2-4d62-8765-687b94618200   \n",
       "14  https://www.ebi.ac.uk/metagenomics/api/v1/genomes-search/results/3930defe-b858-47c9-ad79-18c6ea185395   \n",
       "18  https://www.ebi.ac.uk/metagenomics/api/v1/genomes-search/results/37572925-2cec-482c-8cd3-712125b4f8b3   \n",
       "\n",
       "         catalogue result.status  result.catalog result.query_filename  \\\n",
       "2   human-gut-v2-0           NaN  human-gut-v2-0             bin.4.sig   \n",
       "6   human-gut-v2-0           NaN  human-gut-v2-0             bin.1.sig   \n",
       "10  human-gut-v2-0           NaN  human-gut-v2-0             bin.5.sig   \n",
       "13  cow-rumen-v1-0           NaN  cow-rumen-v1-0             bin.3.sig   \n",
       "14  human-gut-v2-0           NaN  human-gut-v2-0             bin.3.sig   \n",
       "18  human-gut-v2-0           NaN  human-gut-v2-0             bin.2.sig   \n",
       "\n",
       "                         result.md5_name result.overlap result.p_query  \\\n",
       "2   95935c5aa1283dd063a19eff883ea84c.sig        0.9 Mbp          66.8%   \n",
       "6   90de13310088a31d1ccb76f1da574cb6.sig        1.9 Mbp          58.9%   \n",
       "10  588a9cfc6aad0f88443f6afd115a738e.sig        0.9 Mbp          49.9%   \n",
       "13  c399bb823a0358c2951ad2ac951daef6.sig        0.8 Mbp          30.3%   \n",
       "14  c399bb823a0358c2951ad2ac951daef6.sig        1.8 Mbp          66.8%   \n",
       "18  a6546452612d9462460ebdbd94c6c611.sig        3.4 Mbp          22.2%   \n",
       "\n",
       "   result.p_match   result.match  result.matches  \\\n",
       "2           45.4%  MGYG000002570             1.0   \n",
       "6           52.7%  MGYG000000217             3.0   \n",
       "10          48.0%  MGYG000004533             1.0   \n",
       "13          31.3%  MGYG000292488             1.0   \n",
       "14          57.0%  MGYG000000060             2.0   \n",
       "18          63.0%  MGYG000002478            19.0   \n",
       "\n",
       "                                                                                                                   best_match_taxonomy  \n",
       "2   d__Bacteria;p__Firmicutes_A;c__Clostridia;o__Oscillospirales;f__Acutalibacteraceae;g__Ruminococcus_E;s__Ruminococcus_E sp003526955  \n",
       "6         d__Bacteria;p__Firmicutes_A;c__Clostridia;o__Lachnospirales;f__Lachnospiraceae;g__Acetatifactor;s__Acetatifactor sp900066565  \n",
       "10                           d__Bacteria;p__Proteobacteria;c__Alphaproteobacteria;o__RF32;f__CAG-239;g__CAG-495;s__CAG-495 sp000436375  \n",
       "13            d__Bacteria;p__Firmicutes_A;c__Clostridia;o__Lachnospirales;f__Lachnospiraceae;g__Lachnospira;s__Lachnospira sp003537285  \n",
       "14              d__Bacteria;p__Firmicutes_A;c__Clostridia;o__Lachnospirales;f__Lachnospiraceae;g__Lachnospira;s__Lachnospira eligens_A  \n",
       "18                   d__Bacteria;p__Bacteroidota;c__Bacteroidia;o__Bacteroidales;f__Bacteroidaceae;g__Phocaeicola;s__Phocaeicola dorei  "
      ]
     },
     "execution_count": 71,
     "metadata": {},
     "output_type": "execute_result"
    }
   ],
   "source": [
    "matches"
   ]
  },
  {
   "cell_type": "markdown",
   "id": "af8b8cb0-ac66-4e16-94ca-79b4c531d707",
   "metadata": {},
   "source": [
    "**Output:** The `matches` DataFrame has a new column that contains the corresponding `taxon-lineage` information."
   ]
  },
  {
   "cell_type": "markdown",
   "id": "9d79d249-5c51-4096-b6bc-764be1470a6e",
   "metadata": {},
   "source": [
    "Summarise results with more verbose:"
   ]
  },
  {
   "cell_type": "code",
   "execution_count": 72,
   "id": "419317e2-a1ea-4a3b-bc84-bf78faf46062",
   "metadata": {},
   "outputs": [
    {
     "name": "stdout",
     "output_type": "stream",
     "text": [
      "The MAG (bin.4.sig) matches MGYG000002570 which has taxonomy d__Bacteria;p__Firmicutes_A;c__Clostridia;o__Oscillospirales;f__Acutalibacteraceae;g__Ruminococcus_E;s__Ruminococcus_E sp003526955\n",
      "The MAG (bin.1.sig) matches MGYG000000217 which has taxonomy d__Bacteria;p__Firmicutes_A;c__Clostridia;o__Lachnospirales;f__Lachnospiraceae;g__Acetatifactor;s__Acetatifactor sp900066565\n",
      "The MAG (bin.5.sig) matches MGYG000004533 which has taxonomy d__Bacteria;p__Proteobacteria;c__Alphaproteobacteria;o__RF32;f__CAG-239;g__CAG-495;s__CAG-495 sp000436375\n",
      "The MAG (bin.3.sig) matches MGYG000292488 which has taxonomy d__Bacteria;p__Firmicutes_A;c__Clostridia;o__Lachnospirales;f__Lachnospiraceae;g__Lachnospira;s__Lachnospira sp003537285\n",
      "The MAG (bin.3.sig) matches MGYG000000060 which has taxonomy d__Bacteria;p__Firmicutes_A;c__Clostridia;o__Lachnospirales;f__Lachnospiraceae;g__Lachnospira;s__Lachnospira eligens_A\n",
      "The MAG (bin.2.sig) matches MGYG000002478 which has taxonomy d__Bacteria;p__Bacteroidota;c__Bacteroidia;o__Bacteroidales;f__Bacteroidaceae;g__Phocaeicola;s__Phocaeicola dorei\n"
     ]
    }
   ],
   "source": [
    "for row, match in matches.iterrows():\n",
    "    print(f\"The MAG ({match['filename']}) matches {match['result.match']} which has taxonomy {match['best_match_taxonomy']}\")"
   ]
  },
  {
   "cell_type": "markdown",
   "id": "604c88cc-6501-4b0a-b3aa-5ddf0ee7be27",
   "metadata": {},
   "source": [
    "#### Which of our MAGs are completely novel (i.e. in no MGnify catalogue)"
   ]
  },
  {
   "cell_type": "markdown",
   "id": "b66d5ade-acd9-4f56-9c98-fadb6077b54f",
   "metadata": {},
   "source": [
    "One way to check this is to group all of the search results by filename (i.e. finding the queries for each MAG vs all catalogues) and checking whether the sum of all matches is 0..."
   ]
  },
  {
   "cell_type": "code",
   "execution_count": 73,
   "id": "c11927db-543d-49bc-a3d0-1d162203e4e0",
   "metadata": {},
   "outputs": [
    {
     "data": {
      "text/plain": [
       "filename\n",
       "bin.1.sig    False\n",
       "bin.2.sig    False\n",
       "bin.3.sig    False\n",
       "bin.4.sig    False\n",
       "bin.5.sig    False\n",
       "dtype: bool"
      ]
     },
     "execution_count": 73,
     "metadata": {},
     "output_type": "execute_result"
    }
   ],
   "source": [
    "query_result_df.groupby('filename').apply(lambda query: query['result.matches'].sum() == 0)"
   ]
  },
  {
   "cell_type": "raw",
   "id": "32065365-d329-4f25-a6df-3bd34d8596d2",
   "metadata": {},
   "source": [
    "In this example, none of the MAGs are completely novel."
   ]
  }
 ],
 "metadata": {
  "kernelspec": {
   "display_name": "Python (mgnify-py-env)",
   "language": "python",
   "name": "conda-env-mgnify-py-env-py"
  },
  "language_info": {
   "codemirror_mode": {
    "name": "ipython",
    "version": 3
   },
   "file_extension": ".py",
   "mimetype": "text/x-python",
   "name": "python",
   "nbconvert_exporter": "python",
   "pygments_lexer": "ipython3",
   "version": "3.11.0"
  },
  "toc-autonumbering": true,
  "vscode": {
   "interpreter": {
    "hash": "31f2aee4e71d21fbe5cf8b01ff0e069b9275f58929596ceb00d14d90e3e16cd6"
   }
  }
 },
 "nbformat": 4,
 "nbformat_minor": 5
}
