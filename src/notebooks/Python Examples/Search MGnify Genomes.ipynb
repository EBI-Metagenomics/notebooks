{
 "cells": [
  {
   "cell_type": "raw",
   "id": "796355f4-32b8-4624-8b8f-7a799236e851",
   "metadata": {
    "jupyter": {
     "source_hidden": true
    },
    "tags": []
   },
   "source": [
    "---\n",
    "title: \"Search MGnify Genomes\"\n",
    "author:\n",
    "  - name: Virginie Grosboillot\n",
    "    affiliation:\n",
    "      - id: eth-z\n",
    "        name: ETH Zurich\n",
    "categories: [Python]\n",
    "execute: \n",
    "  eval: false\n",
    "---"
   ]
  },
  {
   "cell_type": "markdown",
   "id": "7fe8e0e0-03c1-48e4-863e-68c4cd489ac9",
   "metadata": {},
   "source": [
    "<div style=\"max-width:1200px\"><img src=\"../_resources/mgnify_banner.png\" width=\"100%\"></div>"
   ]
  },
  {
   "cell_type": "markdown",
   "id": "db2a10ec-391f-4e94-9567-20cb317be480",
   "metadata": {},
   "source": [
    "<img src=\"../_resources/mgnify_logo.png\" width=\"200px\">"
   ]
  },
  {
   "cell_type": "markdown",
   "id": "109c2b12-e047-45e7-b971-6a6f6d5b1158",
   "metadata": {},
   "source": [
    "# How to use the “genome search” for MGnify MAGs"
   ]
  },
  {
   "cell_type": "markdown",
   "id": "f1df2905-91cc-402b-ba13-a897a70a2bf2",
   "metadata": {},
   "source": [
    "**This notebook aims to give an non-exhaustive overview on how to use the genome search API for MGnify MAGs.**\n",
    "\n",
    "This notebook is divided in 5 sections:\n",
    "- 1: Libraries needed to run the full notebook\n",
    "- 2: How to query the `genomes` database from the MGnify API, save and reload the results\n",
    "- 3: Explore the whole genome dataset\n",
    "- 4: Graphical representations\n",
    "- 5: Case study: Find out whether your own MAGs are novel compared to the MGnify catalogues\n",
    "\n",
    "This is an interactive code notebook (a Jupyter Notebook).\n",
    "To run this code, click into each cell and press the ▶ button in the top toolbar, or press `shift+enter`."
   ]
  },
  {
   "cell_type": "markdown",
   "id": "51528be3-5bab-4ef4-b2eb-e2dec76c53ff",
   "metadata": {},
   "source": [
    "## Import libraries"
   ]
  },
  {
   "cell_type": "markdown",
   "id": "048ab0e7-e29e-4fc2-b8d2-64c69d1c1a6b",
   "metadata": {},
   "source": [
    "Here are imported the necessary python libraries required to run the examples presented in this notebook."
   ]
  },
  {
   "cell_type": "code",
   "execution_count": null,
   "id": "3a6568b0-c830-4909-802a-110903eda428",
   "metadata": {
    "tags": []
   },
   "outputs": [],
   "source": [
    "# Connection to MGnify API\n",
    "from jsonapi_client import Session as APISession\n",
    "from jsonapi_client import Modifier\n",
    "import requests\n",
    "\n",
    "# Dataframes and display\n",
    "import pandas as pd\n",
    "\n",
    "pd.set_option('display.max_columns', None)\n",
    "pd.set_option('display.max_colwidth', None)\n",
    "\n",
    "# Data transformation\n",
    "from functools import reduce\n",
    "\n",
    "# Plots\n",
    "import matplotlib.pyplot as plt\n",
    "import seaborn as sns\n",
    "import plotly.graph_objects as go\n",
    "%matplotlib inline \n",
    "\n",
    "# Create signature of MAGs for comparison against database\n",
    "import sourmash\n",
    "import glob\n",
    "import time\n",
    "from pathlib import PurePath as pp\n",
    "from Bio import SeqIO\n",
    "\n",
    "# Warning verbosity\n",
    "import warnings \n",
    "warnings.filterwarnings(action=\"ignore\")"
   ]
  },
  {
   "cell_type": "markdown",
   "id": "d9e8fd11-c18d-4f9f-b971-3a7340187483",
   "metadata": {},
   "source": [
    "## Query the `genomes` database from MGnify API"
   ]
  },
  {
   "cell_type": "markdown",
   "id": "821d29a2-5699-4137-8d9e-a16046b0daa3",
   "metadata": {},
   "source": [
    "For the genome dataset, use `genomes` endpoint.   \n",
    "A complete list of endpoints can be found at https://www.ebi.ac.uk/metagenomics/api/v1/."
   ]
  },
  {
   "cell_type": "code",
   "execution_count": null,
   "id": "a141a7c4-2ce3-4ceb-a62f-001c0582bd86",
   "metadata": {
    "tags": []
   },
   "outputs": [],
   "source": [
    "endpoint_name = 'genomes'"
   ]
  },
  {
   "cell_type": "markdown",
   "id": "a6b1a1fc-0a99-4cbb-b205-1de6a07807fb",
   "metadata": {},
   "source": [
    "The function `Modifier` from the `jsonapi_client` module allows us to query for specific values in given fields (e.g.: 'geographic-origin', 'taxon-lineage').    \n",
    "One way to explore the available fields is to use `requests` to fetch the API endpoint:"
   ]
  },
  {
   "cell_type": "code",
   "execution_count": null,
   "id": "e8122a2c-1007-417c-bce1-2b7b8cb9a00a",
   "metadata": {
    "tags": []
   },
   "outputs": [],
   "source": [
    "r = requests.get(f\"https://www.ebi.ac.uk/metagenomics/api/v1/{endpoint_name}\")"
   ]
  },
  {
   "cell_type": "code",
   "execution_count": null,
   "id": "52e09911-7eb1-481b-b85c-404b68a565a1",
   "metadata": {
    "tags": []
   },
   "outputs": [],
   "source": [
    "r.json()['data'][0]"
   ]
  },
  {
   "cell_type": "markdown",
   "id": "a7efc9a7-f2a0-4991-9489-074907254c1e",
   "metadata": {},
   "source": [
    "### Get information for a specific genus or species"
   ]
  },
  {
   "cell_type": "markdown",
   "id": "0dbf63a8-aa24-40f9-9954-8b903e77557a",
   "metadata": {},
   "source": [
    "**Examples:**\n",
    "Search for available ressources for a specific genus or species of interest.  \n",
    "- *Listeria*\n",
    "- *Listeria monocytogenes*\n"
   ]
  },
  {
   "cell_type": "markdown",
   "id": "61489d88-ab80-4c8a-9df7-38a81740e568",
   "metadata": {},
   "source": [
    "The `taxon-lineage` field contains domain, phylum, class, order, family, genus, species, subspecies as `d__Bacteria;p__Firmicutes;c__Bacilli;o__Lactobacillales;f__Listeriaceae;g__Listeria;s__Listeria monocytogenes`(example for *Listeria monocytogenes*).   \n",
    "The filter can use the full lineage `d__Bacteria;p__Firmicutes;c__Bacilli;o__Lactobacillales;f__Listeriaceae;g__Listeria` or only part of it `g__Listeria` or `Listeria`."
   ]
  },
  {
   "cell_type": "markdown",
   "id": "f764c141-ac1a-4d00-b3a2-7ed5a1b36faf",
   "metadata": {},
   "source": [
    "#### Set the desired filter(s)"
   ]
  },
  {
   "cell_type": "code",
   "execution_count": null,
   "id": "b93e0463-e674-4c14-a5aa-f34da11dd649",
   "metadata": {
    "tags": []
   },
   "outputs": [],
   "source": [
    "genus_filter = 'Listeria'\n",
    "species_filter = 'Listeria monocytogenes'"
   ]
  },
  {
   "cell_type": "markdown",
   "id": "92b3c558-3a8f-403b-bbcc-92d2a52e5d17",
   "metadata": {},
   "source": [
    "#### Query the database with the 'Listeria' filter and store the results in a Pandas DataFrame."
   ]
  },
  {
   "cell_type": "code",
   "execution_count": null,
   "id": "d9ef9a46-430c-4d38-9cd1-1d3ed3518640",
   "metadata": {
    "tags": []
   },
   "outputs": [],
   "source": [
    "with APISession(\"https://www.ebi.ac.uk/metagenomics/api/v1\") as mgnify:\n",
    "    search_filter = Modifier(f\"taxon_lineage={genus_filter}\")\n",
    "    resources = map(lambda r: r.json, mgnify.iterate(endpoint_name, filter=search_filter))\n",
    "    resources_df = pd.json_normalize(resources)"
   ]
  },
  {
   "cell_type": "code",
   "execution_count": null,
   "id": "900d6c4c-bec9-4e36-bbd7-e8199ad33a9c",
   "metadata": {
    "tags": []
   },
   "outputs": [],
   "source": [
    "# Display the table containing the results of the query\n",
    "resources_df"
   ]
  },
  {
   "cell_type": "markdown",
   "id": "6f2211a2-35b3-4c58-bedd-3a87f3f5a9fe",
   "metadata": {},
   "source": [
    "**Output:** Four entries are obtained for *Listeria* genus. "
   ]
  },
  {
   "cell_type": "markdown",
   "id": "8d2f86f9-eaf8-4706-af0b-27683d5e0ee5",
   "metadata": {},
   "source": [
    "#### Query the database with the 'Listeria monocytogenes' filter and store the results in a Pandas DataFrame."
   ]
  },
  {
   "cell_type": "code",
   "execution_count": null,
   "id": "90521ff6-2a05-4ced-9884-c1d5a7d8968c",
   "metadata": {
    "tags": []
   },
   "outputs": [],
   "source": [
    "with APISession(\"https://www.ebi.ac.uk/metagenomics/api/v1\") as mgnify:\n",
    "    search_filter_2 = Modifier(f\"taxon_lineage={species_filter}\")\n",
    "    resources_2 = map(lambda r: r.json, mgnify.iterate(endpoint_name, filter=search_filter_2))\n",
    "    resources_df_2 = pd.json_normalize(resources_2)"
   ]
  },
  {
   "cell_type": "code",
   "execution_count": null,
   "id": "83392e36-0d01-4647-9684-89b197ea3620",
   "metadata": {
    "tags": []
   },
   "outputs": [],
   "source": [
    "# Display the table containing the results of the query\n",
    "resources_df_2"
   ]
  },
  {
   "cell_type": "markdown",
   "id": "fb9bd868-2fe0-4a12-bafe-7498424049f3",
   "metadata": {},
   "source": [
    "**Output:** Two entries are obtained for *Listeria monocytogenes* species. "
   ]
  },
  {
   "cell_type": "markdown",
   "id": "f75355fd-1e31-4514-adae-bd5d2923a3b9",
   "metadata": {},
   "source": [
    "### Save the results as parquet."
   ]
  },
  {
   "cell_type": "markdown",
   "id": "010d468e-69ca-4fb7-a0a2-0e0dfbae4bf4",
   "metadata": {},
   "source": [
    "Pandas allow you to save your query results in multiple formats. (See [Pandas documentation for more options](https://pandas.pydata.org/docs/reference/frame.html)).\n",
    "\n",
    "`parquet` files can be opened with different libraries including (pandas, pyspark, polar...) and has the advantage of being a compressed data format with column types preserved."
   ]
  },
  {
   "cell_type": "code",
   "execution_count": null,
   "id": "1116e61e-ac95-425e-bd41-4167e2695787",
   "metadata": {
    "tags": []
   },
   "outputs": [],
   "source": [
    "resources_df.to_parquet('Listeria_resources.parquet')"
   ]
  },
  {
   "cell_type": "markdown",
   "id": "81eae674-a82f-4e11-a161-ba46ab171aad",
   "metadata": {},
   "source": [
    "### Load previously saved parquet files"
   ]
  },
  {
   "cell_type": "code",
   "execution_count": null,
   "id": "222e7f46-bc1a-4924-9e84-f3d257cb377f",
   "metadata": {
    "tags": []
   },
   "outputs": [],
   "source": [
    "listeria_df = pd.read_parquet('Listeria_resources.parquet')"
   ]
  },
  {
   "cell_type": "code",
   "execution_count": null,
   "id": "0804a6ab-00a2-4ad8-8e13-93eb2b18da66",
   "metadata": {
    "tags": []
   },
   "outputs": [],
   "source": [
    "listeria_df"
   ]
  },
  {
   "cell_type": "markdown",
   "id": "52021e7f-0bfb-4f58-8e84-72276fc47497",
   "metadata": {},
   "source": [
    "**Output:** Display the saved data as a pandas DataFrame."
   ]
  },
  {
   "cell_type": "markdown",
   "id": "391c4979-1342-48fa-a9a4-4fd92e6c27d0",
   "metadata": {},
   "source": [
    "## Explore the whole `genomes` dataset."
   ]
  },
  {
   "cell_type": "markdown",
   "id": "d7cc3681-6c9b-41bb-a4d3-8c0790d07bf8",
   "metadata": {},
   "source": [
    "### Query and save the dataset as parquet file"
   ]
  },
  {
   "cell_type": "markdown",
   "id": "a466fd62-d82c-4d1a-a880-eefc068e69ad",
   "metadata": {},
   "source": [
    "To query the whole dataset, we can use the same method as previously. The only difference is that **no filter** is passed to the query.  \n",
    "\n",
    "**Warning:** Querying without filter is computationally expensive and will take time.\n",
    "\n",
    "A pre-fetched copy of the data (as of 8 November 2022) is available in `../example-data/genomes/all_genome_resources.parquet`.\n",
    "\n",
    "This was fetched using the following code, which you could copy-and-paste into a code cell to re-fetch the latest data:\n",
    "```python\n",
    "with APISession(\"https://www.ebi.ac.uk/metagenomics/api/v1\") as mgnify:\n",
    "    resources_all = map(lambda r: r.json, mgnify.iterate(endpoint_name))\n",
    "resources_all_df = pd.json_normalize(resources_all)\n",
    "resources_all_df\n",
    "resources_all_df.to_parquet('latest_genome_resources.parquet')\n",
    "```"
   ]
  },
  {
   "cell_type": "markdown",
   "id": "965dadca-7b62-416b-bee8-c4da83656dba",
   "metadata": {},
   "source": [
    "### Load the dataset file with another python library"
   ]
  },
  {
   "cell_type": "markdown",
   "id": "234a5f1f-2ccb-4210-98f7-3f7f81b7a9c3",
   "metadata": {},
   "source": [
    "Here is an example to show that the saved parquet files can be loaded with different python libraries (some being more suitable for loading and transforming large amount of data). Of course, this file can also be loaded with pandas (see section 1.3.3. of this notebook). "
   ]
  },
  {
   "cell_type": "markdown",
   "id": "fda7ead6-a1cd-4b2c-a052-6653d63807a3",
   "metadata": {},
   "source": [
    "For this example, we use pyspark. For help, see the documentation: https://spark.apache.org/docs/latest/api/python/.\n",
    "\n",
    "Pyspark require to start a `SparkSession` before use. A basic example is shown in the section below."
   ]
  },
  {
   "cell_type": "markdown",
   "id": "5d729afc-fe25-49e4-8a53-dea326ba1f44",
   "metadata": {},
   "source": [
    "#### Start Spark Session"
   ]
  },
  {
   "cell_type": "code",
   "execution_count": null,
   "id": "644030c5-42c7-4c58-ac55-93b3f6c68ddd",
   "metadata": {
    "tags": []
   },
   "outputs": [],
   "source": [
    "from pyspark.sql import SparkSession\n",
    "\n",
    "import pyspark.sql.functions as F"
   ]
  },
  {
   "cell_type": "code",
   "execution_count": null,
   "id": "52ddc568-6384-4fba-b8f3-387c81b9419c",
   "metadata": {
    "tags": []
   },
   "outputs": [],
   "source": [
    "spark = SparkSession.builder.getOrCreate()"
   ]
  },
  {
   "cell_type": "markdown",
   "id": "670fba9c-914e-4a63-9918-257babffd18c",
   "metadata": {},
   "source": [
    "#### Load the data from the parquet file"
   ]
  },
  {
   "cell_type": "code",
   "execution_count": null,
   "id": "60ff4da3-ae0d-483b-8146-1cef6d6e9744",
   "metadata": {
    "tags": []
   },
   "outputs": [],
   "source": [
    "all_genomes_df = spark.read.parquet('../example-data/genomes/all_genome_resources.parquet')"
   ]
  },
  {
   "cell_type": "markdown",
   "id": "a0b317bb-31cf-40ce-aeda-5e1a600e22f6",
   "metadata": {},
   "source": [
    "#### Get the shape of the DataFrame"
   ]
  },
  {
   "cell_type": "code",
   "execution_count": null,
   "id": "a1a8a399-97a3-4865-8a37-aed5138f4075",
   "metadata": {
    "tags": []
   },
   "outputs": [],
   "source": [
    "# To get the number of rows\n",
    "all_genomes_df.count()"
   ]
  },
  {
   "cell_type": "code",
   "execution_count": null,
   "id": "423bc13b-bea9-4ebf-a0fa-29c95dc7f9fd",
   "metadata": {
    "tags": []
   },
   "outputs": [],
   "source": [
    "# To get the number of columns\n",
    "len(all_genomes_df.columns)"
   ]
  },
  {
   "cell_type": "markdown",
   "id": "949b8ab0-70ab-4428-a65e-3ae87972430c",
   "metadata": {},
   "source": [
    "**Outputs:** The dataframe has 9421 rows and 37 columns."
   ]
  },
  {
   "cell_type": "markdown",
   "id": "cfc7a103-a154-4f5e-8c4b-e6bd7f2313ba",
   "metadata": {},
   "source": [
    "### Get stats when applicable\n",
    "PySpark can show statistics of the data in the parquet dataframe:"
   ]
  },
  {
   "cell_type": "code",
   "execution_count": null,
   "id": "2c8b40fb-100f-4375-9fa0-d3583c84754d",
   "metadata": {
    "tags": []
   },
   "outputs": [],
   "source": [
    "all_genomes_df.describe().show(truncate=False, vertical=True)"
   ]
  },
  {
   "cell_type": "markdown",
   "id": "ec812589-1162-48ed-b992-2ef60da35913",
   "metadata": {},
   "source": [
    "**Ouputs:** For example:\n",
    "- the first record gives the number of non-null values for each column.\n",
    "- gc-content on the whole dataset is 47.951392633478235 ± 10.364966184467969 % with a min value of 22.94% and a max value of 74.84% (if you are using the example dataset)\n",
    "\n",
    "**Note:** When using Spark, column names containing `' '` are translated to e.g. `column.name`"
   ]
  },
  {
   "cell_type": "code",
   "execution_count": null,
   "id": "cc12e3f1-e279-4025-bd44-f2975f3007ff",
   "metadata": {
    "tags": []
   },
   "outputs": [],
   "source": [
    "# To visualise only gc-content:\n",
    "all_genomes_df.select('`attributes.gc-content`').describe().show()"
   ]
  },
  {
   "cell_type": "markdown",
   "id": "4a9077cd-db25-410f-b60a-1397afac34d5",
   "metadata": {},
   "source": [
    "### Get the most represented genus in the dataset"
   ]
  },
  {
   "cell_type": "code",
   "execution_count": null,
   "id": "45f8f1ce-8afd-4fc2-ac92-637c064c444d",
   "metadata": {
    "tags": []
   },
   "outputs": [],
   "source": [
    "# To see a sample of taxon-lineages present in the dataset:\n",
    "all_genomes_df.select(f'`attributes.taxon-lineage`').show(truncate=False)"
   ]
  },
  {
   "cell_type": "code",
   "execution_count": null,
   "id": "6bdf9cda-16bc-4943-a61c-dd02dd8b1d1c",
   "metadata": {
    "tags": []
   },
   "outputs": [],
   "source": [
    "# The total number of genomes in the dataset:\n",
    "all_genomes_df.select('`id`').distinct().count()"
   ]
  },
  {
   "cell_type": "code",
   "execution_count": null,
   "id": "feb1e9cd-06e7-4bb5-ba87-13c0e8817f50",
   "metadata": {
    "tags": []
   },
   "outputs": [],
   "source": [
    "# The number of distinct lineages:\n",
    "all_genomes_df.select('`attributes.taxon-lineage`').distinct().count()"
   ]
  },
  {
   "cell_type": "markdown",
   "id": "05ae93e5-fc44-4e71-a409-a8c6e8dec003",
   "metadata": {},
   "source": [
    "#### Split the taxon-lineage column into 7 columns"
   ]
  },
  {
   "cell_type": "code",
   "execution_count": null,
   "id": "e1c09710-6948-4705-a1e4-b0884e416d9c",
   "metadata": {
    "tags": []
   },
   "outputs": [],
   "source": [
    "features = ['domain', 'phylum', 'class', 'order', 'family', 'genus', 'species']"
   ]
  },
  {
   "cell_type": "code",
   "execution_count": null,
   "id": "7e4b841f-1d80-469f-8600-4995fbadad55",
   "metadata": {
    "tags": []
   },
   "outputs": [],
   "source": [
    "all_genomes_tax_df = reduce(lambda df, i: df.withColumn(features[i], F.col('lineage_split')[i]),\n",
    "    range(len(features)),\n",
    "    all_genomes_df.withColumn('lineage_split', F.split(F.col('`attributes.taxon-lineage`'), ';')),\n",
    ")"
   ]
  },
  {
   "cell_type": "code",
   "execution_count": null,
   "id": "a65f77c9-fda9-4111-ae42-1abc22c30bfb",
   "metadata": {
    "tags": []
   },
   "outputs": [],
   "source": [
    "all_genomes_tax_df.select(features).show(n=5)"
   ]
  },
  {
   "cell_type": "markdown",
   "id": "e24ab5c4-7bc3-46c1-a8fc-58e357788adf",
   "metadata": {},
   "source": [
    "#### Query examples on taxon-lineage column"
   ]
  },
  {
   "cell_type": "markdown",
   "id": "b455a8c9-be29-4d5d-b8dc-2bfa8b6d3c52",
   "metadata": {},
   "source": [
    "##### To search the most represented taxon:"
   ]
  },
  {
   "cell_type": "code",
   "execution_count": null,
   "id": "768060a1-a1d2-4727-a1c8-f5fac7012901",
   "metadata": {
    "tags": []
   },
   "outputs": [],
   "source": [
    "all_genomes_tax_df.groupby('`attributes.taxon-lineage`').count().filter(F.col('count')>100).show(truncate=False)"
   ]
  },
  {
   "cell_type": "markdown",
   "id": "a45d7215-650e-48ce-b777-4e439f89902b",
   "metadata": {},
   "source": [
    "**Output:**  *Collinsella* genus with no species annotated is the most represented taxon in the dataset (if you are using the example dataset)"
   ]
  },
  {
   "cell_type": "markdown",
   "id": "5a083adf-34fa-4e6d-a110-694134bfb8b8",
   "metadata": {},
   "source": [
    "##### To search for a particular lineage and count how many times it appears:"
   ]
  },
  {
   "cell_type": "code",
   "execution_count": null,
   "id": "20f82e09-fc23-4861-bb21-265858ef7de1",
   "metadata": {
    "tags": []
   },
   "outputs": [],
   "source": [
    "all_genomes_tax_df.filter(F.col('`attributes.taxon-lineage`').startswith('d__Bacteria;p__Actinobacteriota;c__Coriobacteriia;o__Coriobacteriales;f__Coriobacteriaceae;g__Collinsella')).count()"
   ]
  },
  {
   "cell_type": "markdown",
   "id": "ccc58fc2-0d3f-4b9b-a02b-7f6b4047203f",
   "metadata": {},
   "source": [
    "##### To search for a particular genus and count how many times it appears:"
   ]
  },
  {
   "cell_type": "code",
   "execution_count": null,
   "id": "040613b3-d1b2-491d-9aef-3430f88dc0ee",
   "metadata": {
    "tags": []
   },
   "outputs": [],
   "source": [
    "all_genomes_tax_df.filter(F.col('`attributes.taxon-lineage`').contains('Collinsella')).count()"
   ]
  },
  {
   "cell_type": "markdown",
   "id": "43c4ea7e-18ae-40c9-a190-8e40ff2974f0",
   "metadata": {},
   "source": [
    "#### Query examples on newly created columns:"
   ]
  },
  {
   "cell_type": "markdown",
   "id": "af8e1afb-f8ee-4eb2-8e88-f070008a41ab",
   "metadata": {},
   "source": [
    "To search for the most or least represented genus, species, ... in this dataset for example. The search is more flexible than for the full taxon."
   ]
  },
  {
   "cell_type": "code",
   "execution_count": null,
   "id": "7eeb4646-ccc8-416b-ace9-9b2b2dee1a22",
   "metadata": {
    "tags": []
   },
   "outputs": [],
   "source": [
    "all_genomes_tax_df.groupby('genus').count().filter(F.col('count')>100).show()"
   ]
  },
  {
   "cell_type": "markdown",
   "id": "666c45bf-83a0-49ad-b098-1408a18e5dd1",
   "metadata": {},
   "source": [
    "**Output:** As previously, the genus *Collinsella* is the most represented with 584 entries (if you are using the example dataset)  \n",
    "By splitting the taxon into several columns, we can see that the genus *Prevotella*, RC9 are among the most represented in this dataset. Also, 325 of the taxons in the database don't have a genus.\n",
    "The reason why those taxons didn't appear in the query on the `taxon-lineage` column is that the number of different species indexed for each genus compared to the number of hints calculated are proportionaly higher than for *Collinsella* genus."
   ]
  },
  {
   "cell_type": "code",
   "execution_count": null,
   "id": "68f0c0b4-7a63-4e1f-8ed0-4d4c564fe351",
   "metadata": {
    "tags": []
   },
   "outputs": [],
   "source": [
    "all_genomes_tax_df.filter(F.col('genus').isin('g__Prevotella', 'g__RC9', 'g__Collinsella')).groupby('genus').agg(F.countDistinct('species')).show()"
   ]
  },
  {
   "cell_type": "code",
   "execution_count": null,
   "id": "d66ba971-bc47-4840-aed4-4ab62245ed6d",
   "metadata": {
    "tags": []
   },
   "outputs": [],
   "source": [
    "# To see some of the Collinsella species in the dataset:\n",
    "all_genomes_tax_df.filter(F.col('genus')=='g__Collinsella').select('species').distinct().show(truncate=False)"
   ]
  },
  {
   "cell_type": "markdown",
   "id": "3e4c9488-8d3f-45a8-a3ba-fe5480a7ad11",
   "metadata": {},
   "source": [
    "## Graphical representation"
   ]
  },
  {
   "cell_type": "markdown",
   "id": "9668b44e-98ec-409b-a733-1eb0ea6018f0",
   "metadata": {},
   "source": [
    "This section contains examples of graphical representations that could be obtained from this dataset."
   ]
  },
  {
   "cell_type": "code",
   "execution_count": null,
   "id": "dfb01512-ad4c-4563-b02b-17be2018fe49",
   "metadata": {
    "tags": []
   },
   "outputs": [],
   "source": [
    "all_genomes_tax_df.count()"
   ]
  },
  {
   "cell_type": "markdown",
   "id": "a4dd561e-8ad4-44d6-9aae-c4226e1378e6",
   "metadata": {},
   "source": [
    "#### Representation of the bacterial taxon-lineage"
   ]
  },
  {
   "cell_type": "markdown",
   "id": "f6234f70-fd2b-49b1-a631-0feae0194342",
   "metadata": {},
   "source": [
    "This graphic gives an idea of the proportional representation of each taxon in the dataset."
   ]
  },
  {
   "cell_type": "markdown",
   "id": "f28b0b6e-903b-4d2d-8a31-f756383ad08f",
   "metadata": {},
   "source": [
    "List of the features used for the graphical representation: *(see section 1.4.4.1 where the feature variable is defined)*"
   ]
  },
  {
   "cell_type": "code",
   "execution_count": null,
   "id": "f37da256-d9c7-4093-a1bd-9a2485f4b69d",
   "metadata": {
    "tags": []
   },
   "outputs": [],
   "source": [
    "features "
   ]
  },
  {
   "cell_type": "code",
   "execution_count": null,
   "id": "c49ec428-80e0-4538-b664-568c444f2d0b",
   "metadata": {
    "tags": []
   },
   "outputs": [],
   "source": [
    "all_genomes_tax_df.select([F.count_distinct(x).alias(f'{features[i]}_count') for i, x in enumerate([*features])]).show()"
   ]
  },
  {
   "cell_type": "markdown",
   "id": "768ffd7c-5342-463c-b42d-5b41375e8b66",
   "metadata": {},
   "source": [
    "**Output:** Count of the distinct values for each categories."
   ]
  },
  {
   "cell_type": "markdown",
   "id": "e9e1aba4-cf38-4a9b-86ab-e8f248d4c46c",
   "metadata": {},
   "source": [
    "**Create a Sankey diagram to visually portary this**\n",
    "*Note: Colours and node size can be changed in the code below.*"
   ]
  },
  {
   "cell_type": "code",
   "execution_count": null,
   "id": "b42163b3-83a3-4e6c-9cdd-540f80f0bcaa",
   "metadata": {
    "tags": []
   },
   "outputs": [],
   "source": [
    "def get_sankey(df, cat_cols=[], value_cols='', title='Sankey Diagram'):\n",
    "    # Colors\n",
    "    colorPalette = ['rgba(31, 119, 180, 0.8)',\n",
    "     'rgba(255, 127, 14, 0.8)',\n",
    "     'rgba(44, 160, 44, 0.8)',\n",
    "     'rgba(214, 39, 40, 0.8)',\n",
    "     'rgba(148, 103, 189, 0.8)',\n",
    "     'rgba(140, 86, 75, 0.8)',\n",
    "     'rgba(227, 119, 194, 0.8)',\n",
    "     'rgba(127, 127, 127, 0.8)']\n",
    "    labelList = []\n",
    "    colorNumList = []\n",
    "    for catCol in cat_cols:\n",
    "        labelListTemp =  list(set(df[catCol].values))\n",
    "        colorNumList.append(len(labelListTemp))\n",
    "        labelList = labelList + labelListTemp\n",
    " \n",
    "    # remove duplicates from labelList\n",
    "    labelList = list(dict.fromkeys(labelList))\n",
    " \n",
    "    # define colors based on number of levels\n",
    "    colorList = []\n",
    "    for idx, colorNum in enumerate(colorNumList):\n",
    "        colorList = colorList + [colorPalette[idx]]*colorNum\n",
    "\n",
    "    # transform df into a source-target pair\n",
    "    for i in range(len(cat_cols)-1):\n",
    "        if i==0:\n",
    "            sourceTargetDf = df[[cat_cols[i],cat_cols[i+1],value_cols]]\n",
    "            sourceTargetDf.columns = ['source','target','count']\n",
    "        else:\n",
    "            tempDf = df[[cat_cols[i],cat_cols[i+1],value_cols]]\n",
    "            tempDf.columns = ['source','target','count']\n",
    "            sourceTargetDf = pd.concat([sourceTargetDf,tempDf])\n",
    "        sourceTargetDf = sourceTargetDf.groupby(['source','target']).agg({'count':'sum'}).reset_index()\n",
    " \n",
    "    # add index for source-target pair\n",
    "    sourceTargetDf['sourceID'] = sourceTargetDf['source'].apply(lambda x: labelList.index(x))\n",
    "    sourceTargetDf['targetID'] = sourceTargetDf['target'].apply(lambda x: labelList.index(x))\n",
    " \n",
    "    # creating data for the sankey diagram\n",
    "    data = dict(\n",
    "        type='sankey',\n",
    "        node = dict(\n",
    "            pad = 15,\n",
    "            thickness = 20,\n",
    "            line = dict(\n",
    "                color = \"black\",\n",
    "                width = 0.5\n",
    "            ),\n",
    "            label = labelList,\n",
    "            color = colorList\n",
    "        ),\n",
    "        link = dict(\n",
    "            source = sourceTargetDf['sourceID'],\n",
    "            target = sourceTargetDf['targetID'],\n",
    "            value = sourceTargetDf['count']\n",
    "        )\n",
    "    )\n",
    "    \n",
    "    # override gray link colors with 'source' colors\n",
    "    opacity = 0.4\n",
    "    # change 'magenta' to its 'rgba' value to add opacity\n",
    "    data['node']['color'] = ['rgba(255,0,255, 0.8)' if color == \"magenta\" else color for color in data['node']['color']]\n",
    "    data['link']['color'] = [data['node']['color'][src].replace(\"0.8\", str(opacity))\n",
    "                                        for src in data['link']['source']]\n",
    "    \n",
    "    \n",
    "    fig = go.Figure(data=[go.Sankey(\n",
    "    # Define nodes\n",
    "    node = dict(\n",
    "      pad = 15,\n",
    "      thickness = 15,\n",
    "      line = dict(color = \"black\", width = 0.5),\n",
    "      label =  data['node']['label'],\n",
    "      color =  data['node']['color']\n",
    "    ),\n",
    "    # Add links\n",
    "    link = dict(\n",
    "      source =  data['link']['source'],\n",
    "      target =  data['link']['target'],\n",
    "      value =  data['link']['value'],\n",
    "      color =  data['link']['color']\n",
    "    ))])\n",
    "    \n",
    "    fig.update_layout(title_text=title, font_size=10)\n",
    "    \n",
    "    return fig.show(renderer='iframe')"
   ]
  },
  {
   "cell_type": "markdown",
   "id": "49451ac7-7fd6-4a63-a859-13509967ec29",
   "metadata": {},
   "source": [
    "Taxon-lineage represented in Genomes dataset"
   ]
  },
  {
   "cell_type": "code",
   "execution_count": null,
   "id": "4aa7a0bf-f182-432a-9e43-17667a3cff7d",
   "metadata": {
    "tags": []
   },
   "outputs": [],
   "source": [
    "# Convert Spark DataFrame to Pandas DataFrame:\n",
    "pdf = all_genomes_tax_df.select(features).groupby(features).count().toPandas()"
   ]
  },
  {
   "cell_type": "code",
   "execution_count": null,
   "id": "64aec10b-0ad0-49eb-91ab-da002aec2d5f",
   "metadata": {
    "tags": []
   },
   "outputs": [],
   "source": [
    "# Title and number of displayed features can be modified  \n",
    "get_sankey(pdf, cat_cols=features[0:4], value_cols='count', title='Taxon-lineage represented in Genomes dataset')"
   ]
  },
  {
   "cell_type": "markdown",
   "id": "c06326ba-091b-4244-80ea-f4cc0edc115b",
   "metadata": {},
   "source": [
    "#### Representation of a sample of the genomes present in the dataset: example from the order of the Lactobacillales."
   ]
  },
  {
   "cell_type": "code",
   "execution_count": null,
   "id": "f3e00eea-1076-4955-8076-6135e6fe51ab",
   "metadata": {},
   "outputs": [],
   "source": [
    "pdf_lactobacillales = all_genomes_tax_df.filter(F.col('order')=='o__Lactobacillales').select(features).groupby(features).count().toPandas()"
   ]
  },
  {
   "cell_type": "code",
   "execution_count": null,
   "id": "714bd0a1-265d-4d00-bd92-cdf8d110a166",
   "metadata": {},
   "outputs": [],
   "source": [
    "fig_l = get_sankey(pdf_lactobacillales,cat_cols=features[0:6], value_cols='count',title='Genomes from the Lactobacillales order')"
   ]
  },
  {
   "cell_type": "code",
   "execution_count": null,
   "id": "5d90316c-19d4-44e5-aecf-34ff212c2398",
   "metadata": {},
   "outputs": [],
   "source": [
    "# Note that there are too many distinct species in the Lactobacillales order to show individually:\n",
    "all_genomes_tax_df.filter(F.col('order')=='o__Lactobacillales').select('species').distinct().count()"
   ]
  },
  {
   "cell_type": "markdown",
   "id": "e1f42e27-5db8-4d94-8779-2c796cd5838d",
   "metadata": {},
   "source": [
    "### Information such as genome length or GC-content can also be represented"
   ]
  },
  {
   "cell_type": "markdown",
   "id": "b193dc08-a673-4183-b0b1-d6bf260556ec",
   "metadata": {},
   "source": [
    "We can group and visualise these at different levels like family, genus, species... depending on the number of sequences available and on the biological significance."
   ]
  },
  {
   "cell_type": "code",
   "execution_count": null,
   "id": "ec928cc0-3fd4-4d5e-a11b-aaa0a5e524f6",
   "metadata": {},
   "outputs": [],
   "source": [
    "lactobacillales_df = all_genomes_tax_df.filter(F.col('order')=='o__Lactobacillales').orderBy('family').toPandas()\n",
    "lactobacillales_count = all_genomes_tax_df.filter(F.col('order')=='o__Lactobacillales').groupby('family').count().orderBy('family').toPandas()"
   ]
  },
  {
   "cell_type": "code",
   "execution_count": null,
   "id": "540fb8d3-bbed-4498-89ef-2361eaf667a4",
   "metadata": {},
   "outputs": [],
   "source": [
    "lactobacillales_count"
   ]
  },
  {
   "cell_type": "code",
   "execution_count": null,
   "id": "75dc459c-9a5a-4687-8b26-8d33049ade9d",
   "metadata": {},
   "outputs": [],
   "source": [
    "fig = plt.figure(figsize=(10, 10), layout=\"constrained\")\n",
    "spec = fig.add_gridspec(3, 1)\n",
    "\n",
    "ax00 = fig.add_subplot(spec[0, 0])\n",
    "sns.barplot(data=lactobacillales_count, x='family', y='count')\n",
    "plt.ylabel(\"Number of genome available\")\n",
    "\n",
    "ax10 = fig.add_subplot(spec[1, 0])\n",
    "sns.boxplot(data=lactobacillales_df, x='family', y='attributes.length')\n",
    "plt.ylabel(\"Genome length (bp)\")\n",
    "#plt.xlabel(\"Family of the Lactobacillales order\")\n",
    "\n",
    "ax20 = fig.add_subplot(spec[2, 0])\n",
    "sns.boxplot(data=lactobacillales_df, x='family', y='attributes.gc-content')\n",
    "plt.ylabel(\"GC-content (%)\")\n",
    "plt.xlabel(\"Family of the Lactobacillales order\")\n",
    "\n",
    "\n",
    "fig.suptitle('Number of genomes avalaible, genome length and GC-content of bacteria belonging the Lactobacillales order');"
   ]
  },
  {
   "cell_type": "code",
   "execution_count": null,
   "id": "ad370aaa-1c3a-4fe4-bc06-887b9f5b8553",
   "metadata": {},
   "outputs": [],
   "source": [
    "fig = plt.figure(figsize=(20, 5))\n",
    "spec = fig.add_gridspec(1, 2)\n",
    "\n",
    "#ax00 = fig.add_subplot(spec[0, 0])\n",
    "#lactobacillales_df['relationships.biome.data.id'].hist()\n",
    "#plt.xlabel(\"Biome\")\n",
    "\n",
    "ax01 = fig.add_subplot(spec[0:])\n",
    "lactobacillales_df['relationships.catalogue.data.id'].hist()\n",
    "plt.xlabel(\"Catalogue\")\n",
    "ax01.grid(False)\n",
    "\n",
    "fig.suptitle('Biome and Catalogue related to bacteria belonging the Lactobacillales order');"
   ]
  },
  {
   "cell_type": "markdown",
   "id": "843cda21-09e2-4c15-a337-255a92f8c7bc",
   "metadata": {},
   "source": [
    "### Another example: produce a quality control figure similar to Extended Data Fig. 4a of [Almeida et al 2020](https://www.nature.com/articles/s41587-020-0603-3/figures/10)"
   ]
  },
  {
   "cell_type": "code",
   "execution_count": null,
   "id": "9203b5ba-03d4-481b-b76b-728fa6248b37",
   "metadata": {},
   "outputs": [],
   "source": [
    "qc_df = all_genomes_tax_df.toPandas()"
   ]
  },
  {
   "cell_type": "markdown",
   "id": "6a97927a-ff3c-4f16-aca0-49aea900c4c5",
   "metadata": {},
   "source": [
    "Statistical informations can be obtained with the `describe` function... (see section 1.4.3)"
   ]
  },
  {
   "cell_type": "code",
   "execution_count": null,
   "id": "92fc6672-b5a4-48c2-bf5e-a75e1bd2c2a8",
   "metadata": {},
   "outputs": [],
   "source": [
    "qc_df[['attributes.completeness', 'attributes.contamination']].describe()"
   ]
  },
  {
   "cell_type": "markdown",
   "id": "77322f03-9754-49c2-a7ce-751164ba6f1b",
   "metadata": {},
   "source": [
    "... and visualised in plots:"
   ]
  },
  {
   "cell_type": "code",
   "execution_count": null,
   "id": "9ef819db-b415-4c7a-9f6a-a3613a830d3f",
   "metadata": {},
   "outputs": [],
   "source": [
    "fig = plt.figure(figsize=(5, 10), layout=\"constrained\")\n",
    "spec = fig.add_gridspec(1, 1)\n",
    "\n",
    "ax00 = fig.add_subplot(spec[0, 0])\n",
    "sns.boxplot(data=qc_df[['attributes.completeness', 'attributes.contamination']])\n",
    "plt.ylabel(\"%\")\n",
    "\n",
    "\n",
    "fig.suptitle('Quality of genomes avalaible');"
   ]
  },
  {
   "cell_type": "markdown",
   "id": "5d3cf976-2228-4c33-8164-13977bcb8ff3",
   "metadata": {},
   "source": [
    "## Find out whether your own MAGs are novel compared to the MGnify catalogues"
   ]
  },
  {
   "cell_type": "markdown",
   "id": "9d466cc7-ce61-470d-8301-cd5490a9ed9a",
   "metadata": {},
   "source": [
    "Another use for the MGnify genomes resource is to query your own MAG against MGnify's MAG catalogues, to see whether they are novel or already represented."
   ]
  },
  {
   "cell_type": "markdown",
   "id": "fd0c06a1-e0be-4619-be24-3c7d3a464fea",
   "metadata": {},
   "source": [
    "### List directories of the files to be analysed:"
   ]
  },
  {
   "cell_type": "markdown",
   "id": "67721763-ff5e-448e-b0ec-b64a615a8919",
   "metadata": {},
   "source": [
    "Replace the str with your own path to folder containing your files. `*` allows to query all the file with the `.fa` extension."
   ]
  },
  {
   "cell_type": "code",
   "execution_count": null,
   "id": "2196b200-d6a3-4517-8dd5-82ef7e92e39f",
   "metadata": {},
   "outputs": [],
   "source": [
    "files = glob.glob('../example-data/genomes/*.fa')"
   ]
  },
  {
   "cell_type": "code",
   "execution_count": null,
   "id": "5a09b406-9bb1-43b6-9c48-ae211247ccd4",
   "metadata": {},
   "outputs": [],
   "source": [
    "files"
   ]
  },
  {
   "cell_type": "markdown",
   "id": "a68bdb34-f89e-4441-942f-dfa07ad7be72",
   "metadata": {
    "tags": []
   },
   "source": [
    "### Compute a sourmash sketch for each MAG"
   ]
  },
  {
   "cell_type": "markdown",
   "id": "5913c12a-1de8-461a-b0a2-b83b714dc24c",
   "metadata": {},
   "source": [
    "Create \"sketches\" for each MAG using [Sourmash](https://sourmash.readthedocs.io/en/latest/index.html#sourmash-in-brief)"
   ]
  },
  {
   "cell_type": "markdown",
   "id": "8b186d78-0fdc-48aa-8bc8-f3788eea34cd",
   "metadata": {},
   "source": [
    "A sketch goes into a signature, that we will use for searching. The signature is a sort of collection of hashes that are well suited for calculating the containment of your MAGs within the catalogue's MAGs."
   ]
  },
  {
   "cell_type": "code",
   "execution_count": null,
   "id": "d8486a4f-d642-4428-bc15-3032ddfe911d",
   "metadata": {
    "tags": []
   },
   "outputs": [],
   "source": [
    "for mag in files:\n",
    "    # The sourmash parameters are chosen to match those used within MGnify\n",
    "    sketch = sourmash.MinHash(n=0, ksize=31, scaled=1000)\n",
    "    \n",
    "    # A fasta file may have multiple records in it. Add them all to the sourmash signature.\n",
    "    for index, record in enumerate(SeqIO.parse(mag, 'fasta')):\n",
    "        sketch.add_sequence(str(record.seq))\n",
    "        \n",
    "    # Save the sourmash sketch as a \"signature\" file\n",
    "    signature = sourmash.SourmashSignature(sketch, name=record.name)\n",
    "    with open(pp(pp(mag).name).stem + '.sig', 'wt') as fp:\n",
    "        sourmash.save_signatures([signature], fp)"
   ]
  },
  {
   "cell_type": "markdown",
   "id": "e9c05e63-cad2-4352-85c5-36b3166c3c8a",
   "metadata": {},
   "source": [
    "### Fetch all of the catalogue IDs currently available on MGnify"
   ]
  },
  {
   "cell_type": "markdown",
   "id": "91362715-211b-4a0b-86d6-37d4b8c15aaf",
   "metadata": {},
   "source": [
    "To fetch the `catalogue IDs` to the MGnify API, use the following endpoint: `https://www.ebi.ac.uk/metagenomics/api/v1/genome-catalogues`.  "
   ]
  },
  {
   "cell_type": "code",
   "execution_count": null,
   "id": "ebf89280-c01c-41e1-9daf-018d95a25194",
   "metadata": {},
   "outputs": [],
   "source": [
    "catalogue_endpoint = \"genome-catalogues\""
   ]
  },
  {
   "cell_type": "code",
   "execution_count": null,
   "id": "38ead2f1-fc2c-43c3-9f11-b9e406cb0132",
   "metadata": {},
   "outputs": [],
   "source": [
    "with APISession(\"https://www.ebi.ac.uk/metagenomics/api/v1\") as mgnify:\n",
    "    catalogues = map(lambda r: r.json, mgnify.iterate(catalogue_endpoint))\n",
    "    catalogues = pd.json_normalize(catalogues)"
   ]
  },
  {
   "cell_type": "code",
   "execution_count": null,
   "id": "e2910a99-29c5-475d-95b7-6ab4850f9e5f",
   "metadata": {},
   "outputs": [],
   "source": [
    "catalogue_ids = list(catalogues['id'])\n",
    "catalogue_ids"
   ]
  },
  {
   "cell_type": "markdown",
   "id": "5646fa34-f602-476c-96b6-4fbcf4774145",
   "metadata": {},
   "source": [
    "### Submit a search job to the MGnify API"
   ]
  },
  {
   "cell_type": "markdown",
   "id": "253bc73e-79b3-4361-86d9-bc0668ff6b8a",
   "metadata": {},
   "source": [
    "To`submit a job` to the MGnify API, use the following endpoint: `https://www.ebi.ac.uk/metagenomics/api/v1/genomes-search/gather`.  \n",
    "Data will be send to the API, which is called \"POST\"ing data in the API world.  \n",
    "This part of the API is quite specialized and so is not a formal JSON:API, the `requests` Python packageìs therefore used to communicate with it."
   ]
  },
  {
   "cell_type": "code",
   "execution_count": null,
   "id": "617dd142-5d9d-4139-aff0-60f7a4eadadf",
   "metadata": {},
   "outputs": [],
   "source": [
    "endpoint = 'https://www.ebi.ac.uk/metagenomics/api/v1/genomes-search/gather'"
   ]
  },
  {
   "cell_type": "code",
   "execution_count": null,
   "id": "a4b39e1a-4c1f-4686-b03b-5e47782f3ba9",
   "metadata": {},
   "outputs": [],
   "source": [
    "# Create a list of file uploads, and attach them to the API request\n",
    "signatures = [open(sig, 'rb') for sig in glob.glob('*.sig')]\n",
    "sketch_uploads = [('file_uploaded', signature) for signature in signatures]\n",
    "\n",
    "# Send the API request - it specifies which catalogue to search against and attaches all of the signature files.\n",
    "submitted_job = requests.post(endpoint, data={'mag_catalogues': catalogue_ids}, files=sketch_uploads).json()\n",
    "\n",
    "\n",
    "map(lambda fp: fp.close(), signatures)  # tidy up open file pointers\n",
    "\n",
    "print(submitted_job)"
   ]
  },
  {
   "cell_type": "markdown",
   "id": "dc03f7b3-c4cf-4812-a34c-238834beb68c",
   "metadata": {},
   "source": [
    "### Wait for the results to be ready"
   ]
  },
  {
   "cell_type": "markdown",
   "id": "b1436808-50dc-4017-9692-22e8c5c500a6",
   "metadata": {},
   "source": [
    "As you can see in the `printed submitted_job` above, a status_URL was returned in the response from submitting the job via the API. Since the job is in a queue, this status_URL must be polled to wait for our job to be completed.  \n",
    "Below is an example to check every 2 seconds until ALL of the jobs are finished. The time can be easily change (to 10s in the example below) by setting a different sleeping value:\n",
    "```python\n",
    "time.sleep(10)\n",
    "```"
   ]
  },
  {
   "cell_type": "code",
   "execution_count": null,
   "id": "7eaf5d5d-9759-4f51-b800-032ec1f08510",
   "metadata": {},
   "outputs": [],
   "source": [
    "job_done = False\n",
    "while not job_done:\n",
    "    print('Checking status...')\n",
    "    # The status_URL is another API endpoint that's unique for the submitted search job\n",
    "    query_result = None\n",
    "    \n",
    "    while not query_result:\n",
    "        query_result = requests.get(submitted_job['data']['status_URL'])\n",
    "        print('Still waiting for jobs to complete. Current status of jobs')\n",
    "        print('Will check again in 2 seconds')\n",
    "        time.sleep(2) \n",
    "        \n",
    "    queries_status = {sig['job_id']: sig['status'] for sig in query_result.json()['data']['signatures']}\n",
    "    job_done = all(map(lambda q: q == 'SUCCESS', queries_status.values()))\n",
    "    \n",
    "print('Job done!')"
   ]
  },
  {
   "cell_type": "markdown",
   "id": "132e331d-7066-4c53-ab4f-9606643dac30",
   "metadata": {},
   "source": [
    "The `query_result` contains the results of the query.   \n",
    "The results can be visualised as json (try entering `query_results.json()`), or as a Pandas dataframe:"
   ]
  },
  {
   "cell_type": "code",
   "execution_count": null,
   "id": "0b089749-c0ac-47cb-b0cb-e5a539caf22f",
   "metadata": {},
   "outputs": [],
   "source": [
    "query_result_df = pd.json_normalize(query_result.json()['data']['signatures'])"
   ]
  },
  {
   "cell_type": "code",
   "execution_count": null,
   "id": "5943feee-19ec-4acd-a7a5-69cae0d48bfc",
   "metadata": {},
   "outputs": [],
   "source": [
    "query_result_df"
   ]
  },
  {
   "cell_type": "markdown",
   "id": "f398676c-4fd3-4691-b8f5-fb0a5252c700",
   "metadata": {},
   "source": [
    "**Output:** Each signature is queried against each catalogue entry.  \n",
    "Results can then be analysed according to your research goal, for example looking for representation in Host-Associated biome catalogues vs. Environmental ones."
   ]
  },
  {
   "cell_type": "markdown",
   "id": "a2f2ee71-1fec-433b-835b-2e971e8d24bb",
   "metadata": {},
   "source": [
    "#### Are any of our MAGs found in biomes other than the human gut?"
   ]
  },
  {
   "cell_type": "code",
   "execution_count": null,
   "id": "304ba7a6-44e9-4d90-adad-3f68784b1c2e",
   "metadata": {},
   "outputs": [],
   "source": [
    "matches = query_result_df.dropna(subset=['result.match'])"
   ]
  },
  {
   "cell_type": "code",
   "execution_count": null,
   "id": "68fab036-adfe-467e-9b66-7744db35cee4",
   "metadata": {},
   "outputs": [],
   "source": [
    "matches"
   ]
  },
  {
   "cell_type": "markdown",
   "id": "cd462b28-abef-4b37-97dc-581330c165b5",
   "metadata": {},
   "source": [
    "**Output:** DataFrame containing only the results with a positive match in the catalogue."
   ]
  },
  {
   "cell_type": "code",
   "execution_count": null,
   "id": "f1aeac25-4884-46b4-80c7-aea99a2d882c",
   "metadata": {},
   "outputs": [],
   "source": [
    "fig = plt.figure(figsize=(3, 3))\n",
    "spec = fig.add_gridspec(1, 2)\n",
    "\n",
    "ax01 = fig.add_subplot(spec[0:])\n",
    "matches.catalogue.hist()\n",
    "plt.xlabel(\"Catalogue\")\n",
    "ax01.grid(False)\n",
    "\n",
    "\n",
    "\n",
    "fig.suptitle('Biomes matched by the MAGs');"
   ]
  },
  {
   "cell_type": "markdown",
   "id": "50392ce5-57f1-4223-8386-66ce1ccee5c0",
   "metadata": {},
   "source": [
    "**Output:** Display which biomes that were matched during the search by the MAGs. The five signatures match various numbers of genomes in the human gut, cow rumen, and pig gut catalogues."
   ]
  },
  {
   "cell_type": "markdown",
   "id": "1c566d3a-44de-4953-89ed-a6b8117c5c40",
   "metadata": {},
   "source": [
    "#### What is the taxonomy of the MGnify MAGs which match the query?"
   ]
  },
  {
   "cell_type": "markdown",
   "id": "6296b1f2-e6ae-4865-9489-aff7e33400b7",
   "metadata": {},
   "source": [
    "Call the API for each Genome, to find it's taxonomic lineage."
   ]
  },
  {
   "cell_type": "code",
   "execution_count": null,
   "id": "6b64a710-2d74-478e-b9a5-768810d5eaa5",
   "metadata": {
    "tags": []
   },
   "outputs": [],
   "source": [
    "def get_taxonomy_of_mgnify_mag(match_row):\n",
    "    mgyg_accession = match_row['result.match']\n",
    "    with APISession(\"https://www.ebi.ac.uk/metagenomics/api/v1\") as mgnify:\n",
    "        genome_document = mgnify.get('genomes', mgyg_accession)\n",
    "        return genome_document.resource.taxon_lineage"
   ]
  },
  {
   "cell_type": "markdown",
   "id": "addd4448-e1cc-4408-8894-f55ae3ac13b3",
   "metadata": {},
   "source": [
    "Create a new column in the matches the table."
   ]
  },
  {
   "cell_type": "code",
   "execution_count": null,
   "id": "565a914b-eaaa-4599-b144-9232061c9a54",
   "metadata": {},
   "outputs": [],
   "source": [
    "matches['best_match_taxonomy'] = matches.apply(get_taxonomy_of_mgnify_mag, axis=1)"
   ]
  },
  {
   "cell_type": "code",
   "execution_count": null,
   "id": "cb189fb5-40dd-4f23-9026-78c33d5aeb43",
   "metadata": {},
   "outputs": [],
   "source": [
    "matches"
   ]
  },
  {
   "cell_type": "markdown",
   "id": "af8b8cb0-ac66-4e16-94ca-79b4c531d707",
   "metadata": {},
   "source": [
    "**Output:** The `matches` DataFrame has a new column that contains the corresponding `taxon-lineage` information."
   ]
  },
  {
   "cell_type": "markdown",
   "id": "9d79d249-5c51-4096-b6bc-764be1470a6e",
   "metadata": {},
   "source": [
    "Summarise results with more verbose:"
   ]
  },
  {
   "cell_type": "code",
   "execution_count": null,
   "id": "419317e2-a1ea-4a3b-bc84-bf78faf46062",
   "metadata": {},
   "outputs": [],
   "source": [
    "for row, match in matches.iterrows():\n",
    "    print(f\"The MAG ({match['filename']}) matches {match['result.match']} which has taxonomy {match['best_match_taxonomy']}\")"
   ]
  },
  {
   "cell_type": "markdown",
   "id": "604c88cc-6501-4b0a-b3aa-5ddf0ee7be27",
   "metadata": {},
   "source": [
    "#### Which of our MAGs are completely novel (i.e. in no MGnify catalogue)"
   ]
  },
  {
   "cell_type": "markdown",
   "id": "b66d5ade-acd9-4f56-9c98-fadb6077b54f",
   "metadata": {},
   "source": [
    "One way to check this is to group all of the search results by filename (i.e. finding the queries for each MAG vs all catalogues) and checking whether the sum of all matches is 0..."
   ]
  },
  {
   "cell_type": "code",
   "execution_count": null,
   "id": "c11927db-543d-49bc-a3d0-1d162203e4e0",
   "metadata": {},
   "outputs": [],
   "source": [
    "query_result_df.groupby('filename').apply(lambda query: query['result.matches'].sum() == 0)"
   ]
  },
  {
   "cell_type": "markdown",
   "id": "e7ce6f2b-31eb-4a7f-bf44-4304e97229c1",
   "metadata": {},
   "source": [
    "If you're using the example dataset for this example, none of the MAGs are completely novel."
   ]
  },
  {
   "cell_type": "code",
   "execution_count": null,
   "id": "ba29d376-0d2c-4b39-99fe-4665afb3043a",
   "metadata": {},
   "outputs": [],
   "source": []
  }
 ],
 "metadata": {
  "kernelspec": {
   "display_name": "Python 3 (ipykernel)",
   "language": "python",
   "name": "python3"
  },
  "language_info": {
   "codemirror_mode": {
    "name": "ipython",
    "version": 3
   },
   "file_extension": ".py",
   "mimetype": "text/x-python",
   "name": "python",
   "nbconvert_exporter": "python",
   "pygments_lexer": "ipython3",
   "version": "3.11.0"
  },
  "toc-autonumbering": true,
  "vscode": {
   "interpreter": {
    "hash": "31f2aee4e71d21fbe5cf8b01ff0e069b9275f58929596ceb00d14d90e3e16cd6"
   }
  }
 },
 "nbformat": 4,
 "nbformat_minor": 5
}
