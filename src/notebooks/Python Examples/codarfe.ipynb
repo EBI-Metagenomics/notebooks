{
 "cells": [
  {
   "cell_type": "raw",
   "id": "b989dfc0-ed07-4741-8bfd-18363bb1a930",
   "metadata": {
    "jupyter": {
     "source_hidden": true
    },
    "tags": []
   },
   "source": [
    "---\n",
    "title: \"::NBTITLE::\"\n",
    "author: \"::NBAUTHOR::\"\n",
    "categories: [Python]\n",
    "execute: \n",
    "  enabled: true\n",
    "---"
   ]
  },
  {
   "cell_type": "markdown",
   "id": "ce2d1dc9-1a56-4103-8353-5a5b3fdb24bc",
   "metadata": {
    "tags": []
   },
   "source": [
    "<div style=\"max-width:1200px\"><img src=\"../_resources/mgnify_banner.png\" width=\"100%\"></div>"
   ]
  },
  {
   "cell_type": "markdown",
   "id": "5e7134e1-079b-421a-b634-261ce028e631",
   "metadata": {},
   "source": [
    "<img src=\"../_resources/mgnify_logo.png\" width=\"200px\">\n",
    "\n",
    "# **CODARFE**, a powerful tool designed for *sparse compositional microbiome-predictors selection and prediction of continuous environmental factors*.\n",
    "\n",
    "Please ensure that you cite our related article when using this tool in your research or publications (described in the end of this notebook). Proper citation helps support ongoing development and maintenance.\n",
    "\n",
    "For any questions or further information, please refer to the documentation or contact murilobarbosa@alunos.utfpr.edu.br & paschoal@utfpr.edu.br.\n",
    "\n",
    "CODARFE is also available in 4 other formats: https://github.com/alerpaschoal/CODARFE/\n",
    "\n",
    "In the event that CODARFE was unable to generalize your data, visit github for suggestions on how to enhance the results.\n",
    "\n",
    "This is an interactive code notebook (a Jupyter Notebook).\n",
    "To run this code, click into each cell and press the ▶ button in the top toolbar, or press `shift+enter`.\n",
    "\n",
    "---"
   ]
  },
  {
   "cell_type": "markdown",
   "id": "82732320-16f0-41a7-b604-53f694f386ad",
   "metadata": {
    "tags": []
   },
   "source": [
    "<div style=\"max-width:1200px\"><img src=\"../_resources/flow-codarfe-mgnify.png\" width=\"100%\"></div>"
   ]
  },
  {
   "cell_type": "code",
   "execution_count": null,
   "id": "23fd2699-0824-4a30-894e-66b269bc31e1",
   "metadata": {
    "tags": []
   },
   "outputs": [],
   "source": [
    "import pandas as pd\n",
    "import numpy as np\n",
    "import sys\n",
    "sys.path.append(\"./lib/\")\n",
    "from Collect_Data_and_Metadata_MGnify_V2 import get_data_and_metadata_from_project # This lib helps us to download the projects directly from MGnify\n",
    "from CODARFE import CODARFE"
   ]
  },
  {
   "cell_type": "markdown",
   "id": "0b218820-b5f4-4f5e-8382-093ca7cee20a",
   "metadata": {},
   "source": [
    "# To begin, use an accession number to obtain the 16s table and the metadata associated to a project."
   ]
  },
  {
   "cell_type": "code",
   "execution_count": null,
   "id": "69cce097-2e3b-4013-9a16-ac639174cb58",
   "metadata": {
    "tags": []
   },
   "outputs": [],
   "source": [
    "accession = \"MGYS00003750\" # Accession number here\n",
    "data,meta,version = get_data_and_metadata_from_project(accession)"
   ]
  },
  {
   "cell_type": "code",
   "execution_count": null,
   "id": "959c880e-261b-4ee7-95f1-729b3e1f0dda",
   "metadata": {
    "tags": []
   },
   "outputs": [],
   "source": [
    "data.head()"
   ]
  },
  {
   "cell_type": "markdown",
   "id": "d0ed1a00-aca5-4a1a-be2f-f7c7c99a1bbb",
   "metadata": {},
   "source": [
    "# Select the metadata of your interest"
   ]
  },
  {
   "cell_type": "code",
   "execution_count": null,
   "id": "071e0201-5e36-467e-ab7d-fa6f88df31b9",
   "metadata": {
    "tags": []
   },
   "outputs": [],
   "source": [
    "meta.head()"
   ]
  },
  {
   "cell_type": "code",
   "execution_count": null,
   "id": "52b9aa78-6c68-4044-bb8e-a8b47bebf39e",
   "metadata": {
    "tags": []
   },
   "outputs": [],
   "source": [
    "#Check the distribution\n",
    "\n",
    "target = \"temperature\" # select the metadata of your interest\n",
    "\n",
    "print(f\"Min:  {meta[target].min()}\")\n",
    "print(f\"Mean: {meta[target].mean()}\")\n",
    "print(f\"Max:  {meta[target].max()}\")\n",
    "print(f\"Std:  {meta[target].std()}\")\n",
    "print(f\"Total number of columns: {len(data.columns)}\")\n",
    "print(f\"Total number of samples with target: {meta[target].count()}\")\n",
    "meta[target].hist()"
   ]
  },
  {
   "cell_type": "markdown",
   "id": "83e69f1a-b88a-46b5-8b75-ba4026e31950",
   "metadata": {},
   "source": [
    "# Create the CODARFE instace"
   ]
  },
  {
   "cell_type": "code",
   "execution_count": null,
   "id": "901e15a8-e115-4c59-8634-b77dc032d3af",
   "metadata": {
    "tags": []
   },
   "outputs": [],
   "source": [
    "# Split between testing and training to simulate a prediction\n",
    "\n",
    "from sklearn.model_selection import train_test_split\n",
    "indx = [id for id in meta.index if id in data.index]# Make sure the indexes match\n",
    "data = data.loc[indx]\n",
    "meta = meta.loc[indx]\n",
    "X_train, X_test, y_train, y_test = train_test_split(data, meta, test_size=0.3, random_state=42) # split 70% train 30% test"
   ]
  },
  {
   "cell_type": "code",
   "execution_count": null,
   "id": "267b5d40-175c-43e8-8fdd-57963dfb484f",
   "metadata": {
    "tags": []
   },
   "outputs": [],
   "source": [
    "# Create the instance\n",
    "\n",
    "codarfe = CODARFE(data=X_train, # The data\n",
    "                  metaData = y_train, # The metatada\n",
    "                  metaData_Target= target) # The name of the column of your interest"
   ]
  },
  {
   "cell_type": "markdown",
   "id": "b2a7012b-f218-4d16-9bd4-a551e88f4ee9",
   "metadata": {},
   "source": [
    "# Create the model  "
   ]
  },
  {
   "cell_type": "code",
   "execution_count": null,
   "id": "9c7ecc84-f7f3-414a-9805-2c79b3e9b745",
   "metadata": {
    "tags": []
   },
   "outputs": [],
   "source": [
    "#No need to change any parameter\n",
    "\n",
    "codarfe.CreateModel(write_results = False, # Flag that defines if the results will be writen\n",
    "                    path_out = '', # Path where the results will be writen\n",
    "                    name_append = '', # Name to append in the end of the results. e.g.: name_append = \"temperature\"; So you can save multiple results in the same folder\n",
    "                    rLowVar = True, # Flag to remove the low variance of the dataset; set false in case you want to test ALL the columns; It may slow the process\n",
    "                    applyAbunRel = True, # Flag to apply the relative abundance transformation; Set to False when the data is already transformed (not raw reads)\n",
    "                    allow_transform_high_variation = True, #  Flag to allow the target transformation in case it has a high variance\n",
    "                    percentage_cols_2_remove = 1, # Percentage of columns to remove per iteraction\n",
    "                    n_Kfold_CV = 10, # Number of folds in the CV step inside the RFE\n",
    "                    weightR2 = 1.0, # Controls the model adjust to it-self\n",
    "                    weightProbF = 0.5, # Controls the statistical significance\n",
    "                    weightBIC = 1.0, # Control the number of predictors selected\n",
    "                    weightRMSE = 1.5, # Controls the over-fitting\n",
    "                    n_max_iter_huber = 100) # Controls the adjustment of the huber regression function inside the RFE"
   ]
  },
  {
   "cell_type": "markdown",
   "id": "bfa8f07c-e720-4e01-acdc-23765a2e4222",
   "metadata": {},
   "source": [
    "# Save the instance for future predictions"
   ]
  },
  {
   "cell_type": "code",
   "execution_count": null,
   "id": "19965e32-90f5-468b-9850-3090f99ba832",
   "metadata": {},
   "outputs": [],
   "source": [
    "# the instance is saved as a .foda file\n",
    "codarfe.Save_Instance(path_out = \"<path/to/folder>\",\n",
    "                      name_append = \"<name_of_the_model>\")"
   ]
  },
  {
   "cell_type": "markdown",
   "id": "7fe57ddd-f3ed-4817-a17c-4261203b3bec",
   "metadata": {},
   "source": [
    "# See the selected taxa"
   ]
  },
  {
   "cell_type": "code",
   "execution_count": null,
   "id": "93102ff5-8ebe-4ea5-bdb6-09ab8b406c0f",
   "metadata": {
    "tags": []
   },
   "outputs": [],
   "source": [
    "codarfe.selected_taxa"
   ]
  },
  {
   "cell_type": "markdown",
   "id": "f2c4be7b-f026-4542-a53b-4094d9261bd8",
   "metadata": {},
   "source": [
    "# Check the error"
   ]
  },
  {
   "cell_type": "code",
   "execution_count": null,
   "id": "bd696a43-039f-482b-95f7-346f60d7427a",
   "metadata": {
    "tags": []
   },
   "outputs": [],
   "source": [
    "codarfe.Plot_HoldOut_Validation(n_repetitions = 100, # Number of dots in the image\n",
    "                                test_size=20, # The size of the split for train/test\n",
    "                                saveImg=False,\n",
    "                                path_out='',\n",
    "                                name_append=''\n",
    "                                )"
   ]
  },
  {
   "cell_type": "markdown",
   "id": "944d1f14-6638-4df1-9caf-8800e165a5d5",
   "metadata": {},
   "source": [
    "# Check the correlation and strenght of each selected feature"
   ]
  },
  {
   "cell_type": "code",
   "execution_count": null,
   "id": "af70fee2-937c-46c8-9481-11d7ee93a402",
   "metadata": {
    "tags": []
   },
   "outputs": [],
   "source": [
    "codarfe.Plot_Relevant_Predictors(n_max_features=100, # Maximum amount of predictors to display\n",
    "                                 saveImg=False,\n",
    "                                 path_out = \"\",\n",
    "                                 name_append= \"\")"
   ]
  },
  {
   "cell_type": "markdown",
   "id": "e40f4517-f596-4c78-b522-6bb937ff16e5",
   "metadata": {},
   "source": [
    "# Create the Heat map with the CLR-transformation of the selected taxa"
   ]
  },
  {
   "cell_type": "code",
   "execution_count": null,
   "id": "a4144e3d-046f-4176-a39f-72bd03c89633",
   "metadata": {
    "tags": []
   },
   "outputs": [],
   "source": [
    "codarfe.Plot_Heatmap(saveImg=False,\n",
    "                     path_out=\"\",\n",
    "                     name_append=\"\")"
   ]
  },
  {
   "cell_type": "markdown",
   "id": "02384e58-9682-4761-9a05-38de6705031b",
   "metadata": {},
   "source": [
    "# Predict the new data"
   ]
  },
  {
   "cell_type": "code",
   "execution_count": null,
   "id": "e9e87e77-f8cb-4de8-907f-6c2bb4ec01ee",
   "metadata": {
    "tags": []
   },
   "outputs": [],
   "source": [
    "pred,tot_not_found = codarfe.Predict(new = X_test,\n",
    "                                     applyAbunRel = True,\n",
    "                                     writeResults = False,\n",
    "                                     path_out = '',\n",
    "                                     name_append = ''\n",
    "                                     )\n",
    "print(\"Total of taxa not found by the imputation method: \",tot_not_found)"
   ]
  },
  {
   "cell_type": "markdown",
   "id": "b1059a42-6705-4201-b947-e13c7879da8b",
   "metadata": {},
   "source": [
    "# Verify the prediction's true error"
   ]
  },
  {
   "cell_type": "code",
   "execution_count": null,
   "id": "48f4929e-145b-4ee5-ba40-fcd40da916f7",
   "metadata": {
    "tags": []
   },
   "outputs": [],
   "source": [
    "real = y_test[target]\n",
    "import matplotlib.pyplot as plt\n",
    "\n",
    "plt.figure()\n",
    "\n",
    "plt.scatter(real,pred) # Plot the dots\n",
    "plt.plot(real,real,color=\"orange\") # plot the perfect line\n",
    "mae = np.mean([abs(r-p) for r,p in zip(real,pred) if not np.isnan(r)])#Calculate the Mean Absolute Error\n",
    "plt.text(x = np.min(real),y=np.max(pred),s=\"MAE: \"+str(round(mae,2)),fontweight=\"bold\")\n",
    "plt.xlabel(\"Real\")\n",
    "plt.ylabel(\"Prediction\")\n",
    "plt.title(\"Prediction x Real\",fontweight=\"bold\")\n",
    "plt.show()"
   ]
  },
  {
   "cell_type": "markdown",
   "id": "fda2320a-5142-49b8-81bd-ea2a80584398",
   "metadata": {},
   "source": [
    "# Citation Requirement for Using CODARFE\n",
    "\n",
    "Thank you for using **CODARFE**. If you find this tool useful for your research or any other work, we kindly request that you cite our article in your publications and presentations. Proper citation is essential for acknowledging the effort involved in developing and maintaining this tool.\n",
    "\n",
    "**Citation Information:**\n",
    "\n",
    "*Article Title:* **CODARFE: Unlocking the prediction of continuous environmental variables based on microbiome**  \n",
    "\n",
    "*Authors:* Murilo Caminotto Barbosa \\*,  Joao Fernando Marques da Silva, Leonardo Cardoso Alves, Robert D. Finn,  Alexandre R Paschoal \\*\n",
    "\n",
    "*DOI:* https://doi.org/10.1101/2024.07.18.604052\n",
    "\n",
    "Corresponding authors e-mail: murilobarbosa@alunos.utfpr.edu.br & paschoal@utfpr.edu.br\n",
    "\n",
    "BibTeX:\n",
    "\n",
    "~~~\n",
    "@article{barbosa2024codarfe,\n",
    "  title={CODARFE: Unlocking the prediction of continuous environmental variables based on microbiome},\n",
    "  author={Barbosa, Murilo Caminotto and da Silva, Joao Fernando Marques and Alves, Leonardo Cardoso and Finn, Robert D and Paschoal, Alexandre R},\n",
    "  journal={bioRxiv},\n",
    "  pages={2024--07},\n",
    "  year={2024},\n",
    "  publisher={Cold Spring Harbor Laboratory}\n",
    "}\n",
    "~~~\n",
    "\n",
    "**Important Note:**\n",
    "\n",
    "By using **CODARFE**, you agree to cite the above-mentioned article in any publication, presentation, or other work that makes use of this tool. Proper citation helps us to track the impact and usage of our work, and supports the continued development and maintenance of the tool.\n",
    "\n",
    "Thank you for your cooperation and support.\n",
    "\n",
    "CODARFE is also available in 4 other formats: https://github.com/alerpaschoal/CODARFE/"
   ]
  }
 ],
 "metadata": {
  "kernelspec": {
   "display_name": "Python (mgnify-py-env)",
   "language": "python",
   "name": "conda-env-mgnify-py-env-py"
  },
  "language_info": {
   "codemirror_mode": {
    "name": "ipython",
    "version": 3
   },
   "file_extension": ".py",
   "mimetype": "text/x-python",
   "name": "python",
   "nbconvert_exporter": "python",
   "pygments_lexer": "ipython3",
   "version": "3.11.0"
  }
 },
 "nbformat": 4,
 "nbformat_minor": 5
}
