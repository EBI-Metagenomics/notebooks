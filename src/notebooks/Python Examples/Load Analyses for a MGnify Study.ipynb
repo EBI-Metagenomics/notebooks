{
 "cells": [
  {
   "cell_type": "raw",
   "id": "dc5a878e-5867-4dee-a0ec-29917f7d279b",
   "metadata": {
    "jupyter": {
     "source_hidden": true
    },
    "tags": []
   },
   "source": [
    "---\n",
    "title: \"Load Analyses for a MGnify Study\"\n",
    "author: \"Sandy R (MGnify team)\"\n",
    "categories: [Python]\n",
    "execute: \n",
    "  enabled: true\n",
    "---"
   ]
  },
  {
   "cell_type": "markdown",
   "id": "b9af2689-50c0-4530-812b-c292c717adb1",
   "metadata": {
    "tags": []
   },
   "source": [
    "<div style=\"max-width:1200px\"><img src=\"../_resources/mgnify_banner.png\" width=\"100%\"></div>"
   ]
  },
  {
   "cell_type": "markdown",
   "id": "70e69f1d-4714-4d14-b4e8-4eb3b3ed611d",
   "metadata": {},
   "source": [
    "<img src=\"../_resources/mgnify_logo.png\" width=\"200px\">\n",
    "\n",
    "# Load a Study from the MGnify API and fetch its Analyses\n",
    "\n",
    "The [MGnify API](https://www.ebi.ac.uk/metagenomics/api/v1) returns JSON data. The `jsonapi_client` package can help you load this data into Python, e.g. into a Pandas dataframe.\n",
    "\n",
    "**This example shows you how to load a MGnify Study's Analyses from the MGnify API**\n",
    "\n",
    "You can find all of the other \"API endpoints\" using the [Browsable API interface in your web browser](https://www.ebi.ac.uk/metagenomics/api/v1). The URL you see in the browsable API is exactly the same as the one you can use in this code.\n",
    "\n",
    "This is an interactive code notebook (a Jupyter Notebook).\n",
    "To run this code, click into each cell and press the ▶ button in the top toolbar, or press `shift+enter`.\n",
    "\n",
    "---"
   ]
  },
  {
   "cell_type": "markdown",
   "id": "e882156e-d5cb-4d45-982a-58c8996af91e",
   "metadata": {},
   "source": [
    "## Select a Study\n",
    "Pick a particular Study of interest. If you followed a link to this notebook, we might already know the Study Accession. Otherwise, you can enter one or use the example:"
   ]
  },
  {
   "cell_type": "code",
   "execution_count": null,
   "id": "1ae6a63e-4f2b-434e-b165-8054575aba18",
   "metadata": {},
   "outputs": [],
   "source": [
    "from lib.variable_utils import get_variable_from_link_or_input\n",
    "\n",
    "# You can also just directly set the accession variable in code, like this:\n",
    "# accession = \"MGYS00005292\"\n",
    "accession = get_variable_from_link_or_input('MGYS', 'Study Accession', 'MGYS00005292')"
   ]
  },
  {
   "cell_type": "markdown",
   "id": "ba85545b-6a81-4ce1-9075-8d0330249b08",
   "metadata": {},
   "source": [
    "## Fetch data\n",
    "Fetch Analyses for this study from the MGnify API, into a [Pandas dataframe](https://pandas.pydata.org/docs/user_guide/index.html)"
   ]
  },
  {
   "cell_type": "code",
   "execution_count": null,
   "id": "0c763bfc-b91e-4277-9f28-35c5c2556e79",
   "metadata": {},
   "outputs": [],
   "source": [
    "from jsonapi_client import Session\n",
    "import pandas as pd\n",
    "\n",
    "with Session(\"https://www.ebi.ac.uk/metagenomics/api/v1\") as mgnify:\n",
    "    analyses = map(lambda r: r.json, mgnify.iterate(f'studies/{accession}/analyses'))\n",
    "    analyses = pd.json_normalize(analyses)"
   ]
  },
  {
   "cell_type": "markdown",
   "id": "d43996fa-dbea-4629-a127-f3d3620b1cf1",
   "metadata": {},
   "source": [
    "## Inspect the data\n",
    "The `.head()` method prints the first few rows of the table"
   ]
  },
  {
   "cell_type": "code",
   "execution_count": null,
   "id": "5ae80563-9395-4c95-81f7-7dee0bee809c",
   "metadata": {},
   "outputs": [],
   "source": [
    "analyses.head()"
   ]
  },
  {
   "cell_type": "markdown",
   "id": "12b6700b-7059-45d1-ad76-5a343f20cc25",
   "metadata": {},
   "source": [
    "## Example: distribution of instruments used for the Analysed Samples"
   ]
  },
  {
   "cell_type": "code",
   "execution_count": null,
   "id": "2c424193-2f45-408d-805a-1fe140fbb0d2",
   "metadata": {
    "tags": []
   },
   "outputs": [],
   "source": [
    "import matplotlib.pyplot as plt\n",
    "analyses.groupby('attributes.instrument-model').size().plot(kind='pie')\n",
    "plt.title('Number of Analysed Samples by instrument type');"
   ]
  },
  {
   "cell_type": "code",
   "execution_count": null,
   "id": "f0b88dc5-991a-4705-964d-a55ff57d3eb5",
   "metadata": {},
   "outputs": [],
   "source": []
  }
 ],
 "metadata": {
  "kernelspec": {
   "display_name": "Python (mgnify-py-env)",
   "language": "python",
   "name": "conda-env-mgnify-py-env-py"
  },
  "language_info": {
   "codemirror_mode": {
    "name": "ipython",
    "version": 3
   },
   "file_extension": ".py",
   "mimetype": "text/x-python",
   "name": "python",
   "nbconvert_exporter": "python",
   "pygments_lexer": "ipython3",
   "version": "3.11.0"
  }
 },
 "nbformat": 4,
 "nbformat_minor": 5
}
