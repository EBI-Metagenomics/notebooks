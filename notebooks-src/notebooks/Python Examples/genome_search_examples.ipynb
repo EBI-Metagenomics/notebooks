{
 "cells": [
  {
   "cell_type": "markdown",
   "id": "109c2b12-e047-45e7-b971-6a6f6d5b1158",
   "metadata": {},
   "source": [
    "# How to use the “genome search” for MGnify MAGs"
   ]
  },
  {
   "cell_type": "markdown",
   "id": "6874ff70-58eb-491d-b2d5-7fadf86cf73c",
   "metadata": {},
   "source": [
    "## Note:\n",
    "\n",
    "Notebook tested with a docker container based on the following Dockerfile (works for M1):\n",
    "```\n",
    "FROM python:3.10.8\n",
    "\n",
    "RUN apt update -y\n",
    "RUN apt install wget -y\n",
    "\n",
    "WORKDIR /usr/src\n",
    "\n",
    "COPY requirements.txt .\n",
    "\n",
    "RUN apt install openjdk-11-jdk -y\n",
    "RUN pip install --upgrade pip\n",
    "RUN pip install -r requirements.txt\n",
    "\n",
    "RUN mkdir -p /usr/src/data\n",
    "VOLUME /usr/src/dat`\n",
    "```\n",
    "\n",
    "with the following requirements.txt file:\n",
    "\n",
    "```\n",
    "jsonapi-client==0.9.9\n",
    "pyspark==3.3.1\n",
    "pandas==1.5.1\n",
    "pyarrow==10.0.0\n",
    "numpy==1.23.4\n",
    "scipy==1.9.3\n",
    "matplotlib==3.6.2\n",
    "seaborn==0.12.1\n",
    "plotly==5.11.0\n",
    "jupyterlab==3.5.0\n",
    "sourmash==4.5.0\n",
    "biopython==1.79\n",
    "\n",
    "```"
   ]
  },
  {
   "cell_type": "markdown",
   "id": "51528be3-5bab-4ef4-b2eb-e2dec76c53ff",
   "metadata": {},
   "source": [
    "## Import libraries"
   ]
  },
  {
   "cell_type": "code",
   "execution_count": 1,
   "id": "3a6568b0-c830-4909-802a-110903eda428",
   "metadata": {},
   "outputs": [],
   "source": [
    "# Connection to MGnify API\n",
    "from jsonapi_client import Session as APISession\n",
    "from jsonapi_client import Modifier\n",
    "import requests\n",
    "\n",
    "# Dataframes and display\n",
    "import pandas as pd\n",
    "\n",
    "pd.set_option('display.max_columns', None)\n",
    "pd.set_option('display.max_colwidth', None)\n",
    "\n",
    "# Plots\n",
    "import matplotlib.pyplot as plt\n",
    "import seaborn as sns\n",
    "import plotly.graph_objects as go\n",
    "%matplotlib inline \n",
    "\n",
    "# Warning verbosity\n",
    "import warnings \n",
    "warnings.filterwarnings(action=\"ignore\")"
   ]
  },
  {
   "cell_type": "markdown",
   "id": "d9e8fd11-c18d-4f9f-b971-3a7340187483",
   "metadata": {},
   "source": [
    "## Query the `genomes` database from MGnify API"
   ]
  },
  {
   "cell_type": "markdown",
   "id": "821d29a2-5699-4137-8d9e-a16046b0daa3",
   "metadata": {},
   "source": [
    "For the genome dataset, use `genomes` endpoint.   \n",
    "A complete list of endpoints can be found at https://www.ebi.ac.uk/metagenomics/api/v1/."
   ]
  },
  {
   "cell_type": "code",
   "execution_count": 2,
   "id": "a141a7c4-2ce3-4ceb-a62f-001c0582bd86",
   "metadata": {},
   "outputs": [],
   "source": [
    "endpoint_name = 'genomes'"
   ]
  },
  {
   "cell_type": "markdown",
   "id": "a6b1a1fc-0a99-4cbb-b205-1de6a07807fb",
   "metadata": {},
   "source": [
    "The function `Modifier` from the `jsonapi_client` module allow to query for specific values in given fields (e.g.: 'geographic-origin', 'taxon-lineage').    \n",
    "A way to explore the available field is to use `requests`."
   ]
  },
  {
   "cell_type": "code",
   "execution_count": 3,
   "id": "e8122a2c-1007-417c-bce1-2b7b8cb9a00a",
   "metadata": {},
   "outputs": [],
   "source": [
    "r = requests.get(f\"https://www.ebi.ac.uk/metagenomics/api/v1/{endpoint_name}\")"
   ]
  },
  {
   "cell_type": "code",
   "execution_count": 4,
   "id": "52e09911-7eb1-481b-b85c-404b68a565a1",
   "metadata": {},
   "outputs": [
    {
     "data": {
      "text/plain": [
       "{'type': 'genomes',\n",
       " 'id': 'MGYG000299273',\n",
       " 'attributes': {'genome-id': 13741,\n",
       "  'geographic-origin': 'Asia',\n",
       "  'geographic-range': ['North America', 'Europe', 'Asia'],\n",
       "  'accession': 'MGYG000299273',\n",
       "  'ena-genome-accession': None,\n",
       "  'ena-sample-accession': 'ERS7599803',\n",
       "  'ena-study-accession': 'ERP108069',\n",
       "  'ncbi-genome-accession': None,\n",
       "  'ncbi-sample-accession': None,\n",
       "  'ncbi-study-accession': None,\n",
       "  'img-genome-accession': None,\n",
       "  'patric-genome-accession': None,\n",
       "  'length': 1611607,\n",
       "  'num-contigs': 63,\n",
       "  'n-50': 37820,\n",
       "  'gc-content': 45.53,\n",
       "  'type': 'MAG',\n",
       "  'completeness': 100.0,\n",
       "  'contamination': 0.3,\n",
       "  'rna-5s': 92.44,\n",
       "  'rna-16s': 0.0,\n",
       "  'rna-23s': 5.98,\n",
       "  'trnas': 18.0,\n",
       "  'nc-rnas': 30,\n",
       "  'num-proteins': 1533,\n",
       "  'eggnog-coverage': 97.06,\n",
       "  'ipr-coverage': 91.52,\n",
       "  'taxon-lineage': 'd__Bacteria;p__Firmicutes_C;c__Negativicutes;o__Veillonellales;f__Megasphaeraceae;g__Anaeroglobus;s__Anaeroglobus micronuciformis',\n",
       "  'num-genomes-total': 21,\n",
       "  'pangenome-size': 1854,\n",
       "  'pangenome-core-size': 652,\n",
       "  'pangenome-accessory-size': 1202,\n",
       "  'last-update': '2021-12-17T10:54:51.981514',\n",
       "  'first-created': '2021-12-15T12:16:37.567673'},\n",
       " 'relationships': {'kegg-class-matches': {'links': {'related': 'https://www.ebi.ac.uk/metagenomics/api/v1/genomes/MGYG000299273/kegg-class'}},\n",
       "  'biome': {'data': {'type': 'biomes',\n",
       "    'id': 'root:Host-associated:Human:Digestive system:Oral'},\n",
       "   'links': {'related': 'https://www.ebi.ac.uk/metagenomics/api/v1/biomes/root:Host-associated:Human:Digestive%20system:Oral'}},\n",
       "  'catalogue': {'data': {'type': 'genome-catalogues', 'id': 'human-oral-v1-0'},\n",
       "   'links': {'related': 'https://www.ebi.ac.uk/metagenomics/api/v1/genome-catalogues/human-oral-v1-0'}},\n",
       "  'downloads': {'links': {'related': 'https://www.ebi.ac.uk/metagenomics/api/v1/genomes/MGYG000299273/downloads'}},\n",
       "  'kegg-modules-matches': {'links': {'related': 'https://www.ebi.ac.uk/metagenomics/api/v1/genomes/MGYG000299273/kegg-module'}},\n",
       "  'antismash-geneclusters': {'links': {'related': 'https://www.ebi.ac.uk/metagenomics/api/v1/genomes/MGYG000299273/antismash-genecluster'}},\n",
       "  'cog-matches': {'links': {'related': 'https://www.ebi.ac.uk/metagenomics/api/v1/genomes/MGYG000299273/cogs'}}},\n",
       " 'links': {'self': 'https://www.ebi.ac.uk/metagenomics/api/v1/genomes/MGYG000299273'}}"
      ]
     },
     "execution_count": 4,
     "metadata": {},
     "output_type": "execute_result"
    }
   ],
   "source": [
    "r.json()['data'][0]"
   ]
  },
  {
   "cell_type": "markdown",
   "id": "a7efc9a7-f2a0-4991-9489-074907254c1e",
   "metadata": {},
   "source": [
    "### Get information for a specic genus or species"
   ]
  },
  {
   "cell_type": "markdown",
   "id": "0dbf63a8-aa24-40f9-9954-8b903e77557a",
   "metadata": {},
   "source": [
    "Examples:   \n",
    "Search for available ressources for a specific genus or species of interest.  \n",
    "- *Listeria*\n",
    "- *Listeria monocytogenes*\n"
   ]
  },
  {
   "cell_type": "markdown",
   "id": "61489d88-ab80-4c8a-9df7-38a81740e568",
   "metadata": {},
   "source": [
    "The `taxon-lineage` field contains domain, phylum, class, order, family, genus, species, subspecies as `d__Bacteria;p__Firmicutes;c__Bacilli;o__Lactobacillales;f__Listeriaceae;g__Listeria;s__Listeria monocytogenes`(example for *Listeria monocytogenes*).   \n",
    "The filter can use the full lineage `d__Bacteria;p__Firmicutes;c__Bacilli;o__Lactobacillales;f__Listeriaceae;g__Listeria` or only part of it `g__Listeria` or `Listeria`."
   ]
  },
  {
   "cell_type": "markdown",
   "id": "f764c141-ac1a-4d00-b3a2-7ed5a1b36faf",
   "metadata": {},
   "source": [
    "#### Set the desired filter(s)"
   ]
  },
  {
   "cell_type": "code",
   "execution_count": 5,
   "id": "b93e0463-e674-4c14-a5aa-f34da11dd649",
   "metadata": {},
   "outputs": [],
   "source": [
    "genus_filter = 'Listeria'\n",
    "species_filter = 'Listeria monocytogenes'"
   ]
  },
  {
   "cell_type": "markdown",
   "id": "92b3c558-3a8f-403b-bbcc-92d2a52e5d17",
   "metadata": {},
   "source": [
    "#### Query the database with the 'Listeria' filter and store the results in a Pandas DataFrame."
   ]
  },
  {
   "cell_type": "code",
   "execution_count": 6,
   "id": "d9ef9a46-430c-4d38-9cd1-1d3ed3518640",
   "metadata": {},
   "outputs": [],
   "source": [
    "with APISession(\"https://www.ebi.ac.uk/metagenomics/api/v1\") as mgnify:\n",
    "    search_filter = Modifier(f\"taxon_lineage={genus_filter}\")\n",
    "    resources = map(lambda r: r.json, mgnify.iterate(endpoint_name, filter=search_filter))\n",
    "    resources_df = pd.json_normalize(resources)"
   ]
  },
  {
   "cell_type": "code",
   "execution_count": 7,
   "id": "900d6c4c-bec9-4e36-bbd7-e8199ad33a9c",
   "metadata": {},
   "outputs": [
    {
     "data": {
      "text/html": [
       "<div>\n",
       "<style scoped>\n",
       "    .dataframe tbody tr th:only-of-type {\n",
       "        vertical-align: middle;\n",
       "    }\n",
       "\n",
       "    .dataframe tbody tr th {\n",
       "        vertical-align: top;\n",
       "    }\n",
       "\n",
       "    .dataframe thead th {\n",
       "        text-align: right;\n",
       "    }\n",
       "</style>\n",
       "<table border=\"1\" class=\"dataframe\">\n",
       "  <thead>\n",
       "    <tr style=\"text-align: right;\">\n",
       "      <th></th>\n",
       "      <th>type</th>\n",
       "      <th>id</th>\n",
       "      <th>attributes.genome-id</th>\n",
       "      <th>attributes.geographic-range</th>\n",
       "      <th>attributes.geographic-origin</th>\n",
       "      <th>attributes.accession</th>\n",
       "      <th>attributes.ncbi-sample-accession</th>\n",
       "      <th>attributes.ncbi-study-accession</th>\n",
       "      <th>attributes.length</th>\n",
       "      <th>attributes.num-contigs</th>\n",
       "      <th>attributes.n-50</th>\n",
       "      <th>attributes.gc-content</th>\n",
       "      <th>attributes.type</th>\n",
       "      <th>attributes.completeness</th>\n",
       "      <th>attributes.contamination</th>\n",
       "      <th>attributes.rna-5s</th>\n",
       "      <th>attributes.rna-16s</th>\n",
       "      <th>attributes.rna-23s</th>\n",
       "      <th>attributes.trnas</th>\n",
       "      <th>attributes.nc-rnas</th>\n",
       "      <th>attributes.num-proteins</th>\n",
       "      <th>attributes.eggnog-coverage</th>\n",
       "      <th>attributes.ipr-coverage</th>\n",
       "      <th>attributes.taxon-lineage</th>\n",
       "      <th>attributes.num-genomes-total</th>\n",
       "      <th>attributes.pangenome-size</th>\n",
       "      <th>attributes.pangenome-core-size</th>\n",
       "      <th>attributes.pangenome-accessory-size</th>\n",
       "      <th>attributes.last-update</th>\n",
       "      <th>attributes.first-created</th>\n",
       "      <th>relationships.biome.data.id</th>\n",
       "      <th>relationships.biome.data.type</th>\n",
       "      <th>relationships.catalogue.data.id</th>\n",
       "      <th>relationships.catalogue.data.type</th>\n",
       "    </tr>\n",
       "  </thead>\n",
       "  <tbody>\n",
       "    <tr>\n",
       "      <th>0</th>\n",
       "      <td>genomes</td>\n",
       "      <td>MGYG000002392</td>\n",
       "      <td>6517</td>\n",
       "      <td>[NA]</td>\n",
       "      <td>not provided</td>\n",
       "      <td>MGYG000002392</td>\n",
       "      <td>SAMN09947982</td>\n",
       "      <td>PRJNA486730</td>\n",
       "      <td>2941624</td>\n",
       "      <td>14</td>\n",
       "      <td>443696</td>\n",
       "      <td>37.79</td>\n",
       "      <td>Isolate</td>\n",
       "      <td>99.45</td>\n",
       "      <td>0.00</td>\n",
       "      <td>94.96</td>\n",
       "      <td>99.67</td>\n",
       "      <td>99.83</td>\n",
       "      <td>20.0</td>\n",
       "      <td>105</td>\n",
       "      <td>2895</td>\n",
       "      <td>98.20</td>\n",
       "      <td>92.92</td>\n",
       "      <td>d__Bacteria;p__Firmicutes;c__Bacilli;o__Lactobacillales;f__Listeriaceae;g__Listeria;s__Listeria monocytogenes</td>\n",
       "      <td>2</td>\n",
       "      <td>2975.0</td>\n",
       "      <td>2760.0</td>\n",
       "      <td>215.0</td>\n",
       "      <td>2021-12-07T19:05:27.619229</td>\n",
       "      <td>2021-12-07T19:05:27.616284</td>\n",
       "      <td>root:Host-associated:Human:Digestive system:Large intestine</td>\n",
       "      <td>biomes</td>\n",
       "      <td>human-gut-v2-0</td>\n",
       "      <td>genome-catalogues</td>\n",
       "    </tr>\n",
       "    <tr>\n",
       "      <th>1</th>\n",
       "      <td>genomes</td>\n",
       "      <td>MGYG000002325</td>\n",
       "      <td>6025</td>\n",
       "      <td>[North America, Europe, NA]</td>\n",
       "      <td>North America</td>\n",
       "      <td>MGYG000002325</td>\n",
       "      <td>SAMN07124731</td>\n",
       "      <td>PRJNA167876</td>\n",
       "      <td>3017944</td>\n",
       "      <td>1</td>\n",
       "      <td>3017944</td>\n",
       "      <td>37.96</td>\n",
       "      <td>Isolate</td>\n",
       "      <td>99.45</td>\n",
       "      <td>0.00</td>\n",
       "      <td>94.96</td>\n",
       "      <td>99.67</td>\n",
       "      <td>99.79</td>\n",
       "      <td>20.0</td>\n",
       "      <td>108</td>\n",
       "      <td>2967</td>\n",
       "      <td>97.84</td>\n",
       "      <td>92.25</td>\n",
       "      <td>d__Bacteria;p__Firmicutes;c__Bacilli;o__Lactobacillales;f__Listeriaceae;g__Listeria;s__Listeria monocytogenes_B</td>\n",
       "      <td>7</td>\n",
       "      <td>3286.0</td>\n",
       "      <td>2650.0</td>\n",
       "      <td>636.0</td>\n",
       "      <td>2021-12-07T18:49:57.209400</td>\n",
       "      <td>2021-12-07T18:49:57.206690</td>\n",
       "      <td>root:Host-associated:Human:Digestive system:Large intestine</td>\n",
       "      <td>biomes</td>\n",
       "      <td>human-gut-v2-0</td>\n",
       "      <td>genome-catalogues</td>\n",
       "    </tr>\n",
       "    <tr>\n",
       "      <th>2</th>\n",
       "      <td>genomes</td>\n",
       "      <td>MGYG000001395</td>\n",
       "      <td>5358</td>\n",
       "      <td>[]</td>\n",
       "      <td>not provided</td>\n",
       "      <td>MGYG000001395</td>\n",
       "      <td>SAMN02299452</td>\n",
       "      <td>PRJNA224116</td>\n",
       "      <td>2890785</td>\n",
       "      <td>45</td>\n",
       "      <td>227246</td>\n",
       "      <td>37.35</td>\n",
       "      <td>Isolate</td>\n",
       "      <td>99.45</td>\n",
       "      <td>0.55</td>\n",
       "      <td>94.96</td>\n",
       "      <td>93.93</td>\n",
       "      <td>99.83</td>\n",
       "      <td>18.0</td>\n",
       "      <td>86</td>\n",
       "      <td>2880</td>\n",
       "      <td>97.15</td>\n",
       "      <td>91.77</td>\n",
       "      <td>d__Bacteria;p__Firmicutes;c__Bacilli;o__Lactobacillales;f__Listeriaceae;g__Listeria;s__Listeria innocua</td>\n",
       "      <td>1</td>\n",
       "      <td>NaN</td>\n",
       "      <td>NaN</td>\n",
       "      <td>NaN</td>\n",
       "      <td>2021-12-07T18:25:36.389648</td>\n",
       "      <td>2021-12-07T18:25:36.386977</td>\n",
       "      <td>root:Host-associated:Human:Digestive system:Large intestine</td>\n",
       "      <td>biomes</td>\n",
       "      <td>human-gut-v2-0</td>\n",
       "      <td>genome-catalogues</td>\n",
       "    </tr>\n",
       "    <tr>\n",
       "      <th>3</th>\n",
       "      <td>genomes</td>\n",
       "      <td>MGYG000001298</td>\n",
       "      <td>8569</td>\n",
       "      <td>[Europe]</td>\n",
       "      <td>Europe</td>\n",
       "      <td>MGYG000001298</td>\n",
       "      <td>SAMN00001446</td>\n",
       "      <td>PRJNA224116</td>\n",
       "      <td>2589961</td>\n",
       "      <td>6</td>\n",
       "      <td>982217</td>\n",
       "      <td>41.60</td>\n",
       "      <td>Isolate</td>\n",
       "      <td>99.45</td>\n",
       "      <td>0.00</td>\n",
       "      <td>94.96</td>\n",
       "      <td>99.67</td>\n",
       "      <td>99.83</td>\n",
       "      <td>20.0</td>\n",
       "      <td>64</td>\n",
       "      <td>2561</td>\n",
       "      <td>95.28</td>\n",
       "      <td>91.88</td>\n",
       "      <td>d__Bacteria;p__Firmicutes;c__Bacilli;o__Lactobacillales;f__Listeriaceae;g__Listeria;s__Listeria grayi</td>\n",
       "      <td>2</td>\n",
       "      <td>2552.0</td>\n",
       "      <td>2552.0</td>\n",
       "      <td>0.0</td>\n",
       "      <td>2021-12-07T20:02:11.108760</td>\n",
       "      <td>2021-12-07T20:02:11.105691</td>\n",
       "      <td>root:Host-associated:Human:Digestive system:Large intestine</td>\n",
       "      <td>biomes</td>\n",
       "      <td>human-gut-v2-0</td>\n",
       "      <td>genome-catalogues</td>\n",
       "    </tr>\n",
       "  </tbody>\n",
       "</table>\n",
       "</div>"
      ],
      "text/plain": [
       "      type             id  attributes.genome-id  attributes.geographic-range  \\\n",
       "0  genomes  MGYG000002392                  6517                         [NA]   \n",
       "1  genomes  MGYG000002325                  6025  [North America, Europe, NA]   \n",
       "2  genomes  MGYG000001395                  5358                           []   \n",
       "3  genomes  MGYG000001298                  8569                     [Europe]   \n",
       "\n",
       "  attributes.geographic-origin attributes.accession  \\\n",
       "0                 not provided        MGYG000002392   \n",
       "1                North America        MGYG000002325   \n",
       "2                 not provided        MGYG000001395   \n",
       "3                       Europe        MGYG000001298   \n",
       "\n",
       "  attributes.ncbi-sample-accession attributes.ncbi-study-accession  \\\n",
       "0                     SAMN09947982                     PRJNA486730   \n",
       "1                     SAMN07124731                     PRJNA167876   \n",
       "2                     SAMN02299452                     PRJNA224116   \n",
       "3                     SAMN00001446                     PRJNA224116   \n",
       "\n",
       "   attributes.length  attributes.num-contigs  attributes.n-50  \\\n",
       "0            2941624                      14           443696   \n",
       "1            3017944                       1          3017944   \n",
       "2            2890785                      45           227246   \n",
       "3            2589961                       6           982217   \n",
       "\n",
       "   attributes.gc-content attributes.type  attributes.completeness  \\\n",
       "0                  37.79         Isolate                    99.45   \n",
       "1                  37.96         Isolate                    99.45   \n",
       "2                  37.35         Isolate                    99.45   \n",
       "3                  41.60         Isolate                    99.45   \n",
       "\n",
       "   attributes.contamination  attributes.rna-5s  attributes.rna-16s  \\\n",
       "0                      0.00              94.96               99.67   \n",
       "1                      0.00              94.96               99.67   \n",
       "2                      0.55              94.96               93.93   \n",
       "3                      0.00              94.96               99.67   \n",
       "\n",
       "   attributes.rna-23s  attributes.trnas  attributes.nc-rnas  \\\n",
       "0               99.83              20.0                 105   \n",
       "1               99.79              20.0                 108   \n",
       "2               99.83              18.0                  86   \n",
       "3               99.83              20.0                  64   \n",
       "\n",
       "   attributes.num-proteins  attributes.eggnog-coverage  \\\n",
       "0                     2895                       98.20   \n",
       "1                     2967                       97.84   \n",
       "2                     2880                       97.15   \n",
       "3                     2561                       95.28   \n",
       "\n",
       "   attributes.ipr-coverage  \\\n",
       "0                    92.92   \n",
       "1                    92.25   \n",
       "2                    91.77   \n",
       "3                    91.88   \n",
       "\n",
       "                                                                                          attributes.taxon-lineage  \\\n",
       "0    d__Bacteria;p__Firmicutes;c__Bacilli;o__Lactobacillales;f__Listeriaceae;g__Listeria;s__Listeria monocytogenes   \n",
       "1  d__Bacteria;p__Firmicutes;c__Bacilli;o__Lactobacillales;f__Listeriaceae;g__Listeria;s__Listeria monocytogenes_B   \n",
       "2          d__Bacteria;p__Firmicutes;c__Bacilli;o__Lactobacillales;f__Listeriaceae;g__Listeria;s__Listeria innocua   \n",
       "3            d__Bacteria;p__Firmicutes;c__Bacilli;o__Lactobacillales;f__Listeriaceae;g__Listeria;s__Listeria grayi   \n",
       "\n",
       "   attributes.num-genomes-total  attributes.pangenome-size  \\\n",
       "0                             2                     2975.0   \n",
       "1                             7                     3286.0   \n",
       "2                             1                        NaN   \n",
       "3                             2                     2552.0   \n",
       "\n",
       "   attributes.pangenome-core-size  attributes.pangenome-accessory-size  \\\n",
       "0                          2760.0                                215.0   \n",
       "1                          2650.0                                636.0   \n",
       "2                             NaN                                  NaN   \n",
       "3                          2552.0                                  0.0   \n",
       "\n",
       "       attributes.last-update    attributes.first-created  \\\n",
       "0  2021-12-07T19:05:27.619229  2021-12-07T19:05:27.616284   \n",
       "1  2021-12-07T18:49:57.209400  2021-12-07T18:49:57.206690   \n",
       "2  2021-12-07T18:25:36.389648  2021-12-07T18:25:36.386977   \n",
       "3  2021-12-07T20:02:11.108760  2021-12-07T20:02:11.105691   \n",
       "\n",
       "                                   relationships.biome.data.id  \\\n",
       "0  root:Host-associated:Human:Digestive system:Large intestine   \n",
       "1  root:Host-associated:Human:Digestive system:Large intestine   \n",
       "2  root:Host-associated:Human:Digestive system:Large intestine   \n",
       "3  root:Host-associated:Human:Digestive system:Large intestine   \n",
       "\n",
       "  relationships.biome.data.type relationships.catalogue.data.id  \\\n",
       "0                        biomes                  human-gut-v2-0   \n",
       "1                        biomes                  human-gut-v2-0   \n",
       "2                        biomes                  human-gut-v2-0   \n",
       "3                        biomes                  human-gut-v2-0   \n",
       "\n",
       "  relationships.catalogue.data.type  \n",
       "0                 genome-catalogues  \n",
       "1                 genome-catalogues  \n",
       "2                 genome-catalogues  \n",
       "3                 genome-catalogues  "
      ]
     },
     "execution_count": 7,
     "metadata": {},
     "output_type": "execute_result"
    }
   ],
   "source": [
    "# Display the table containing the results of the query\n",
    "resources_df"
   ]
  },
  {
   "cell_type": "markdown",
   "id": "6f2211a2-35b3-4c58-bedd-3a87f3f5a9fe",
   "metadata": {},
   "source": [
    "Four entries are obtained for *Listeria* genus. "
   ]
  },
  {
   "cell_type": "markdown",
   "id": "8d2f86f9-eaf8-4706-af0b-27683d5e0ee5",
   "metadata": {},
   "source": [
    "#### Query the database with the 'Listeria monocytogenes' filter and store the results in a Pandas DataFrame."
   ]
  },
  {
   "cell_type": "code",
   "execution_count": 8,
   "id": "90521ff6-2a05-4ced-9884-c1d5a7d8968c",
   "metadata": {},
   "outputs": [],
   "source": [
    "with APISession(\"https://www.ebi.ac.uk/metagenomics/api/v1\") as mgnify:\n",
    "    search_filter_2 = Modifier(f\"taxon_lineage={species_filter}\")\n",
    "    resources_2 = map(lambda r: r.json, mgnify.iterate(endpoint_name, filter=search_filter_2))\n",
    "    resources_df_2 = pd.json_normalize(resources_2)"
   ]
  },
  {
   "cell_type": "code",
   "execution_count": 9,
   "id": "83392e36-0d01-4647-9684-89b197ea3620",
   "metadata": {},
   "outputs": [
    {
     "data": {
      "text/html": [
       "<div>\n",
       "<style scoped>\n",
       "    .dataframe tbody tr th:only-of-type {\n",
       "        vertical-align: middle;\n",
       "    }\n",
       "\n",
       "    .dataframe tbody tr th {\n",
       "        vertical-align: top;\n",
       "    }\n",
       "\n",
       "    .dataframe thead th {\n",
       "        text-align: right;\n",
       "    }\n",
       "</style>\n",
       "<table border=\"1\" class=\"dataframe\">\n",
       "  <thead>\n",
       "    <tr style=\"text-align: right;\">\n",
       "      <th></th>\n",
       "      <th>type</th>\n",
       "      <th>id</th>\n",
       "      <th>attributes.genome-id</th>\n",
       "      <th>attributes.geographic-range</th>\n",
       "      <th>attributes.geographic-origin</th>\n",
       "      <th>attributes.accession</th>\n",
       "      <th>attributes.ncbi-sample-accession</th>\n",
       "      <th>attributes.ncbi-study-accession</th>\n",
       "      <th>attributes.length</th>\n",
       "      <th>attributes.num-contigs</th>\n",
       "      <th>attributes.n-50</th>\n",
       "      <th>attributes.gc-content</th>\n",
       "      <th>attributes.type</th>\n",
       "      <th>attributes.completeness</th>\n",
       "      <th>attributes.contamination</th>\n",
       "      <th>attributes.rna-5s</th>\n",
       "      <th>attributes.rna-16s</th>\n",
       "      <th>attributes.rna-23s</th>\n",
       "      <th>attributes.trnas</th>\n",
       "      <th>attributes.nc-rnas</th>\n",
       "      <th>attributes.num-proteins</th>\n",
       "      <th>attributes.eggnog-coverage</th>\n",
       "      <th>attributes.ipr-coverage</th>\n",
       "      <th>attributes.taxon-lineage</th>\n",
       "      <th>attributes.num-genomes-total</th>\n",
       "      <th>attributes.pangenome-size</th>\n",
       "      <th>attributes.pangenome-core-size</th>\n",
       "      <th>attributes.pangenome-accessory-size</th>\n",
       "      <th>attributes.last-update</th>\n",
       "      <th>attributes.first-created</th>\n",
       "      <th>relationships.biome.data.id</th>\n",
       "      <th>relationships.biome.data.type</th>\n",
       "      <th>relationships.catalogue.data.id</th>\n",
       "      <th>relationships.catalogue.data.type</th>\n",
       "    </tr>\n",
       "  </thead>\n",
       "  <tbody>\n",
       "    <tr>\n",
       "      <th>0</th>\n",
       "      <td>genomes</td>\n",
       "      <td>MGYG000002392</td>\n",
       "      <td>6517</td>\n",
       "      <td>[NA]</td>\n",
       "      <td>not provided</td>\n",
       "      <td>MGYG000002392</td>\n",
       "      <td>SAMN09947982</td>\n",
       "      <td>PRJNA486730</td>\n",
       "      <td>2941624</td>\n",
       "      <td>14</td>\n",
       "      <td>443696</td>\n",
       "      <td>37.79</td>\n",
       "      <td>Isolate</td>\n",
       "      <td>99.45</td>\n",
       "      <td>0.0</td>\n",
       "      <td>94.96</td>\n",
       "      <td>99.67</td>\n",
       "      <td>99.83</td>\n",
       "      <td>20.0</td>\n",
       "      <td>105</td>\n",
       "      <td>2895</td>\n",
       "      <td>98.20</td>\n",
       "      <td>92.92</td>\n",
       "      <td>d__Bacteria;p__Firmicutes;c__Bacilli;o__Lactobacillales;f__Listeriaceae;g__Listeria;s__Listeria monocytogenes</td>\n",
       "      <td>2</td>\n",
       "      <td>2975</td>\n",
       "      <td>2760</td>\n",
       "      <td>215</td>\n",
       "      <td>2021-12-07T19:05:27.619229</td>\n",
       "      <td>2021-12-07T19:05:27.616284</td>\n",
       "      <td>root:Host-associated:Human:Digestive system:Large intestine</td>\n",
       "      <td>biomes</td>\n",
       "      <td>human-gut-v2-0</td>\n",
       "      <td>genome-catalogues</td>\n",
       "    </tr>\n",
       "    <tr>\n",
       "      <th>1</th>\n",
       "      <td>genomes</td>\n",
       "      <td>MGYG000002325</td>\n",
       "      <td>6025</td>\n",
       "      <td>[North America, Europe, NA]</td>\n",
       "      <td>North America</td>\n",
       "      <td>MGYG000002325</td>\n",
       "      <td>SAMN07124731</td>\n",
       "      <td>PRJNA167876</td>\n",
       "      <td>3017944</td>\n",
       "      <td>1</td>\n",
       "      <td>3017944</td>\n",
       "      <td>37.96</td>\n",
       "      <td>Isolate</td>\n",
       "      <td>99.45</td>\n",
       "      <td>0.0</td>\n",
       "      <td>94.96</td>\n",
       "      <td>99.67</td>\n",
       "      <td>99.79</td>\n",
       "      <td>20.0</td>\n",
       "      <td>108</td>\n",
       "      <td>2967</td>\n",
       "      <td>97.84</td>\n",
       "      <td>92.25</td>\n",
       "      <td>d__Bacteria;p__Firmicutes;c__Bacilli;o__Lactobacillales;f__Listeriaceae;g__Listeria;s__Listeria monocytogenes_B</td>\n",
       "      <td>7</td>\n",
       "      <td>3286</td>\n",
       "      <td>2650</td>\n",
       "      <td>636</td>\n",
       "      <td>2021-12-07T18:49:57.209400</td>\n",
       "      <td>2021-12-07T18:49:57.206690</td>\n",
       "      <td>root:Host-associated:Human:Digestive system:Large intestine</td>\n",
       "      <td>biomes</td>\n",
       "      <td>human-gut-v2-0</td>\n",
       "      <td>genome-catalogues</td>\n",
       "    </tr>\n",
       "  </tbody>\n",
       "</table>\n",
       "</div>"
      ],
      "text/plain": [
       "      type             id  attributes.genome-id  attributes.geographic-range  \\\n",
       "0  genomes  MGYG000002392                  6517                         [NA]   \n",
       "1  genomes  MGYG000002325                  6025  [North America, Europe, NA]   \n",
       "\n",
       "  attributes.geographic-origin attributes.accession  \\\n",
       "0                 not provided        MGYG000002392   \n",
       "1                North America        MGYG000002325   \n",
       "\n",
       "  attributes.ncbi-sample-accession attributes.ncbi-study-accession  \\\n",
       "0                     SAMN09947982                     PRJNA486730   \n",
       "1                     SAMN07124731                     PRJNA167876   \n",
       "\n",
       "   attributes.length  attributes.num-contigs  attributes.n-50  \\\n",
       "0            2941624                      14           443696   \n",
       "1            3017944                       1          3017944   \n",
       "\n",
       "   attributes.gc-content attributes.type  attributes.completeness  \\\n",
       "0                  37.79         Isolate                    99.45   \n",
       "1                  37.96         Isolate                    99.45   \n",
       "\n",
       "   attributes.contamination  attributes.rna-5s  attributes.rna-16s  \\\n",
       "0                       0.0              94.96               99.67   \n",
       "1                       0.0              94.96               99.67   \n",
       "\n",
       "   attributes.rna-23s  attributes.trnas  attributes.nc-rnas  \\\n",
       "0               99.83              20.0                 105   \n",
       "1               99.79              20.0                 108   \n",
       "\n",
       "   attributes.num-proteins  attributes.eggnog-coverage  \\\n",
       "0                     2895                       98.20   \n",
       "1                     2967                       97.84   \n",
       "\n",
       "   attributes.ipr-coverage  \\\n",
       "0                    92.92   \n",
       "1                    92.25   \n",
       "\n",
       "                                                                                          attributes.taxon-lineage  \\\n",
       "0    d__Bacteria;p__Firmicutes;c__Bacilli;o__Lactobacillales;f__Listeriaceae;g__Listeria;s__Listeria monocytogenes   \n",
       "1  d__Bacteria;p__Firmicutes;c__Bacilli;o__Lactobacillales;f__Listeriaceae;g__Listeria;s__Listeria monocytogenes_B   \n",
       "\n",
       "   attributes.num-genomes-total  attributes.pangenome-size  \\\n",
       "0                             2                       2975   \n",
       "1                             7                       3286   \n",
       "\n",
       "   attributes.pangenome-core-size  attributes.pangenome-accessory-size  \\\n",
       "0                            2760                                  215   \n",
       "1                            2650                                  636   \n",
       "\n",
       "       attributes.last-update    attributes.first-created  \\\n",
       "0  2021-12-07T19:05:27.619229  2021-12-07T19:05:27.616284   \n",
       "1  2021-12-07T18:49:57.209400  2021-12-07T18:49:57.206690   \n",
       "\n",
       "                                   relationships.biome.data.id  \\\n",
       "0  root:Host-associated:Human:Digestive system:Large intestine   \n",
       "1  root:Host-associated:Human:Digestive system:Large intestine   \n",
       "\n",
       "  relationships.biome.data.type relationships.catalogue.data.id  \\\n",
       "0                        biomes                  human-gut-v2-0   \n",
       "1                        biomes                  human-gut-v2-0   \n",
       "\n",
       "  relationships.catalogue.data.type  \n",
       "0                 genome-catalogues  \n",
       "1                 genome-catalogues  "
      ]
     },
     "execution_count": 9,
     "metadata": {},
     "output_type": "execute_result"
    }
   ],
   "source": [
    "# Display the table containing the results of the query\n",
    "resources_df_2"
   ]
  },
  {
   "cell_type": "markdown",
   "id": "fb9bd868-2fe0-4a12-bafe-7498424049f3",
   "metadata": {},
   "source": [
    "Four entries are obtained for *Listeria monocytogenes* species. "
   ]
  },
  {
   "cell_type": "markdown",
   "id": "f75355fd-1e31-4514-adae-bd5d2923a3b9",
   "metadata": {},
   "source": [
    "### Save the results as parquet."
   ]
  },
  {
   "cell_type": "markdown",
   "id": "010d468e-69ca-4fb7-a0a2-0e0dfbae4bf4",
   "metadata": {},
   "source": [
    "Pandas allow you to save your query results under multiple format. (see Pandas documentation for more options: https://pandas.pydata.org/docs/reference/frame.html).\n",
    "\n",
    "`parquet` files can be open with different libraries including (pandas, pyspark, polar...) and among other has the advantages to be a compressed format and to preserve the column types."
   ]
  },
  {
   "cell_type": "code",
   "execution_count": 10,
   "id": "1116e61e-ac95-425e-bd41-4167e2695787",
   "metadata": {},
   "outputs": [],
   "source": [
    "#resources_df.to_parquet('outputs/Listeria_ressources')"
   ]
  },
  {
   "cell_type": "markdown",
   "id": "81eae674-a82f-4e11-a161-ba46ab171aad",
   "metadata": {},
   "source": [
    "### Load previously saved parquet files"
   ]
  },
  {
   "cell_type": "code",
   "execution_count": 11,
   "id": "222e7f46-bc1a-4924-9e84-f3d257cb377f",
   "metadata": {},
   "outputs": [],
   "source": [
    "df = pd.read_parquet('outputs/Listeria_ressources')"
   ]
  },
  {
   "cell_type": "code",
   "execution_count": 12,
   "id": "0804a6ab-00a2-4ad8-8e13-93eb2b18da66",
   "metadata": {},
   "outputs": [
    {
     "data": {
      "text/html": [
       "<div>\n",
       "<style scoped>\n",
       "    .dataframe tbody tr th:only-of-type {\n",
       "        vertical-align: middle;\n",
       "    }\n",
       "\n",
       "    .dataframe tbody tr th {\n",
       "        vertical-align: top;\n",
       "    }\n",
       "\n",
       "    .dataframe thead th {\n",
       "        text-align: right;\n",
       "    }\n",
       "</style>\n",
       "<table border=\"1\" class=\"dataframe\">\n",
       "  <thead>\n",
       "    <tr style=\"text-align: right;\">\n",
       "      <th></th>\n",
       "      <th>type</th>\n",
       "      <th>id</th>\n",
       "      <th>attributes.genome-id</th>\n",
       "      <th>attributes.geographic-range</th>\n",
       "      <th>attributes.geographic-origin</th>\n",
       "      <th>attributes.accession</th>\n",
       "      <th>attributes.ncbi-sample-accession</th>\n",
       "      <th>attributes.ncbi-study-accession</th>\n",
       "      <th>attributes.length</th>\n",
       "      <th>attributes.num-contigs</th>\n",
       "      <th>attributes.n-50</th>\n",
       "      <th>attributes.gc-content</th>\n",
       "      <th>attributes.type</th>\n",
       "      <th>attributes.completeness</th>\n",
       "      <th>attributes.contamination</th>\n",
       "      <th>attributes.rna-5s</th>\n",
       "      <th>attributes.rna-16s</th>\n",
       "      <th>attributes.rna-23s</th>\n",
       "      <th>attributes.trnas</th>\n",
       "      <th>attributes.nc-rnas</th>\n",
       "      <th>attributes.num-proteins</th>\n",
       "      <th>attributes.eggnog-coverage</th>\n",
       "      <th>attributes.ipr-coverage</th>\n",
       "      <th>attributes.taxon-lineage</th>\n",
       "      <th>attributes.num-genomes-total</th>\n",
       "      <th>attributes.pangenome-size</th>\n",
       "      <th>attributes.pangenome-core-size</th>\n",
       "      <th>attributes.pangenome-accessory-size</th>\n",
       "      <th>attributes.last-update</th>\n",
       "      <th>attributes.first-created</th>\n",
       "      <th>relationships.biome.data.id</th>\n",
       "      <th>relationships.biome.data.type</th>\n",
       "      <th>relationships.catalogue.data.id</th>\n",
       "      <th>relationships.catalogue.data.type</th>\n",
       "    </tr>\n",
       "  </thead>\n",
       "  <tbody>\n",
       "    <tr>\n",
       "      <th>0</th>\n",
       "      <td>genomes</td>\n",
       "      <td>MGYG000002392</td>\n",
       "      <td>6517</td>\n",
       "      <td>[NA]</td>\n",
       "      <td>not provided</td>\n",
       "      <td>MGYG000002392</td>\n",
       "      <td>SAMN09947982</td>\n",
       "      <td>PRJNA486730</td>\n",
       "      <td>2941624</td>\n",
       "      <td>14</td>\n",
       "      <td>443696</td>\n",
       "      <td>37.79</td>\n",
       "      <td>Isolate</td>\n",
       "      <td>99.45</td>\n",
       "      <td>0.00</td>\n",
       "      <td>94.96</td>\n",
       "      <td>99.67</td>\n",
       "      <td>99.83</td>\n",
       "      <td>20.0</td>\n",
       "      <td>105</td>\n",
       "      <td>2895</td>\n",
       "      <td>98.20</td>\n",
       "      <td>92.92</td>\n",
       "      <td>d__Bacteria;p__Firmicutes;c__Bacilli;o__Lactobacillales;f__Listeriaceae;g__Listeria;s__Listeria monocytogenes</td>\n",
       "      <td>2</td>\n",
       "      <td>2975.0</td>\n",
       "      <td>2760.0</td>\n",
       "      <td>215.0</td>\n",
       "      <td>2021-12-07T19:05:27.619229</td>\n",
       "      <td>2021-12-07T19:05:27.616284</td>\n",
       "      <td>root:Host-associated:Human:Digestive system:Large intestine</td>\n",
       "      <td>biomes</td>\n",
       "      <td>human-gut-v2-0</td>\n",
       "      <td>genome-catalogues</td>\n",
       "    </tr>\n",
       "    <tr>\n",
       "      <th>1</th>\n",
       "      <td>genomes</td>\n",
       "      <td>MGYG000002325</td>\n",
       "      <td>6025</td>\n",
       "      <td>[North America, Europe, NA]</td>\n",
       "      <td>North America</td>\n",
       "      <td>MGYG000002325</td>\n",
       "      <td>SAMN07124731</td>\n",
       "      <td>PRJNA167876</td>\n",
       "      <td>3017944</td>\n",
       "      <td>1</td>\n",
       "      <td>3017944</td>\n",
       "      <td>37.96</td>\n",
       "      <td>Isolate</td>\n",
       "      <td>99.45</td>\n",
       "      <td>0.00</td>\n",
       "      <td>94.96</td>\n",
       "      <td>99.67</td>\n",
       "      <td>99.79</td>\n",
       "      <td>20.0</td>\n",
       "      <td>108</td>\n",
       "      <td>2967</td>\n",
       "      <td>97.84</td>\n",
       "      <td>92.25</td>\n",
       "      <td>d__Bacteria;p__Firmicutes;c__Bacilli;o__Lactobacillales;f__Listeriaceae;g__Listeria;s__Listeria monocytogenes_B</td>\n",
       "      <td>7</td>\n",
       "      <td>3286.0</td>\n",
       "      <td>2650.0</td>\n",
       "      <td>636.0</td>\n",
       "      <td>2021-12-07T18:49:57.209400</td>\n",
       "      <td>2021-12-07T18:49:57.206690</td>\n",
       "      <td>root:Host-associated:Human:Digestive system:Large intestine</td>\n",
       "      <td>biomes</td>\n",
       "      <td>human-gut-v2-0</td>\n",
       "      <td>genome-catalogues</td>\n",
       "    </tr>\n",
       "    <tr>\n",
       "      <th>2</th>\n",
       "      <td>genomes</td>\n",
       "      <td>MGYG000001395</td>\n",
       "      <td>5358</td>\n",
       "      <td>[]</td>\n",
       "      <td>not provided</td>\n",
       "      <td>MGYG000001395</td>\n",
       "      <td>SAMN02299452</td>\n",
       "      <td>PRJNA224116</td>\n",
       "      <td>2890785</td>\n",
       "      <td>45</td>\n",
       "      <td>227246</td>\n",
       "      <td>37.35</td>\n",
       "      <td>Isolate</td>\n",
       "      <td>99.45</td>\n",
       "      <td>0.55</td>\n",
       "      <td>94.96</td>\n",
       "      <td>93.93</td>\n",
       "      <td>99.83</td>\n",
       "      <td>18.0</td>\n",
       "      <td>86</td>\n",
       "      <td>2880</td>\n",
       "      <td>97.15</td>\n",
       "      <td>91.77</td>\n",
       "      <td>d__Bacteria;p__Firmicutes;c__Bacilli;o__Lactobacillales;f__Listeriaceae;g__Listeria;s__Listeria innocua</td>\n",
       "      <td>1</td>\n",
       "      <td>NaN</td>\n",
       "      <td>NaN</td>\n",
       "      <td>NaN</td>\n",
       "      <td>2021-12-07T18:25:36.389648</td>\n",
       "      <td>2021-12-07T18:25:36.386977</td>\n",
       "      <td>root:Host-associated:Human:Digestive system:Large intestine</td>\n",
       "      <td>biomes</td>\n",
       "      <td>human-gut-v2-0</td>\n",
       "      <td>genome-catalogues</td>\n",
       "    </tr>\n",
       "    <tr>\n",
       "      <th>3</th>\n",
       "      <td>genomes</td>\n",
       "      <td>MGYG000001298</td>\n",
       "      <td>8569</td>\n",
       "      <td>[Europe]</td>\n",
       "      <td>Europe</td>\n",
       "      <td>MGYG000001298</td>\n",
       "      <td>SAMN00001446</td>\n",
       "      <td>PRJNA224116</td>\n",
       "      <td>2589961</td>\n",
       "      <td>6</td>\n",
       "      <td>982217</td>\n",
       "      <td>41.60</td>\n",
       "      <td>Isolate</td>\n",
       "      <td>99.45</td>\n",
       "      <td>0.00</td>\n",
       "      <td>94.96</td>\n",
       "      <td>99.67</td>\n",
       "      <td>99.83</td>\n",
       "      <td>20.0</td>\n",
       "      <td>64</td>\n",
       "      <td>2561</td>\n",
       "      <td>95.28</td>\n",
       "      <td>91.88</td>\n",
       "      <td>d__Bacteria;p__Firmicutes;c__Bacilli;o__Lactobacillales;f__Listeriaceae;g__Listeria;s__Listeria grayi</td>\n",
       "      <td>2</td>\n",
       "      <td>2552.0</td>\n",
       "      <td>2552.0</td>\n",
       "      <td>0.0</td>\n",
       "      <td>2021-12-07T20:02:11.108760</td>\n",
       "      <td>2021-12-07T20:02:11.105691</td>\n",
       "      <td>root:Host-associated:Human:Digestive system:Large intestine</td>\n",
       "      <td>biomes</td>\n",
       "      <td>human-gut-v2-0</td>\n",
       "      <td>genome-catalogues</td>\n",
       "    </tr>\n",
       "  </tbody>\n",
       "</table>\n",
       "</div>"
      ],
      "text/plain": [
       "      type             id  attributes.genome-id  attributes.geographic-range  \\\n",
       "0  genomes  MGYG000002392                  6517                         [NA]   \n",
       "1  genomes  MGYG000002325                  6025  [North America, Europe, NA]   \n",
       "2  genomes  MGYG000001395                  5358                           []   \n",
       "3  genomes  MGYG000001298                  8569                     [Europe]   \n",
       "\n",
       "  attributes.geographic-origin attributes.accession  \\\n",
       "0                 not provided        MGYG000002392   \n",
       "1                North America        MGYG000002325   \n",
       "2                 not provided        MGYG000001395   \n",
       "3                       Europe        MGYG000001298   \n",
       "\n",
       "  attributes.ncbi-sample-accession attributes.ncbi-study-accession  \\\n",
       "0                     SAMN09947982                     PRJNA486730   \n",
       "1                     SAMN07124731                     PRJNA167876   \n",
       "2                     SAMN02299452                     PRJNA224116   \n",
       "3                     SAMN00001446                     PRJNA224116   \n",
       "\n",
       "   attributes.length  attributes.num-contigs  attributes.n-50  \\\n",
       "0            2941624                      14           443696   \n",
       "1            3017944                       1          3017944   \n",
       "2            2890785                      45           227246   \n",
       "3            2589961                       6           982217   \n",
       "\n",
       "   attributes.gc-content attributes.type  attributes.completeness  \\\n",
       "0                  37.79         Isolate                    99.45   \n",
       "1                  37.96         Isolate                    99.45   \n",
       "2                  37.35         Isolate                    99.45   \n",
       "3                  41.60         Isolate                    99.45   \n",
       "\n",
       "   attributes.contamination  attributes.rna-5s  attributes.rna-16s  \\\n",
       "0                      0.00              94.96               99.67   \n",
       "1                      0.00              94.96               99.67   \n",
       "2                      0.55              94.96               93.93   \n",
       "3                      0.00              94.96               99.67   \n",
       "\n",
       "   attributes.rna-23s  attributes.trnas  attributes.nc-rnas  \\\n",
       "0               99.83              20.0                 105   \n",
       "1               99.79              20.0                 108   \n",
       "2               99.83              18.0                  86   \n",
       "3               99.83              20.0                  64   \n",
       "\n",
       "   attributes.num-proteins  attributes.eggnog-coverage  \\\n",
       "0                     2895                       98.20   \n",
       "1                     2967                       97.84   \n",
       "2                     2880                       97.15   \n",
       "3                     2561                       95.28   \n",
       "\n",
       "   attributes.ipr-coverage  \\\n",
       "0                    92.92   \n",
       "1                    92.25   \n",
       "2                    91.77   \n",
       "3                    91.88   \n",
       "\n",
       "                                                                                          attributes.taxon-lineage  \\\n",
       "0    d__Bacteria;p__Firmicutes;c__Bacilli;o__Lactobacillales;f__Listeriaceae;g__Listeria;s__Listeria monocytogenes   \n",
       "1  d__Bacteria;p__Firmicutes;c__Bacilli;o__Lactobacillales;f__Listeriaceae;g__Listeria;s__Listeria monocytogenes_B   \n",
       "2          d__Bacteria;p__Firmicutes;c__Bacilli;o__Lactobacillales;f__Listeriaceae;g__Listeria;s__Listeria innocua   \n",
       "3            d__Bacteria;p__Firmicutes;c__Bacilli;o__Lactobacillales;f__Listeriaceae;g__Listeria;s__Listeria grayi   \n",
       "\n",
       "   attributes.num-genomes-total  attributes.pangenome-size  \\\n",
       "0                             2                     2975.0   \n",
       "1                             7                     3286.0   \n",
       "2                             1                        NaN   \n",
       "3                             2                     2552.0   \n",
       "\n",
       "   attributes.pangenome-core-size  attributes.pangenome-accessory-size  \\\n",
       "0                          2760.0                                215.0   \n",
       "1                          2650.0                                636.0   \n",
       "2                             NaN                                  NaN   \n",
       "3                          2552.0                                  0.0   \n",
       "\n",
       "       attributes.last-update    attributes.first-created  \\\n",
       "0  2021-12-07T19:05:27.619229  2021-12-07T19:05:27.616284   \n",
       "1  2021-12-07T18:49:57.209400  2021-12-07T18:49:57.206690   \n",
       "2  2021-12-07T18:25:36.389648  2021-12-07T18:25:36.386977   \n",
       "3  2021-12-07T20:02:11.108760  2021-12-07T20:02:11.105691   \n",
       "\n",
       "                                   relationships.biome.data.id  \\\n",
       "0  root:Host-associated:Human:Digestive system:Large intestine   \n",
       "1  root:Host-associated:Human:Digestive system:Large intestine   \n",
       "2  root:Host-associated:Human:Digestive system:Large intestine   \n",
       "3  root:Host-associated:Human:Digestive system:Large intestine   \n",
       "\n",
       "  relationships.biome.data.type relationships.catalogue.data.id  \\\n",
       "0                        biomes                  human-gut-v2-0   \n",
       "1                        biomes                  human-gut-v2-0   \n",
       "2                        biomes                  human-gut-v2-0   \n",
       "3                        biomes                  human-gut-v2-0   \n",
       "\n",
       "  relationships.catalogue.data.type  \n",
       "0                 genome-catalogues  \n",
       "1                 genome-catalogues  \n",
       "2                 genome-catalogues  \n",
       "3                 genome-catalogues  "
      ]
     },
     "execution_count": 12,
     "metadata": {},
     "output_type": "execute_result"
    }
   ],
   "source": [
    "df"
   ]
  },
  {
   "cell_type": "markdown",
   "id": "391c4979-1342-48fa-a9a4-4fd92e6c27d0",
   "metadata": {},
   "source": [
    "## Explore the `genomes` dataset."
   ]
  },
  {
   "cell_type": "markdown",
   "id": "d7cc3681-6c9b-41bb-a4d3-8c0790d07bf8",
   "metadata": {},
   "source": [
    "### Query and save the dataset as parquet file"
   ]
  },
  {
   "cell_type": "code",
   "execution_count": 13,
   "id": "5a204b5d-fe9c-4c6b-b966-0c0c14533c05",
   "metadata": {},
   "outputs": [],
   "source": [
    "#with APISession(\"https://www.ebi.ac.uk/metagenomics/api/v1\") as mgnify:\n",
    "#    resources_all = map(lambda r: r.json, mgnify.iterate(endpoint_name))"
   ]
  },
  {
   "cell_type": "code",
   "execution_count": 14,
   "id": "6899efba-d06a-4e3b-b79d-64df1b6fcd29",
   "metadata": {},
   "outputs": [],
   "source": [
    "#resources_all_df = pd.json_normalize(resources_all)"
   ]
  },
  {
   "cell_type": "code",
   "execution_count": 15,
   "id": "09adb849-411e-4350-9c74-f200ae654829",
   "metadata": {
    "tags": []
   },
   "outputs": [],
   "source": [
    "#resources_all_df"
   ]
  },
  {
   "cell_type": "code",
   "execution_count": 16,
   "id": "6ddd7cef-fd1f-4323-b8cf-4280f94bb036",
   "metadata": {},
   "outputs": [],
   "source": [
    "#resources_all_df.to_parquet('outputs/all_genome_ressources')"
   ]
  },
  {
   "cell_type": "markdown",
   "id": "965dadca-7b62-416b-bee8-c4da83656dba",
   "metadata": {},
   "source": [
    "### Load the dataset file with another library"
   ]
  },
  {
   "cell_type": "code",
   "execution_count": 17,
   "id": "644030c5-42c7-4c58-ac55-93b3f6c68ddd",
   "metadata": {},
   "outputs": [],
   "source": [
    "from pyspark.sql import SparkSession\n",
    "\n",
    "import pyspark.sql.functions as F"
   ]
  },
  {
   "cell_type": "code",
   "execution_count": 18,
   "id": "52ddc568-6384-4fba-b8f3-387c81b9419c",
   "metadata": {},
   "outputs": [
    {
     "name": "stderr",
     "output_type": "stream",
     "text": [
      "Setting default log level to \"WARN\".\n",
      "To adjust logging level use sc.setLogLevel(newLevel). For SparkR, use setLogLevel(newLevel).\n"
     ]
    },
    {
     "name": "stdout",
     "output_type": "stream",
     "text": [
      "22/11/09 12:44:26 WARN NativeCodeLoader: Unable to load native-hadoop library for your platform... using builtin-java classes where applicable\n"
     ]
    }
   ],
   "source": [
    "spark = SparkSession.builder.getOrCreate()"
   ]
  },
  {
   "cell_type": "code",
   "execution_count": 19,
   "id": "39607f3c-e202-4bb8-a9ed-b240ce45d957",
   "metadata": {},
   "outputs": [
    {
     "data": {
      "text/html": [
       "\n",
       "            <div>\n",
       "                <p><b>SparkSession - in-memory</b></p>\n",
       "                \n",
       "        <div>\n",
       "            <p><b>SparkContext</b></p>\n",
       "\n",
       "            <p><a href=\"http://09f2d860aaf1:4040\">Spark UI</a></p>\n",
       "\n",
       "            <dl>\n",
       "              <dt>Version</dt>\n",
       "                <dd><code>v3.3.1</code></dd>\n",
       "              <dt>Master</dt>\n",
       "                <dd><code>local[*]</code></dd>\n",
       "              <dt>AppName</dt>\n",
       "                <dd><code>pyspark-shell</code></dd>\n",
       "            </dl>\n",
       "        </div>\n",
       "        \n",
       "            </div>\n",
       "        "
      ],
      "text/plain": [
       "<pyspark.sql.session.SparkSession at 0xffff4019b340>"
      ]
     },
     "execution_count": 19,
     "metadata": {},
     "output_type": "execute_result"
    }
   ],
   "source": [
    "spark"
   ]
  },
  {
   "cell_type": "code",
   "execution_count": 20,
   "id": "60ff4da3-ae0d-483b-8146-1cef6d6e9744",
   "metadata": {},
   "outputs": [],
   "source": [
    "all_df = spark.read.parquet('./outputs/all_genome_ressources')"
   ]
  },
  {
   "cell_type": "markdown",
   "id": "a0b317bb-31cf-40ce-aeda-5e1a600e22f6",
   "metadata": {},
   "source": [
    "Get the number of rows"
   ]
  },
  {
   "cell_type": "code",
   "execution_count": 21,
   "id": "a1a8a399-97a3-4865-8a37-aed5138f4075",
   "metadata": {},
   "outputs": [
    {
     "data": {
      "text/plain": [
       "9421"
      ]
     },
     "execution_count": 21,
     "metadata": {},
     "output_type": "execute_result"
    }
   ],
   "source": [
    "all_df.count()"
   ]
  },
  {
   "cell_type": "markdown",
   "id": "cfc7a103-a154-4f5e-8c4b-e6bd7f2313ba",
   "metadata": {},
   "source": [
    "### Get stats when applicable\n",
    "\n",
    "For example, the first record gives the number of non-null values for each column."
   ]
  },
  {
   "cell_type": "code",
   "execution_count": 22,
   "id": "2c8b40fb-100f-4375-9fa0-d3583c84754d",
   "metadata": {},
   "outputs": [
    {
     "name": "stderr",
     "output_type": "stream",
     "text": [
      "[Stage 4:>                                                          (0 + 1) / 1]\r"
     ]
    },
    {
     "name": "stdout",
     "output_type": "stream",
     "text": [
      "22/11/09 12:44:32 WARN package: Truncated the string representation of a plan since it was too large. This behavior can be adjusted by setting 'spark.sql.debug.maxToStringFields'.\n",
      "-RECORD 0-------------------------------------------------------------------------------------------------------------------------------------------------------\n",
      " summary                             | count                                                                                                                    \n",
      " type                                | 9421                                                                                                                     \n",
      " id                                  | 9421                                                                                                                     \n",
      " attributes.genome-id                | 9421                                                                                                                     \n",
      " attributes.geographic-origin        | 9421                                                                                                                     \n",
      " attributes.accession                | 9421                                                                                                                     \n",
      " attributes.ena-sample-accession     | 8440                                                                                                                     \n",
      " attributes.ena-study-accession      | 8558                                                                                                                     \n",
      " attributes.length                   | 9421                                                                                                                     \n",
      " attributes.num-contigs              | 9421                                                                                                                     \n",
      " attributes.n-50                     | 9421                                                                                                                     \n",
      " attributes.gc-content               | 9421                                                                                                                     \n",
      " attributes.type                     | 9421                                                                                                                     \n",
      " attributes.completeness             | 9421                                                                                                                     \n",
      " attributes.contamination            | 9421                                                                                                                     \n",
      " attributes.rna-5s                   | 9421                                                                                                                     \n",
      " attributes.rna-16s                  | 9421                                                                                                                     \n",
      " attributes.rna-23s                  | 9421                                                                                                                     \n",
      " attributes.trnas                    | 9421                                                                                                                     \n",
      " attributes.nc-rnas                  | 9421                                                                                                                     \n",
      " attributes.num-proteins             | 9421                                                                                                                     \n",
      " attributes.eggnog-coverage          | 9421                                                                                                                     \n",
      " attributes.ipr-coverage             | 9421                                                                                                                     \n",
      " attributes.taxon-lineage            | 9421                                                                                                                     \n",
      " attributes.num-genomes-total        | 9421                                                                                                                     \n",
      " attributes.pangenome-size           | 4456                                                                                                                     \n",
      " attributes.pangenome-core-size      | 4456                                                                                                                     \n",
      " attributes.pangenome-accessory-size | 4456                                                                                                                     \n",
      " attributes.last-update              | 9421                                                                                                                     \n",
      " attributes.first-created            | 9421                                                                                                                     \n",
      " relationships.biome.data.id         | 9421                                                                                                                     \n",
      " relationships.biome.data.type       | 9421                                                                                                                     \n",
      " relationships.catalogue.data.id     | 9421                                                                                                                     \n",
      " relationships.catalogue.data.type   | 9421                                                                                                                     \n",
      " attributes.ncbi-genome-accession    | 133                                                                                                                      \n",
      " attributes.ncbi-sample-accession    | 869                                                                                                                      \n",
      " attributes.ncbi-study-accession     | 756                                                                                                                      \n",
      "-RECORD 1-------------------------------------------------------------------------------------------------------------------------------------------------------\n",
      " summary                             | mean                                                                                                                     \n",
      " type                                | null                                                                                                                     \n",
      " id                                  | null                                                                                                                     \n",
      " attributes.genome-id                | 9355.0                                                                                                                   \n",
      " attributes.geographic-origin        | null                                                                                                                     \n",
      " attributes.accession                | null                                                                                                                     \n",
      " attributes.ena-sample-accession     | null                                                                                                                     \n",
      " attributes.ena-study-accession      | null                                                                                                                     \n",
      " attributes.length                   | 2368922.5665003713                                                                                                       \n",
      " attributes.num-contigs              | 151.3833987899374                                                                                                        \n",
      " attributes.n-50                     | 123226.4390192124                                                                                                        \n",
      " attributes.gc-content               | 47.951392633478235                                                                                                       \n",
      " attributes.type                     | null                                                                                                                     \n",
      " attributes.completeness             | 89.62222269398094                                                                                                        \n",
      " attributes.contamination            | 1.0800191062519993                                                                                                       \n",
      " attributes.rna-5s                   | 25.60162190850182                                                                                                        \n",
      " attributes.rna-16s                  | 20.272170682517864                                                                                                       \n",
      " attributes.rna-23s                  | 18.180766372996413                                                                                                       \n",
      " attributes.trnas                    | 17.125464388069208                                                                                                       \n",
      " attributes.nc-rnas                  | 21.581466935569473                                                                                                       \n",
      " attributes.num-proteins             | 2107.188302727948                                                                                                        \n",
      " attributes.eggnog-coverage          | 89.30559388599937                                                                                                        \n",
      " attributes.ipr-coverage             | 88.30321091179326                                                                                                        \n",
      " attributes.taxon-lineage            | null                                                                                                                     \n",
      " attributes.num-genomes-total        | 31.582528394013373                                                                                                       \n",
      " attributes.pangenome-size           | 3364.979353680431                                                                                                        \n",
      " attributes.pangenome-core-size      | 1252.9001346499103                                                                                                       \n",
      " attributes.pangenome-accessory-size | 2112.0792190305206                                                                                                       \n",
      " attributes.last-update              | null                                                                                                                     \n",
      " attributes.first-created            | null                                                                                                                     \n",
      " relationships.biome.data.id         | null                                                                                                                     \n",
      " relationships.biome.data.type       | null                                                                                                                     \n",
      " relationships.catalogue.data.id     | null                                                                                                                     \n",
      " relationships.catalogue.data.type   | null                                                                                                                     \n",
      " attributes.ncbi-genome-accession    | null                                                                                                                     \n",
      " attributes.ncbi-sample-accession    | null                                                                                                                     \n",
      " attributes.ncbi-study-accession     | null                                                                                                                     \n",
      "-RECORD 2-------------------------------------------------------------------------------------------------------------------------------------------------------\n",
      " summary                             | stddev                                                                                                                   \n",
      " type                                | null                                                                                                                     \n",
      " id                                  | null                                                                                                                     \n",
      " attributes.genome-id                | 2719.752776755024                                                                                                        \n",
      " attributes.geographic-origin        | null                                                                                                                     \n",
      " attributes.accession                | null                                                                                                                     \n",
      " attributes.ena-sample-accession     | null                                                                                                                     \n",
      " attributes.ena-study-accession      | null                                                                                                                     \n",
      " attributes.length                   | 1000659.4724411627                                                                                                       \n",
      " attributes.num-contigs              | 151.63673318044016                                                                                                       \n",
      " attributes.n-50                     | 411428.23676042625                                                                                                       \n",
      " attributes.gc-content               | 10.364966184467969                                                                                                       \n",
      " attributes.type                     | null                                                                                                                     \n",
      " attributes.completeness             | 10.601592944326633                                                                                                       \n",
      " attributes.contamination            | 1.130176460516972                                                                                                        \n",
      " attributes.rna-5s                   | 41.17409094104411                                                                                                        \n",
      " attributes.rna-16s                  | 35.85258518442612                                                                                                        \n",
      " attributes.rna-23s                  | 35.164432273831                                                                                                          \n",
      " attributes.trnas                    | 3.2306208295136187                                                                                                       \n",
      " attributes.nc-rnas                  | 18.928989899416273                                                                                                       \n",
      " attributes.num-proteins             | 864.1145387552573                                                                                                        \n",
      " attributes.eggnog-coverage          | 7.04156405886782                                                                                                         \n",
      " attributes.ipr-coverage             | 4.397153875505659                                                                                                        \n",
      " attributes.taxon-lineage            | null                                                                                                                     \n",
      " attributes.num-genomes-total        | 231.0914748625717                                                                                                        \n",
      " attributes.pangenome-size           | 4815.997455826069                                                                                                        \n",
      " attributes.pangenome-core-size      | 714.044410770206                                                                                                         \n",
      " attributes.pangenome-accessory-size | 4839.513868626893                                                                                                        \n",
      " attributes.last-update              | null                                                                                                                     \n",
      " attributes.first-created            | null                                                                                                                     \n",
      " relationships.biome.data.id         | null                                                                                                                     \n",
      " relationships.biome.data.type       | null                                                                                                                     \n",
      " relationships.catalogue.data.id     | null                                                                                                                     \n",
      " relationships.catalogue.data.type   | null                                                                                                                     \n",
      " attributes.ncbi-genome-accession    | null                                                                                                                     \n",
      " attributes.ncbi-sample-accession    | null                                                                                                                     \n",
      " attributes.ncbi-study-accession     | null                                                                                                                     \n",
      "-RECORD 3-------------------------------------------------------------------------------------------------------------------------------------------------------\n",
      " summary                             | min                                                                                                                      \n",
      " type                                | genomes                                                                                                                  \n",
      " id                                  | MGYG000000001                                                                                                            \n",
      " attributes.genome-id                | 4645                                                                                                                     \n",
      " attributes.geographic-origin        | Africa                                                                                                                   \n",
      " attributes.accession                | MGYG000000001                                                                                                            \n",
      " attributes.ena-sample-accession     | DRS026393                                                                                                                \n",
      " attributes.ena-study-accession      | DRP003048                                                                                                                \n",
      " attributes.length                   | 341836                                                                                                                   \n",
      " attributes.num-contigs              | 1                                                                                                                        \n",
      " attributes.n-50                     | 1772                                                                                                                     \n",
      " attributes.gc-content               | 22.94                                                                                                                    \n",
      " attributes.type                     | Isolate                                                                                                                  \n",
      " attributes.completeness             | 50.06                                                                                                                    \n",
      " attributes.contamination            | 0.0                                                                                                                      \n",
      " attributes.rna-5s                   | 0.0                                                                                                                      \n",
      " attributes.rna-16s                  | 0.0                                                                                                                      \n",
      " attributes.rna-23s                  | 0.0                                                                                                                      \n",
      " attributes.trnas                    | 1.0                                                                                                                      \n",
      " attributes.nc-rnas                  | 0                                                                                                                        \n",
      " attributes.num-proteins             | 357                                                                                                                      \n",
      " attributes.eggnog-coverage          | 24.17                                                                                                                    \n",
      " attributes.ipr-coverage             | 34.74                                                                                                                    \n",
      " attributes.taxon-lineage            | d__Archaea;p__Halobacteriota;c__Halobacteria;o__Halobacteriales;f__Haloferacaceae;g__Haloferax;s__Haloferax massiliensis \n",
      " attributes.num-genomes-total        | 1                                                                                                                        \n",
      " attributes.pangenome-size           | 255.0                                                                                                                    \n",
      " attributes.pangenome-core-size      | 0.0                                                                                                                      \n",
      " attributes.pangenome-accessory-size | 0.0                                                                                                                      \n",
      " attributes.last-update              | 2021-12-07T17:55:25.649984                                                                                               \n",
      " attributes.first-created            | 2021-12-07T17:55:25.600900                                                                                               \n",
      " relationships.biome.data.id         | root:Environmental:Aquatic:Marine                                                                                        \n",
      " relationships.biome.data.type       | biomes                                                                                                                   \n",
      " relationships.catalogue.data.id     | cow-rumen-v1-0                                                                                                           \n",
      " relationships.catalogue.data.type   | genome-catalogues                                                                                                        \n",
      " attributes.ncbi-genome-accession    | GCA_003638725                                                                                                            \n",
      " attributes.ncbi-sample-accession    | SAMD00019865                                                                                                             \n",
      " attributes.ncbi-study-accession     | PRJDB259                                                                                                                 \n",
      "-RECORD 4-------------------------------------------------------------------------------------------------------------------------------------------------------\n",
      " summary                             | max                                                                                                                      \n",
      " type                                | genomes                                                                                                                  \n",
      " id                                  | MGYG000299273                                                                                                            \n",
      " attributes.genome-id                | 14065                                                                                                                    \n",
      " attributes.geographic-origin        | not provided                                                                                                             \n",
      " attributes.accession                | MGYG000299273                                                                                                            \n",
      " attributes.ena-sample-accession     | SRS935445                                                                                                                \n",
      " attributes.ena-study-accession      | SRP311368                                                                                                                \n",
      " attributes.length                   | 11357224                                                                                                                 \n",
      " attributes.num-contigs              | 1955                                                                                                                     \n",
      " attributes.n-50                     | 6802552                                                                                                                  \n",
      " attributes.gc-content               | 74.84                                                                                                                    \n",
      " attributes.type                     | MAG                                                                                                                      \n",
      " attributes.completeness             | 100.0                                                                                                                    \n",
      " attributes.contamination            | 5.0                                                                                                                      \n",
      " attributes.rna-5s                   | 95.8                                                                                                                     \n",
      " attributes.rna-16s                  | 99.74                                                                                                                    \n",
      " attributes.rna-23s                  | 99.86                                                                                                                    \n",
      " attributes.trnas                    | 20.0                                                                                                                     \n",
      " attributes.nc-rnas                  | 271                                                                                                                      \n",
      " attributes.num-proteins             | 9488                                                                                                                     \n",
      " attributes.eggnog-coverage          | 99.5                                                                                                                     \n",
      " attributes.ipr-coverage             | 97.59                                                                                                                    \n",
      " attributes.taxon-lineage            | d__Bacteria;p__Zixibacteria;c__MSB-5A5;o__GN15;f__FEB-12;g__QQUK01;s__                                                   \n",
      " attributes.num-genomes-total        | 8314                                                                                                                     \n",
      " attributes.pangenome-size           | 125448.0                                                                                                                 \n",
      " attributes.pangenome-core-size      | 8903.0                                                                                                                   \n",
      " attributes.pangenome-accessory-size | 124208.0                                                                                                                 \n",
      " attributes.last-update              | 2021-12-17T12:09:44.586805                                                                                               \n",
      " attributes.first-created            | 2021-12-15T12:24:13.903255                                                                                               \n",
      " relationships.biome.data.id         | root:Host-associated:Mammals:Digestive system:Stomach:Rumen                                                              \n",
      " relationships.biome.data.type       | biomes                                                                                                                   \n",
      " relationships.catalogue.data.id     | marine-v1-0                                                                                                              \n",
      " relationships.catalogue.data.type   | genome-catalogues                                                                                                        \n",
      " attributes.ncbi-genome-accession    | GCA_015354175                                                                                                            \n",
      " attributes.ncbi-sample-accession    | SAMN14602682                                                                                                             \n",
      " attributes.ncbi-study-accession     | PRJNA82453                                                                                                               \n",
      "\n"
     ]
    },
    {
     "name": "stderr",
     "output_type": "stream",
     "text": [
      "                                                                                \r"
     ]
    }
   ],
   "source": [
    "all_df.describe().show(truncate=False, vertical=True)"
   ]
  },
  {
   "cell_type": "markdown",
   "id": "4a9077cd-db25-410f-b60a-1397afac34d5",
   "metadata": {},
   "source": [
    "### Get the most represented genus in the dataset"
   ]
  },
  {
   "cell_type": "code",
   "execution_count": 23,
   "id": "45f8f1ce-8afd-4fc2-ac92-637c064c444d",
   "metadata": {},
   "outputs": [
    {
     "name": "stdout",
     "output_type": "stream",
     "text": [
      "+-------------------------------------------------------------------------------------------------------------------------------------+\n",
      "|attributes.taxon-lineage                                                                                                             |\n",
      "+-------------------------------------------------------------------------------------------------------------------------------------+\n",
      "|d__Bacteria;p__Firmicutes_C;c__Negativicutes;o__Veillonellales;f__Megasphaeraceae;g__Anaeroglobus;s__Anaeroglobus micronuciformis    |\n",
      "|d__Bacteria;p__Bacteroidota;c__Bacteroidia;o__Bacteroidales;f__Bacteroidaceae;g__Prevotella;s__Prevotella loescheii                  |\n",
      "|d__Bacteria;p__Firmicutes;c__Bacilli;o__Lactobacillales;f__Streptococcaceae;g__Streptococcus;s__Streptococcus pneumoniae_D           |\n",
      "|d__Bacteria;p__Patescibacteria;c__Saccharimonadia;o__Saccharimonadales;f__Saccharimonadaceae;g__UMGS1907;s__                         |\n",
      "|d__Bacteria;p__Firmicutes_C;c__Negativicutes;o__Selenomonadales;f__Selenomonadaceae;g__Centipeda;s__                                 |\n",
      "|d__Bacteria;p__Firmicutes_C;c__Negativicutes;o__Selenomonadales;f__Selenomonadaceae;g__Selenomonas;s__                               |\n",
      "|d__Bacteria;p__Firmicutes_A;c__Clostridia;o__Lachnospirales;f__Lachnospiraceae;g__Johnsonella;s__                                    |\n",
      "|d__Bacteria;p__Proteobacteria;c__Gammaproteobacteria;o__Enterobacterales;f__Pasteurellaceae;g__Haemophilus_D;s__                     |\n",
      "|d__Bacteria;p__Actinobacteriota;c__Actinomycetia;o__Actinomycetales;f__Actinomycetaceae;g__Pauljensenia;s__Pauljensenia hongkongensis|\n",
      "|d__Bacteria;p__Firmicutes;c__Bacilli;o__Lactobacillales;f__Streptococcaceae;g__Streptococcus;s__                                     |\n",
      "|d__Bacteria;p__Actinobacteriota;c__Actinomycetia;o__Actinomycetales;f__Micrococcaceae;g__Rothia;s__Rothia mucilaginosa_B             |\n",
      "|d__Bacteria;p__Patescibacteria;c__Gracilibacteria;o__Absconditabacterales;f__X112;g__HOT-345;s__HOT-345 sp013333605                  |\n",
      "|d__Bacteria;p__Proteobacteria;c__Gammaproteobacteria;o__Burkholderiales;f__Neisseriaceae;g__Neisseria;s__Neisseria sp000186165       |\n",
      "|d__Bacteria;p__Firmicutes;c__Bacilli;o__Lactobacillales;f__Streptococcaceae;g__Streptococcus;s__                                     |\n",
      "|d__Bacteria;p__Actinobacteriota;c__Actinomycetia;o__Propionibacteriales;f__Propionibacteriaceae;g__Arachnia;s__Arachnia propionica   |\n",
      "|d__Bacteria;p__Patescibacteria;c__Saccharimonadia;o__Saccharimonadales;f__Saccharimonadaceae;g__UBA2866;s__UBA2866 sp013333375       |\n",
      "|d__Bacteria;p__Bacteroidota;c__Bacteroidia;o__Flavobacteriales;f__Flavobacteriaceae;g__Capnocytophaga;s__                            |\n",
      "|d__Bacteria;p__Actinobacteriota;c__Coriobacteriia;o__Coriobacteriales;f__Atopobiaceae;g__Lancefieldella;s__Lancefieldella sp000564995|\n",
      "|d__Bacteria;p__Firmicutes_C;c__Negativicutes;o__Selenomonadales;f__Selenomonadaceae;g__Centipeda;s__                                 |\n",
      "|d__Bacteria;p__Actinobacteriota;c__Actinomycetia;o__Actinomycetales;f__Actinomycetaceae;g__Pauljensenia;s__Pauljensenia sp000466265  |\n",
      "+-------------------------------------------------------------------------------------------------------------------------------------+\n",
      "only showing top 20 rows\n",
      "\n"
     ]
    }
   ],
   "source": [
    "all_df.select(f'`attributes.taxon-lineage`').show(truncate=False)"
   ]
  },
  {
   "cell_type": "markdown",
   "id": "e9e19728-338d-409c-bae8-fc3d7f6f0c2b",
   "metadata": {},
   "source": [
    "Give a sample of `taxon-lineage` present in the dataset. "
   ]
  },
  {
   "cell_type": "code",
   "execution_count": 24,
   "id": "6bdf9cda-16bc-4943-a61c-dd02dd8b1d1c",
   "metadata": {},
   "outputs": [
    {
     "data": {
      "text/plain": [
       "9421"
      ]
     },
     "execution_count": 24,
     "metadata": {},
     "output_type": "execute_result"
    }
   ],
   "source": [
    "all_df.select('`id`').distinct().count()"
   ]
  },
  {
   "cell_type": "code",
   "execution_count": 25,
   "id": "feb1e9cd-06e7-4bb5-ba87-13c0e8817f50",
   "metadata": {},
   "outputs": [
    {
     "data": {
      "text/plain": [
       "7352"
      ]
     },
     "execution_count": 25,
     "metadata": {},
     "output_type": "execute_result"
    }
   ],
   "source": [
    "all_df.select('`attributes.taxon-lineage`').distinct().count()"
   ]
  },
  {
   "cell_type": "markdown",
   "id": "4588cc3b-4348-426c-b4da-79a482489324",
   "metadata": {},
   "source": [
    "9421 entries/ids and 7352 unique taxons."
   ]
  },
  {
   "cell_type": "markdown",
   "id": "05ae93e5-fc44-4e71-a409-a8c6e8dec003",
   "metadata": {},
   "source": [
    "#### Split the taxon-lineage column into 7 columns"
   ]
  },
  {
   "cell_type": "code",
   "execution_count": 26,
   "id": "dad9f170-2144-491a-8dec-9d5d004cd118",
   "metadata": {},
   "outputs": [],
   "source": [
    "all_df1 = (all_df\n",
    "           .withColumn('lineage_split', F.split(F.col('`attributes.taxon-lineage`'), ';'))\n",
    "           .withColumn('domain', F.col('lineage_split')[0])\n",
    "           .withColumn('phylum', F.col('lineage_split')[1])\n",
    "           .withColumn('class', F.col('lineage_split')[2])\n",
    "           .withColumn('order', F.col('lineage_split')[3])\n",
    "           .withColumn('family', F.col('lineage_split')[4])\n",
    "           .withColumn('genus', F.col('lineage_split')[5])\n",
    "           .withColumn('species', F.col('lineage_split')[6])\n",
    "           .withColumn('subspecies', F.col('lineage_split')[7])\n",
    "          )"
   ]
  },
  {
   "cell_type": "markdown",
   "id": "e24ab5c4-7bc3-46c1-a8fc-58e357788adf",
   "metadata": {},
   "source": [
    "#### Query examples on taxon-lineage column:\n",
    "To search the most represented species (Here return Collinsell genus with no species annotated)"
   ]
  },
  {
   "cell_type": "code",
   "execution_count": 27,
   "id": "768060a1-a1d2-4727-a1c8-f5fac7012901",
   "metadata": {},
   "outputs": [
    {
     "name": "stdout",
     "output_type": "stream",
     "text": [
      "+-------------------------------------------------------------------------------------------------------------+-----+\n",
      "|attributes.taxon-lineage                                                                                     |count|\n",
      "+-------------------------------------------------------------------------------------------------------------+-----+\n",
      "|d__Bacteria;p__Actinobacteriota;c__Coriobacteriia;o__Coriobacteriales;f__Coriobacteriaceae;g__Collinsella;s__|226  |\n",
      "+-------------------------------------------------------------------------------------------------------------+-----+\n",
      "\n"
     ]
    }
   ],
   "source": [
    "all_df1.groupby('`attributes.taxon-lineage`').count().filter(F.col('count')>100).show(truncate=False)"
   ]
  },
  {
   "cell_type": "markdown",
   "id": "5a083adf-34fa-4e6d-a110-694134bfb8b8",
   "metadata": {},
   "source": [
    "To search for a particular lineage:"
   ]
  },
  {
   "cell_type": "code",
   "execution_count": 28,
   "id": "20f82e09-fc23-4861-bb21-265858ef7de1",
   "metadata": {},
   "outputs": [
    {
     "data": {
      "text/plain": [
       "584"
      ]
     },
     "execution_count": 28,
     "metadata": {},
     "output_type": "execute_result"
    }
   ],
   "source": [
    "all_df1.filter(F.col('`attributes.taxon-lineage`').startswith('d__Bacteria;p__Actinobacteriota;c__Coriobacteriia;o__Coriobacteriales;f__Coriobacteriaceae;g__Collinsella')).count()"
   ]
  },
  {
   "cell_type": "markdown",
   "id": "ccc58fc2-0d3f-4b9b-a02b-7f6b4047203f",
   "metadata": {},
   "source": [
    "To search for a particular genus:"
   ]
  },
  {
   "cell_type": "code",
   "execution_count": 29,
   "id": "040613b3-d1b2-491d-9aef-3430f88dc0ee",
   "metadata": {},
   "outputs": [
    {
     "data": {
      "text/plain": [
       "584"
      ]
     },
     "execution_count": 29,
     "metadata": {},
     "output_type": "execute_result"
    }
   ],
   "source": [
    "all_df1.filter(F.col('`attributes.taxon-lineage`').contains('Collinsella')).count()"
   ]
  },
  {
   "cell_type": "markdown",
   "id": "43c4ea7e-18ae-40c9-a190-8e40ff2974f0",
   "metadata": {},
   "source": [
    "#### Query examples on newly created columns:\n",
    "To search for the most or least represented genus for example:"
   ]
  },
  {
   "cell_type": "code",
   "execution_count": 30,
   "id": "7eeb4646-ccc8-416b-ace9-9b2b2dee1a22",
   "metadata": {},
   "outputs": [
    {
     "name": "stdout",
     "output_type": "stream",
     "text": [
      "+--------------+-----+\n",
      "|         genus|count|\n",
      "+--------------+-----+\n",
      "| g__Prevotella|  351|\n",
      "|        g__RC9|  152|\n",
      "|           g__|  325|\n",
      "|g__Collinsella|  584|\n",
      "+--------------+-----+\n",
      "\n"
     ]
    }
   ],
   "source": [
    "all_df1.groupby('genus').count().filter(F.col('count')>100).show()"
   ]
  },
  {
   "cell_type": "code",
   "execution_count": 31,
   "id": "7aba74f0-5582-42d1-8304-c2147c788adb",
   "metadata": {},
   "outputs": [
    {
     "name": "stdout",
     "output_type": "stream",
     "text": [
      "+-----------+-------------------+-----------------+-------------------+--------------------+--------------+----------------------------+----------+\n",
      "|domain     |phylum             |class            |order              |family              |genus         |species                     |subspecies|\n",
      "+-----------+-------------------+-----------------+-------------------+--------------------+--------------+----------------------------+----------+\n",
      "|d__Bacteria|p__Actinobacteriota|c__Coriobacteriia|o__Coriobacteriales|f__Coriobacteriaceae|g__Collinsella|s__Collinsella sp900556445  |null      |\n",
      "|d__Bacteria|p__Actinobacteriota|c__Coriobacteriia|o__Coriobacteriales|f__Coriobacteriaceae|g__Collinsella|s__Collinsella sp900544135  |null      |\n",
      "|d__Bacteria|p__Actinobacteriota|c__Coriobacteriia|o__Coriobacteriales|f__Coriobacteriaceae|g__Collinsella|s__Collinsella sp900755685  |null      |\n",
      "|d__Bacteria|p__Actinobacteriota|c__Coriobacteriia|o__Coriobacteriales|f__Coriobacteriaceae|g__Collinsella|s__Collinsella sp900761085  |null      |\n",
      "|d__Bacteria|p__Actinobacteriota|c__Coriobacteriia|o__Coriobacteriales|f__Coriobacteriaceae|g__Collinsella|s__Collinsella sp900542165  |null      |\n",
      "|d__Bacteria|p__Actinobacteriota|c__Coriobacteriia|o__Coriobacteriales|f__Coriobacteriaceae|g__Collinsella|s__Collinsella sp900547345  |null      |\n",
      "|d__Bacteria|p__Actinobacteriota|c__Coriobacteriia|o__Coriobacteriales|f__Coriobacteriaceae|g__Collinsella|s__Collinsella sp900758375  |null      |\n",
      "|d__Bacteria|p__Actinobacteriota|c__Coriobacteriia|o__Coriobacteriales|f__Coriobacteriaceae|g__Collinsella|s__Collinsella sp900541665  |null      |\n",
      "|d__Bacteria|p__Actinobacteriota|c__Coriobacteriia|o__Coriobacteriales|f__Coriobacteriaceae|g__Collinsella|s__Collinsella sp902362275  |null      |\n",
      "|d__Bacteria|p__Actinobacteriota|c__Coriobacteriia|o__Coriobacteriales|f__Coriobacteriaceae|g__Collinsella|s__Collinsella sp900754075  |null      |\n",
      "|d__Bacteria|p__Actinobacteriota|c__Coriobacteriia|o__Coriobacteriales|f__Coriobacteriaceae|g__Collinsella|s__Collinsella sp900542905  |null      |\n",
      "|d__Bacteria|p__Actinobacteriota|c__Coriobacteriia|o__Coriobacteriales|f__Coriobacteriaceae|g__Collinsella|s__Collinsella sp900556495  |null      |\n",
      "|d__Bacteria|p__Actinobacteriota|c__Coriobacteriia|o__Coriobacteriales|f__Coriobacteriaceae|g__Collinsella|s__Collinsella sp900768265  |null      |\n",
      "|d__Bacteria|p__Actinobacteriota|c__Coriobacteriia|o__Coriobacteriales|f__Coriobacteriaceae|g__Collinsella|s__Collinsella sp900540995  |null      |\n",
      "|d__Bacteria|p__Actinobacteriota|c__Coriobacteriia|o__Coriobacteriales|f__Coriobacteriaceae|g__Collinsella|s__Collinsella sp900549345  |null      |\n",
      "|d__Bacteria|p__Actinobacteriota|c__Coriobacteriia|o__Coriobacteriales|f__Coriobacteriaceae|g__Collinsella|s__Collinsella sp900547025  |null      |\n",
      "|d__Bacteria|p__Actinobacteriota|c__Coriobacteriia|o__Coriobacteriales|f__Coriobacteriaceae|g__Collinsella|s__Collinsella aerofaciens_J|null      |\n",
      "|d__Bacteria|p__Actinobacteriota|c__Coriobacteriia|o__Coriobacteriales|f__Coriobacteriaceae|g__Collinsella|s__Collinsella sp900757495  |null      |\n",
      "|d__Bacteria|p__Actinobacteriota|c__Coriobacteriia|o__Coriobacteriales|f__Coriobacteriaceae|g__Collinsella|s__                         |null      |\n",
      "|d__Bacteria|p__Actinobacteriota|c__Coriobacteriia|o__Coriobacteriales|f__Coriobacteriaceae|g__Collinsella|s__Collinsella sp900555815  |null      |\n",
      "+-----------+-------------------+-----------------+-------------------+--------------------+--------------+----------------------------+----------+\n",
      "only showing top 20 rows\n",
      "\n"
     ]
    }
   ],
   "source": [
    "all_df1.filter(F.col('genus')=='g__Collinsella').select('domain', 'phylum', 'class', 'order', 'family', 'genus', 'species', 'subspecies').distinct().show(truncate=False)"
   ]
  },
  {
   "cell_type": "code",
   "execution_count": 32,
   "id": "95b4b06e-6815-44a1-9f06-39811899e176",
   "metadata": {},
   "outputs": [
    {
     "data": {
      "text/plain": [
       "277"
      ]
     },
     "execution_count": 32,
     "metadata": {},
     "output_type": "execute_result"
    }
   ],
   "source": [
    "all_df1.filter(F.col('genus')=='g__Collinsella').select('domain', 'phylum', 'class', 'order', 'family', 'genus', 'species', 'subspecies').distinct().count()"
   ]
  },
  {
   "cell_type": "code",
   "execution_count": 33,
   "id": "d66ba971-bc47-4840-aed4-4ab62245ed6d",
   "metadata": {},
   "outputs": [
    {
     "name": "stdout",
     "output_type": "stream",
     "text": [
      "+----------------------------+\n",
      "|species                     |\n",
      "+----------------------------+\n",
      "|s__Collinsella sp900547765  |\n",
      "|s__Collinsella sp900548935  |\n",
      "|s__Collinsella aerofaciens_N|\n",
      "|s__Collinsella sp900754445  |\n",
      "|s__Collinsella sp900549455  |\n",
      "|s__Collinsella sp900549715  |\n",
      "|s__Collinsella sp900541195  |\n",
      "|s__Collinsella sp003466125  |\n",
      "|s__Collinsella sp900555765  |\n",
      "|s__Collinsella sp900547505  |\n",
      "|s__Collinsella sp900544995  |\n",
      "|s__Collinsella sp900551555  |\n",
      "|s__Collinsella sp900556495  |\n",
      "|s__Collinsella sp900556415  |\n",
      "|s__Collinsella sp003438495  |\n",
      "|s__Collinsella sp900554255  |\n",
      "|s__Collinsella sp900548565  |\n",
      "|s__Collinsella sp900545615  |\n",
      "|s__Collinsella sp900553415  |\n",
      "|s__Collinsella sp900545165  |\n",
      "+----------------------------+\n",
      "only showing top 20 rows\n",
      "\n"
     ]
    }
   ],
   "source": [
    "all_df1.filter(F.col('genus')=='g__Collinsella').select('species').distinct().show(truncate=False)"
   ]
  },
  {
   "cell_type": "markdown",
   "id": "3e4c9488-8d3f-45a8-a3ba-fe5480a7ad11",
   "metadata": {},
   "source": [
    "## Graphical representation"
   ]
  },
  {
   "cell_type": "code",
   "execution_count": 34,
   "id": "a43b73bf-78f7-4515-a885-1c1aec0c9bdc",
   "metadata": {},
   "outputs": [],
   "source": [
    "#! pip install plotly\n",
    "#! pip install ipywidgets"
   ]
  },
  {
   "cell_type": "code",
   "execution_count": 35,
   "id": "dfb01512-ad4c-4563-b02b-17be2018fe49",
   "metadata": {},
   "outputs": [
    {
     "data": {
      "text/plain": [
       "9421"
      ]
     },
     "execution_count": 35,
     "metadata": {},
     "output_type": "execute_result"
    }
   ],
   "source": [
    "all_df1.count()"
   ]
  },
  {
   "cell_type": "markdown",
   "id": "a4dd561e-8ad4-44d6-9aae-c4226e1378e6",
   "metadata": {},
   "source": [
    "#### Representation of the bacterial taxon-lineage"
   ]
  },
  {
   "cell_type": "markdown",
   "id": "f6234f70-fd2b-49b1-a631-0feae0194342",
   "metadata": {},
   "source": [
    "Gives an idea of the representation (proportional) of each taxon in the dataset."
   ]
  },
  {
   "cell_type": "code",
   "execution_count": 36,
   "id": "fa1d2075-2bf5-4965-a2d9-34653a5579a5",
   "metadata": {},
   "outputs": [],
   "source": [
    "#test_df.shape"
   ]
  },
  {
   "cell_type": "code",
   "execution_count": 37,
   "id": "21e42f1a-d0b6-465b-95dd-55ea06c12152",
   "metadata": {},
   "outputs": [],
   "source": [
    "#test_df = all_df1.toPandas()"
   ]
  },
  {
   "cell_type": "code",
   "execution_count": 38,
   "id": "3feaaf56-d6a7-48f6-84bb-85df23360a83",
   "metadata": {},
   "outputs": [],
   "source": [
    "#test_df.to_parquet('outputs/all_genome_lineage_cols')"
   ]
  },
  {
   "cell_type": "markdown",
   "id": "f28b0b6e-903b-4d2d-8a31-f756383ad08f",
   "metadata": {},
   "source": [
    "List of the features used for the graphical representation:"
   ]
  },
  {
   "cell_type": "code",
   "execution_count": 39,
   "id": "57ffba75-87e1-463c-b820-c8bcc6b43755",
   "metadata": {},
   "outputs": [],
   "source": [
    "features = all_df1.columns[-8:]"
   ]
  },
  {
   "cell_type": "code",
   "execution_count": 40,
   "id": "f37da256-d9c7-4093-a1bd-9a2485f4b69d",
   "metadata": {},
   "outputs": [
    {
     "data": {
      "text/plain": [
       "['domain',\n",
       " 'phylum',\n",
       " 'class',\n",
       " 'order',\n",
       " 'family',\n",
       " 'genus',\n",
       " 'species',\n",
       " 'subspecies']"
      ]
     },
     "execution_count": 40,
     "metadata": {},
     "output_type": "execute_result"
    }
   ],
   "source": [
    "features "
   ]
  },
  {
   "cell_type": "code",
   "execution_count": 41,
   "id": "c49ec428-80e0-4538-b664-568c444f2d0b",
   "metadata": {},
   "outputs": [
    {
     "name": "stdout",
     "output_type": "stream",
     "text": [
      "+----------------------+----------------------+---------------------+---------------------+----------------------+---------------------+-----------------------+--------------------------+\n",
      "|count(DISTINCT domain)|count(DISTINCT phylum)|count(DISTINCT class)|count(DISTINCT order)|count(DISTINCT family)|count(DISTINCT genus)|count(DISTINCT species)|count(DISTINCT subspecies)|\n",
      "+----------------------+----------------------+---------------------+---------------------+----------------------+---------------------+-----------------------+--------------------------+\n",
      "|                     2|                    56|                  107|                  293|                   585|                 1991|                   6263|                         0|\n",
      "+----------------------+----------------------+---------------------+---------------------+----------------------+---------------------+-----------------------+--------------------------+\n",
      "\n"
     ]
    }
   ],
   "source": [
    "all_df1.select([F.count_distinct(x) for x in ['domain', 'phylum', 'class', 'order', 'family', 'genus', 'species', 'subspecies']]).show()"
   ]
  },
  {
   "cell_type": "markdown",
   "id": "e9e1aba4-cf38-4a9b-86ab-e8f248d4c46c",
   "metadata": {},
   "source": [
    "Function used for graphic representation:"
   ]
  },
  {
   "cell_type": "code",
   "execution_count": 42,
   "id": "b42163b3-83a3-4e6c-9cdd-540f80f0bcaa",
   "metadata": {
    "scrolled": true,
    "tags": []
   },
   "outputs": [],
   "source": [
    "def get_Sankey(df,cat_cols=[],value_cols='', title='Sankey Diagram'):\n",
    "    # maximum of 6 value cols -> 6 colors\n",
    "    colorPalette = ['rgba(31, 119, 180, 0.8)',\n",
    "     'rgba(255, 127, 14, 0.8)',\n",
    "     'rgba(44, 160, 44, 0.8)',\n",
    "     'rgba(214, 39, 40, 0.8)',\n",
    "     'rgba(148, 103, 189, 0.8)',\n",
    "     'rgba(140, 86, 75, 0.8)',\n",
    "     'rgba(227, 119, 194, 0.8)',\n",
    "     'rgba(127, 127, 127, 0.8)']\n",
    "    labelList = []\n",
    "    colorNumList = []\n",
    "    for catCol in cat_cols:\n",
    "        labelListTemp =  list(set(df[catCol].values))\n",
    "        colorNumList.append(len(labelListTemp))\n",
    "        labelList = labelList + labelListTemp\n",
    " \n",
    "    # remove duplicates from labelList\n",
    "    labelList = list(dict.fromkeys(labelList))\n",
    " \n",
    "    # define colors based on number of levels\n",
    "    colorList = []\n",
    "    for idx, colorNum in enumerate(colorNumList):\n",
    "        colorList = colorList + [colorPalette[idx]]*colorNum\n",
    "\n",
    "    # transform df into a source-target pair\n",
    "    for i in range(len(cat_cols)-1):\n",
    "        if i==0:\n",
    "            sourceTargetDf = df[[cat_cols[i],cat_cols[i+1],value_cols]]\n",
    "            sourceTargetDf.columns = ['source','target','count']\n",
    "        else:\n",
    "            tempDf = df[[cat_cols[i],cat_cols[i+1],value_cols]]\n",
    "            tempDf.columns = ['source','target','count']\n",
    "            sourceTargetDf = pd.concat([sourceTargetDf,tempDf])\n",
    "        sourceTargetDf = sourceTargetDf.groupby(['source','target']).agg({'count':'sum'}).reset_index()\n",
    " \n",
    "    # add index for source-target pair\n",
    "    sourceTargetDf['sourceID'] = sourceTargetDf['source'].apply(lambda x: labelList.index(x))\n",
    "    sourceTargetDf['targetID'] = sourceTargetDf['target'].apply(lambda x: labelList.index(x))\n",
    " \n",
    "    # creating data for the sankey diagram\n",
    "    data = dict(\n",
    "        type='sankey',\n",
    "        node = dict(\n",
    "            pad = 15,\n",
    "            thickness = 20,\n",
    "            line = dict(\n",
    "                color = \"black\",\n",
    "                width = 0.5\n",
    "            ),\n",
    "            label = labelList,\n",
    "            color = colorList\n",
    "        ),\n",
    "        link = dict(\n",
    "            source = sourceTargetDf['sourceID'],\n",
    "            target = sourceTargetDf['targetID'],\n",
    "            value = sourceTargetDf['count']\n",
    "        )\n",
    "    )\n",
    "    \n",
    "    # override gray link colors with 'source' colors\n",
    "    opacity = 0.4\n",
    "    # change 'magenta' to its 'rgba' value to add opacity\n",
    "    data['node']['color'] = ['rgba(255,0,255, 0.8)' if color == \"magenta\" else color for color in data['node']['color']]\n",
    "    data['link']['color'] = [data['node']['color'][src].replace(\"0.8\", str(opacity))\n",
    "                                        for src in data['link']['source']]\n",
    "    \n",
    "    \n",
    "    fig = go.Figure(data=[go.Sankey(\n",
    "    # Define nodes\n",
    "    node = dict(\n",
    "      pad = 15,\n",
    "      thickness = 15,\n",
    "      line = dict(color = \"black\", width = 0.5),\n",
    "      label =  data['node']['label'],\n",
    "      color =  data['node']['color']\n",
    "    ),\n",
    "    # Add links\n",
    "    link = dict(\n",
    "      source =  data['link']['source'],\n",
    "      target =  data['link']['target'],\n",
    "      value =  data['link']['value'],\n",
    "      color =  data['link']['color']\n",
    "    ))])\n",
    "    \n",
    "    fig.update_layout(title_text=title, font_size=10)\n",
    "    \n",
    "    return fig.show(renderer='iframe')"
   ]
  },
  {
   "cell_type": "markdown",
   "id": "49451ac7-7fd6-4a63-a859-13509967ec29",
   "metadata": {},
   "source": [
    "Taxon-lineage represented in Genomes dataset"
   ]
  },
  {
   "cell_type": "code",
   "execution_count": 43,
   "id": "4aa7a0bf-f182-432a-9e43-17667a3cff7d",
   "metadata": {},
   "outputs": [],
   "source": [
    "pdf = all_df1.select(features).groupby(features).count().toPandas()"
   ]
  },
  {
   "cell_type": "code",
   "execution_count": 44,
   "id": "64aec10b-0ad0-49eb-91ab-da002aec2d5f",
   "metadata": {},
   "outputs": [
    {
     "data": {
      "text/html": [
       "<iframe\n",
       "    scrolling=\"no\"\n",
       "    width=\"100%\"\n",
       "    height=\"545px\"\n",
       "    src=\"iframe_figures/figure_44.html\"\n",
       "    frameborder=\"0\"\n",
       "    allowfullscreen\n",
       "></iframe>\n"
      ]
     },
     "metadata": {},
     "output_type": "display_data"
    }
   ],
   "source": [
    "fig = get_Sankey(pdf,cat_cols=features[0:4], value_cols='count', title='Taxon-lineage represented in Genomes dataset')"
   ]
  },
  {
   "cell_type": "markdown",
   "id": "c06326ba-091b-4244-80ea-f4cc0edc115b",
   "metadata": {},
   "source": [
    "#### Representation of a sample of the genomes present in the dataset: Example of the order of the Lactobacillales."
   ]
  },
  {
   "cell_type": "code",
   "execution_count": 45,
   "id": "f3e00eea-1076-4955-8076-6135e6fe51ab",
   "metadata": {},
   "outputs": [],
   "source": [
    "pdf_lactobacillales = all_df1.filter(F.col('order')=='o__Lactobacillales').select(features).groupby(features).count().toPandas()"
   ]
  },
  {
   "cell_type": "code",
   "execution_count": 46,
   "id": "714bd0a1-265d-4d00-bd92-cdf8d110a166",
   "metadata": {},
   "outputs": [
    {
     "data": {
      "text/html": [
       "<iframe\n",
       "    scrolling=\"no\"\n",
       "    width=\"100%\"\n",
       "    height=\"545px\"\n",
       "    src=\"iframe_figures/figure_46.html\"\n",
       "    frameborder=\"0\"\n",
       "    allowfullscreen\n",
       "></iframe>\n"
      ]
     },
     "metadata": {},
     "output_type": "display_data"
    }
   ],
   "source": [
    "fig_l = get_Sankey(pdf_lactobacillales,cat_cols=features[0:6], value_cols='count',title='Genomes from the Lactobacillales order')"
   ]
  },
  {
   "cell_type": "code",
   "execution_count": 47,
   "id": "5d90316c-19d4-44e5-aecf-34ff212c2398",
   "metadata": {},
   "outputs": [
    {
     "data": {
      "text/plain": [
       "164"
      ]
     },
     "execution_count": 47,
     "metadata": {},
     "output_type": "execute_result"
    }
   ],
   "source": [
    "all_df1.filter(F.col('order')=='o__Lactobacillales').select('species').distinct().count()"
   ]
  },
  {
   "cell_type": "markdown",
   "id": "e1f42e27-5db8-4d94-8779-2c796cd5838d",
   "metadata": {},
   "source": [
    "### Information such as genome length or GC-content can also be represented"
   ]
  },
  {
   "cell_type": "markdown",
   "id": "b193dc08-a673-4183-b0b1-d6bf260556ec",
   "metadata": {},
   "source": [
    "Representation can be made by family, genus, species... depending on the number of sequence available and on the biological significance."
   ]
  },
  {
   "cell_type": "code",
   "execution_count": 48,
   "id": "ec928cc0-3fd4-4d5e-a11b-aaa0a5e524f6",
   "metadata": {},
   "outputs": [],
   "source": [
    "lactobacillales_df = all_df1.filter(F.col('order')=='o__Lactobacillales').orderBy('family').toPandas()\n",
    "lactobacillales_count = all_df1.filter(F.col('order')=='o__Lactobacillales').groupby('family').count().orderBy('family').toPandas()"
   ]
  },
  {
   "cell_type": "code",
   "execution_count": 49,
   "id": "540fb8d3-bbed-4498-89ef-2361eaf667a4",
   "metadata": {},
   "outputs": [
    {
     "data": {
      "text/html": [
       "<div>\n",
       "<style scoped>\n",
       "    .dataframe tbody tr th:only-of-type {\n",
       "        vertical-align: middle;\n",
       "    }\n",
       "\n",
       "    .dataframe tbody tr th {\n",
       "        vertical-align: top;\n",
       "    }\n",
       "\n",
       "    .dataframe thead th {\n",
       "        text-align: right;\n",
       "    }\n",
       "</style>\n",
       "<table border=\"1\" class=\"dataframe\">\n",
       "  <thead>\n",
       "    <tr style=\"text-align: right;\">\n",
       "      <th></th>\n",
       "      <th>family</th>\n",
       "      <th>count</th>\n",
       "    </tr>\n",
       "  </thead>\n",
       "  <tbody>\n",
       "    <tr>\n",
       "      <th>0</th>\n",
       "      <td>f__Aerococcaceae</td>\n",
       "      <td>12</td>\n",
       "    </tr>\n",
       "    <tr>\n",
       "      <th>1</th>\n",
       "      <td>f__Enterococcaceae</td>\n",
       "      <td>20</td>\n",
       "    </tr>\n",
       "    <tr>\n",
       "      <th>2</th>\n",
       "      <td>f__Lactobacillaceae</td>\n",
       "      <td>86</td>\n",
       "    </tr>\n",
       "    <tr>\n",
       "      <th>3</th>\n",
       "      <td>f__Listeriaceae</td>\n",
       "      <td>4</td>\n",
       "    </tr>\n",
       "    <tr>\n",
       "      <th>4</th>\n",
       "      <td>f__Streptococcaceae</td>\n",
       "      <td>100</td>\n",
       "    </tr>\n",
       "    <tr>\n",
       "      <th>5</th>\n",
       "      <td>f__Vagococcaceae</td>\n",
       "      <td>2</td>\n",
       "    </tr>\n",
       "  </tbody>\n",
       "</table>\n",
       "</div>"
      ],
      "text/plain": [
       "                family  count\n",
       "0     f__Aerococcaceae     12\n",
       "1   f__Enterococcaceae     20\n",
       "2  f__Lactobacillaceae     86\n",
       "3      f__Listeriaceae      4\n",
       "4  f__Streptococcaceae    100\n",
       "5     f__Vagococcaceae      2"
      ]
     },
     "execution_count": 49,
     "metadata": {},
     "output_type": "execute_result"
    }
   ],
   "source": [
    "lactobacillales_count"
   ]
  },
  {
   "cell_type": "code",
   "execution_count": 50,
   "id": "75dc459c-9a5a-4687-8b26-8d33049ade9d",
   "metadata": {},
   "outputs": [
    {
     "data": {
      "text/plain": [
       "Text(0.5, 0.98, 'Number of genomes avalaible, genome length and GC-content of bacteria belonging the Lactobacillales order')"
      ]
     },
     "execution_count": 50,
     "metadata": {},
     "output_type": "execute_result"
    },
    {
     "data": {
      "image/png": "[encoded data removed]",
      "text/plain": [
       "<Figure size 1000x1000 with 3 Axes>"
      ]
     },
     "metadata": {},
     "output_type": "display_data"
    }
   ],
   "source": [
    "fig = plt.figure(figsize=(10, 10), layout=\"constrained\")\n",
    "spec = fig.add_gridspec(3, 1)\n",
    "\n",
    "ax00 = fig.add_subplot(spec[0, 0])\n",
    "sns.barplot(data=lactobacillales_count, x='family', y='count')\n",
    "plt.ylabel(\"Number of genome available\")\n",
    "\n",
    "ax10 = fig.add_subplot(spec[1, 0])\n",
    "sns.boxplot(data=lactobacillales_df, x='family', y='attributes.length')\n",
    "plt.ylabel(\"Genome length (bp)\")\n",
    "#plt.xlabel(\"Family of the Lactobacillales order\")\n",
    "\n",
    "ax20 = fig.add_subplot(spec[2, 0])\n",
    "sns.boxplot(data=lactobacillales_df, x='family', y='attributes.gc-content')\n",
    "plt.ylabel(\"GC-content (%)\")\n",
    "plt.xlabel(\"Family of the Lactobacillales order\")\n",
    "\n",
    "\n",
    "fig.suptitle('Number of genomes avalaible, genome length and GC-content of bacteria belonging the Lactobacillales order')\n",
    "#plt.savefig(\"outputs/lactobacillales_1.png\",transparent=True)"
   ]
  },
  {
   "cell_type": "code",
   "execution_count": 51,
   "id": "ad370aaa-1c3a-4fe4-bc06-887b9f5b8553",
   "metadata": {},
   "outputs": [
    {
     "data": {
      "text/plain": [
       "Text(0.5, 0.98, 'Biome and Catalogue related to bacteria belonging the Lactobacillales order')"
      ]
     },
     "execution_count": 51,
     "metadata": {},
     "output_type": "execute_result"
    },
    {
     "data": {
      "image/png": "[encoded data removed]",
      "text/plain": [
       "<Figure size 2000x500 with 1 Axes>"
      ]
     },
     "metadata": {},
     "output_type": "display_data"
    }
   ],
   "source": [
    "fig = plt.figure(figsize=(20, 5))\n",
    "spec = fig.add_gridspec(1, 2)\n",
    "\n",
    "#ax00 = fig.add_subplot(spec[0, 0])\n",
    "#lactobacillales_df['relationships.biome.data.id'].hist()\n",
    "#plt.xlabel(\"Biome\")\n",
    "\n",
    "ax01 = fig.add_subplot(spec[0:])\n",
    "lactobacillales_df['relationships.catalogue.data.id'].hist()\n",
    "plt.xlabel(\"Catalogue\")\n",
    "ax01.grid(False)\n",
    "\n",
    "fig.suptitle('Biome and Catalogue related to bacteria belonging the Lactobacillales order')\n",
    "#plt.savefig(\"outputs/lactobacillales_2.png\",transparent=True)"
   ]
  },
  {
   "cell_type": "markdown",
   "id": "5d3cf976-2228-4c33-8164-13977bcb8ff3",
   "metadata": {},
   "source": [
    "## Find out whether your own MAGs are novel compared to the MGnify catalogues"
   ]
  },
  {
   "cell_type": "markdown",
   "id": "9d466cc7-ce61-470d-8301-cd5490a9ed9a",
   "metadata": {},
   "source": [
    "Query your own MAG against MGnify's MAG catalogues, to see whether they are novel or already represented"
   ]
  },
  {
   "cell_type": "code",
   "execution_count": null,
   "id": "89a2ad94-3dd4-468b-adb6-29608750b2da",
   "metadata": {},
   "outputs": [],
   "source": []
  },
  {
   "cell_type": "code",
   "execution_count": 52,
   "id": "d407edf2-d831-4d7e-88cb-678c93c829d8",
   "metadata": {},
   "outputs": [],
   "source": [
    "import sourmash\n",
    "import glob\n",
    "from pathlib import PurePath as pp\n",
    "from Bio import SeqIO"
   ]
  },
  {
   "cell_type": "markdown",
   "id": "fd0c06a1-e0be-4619-be24-3c7d3a464fea",
   "metadata": {},
   "source": [
    "### List directories of the files to be analysed:\n",
    "Replace the str with your own path to folder containing your files. `*` allows to query all the file with the `.fa` extension."
   ]
  },
  {
   "cell_type": "code",
   "execution_count": 53,
   "id": "2196b200-d6a3-4517-8dd5-82ef7e92e39f",
   "metadata": {},
   "outputs": [],
   "source": [
    "files = glob.glob('inputs/*.fa')"
   ]
  },
  {
   "cell_type": "code",
   "execution_count": 54,
   "id": "5a09b406-9bb1-43b6-9c48-ae211247ccd4",
   "metadata": {},
   "outputs": [
    {
     "data": {
      "text/plain": [
       "['inputs/bin.1.fa',\n",
       " 'inputs/bin.3.fa',\n",
       " 'inputs/bin.5.fa',\n",
       " 'inputs/bin.4.fa',\n",
       " 'inputs/bin.2.fa']"
      ]
     },
     "execution_count": 54,
     "metadata": {},
     "output_type": "execute_result"
    }
   ],
   "source": [
    "files"
   ]
  },
  {
   "cell_type": "markdown",
   "id": "a68bdb34-f89e-4441-942f-dfa07ad7be72",
   "metadata": {
    "tags": []
   },
   "source": [
    "### Compute a sourmash sketch for each MAG"
   ]
  },
  {
   "cell_type": "markdown",
   "id": "5913c12a-1de8-461a-b0a2-b83b714dc24c",
   "metadata": {},
   "source": [
    "Create \"sketches\" for each MAG using Sourmash\n",
    "(https://sourmash.readthedocs.io/en/latest/index.html#sourmash-in-brief)"
   ]
  },
  {
   "cell_type": "markdown",
   "id": "8b186d78-0fdc-48aa-8bc8-f3788eea34cd",
   "metadata": {},
   "source": [
    "A sketch goes into a signature, that we will use for searching. The signature is a sort of collection of hashes that are well suited for calculating the containment of your MAGs within the catalogue's MAGs."
   ]
  },
  {
   "cell_type": "code",
   "execution_count": 55,
   "id": "d8486a4f-d642-4428-bc15-3032ddfe911d",
   "metadata": {
    "tags": []
   },
   "outputs": [],
   "source": [
    "for mag in files:\n",
    "    # The sourmash parameters are chosen to match those used within MGnify\n",
    "    sketch = sourmash.MinHash(n=0, ksize=31, scaled=1000)\n",
    "    \n",
    "    # A fasta file may have multiple records in it. Add them all to the sourmash signature.\n",
    "    for index, record in enumerate(SeqIO.parse(mag, 'fasta')):\n",
    "        sketch.add_sequence(str(record.seq))\n",
    "        \n",
    "    # Save the sourmash sketch as a \"signature\" file\n",
    "    signature = sourmash.SourmashSignature(sketch, name=record.name)\n",
    "    with open('outputs/signatures/'+ pp(pp(mag).name).stem + '.sig', 'wt') as fp:\n",
    "        sourmash.save_signatures([signature], fp)"
   ]
  },
  {
   "cell_type": "markdown",
   "id": "e9c05e63-cad2-4352-85c5-36b3166c3c8a",
   "metadata": {},
   "source": [
    "### Fetch all of the catalogue IDs currently available on MGnify"
   ]
  },
  {
   "cell_type": "markdown",
   "id": "91362715-211b-4a0b-86d6-37d4b8c15aaf",
   "metadata": {},
   "source": [
    "To fetch the `catalogue IDs` to the MGnify API, use the following endpoint: `https://www.ebi.ac.uk/metagenomics/api/v1/genome-catalogues`.  "
   ]
  },
  {
   "cell_type": "code",
   "execution_count": 56,
   "id": "ebf89280-c01c-41e1-9daf-018d95a25194",
   "metadata": {},
   "outputs": [],
   "source": [
    "catalogue_endpoint = \"genome-catalogues\""
   ]
  },
  {
   "cell_type": "code",
   "execution_count": 57,
   "id": "38ead2f1-fc2c-43c3-9f11-b9e406cb0132",
   "metadata": {},
   "outputs": [],
   "source": [
    "with APISession(\"https://www.ebi.ac.uk/metagenomics/api/v1\") as mgnify:\n",
    "    catalogues = map(lambda r: r.json, mgnify.iterate(catalogue_endpoint))\n",
    "    catalogues = pd.json_normalize(catalogues)"
   ]
  },
  {
   "cell_type": "code",
   "execution_count": 58,
   "id": "e2910a99-29c5-475d-95b7-6ab4850f9e5f",
   "metadata": {},
   "outputs": [
    {
     "data": {
      "text/plain": [
       "['cow-rumen-v1-0', 'human-gut-v2-0', 'human-oral-v1-0', 'marine-v1-0']"
      ]
     },
     "execution_count": 58,
     "metadata": {},
     "output_type": "execute_result"
    }
   ],
   "source": [
    "catalogue_ids = list(catalogues['id'])\n",
    "catalogue_ids"
   ]
  },
  {
   "cell_type": "markdown",
   "id": "5646fa34-f602-476c-96b6-4fbcf4774145",
   "metadata": {},
   "source": [
    "### Submit a search job to the MGnify API"
   ]
  },
  {
   "cell_type": "markdown",
   "id": "253bc73e-79b3-4361-86d9-bc0668ff6b8a",
   "metadata": {},
   "source": [
    "To`submit a job` to the MGnify API, use the following endpoint: `https://www.ebi.ac.uk/metagenomics/api/v1/genomes-search/gather`.  \n",
    "Data will be send to the API, which is called \"POST\"ing data in the API world.  \n",
    "This part of the API is quite specialized and so is not a formal JSON:API, the `requests` Python packageìs therefore used to communicate with it."
   ]
  },
  {
   "cell_type": "code",
   "execution_count": 59,
   "id": "617dd142-5d9d-4139-aff0-60f7a4eadadf",
   "metadata": {},
   "outputs": [],
   "source": [
    "endpoint = 'https://www.ebi.ac.uk/metagenomics/api/v1/genomes-search/gather'"
   ]
  },
  {
   "cell_type": "code",
   "execution_count": 60,
   "id": "a4b39e1a-4c1f-4686-b03b-5e47782f3ba9",
   "metadata": {},
   "outputs": [
    {
     "name": "stdout",
     "output_type": "stream",
     "text": [
      "{'data': {'message': 'Your files bin.4.sig,bin.1.sig,bin.5.sig,bin.3.sig,bin.2.sig were successfully uploaded. Use the given URL to check the status of the new job', 'job_id': 'd5a87b80-1131-41c7-ad53-78c440d5475c', 'children_ids': None, 'signatures_received': ['bin.4.sig', 'bin.1.sig', 'bin.5.sig', 'bin.3.sig', 'bin.2.sig'], 'status_URL': 'https://www.ebi.ac.uk/metagenomics/api/v1/genomes-search/status/d5a87b80-1131-41c7-ad53-78c440d5475c'}}\n"
     ]
    }
   ],
   "source": [
    "# Create a list of file uploads, and attach them to the API request\n",
    "signatures = [open(sig, 'rb') for sig in glob.glob('outputs/signatures/*.sig')]\n",
    "sketch_uploads = [('file_uploaded', signature) for signature in signatures]\n",
    "\n",
    "# Send the API request - it specifies which catalogue to search against and attaches all of the signature files.\n",
    "submitted_job = requests.post(endpoint, data={'mag_catalogues': catalogue_ids}, files=sketch_uploads).json()\n",
    "\n",
    "\n",
    "map(lambda fp: fp.close(), signatures)  # tidy up open file pointers\n",
    "\n",
    "print(submitted_job)"
   ]
  },
  {
   "cell_type": "markdown",
   "id": "dc03f7b3-c4cf-4812-a34c-238834beb68c",
   "metadata": {},
   "source": [
    "### Wait for the results to be ready"
   ]
  },
  {
   "cell_type": "markdown",
   "id": "b1436808-50dc-4017-9692-22e8c5c500a6",
   "metadata": {},
   "source": [
    "As you can see in the `printed submitted_job` above, a status_URL was returned in the response from submitting the job via the API. Since the job is in a queue, this status_URL must be polled to wait for our job to be completed.  \n",
    "Below is an example to check every 2 seconds until ALL of the jobs are finished. The time can be easily change (to 10s in the example below) by setting a different sleeping value:\n",
    "```python\n",
    "time.sleep(10)\n",
    "```"
   ]
  },
  {
   "cell_type": "code",
   "execution_count": 62,
   "id": "521723b4-8527-4b29-8084-e66f86e8147b",
   "metadata": {},
   "outputs": [
    {
     "name": "stdout",
     "output_type": "stream",
     "text": [
      "Checking status...\n",
      "All finished!\n"
     ]
    }
   ],
   "source": [
    "job_done = False\n",
    "while not job_done:\n",
    "    print('Checking status...')\n",
    "    # The status_URL is another API endpoint that's unique for the submitted search job\n",
    "    query_result = requests.get(submitted_job['data']['status_URL'])\n",
    "    \n",
    "    queries_status = {sig['job_id']: sig['status'] for sig in query_result.json()['data']['signatures']}\n",
    "    job_done = all(map(lambda q: q == 'SUCCESS', queries_status.values()))\n",
    "    if not job_done:\n",
    "        print('Still waiting for jobs to complete. Current status of jobs')\n",
    "        print(queries_status)\n",
    "        print('Will check again in 2 seconds')\n",
    "        time.sleep(2)\n",
    "\n",
    "print('All finished!')"
   ]
  },
  {
   "cell_type": "markdown",
   "id": "132e331d-7066-4c53-ab4f-9606643dac30",
   "metadata": {},
   "source": [
    "The `query_result` contains the results of the query.   \n",
    "The results can be visualised as json:"
   ]
  },
  {
   "cell_type": "code",
   "execution_count": 63,
   "id": "c3b75578-a807-4569-9102-7879f3c4e6ba",
   "metadata": {
    "tags": []
   },
   "outputs": [
    {
     "data": {
      "text/plain": [
       "{'data': {'group_id': 'd5a87b80-1131-41c7-ad53-78c440d5475c',\n",
       "  'signatures': [{'job_id': '8acede77-39c1-409c-8360-a548fa3c5eef',\n",
       "    'status': 'SUCCESS',\n",
       "    'filename': 'bin.4.sig',\n",
       "    'result': {'status': 'NO_RESULTS',\n",
       "     'catalog': 'cow-rumen-v1-0',\n",
       "     'query_filename': 'bin.4.sig',\n",
       "     'md5_name': '95935c5aa1283dd063a19eff883ea84c.sig'},\n",
       "    'results_url': 'https://www.ebi.ac.uk/metagenomics/api/v1/genomes-search/results/8acede77-39c1-409c-8360-a548fa3c5eef',\n",
       "    'catalogue': 'cow-rumen-v1-0'},\n",
       "   {'job_id': 'f6f29740-7aba-4dec-87cf-8bdc441c41df',\n",
       "    'status': 'SUCCESS',\n",
       "    'filename': 'bin.4.sig',\n",
       "    'result': {'overlap': '0.9 Mbp',\n",
       "     'p_query': '66.8%',\n",
       "     'p_match': '45.4%',\n",
       "     'match': 'MGYG000002570',\n",
       "     'catalog': 'human-gut-v2-0',\n",
       "     'query_filename': 'bin.4.sig',\n",
       "     'md5_name': '95935c5aa1283dd063a19eff883ea84c.sig',\n",
       "     'matches': 1},\n",
       "    'results_url': 'https://www.ebi.ac.uk/metagenomics/api/v1/genomes-search/results/f6f29740-7aba-4dec-87cf-8bdc441c41df',\n",
       "    'catalogue': 'human-gut-v2-0'},\n",
       "   {'job_id': '19c801fb-67f7-425a-a92d-3579b555032e',\n",
       "    'status': 'SUCCESS',\n",
       "    'filename': 'bin.4.sig',\n",
       "    'result': {'status': 'NO_RESULTS',\n",
       "     'catalog': 'marine-v1-0',\n",
       "     'query_filename': 'bin.4.sig',\n",
       "     'md5_name': '95935c5aa1283dd063a19eff883ea84c.sig'},\n",
       "    'results_url': 'https://www.ebi.ac.uk/metagenomics/api/v1/genomes-search/results/19c801fb-67f7-425a-a92d-3579b555032e',\n",
       "    'catalogue': 'marine-v1-0'},\n",
       "   {'job_id': 'f9e81a63-ccd2-4a02-bdf5-f4dbf3042129',\n",
       "    'status': 'SUCCESS',\n",
       "    'filename': 'bin.4.sig',\n",
       "    'result': {'status': 'NO_RESULTS',\n",
       "     'catalog': 'human-oral-v1-0',\n",
       "     'query_filename': 'bin.4.sig',\n",
       "     'md5_name': '95935c5aa1283dd063a19eff883ea84c.sig'},\n",
       "    'results_url': 'https://www.ebi.ac.uk/metagenomics/api/v1/genomes-search/results/f9e81a63-ccd2-4a02-bdf5-f4dbf3042129',\n",
       "    'catalogue': 'human-oral-v1-0'},\n",
       "   {'job_id': 'c3447ed5-a51e-468e-bb36-7d2716280359',\n",
       "    'status': 'SUCCESS',\n",
       "    'filename': 'bin.1.sig',\n",
       "    'result': {'status': 'NO_RESULTS',\n",
       "     'catalog': 'cow-rumen-v1-0',\n",
       "     'query_filename': 'bin.1.sig',\n",
       "     'md5_name': '90de13310088a31d1ccb76f1da574cb6.sig'},\n",
       "    'results_url': 'https://www.ebi.ac.uk/metagenomics/api/v1/genomes-search/results/c3447ed5-a51e-468e-bb36-7d2716280359',\n",
       "    'catalogue': 'cow-rumen-v1-0'},\n",
       "   {'job_id': '7171ae49-93bb-4931-8d5b-e167191ebd79',\n",
       "    'status': 'SUCCESS',\n",
       "    'filename': 'bin.1.sig',\n",
       "    'result': {'overlap': '1.9 Mbp',\n",
       "     'p_query': '58.9%',\n",
       "     'p_match': '52.7%',\n",
       "     'match': 'MGYG000000217',\n",
       "     'catalog': 'human-gut-v2-0',\n",
       "     'query_filename': 'bin.1.sig',\n",
       "     'md5_name': '90de13310088a31d1ccb76f1da574cb6.sig',\n",
       "     'matches': 3},\n",
       "    'results_url': 'https://www.ebi.ac.uk/metagenomics/api/v1/genomes-search/results/7171ae49-93bb-4931-8d5b-e167191ebd79',\n",
       "    'catalogue': 'human-gut-v2-0'},\n",
       "   {'job_id': '47f5dab4-127e-4c5d-8ea6-fd7835b24fb2',\n",
       "    'status': 'SUCCESS',\n",
       "    'filename': 'bin.1.sig',\n",
       "    'result': {'status': 'NO_RESULTS',\n",
       "     'catalog': 'marine-v1-0',\n",
       "     'query_filename': 'bin.1.sig',\n",
       "     'md5_name': '90de13310088a31d1ccb76f1da574cb6.sig'},\n",
       "    'results_url': 'https://www.ebi.ac.uk/metagenomics/api/v1/genomes-search/results/47f5dab4-127e-4c5d-8ea6-fd7835b24fb2',\n",
       "    'catalogue': 'marine-v1-0'},\n",
       "   {'job_id': '7649f290-461c-4388-b6d7-b06701ade4c6',\n",
       "    'status': 'SUCCESS',\n",
       "    'filename': 'bin.1.sig',\n",
       "    'result': {'status': 'NO_RESULTS',\n",
       "     'catalog': 'human-oral-v1-0',\n",
       "     'query_filename': 'bin.1.sig',\n",
       "     'md5_name': '90de13310088a31d1ccb76f1da574cb6.sig'},\n",
       "    'results_url': 'https://www.ebi.ac.uk/metagenomics/api/v1/genomes-search/results/7649f290-461c-4388-b6d7-b06701ade4c6',\n",
       "    'catalogue': 'human-oral-v1-0'},\n",
       "   {'job_id': 'd1415022-198c-4a78-9a02-2e03920512be',\n",
       "    'status': 'SUCCESS',\n",
       "    'filename': 'bin.5.sig',\n",
       "    'result': {'status': 'NO_RESULTS',\n",
       "     'catalog': 'cow-rumen-v1-0',\n",
       "     'query_filename': 'bin.5.sig',\n",
       "     'md5_name': '588a9cfc6aad0f88443f6afd115a738e.sig'},\n",
       "    'results_url': 'https://www.ebi.ac.uk/metagenomics/api/v1/genomes-search/results/d1415022-198c-4a78-9a02-2e03920512be',\n",
       "    'catalogue': 'cow-rumen-v1-0'},\n",
       "   {'job_id': 'b1b7db4e-8430-474f-97cb-9b848f8316cb',\n",
       "    'status': 'SUCCESS',\n",
       "    'filename': 'bin.5.sig',\n",
       "    'result': {'overlap': '0.9 Mbp',\n",
       "     'p_query': '49.9%',\n",
       "     'p_match': '48.0%',\n",
       "     'match': 'MGYG000004533',\n",
       "     'catalog': 'human-gut-v2-0',\n",
       "     'query_filename': 'bin.5.sig',\n",
       "     'md5_name': '588a9cfc6aad0f88443f6afd115a738e.sig',\n",
       "     'matches': 1},\n",
       "    'results_url': 'https://www.ebi.ac.uk/metagenomics/api/v1/genomes-search/results/b1b7db4e-8430-474f-97cb-9b848f8316cb',\n",
       "    'catalogue': 'human-gut-v2-0'},\n",
       "   {'job_id': '766555b7-b750-4db7-b5ec-c2d68d629ce7',\n",
       "    'status': 'SUCCESS',\n",
       "    'filename': 'bin.5.sig',\n",
       "    'result': {'status': 'NO_RESULTS',\n",
       "     'catalog': 'marine-v1-0',\n",
       "     'query_filename': 'bin.5.sig',\n",
       "     'md5_name': '588a9cfc6aad0f88443f6afd115a738e.sig'},\n",
       "    'results_url': 'https://www.ebi.ac.uk/metagenomics/api/v1/genomes-search/results/766555b7-b750-4db7-b5ec-c2d68d629ce7',\n",
       "    'catalogue': 'marine-v1-0'},\n",
       "   {'job_id': '7ae99172-bd17-42fc-a205-e440012b658f',\n",
       "    'status': 'SUCCESS',\n",
       "    'filename': 'bin.5.sig',\n",
       "    'result': {'status': 'NO_RESULTS',\n",
       "     'catalog': 'human-oral-v1-0',\n",
       "     'query_filename': 'bin.5.sig',\n",
       "     'md5_name': '588a9cfc6aad0f88443f6afd115a738e.sig'},\n",
       "    'results_url': 'https://www.ebi.ac.uk/metagenomics/api/v1/genomes-search/results/7ae99172-bd17-42fc-a205-e440012b658f',\n",
       "    'catalogue': 'human-oral-v1-0'},\n",
       "   {'job_id': '3af5d913-f69b-4f96-b434-9a2d16f45656',\n",
       "    'status': 'SUCCESS',\n",
       "    'filename': 'bin.3.sig',\n",
       "    'result': {'overlap': '0.8 Mbp',\n",
       "     'p_query': '30.3%',\n",
       "     'p_match': '31.3%',\n",
       "     'match': 'MGYG000292488',\n",
       "     'catalog': 'cow-rumen-v1-0',\n",
       "     'query_filename': 'bin.3.sig',\n",
       "     'md5_name': 'c399bb823a0358c2951ad2ac951daef6.sig',\n",
       "     'matches': 1},\n",
       "    'results_url': 'https://www.ebi.ac.uk/metagenomics/api/v1/genomes-search/results/3af5d913-f69b-4f96-b434-9a2d16f45656',\n",
       "    'catalogue': 'cow-rumen-v1-0'},\n",
       "   {'job_id': '4233ba6f-567f-429c-ae03-51d8934f4b90',\n",
       "    'status': 'SUCCESS',\n",
       "    'filename': 'bin.3.sig',\n",
       "    'result': {'overlap': '1.8 Mbp',\n",
       "     'p_query': '66.8%',\n",
       "     'p_match': '57.0%',\n",
       "     'match': 'MGYG000000060',\n",
       "     'catalog': 'human-gut-v2-0',\n",
       "     'query_filename': 'bin.3.sig',\n",
       "     'md5_name': 'c399bb823a0358c2951ad2ac951daef6.sig',\n",
       "     'matches': 2},\n",
       "    'results_url': 'https://www.ebi.ac.uk/metagenomics/api/v1/genomes-search/results/4233ba6f-567f-429c-ae03-51d8934f4b90',\n",
       "    'catalogue': 'human-gut-v2-0'},\n",
       "   {'job_id': 'd0948547-df50-4b55-80e0-d9c6d97eabdb',\n",
       "    'status': 'SUCCESS',\n",
       "    'filename': 'bin.3.sig',\n",
       "    'result': {'status': 'NO_RESULTS',\n",
       "     'catalog': 'marine-v1-0',\n",
       "     'query_filename': 'bin.3.sig',\n",
       "     'md5_name': 'c399bb823a0358c2951ad2ac951daef6.sig'},\n",
       "    'results_url': 'https://www.ebi.ac.uk/metagenomics/api/v1/genomes-search/results/d0948547-df50-4b55-80e0-d9c6d97eabdb',\n",
       "    'catalogue': 'marine-v1-0'},\n",
       "   {'job_id': '2303f6fa-02e4-4706-a276-a512b2449bf9',\n",
       "    'status': 'SUCCESS',\n",
       "    'filename': 'bin.3.sig',\n",
       "    'result': {'status': 'NO_RESULTS',\n",
       "     'catalog': 'human-oral-v1-0',\n",
       "     'query_filename': 'bin.3.sig',\n",
       "     'md5_name': 'c399bb823a0358c2951ad2ac951daef6.sig'},\n",
       "    'results_url': 'https://www.ebi.ac.uk/metagenomics/api/v1/genomes-search/results/2303f6fa-02e4-4706-a276-a512b2449bf9',\n",
       "    'catalogue': 'human-oral-v1-0'},\n",
       "   {'job_id': 'a51de34e-fc1d-4123-9d26-e59eb66c80d0',\n",
       "    'status': 'SUCCESS',\n",
       "    'filename': 'bin.2.sig',\n",
       "    'result': {'status': 'NO_RESULTS',\n",
       "     'catalog': 'cow-rumen-v1-0',\n",
       "     'query_filename': 'bin.2.sig',\n",
       "     'md5_name': 'a6546452612d9462460ebdbd94c6c611.sig'},\n",
       "    'results_url': 'https://www.ebi.ac.uk/metagenomics/api/v1/genomes-search/results/a51de34e-fc1d-4123-9d26-e59eb66c80d0',\n",
       "    'catalogue': 'cow-rumen-v1-0'},\n",
       "   {'job_id': '774bbe98-44f2-4c52-a2fd-75f059e15e42',\n",
       "    'status': 'SUCCESS',\n",
       "    'filename': 'bin.2.sig',\n",
       "    'result': {'overlap': '3.4 Mbp',\n",
       "     'p_query': '22.2%',\n",
       "     'p_match': '63.0%',\n",
       "     'match': 'MGYG000002478',\n",
       "     'catalog': 'human-gut-v2-0',\n",
       "     'query_filename': 'bin.2.sig',\n",
       "     'md5_name': 'a6546452612d9462460ebdbd94c6c611.sig',\n",
       "     'matches': 19},\n",
       "    'results_url': 'https://www.ebi.ac.uk/metagenomics/api/v1/genomes-search/results/774bbe98-44f2-4c52-a2fd-75f059e15e42',\n",
       "    'catalogue': 'human-gut-v2-0'},\n",
       "   {'job_id': 'b8e17959-3827-492e-a619-c0cadea2b205',\n",
       "    'status': 'SUCCESS',\n",
       "    'filename': 'bin.2.sig',\n",
       "    'result': {'status': 'NO_RESULTS',\n",
       "     'catalog': 'marine-v1-0',\n",
       "     'query_filename': 'bin.2.sig',\n",
       "     'md5_name': 'a6546452612d9462460ebdbd94c6c611.sig'},\n",
       "    'results_url': 'https://www.ebi.ac.uk/metagenomics/api/v1/genomes-search/results/b8e17959-3827-492e-a619-c0cadea2b205',\n",
       "    'catalogue': 'marine-v1-0'},\n",
       "   {'job_id': '0c91d6e9-967e-4e95-bbe1-d4701c11cf49',\n",
       "    'status': 'SUCCESS',\n",
       "    'filename': 'bin.2.sig',\n",
       "    'result': {'status': 'NO_RESULTS',\n",
       "     'catalog': 'human-oral-v1-0',\n",
       "     'query_filename': 'bin.2.sig',\n",
       "     'md5_name': 'a6546452612d9462460ebdbd94c6c611.sig'},\n",
       "    'results_url': 'https://www.ebi.ac.uk/metagenomics/api/v1/genomes-search/results/0c91d6e9-967e-4e95-bbe1-d4701c11cf49',\n",
       "    'catalogue': 'human-oral-v1-0'}],\n",
       "  'results_url': 'https://www.ebi.ac.uk/metagenomics/api/v1/genomes-search/results/d5a87b80-1131-41c7-ad53-78c440d5475c',\n",
       "  'worker_status': 'OK'}}"
      ]
     },
     "execution_count": 63,
     "metadata": {},
     "output_type": "execute_result"
    }
   ],
   "source": [
    "query_result.json()"
   ]
  },
  {
   "cell_type": "code",
   "execution_count": 64,
   "id": "0b089749-c0ac-47cb-b0cb-e5a539caf22f",
   "metadata": {},
   "outputs": [],
   "source": [
    "query_result_df = pd.json_normalize(query_result.json()['data']['signatures'])"
   ]
  },
  {
   "cell_type": "code",
   "execution_count": 65,
   "id": "5943feee-19ec-4acd-a7a5-69cae0d48bfc",
   "metadata": {},
   "outputs": [
    {
     "data": {
      "text/html": [
       "<div>\n",
       "<style scoped>\n",
       "    .dataframe tbody tr th:only-of-type {\n",
       "        vertical-align: middle;\n",
       "    }\n",
       "\n",
       "    .dataframe tbody tr th {\n",
       "        vertical-align: top;\n",
       "    }\n",
       "\n",
       "    .dataframe thead th {\n",
       "        text-align: right;\n",
       "    }\n",
       "</style>\n",
       "<table border=\"1\" class=\"dataframe\">\n",
       "  <thead>\n",
       "    <tr style=\"text-align: right;\">\n",
       "      <th></th>\n",
       "      <th>job_id</th>\n",
       "      <th>status</th>\n",
       "      <th>filename</th>\n",
       "      <th>results_url</th>\n",
       "      <th>catalogue</th>\n",
       "      <th>result.status</th>\n",
       "      <th>result.catalog</th>\n",
       "      <th>result.query_filename</th>\n",
       "      <th>result.md5_name</th>\n",
       "      <th>result.overlap</th>\n",
       "      <th>result.p_query</th>\n",
       "      <th>result.p_match</th>\n",
       "      <th>result.match</th>\n",
       "      <th>result.matches</th>\n",
       "    </tr>\n",
       "  </thead>\n",
       "  <tbody>\n",
       "    <tr>\n",
       "      <th>0</th>\n",
       "      <td>8acede77-39c1-409c-8360-a548fa3c5eef</td>\n",
       "      <td>SUCCESS</td>\n",
       "      <td>bin.4.sig</td>\n",
       "      <td>https://www.ebi.ac.uk/metagenomics/api/v1/genomes-search/results/8acede77-39c1-409c-8360-a548fa3c5eef</td>\n",
       "      <td>cow-rumen-v1-0</td>\n",
       "      <td>NO_RESULTS</td>\n",
       "      <td>cow-rumen-v1-0</td>\n",
       "      <td>bin.4.sig</td>\n",
       "      <td>95935c5aa1283dd063a19eff883ea84c.sig</td>\n",
       "      <td>NaN</td>\n",
       "      <td>NaN</td>\n",
       "      <td>NaN</td>\n",
       "      <td>NaN</td>\n",
       "      <td>NaN</td>\n",
       "    </tr>\n",
       "    <tr>\n",
       "      <th>1</th>\n",
       "      <td>f6f29740-7aba-4dec-87cf-8bdc441c41df</td>\n",
       "      <td>SUCCESS</td>\n",
       "      <td>bin.4.sig</td>\n",
       "      <td>https://www.ebi.ac.uk/metagenomics/api/v1/genomes-search/results/f6f29740-7aba-4dec-87cf-8bdc441c41df</td>\n",
       "      <td>human-gut-v2-0</td>\n",
       "      <td>NaN</td>\n",
       "      <td>human-gut-v2-0</td>\n",
       "      <td>bin.4.sig</td>\n",
       "      <td>95935c5aa1283dd063a19eff883ea84c.sig</td>\n",
       "      <td>0.9 Mbp</td>\n",
       "      <td>66.8%</td>\n",
       "      <td>45.4%</td>\n",
       "      <td>MGYG000002570</td>\n",
       "      <td>1.0</td>\n",
       "    </tr>\n",
       "    <tr>\n",
       "      <th>2</th>\n",
       "      <td>19c801fb-67f7-425a-a92d-3579b555032e</td>\n",
       "      <td>SUCCESS</td>\n",
       "      <td>bin.4.sig</td>\n",
       "      <td>https://www.ebi.ac.uk/metagenomics/api/v1/genomes-search/results/19c801fb-67f7-425a-a92d-3579b555032e</td>\n",
       "      <td>marine-v1-0</td>\n",
       "      <td>NO_RESULTS</td>\n",
       "      <td>marine-v1-0</td>\n",
       "      <td>bin.4.sig</td>\n",
       "      <td>95935c5aa1283dd063a19eff883ea84c.sig</td>\n",
       "      <td>NaN</td>\n",
       "      <td>NaN</td>\n",
       "      <td>NaN</td>\n",
       "      <td>NaN</td>\n",
       "      <td>NaN</td>\n",
       "    </tr>\n",
       "    <tr>\n",
       "      <th>3</th>\n",
       "      <td>f9e81a63-ccd2-4a02-bdf5-f4dbf3042129</td>\n",
       "      <td>SUCCESS</td>\n",
       "      <td>bin.4.sig</td>\n",
       "      <td>https://www.ebi.ac.uk/metagenomics/api/v1/genomes-search/results/f9e81a63-ccd2-4a02-bdf5-f4dbf3042129</td>\n",
       "      <td>human-oral-v1-0</td>\n",
       "      <td>NO_RESULTS</td>\n",
       "      <td>human-oral-v1-0</td>\n",
       "      <td>bin.4.sig</td>\n",
       "      <td>95935c5aa1283dd063a19eff883ea84c.sig</td>\n",
       "      <td>NaN</td>\n",
       "      <td>NaN</td>\n",
       "      <td>NaN</td>\n",
       "      <td>NaN</td>\n",
       "      <td>NaN</td>\n",
       "    </tr>\n",
       "    <tr>\n",
       "      <th>4</th>\n",
       "      <td>c3447ed5-a51e-468e-bb36-7d2716280359</td>\n",
       "      <td>SUCCESS</td>\n",
       "      <td>bin.1.sig</td>\n",
       "      <td>https://www.ebi.ac.uk/metagenomics/api/v1/genomes-search/results/c3447ed5-a51e-468e-bb36-7d2716280359</td>\n",
       "      <td>cow-rumen-v1-0</td>\n",
       "      <td>NO_RESULTS</td>\n",
       "      <td>cow-rumen-v1-0</td>\n",
       "      <td>bin.1.sig</td>\n",
       "      <td>90de13310088a31d1ccb76f1da574cb6.sig</td>\n",
       "      <td>NaN</td>\n",
       "      <td>NaN</td>\n",
       "      <td>NaN</td>\n",
       "      <td>NaN</td>\n",
       "      <td>NaN</td>\n",
       "    </tr>\n",
       "    <tr>\n",
       "      <th>5</th>\n",
       "      <td>7171ae49-93bb-4931-8d5b-e167191ebd79</td>\n",
       "      <td>SUCCESS</td>\n",
       "      <td>bin.1.sig</td>\n",
       "      <td>https://www.ebi.ac.uk/metagenomics/api/v1/genomes-search/results/7171ae49-93bb-4931-8d5b-e167191ebd79</td>\n",
       "      <td>human-gut-v2-0</td>\n",
       "      <td>NaN</td>\n",
       "      <td>human-gut-v2-0</td>\n",
       "      <td>bin.1.sig</td>\n",
       "      <td>90de13310088a31d1ccb76f1da574cb6.sig</td>\n",
       "      <td>1.9 Mbp</td>\n",
       "      <td>58.9%</td>\n",
       "      <td>52.7%</td>\n",
       "      <td>MGYG000000217</td>\n",
       "      <td>3.0</td>\n",
       "    </tr>\n",
       "    <tr>\n",
       "      <th>6</th>\n",
       "      <td>47f5dab4-127e-4c5d-8ea6-fd7835b24fb2</td>\n",
       "      <td>SUCCESS</td>\n",
       "      <td>bin.1.sig</td>\n",
       "      <td>https://www.ebi.ac.uk/metagenomics/api/v1/genomes-search/results/47f5dab4-127e-4c5d-8ea6-fd7835b24fb2</td>\n",
       "      <td>marine-v1-0</td>\n",
       "      <td>NO_RESULTS</td>\n",
       "      <td>marine-v1-0</td>\n",
       "      <td>bin.1.sig</td>\n",
       "      <td>90de13310088a31d1ccb76f1da574cb6.sig</td>\n",
       "      <td>NaN</td>\n",
       "      <td>NaN</td>\n",
       "      <td>NaN</td>\n",
       "      <td>NaN</td>\n",
       "      <td>NaN</td>\n",
       "    </tr>\n",
       "    <tr>\n",
       "      <th>7</th>\n",
       "      <td>7649f290-461c-4388-b6d7-b06701ade4c6</td>\n",
       "      <td>SUCCESS</td>\n",
       "      <td>bin.1.sig</td>\n",
       "      <td>https://www.ebi.ac.uk/metagenomics/api/v1/genomes-search/results/7649f290-461c-4388-b6d7-b06701ade4c6</td>\n",
       "      <td>human-oral-v1-0</td>\n",
       "      <td>NO_RESULTS</td>\n",
       "      <td>human-oral-v1-0</td>\n",
       "      <td>bin.1.sig</td>\n",
       "      <td>90de13310088a31d1ccb76f1da574cb6.sig</td>\n",
       "      <td>NaN</td>\n",
       "      <td>NaN</td>\n",
       "      <td>NaN</td>\n",
       "      <td>NaN</td>\n",
       "      <td>NaN</td>\n",
       "    </tr>\n",
       "    <tr>\n",
       "      <th>8</th>\n",
       "      <td>d1415022-198c-4a78-9a02-2e03920512be</td>\n",
       "      <td>SUCCESS</td>\n",
       "      <td>bin.5.sig</td>\n",
       "      <td>https://www.ebi.ac.uk/metagenomics/api/v1/genomes-search/results/d1415022-198c-4a78-9a02-2e03920512be</td>\n",
       "      <td>cow-rumen-v1-0</td>\n",
       "      <td>NO_RESULTS</td>\n",
       "      <td>cow-rumen-v1-0</td>\n",
       "      <td>bin.5.sig</td>\n",
       "      <td>588a9cfc6aad0f88443f6afd115a738e.sig</td>\n",
       "      <td>NaN</td>\n",
       "      <td>NaN</td>\n",
       "      <td>NaN</td>\n",
       "      <td>NaN</td>\n",
       "      <td>NaN</td>\n",
       "    </tr>\n",
       "    <tr>\n",
       "      <th>9</th>\n",
       "      <td>b1b7db4e-8430-474f-97cb-9b848f8316cb</td>\n",
       "      <td>SUCCESS</td>\n",
       "      <td>bin.5.sig</td>\n",
       "      <td>https://www.ebi.ac.uk/metagenomics/api/v1/genomes-search/results/b1b7db4e-8430-474f-97cb-9b848f8316cb</td>\n",
       "      <td>human-gut-v2-0</td>\n",
       "      <td>NaN</td>\n",
       "      <td>human-gut-v2-0</td>\n",
       "      <td>bin.5.sig</td>\n",
       "      <td>588a9cfc6aad0f88443f6afd115a738e.sig</td>\n",
       "      <td>0.9 Mbp</td>\n",
       "      <td>49.9%</td>\n",
       "      <td>48.0%</td>\n",
       "      <td>MGYG000004533</td>\n",
       "      <td>1.0</td>\n",
       "    </tr>\n",
       "    <tr>\n",
       "      <th>10</th>\n",
       "      <td>766555b7-b750-4db7-b5ec-c2d68d629ce7</td>\n",
       "      <td>SUCCESS</td>\n",
       "      <td>bin.5.sig</td>\n",
       "      <td>https://www.ebi.ac.uk/metagenomics/api/v1/genomes-search/results/766555b7-b750-4db7-b5ec-c2d68d629ce7</td>\n",
       "      <td>marine-v1-0</td>\n",
       "      <td>NO_RESULTS</td>\n",
       "      <td>marine-v1-0</td>\n",
       "      <td>bin.5.sig</td>\n",
       "      <td>588a9cfc6aad0f88443f6afd115a738e.sig</td>\n",
       "      <td>NaN</td>\n",
       "      <td>NaN</td>\n",
       "      <td>NaN</td>\n",
       "      <td>NaN</td>\n",
       "      <td>NaN</td>\n",
       "    </tr>\n",
       "    <tr>\n",
       "      <th>11</th>\n",
       "      <td>7ae99172-bd17-42fc-a205-e440012b658f</td>\n",
       "      <td>SUCCESS</td>\n",
       "      <td>bin.5.sig</td>\n",
       "      <td>https://www.ebi.ac.uk/metagenomics/api/v1/genomes-search/results/7ae99172-bd17-42fc-a205-e440012b658f</td>\n",
       "      <td>human-oral-v1-0</td>\n",
       "      <td>NO_RESULTS</td>\n",
       "      <td>human-oral-v1-0</td>\n",
       "      <td>bin.5.sig</td>\n",
       "      <td>588a9cfc6aad0f88443f6afd115a738e.sig</td>\n",
       "      <td>NaN</td>\n",
       "      <td>NaN</td>\n",
       "      <td>NaN</td>\n",
       "      <td>NaN</td>\n",
       "      <td>NaN</td>\n",
       "    </tr>\n",
       "    <tr>\n",
       "      <th>12</th>\n",
       "      <td>3af5d913-f69b-4f96-b434-9a2d16f45656</td>\n",
       "      <td>SUCCESS</td>\n",
       "      <td>bin.3.sig</td>\n",
       "      <td>https://www.ebi.ac.uk/metagenomics/api/v1/genomes-search/results/3af5d913-f69b-4f96-b434-9a2d16f45656</td>\n",
       "      <td>cow-rumen-v1-0</td>\n",
       "      <td>NaN</td>\n",
       "      <td>cow-rumen-v1-0</td>\n",
       "      <td>bin.3.sig</td>\n",
       "      <td>c399bb823a0358c2951ad2ac951daef6.sig</td>\n",
       "      <td>0.8 Mbp</td>\n",
       "      <td>30.3%</td>\n",
       "      <td>31.3%</td>\n",
       "      <td>MGYG000292488</td>\n",
       "      <td>1.0</td>\n",
       "    </tr>\n",
       "    <tr>\n",
       "      <th>13</th>\n",
       "      <td>4233ba6f-567f-429c-ae03-51d8934f4b90</td>\n",
       "      <td>SUCCESS</td>\n",
       "      <td>bin.3.sig</td>\n",
       "      <td>https://www.ebi.ac.uk/metagenomics/api/v1/genomes-search/results/4233ba6f-567f-429c-ae03-51d8934f4b90</td>\n",
       "      <td>human-gut-v2-0</td>\n",
       "      <td>NaN</td>\n",
       "      <td>human-gut-v2-0</td>\n",
       "      <td>bin.3.sig</td>\n",
       "      <td>c399bb823a0358c2951ad2ac951daef6.sig</td>\n",
       "      <td>1.8 Mbp</td>\n",
       "      <td>66.8%</td>\n",
       "      <td>57.0%</td>\n",
       "      <td>MGYG000000060</td>\n",
       "      <td>2.0</td>\n",
       "    </tr>\n",
       "    <tr>\n",
       "      <th>14</th>\n",
       "      <td>d0948547-df50-4b55-80e0-d9c6d97eabdb</td>\n",
       "      <td>SUCCESS</td>\n",
       "      <td>bin.3.sig</td>\n",
       "      <td>https://www.ebi.ac.uk/metagenomics/api/v1/genomes-search/results/d0948547-df50-4b55-80e0-d9c6d97eabdb</td>\n",
       "      <td>marine-v1-0</td>\n",
       "      <td>NO_RESULTS</td>\n",
       "      <td>marine-v1-0</td>\n",
       "      <td>bin.3.sig</td>\n",
       "      <td>c399bb823a0358c2951ad2ac951daef6.sig</td>\n",
       "      <td>NaN</td>\n",
       "      <td>NaN</td>\n",
       "      <td>NaN</td>\n",
       "      <td>NaN</td>\n",
       "      <td>NaN</td>\n",
       "    </tr>\n",
       "    <tr>\n",
       "      <th>15</th>\n",
       "      <td>2303f6fa-02e4-4706-a276-a512b2449bf9</td>\n",
       "      <td>SUCCESS</td>\n",
       "      <td>bin.3.sig</td>\n",
       "      <td>https://www.ebi.ac.uk/metagenomics/api/v1/genomes-search/results/2303f6fa-02e4-4706-a276-a512b2449bf9</td>\n",
       "      <td>human-oral-v1-0</td>\n",
       "      <td>NO_RESULTS</td>\n",
       "      <td>human-oral-v1-0</td>\n",
       "      <td>bin.3.sig</td>\n",
       "      <td>c399bb823a0358c2951ad2ac951daef6.sig</td>\n",
       "      <td>NaN</td>\n",
       "      <td>NaN</td>\n",
       "      <td>NaN</td>\n",
       "      <td>NaN</td>\n",
       "      <td>NaN</td>\n",
       "    </tr>\n",
       "    <tr>\n",
       "      <th>16</th>\n",
       "      <td>a51de34e-fc1d-4123-9d26-e59eb66c80d0</td>\n",
       "      <td>SUCCESS</td>\n",
       "      <td>bin.2.sig</td>\n",
       "      <td>https://www.ebi.ac.uk/metagenomics/api/v1/genomes-search/results/a51de34e-fc1d-4123-9d26-e59eb66c80d0</td>\n",
       "      <td>cow-rumen-v1-0</td>\n",
       "      <td>NO_RESULTS</td>\n",
       "      <td>cow-rumen-v1-0</td>\n",
       "      <td>bin.2.sig</td>\n",
       "      <td>a6546452612d9462460ebdbd94c6c611.sig</td>\n",
       "      <td>NaN</td>\n",
       "      <td>NaN</td>\n",
       "      <td>NaN</td>\n",
       "      <td>NaN</td>\n",
       "      <td>NaN</td>\n",
       "    </tr>\n",
       "    <tr>\n",
       "      <th>17</th>\n",
       "      <td>774bbe98-44f2-4c52-a2fd-75f059e15e42</td>\n",
       "      <td>SUCCESS</td>\n",
       "      <td>bin.2.sig</td>\n",
       "      <td>https://www.ebi.ac.uk/metagenomics/api/v1/genomes-search/results/774bbe98-44f2-4c52-a2fd-75f059e15e42</td>\n",
       "      <td>human-gut-v2-0</td>\n",
       "      <td>NaN</td>\n",
       "      <td>human-gut-v2-0</td>\n",
       "      <td>bin.2.sig</td>\n",
       "      <td>a6546452612d9462460ebdbd94c6c611.sig</td>\n",
       "      <td>3.4 Mbp</td>\n",
       "      <td>22.2%</td>\n",
       "      <td>63.0%</td>\n",
       "      <td>MGYG000002478</td>\n",
       "      <td>19.0</td>\n",
       "    </tr>\n",
       "    <tr>\n",
       "      <th>18</th>\n",
       "      <td>b8e17959-3827-492e-a619-c0cadea2b205</td>\n",
       "      <td>SUCCESS</td>\n",
       "      <td>bin.2.sig</td>\n",
       "      <td>https://www.ebi.ac.uk/metagenomics/api/v1/genomes-search/results/b8e17959-3827-492e-a619-c0cadea2b205</td>\n",
       "      <td>marine-v1-0</td>\n",
       "      <td>NO_RESULTS</td>\n",
       "      <td>marine-v1-0</td>\n",
       "      <td>bin.2.sig</td>\n",
       "      <td>a6546452612d9462460ebdbd94c6c611.sig</td>\n",
       "      <td>NaN</td>\n",
       "      <td>NaN</td>\n",
       "      <td>NaN</td>\n",
       "      <td>NaN</td>\n",
       "      <td>NaN</td>\n",
       "    </tr>\n",
       "    <tr>\n",
       "      <th>19</th>\n",
       "      <td>0c91d6e9-967e-4e95-bbe1-d4701c11cf49</td>\n",
       "      <td>SUCCESS</td>\n",
       "      <td>bin.2.sig</td>\n",
       "      <td>https://www.ebi.ac.uk/metagenomics/api/v1/genomes-search/results/0c91d6e9-967e-4e95-bbe1-d4701c11cf49</td>\n",
       "      <td>human-oral-v1-0</td>\n",
       "      <td>NO_RESULTS</td>\n",
       "      <td>human-oral-v1-0</td>\n",
       "      <td>bin.2.sig</td>\n",
       "      <td>a6546452612d9462460ebdbd94c6c611.sig</td>\n",
       "      <td>NaN</td>\n",
       "      <td>NaN</td>\n",
       "      <td>NaN</td>\n",
       "      <td>NaN</td>\n",
       "      <td>NaN</td>\n",
       "    </tr>\n",
       "  </tbody>\n",
       "</table>\n",
       "</div>"
      ],
      "text/plain": [
       "                                  job_id   status   filename  \\\n",
       "0   8acede77-39c1-409c-8360-a548fa3c5eef  SUCCESS  bin.4.sig   \n",
       "1   f6f29740-7aba-4dec-87cf-8bdc441c41df  SUCCESS  bin.4.sig   \n",
       "2   19c801fb-67f7-425a-a92d-3579b555032e  SUCCESS  bin.4.sig   \n",
       "3   f9e81a63-ccd2-4a02-bdf5-f4dbf3042129  SUCCESS  bin.4.sig   \n",
       "4   c3447ed5-a51e-468e-bb36-7d2716280359  SUCCESS  bin.1.sig   \n",
       "5   7171ae49-93bb-4931-8d5b-e167191ebd79  SUCCESS  bin.1.sig   \n",
       "6   47f5dab4-127e-4c5d-8ea6-fd7835b24fb2  SUCCESS  bin.1.sig   \n",
       "7   7649f290-461c-4388-b6d7-b06701ade4c6  SUCCESS  bin.1.sig   \n",
       "8   d1415022-198c-4a78-9a02-2e03920512be  SUCCESS  bin.5.sig   \n",
       "9   b1b7db4e-8430-474f-97cb-9b848f8316cb  SUCCESS  bin.5.sig   \n",
       "10  766555b7-b750-4db7-b5ec-c2d68d629ce7  SUCCESS  bin.5.sig   \n",
       "11  7ae99172-bd17-42fc-a205-e440012b658f  SUCCESS  bin.5.sig   \n",
       "12  3af5d913-f69b-4f96-b434-9a2d16f45656  SUCCESS  bin.3.sig   \n",
       "13  4233ba6f-567f-429c-ae03-51d8934f4b90  SUCCESS  bin.3.sig   \n",
       "14  d0948547-df50-4b55-80e0-d9c6d97eabdb  SUCCESS  bin.3.sig   \n",
       "15  2303f6fa-02e4-4706-a276-a512b2449bf9  SUCCESS  bin.3.sig   \n",
       "16  a51de34e-fc1d-4123-9d26-e59eb66c80d0  SUCCESS  bin.2.sig   \n",
       "17  774bbe98-44f2-4c52-a2fd-75f059e15e42  SUCCESS  bin.2.sig   \n",
       "18  b8e17959-3827-492e-a619-c0cadea2b205  SUCCESS  bin.2.sig   \n",
       "19  0c91d6e9-967e-4e95-bbe1-d4701c11cf49  SUCCESS  bin.2.sig   \n",
       "\n",
       "                                                                                              results_url  \\\n",
       "0   https://www.ebi.ac.uk/metagenomics/api/v1/genomes-search/results/8acede77-39c1-409c-8360-a548fa3c5eef   \n",
       "1   https://www.ebi.ac.uk/metagenomics/api/v1/genomes-search/results/f6f29740-7aba-4dec-87cf-8bdc441c41df   \n",
       "2   https://www.ebi.ac.uk/metagenomics/api/v1/genomes-search/results/19c801fb-67f7-425a-a92d-3579b555032e   \n",
       "3   https://www.ebi.ac.uk/metagenomics/api/v1/genomes-search/results/f9e81a63-ccd2-4a02-bdf5-f4dbf3042129   \n",
       "4   https://www.ebi.ac.uk/metagenomics/api/v1/genomes-search/results/c3447ed5-a51e-468e-bb36-7d2716280359   \n",
       "5   https://www.ebi.ac.uk/metagenomics/api/v1/genomes-search/results/7171ae49-93bb-4931-8d5b-e167191ebd79   \n",
       "6   https://www.ebi.ac.uk/metagenomics/api/v1/genomes-search/results/47f5dab4-127e-4c5d-8ea6-fd7835b24fb2   \n",
       "7   https://www.ebi.ac.uk/metagenomics/api/v1/genomes-search/results/7649f290-461c-4388-b6d7-b06701ade4c6   \n",
       "8   https://www.ebi.ac.uk/metagenomics/api/v1/genomes-search/results/d1415022-198c-4a78-9a02-2e03920512be   \n",
       "9   https://www.ebi.ac.uk/metagenomics/api/v1/genomes-search/results/b1b7db4e-8430-474f-97cb-9b848f8316cb   \n",
       "10  https://www.ebi.ac.uk/metagenomics/api/v1/genomes-search/results/766555b7-b750-4db7-b5ec-c2d68d629ce7   \n",
       "11  https://www.ebi.ac.uk/metagenomics/api/v1/genomes-search/results/7ae99172-bd17-42fc-a205-e440012b658f   \n",
       "12  https://www.ebi.ac.uk/metagenomics/api/v1/genomes-search/results/3af5d913-f69b-4f96-b434-9a2d16f45656   \n",
       "13  https://www.ebi.ac.uk/metagenomics/api/v1/genomes-search/results/4233ba6f-567f-429c-ae03-51d8934f4b90   \n",
       "14  https://www.ebi.ac.uk/metagenomics/api/v1/genomes-search/results/d0948547-df50-4b55-80e0-d9c6d97eabdb   \n",
       "15  https://www.ebi.ac.uk/metagenomics/api/v1/genomes-search/results/2303f6fa-02e4-4706-a276-a512b2449bf9   \n",
       "16  https://www.ebi.ac.uk/metagenomics/api/v1/genomes-search/results/a51de34e-fc1d-4123-9d26-e59eb66c80d0   \n",
       "17  https://www.ebi.ac.uk/metagenomics/api/v1/genomes-search/results/774bbe98-44f2-4c52-a2fd-75f059e15e42   \n",
       "18  https://www.ebi.ac.uk/metagenomics/api/v1/genomes-search/results/b8e17959-3827-492e-a619-c0cadea2b205   \n",
       "19  https://www.ebi.ac.uk/metagenomics/api/v1/genomes-search/results/0c91d6e9-967e-4e95-bbe1-d4701c11cf49   \n",
       "\n",
       "          catalogue result.status   result.catalog result.query_filename  \\\n",
       "0    cow-rumen-v1-0    NO_RESULTS   cow-rumen-v1-0             bin.4.sig   \n",
       "1    human-gut-v2-0           NaN   human-gut-v2-0             bin.4.sig   \n",
       "2       marine-v1-0    NO_RESULTS      marine-v1-0             bin.4.sig   \n",
       "3   human-oral-v1-0    NO_RESULTS  human-oral-v1-0             bin.4.sig   \n",
       "4    cow-rumen-v1-0    NO_RESULTS   cow-rumen-v1-0             bin.1.sig   \n",
       "5    human-gut-v2-0           NaN   human-gut-v2-0             bin.1.sig   \n",
       "6       marine-v1-0    NO_RESULTS      marine-v1-0             bin.1.sig   \n",
       "7   human-oral-v1-0    NO_RESULTS  human-oral-v1-0             bin.1.sig   \n",
       "8    cow-rumen-v1-0    NO_RESULTS   cow-rumen-v1-0             bin.5.sig   \n",
       "9    human-gut-v2-0           NaN   human-gut-v2-0             bin.5.sig   \n",
       "10      marine-v1-0    NO_RESULTS      marine-v1-0             bin.5.sig   \n",
       "11  human-oral-v1-0    NO_RESULTS  human-oral-v1-0             bin.5.sig   \n",
       "12   cow-rumen-v1-0           NaN   cow-rumen-v1-0             bin.3.sig   \n",
       "13   human-gut-v2-0           NaN   human-gut-v2-0             bin.3.sig   \n",
       "14      marine-v1-0    NO_RESULTS      marine-v1-0             bin.3.sig   \n",
       "15  human-oral-v1-0    NO_RESULTS  human-oral-v1-0             bin.3.sig   \n",
       "16   cow-rumen-v1-0    NO_RESULTS   cow-rumen-v1-0             bin.2.sig   \n",
       "17   human-gut-v2-0           NaN   human-gut-v2-0             bin.2.sig   \n",
       "18      marine-v1-0    NO_RESULTS      marine-v1-0             bin.2.sig   \n",
       "19  human-oral-v1-0    NO_RESULTS  human-oral-v1-0             bin.2.sig   \n",
       "\n",
       "                         result.md5_name result.overlap result.p_query  \\\n",
       "0   95935c5aa1283dd063a19eff883ea84c.sig            NaN            NaN   \n",
       "1   95935c5aa1283dd063a19eff883ea84c.sig        0.9 Mbp          66.8%   \n",
       "2   95935c5aa1283dd063a19eff883ea84c.sig            NaN            NaN   \n",
       "3   95935c5aa1283dd063a19eff883ea84c.sig            NaN            NaN   \n",
       "4   90de13310088a31d1ccb76f1da574cb6.sig            NaN            NaN   \n",
       "5   90de13310088a31d1ccb76f1da574cb6.sig        1.9 Mbp          58.9%   \n",
       "6   90de13310088a31d1ccb76f1da574cb6.sig            NaN            NaN   \n",
       "7   90de13310088a31d1ccb76f1da574cb6.sig            NaN            NaN   \n",
       "8   588a9cfc6aad0f88443f6afd115a738e.sig            NaN            NaN   \n",
       "9   588a9cfc6aad0f88443f6afd115a738e.sig        0.9 Mbp          49.9%   \n",
       "10  588a9cfc6aad0f88443f6afd115a738e.sig            NaN            NaN   \n",
       "11  588a9cfc6aad0f88443f6afd115a738e.sig            NaN            NaN   \n",
       "12  c399bb823a0358c2951ad2ac951daef6.sig        0.8 Mbp          30.3%   \n",
       "13  c399bb823a0358c2951ad2ac951daef6.sig        1.8 Mbp          66.8%   \n",
       "14  c399bb823a0358c2951ad2ac951daef6.sig            NaN            NaN   \n",
       "15  c399bb823a0358c2951ad2ac951daef6.sig            NaN            NaN   \n",
       "16  a6546452612d9462460ebdbd94c6c611.sig            NaN            NaN   \n",
       "17  a6546452612d9462460ebdbd94c6c611.sig        3.4 Mbp          22.2%   \n",
       "18  a6546452612d9462460ebdbd94c6c611.sig            NaN            NaN   \n",
       "19  a6546452612d9462460ebdbd94c6c611.sig            NaN            NaN   \n",
       "\n",
       "   result.p_match   result.match  result.matches  \n",
       "0             NaN            NaN             NaN  \n",
       "1           45.4%  MGYG000002570             1.0  \n",
       "2             NaN            NaN             NaN  \n",
       "3             NaN            NaN             NaN  \n",
       "4             NaN            NaN             NaN  \n",
       "5           52.7%  MGYG000000217             3.0  \n",
       "6             NaN            NaN             NaN  \n",
       "7             NaN            NaN             NaN  \n",
       "8             NaN            NaN             NaN  \n",
       "9           48.0%  MGYG000004533             1.0  \n",
       "10            NaN            NaN             NaN  \n",
       "11            NaN            NaN             NaN  \n",
       "12          31.3%  MGYG000292488             1.0  \n",
       "13          57.0%  MGYG000000060             2.0  \n",
       "14            NaN            NaN             NaN  \n",
       "15            NaN            NaN             NaN  \n",
       "16            NaN            NaN             NaN  \n",
       "17          63.0%  MGYG000002478            19.0  \n",
       "18            NaN            NaN             NaN  \n",
       "19            NaN            NaN             NaN  "
      ]
     },
     "execution_count": 65,
     "metadata": {},
     "output_type": "execute_result"
    }
   ],
   "source": [
    "query_result_df"
   ]
  },
  {
   "cell_type": "markdown",
   "id": "f398676c-4fd3-4691-b8f5-fb0a5252c700",
   "metadata": {},
   "source": [
    "Each signature is queried against each catalogue entry.\n",
    "Results can then be analysed according to your research:\n",
    "- study related to bacteria of the human gut,\n",
    "- ..."
   ]
  },
  {
   "cell_type": "markdown",
   "id": "a2f2ee71-1fec-433b-835b-2e971e8d24bb",
   "metadata": {},
   "source": [
    "#### Are any of our MAGs found in biomes other than the human gut?"
   ]
  },
  {
   "cell_type": "code",
   "execution_count": 66,
   "id": "304ba7a6-44e9-4d90-adad-3f68784b1c2e",
   "metadata": {},
   "outputs": [],
   "source": [
    "matches = query_result_df.dropna(subset=['result.match'])"
   ]
  },
  {
   "cell_type": "code",
   "execution_count": 67,
   "id": "68fab036-adfe-467e-9b66-7744db35cee4",
   "metadata": {},
   "outputs": [
    {
     "data": {
      "text/html": [
       "<div>\n",
       "<style scoped>\n",
       "    .dataframe tbody tr th:only-of-type {\n",
       "        vertical-align: middle;\n",
       "    }\n",
       "\n",
       "    .dataframe tbody tr th {\n",
       "        vertical-align: top;\n",
       "    }\n",
       "\n",
       "    .dataframe thead th {\n",
       "        text-align: right;\n",
       "    }\n",
       "</style>\n",
       "<table border=\"1\" class=\"dataframe\">\n",
       "  <thead>\n",
       "    <tr style=\"text-align: right;\">\n",
       "      <th></th>\n",
       "      <th>job_id</th>\n",
       "      <th>status</th>\n",
       "      <th>filename</th>\n",
       "      <th>results_url</th>\n",
       "      <th>catalogue</th>\n",
       "      <th>result.status</th>\n",
       "      <th>result.catalog</th>\n",
       "      <th>result.query_filename</th>\n",
       "      <th>result.md5_name</th>\n",
       "      <th>result.overlap</th>\n",
       "      <th>result.p_query</th>\n",
       "      <th>result.p_match</th>\n",
       "      <th>result.match</th>\n",
       "      <th>result.matches</th>\n",
       "    </tr>\n",
       "  </thead>\n",
       "  <tbody>\n",
       "    <tr>\n",
       "      <th>1</th>\n",
       "      <td>f6f29740-7aba-4dec-87cf-8bdc441c41df</td>\n",
       "      <td>SUCCESS</td>\n",
       "      <td>bin.4.sig</td>\n",
       "      <td>https://www.ebi.ac.uk/metagenomics/api/v1/genomes-search/results/f6f29740-7aba-4dec-87cf-8bdc441c41df</td>\n",
       "      <td>human-gut-v2-0</td>\n",
       "      <td>NaN</td>\n",
       "      <td>human-gut-v2-0</td>\n",
       "      <td>bin.4.sig</td>\n",
       "      <td>95935c5aa1283dd063a19eff883ea84c.sig</td>\n",
       "      <td>0.9 Mbp</td>\n",
       "      <td>66.8%</td>\n",
       "      <td>45.4%</td>\n",
       "      <td>MGYG000002570</td>\n",
       "      <td>1.0</td>\n",
       "    </tr>\n",
       "    <tr>\n",
       "      <th>5</th>\n",
       "      <td>7171ae49-93bb-4931-8d5b-e167191ebd79</td>\n",
       "      <td>SUCCESS</td>\n",
       "      <td>bin.1.sig</td>\n",
       "      <td>https://www.ebi.ac.uk/metagenomics/api/v1/genomes-search/results/7171ae49-93bb-4931-8d5b-e167191ebd79</td>\n",
       "      <td>human-gut-v2-0</td>\n",
       "      <td>NaN</td>\n",
       "      <td>human-gut-v2-0</td>\n",
       "      <td>bin.1.sig</td>\n",
       "      <td>90de13310088a31d1ccb76f1da574cb6.sig</td>\n",
       "      <td>1.9 Mbp</td>\n",
       "      <td>58.9%</td>\n",
       "      <td>52.7%</td>\n",
       "      <td>MGYG000000217</td>\n",
       "      <td>3.0</td>\n",
       "    </tr>\n",
       "    <tr>\n",
       "      <th>9</th>\n",
       "      <td>b1b7db4e-8430-474f-97cb-9b848f8316cb</td>\n",
       "      <td>SUCCESS</td>\n",
       "      <td>bin.5.sig</td>\n",
       "      <td>https://www.ebi.ac.uk/metagenomics/api/v1/genomes-search/results/b1b7db4e-8430-474f-97cb-9b848f8316cb</td>\n",
       "      <td>human-gut-v2-0</td>\n",
       "      <td>NaN</td>\n",
       "      <td>human-gut-v2-0</td>\n",
       "      <td>bin.5.sig</td>\n",
       "      <td>588a9cfc6aad0f88443f6afd115a738e.sig</td>\n",
       "      <td>0.9 Mbp</td>\n",
       "      <td>49.9%</td>\n",
       "      <td>48.0%</td>\n",
       "      <td>MGYG000004533</td>\n",
       "      <td>1.0</td>\n",
       "    </tr>\n",
       "    <tr>\n",
       "      <th>12</th>\n",
       "      <td>3af5d913-f69b-4f96-b434-9a2d16f45656</td>\n",
       "      <td>SUCCESS</td>\n",
       "      <td>bin.3.sig</td>\n",
       "      <td>https://www.ebi.ac.uk/metagenomics/api/v1/genomes-search/results/3af5d913-f69b-4f96-b434-9a2d16f45656</td>\n",
       "      <td>cow-rumen-v1-0</td>\n",
       "      <td>NaN</td>\n",
       "      <td>cow-rumen-v1-0</td>\n",
       "      <td>bin.3.sig</td>\n",
       "      <td>c399bb823a0358c2951ad2ac951daef6.sig</td>\n",
       "      <td>0.8 Mbp</td>\n",
       "      <td>30.3%</td>\n",
       "      <td>31.3%</td>\n",
       "      <td>MGYG000292488</td>\n",
       "      <td>1.0</td>\n",
       "    </tr>\n",
       "    <tr>\n",
       "      <th>13</th>\n",
       "      <td>4233ba6f-567f-429c-ae03-51d8934f4b90</td>\n",
       "      <td>SUCCESS</td>\n",
       "      <td>bin.3.sig</td>\n",
       "      <td>https://www.ebi.ac.uk/metagenomics/api/v1/genomes-search/results/4233ba6f-567f-429c-ae03-51d8934f4b90</td>\n",
       "      <td>human-gut-v2-0</td>\n",
       "      <td>NaN</td>\n",
       "      <td>human-gut-v2-0</td>\n",
       "      <td>bin.3.sig</td>\n",
       "      <td>c399bb823a0358c2951ad2ac951daef6.sig</td>\n",
       "      <td>1.8 Mbp</td>\n",
       "      <td>66.8%</td>\n",
       "      <td>57.0%</td>\n",
       "      <td>MGYG000000060</td>\n",
       "      <td>2.0</td>\n",
       "    </tr>\n",
       "    <tr>\n",
       "      <th>17</th>\n",
       "      <td>774bbe98-44f2-4c52-a2fd-75f059e15e42</td>\n",
       "      <td>SUCCESS</td>\n",
       "      <td>bin.2.sig</td>\n",
       "      <td>https://www.ebi.ac.uk/metagenomics/api/v1/genomes-search/results/774bbe98-44f2-4c52-a2fd-75f059e15e42</td>\n",
       "      <td>human-gut-v2-0</td>\n",
       "      <td>NaN</td>\n",
       "      <td>human-gut-v2-0</td>\n",
       "      <td>bin.2.sig</td>\n",
       "      <td>a6546452612d9462460ebdbd94c6c611.sig</td>\n",
       "      <td>3.4 Mbp</td>\n",
       "      <td>22.2%</td>\n",
       "      <td>63.0%</td>\n",
       "      <td>MGYG000002478</td>\n",
       "      <td>19.0</td>\n",
       "    </tr>\n",
       "  </tbody>\n",
       "</table>\n",
       "</div>"
      ],
      "text/plain": [
       "                                  job_id   status   filename  \\\n",
       "1   f6f29740-7aba-4dec-87cf-8bdc441c41df  SUCCESS  bin.4.sig   \n",
       "5   7171ae49-93bb-4931-8d5b-e167191ebd79  SUCCESS  bin.1.sig   \n",
       "9   b1b7db4e-8430-474f-97cb-9b848f8316cb  SUCCESS  bin.5.sig   \n",
       "12  3af5d913-f69b-4f96-b434-9a2d16f45656  SUCCESS  bin.3.sig   \n",
       "13  4233ba6f-567f-429c-ae03-51d8934f4b90  SUCCESS  bin.3.sig   \n",
       "17  774bbe98-44f2-4c52-a2fd-75f059e15e42  SUCCESS  bin.2.sig   \n",
       "\n",
       "                                                                                              results_url  \\\n",
       "1   https://www.ebi.ac.uk/metagenomics/api/v1/genomes-search/results/f6f29740-7aba-4dec-87cf-8bdc441c41df   \n",
       "5   https://www.ebi.ac.uk/metagenomics/api/v1/genomes-search/results/7171ae49-93bb-4931-8d5b-e167191ebd79   \n",
       "9   https://www.ebi.ac.uk/metagenomics/api/v1/genomes-search/results/b1b7db4e-8430-474f-97cb-9b848f8316cb   \n",
       "12  https://www.ebi.ac.uk/metagenomics/api/v1/genomes-search/results/3af5d913-f69b-4f96-b434-9a2d16f45656   \n",
       "13  https://www.ebi.ac.uk/metagenomics/api/v1/genomes-search/results/4233ba6f-567f-429c-ae03-51d8934f4b90   \n",
       "17  https://www.ebi.ac.uk/metagenomics/api/v1/genomes-search/results/774bbe98-44f2-4c52-a2fd-75f059e15e42   \n",
       "\n",
       "         catalogue result.status  result.catalog result.query_filename  \\\n",
       "1   human-gut-v2-0           NaN  human-gut-v2-0             bin.4.sig   \n",
       "5   human-gut-v2-0           NaN  human-gut-v2-0             bin.1.sig   \n",
       "9   human-gut-v2-0           NaN  human-gut-v2-0             bin.5.sig   \n",
       "12  cow-rumen-v1-0           NaN  cow-rumen-v1-0             bin.3.sig   \n",
       "13  human-gut-v2-0           NaN  human-gut-v2-0             bin.3.sig   \n",
       "17  human-gut-v2-0           NaN  human-gut-v2-0             bin.2.sig   \n",
       "\n",
       "                         result.md5_name result.overlap result.p_query  \\\n",
       "1   95935c5aa1283dd063a19eff883ea84c.sig        0.9 Mbp          66.8%   \n",
       "5   90de13310088a31d1ccb76f1da574cb6.sig        1.9 Mbp          58.9%   \n",
       "9   588a9cfc6aad0f88443f6afd115a738e.sig        0.9 Mbp          49.9%   \n",
       "12  c399bb823a0358c2951ad2ac951daef6.sig        0.8 Mbp          30.3%   \n",
       "13  c399bb823a0358c2951ad2ac951daef6.sig        1.8 Mbp          66.8%   \n",
       "17  a6546452612d9462460ebdbd94c6c611.sig        3.4 Mbp          22.2%   \n",
       "\n",
       "   result.p_match   result.match  result.matches  \n",
       "1           45.4%  MGYG000002570             1.0  \n",
       "5           52.7%  MGYG000000217             3.0  \n",
       "9           48.0%  MGYG000004533             1.0  \n",
       "12          31.3%  MGYG000292488             1.0  \n",
       "13          57.0%  MGYG000000060             2.0  \n",
       "17          63.0%  MGYG000002478            19.0  "
      ]
     },
     "execution_count": 67,
     "metadata": {},
     "output_type": "execute_result"
    }
   ],
   "source": [
    "matches"
   ]
  },
  {
   "cell_type": "code",
   "execution_count": 68,
   "id": "ecfd7a3d-ffdc-4243-a796-af52e4b46915",
   "metadata": {},
   "outputs": [
    {
     "data": {
      "text/plain": [
       "Text(0.5, 0.98, 'MAGs match with biomes')"
      ]
     },
     "execution_count": 68,
     "metadata": {},
     "output_type": "execute_result"
    },
    {
     "data": {
      "image/png": "[encoded data removed]",
      "text/plain": [
       "<Figure size 300x300 with 1 Axes>"
      ]
     },
     "metadata": {},
     "output_type": "display_data"
    }
   ],
   "source": [
    "fig = plt.figure(figsize=(3, 3))\n",
    "spec = fig.add_gridspec(1, 2)\n",
    "\n",
    "ax01 = fig.add_subplot(spec[0:])\n",
    "matches.catalogue.hist()\n",
    "plt.xlabel(\"Catalogue\")\n",
    "ax01.grid(False)\n",
    "\n",
    "fig.suptitle('MAGs match with biomes')\n",
    "#plt.savefig(\"outputs/signature_matches.png\",transparent=True)"
   ]
  },
  {
   "cell_type": "markdown",
   "id": "1c566d3a-44de-4953-89ed-a6b8117c5c40",
   "metadata": {},
   "source": [
    "#### What is the taxonomy of the MGnify MAGs which match the query?"
   ]
  },
  {
   "cell_type": "markdown",
   "id": "6296b1f2-e6ae-4865-9489-aff7e33400b7",
   "metadata": {},
   "source": [
    "Call the API for each Genome, to find it's taxonomic lineage."
   ]
  },
  {
   "cell_type": "code",
   "execution_count": 69,
   "id": "6b64a710-2d74-478e-b9a5-768810d5eaa5",
   "metadata": {
    "tags": []
   },
   "outputs": [],
   "source": [
    "def get_taxonomy_of_mgnify_mag(match_row):\n",
    "    mgyg_accession = match_row['result.match']\n",
    "    with APISession(\"https://www.ebi.ac.uk/metagenomics/api/v1\") as mgnify:\n",
    "        genome_document = mgnify.get('genomes', mgyg_accession)\n",
    "        return genome_document.resource.taxon_lineage"
   ]
  },
  {
   "cell_type": "markdown",
   "id": "addd4448-e1cc-4408-8894-f55ae3ac13b3",
   "metadata": {},
   "source": [
    "Create a new column in the matches the table."
   ]
  },
  {
   "cell_type": "code",
   "execution_count": 70,
   "id": "565a914b-eaaa-4599-b144-9232061c9a54",
   "metadata": {},
   "outputs": [],
   "source": [
    "matches['best_match_taxonomy'] = matches.apply(get_taxonomy_of_mgnify_mag, axis=1)"
   ]
  },
  {
   "cell_type": "code",
   "execution_count": 71,
   "id": "cb189fb5-40dd-4f23-9026-78c33d5aeb43",
   "metadata": {},
   "outputs": [
    {
     "data": {
      "text/html": [
       "<div>\n",
       "<style scoped>\n",
       "    .dataframe tbody tr th:only-of-type {\n",
       "        vertical-align: middle;\n",
       "    }\n",
       "\n",
       "    .dataframe tbody tr th {\n",
       "        vertical-align: top;\n",
       "    }\n",
       "\n",
       "    .dataframe thead th {\n",
       "        text-align: right;\n",
       "    }\n",
       "</style>\n",
       "<table border=\"1\" class=\"dataframe\">\n",
       "  <thead>\n",
       "    <tr style=\"text-align: right;\">\n",
       "      <th></th>\n",
       "      <th>job_id</th>\n",
       "      <th>status</th>\n",
       "      <th>filename</th>\n",
       "      <th>results_url</th>\n",
       "      <th>catalogue</th>\n",
       "      <th>result.status</th>\n",
       "      <th>result.catalog</th>\n",
       "      <th>result.query_filename</th>\n",
       "      <th>result.md5_name</th>\n",
       "      <th>result.overlap</th>\n",
       "      <th>result.p_query</th>\n",
       "      <th>result.p_match</th>\n",
       "      <th>result.match</th>\n",
       "      <th>result.matches</th>\n",
       "      <th>best_match_taxonomy</th>\n",
       "    </tr>\n",
       "  </thead>\n",
       "  <tbody>\n",
       "    <tr>\n",
       "      <th>1</th>\n",
       "      <td>f6f29740-7aba-4dec-87cf-8bdc441c41df</td>\n",
       "      <td>SUCCESS</td>\n",
       "      <td>bin.4.sig</td>\n",
       "      <td>https://www.ebi.ac.uk/metagenomics/api/v1/genomes-search/results/f6f29740-7aba-4dec-87cf-8bdc441c41df</td>\n",
       "      <td>human-gut-v2-0</td>\n",
       "      <td>NaN</td>\n",
       "      <td>human-gut-v2-0</td>\n",
       "      <td>bin.4.sig</td>\n",
       "      <td>95935c5aa1283dd063a19eff883ea84c.sig</td>\n",
       "      <td>0.9 Mbp</td>\n",
       "      <td>66.8%</td>\n",
       "      <td>45.4%</td>\n",
       "      <td>MGYG000002570</td>\n",
       "      <td>1.0</td>\n",
       "      <td>d__Bacteria;p__Firmicutes_A;c__Clostridia;o__Oscillospirales;f__Acutalibacteraceae;g__Ruminococcus_E;s__Ruminococcus_E sp003526955</td>\n",
       "    </tr>\n",
       "    <tr>\n",
       "      <th>5</th>\n",
       "      <td>7171ae49-93bb-4931-8d5b-e167191ebd79</td>\n",
       "      <td>SUCCESS</td>\n",
       "      <td>bin.1.sig</td>\n",
       "      <td>https://www.ebi.ac.uk/metagenomics/api/v1/genomes-search/results/7171ae49-93bb-4931-8d5b-e167191ebd79</td>\n",
       "      <td>human-gut-v2-0</td>\n",
       "      <td>NaN</td>\n",
       "      <td>human-gut-v2-0</td>\n",
       "      <td>bin.1.sig</td>\n",
       "      <td>90de13310088a31d1ccb76f1da574cb6.sig</td>\n",
       "      <td>1.9 Mbp</td>\n",
       "      <td>58.9%</td>\n",
       "      <td>52.7%</td>\n",
       "      <td>MGYG000000217</td>\n",
       "      <td>3.0</td>\n",
       "      <td>d__Bacteria;p__Firmicutes_A;c__Clostridia;o__Lachnospirales;f__Lachnospiraceae;g__Acetatifactor;s__Acetatifactor sp900066565</td>\n",
       "    </tr>\n",
       "    <tr>\n",
       "      <th>9</th>\n",
       "      <td>b1b7db4e-8430-474f-97cb-9b848f8316cb</td>\n",
       "      <td>SUCCESS</td>\n",
       "      <td>bin.5.sig</td>\n",
       "      <td>https://www.ebi.ac.uk/metagenomics/api/v1/genomes-search/results/b1b7db4e-8430-474f-97cb-9b848f8316cb</td>\n",
       "      <td>human-gut-v2-0</td>\n",
       "      <td>NaN</td>\n",
       "      <td>human-gut-v2-0</td>\n",
       "      <td>bin.5.sig</td>\n",
       "      <td>588a9cfc6aad0f88443f6afd115a738e.sig</td>\n",
       "      <td>0.9 Mbp</td>\n",
       "      <td>49.9%</td>\n",
       "      <td>48.0%</td>\n",
       "      <td>MGYG000004533</td>\n",
       "      <td>1.0</td>\n",
       "      <td>d__Bacteria;p__Proteobacteria;c__Alphaproteobacteria;o__RF32;f__CAG-239;g__CAG-495;s__CAG-495 sp000436375</td>\n",
       "    </tr>\n",
       "    <tr>\n",
       "      <th>12</th>\n",
       "      <td>3af5d913-f69b-4f96-b434-9a2d16f45656</td>\n",
       "      <td>SUCCESS</td>\n",
       "      <td>bin.3.sig</td>\n",
       "      <td>https://www.ebi.ac.uk/metagenomics/api/v1/genomes-search/results/3af5d913-f69b-4f96-b434-9a2d16f45656</td>\n",
       "      <td>cow-rumen-v1-0</td>\n",
       "      <td>NaN</td>\n",
       "      <td>cow-rumen-v1-0</td>\n",
       "      <td>bin.3.sig</td>\n",
       "      <td>c399bb823a0358c2951ad2ac951daef6.sig</td>\n",
       "      <td>0.8 Mbp</td>\n",
       "      <td>30.3%</td>\n",
       "      <td>31.3%</td>\n",
       "      <td>MGYG000292488</td>\n",
       "      <td>1.0</td>\n",
       "      <td>d__Bacteria;p__Firmicutes_A;c__Clostridia;o__Lachnospirales;f__Lachnospiraceae;g__Lachnospira;s__Lachnospira sp003537285</td>\n",
       "    </tr>\n",
       "    <tr>\n",
       "      <th>13</th>\n",
       "      <td>4233ba6f-567f-429c-ae03-51d8934f4b90</td>\n",
       "      <td>SUCCESS</td>\n",
       "      <td>bin.3.sig</td>\n",
       "      <td>https://www.ebi.ac.uk/metagenomics/api/v1/genomes-search/results/4233ba6f-567f-429c-ae03-51d8934f4b90</td>\n",
       "      <td>human-gut-v2-0</td>\n",
       "      <td>NaN</td>\n",
       "      <td>human-gut-v2-0</td>\n",
       "      <td>bin.3.sig</td>\n",
       "      <td>c399bb823a0358c2951ad2ac951daef6.sig</td>\n",
       "      <td>1.8 Mbp</td>\n",
       "      <td>66.8%</td>\n",
       "      <td>57.0%</td>\n",
       "      <td>MGYG000000060</td>\n",
       "      <td>2.0</td>\n",
       "      <td>d__Bacteria;p__Firmicutes_A;c__Clostridia;o__Lachnospirales;f__Lachnospiraceae;g__Lachnospira;s__Lachnospira eligens_A</td>\n",
       "    </tr>\n",
       "    <tr>\n",
       "      <th>17</th>\n",
       "      <td>774bbe98-44f2-4c52-a2fd-75f059e15e42</td>\n",
       "      <td>SUCCESS</td>\n",
       "      <td>bin.2.sig</td>\n",
       "      <td>https://www.ebi.ac.uk/metagenomics/api/v1/genomes-search/results/774bbe98-44f2-4c52-a2fd-75f059e15e42</td>\n",
       "      <td>human-gut-v2-0</td>\n",
       "      <td>NaN</td>\n",
       "      <td>human-gut-v2-0</td>\n",
       "      <td>bin.2.sig</td>\n",
       "      <td>a6546452612d9462460ebdbd94c6c611.sig</td>\n",
       "      <td>3.4 Mbp</td>\n",
       "      <td>22.2%</td>\n",
       "      <td>63.0%</td>\n",
       "      <td>MGYG000002478</td>\n",
       "      <td>19.0</td>\n",
       "      <td>d__Bacteria;p__Bacteroidota;c__Bacteroidia;o__Bacteroidales;f__Bacteroidaceae;g__Phocaeicola;s__Phocaeicola dorei</td>\n",
       "    </tr>\n",
       "  </tbody>\n",
       "</table>\n",
       "</div>"
      ],
      "text/plain": [
       "                                  job_id   status   filename  \\\n",
       "1   f6f29740-7aba-4dec-87cf-8bdc441c41df  SUCCESS  bin.4.sig   \n",
       "5   7171ae49-93bb-4931-8d5b-e167191ebd79  SUCCESS  bin.1.sig   \n",
       "9   b1b7db4e-8430-474f-97cb-9b848f8316cb  SUCCESS  bin.5.sig   \n",
       "12  3af5d913-f69b-4f96-b434-9a2d16f45656  SUCCESS  bin.3.sig   \n",
       "13  4233ba6f-567f-429c-ae03-51d8934f4b90  SUCCESS  bin.3.sig   \n",
       "17  774bbe98-44f2-4c52-a2fd-75f059e15e42  SUCCESS  bin.2.sig   \n",
       "\n",
       "                                                                                              results_url  \\\n",
       "1   https://www.ebi.ac.uk/metagenomics/api/v1/genomes-search/results/f6f29740-7aba-4dec-87cf-8bdc441c41df   \n",
       "5   https://www.ebi.ac.uk/metagenomics/api/v1/genomes-search/results/7171ae49-93bb-4931-8d5b-e167191ebd79   \n",
       "9   https://www.ebi.ac.uk/metagenomics/api/v1/genomes-search/results/b1b7db4e-8430-474f-97cb-9b848f8316cb   \n",
       "12  https://www.ebi.ac.uk/metagenomics/api/v1/genomes-search/results/3af5d913-f69b-4f96-b434-9a2d16f45656   \n",
       "13  https://www.ebi.ac.uk/metagenomics/api/v1/genomes-search/results/4233ba6f-567f-429c-ae03-51d8934f4b90   \n",
       "17  https://www.ebi.ac.uk/metagenomics/api/v1/genomes-search/results/774bbe98-44f2-4c52-a2fd-75f059e15e42   \n",
       "\n",
       "         catalogue result.status  result.catalog result.query_filename  \\\n",
       "1   human-gut-v2-0           NaN  human-gut-v2-0             bin.4.sig   \n",
       "5   human-gut-v2-0           NaN  human-gut-v2-0             bin.1.sig   \n",
       "9   human-gut-v2-0           NaN  human-gut-v2-0             bin.5.sig   \n",
       "12  cow-rumen-v1-0           NaN  cow-rumen-v1-0             bin.3.sig   \n",
       "13  human-gut-v2-0           NaN  human-gut-v2-0             bin.3.sig   \n",
       "17  human-gut-v2-0           NaN  human-gut-v2-0             bin.2.sig   \n",
       "\n",
       "                         result.md5_name result.overlap result.p_query  \\\n",
       "1   95935c5aa1283dd063a19eff883ea84c.sig        0.9 Mbp          66.8%   \n",
       "5   90de13310088a31d1ccb76f1da574cb6.sig        1.9 Mbp          58.9%   \n",
       "9   588a9cfc6aad0f88443f6afd115a738e.sig        0.9 Mbp          49.9%   \n",
       "12  c399bb823a0358c2951ad2ac951daef6.sig        0.8 Mbp          30.3%   \n",
       "13  c399bb823a0358c2951ad2ac951daef6.sig        1.8 Mbp          66.8%   \n",
       "17  a6546452612d9462460ebdbd94c6c611.sig        3.4 Mbp          22.2%   \n",
       "\n",
       "   result.p_match   result.match  result.matches  \\\n",
       "1           45.4%  MGYG000002570             1.0   \n",
       "5           52.7%  MGYG000000217             3.0   \n",
       "9           48.0%  MGYG000004533             1.0   \n",
       "12          31.3%  MGYG000292488             1.0   \n",
       "13          57.0%  MGYG000000060             2.0   \n",
       "17          63.0%  MGYG000002478            19.0   \n",
       "\n",
       "                                                                                                                   best_match_taxonomy  \n",
       "1   d__Bacteria;p__Firmicutes_A;c__Clostridia;o__Oscillospirales;f__Acutalibacteraceae;g__Ruminococcus_E;s__Ruminococcus_E sp003526955  \n",
       "5         d__Bacteria;p__Firmicutes_A;c__Clostridia;o__Lachnospirales;f__Lachnospiraceae;g__Acetatifactor;s__Acetatifactor sp900066565  \n",
       "9                            d__Bacteria;p__Proteobacteria;c__Alphaproteobacteria;o__RF32;f__CAG-239;g__CAG-495;s__CAG-495 sp000436375  \n",
       "12            d__Bacteria;p__Firmicutes_A;c__Clostridia;o__Lachnospirales;f__Lachnospiraceae;g__Lachnospira;s__Lachnospira sp003537285  \n",
       "13              d__Bacteria;p__Firmicutes_A;c__Clostridia;o__Lachnospirales;f__Lachnospiraceae;g__Lachnospira;s__Lachnospira eligens_A  \n",
       "17                   d__Bacteria;p__Bacteroidota;c__Bacteroidia;o__Bacteroidales;f__Bacteroidaceae;g__Phocaeicola;s__Phocaeicola dorei  "
      ]
     },
     "execution_count": 71,
     "metadata": {},
     "output_type": "execute_result"
    }
   ],
   "source": [
    "matches"
   ]
  },
  {
   "cell_type": "markdown",
   "id": "9d79d249-5c51-4096-b6bc-764be1470a6e",
   "metadata": {},
   "source": [
    "Summarise results with more verbose:"
   ]
  },
  {
   "cell_type": "code",
   "execution_count": 72,
   "id": "419317e2-a1ea-4a3b-bc84-bf78faf46062",
   "metadata": {},
   "outputs": [
    {
     "name": "stdout",
     "output_type": "stream",
     "text": [
      "The MAG (bin.4.sig) matches MGYG000002570 which has taxonomy d__Bacteria;p__Firmicutes_A;c__Clostridia;o__Oscillospirales;f__Acutalibacteraceae;g__Ruminococcus_E;s__Ruminococcus_E sp003526955\n",
      "The MAG (bin.1.sig) matches MGYG000000217 which has taxonomy d__Bacteria;p__Firmicutes_A;c__Clostridia;o__Lachnospirales;f__Lachnospiraceae;g__Acetatifactor;s__Acetatifactor sp900066565\n",
      "The MAG (bin.5.sig) matches MGYG000004533 which has taxonomy d__Bacteria;p__Proteobacteria;c__Alphaproteobacteria;o__RF32;f__CAG-239;g__CAG-495;s__CAG-495 sp000436375\n",
      "The MAG (bin.3.sig) matches MGYG000292488 which has taxonomy d__Bacteria;p__Firmicutes_A;c__Clostridia;o__Lachnospirales;f__Lachnospiraceae;g__Lachnospira;s__Lachnospira sp003537285\n",
      "The MAG (bin.3.sig) matches MGYG000000060 which has taxonomy d__Bacteria;p__Firmicutes_A;c__Clostridia;o__Lachnospirales;f__Lachnospiraceae;g__Lachnospira;s__Lachnospira eligens_A\n",
      "The MAG (bin.2.sig) matches MGYG000002478 which has taxonomy d__Bacteria;p__Bacteroidota;c__Bacteroidia;o__Bacteroidales;f__Bacteroidaceae;g__Phocaeicola;s__Phocaeicola dorei\n"
     ]
    }
   ],
   "source": [
    "for row, match in matches.iterrows():\n",
    "    print(f\"The MAG ({match['filename']}) matches {match['result.match']} which has taxonomy {match['best_match_taxonomy']}\")"
   ]
  },
  {
   "cell_type": "markdown",
   "id": "604c88cc-6501-4b0a-b3aa-5ddf0ee7be27",
   "metadata": {},
   "source": [
    "#### Which of our MAGs are completely novel (i.e. in no MGnify catalogue)"
   ]
  },
  {
   "cell_type": "markdown",
   "id": "b66d5ade-acd9-4f56-9c98-fadb6077b54f",
   "metadata": {},
   "source": [
    "One way to check this is to group all of the search results by filename (i.e. finding the queries for each MAG vs all catalogues) and checking whether the sum of all matches is 0..."
   ]
  },
  {
   "cell_type": "code",
   "execution_count": 73,
   "id": "c11927db-543d-49bc-a3d0-1d162203e4e0",
   "metadata": {},
   "outputs": [
    {
     "data": {
      "text/plain": [
       "filename\n",
       "bin.1.sig    False\n",
       "bin.2.sig    False\n",
       "bin.3.sig    False\n",
       "bin.4.sig    False\n",
       "bin.5.sig    False\n",
       "dtype: bool"
      ]
     },
     "execution_count": 73,
     "metadata": {},
     "output_type": "execute_result"
    }
   ],
   "source": [
    "query_result_df.groupby('filename').apply(lambda query: query['result.matches'].sum() == 0)"
   ]
  },
  {
   "cell_type": "raw",
   "id": "32065365-d329-4f25-a6df-3bd34d8596d2",
   "metadata": {},
   "source": [
    "In this example, none of the MAGs are completely novel."
   ]
  },
  {
   "cell_type": "code",
   "execution_count": null,
   "id": "416ac978-4bfc-4013-a468-f27bcbe7ea72",
   "metadata": {},
   "outputs": [],
   "source": []
  }
 ],
 "metadata": {
  "kernelspec": {
   "display_name": "Python 3 (ipykernel)",
   "language": "python",
   "name": "python3"
  },
  "language_info": {
   "codemirror_mode": {
    "name": "ipython",
    "version": 3
   },
   "file_extension": ".py",
   "mimetype": "text/x-python",
   "name": "python",
   "nbconvert_exporter": "python",
   "pygments_lexer": "ipython3",
   "version": "3.10.8"
  },
  "toc-autonumbering": true,
  "vscode": {
   "interpreter": {
    "hash": "31f2aee4e71d21fbe5cf8b01ff0e069b9275f58929596ceb00d14d90e3e16cd6"
   }
  }
 },
 "nbformat": 4,
 "nbformat_minor": 5
}
