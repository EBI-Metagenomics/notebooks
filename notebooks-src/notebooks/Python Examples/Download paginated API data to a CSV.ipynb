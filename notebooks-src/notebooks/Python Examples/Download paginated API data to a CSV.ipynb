{
 "cells": [
  {
   "cell_type": "markdown",
   "id": "ce2d1dc9-1a56-4103-8353-5a5b3fdb24bc",
   "metadata": {
    "tags": []
   },
   "source": [
    "<div style=\"max-width:1200px\"><img src=\"../_resources/mgnify_banner.png\" width=\"100%\"></div>"
   ]
  },
  {
   "cell_type": "markdown",
   "id": "5e7134e1-079b-421a-b634-261ce028e631",
   "metadata": {},
   "source": [
    "<img src=\"../_resources/mgnify_logo.png\" width=\"200px\">\n",
    "\n",
    "# Fetch paginated data from the MGnify API, and save it as a CSV file\n",
    "\n",
    "The [MGnify API](https://www.ebi.ac.uk/metagenomics/api/v1) returns paginated data. When you list data, it comes to you in pages, or chunks. You have to request each page in turn.\n",
    "The `jsonapi_client` package can do this for you, automatically.\n",
    "\n",
    "**This example shows you how to download a paginated list of data and save it to a CSV table file**\n",
    "\n",
    "You can find all of the other \"API endpoints\" using the [Browsable API interface in your web browser](https://www.ebi.ac.uk/metagenomics/api/v1). The URL you see in the browsable API is exactly the same as the one you can use in this code.\n",
    "\n",
    "This is an interactive code notebook (a Jupyter Notebook).\n",
    "To run this code, click into each cell and press the ▶ button in the top toolbar, or press `shift+enter`.\n",
    "\n",
    "---"
   ]
  },
  {
   "cell_type": "markdown",
   "id": "e747b927-19fa-4dbb-b219-4a7f5dafdcd5",
   "metadata": {},
   "source": [
    "We pick an API endpoint for the kind of data to download:"
   ]
  },
  {
   "cell_type": "code",
   "execution_count": null,
   "id": "a3dbe76a-7843-4b77-ae16-710af5ae7f56",
   "metadata": {},
   "outputs": [],
   "source": [
    "from lib.variable_utils import get_variable_from_link_or_input\n",
    "\n",
    "# You can also just directly set the api_endpoint variable in code, like this:\n",
    "# api_endpoint = 'super-studies'\n",
    "\n",
    "api_endpoint = get_variable_from_link_or_input('API_ENDPOINT', 'API Endpoint', 'super-studies')"
   ]
  },
  {
   "cell_type": "markdown",
   "id": "a4b779ca-07b1-4ca2-80a9-88df715bf250",
   "metadata": {},
   "source": [
    "Use `jsonapi_client` to go through the paginated data. Note that this may take quite a long for long lists, because the API automatically slows down your connection if you request a lot of data. This keeps the service working well for everybody else.\n",
    "\n",
    "We use `pandas`, an excellent library for data analysis, to normalise the data into a table."
   ]
  },
  {
   "cell_type": "code",
   "execution_count": null,
   "id": "4b574761-0257-4659-bb14-cfd93191a5b0",
   "metadata": {},
   "outputs": [],
   "source": [
    "from jsonapi_client import Session\n",
    "import pandas as pd\n",
    "\n",
    "with Session(\"https://www.ebi.ac.uk/metagenomics/api/v1\") as mgnify:\n",
    "    resources = map(lambda r: r.json, mgnify.iterate(api_endpoint))\n",
    "    resources = pd.json_normalize(resources)\n",
    "    resources.to_csv(f\"{api_endpoint}.csv\")\n",
    "resources"
   ]
  },
  {
   "cell_type": "code",
   "execution_count": null,
   "id": "ef547797-7208-43cc-ab86-53171b6cfee9",
   "metadata": {},
   "outputs": [],
   "source": []
  }
 ],
 "metadata": {
  "kernelspec": {
   "display_name": "Python 3 (ipykernel)",
   "language": "python",
   "name": "python3"
  },
  "language_info": {
   "codemirror_mode": {
    "name": "ipython",
    "version": 3
   },
   "file_extension": ".py",
   "mimetype": "text/x-python",
   "name": "python",
   "nbconvert_exporter": "python",
   "pygments_lexer": "ipython3",
   "version": "3.8.12"
  }
 },
 "nbformat": 4,
 "nbformat_minor": 5
}
