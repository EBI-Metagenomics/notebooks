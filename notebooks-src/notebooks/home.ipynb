{
 "cells": [
  {
   "cell_type": "markdown",
   "id": "cb5ddb79-47bd-49a1-ac5c-80800027f5b0",
   "metadata": {},
   "source": [
    "<img src=\"_resources/mgnify_logo.png\" width=\"200px\">\n",
    "\n",
    "# EMBL-EBI MGnify: Submit, analyse, discover and compare microbiome data\n",
    "### Examples using Python and R to access data from MGnify\n",
    "\n",
    "There are several interactive code notebooks in this repository.\n",
    "\n",
    "If you're using these examples on the `shiny-portal.embl.de` website, you can run code using this notebook server.\n",
    "\n",
    "You can also download these notebooks from our GitHub account, to run them on your own computer."
   ]
  },
  {
   "cell_type": "markdown",
   "id": "a04bce21-6d82-4a2a-9900-1fa006df5849",
   "metadata": {},
   "source": [
    "## Notebooks\n",
    "- [Home](home.ipynb)\n",
    "- [Python: Fetch paginated data from the API as a CSV](Python%20Examples/Download%20paginated%20API%20data%20to%20a%20CSV.ipynb)"
   ]
  },
  {
   "cell_type": "code",
   "execution_count": null,
   "id": "5402823e-db9a-44bd-8d16-2d58b88ff455",
   "metadata": {},
   "outputs": [],
   "source": []
  }
 ],
 "metadata": {
  "kernelspec": {
   "display_name": "Python 3 (ipykernel)",
   "language": "python",
   "name": "python3"
  },
  "language_info": {
   "codemirror_mode": {
    "name": "ipython",
    "version": 3
   },
   "file_extension": ".py",
   "mimetype": "text/x-python",
   "name": "python",
   "nbconvert_exporter": "python",
   "pygments_lexer": "ipython3",
   "version": "3.9.9"
  }
 },
 "nbformat": 4,
 "nbformat_minor": 5
}
