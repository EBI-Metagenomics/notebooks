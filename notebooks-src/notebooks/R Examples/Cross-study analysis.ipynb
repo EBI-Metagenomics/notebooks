{
 "cells": [
  {
   "cell_type": "markdown",
   "id": "1bebce35-5332-44bc-9b9c-83ffd1237b1c",
   "metadata": {},
   "source": [
    "<img src=\"../_resources/mgnify_logo.png\" width=\"200px\">\n",
    "\n",
    "# Cross-Study analysis, using MGnifyR\n",
    "\n",
    "The [MGnify API](https://www.ebi.ac.uk/metagenomics/api/v1) returns data and relationships as JSON. \n",
    "[MGnifyR](https://github.com/beadyallen/MGnifyR) is a package to help you read MGnify data into your R analyses.\n",
    "\n",
    "**This example shows you how to perform an analysis across multiple Studies. It is an example of comparing taxonomic diversity from two places in different Studies.**\n",
    "\n",
    "You can also discover more about the \"API\" using the [Browsable API interface in your web browser](https://www.ebi.ac.uk/metagenomics/api/v1).\n",
    "\n",
    "This is an interactive code notebook (a Jupyter Notebook).\n",
    "To run this code, click into each cell and press the ▶ button in the top toolbar, or press `shift+enter`.\n",
    "\n",
    "---"
   ]
  },
  {
   "cell_type": "code",
   "execution_count": 43,
   "id": "40008ca6-98da-407a-ba43-5813e7b3dd0c",
   "metadata": {},
   "outputs": [
    {
     "data": {
      "text/markdown": [
       "# Help with MGnifyR\n",
       "\n",
       "MGnifyR is an R package that provides a convenient way for R users to access data from [the MGnify API](https://www.ebi.ac.uk/metagenomics/api/).\n",
       "\n",
       "Detailed help for each function is available in R using the standard `?function_name` command (i.e. typing `?mgnify_query` will bring up built-in help for the mgnify_query command). \n",
       "\n",
       "A vignette is available containing a reasonably verbose overview of the main functionality. \n",
       "This can be read either within R with the `vignette(\"MGnifyR\")` command, or [in the development repository](https://htmlpreview.github.io/?https://github.com/beadyallen/MGnifyR/blob/master/doc/MGnifyR.html)\n",
       "\n",
       "## MGnifyR Command cheat sheet\n",
       "\n",
       "The following list of key functions should give a starting point for finding relevent documentation.\n",
       "\n",
       "- `mgnify_client()` : Create the client object required for all other functions.\n",
       "- `mgnify_query()` : Search the whole MGnify database.\n",
       "- `mgnify_analyses_from_xxx()` : Convert xxx accessions to analyses accessions. xxx is either samples or studies.\n",
       "- `mgnify_get_analyses_metadata()` : Retrieve all study, sample and analysis metadata for given analyses.\n",
       "- `mgnify_get_analyses_phyloseq()` : Convert abundance, taxonomic, and sample metadata into a single phyloseq object.\n",
       "- `mgnify_get_analyses_results()` : Get functional annotation results for a set of analyses.\n",
       "- `mgnify_download()` : Download raw results files from MGnify.\n",
       "- `mgnify_retrieve_json()` : Low level API access helper function.\n"
      ]
     },
     "metadata": {},
     "output_type": "display_data"
    }
   ],
   "source": [
    "library(IRdisplay)\n",
    "display_markdown(file = '../_resources/mgnifyr_help.md')"
   ]
  },
  {
   "cell_type": "markdown",
   "id": "8c8e8846-a74b-4100-93a5-05b3ed4305c5",
   "metadata": {},
   "source": [
    "Load libraries:"
   ]
  },
  {
   "cell_type": "code",
   "execution_count": null,
   "id": "803a6b89-7c5c-4d19-98fe-223a98112af8",
   "metadata": {},
   "outputs": [],
   "source": [
    "library(vegan)\n",
    "library(ggplot2)\n",
    "library(phyloseq)\n",
    "library(MGnifyR)\n",
    "\n",
    "mg <- mgnify_client(usecache = T, cache_dir = '/tmp/mgnify_cache')"
   ]
  },
  {
   "cell_type": "markdown",
   "id": "69c43ac2-1238-4528-947e-0eb0d8ad8e10",
   "metadata": {},
   "source": [
    "# Example: compare taxonomic abundances of two soil studies\n",
    "*This example is based on a [MGnify workshop exercise](https://beadyallen.github.io/MGnifyR/Exercises.html) created by [Ben Allen](https://github.com/beadyallen) (the author of MGnifyR).*"
   ]
  },
  {
   "cell_type": "markdown",
   "id": "d0164772-7177-4a63-991b-151866ddf928",
   "metadata": {},
   "source": [
    "## Fetch the MGnify Analyses accessions for each of two Studies\n",
    "(one with samples from Malaysia, one with samples from Panama)"
   ]
  },
  {
   "cell_type": "code",
   "execution_count": null,
   "id": "47a77e8c-af32-4cd3-b3be-af8a57c09d37",
   "metadata": {},
   "outputs": [],
   "source": [
    "panama <- mgnify_analyses_from_studies(mg, 'MGYS00003920')\n",
    "malaysia <- mgnify_analyses_from_studies(mg, 'MGYS00003918')"
   ]
  },
  {
   "cell_type": "markdown",
   "id": "49b01fc0-ec0a-4f66-afeb-7d4501579388",
   "metadata": {},
   "source": [
    "Join the Analyses accession lists"
   ]
  },
  {
   "cell_type": "code",
   "execution_count": null,
   "id": "ff0060e4-8c37-4f97-832c-2c7b98a1c52e",
   "metadata": {},
   "outputs": [],
   "source": [
    "accessions <- c(panama, malaysia)\n",
    "sprintf('There are %d accessions between the studies', length(accessions))"
   ]
  },
  {
   "cell_type": "markdown",
   "id": "378f735e-9fb8-4f96-b8c2-a478c29078e9",
   "metadata": {},
   "source": [
    "Fetch metadata for all of the Analyses from the MGnify API"
   ]
  },
  {
   "cell_type": "code",
   "execution_count": null,
   "id": "8b3a9b2d-5733-42aa-af96-1984379dcbf5",
   "metadata": {},
   "outputs": [],
   "source": [
    "metadata <- mgnify_get_analyses_metadata(mg, accessions)\n",
    "head(metadata)"
   ]
  },
  {
   "cell_type": "markdown",
   "id": "0c7acf9f-cdd6-4e20-ab1c-c09823050059",
   "metadata": {},
   "source": [
    "## Taxonomic analysis\n",
    "First, build a [phyloseq](https://joey711.github.io/phyloseq/) object of the Analyses metadata"
   ]
  },
  {
   "cell_type": "code",
   "execution_count": null,
   "id": "9ff639ea-6e49-46e4-ab89-5a360617ed90",
   "metadata": {},
   "outputs": [],
   "source": [
    "ps <- mgnify_get_analyses_phyloseq(mg, metadata$analysis_accession)"
   ]
  },
  {
   "cell_type": "markdown",
   "id": "fe03725b-e3f6-4a90-b416-5aaa49b1e2fb",
   "metadata": {},
   "source": [
    "#### Filter out low-abundance samples\n",
    "Filter out samples with low abundances, leaving just those in the \"normal\" distribution. This is particularly important given the normalisation approach we're about to use ([`phyloseq`'s slightly controversial `rarefy_even_depth`](https://www.rdocumentation.org/packages/phyloseq/versions/1.16.2/topics/rarefy_even_depth).)\n",
    "\n",
    "We make a histogram and note that samples with abundances $\\lt 10^3$ i.e. $\\lt 1000$ seem to be outliers."
   ]
  },
  {
   "cell_type": "code",
   "execution_count": null,
   "id": "c28ff212-59ad-4944-8357-3941a64dbbee",
   "metadata": {},
   "outputs": [],
   "source": [
    "hist(log10(sample_sums(ps)), breaks = 50)"
   ]
  },
  {
   "cell_type": "code",
   "execution_count": null,
   "id": "edf6f9ef-533f-4c26-bfae-91b3898ca8c0",
   "metadata": {},
   "outputs": [],
   "source": [
    "ps_good <- subset_samples(ps, sample_sums(ps) > 1000)\n",
    "hist(log10(sample_sums(ps_good)), breaks = 50)"
   ]
  },
  {
   "cell_type": "markdown",
   "id": "a1d4b790-94d5-484b-84fd-cbe8a29453ea",
   "metadata": {},
   "source": [
    "#### Estimate richness\n",
    "\n",
    "Use `estimate_richness` to calculate various diversity measures for each analysis.\n",
    "\n",
    "To read the documentation on this method, enter `?estimate_richness` in a Code Cell and run it."
   ]
  },
  {
   "cell_type": "code",
   "execution_count": null,
   "id": "79696fa1-830f-4754-b053-72c35bf219d0",
   "metadata": {
    "tags": []
   },
   "outputs": [],
   "source": [
    "#  ?estimate_richness"
   ]
  },
  {
   "cell_type": "code",
   "execution_count": null,
   "id": "3966201c-f453-4cda-9b37-4175b6ca2683",
   "metadata": {},
   "outputs": [],
   "source": [
    "diversity = estimate_richness(ps_good)\n",
    "head(diversity)\n",
    "\n",
    "diversity[diversity$Observed == max(diversity$Observed),]"
   ]
  },
  {
   "cell_type": "markdown",
   "id": "341784b5-eb00-4dca-b35d-bb0539f71d9d",
   "metadata": {},
   "source": [
    "#### Normalise the data by rarefication"
   ]
  },
  {
   "cell_type": "code",
   "execution_count": null,
   "id": "a79a572b-cbff-4a0b-b513-a286efbb69ad",
   "metadata": {},
   "outputs": [],
   "source": [
    "ps_rare <- rarefy_even_depth(ps_good)\n",
    "div_rare <- estimate_richness(ps_rare)"
   ]
  },
  {
   "cell_type": "code",
   "execution_count": null,
   "id": "4d01b9a4-2290-4528-88b3-2fa663cdb013",
   "metadata": {},
   "outputs": [],
   "source": [
    "merged_df <- merge(div_rare, metadata, by = 0, all.y = F)\n",
    "head(merged_df)"
   ]
  },
  {
   "cell_type": "code",
   "execution_count": null,
   "id": "6425cc11-68c8-4b39-b12c-a024add8e3be",
   "metadata": {},
   "outputs": [],
   "source": [
    "options(repr.plot.width=12, repr.plot.height=8)\n",
    "ggplot(merged_df, aes(x=`sample_geo-loc-name`, y=Observed)) + geom_boxplot() + theme(text = element_text(size = 20))"
   ]
  },
  {
   "cell_type": "code",
   "execution_count": null,
   "id": "5bccc5d9-8c27-4e14-a87f-fdb4fa70c8cd",
   "metadata": {},
   "outputs": [],
   "source": []
  }
 ],
 "metadata": {
  "kernelspec": {
   "display_name": "R",
   "language": "R",
   "name": "ir"
  },
  "language_info": {
   "codemirror_mode": "r",
   "file_extension": ".r",
   "mimetype": "text/x-r-source",
   "name": "R",
   "pygments_lexer": "r",
   "version": "4.1.2"
  }
 },
 "nbformat": 4,
 "nbformat_minor": 5
}
