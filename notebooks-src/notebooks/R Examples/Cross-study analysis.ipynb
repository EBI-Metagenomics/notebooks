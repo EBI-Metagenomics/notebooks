{
 "cells": [
  {
   "cell_type": "markdown",
   "id": "8ad7879a-06f6-4268-8e13-cdef86c43f24",
   "metadata": {},
   "source": [
    "<div style=\"max-width:1200px\"><img src=\"../_resources/mgnify_banner.png\" width=\"100%\"></div>"
   ]
  },
  {
   "cell_type": "markdown",
   "id": "1bebce35-5332-44bc-9b9c-83ffd1237b1c",
   "metadata": {},
   "source": [
    "<img src=\"../_resources/mgnify_logo.png\" width=\"200px\">\n",
    "\n",
    "# Cross-Study analysis, using MGnifyR\n",
    "\n",
    "The [MGnify API](https://www.ebi.ac.uk/metagenomics/api/v1) returns data and relationships as JSON. \n",
    "[MGnifyR](https://github.com/beadyallen/MGnifyR) is a package to help you read MGnify data into your R analyses.\n",
    "\n",
    "**This example shows you how to perform an analysis across multiple Studies. It is an example of comparing taxonomic diversity from two places in different Studies.**\n",
    "\n",
    "You can also discover more about the \"API\" using the [Browsable API interface in your web browser](https://www.ebi.ac.uk/metagenomics/api/v1).\n",
    "\n",
    "This is an interactive code notebook (a Jupyter Notebook).\n",
    "To run this code, click into each cell and press the ▶ button in the top toolbar, or press `shift+enter`.\n",
    "\n",
    "---"
   ]
  },
  {
   "cell_type": "code",
   "execution_count": 1,
   "id": "40008ca6-98da-407a-ba43-5813e7b3dd0c",
   "metadata": {},
   "outputs": [
    {
     "data": {
      "text/markdown": [
       "# Help with MGnifyR\n",
       "\n",
       "MGnifyR is an R package that provides a convenient way for R users to access data from [the MGnify API](https://www.ebi.ac.uk/metagenomics/api/).\n",
       "\n",
       "Detailed help for each function is available in R using the standard `?function_name` command (i.e. typing `?mgnify_query` will bring up built-in help for the mgnify_query command). \n",
       "\n",
       "A vignette is available containing a reasonably verbose overview of the main functionality. \n",
       "This can be read either within R with the `vignette(\"MGnifyR\")` command, or [in the development repository](https://htmlpreview.github.io/?https://github.com/beadyallen/MGnifyR/blob/master/doc/MGnifyR.html)\n",
       "\n",
       "## MGnifyR Command cheat sheet\n",
       "\n",
       "The following list of key functions should give a starting point for finding relevent documentation.\n",
       "\n",
       "- `mgnify_client()` : Create the client object required for all other functions.\n",
       "- `mgnify_query()` : Search the whole MGnify database.\n",
       "- `mgnify_analyses_from_xxx()` : Convert xxx accessions to analyses accessions. xxx is either samples or studies.\n",
       "- `mgnify_get_analyses_metadata()` : Retrieve all study, sample and analysis metadata for given analyses.\n",
       "- `mgnify_get_analyses_phyloseq()` : Convert abundance, taxonomic, and sample metadata into a single phyloseq object.\n",
       "- `mgnify_get_analyses_results()` : Get functional annotation results for a set of analyses.\n",
       "- `mgnify_download()` : Download raw results files from MGnify.\n",
       "- `mgnify_retrieve_json()` : Low level API access helper function.\n"
      ]
     },
     "metadata": {},
     "output_type": "display_data"
    }
   ],
   "source": [
    "library(IRdisplay)\n",
    "display_markdown(file = '../_resources/mgnifyr_help.md')"
   ]
  },
  {
   "cell_type": "markdown",
   "id": "8c8e8846-a74b-4100-93a5-05b3ed4305c5",
   "metadata": {},
   "source": [
    "Load libraries:"
   ]
  },
  {
   "cell_type": "code",
   "execution_count": 1,
   "id": "803a6b89-7c5c-4d19-98fe-223a98112af8",
   "metadata": {},
   "outputs": [
    {
     "name": "stderr",
     "output_type": "stream",
     "text": [
      "Loading required package: permute\n",
      "\n",
      "Loading required package: lattice\n",
      "\n",
      "This is vegan 2.5-7\n",
      "\n",
      "Loading required package: mlr\n",
      "\n",
      "Loading required package: ParamHelpers\n",
      "\n",
      "Warning message: 'mlr' is in 'maintenance-only' mode since July 2019.\n",
      "Future development will only happen in 'mlr3'\n",
      "(<https://mlr3.mlr-org.com>). Due to the focus on 'mlr3' there might be\n",
      "uncaught bugs meanwhile in {mlr} - please consider switching.\n",
      "\n",
      "\n",
      "Attaching package: ‘BiocGenerics’\n",
      "\n",
      "\n",
      "The following objects are masked from ‘package:stats’:\n",
      "\n",
      "    IQR, mad, sd, var, xtabs\n",
      "\n",
      "\n",
      "The following objects are masked from ‘package:base’:\n",
      "\n",
      "    anyDuplicated, append, as.data.frame, basename, cbind, colnames,\n",
      "    dirname, do.call, duplicated, eval, evalq, Filter, Find, get, grep,\n",
      "    grepl, intersect, is.unsorted, lapply, Map, mapply, match, mget,\n",
      "    order, paste, pmax, pmax.int, pmin, pmin.int, Position, rank,\n",
      "    rbind, Reduce, rownames, sapply, setdiff, sort, table, tapply,\n",
      "    union, unique, unsplit, which.max, which.min\n",
      "\n",
      "\n",
      "Welcome to Bioconductor\n",
      "\n",
      "    Vignettes contain introductory material; view with\n",
      "    'browseVignettes()'. To cite Bioconductor, see\n",
      "    'citation(\"Biobase\")', and for packages 'citation(\"pkgname\")'.\n",
      "\n",
      "\n",
      "\n",
      "Attaching package: ‘Biobase’\n",
      "\n",
      "\n",
      "The following object is masked from ‘package:phyloseq’:\n",
      "\n",
      "    sampleNames\n",
      "\n",
      "\n",
      "\n",
      "Attaching package: ‘limma’\n",
      "\n",
      "\n",
      "The following object is masked from ‘package:BiocGenerics’:\n",
      "\n",
      "    plotMA\n",
      "\n",
      "\n",
      "The following object is masked from ‘package:ParamHelpers’:\n",
      "\n",
      "    isNumeric\n",
      "\n",
      "\n",
      "Loaded glmnet 4.1-2\n",
      "\n"
     ]
    }
   ],
   "source": [
    "library(vegan)\n",
    "library(ggplot2)\n",
    "library(phyloseq)\n",
    "library(MGnifyR)\n",
    "library(SIAMCAT)\n",
    "library(metagenomeSeq, quietly = T)\n",
    "\n",
    "mg <- mgnify_client(usecache = T, cache_dir = '/tmp/mgnify_cache')"
   ]
  },
  {
   "cell_type": "markdown",
   "id": "69c43ac2-1238-4528-947e-0eb0d8ad8e10",
   "metadata": {},
   "source": [
    "# Example: compare taxonomic abundances of two soil studies\n",
    "*This example is based on a [MGnify workshop exercise](https://beadyallen.github.io/MGnifyR/Exercises.html) created by [Ben Allen](https://github.com/beadyallen) (the author of MGnifyR).*"
   ]
  },
  {
   "cell_type": "markdown",
   "id": "d0164772-7177-4a63-991b-151866ddf928",
   "metadata": {},
   "source": [
    "## Fetch the MGnify Analyses accessions for each of two Studies\n",
    "(one with samples from Malaysia, one with samples from Panama)"
   ]
  },
  {
   "cell_type": "code",
   "execution_count": 3,
   "id": "47a77e8c-af32-4cd3-b3be-af8a57c09d37",
   "metadata": {},
   "outputs": [
    {
     "name": "stdout",
     "output_type": "stream",
     "text": [
      "  |======================================================================| 100%\n",
      "  |======================================================================| 100%\n"
     ]
    }
   ],
   "source": [
    "panama <- mgnify_analyses_from_studies(mg, 'MGYS00003920')\n",
    "malaysia <- mgnify_analyses_from_studies(mg, 'MGYS00003918')"
   ]
  },
  {
   "cell_type": "markdown",
   "id": "49b01fc0-ec0a-4f66-afeb-7d4501579388",
   "metadata": {},
   "source": [
    "Join the Analyses accession lists"
   ]
  },
  {
   "cell_type": "code",
   "execution_count": 4,
   "id": "ff0060e4-8c37-4f97-832c-2c7b98a1c52e",
   "metadata": {},
   "outputs": [
    {
     "data": {
      "text/html": [
       "'There are 78 accessions between the studies'"
      ],
      "text/latex": [
       "'There are 78 accessions between the studies'"
      ],
      "text/markdown": [
       "'There are 78 accessions between the studies'"
      ],
      "text/plain": [
       "[1] \"There are 78 accessions between the studies\""
      ]
     },
     "metadata": {},
     "output_type": "display_data"
    }
   ],
   "source": [
    "accessions <- c(panama, malaysia)\n",
    "sprintf('There are %d accessions between the studies', length(accessions))"
   ]
  },
  {
   "cell_type": "markdown",
   "id": "378f735e-9fb8-4f96-b8c2-a478c29078e9",
   "metadata": {},
   "source": [
    "Fetch metadata for all of the Analyses from the MGnify API"
   ]
  },
  {
   "cell_type": "code",
   "execution_count": 5,
   "id": "8b3a9b2d-5733-42aa-af96-1984379dcbf5",
   "metadata": {},
   "outputs": [
    {
     "name": "stdout",
     "output_type": "stream",
     "text": [
      "  |======================================================================| 100%\n"
     ]
    },
    {
     "data": {
      "text/html": [
       "<table class=\"dataframe\">\n",
       "<caption>A data.frame: 6 × 59</caption>\n",
       "<thead>\n",
       "\t<tr><th></th><th scope=col>analysis_experiment-type</th><th scope=col>analysis_accession</th><th scope=col>analysis_analysis-status</th><th scope=col>analysis_pipeline-version</th><th scope=col>analysis_complete-time</th><th scope=col>analysis_instrument-platform</th><th scope=col>analysis_instrument-model</th><th scope=col>analysis_Submitted nucleotide sequences</th><th scope=col>analysis_Nucleotide sequences after format-specific filtering</th><th scope=col>analysis_Nucleotide sequences after length filtering</th><th scope=col>⋯</th><th scope=col>sample_depth</th><th scope=col>sample_elevation</th><th scope=col>sample_pH</th><th scope=col>sample_geographic location (latitude)</th><th scope=col>sample_instrument model</th><th scope=col>sample_ENA checklist</th><th scope=col>sample_last update date</th><th scope=col>sample_acc_type</th><th scope=col>run_accession</th><th scope=col>biome_string</th></tr>\n",
       "\t<tr><th></th><th scope=col>&lt;chr&gt;</th><th scope=col>&lt;chr&gt;</th><th scope=col>&lt;chr&gt;</th><th scope=col>&lt;chr&gt;</th><th scope=col>&lt;chr&gt;</th><th scope=col>&lt;chr&gt;</th><th scope=col>&lt;chr&gt;</th><th scope=col>&lt;chr&gt;</th><th scope=col>&lt;chr&gt;</th><th scope=col>&lt;chr&gt;</th><th scope=col>⋯</th><th scope=col>&lt;chr&gt;</th><th scope=col>&lt;chr&gt;</th><th scope=col>&lt;chr&gt;</th><th scope=col>&lt;chr&gt;</th><th scope=col>&lt;chr&gt;</th><th scope=col>&lt;chr&gt;</th><th scope=col>&lt;chr&gt;</th><th scope=col>&lt;chr&gt;</th><th scope=col>&lt;chr&gt;</th><th scope=col>&lt;chr&gt;</th></tr>\n",
       "</thead>\n",
       "<tbody>\n",
       "\t<tr><th scope=row>MGYA00329605</th><td>unknown</td><td>MGYA00329605</td><td>completed</td><td>4.1</td><td>2019-03-06T00:00:00</td><td>ILLUMINA</td><td>Illumina MiSeq</td><td>120  </td><td>120  </td><td>118  </td><td>⋯</td><td>0.0-0.2</td><td>53.0 </td><td>3.3</td><td>8.971447 </td><td>Illumina MiSeq</td><td>ERC000011</td><td>2017-02-18</td><td>samples</td><td>ERR1844693</td><td>root:Environmental:Terrestrial:Soil</td></tr>\n",
       "\t<tr><th scope=row>MGYA00329606</th><td>unknown</td><td>MGYA00329606</td><td>completed</td><td>4.1</td><td>2019-03-06T00:00:00</td><td>ILLUMINA</td><td>Illumina MiSeq</td><td>27607</td><td>27607</td><td>27233</td><td>⋯</td><td>0.0-0.2</td><td>120.0</td><td>6.4</td><td>9.1442795</td><td>Illumina MiSeq</td><td>ERC000011</td><td>2017-02-18</td><td>samples</td><td>ERR1844694</td><td>root:Environmental:Terrestrial:Soil</td></tr>\n",
       "\t<tr><th scope=row>MGYA00329607</th><td>unknown</td><td>MGYA00329607</td><td>completed</td><td>4.1</td><td>2019-03-06T00:00:00</td><td>ILLUMINA</td><td>Illumina MiSeq</td><td>25238</td><td>25238</td><td>24806</td><td>⋯</td><td>0.0-0.2</td><td>120.0</td><td>5.6</td><td>9.1442795</td><td>Illumina MiSeq</td><td>ERC000011</td><td>2017-02-18</td><td>samples</td><td>ERR1844695</td><td>root:Environmental:Terrestrial:Soil</td></tr>\n",
       "\t<tr><th scope=row>MGYA00329608</th><td>unknown</td><td>MGYA00329608</td><td>completed</td><td>4.1</td><td>2019-03-06T00:00:00</td><td>ILLUMINA</td><td>Illumina MiSeq</td><td>5    </td><td>5    </td><td>5    </td><td>⋯</td><td>0.0-0.2</td><td>53.0 </td><td>3.6</td><td>8.971447 </td><td>Illumina MiSeq</td><td>ERC000011</td><td>2017-02-18</td><td>samples</td><td>ERR1844696</td><td>root:Environmental:Terrestrial:Soil</td></tr>\n",
       "\t<tr><th scope=row>MGYA00329609</th><td>unknown</td><td>MGYA00329609</td><td>completed</td><td>4.1</td><td>2019-03-06T00:00:00</td><td>ILLUMINA</td><td>Illumina MiSeq</td><td>20805</td><td>20805</td><td>20464</td><td>⋯</td><td>0.0-0.2</td><td>155.0</td><td>6.9</td><td>9.080094 </td><td>Illumina MiSeq</td><td>ERC000011</td><td>2017-02-18</td><td>samples</td><td>ERR1844697</td><td>root:Environmental:Terrestrial:Soil</td></tr>\n",
       "\t<tr><th scope=row>MGYA00329610</th><td>unknown</td><td>MGYA00329610</td><td>completed</td><td>4.1</td><td>2019-03-06T00:00:00</td><td>ILLUMINA</td><td>Illumina MiSeq</td><td>21171</td><td>21171</td><td>20834</td><td>⋯</td><td>0.0-0.2</td><td>64.0 </td><td>6.3</td><td>8.908218 </td><td>Illumina MiSeq</td><td>ERC000011</td><td>2017-02-18</td><td>samples</td><td>ERR1844698</td><td>root:Environmental:Terrestrial:Soil</td></tr>\n",
       "</tbody>\n",
       "</table>\n"
      ],
      "text/latex": [
       "A data.frame: 6 × 59\n",
       "\\begin{tabular}{r|lllllllllllllllllllll}\n",
       "  & analysis\\_experiment-type & analysis\\_accession & analysis\\_analysis-status & analysis\\_pipeline-version & analysis\\_complete-time & analysis\\_instrument-platform & analysis\\_instrument-model & analysis\\_Submitted nucleotide sequences & analysis\\_Nucleotide sequences after format-specific filtering & analysis\\_Nucleotide sequences after length filtering & ⋯ & sample\\_depth & sample\\_elevation & sample\\_pH & sample\\_geographic location (latitude) & sample\\_instrument model & sample\\_ENA checklist & sample\\_last update date & sample\\_acc\\_type & run\\_accession & biome\\_string\\\\\n",
       "  & <chr> & <chr> & <chr> & <chr> & <chr> & <chr> & <chr> & <chr> & <chr> & <chr> & ⋯ & <chr> & <chr> & <chr> & <chr> & <chr> & <chr> & <chr> & <chr> & <chr> & <chr>\\\\\n",
       "\\hline\n",
       "\tMGYA00329605 & unknown & MGYA00329605 & completed & 4.1 & 2019-03-06T00:00:00 & ILLUMINA & Illumina MiSeq & 120   & 120   & 118   & ⋯ & 0.0-0.2 & 53.0  & 3.3 & 8.971447  & Illumina MiSeq & ERC000011 & 2017-02-18 & samples & ERR1844693 & root:Environmental:Terrestrial:Soil\\\\\n",
       "\tMGYA00329606 & unknown & MGYA00329606 & completed & 4.1 & 2019-03-06T00:00:00 & ILLUMINA & Illumina MiSeq & 27607 & 27607 & 27233 & ⋯ & 0.0-0.2 & 120.0 & 6.4 & 9.1442795 & Illumina MiSeq & ERC000011 & 2017-02-18 & samples & ERR1844694 & root:Environmental:Terrestrial:Soil\\\\\n",
       "\tMGYA00329607 & unknown & MGYA00329607 & completed & 4.1 & 2019-03-06T00:00:00 & ILLUMINA & Illumina MiSeq & 25238 & 25238 & 24806 & ⋯ & 0.0-0.2 & 120.0 & 5.6 & 9.1442795 & Illumina MiSeq & ERC000011 & 2017-02-18 & samples & ERR1844695 & root:Environmental:Terrestrial:Soil\\\\\n",
       "\tMGYA00329608 & unknown & MGYA00329608 & completed & 4.1 & 2019-03-06T00:00:00 & ILLUMINA & Illumina MiSeq & 5     & 5     & 5     & ⋯ & 0.0-0.2 & 53.0  & 3.6 & 8.971447  & Illumina MiSeq & ERC000011 & 2017-02-18 & samples & ERR1844696 & root:Environmental:Terrestrial:Soil\\\\\n",
       "\tMGYA00329609 & unknown & MGYA00329609 & completed & 4.1 & 2019-03-06T00:00:00 & ILLUMINA & Illumina MiSeq & 20805 & 20805 & 20464 & ⋯ & 0.0-0.2 & 155.0 & 6.9 & 9.080094  & Illumina MiSeq & ERC000011 & 2017-02-18 & samples & ERR1844697 & root:Environmental:Terrestrial:Soil\\\\\n",
       "\tMGYA00329610 & unknown & MGYA00329610 & completed & 4.1 & 2019-03-06T00:00:00 & ILLUMINA & Illumina MiSeq & 21171 & 21171 & 20834 & ⋯ & 0.0-0.2 & 64.0  & 6.3 & 8.908218  & Illumina MiSeq & ERC000011 & 2017-02-18 & samples & ERR1844698 & root:Environmental:Terrestrial:Soil\\\\\n",
       "\\end{tabular}\n"
      ],
      "text/markdown": [
       "\n",
       "A data.frame: 6 × 59\n",
       "\n",
       "| <!--/--> | analysis_experiment-type &lt;chr&gt; | analysis_accession &lt;chr&gt; | analysis_analysis-status &lt;chr&gt; | analysis_pipeline-version &lt;chr&gt; | analysis_complete-time &lt;chr&gt; | analysis_instrument-platform &lt;chr&gt; | analysis_instrument-model &lt;chr&gt; | analysis_Submitted nucleotide sequences &lt;chr&gt; | analysis_Nucleotide sequences after format-specific filtering &lt;chr&gt; | analysis_Nucleotide sequences after length filtering &lt;chr&gt; | ⋯ ⋯ | sample_depth &lt;chr&gt; | sample_elevation &lt;chr&gt; | sample_pH &lt;chr&gt; | sample_geographic location (latitude) &lt;chr&gt; | sample_instrument model &lt;chr&gt; | sample_ENA checklist &lt;chr&gt; | sample_last update date &lt;chr&gt; | sample_acc_type &lt;chr&gt; | run_accession &lt;chr&gt; | biome_string &lt;chr&gt; |\n",
       "|---|---|---|---|---|---|---|---|---|---|---|---|---|---|---|---|---|---|---|---|---|---|\n",
       "| MGYA00329605 | unknown | MGYA00329605 | completed | 4.1 | 2019-03-06T00:00:00 | ILLUMINA | Illumina MiSeq | 120   | 120   | 118   | ⋯ | 0.0-0.2 | 53.0  | 3.3 | 8.971447  | Illumina MiSeq | ERC000011 | 2017-02-18 | samples | ERR1844693 | root:Environmental:Terrestrial:Soil |\n",
       "| MGYA00329606 | unknown | MGYA00329606 | completed | 4.1 | 2019-03-06T00:00:00 | ILLUMINA | Illumina MiSeq | 27607 | 27607 | 27233 | ⋯ | 0.0-0.2 | 120.0 | 6.4 | 9.1442795 | Illumina MiSeq | ERC000011 | 2017-02-18 | samples | ERR1844694 | root:Environmental:Terrestrial:Soil |\n",
       "| MGYA00329607 | unknown | MGYA00329607 | completed | 4.1 | 2019-03-06T00:00:00 | ILLUMINA | Illumina MiSeq | 25238 | 25238 | 24806 | ⋯ | 0.0-0.2 | 120.0 | 5.6 | 9.1442795 | Illumina MiSeq | ERC000011 | 2017-02-18 | samples | ERR1844695 | root:Environmental:Terrestrial:Soil |\n",
       "| MGYA00329608 | unknown | MGYA00329608 | completed | 4.1 | 2019-03-06T00:00:00 | ILLUMINA | Illumina MiSeq | 5     | 5     | 5     | ⋯ | 0.0-0.2 | 53.0  | 3.6 | 8.971447  | Illumina MiSeq | ERC000011 | 2017-02-18 | samples | ERR1844696 | root:Environmental:Terrestrial:Soil |\n",
       "| MGYA00329609 | unknown | MGYA00329609 | completed | 4.1 | 2019-03-06T00:00:00 | ILLUMINA | Illumina MiSeq | 20805 | 20805 | 20464 | ⋯ | 0.0-0.2 | 155.0 | 6.9 | 9.080094  | Illumina MiSeq | ERC000011 | 2017-02-18 | samples | ERR1844697 | root:Environmental:Terrestrial:Soil |\n",
       "| MGYA00329610 | unknown | MGYA00329610 | completed | 4.1 | 2019-03-06T00:00:00 | ILLUMINA | Illumina MiSeq | 21171 | 21171 | 20834 | ⋯ | 0.0-0.2 | 64.0  | 6.3 | 8.908218  | Illumina MiSeq | ERC000011 | 2017-02-18 | samples | ERR1844698 | root:Environmental:Terrestrial:Soil |\n",
       "\n"
      ],
      "text/plain": [
       "             analysis_experiment-type analysis_accession\n",
       "MGYA00329605 unknown                  MGYA00329605      \n",
       "MGYA00329606 unknown                  MGYA00329606      \n",
       "MGYA00329607 unknown                  MGYA00329607      \n",
       "MGYA00329608 unknown                  MGYA00329608      \n",
       "MGYA00329609 unknown                  MGYA00329609      \n",
       "MGYA00329610 unknown                  MGYA00329610      \n",
       "             analysis_analysis-status analysis_pipeline-version\n",
       "MGYA00329605 completed                4.1                      \n",
       "MGYA00329606 completed                4.1                      \n",
       "MGYA00329607 completed                4.1                      \n",
       "MGYA00329608 completed                4.1                      \n",
       "MGYA00329609 completed                4.1                      \n",
       "MGYA00329610 completed                4.1                      \n",
       "             analysis_complete-time analysis_instrument-platform\n",
       "MGYA00329605 2019-03-06T00:00:00    ILLUMINA                    \n",
       "MGYA00329606 2019-03-06T00:00:00    ILLUMINA                    \n",
       "MGYA00329607 2019-03-06T00:00:00    ILLUMINA                    \n",
       "MGYA00329608 2019-03-06T00:00:00    ILLUMINA                    \n",
       "MGYA00329609 2019-03-06T00:00:00    ILLUMINA                    \n",
       "MGYA00329610 2019-03-06T00:00:00    ILLUMINA                    \n",
       "             analysis_instrument-model analysis_Submitted nucleotide sequences\n",
       "MGYA00329605 Illumina MiSeq            120                                    \n",
       "MGYA00329606 Illumina MiSeq            27607                                  \n",
       "MGYA00329607 Illumina MiSeq            25238                                  \n",
       "MGYA00329608 Illumina MiSeq            5                                      \n",
       "MGYA00329609 Illumina MiSeq            20805                                  \n",
       "MGYA00329610 Illumina MiSeq            21171                                  \n",
       "             analysis_Nucleotide sequences after format-specific filtering\n",
       "MGYA00329605 120                                                          \n",
       "MGYA00329606 27607                                                        \n",
       "MGYA00329607 25238                                                        \n",
       "MGYA00329608 5                                                            \n",
       "MGYA00329609 20805                                                        \n",
       "MGYA00329610 21171                                                        \n",
       "             analysis_Nucleotide sequences after length filtering ⋯\n",
       "MGYA00329605 118                                                  ⋯\n",
       "MGYA00329606 27233                                                ⋯\n",
       "MGYA00329607 24806                                                ⋯\n",
       "MGYA00329608 5                                                    ⋯\n",
       "MGYA00329609 20464                                                ⋯\n",
       "MGYA00329610 20834                                                ⋯\n",
       "             sample_depth sample_elevation sample_pH\n",
       "MGYA00329605 0.0-0.2      53.0             3.3      \n",
       "MGYA00329606 0.0-0.2      120.0            6.4      \n",
       "MGYA00329607 0.0-0.2      120.0            5.6      \n",
       "MGYA00329608 0.0-0.2      53.0             3.6      \n",
       "MGYA00329609 0.0-0.2      155.0            6.9      \n",
       "MGYA00329610 0.0-0.2      64.0             6.3      \n",
       "             sample_geographic location (latitude) sample_instrument model\n",
       "MGYA00329605 8.971447                              Illumina MiSeq         \n",
       "MGYA00329606 9.1442795                             Illumina MiSeq         \n",
       "MGYA00329607 9.1442795                             Illumina MiSeq         \n",
       "MGYA00329608 8.971447                              Illumina MiSeq         \n",
       "MGYA00329609 9.080094                              Illumina MiSeq         \n",
       "MGYA00329610 8.908218                              Illumina MiSeq         \n",
       "             sample_ENA checklist sample_last update date sample_acc_type\n",
       "MGYA00329605 ERC000011            2017-02-18              samples        \n",
       "MGYA00329606 ERC000011            2017-02-18              samples        \n",
       "MGYA00329607 ERC000011            2017-02-18              samples        \n",
       "MGYA00329608 ERC000011            2017-02-18              samples        \n",
       "MGYA00329609 ERC000011            2017-02-18              samples        \n",
       "MGYA00329610 ERC000011            2017-02-18              samples        \n",
       "             run_accession biome_string                       \n",
       "MGYA00329605 ERR1844693    root:Environmental:Terrestrial:Soil\n",
       "MGYA00329606 ERR1844694    root:Environmental:Terrestrial:Soil\n",
       "MGYA00329607 ERR1844695    root:Environmental:Terrestrial:Soil\n",
       "MGYA00329608 ERR1844696    root:Environmental:Terrestrial:Soil\n",
       "MGYA00329609 ERR1844697    root:Environmental:Terrestrial:Soil\n",
       "MGYA00329610 ERR1844698    root:Environmental:Terrestrial:Soil"
      ]
     },
     "metadata": {},
     "output_type": "display_data"
    }
   ],
   "source": [
    "metadata <- mgnify_get_analyses_metadata(mg, accessions)\n",
    "head(metadata)"
   ]
  },
  {
   "cell_type": "markdown",
   "id": "0c7acf9f-cdd6-4e20-ab1c-c09823050059",
   "metadata": {},
   "source": [
    "## Taxonomic analysis\n",
    "First, build a [phyloseq](https://joey711.github.io/phyloseq/) object of the Analyses metadata"
   ]
  },
  {
   "cell_type": "code",
   "execution_count": 6,
   "id": "9ff639ea-6e49-46e4-ab89-5a360617ed90",
   "metadata": {},
   "outputs": [
    {
     "name": "stdout",
     "output_type": "stream",
     "text": [
      "  |======================================================================| 100%\n"
     ]
    }
   ],
   "source": [
    "ps <- mgnify_get_analyses_phyloseq(mg, metadata$analysis_accession)"
   ]
  },
  {
   "cell_type": "markdown",
   "id": "fe03725b-e3f6-4a90-b416-5aaa49b1e2fb",
   "metadata": {},
   "source": [
    "#### Filter out low-abundance samples\n",
    "Filter out samples with low abundances, leaving just those in the \"normal\" distribution. This is particularly important given the normalisation approach we're about to use ([`phyloseq`'s slightly controversial `rarefy_even_depth`](https://www.rdocumentation.org/packages/phyloseq/versions/1.16.2/topics/rarefy_even_depth).)\n",
    "\n",
    "We make a histogram and note that samples with abundances $\\lt 10^3$ i.e. $\\lt 1000$ seem to be outliers."
   ]
  },
  {
   "cell_type": "code",
   "execution_count": 2,
   "id": "c28ff212-59ad-4944-8357-3941a64dbbee",
   "metadata": {},
   "outputs": [
    {
     "ename": "ERROR",
     "evalue": "Error in h(simpleError(msg, call)): error in evaluating the argument 'object' in selecting a method for function 'otu_table': object 'ps' not found\n",
     "output_type": "error",
     "traceback": [
      "Error in h(simpleError(msg, call)): error in evaluating the argument 'object' in selecting a method for function 'otu_table': object 'ps' not found\nTraceback:\n",
      "1. hist(log10(sample_sums(ps)), breaks = 50)",
      "2. sample_sums(ps)",
      "3. otu_table(x)",
      "4. .handleSimpleError(function (cond) \n . .Internal(C_tryCatchHelper(addr, 1L, cond)), \"object 'ps' not found\", \n .     base::quote(otu_table(x)))",
      "5. h(simpleError(msg, call))"
     ]
    }
   ],
   "source": [
    "hist(log10(sample_sums(ps)), breaks = 50)"
   ]
  },
  {
   "cell_type": "code",
   "execution_count": 12,
   "id": "edf6f9ef-533f-4c26-bfae-91b3898ca8c0",
   "metadata": {},
   "outputs": [
    {
     "data": {
      "image/png": "[encoded data removed]",
      "text/plain": [
       "Plot with title “Histogram of log10(sample_sums(ps_good))”"
      ]
     },
     "metadata": {
      "image/png": {
       "height": 420,
       "width": 420
      }
     },
     "output_type": "display_data"
    }
   ],
   "source": [
    "ps_good <- subset_samples(ps, sample_sums(ps) > 1000)\n",
    "hist(log10(sample_sums(ps_good)), breaks = 50)"
   ]
  },
  {
   "cell_type": "markdown",
   "id": "a1d4b790-94d5-484b-84fd-cbe8a29453ea",
   "metadata": {},
   "source": [
    "#### Estimate richness\n",
    "\n",
    "Use `estimate_richness` to calculate various diversity measures for each analysis.\n",
    "\n",
    "To read the documentation on this method, enter `?estimate_richness` in a Code Cell and run it."
   ]
  },
  {
   "cell_type": "code",
   "execution_count": null,
   "id": "79696fa1-830f-4754-b053-72c35bf219d0",
   "metadata": {
    "tags": []
   },
   "outputs": [],
   "source": [
    "#  ?estimate_richness"
   ]
  },
  {
   "cell_type": "code",
   "execution_count": null,
   "id": "3966201c-f453-4cda-9b37-4175b6ca2683",
   "metadata": {},
   "outputs": [],
   "source": [
    "diversity = estimate_richness(ps_good)\n",
    "head(diversity)\n",
    "\n",
    "diversity[diversity$Observed == max(diversity$Observed),]"
   ]
  },
  {
   "cell_type": "markdown",
   "id": "341784b5-eb00-4dca-b35d-bb0539f71d9d",
   "metadata": {},
   "source": [
    "#### Normalise the data by rarefication"
   ]
  },
  {
   "cell_type": "code",
   "execution_count": null,
   "id": "a79a572b-cbff-4a0b-b513-a286efbb69ad",
   "metadata": {},
   "outputs": [],
   "source": [
    "ps_rare <- rarefy_even_depth(ps_good)\n",
    "div_rare <- estimate_richness(ps_rare)"
   ]
  },
  {
   "cell_type": "code",
   "execution_count": null,
   "id": "4d01b9a4-2290-4528-88b3-2fa663cdb013",
   "metadata": {},
   "outputs": [],
   "source": [
    "merged_df <- merge(div_rare, metadata, by = 0, all.y = F)\n",
    "head(merged_df)"
   ]
  },
  {
   "cell_type": "code",
   "execution_count": null,
   "id": "6425cc11-68c8-4b39-b12c-a024add8e3be",
   "metadata": {},
   "outputs": [],
   "source": [
    "options(repr.plot.width=12, repr.plot.height=8)\n",
    "ggplot(merged_df, aes(x=`sample_geo-loc-name`, y=Observed)) + geom_boxplot() + theme(text = element_text(size = 20))"
   ]
  },
  {
   "cell_type": "code",
   "execution_count": 3,
   "id": "5bccc5d9-8c27-4e14-a87f-fdb4fa70c8cd",
   "metadata": {},
   "outputs": [
    {
     "ename": "ERROR",
     "evalue": "Error in parse(text = x, srcfile = src): <text>:2:0: unexpected end of input\n1: create.label?\n   ^\n",
     "output_type": "error",
     "traceback": [
      "Error in parse(text = x, srcfile = src): <text>:2:0: unexpected end of input\n1: create.label?\n   ^\nTraceback:\n"
     ]
    }
   ],
   "source": [
    "create.label?"
   ]
  },
  {
   "cell_type": "code",
   "execution_count": 4,
   "id": "5f1313af-1804-4f96-b389-0cabd4245073",
   "metadata": {},
   "outputs": [
    {
     "data": {
      "text/html": [
       "\n",
       "<table width=\"100%\" summary=\"page for create.label {SIAMCAT}\"><tr><td>create.label {SIAMCAT}</td><td style=\"text-align: right;\">R Documentation</td></tr></table>\n",
       "\n",
       "<h2>Create a label list</h2>\n",
       "\n",
       "<h3>Description</h3>\n",
       "\n",
       "<p>This function creates a label object from metadata\n",
       "or an atomic vector\n",
       "</p>\n",
       "\n",
       "\n",
       "<h3>Usage</h3>\n",
       "\n",
       "<pre>\n",
       "create.label(label, case,\n",
       "    meta=NULL, control=NULL,\n",
       "    p.lab = NULL, n.lab = NULL,\n",
       "    remove.meta.column=FALSE,\n",
       "    verbose=1)\n",
       "</pre>\n",
       "\n",
       "\n",
       "<h3>Arguments</h3>\n",
       "\n",
       "<table summary=\"R argblock\">\n",
       "<tr valign=\"top\"><td><code>label</code></td>\n",
       "<td>\n",
       "<p>named vector to create the label or the name of the metadata\n",
       "column that will be used to create the label</p>\n",
       "</td></tr>\n",
       "<tr valign=\"top\"><td><code>case</code></td>\n",
       "<td>\n",
       "<p>name of the group that will be used as a positive label. If the\n",
       "variable is binary, the other label will be used as a negative one. If the\n",
       "variable has multiple values, all the other values will be used a negative\n",
       "label (testing one vs rest).</p>\n",
       "</td></tr>\n",
       "<tr valign=\"top\"><td><code>meta</code></td>\n",
       "<td>\n",
       "<p>metadata dataframe object or an object of class\n",
       "sample_data-class</p>\n",
       "</td></tr>\n",
       "<tr valign=\"top\"><td><code>control</code></td>\n",
       "<td>\n",
       "<p>name of a label or vector with names that will be used as a\n",
       "negative label. All values that are nor equal to case and control will be\n",
       "dropped. Default to NULL in which case: If the variable is binary, the value\n",
       "not equal to case will be used as negative. If the variable has multiple\n",
       "values, all the values not equal to cases will be used a negative label\n",
       "(testing one vs rest).</p>\n",
       "</td></tr>\n",
       "<tr valign=\"top\"><td><code>p.lab</code></td>\n",
       "<td>\n",
       "<p>name of the positive group (useful mostly for visualizations).\n",
       "Default to NULL in which case the value of the positive group will be used.</p>\n",
       "</td></tr>\n",
       "<tr valign=\"top\"><td><code>n.lab</code></td>\n",
       "<td>\n",
       "<p>name of the negative group (useful mostly for visualizations).\n",
       "Default to NULL in which case the value of the negative group will be used\n",
       "for binary variables and &quot;rest&quot; will be used for variables with multiple\n",
       "values.</p>\n",
       "</td></tr>\n",
       "<tr valign=\"top\"><td><code>remove.meta.column</code></td>\n",
       "<td>\n",
       "<p>boolean indicating if the label column in the\n",
       "metadata should be retained. Please note that if this is set to\n",
       "<code>TRUE</code>, the function will return a list as result. Defaults to\n",
       "<code>FALSE</code></p>\n",
       "</td></tr>\n",
       "<tr valign=\"top\"><td><code>verbose</code></td>\n",
       "<td>\n",
       "<p>integer, control output: <code>0</code> for no output at all,\n",
       "<code>1</code> for only information about progress and success, <code>2</code> for\n",
       "normal level of information and <code>3</code> for full debug information,\n",
       "defaults to <code>1</code></p>\n",
       "</td></tr>\n",
       "</table>\n",
       "\n",
       "\n",
       "<h3>Details</h3>\n",
       "\n",
       "<p>The function creates a list to be used as label in a SIAMCAT\n",
       "object. Mainly for interal use, but it can be used to customize your label\n",
       "(<code>p.lab</code> and <code>n.lab</code> will be used as labels during plotting,\n",
       "for example).\n",
       "</p>\n",
       "<p>The input for the function can be either a named vector encoding the label\n",
       "or the name of a column in the metadata (needs to be provided as well) which\n",
       "contains the label information.\n",
       "</p>\n",
       "\n",
       "\n",
       "<h3>Value</h3>\n",
       "\n",
       "<p>return either </p>\n",
       "\n",
       "<ul>\n",
       "<li><p> a list to be used in a SIMCAT object <strong>OR</strong>\n",
       "</p>\n",
       "</li>\n",
       "<li><p> a list with entries <code>meta</code> and <code>label</code>,\n",
       "if <code>remove.meta.column</code> is set to <code>TRUE</code>\n",
       "</p>\n",
       "</li></ul>\n",
       "\n",
       "\n",
       "\n",
       "<h3>Examples</h3>\n",
       "\n",
       "<pre>\n",
       "data('meta_crc_zeller')\n",
       "\n",
       "label &lt;- create.label(label='Group', case='CRC', meta=meta.crc.zeller)\n",
       "</pre>\n",
       "\n",
       "<hr /><div style=\"text-align: center;\">[Package <em>SIAMCAT</em> version 1.14.0 ]</div>"
      ],
      "text/latex": [
       "\\inputencoding{utf8}\n",
       "\\HeaderA{create.label}{Create a label list}{create.label}\n",
       "\\keyword{create.label}{create.label}\n",
       "%\n",
       "\\begin{Description}\\relax\n",
       "This function creates a label object from metadata\n",
       "or an atomic vector\n",
       "\\end{Description}\n",
       "%\n",
       "\\begin{Usage}\n",
       "\\begin{verbatim}\n",
       "create.label(label, case,\n",
       "    meta=NULL, control=NULL,\n",
       "    p.lab = NULL, n.lab = NULL,\n",
       "    remove.meta.column=FALSE,\n",
       "    verbose=1)\n",
       "\\end{verbatim}\n",
       "\\end{Usage}\n",
       "%\n",
       "\\begin{Arguments}\n",
       "\\begin{ldescription}\n",
       "\\item[\\code{label}] named vector to create the label or the name of the metadata\n",
       "column that will be used to create the label\n",
       "\n",
       "\\item[\\code{case}] name of the group that will be used as a positive label. If the\n",
       "variable is binary, the other label will be used as a negative one. If the\n",
       "variable has multiple values, all the other values will be used a negative\n",
       "label (testing one vs rest).\n",
       "\n",
       "\\item[\\code{meta}] metadata dataframe object or an object of class\n",
       "\\LinkA{sample\\_data-class}{sample.Rul.data.Rdash.class}\n",
       "\n",
       "\\item[\\code{control}] name of a label or vector with names that will be used as a\n",
       "negative label. All values that are nor equal to case and control will be\n",
       "dropped. Default to NULL in which case: If the variable is binary, the value\n",
       "not equal to case will be used as negative. If the variable has multiple\n",
       "values, all the values not equal to cases will be used a negative label\n",
       "(testing one vs rest).\n",
       "\n",
       "\\item[\\code{p.lab}] name of the positive group (useful mostly for visualizations).\n",
       "Default to NULL in which case the value of the positive group will be used.\n",
       "\n",
       "\\item[\\code{n.lab}] name of the negative group (useful mostly for visualizations).\n",
       "Default to NULL in which case the value of the negative group will be used\n",
       "for binary variables and \"rest\" will be used for variables with multiple\n",
       "values.\n",
       "\n",
       "\\item[\\code{remove.meta.column}] boolean indicating if the label column in the\n",
       "metadata should be retained. Please note that if this is set to\n",
       "\\code{TRUE}, the function will return a list as result. Defaults to\n",
       "\\code{FALSE}\n",
       "\n",
       "\\item[\\code{verbose}] integer, control output: \\code{0} for no output at all,\n",
       "\\code{1} for only information about progress and success, \\code{2} for\n",
       "normal level of information and \\code{3} for full debug information,\n",
       "defaults to \\code{1}\n",
       "\\end{ldescription}\n",
       "\\end{Arguments}\n",
       "%\n",
       "\\begin{Details}\\relax\n",
       "The function creates a list to be used as label in a SIAMCAT\n",
       "object. Mainly for interal use, but it can be used to customize your label\n",
       "(\\code{p.lab} and \\code{n.lab} will be used as labels during plotting,\n",
       "for example).\n",
       "\n",
       "The input for the function can be either a named vector encoding the label\n",
       "or the name of a column in the metadata (needs to be provided as well) which\n",
       "contains the label information.\n",
       "\\end{Details}\n",
       "%\n",
       "\\begin{Value}\n",
       "return either \\begin{itemize}\n",
       "\n",
       "\\item{} a list to be used in a SIMCAT object \\strong{OR}\n",
       "\\item{} a list with entries \\code{meta} and \\code{label},\n",
       "if \\code{remove.meta.column} is set to \\code{TRUE}\n",
       "\n",
       "\\end{itemize}\n",
       "\n",
       "\\end{Value}\n",
       "%\n",
       "\\begin{Examples}\n",
       "\\begin{ExampleCode}\n",
       "data('meta_crc_zeller')\n",
       "\n",
       "label <- create.label(label='Group', case='CRC', meta=meta.crc.zeller)\n",
       "\\end{ExampleCode}\n",
       "\\end{Examples}"
      ],
      "text/plain": [
       "create.label              package:SIAMCAT              R Documentation\n",
       "\n",
       "_\bC_\br_\be_\ba_\bt_\be _\ba _\bl_\ba_\bb_\be_\bl _\bl_\bi_\bs_\bt\n",
       "\n",
       "_\bD_\be_\bs_\bc_\br_\bi_\bp_\bt_\bi_\bo_\bn:\n",
       "\n",
       "     This function creates a label object from metadata or an atomic\n",
       "     vector\n",
       "\n",
       "_\bU_\bs_\ba_\bg_\be:\n",
       "\n",
       "     create.label(label, case,\n",
       "         meta=NULL, control=NULL,\n",
       "         p.lab = NULL, n.lab = NULL,\n",
       "         remove.meta.column=FALSE,\n",
       "         verbose=1)\n",
       "     \n",
       "_\bA_\br_\bg_\bu_\bm_\be_\bn_\bt_\bs:\n",
       "\n",
       "   label: named vector to create the label or the name of the metadata\n",
       "          column that will be used to create the label\n",
       "\n",
       "    case: name of the group that will be used as a positive label. If\n",
       "          the variable is binary, the other label will be used as a\n",
       "          negative one. If the variable has multiple values, all the\n",
       "          other values will be used a negative label (testing one vs\n",
       "          rest).\n",
       "\n",
       "    meta: metadata dataframe object or an object of class\n",
       "          sample_data-class\n",
       "\n",
       " control: name of a label or vector with names that will be used as a\n",
       "          negative label. All values that are nor equal to case and\n",
       "          control will be dropped. Default to NULL in which case: If\n",
       "          the variable is binary, the value not equal to case will be\n",
       "          used as negative. If the variable has multiple values, all\n",
       "          the values not equal to cases will be used a negative label\n",
       "          (testing one vs rest).\n",
       "\n",
       "   p.lab: name of the positive group (useful mostly for\n",
       "          visualizations). Default to NULL in which case the value of\n",
       "          the positive group will be used.\n",
       "\n",
       "   n.lab: name of the negative group (useful mostly for\n",
       "          visualizations). Default to NULL in which case the value of\n",
       "          the negative group will be used for binary variables and\n",
       "          \"rest\" will be used for variables with multiple values.\n",
       "\n",
       "remove.meta.column: boolean indicating if the label column in the\n",
       "          metadata should be retained. Please note that if this is set\n",
       "          to ‘TRUE’, the function will return a list as result.\n",
       "          Defaults to ‘FALSE’\n",
       "\n",
       " verbose: integer, control output: ‘0’ for no output at all, ‘1’ for\n",
       "          only information about progress and success, ‘2’ for normal\n",
       "          level of information and ‘3’ for full debug information,\n",
       "          defaults to ‘1’\n",
       "\n",
       "_\bD_\be_\bt_\ba_\bi_\bl_\bs:\n",
       "\n",
       "     The function creates a list to be used as label in a SIAMCAT\n",
       "     object. Mainly for interal use, but it can be used to customize\n",
       "     your label (‘p.lab’ and ‘n.lab’ will be used as labels during\n",
       "     plotting, for example).\n",
       "\n",
       "     The input for the function can be either a named vector encoding\n",
       "     the label or the name of a column in the metadata (needs to be\n",
       "     provided as well) which contains the label information.\n",
       "\n",
       "_\bV_\ba_\bl_\bu_\be:\n",
       "\n",
       "     return either\n",
       "\n",
       "        • a list to be used in a SIMCAT object *OR*\n",
       "\n",
       "        • a list with entries ‘meta’ and ‘label’, if\n",
       "          ‘remove.meta.column’ is set to ‘TRUE’\n",
       "\n",
       "_\bE_\bx_\ba_\bm_\bp_\bl_\be_\bs:\n",
       "\n",
       "     data('meta_crc_zeller')\n",
       "     \n",
       "     label <- create.label(label='Group', case='CRC', meta=meta.crc.zeller)\n",
       "     "
      ]
     },
     "metadata": {},
     "output_type": "display_data"
    }
   ],
   "source": [
    "?create.label"
   ]
  },
  {
   "cell_type": "code",
   "execution_count": 7,
   "id": "2bf62d98-2fb7-4e83-ab83-2e2b6978e5d7",
   "metadata": {},
   "outputs": [],
   "source": [
    "accessions_prePS=metadata$analysis_accession"
   ]
  },
  {
   "cell_type": "code",
   "execution_count": 8,
   "id": "b1665c11-4435-4cbc-afbb-b47dd40a4a5c",
   "metadata": {},
   "outputs": [],
   "source": [
    "accessions_postPS=sample_names(ps)"
   ]
  },
  {
   "cell_type": "code",
   "execution_count": 9,
   "id": "f103e688-63f3-41ee-9e8d-40a13231a6a4",
   "metadata": {},
   "outputs": [
    {
     "data": {
      "text/html": [
       "78"
      ],
      "text/latex": [
       "78"
      ],
      "text/markdown": [
       "78"
      ],
      "text/plain": [
       "[1] 78"
      ]
     },
     "metadata": {},
     "output_type": "display_data"
    },
    {
     "data": {
      "text/html": [
       "77"
      ],
      "text/latex": [
       "77"
      ],
      "text/markdown": [
       "77"
      ],
      "text/plain": [
       "[1] 77"
      ]
     },
     "metadata": {},
     "output_type": "display_data"
    }
   ],
   "source": [
    "length(accessions_prePS)\n",
    "length(accessions_postPS)"
   ]
  },
  {
   "cell_type": "code",
   "execution_count": 10,
   "id": "bc6ee458-6b28-4691-9984-b0e066beac1d",
   "metadata": {},
   "outputs": [
    {
     "data": {
      "text/html": [
       "'MGYA00329556'"
      ],
      "text/latex": [
       "'MGYA00329556'"
      ],
      "text/markdown": [
       "'MGYA00329556'"
      ],
      "text/plain": [
       "[1] \"MGYA00329556\""
      ]
     },
     "metadata": {},
     "output_type": "display_data"
    }
   ],
   "source": [
    "setdiff(accessions_prePS, accessions_postPS)"
   ]
  },
  {
   "cell_type": "code",
   "execution_count": 13,
   "id": "6a1fd010-f349-4bfe-a8d2-cfab5b427980",
   "metadata": {},
   "outputs": [
    {
     "data": {
      "text/html": [
       "75"
      ],
      "text/latex": [
       "75"
      ],
      "text/markdown": [
       "75"
      ],
      "text/plain": [
       "[1] 75"
      ]
     },
     "metadata": {},
     "output_type": "display_data"
    }
   ],
   "source": [
    "length(sample_names(ps_good))"
   ]
  },
  {
   "cell_type": "code",
   "execution_count": null,
   "id": "fb2c8bcd-b39a-4faf-8681-103389fa3e5f",
   "metadata": {},
   "outputs": [],
   "source": []
  }
 ],
 "metadata": {
  "kernelspec": {
   "display_name": "R",
   "language": "R",
   "name": "ir"
  },
  "language_info": {
   "codemirror_mode": "r",
   "file_extension": ".r",
   "mimetype": "text/x-r-source",
   "name": "R",
   "pygments_lexer": "r",
   "version": "4.1.2"
  }
 },
 "nbformat": 4,
 "nbformat_minor": 5
}
