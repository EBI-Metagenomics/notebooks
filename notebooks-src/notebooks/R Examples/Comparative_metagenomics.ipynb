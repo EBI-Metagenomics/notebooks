{
 "cells": [
  {
   "cell_type": "markdown",
   "id": "39abae80-0060-494c-8c07-508036170102",
   "metadata": {},
   "source": [
    "# Comparative metagenomics exercises"
   ]
  },
  {
   "cell_type": "markdown",
   "id": "c7a05a63-1807-4b85-802a-99ecb5aee3df",
   "metadata": {},
   "source": [
    "## Alpha and beta diversity"
   ]
  },
  {
   "cell_type": "markdown",
   "id": "d6e90e2e-2587-47fc-8fe2-a89238103a27",
   "metadata": {},
   "source": [
    "MGnifyR is a library that provides a set of tools for easily accessing and processing MGnify data in R. A huge benefit of using this tool is that data can either be fetched in tsv format or be directly combined in a phyloseq object to run an analysis in a custom workflow."
   ]
  },
  {
   "cell_type": "markdown",
   "id": "de47fd68-0afc-4393-bebe-95c8441156e9",
   "metadata": {},
   "source": [
    "In this examples we aim to demonstrate how the MGnifyR tool can be used to fetch data and metadata of a MGnify metagenomic analyisis. Then we will show how to generate diversity metrics for comparative metagenomics using taxonomic profiles."
   ]
  },
  {
   "cell_type": "markdown",
   "id": "9d8bedac-2993-42f4-a71e-b689466bd462",
   "metadata": {},
   "source": [
    "This is an interactive code notebook (a Jupyter Notebook). To run this code, click into each cell and press the ▶ button in the top toolbar, or press shift+enter"
   ]
  },
  {
   "cell_type": "code",
   "execution_count": null,
   "id": "b225ee9a-00dd-47f4-ab44-3f662e255c02",
   "metadata": {},
   "outputs": [],
   "source": [
    "library(IRdisplay)\n",
    "#display_markdown(file = '../_resources/mgnifyr_help.md')"
   ]
  },
  {
   "cell_type": "markdown",
   "id": "93205482-5744-499f-8812-60273d2d21f7",
   "metadata": {},
   "source": [
    "Loading libraries:"
   ]
  },
  {
   "cell_type": "code",
   "execution_count": null,
   "id": "c4900c9e-7d78-47f2-bb5f-f9d6d0ba0695",
   "metadata": {},
   "outputs": [],
   "source": [
    "library(stringr)\n",
    "library(vegan)\n",
    "library(ggplot2)\n",
    "library(phyloseq)\n",
    "library(metagenomeSeq)\n",
    "library(MGnifyR)\n",
    "library(microbiomeMarker)\n",
    "library(plyr)\n",
    "\n",
    "mg = mgnify_client(usecache = T, cache_dir = '/tmp/mgnify_cache')"
   ]
  },
  {
   "cell_type": "markdown",
   "id": "6456ff30-037e-403f-adb3-81eb1c287824",
   "metadata": {},
   "source": [
    "Setting tables and figures size to display (these will be reset later):"
   ]
  },
  {
   "cell_type": "code",
   "execution_count": null,
   "id": "9a54eed0-81ca-48ac-afb5-86f8a1fce9bc",
   "metadata": {},
   "outputs": [],
   "source": [
    "options(repr.matrix.max.cols=150, repr.matrix.max.rows=200)\n",
    "options(repr.plot.width=6, repr.plot.height=6)"
   ]
  },
  {
   "cell_type": "markdown",
   "id": "09672213-271c-4bcd-93d6-4eda159cb7a9",
   "metadata": {},
   "source": [
    "## Example 1. Fetch data from MGnify using MGnifyR, explore metadata and build a phyloseq object"
   ]
  },
  {
   "cell_type": "markdown",
   "id": "7f5b4814-c2cf-47fb-ab9e-9a1d8a97c958",
   "metadata": {},
   "source": [
    "In this example we are going to fetch MGnify analysis results and metadata for TARA ocean metagenomic study corresponding to size fractions for prokaryotes (MGYS00002008).\n",
    "Find more information about the TARA Ocean Project here: https://fondationtaraocean.org/en/expedition/tara-oceans/"
   ]
  },
  {
   "cell_type": "markdown",
   "id": "d1c71880-51ec-434f-8dbf-7abe3d63c366",
   "metadata": {},
   "source": [
    "### 1.1. Fetch the MGnify Analyses accession"
   ]
  },
  {
   "cell_type": "markdown",
   "id": "4540955c-de1a-48b4-a407-215c965dc876",
   "metadata": {},
   "source": [
    "The first step is to retrieve the analysis accession list"
   ]
  },
  {
   "cell_type": "code",
   "execution_count": null,
   "id": "a5359e75-f33f-4e90-8b33-305106c90936",
   "metadata": {},
   "outputs": [],
   "source": [
    "tara_all = mgnify_analyses_from_studies(mg, 'MGYS00002008')"
   ]
  },
  {
   "cell_type": "markdown",
   "id": "c6320d71-f49f-4e1c-88cd-e7323af8ba66",
   "metadata": {},
   "source": [
    "And use this list to fetch the metadata for all of the analyses from the MGnify API. This step takes a while, so go to grab some coffee..."
   ]
  },
  {
   "cell_type": "code",
   "execution_count": null,
   "id": "e724912b-03b5-4577-8c95-c5366e50e1de",
   "metadata": {},
   "outputs": [],
   "source": [
    "metadata = mgnify_get_analyses_metadata(mg, tara_all)\n",
    "#head(metadata)"
   ]
  },
  {
   "cell_type": "markdown",
   "id": "5df0092b-96e7-4857-8e45-e96adc81929d",
   "metadata": {},
   "source": [
    "### 1.2. Explore and filter samples by metadata"
   ]
  },
  {
   "cell_type": "markdown",
   "id": "c2a8d114-4810-4d6c-8d98-c0ce44f7a5bd",
   "metadata": {},
   "source": [
    "We want to keep only metagenomic samples (no amplicon) of 'surface water layer (ENVO:00002042)' and 'mesopelagic zone (ENVO:00000213)' to compare. We also want to filter out results generated with old pipeline versions (<V5.0). In the following steps we will filter out non-interested samples before exporting to the phyloseq object. Let's explore a bit the metadata file first:"
   ]
  },
  {
   "cell_type": "markdown",
   "id": "bf79c63f-c91c-476b-b58e-5d7948d99a36",
   "metadata": {},
   "source": [
    "1) Check the number of analysis in the study"
   ]
  },
  {
   "cell_type": "code",
   "execution_count": null,
   "id": "fbdbf2f9-c411-44f1-8f91-ba3ef377ef60",
   "metadata": {},
   "outputs": [],
   "source": [
    "length(metadata$'analysis_accession')"
   ]
  },
  {
   "cell_type": "markdown",
   "id": "9e16a76e-2c80-4a7e-b247-184e2e5e8998",
   "metadata": {},
   "source": [
    "2) Check the analysis_experiment-type to determine whether a filtering is necesary to discard amplicon samples"
   ]
  },
  {
   "cell_type": "code",
   "execution_count": null,
   "id": "b6140e86-4b74-48dc-aae7-df2a0cde37c5",
   "metadata": {},
   "outputs": [],
   "source": [
    "unique(metadata$'analysis_experiment-type')"
   ]
  },
  {
   "cell_type": "markdown",
   "id": "58ef8de7-d22e-4d99-ade8-af0da232a406",
   "metadata": {},
   "source": [
    "3) Keep results generated only with the most updated pipeline (v5.0)"
   ]
  },
  {
   "cell_type": "code",
   "execution_count": null,
   "id": "eb8a625f-88cd-4c33-9068-2c35973a6a0a",
   "metadata": {},
   "outputs": [],
   "source": [
    "v5_metadata = metadata[which(metadata$'analysis_pipeline-version'=='5.0'), ]\n",
    "length(v5_metadata$'analysis_accession')\n",
    "#head(v5_metadata)"
   ]
  },
  {
   "cell_type": "markdown",
   "id": "2b64e232-c366-4d51-aaf2-159680811972",
   "metadata": {},
   "source": [
    "4) Check the sample_environment-feature to discover what kind of samples are part of the study and how many of each exists. Keep only 'surface water layer (ENVO:00002042)' and 'mesopelagic zone (ENVO:00000213)'. Consider that for a comparative study, we need at least 5 samples per group"
   ]
  },
  {
   "cell_type": "code",
   "execution_count": null,
   "id": "ada5c1f9-6a06-4880-bfe1-90d9737536ba",
   "metadata": {},
   "outputs": [],
   "source": [
    "table(v5_metadata$'sample_environment-feature')"
   ]
  },
  {
   "cell_type": "markdown",
   "id": "080aa6d8-6906-48da-ae18-36feb6265660",
   "metadata": {},
   "source": [
    "Let's keep only samples having 'ENVO:00002042' or 'ENVO:00000213' in the sample_environment-feature column. We want to create a new dataframe containing the relevant samples only.\n",
    "We are also going to create a clean label for the environment feature"
   ]
  },
  {
   "cell_type": "code",
   "execution_count": null,
   "id": "51f1eec1-7de0-4b84-b3cf-916dd266ce1b",
   "metadata": {},
   "outputs": [],
   "source": [
    "# To create a dataframe with the relevant samples\n",
    "sub1 = v5_metadata[str_detect(v5_metadata$'sample_environment-feature', \"ENVO:00002042\"), ]\n",
    "sub2 = v5_metadata[str_detect(v5_metadata$'sample_environment-feature', \"ENVO:00000213\"), ]\n",
    "filtered_samples = rbind(sub1,sub2)\n",
    "\n",
    "# To create the label:\n",
    "surf_label=rep('Surface', times=length(sub1$'analysis_accession'))\n",
    "meso_label=rep('Mesopelagic', times=length(sub2$'analysis_accession'))\n",
    "env_label = c(surf_label,meso_label)\n",
    "\n",
    "length(filtered_samples$'analysis_accession')"
   ]
  },
  {
   "cell_type": "markdown",
   "id": "daf123c7-fc82-41f6-97f8-6b4e9fa4111b",
   "metadata": {},
   "source": [
    "4) Converting into phyloseq object and adding the extra column to the metadata table"
   ]
  },
  {
   "cell_type": "markdown",
   "id": "3dc92881-75bc-4931-90a5-96c6a4cf24ff",
   "metadata": {},
   "source": [
    "Now that we have a new dataframe with 162 samples from either surface or mesopelagic zone water, we are going to create a phyloseq object (and insert to it the clean label for the environment feature) as a starting point for diversity analysis. This step could be slow, be patient..."
   ]
  },
  {
   "cell_type": "code",
   "execution_count": null,
   "id": "95977717-ea94-4550-bc17-c8bbe3e2781c",
   "metadata": {},
   "outputs": [],
   "source": [
    "ps = mgnify_get_analyses_phyloseq(mg, filtered_samples$'analysis_accession')\n",
    "sample_data(ps)$'env_feature' = env_label"
   ]
  },
  {
   "cell_type": "markdown",
   "id": "f07ff95a-55b0-4664-bd53-7f65b779048d",
   "metadata": {},
   "source": [
    "## Example 2. Normalization, alpha diversity indices and taxonomic profiles visualization"
   ]
  },
  {
   "cell_type": "markdown",
   "id": "d4e432e7-1f5f-4f29-bbbb-c615f78065f7",
   "metadata": {
    "tags": []
   },
   "source": [
    "### 2.1. Cleaning the OTUs matrix"
   ]
  },
  {
   "cell_type": "markdown",
   "id": "dcedcf9c-3689-4b3c-808b-0e5e0888a9db",
   "metadata": {},
   "source": [
    "1) Remove samples with extremely low coverage. The first step is to detect outliers presence. We will do so ploting some histograms"
   ]
  },
  {
   "cell_type": "code",
   "execution_count": null,
   "id": "ea09d099-82a3-4206-8241-de263d17fcd5",
   "metadata": {},
   "outputs": [],
   "source": [
    "hist(log10(sample_sums(ps)), breaks = 50)"
   ]
  },
  {
   "cell_type": "markdown",
   "id": "de3ab6e5-038d-41ec-abec-566971bedee4",
   "metadata": {},
   "source": [
    "We can see that samples with number of reads <10^1.5 (i.e. < ~32) seem to be outliers. \n",
    "   Let's filter out the outliers and plot a new histogram"
   ]
  },
  {
   "cell_type": "code",
   "execution_count": null,
   "id": "1bc85bcf-bb7f-4105-9b37-c13d1ebf995c",
   "metadata": {},
   "outputs": [],
   "source": [
    "ps_good = subset_samples(ps, sample_sums(ps) > 32)\n",
    "ps_good\n",
    "hist(log10(sample_sums(ps_good)), breaks = 50)"
   ]
  },
  {
   "cell_type": "markdown",
   "id": "fcd738db-5e06-47c4-8216-3b919aaa2d0f",
   "metadata": {},
   "source": [
    "And let's check how many samples were discarded:"
   ]
  },
  {
   "cell_type": "code",
   "execution_count": null,
   "id": "68fb356a-04a9-4db6-8583-ecafc9b4cb9a",
   "metadata": {},
   "outputs": [],
   "source": [
    "nsamples(ps)\n",
    "nsamples(ps_good)"
   ]
  },
  {
   "cell_type": "markdown",
   "id": "0eaccdbf-3f28-4f00-abc2-ae7cd9bbb7ba",
   "metadata": {},
   "source": [
    "2) Remove singletones existing in a single sample"
   ]
  },
  {
   "cell_type": "code",
   "execution_count": null,
   "id": "3e40e52c-826d-4280-9bb5-95c1e3abffe2",
   "metadata": {},
   "outputs": [],
   "source": [
    "ps_final <- filter_taxa(ps_good, function(x) sum(x) > 1, prune=TRUE)\n",
    "ps_final"
   ]
  },
  {
   "cell_type": "markdown",
   "id": "f3bf6d10-da48-4276-b353-d70b222ca1fb",
   "metadata": {},
   "source": [
    "3) Show some stats on the sequencing depth across samples"
   ]
  },
  {
   "cell_type": "code",
   "execution_count": null,
   "id": "65e46c67-a25f-49fb-bb4f-15189a5fe6cf",
   "metadata": {},
   "outputs": [],
   "source": [
    "max_difference=max(sample_sums(ps_final))/min(sample_sums(ps_final))\n",
    "\n",
    "sprintf(\"The max difference in sequencing depth is %s\", max_difference)\n",
    "\n",
    "boxplot(sample_sums(ps_final))\n",
    "text(y = boxplot.stats(sample_sums(ps_final))$stats, labels = boxplot.stats(sample_sums(ps_final))$stats, x = 1.25)"
   ]
  },
  {
   "cell_type": "markdown",
   "id": "b44ce62e-85d8-4517-9b7b-717cf5dde623",
   "metadata": {},
   "source": [
    "A difference of a 10-fold change in the library sizes means that we will need to apply a normalization method before continuing with the analysis. The most common normalization methods used in microbiome count data are proportions and rarefaction. However, other methods originally developed to normalize RNA-seq counts have been adapted to differentially abundance analysis in microbiome data. A discussion about how to choose the right normalization method is out of the scope of this material, but the topic has been covered in multiple forums and scientific publications. Different methods could be more convenient than others depending on the downstream analysis we intend to perform. For instance, to compare at community-level comparison through beta-diversity, \"...proportions and rarefying produced more accurate comparisons among communities and are the only methods that fully normalized read depths across samples. Additionally, upper quartile, cumulative sum scaling (CSS), edgeR-TMM, and DESeq-VS often masked differences among communities when common OTUs differed, and they produced false positives when rare OTUs differed\" [1]. On the other hand, for detection of differentially abundant species, \"both proportions and rarefied counts result in a high rate of false positives in tests for species that are differentially abundant across sample classes\" [2].\n",
    "\n",
    "\n",
    "In the following examples we will show three popular ways of normalization: relative abundance, rarefaction and cummulative sum scaling."
   ]
  },
  {
   "cell_type": "markdown",
   "id": "43e075eb-288b-4308-8a30-443a7693275e",
   "metadata": {},
   "source": [
    "### 2.2. Normalization by total sum scaling (TSS, relative abundance or proportions)"
   ]
  },
  {
   "cell_type": "markdown",
   "id": "5c578470-b42a-40f1-9e07-51b3c1b54561",
   "metadata": {},
   "source": [
    "The most simple way to normalize the differences in sample size is to transform the OTU counts table into relative abundance by dividing the number of total reads of each sample. This type of normalization is also referred to as relative abundance or proportions. We use this normalization to compare taxonomic profiles, while alpha diversity indices are computed on the non-normalized matrix. The reason to do so is that we need an integer matrix as input."
   ]
  },
  {
   "cell_type": "markdown",
   "id": "05ee5fa7-7fc4-4176-80c0-06b966973bef",
   "metadata": {},
   "source": [
    "1) Compute alpha diversity indices and display plots"
   ]
  },
  {
   "cell_type": "code",
   "execution_count": null,
   "id": "bc530d97-6021-4d61-951e-eaa4b4b28f40",
   "metadata": {},
   "outputs": [],
   "source": [
    "options(repr.plot.width=18, repr.plot.height=6)\n",
    "plot_richness(ps_final, x = \"env_feature\", color = \"env_feature\") + geom_boxplot()"
   ]
  },
  {
   "cell_type": "markdown",
   "id": "3443c9b0-5c7e-48b3-9257-a180b423f1df",
   "metadata": {},
   "source": [
    "2) Transform taxonomy raw-counts matrix into relative abundance"
   ]
  },
  {
   "cell_type": "code",
   "execution_count": null,
   "id": "e4642245-7adc-4cfa-9cc1-92484d532808",
   "metadata": {},
   "outputs": [],
   "source": [
    "relab_ps = transform_sample_counts(ps_final, function(x) x/sum(x))"
   ]
  },
  {
   "cell_type": "markdown",
   "id": "6dfe3c91-38de-467f-be40-edbdd31a6fe4",
   "metadata": {},
   "source": [
    "3) Aglomerate taxonomy at Class rank and keep only the most abundant classes (threshold=0.01%)"
   ]
  },
  {
   "cell_type": "code",
   "execution_count": null,
   "id": "b70df195-7c44-4ef9-8168-6453c6cc06c2",
   "metadata": {},
   "outputs": [],
   "source": [
    "psglom = tax_glom(relab_ps, \"Class\")\n",
    "norare_ps = filter_taxa(psglom, function(x) mean(x) > 0.01, TRUE)"
   ]
  },
  {
   "cell_type": "markdown",
   "id": "f43f53da-3904-448e-811a-fd5c054ea7b2",
   "metadata": {},
   "source": [
    "4) Visualisation of the profile in barplots at Class rank in two visualization modes"
   ]
  },
  {
   "cell_type": "code",
   "execution_count": null,
   "id": "101a422d-c5ce-42fa-8b44-b5dad2c8a9d6",
   "metadata": {},
   "outputs": [],
   "source": [
    "plot_bar(norare_ps, fill = \"Class\") + facet_wrap(~Class) \n",
    "plot_bar(norare_ps, fill = \"Class\")"
   ]
  },
  {
   "cell_type": "markdown",
   "id": "8a9682bd-1e66-402b-9a51-34aa07fce3f5",
   "metadata": {},
   "source": [
    "### 2.3. Normalization by subsampling (rarefaction)"
   ]
  },
  {
   "cell_type": "markdown",
   "id": "38390dee-688e-420e-bddf-305775d70615",
   "metadata": {},
   "source": [
    "Rarefaction is an alternative to relative abundance normalization to obtain an adjusted OTUs count matrix. The method is based on a process of subsampling to the smallest library size in the data set. The algorithm randomly removes reads until the samples reach the same library size. Despite the apparent disadvantage of discarding information from the larger samples, rarefaction is quite popular in microbial ecology."
   ]
  },
  {
   "cell_type": "markdown",
   "id": "5c9ebb63-e044-49a1-a8a8-229d70f1f69c",
   "metadata": {},
   "source": [
    "The first step is to find the smallest sample size. We can use the number of observed otus in the original matrix to do so."
   ]
  },
  {
   "cell_type": "markdown",
   "id": "dc7a2a99-46c6-4fe8-ae92-ebcc26075dee",
   "metadata": {},
   "source": [
    "1) Find the smallest sample size"
   ]
  },
  {
   "cell_type": "code",
   "execution_count": null,
   "id": "630cfed1-55e3-4ac7-b14e-73649c990ffd",
   "metadata": {},
   "outputs": [],
   "source": [
    "head(estimate_richness(ps_final)[order(estimate_richness(ps_final)$Observed),], 1)"
   ]
  },
  {
   "cell_type": "markdown",
   "id": "d74bf0a3-f34d-4847-9b33-241d5e6e74a2",
   "metadata": {
    "tags": []
   },
   "source": [
    "2) Rarefying to the smallest sample"
   ]
  },
  {
   "cell_type": "code",
   "execution_count": null,
   "id": "64abb3e3-c41a-4a41-935c-2bd44004ef9d",
   "metadata": {},
   "outputs": [],
   "source": [
    "ps_rare=rarefy_even_depth(ps_final, sample.size=24, replace = FALSE, rngseed=123)\n",
    "#otu_table(ps_rare)"
   ]
  },
  {
   "cell_type": "markdown",
   "id": "872a4d19-8519-42ba-bf4c-35298c6cd4d4",
   "metadata": {},
   "source": [
    "3) Plot diversity indices"
   ]
  },
  {
   "cell_type": "code",
   "execution_count": null,
   "id": "dc06784b-f4f4-415a-9e61-48d5e7c77885",
   "metadata": {},
   "outputs": [],
   "source": [
    "plot_richness(ps_rare, x = \"env_feature\", color = \"env_feature\") + geom_boxplot()"
   ]
  },
  {
   "cell_type": "markdown",
   "id": "79c10037-0b4c-4613-bf82-6dbbef8f93c4",
   "metadata": {},
   "source": [
    "4) Aglomerate taxonomy at Class rank and visualize the profile (show the top 15 classes only)"
   ]
  },
  {
   "cell_type": "code",
   "execution_count": null,
   "id": "9afd4152-80be-4b82-91e7-4c95bfe1bdf5",
   "metadata": {},
   "outputs": [],
   "source": [
    "psglom = tax_glom(ps_rare, \"Class\")\n",
    "top15 = names(sort(taxa_sums(psglom), decreasing=TRUE)[1:15])\n",
    "top15_ps = prune_taxa(top15, psglom)\n",
    "\n",
    "options(repr.plot.width=18, repr.plot.height=9)\n",
    "plot_bar(top15_ps, fill = \"Class\") + facet_wrap(~Class)\n",
    "\n",
    "options(repr.plot.width=18, repr.plot.height=6)\n",
    "plot_bar(top15_ps, fill = \"Class\")"
   ]
  },
  {
   "cell_type": "markdown",
   "id": "8d76c3cb-0069-4835-8703-0b313958df01",
   "metadata": {},
   "source": [
    "### 2.4. Normalization by cumulative sum scaling (CSS)"
   ]
  },
  {
   "cell_type": "markdown",
   "id": "3206beb1-25ba-4494-b7ef-100ea54effef",
   "metadata": {},
   "source": [
    "The third normalization method we are going to apply is CSS. To do so, we will use the implementation on the microbiomeMarker library.\n",
    "Cumulative sum scaling normalization calculates scaling factors as the cumulative sum of gene abundances up to a data-derived threshold. This method is based on the assumption that the count distributions in each sample are equivalent for low abundant genes up to a certain threshold. Only the segment of each sample's count distribution that\n",
    "is relatively invariant across samples is scaled by CSS."
   ]
  },
  {
   "cell_type": "markdown",
   "id": "ffed20e0-f647-4c44-a644-f807d6497dde",
   "metadata": {},
   "source": [
    "1) Normalizing the OTU counts in the ps_final object"
   ]
  },
  {
   "cell_type": "code",
   "execution_count": null,
   "id": "d1e2e3ac-8a76-4590-ac0b-6ac24cd3365b",
   "metadata": {},
   "outputs": [],
   "source": [
    "ps_CSS=normalize(ps_final, method = \"CSS\")"
   ]
  },
  {
   "cell_type": "markdown",
   "id": "6fb8a5ce-5369-45d3-a558-ac3b00749133",
   "metadata": {},
   "source": [
    "2) Compute and plot alpha diversity metrix"
   ]
  },
  {
   "cell_type": "code",
   "execution_count": null,
   "id": "cf6050f8-cbc3-4e02-bc40-6eac2bd883bf",
   "metadata": {},
   "outputs": [],
   "source": [
    "plot_richness(ps_CSS, x = \"env_feature\", color = \"env_feature\") + geom_boxplot()"
   ]
  },
  {
   "cell_type": "markdown",
   "id": "ad3dcd0a-1c95-4634-a3fe-6cae15f17ee0",
   "metadata": {},
   "source": [
    "3) Aglomerate taxonomy at Class rank and visualize the profile (show the top 15 classes only)"
   ]
  },
  {
   "cell_type": "code",
   "execution_count": null,
   "id": "cebb4d78-de0b-42ba-93af-b22f10c0d663",
   "metadata": {},
   "outputs": [],
   "source": [
    "psglom = tax_glom(ps_CSS, \"Class\")\n",
    "top15 = names(sort(taxa_sums(psglom), decreasing=TRUE)[1:15])\n",
    "top15_ps = prune_taxa(top15, psglom)\n",
    "\n",
    "options(repr.plot.width=18, repr.plot.height=9)\n",
    "plot_bar(top15_ps, fill = \"Class\") + facet_wrap(~Class)\n",
    "\n",
    "options(repr.plot.width=18, repr.plot.height=6)\n",
    "plot_bar(top15_ps, fill = \"Class\")"
   ]
  },
  {
   "cell_type": "markdown",
   "id": "4be89d30-1e85-451d-875e-f0b942a4a137",
   "metadata": {},
   "source": [
    "## Example 3. Comparative metagenomics at community-level: Beta diversity "
   ]
  },
  {
   "cell_type": "markdown",
   "id": "78b8befa-2619-447b-8fe9-c8d4adba4d6c",
   "metadata": {},
   "source": [
    "According with Pereira *et al.,* (2018)[3], the best normalization method for metagenomic gene abundance (tested in TARA ocean samples) is CSS for large group sizes. For this reason, we will stick on this method to show beta-diversity."
   ]
  },
  {
   "cell_type": "markdown",
   "id": "6f9250ff-0a36-434e-abe1-1bb5018e449d",
   "metadata": {},
   "source": [
    "1) Compute beta diversity using different methods to calculate distance and perform principle coordinates analysis ploting the first two axes. We will based on the steps described on [4] to create a list of suitable distance methods (included in the list of available methods in adonis options for the next step), iterate on them and display a combined plot. For a better visualization we are going to add an stat ellipse at 95% of confidence."
   ]
  },
  {
   "cell_type": "code",
   "execution_count": null,
   "id": "ace268c3-ee4a-47ec-8050-56c509bc3380",
   "metadata": {},
   "outputs": [],
   "source": [
    "# Generating the methods list\n",
    "dist_methods = unlist(distanceMethodList)\n",
    "dist_methods = dist_methods[c(-(1:4),-(20:47))]\n",
    "\n",
    "# Iterating through the list to save the plot\n",
    "plist <- vector(\"list\", length(dist_methods))\n",
    "names(plist) = dist_methods\n",
    "for( i in dist_methods ){\n",
    "    # Calculate distance matrix\n",
    "    iDist <- distance(ps_CSS, method=i)\n",
    "    # Calculate ordination\n",
    "    iMDS  <- ordinate(ps_CSS, \"MDS\", distance=iDist)\n",
    "    ## Make plot\n",
    "    # Don't carry over previous plot (if error, p will be blank)\n",
    "    p <- NULL\n",
    "    # Create plot, store as temp variable, p\n",
    "    p <- plot_ordination(ps_CSS, iMDS, color=\"env_feature\")\n",
    "    # Add title to each plot\n",
    "    p <- p + ggtitle(paste(\"MDS using distance method \", i, sep=\"\"))\n",
    "    # Save the graphic to file.\n",
    "    plist[[i]] = p\n",
    "}\n",
    "\n",
    "# Create a combined plot\n",
    "df = ldply(plist, function(x) x$data)\n",
    "names(df)[1] <- \"distance\"\n",
    "p = ggplot(df, aes(Axis.1, Axis.2, color=env_feature))\n",
    "p = p + geom_point(size=3, alpha=0.5)\n",
    "p = p + facet_wrap(~distance, scales=\"free\")\n",
    "p = p + ggtitle(\"MDS on various distance metrics for TARA ocean dataset\") + stat_ellipse(level = 0.95, type=\"norm\", geom = \"polygon\", alpha=0.3, aes(fill=env_feature)) + theme_bw()\n",
    "\n",
    "options(repr.plot.width=12, repr.plot.height=10)\n",
    "p"
   ]
  },
  {
   "cell_type": "markdown",
   "id": "58a895b2-693a-41f7-822f-e8fe4bd4b926",
   "metadata": {},
   "source": [
    "2) Select the best distance metric that segregates the data by water layer and determine whether the two groups of samples have different centroids. To do so, we use a permanova implemented in the Adonis function of vegan library. The method will calculates the squared deviations of each of site to the centroid and then, significance tests are performed using F-tests based on sequential sums of squares from permutations of the raw data."
   ]
  },
  {
   "cell_type": "code",
   "execution_count": null,
   "id": "bfac182b-ca31-4642-a31e-f0dfcf5f1508",
   "metadata": {},
   "outputs": [],
   "source": [
    "metadata = as(sample_data(ps_CSS), \"data.frame\")\n",
    "css_beta = distance(ps_CSS, method=\"canberra\")\n",
    "\n",
    "adonis(css_beta ~ env_feature, data = metadata, perm=1e3)"
   ]
  },
  {
   "cell_type": "markdown",
   "id": "a1dbbd65-7920-413c-b267-85a8b13597f5",
   "metadata": {},
   "source": [
    "3) To discard differences detected by adonis due to variation in dispersion of the data. Finally we are going to run a betadisper test (also from vegan library) and to evaluate if there's a significant variation in beta dispersion between groups through an anova."
   ]
  },
  {
   "cell_type": "code",
   "execution_count": null,
   "id": "8c415a72-f29a-4c9f-9eb9-44e77475f297",
   "metadata": {},
   "outputs": [],
   "source": [
    "anova(betadisper(css_beta, metadata$'env_feature'))"
   ]
  },
  {
   "cell_type": "markdown",
   "id": "b89f180e-ee44-4455-9e6b-81aa01164550",
   "metadata": {},
   "source": [
    "With these results, we can now accept that there is a statistical difference between groups and it is not a false positive due to the data dispersion.\n",
    "This analysis would make more sense when there's not a clear separation between groups."
   ]
  },
  {
   "cell_type": "markdown",
   "id": "18274850-d5d3-4f13-b548-352a861cfdcb",
   "metadata": {},
   "source": [
    "An extra piece of analysis for comparative metagenomics based on the detection of differentially abundant OTUs using the SIAMCAT library is addressed in another notebook. "
   ]
  },
  {
   "cell_type": "markdown",
   "id": "119204e1-81d8-4d1d-8407-776ed7e1d4dc",
   "metadata": {},
   "source": [
    "### References:\n",
    "\n",
    "[1] https://doi.org/10.1111/2041-210X.13115\n",
    "\n",
    "[2] https://doi.org/10.1371/journal.pcbi.1003531\n",
    "\n",
    "[3] https://doi.org/10.1186/s12864-018-4637-6\n",
    "\n",
    "[4] https://joey711.github.io/phyloseq/distance.html\n",
    "\n",
    "Documentation and more MGnifyR code and exercises following the links in: https://beadyallen.github.io/MGnifyR/\n",
    "\n",
    "Phyloseq tutorials available here: https://joey711.github.io/phyloseq/index.html\n"
   ]
  }
 ],
 "metadata": {
  "kernelspec": {
   "display_name": "R",
   "language": "R",
   "name": "ir"
  },
  "language_info": {
   "codemirror_mode": "r",
   "file_extension": ".r",
   "mimetype": "text/x-r-source",
   "name": "R",
   "pygments_lexer": "r",
   "version": "4.1.2"
  }
 },
 "nbformat": 4,
 "nbformat_minor": 5
}
