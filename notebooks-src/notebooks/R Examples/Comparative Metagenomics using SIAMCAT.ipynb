{
 "cells": [
  {
   "cell_type": "raw",
   "id": "642dbf91-40ee-4e76-bc05-b67a5bb9765c",
   "metadata": {},
   "source": [
    "SIAMCAT exercises"
   ]
  },
  {
   "cell_type": "raw",
   "id": "a287eaac-bbc4-4feb-a435-29131ae88f4d",
   "metadata": {},
   "source": [
    "SIAMCAT is an R package that puts together statistical functions to compare large-scale studies in order to detect microbial community composition changes due to environmental factors. Describing such associations in quantitative models has multiple applications, such as in predicting disease status based on microbiome data. In addition, the pipeline includes the generation of high-quality plots for the visual inspection of results."
   ]
  },
  {
   "cell_type": "raw",
   "id": "6e6e2bef-7e2a-4fbc-bf47-868487841cda",
   "metadata": {},
   "source": [
    "In this examples, we aim to demosntrate the application of the library to the analysis of environmental samples of the TARA ocean project. We are going to fetch the data from MGnify using MGnifyR"
   ]
  },
  {
   "cell_type": "raw",
   "id": "9db2b105-b6f9-48bf-8eaf-6ea9124f211c",
   "metadata": {},
   "source": [
    "MGnifyR is a library that provides a set of tools for easily accessing and processing MGnify data in R. A huge benefit of using this tool is that data can either be fetched in tsv format or be directly combined in a phyloseq object to run an analysis in a custom workflow."
   ]
  },
  {
   "cell_type": "code",
   "execution_count": null,
   "id": "8022e0ee-5ab0-40a1-a116-79786cdbcfbf",
   "metadata": {},
   "outputs": [],
   "source": []
  },
  {
   "cell_type": "code",
   "execution_count": null,
   "id": "97c53d78-c946-47b0-8869-16f139fa6434",
   "metadata": {},
   "outputs": [],
   "source": []
  },
  {
   "cell_type": "code",
   "execution_count": null,
   "id": "702fbb2e-2cd8-46d1-992f-38e8e9260400",
   "metadata": {},
   "outputs": [],
   "source": []
  },
  {
   "cell_type": "code",
   "execution_count": null,
   "id": "92844a14-48d0-48ff-a565-4a77dfd8f67e",
   "metadata": {},
   "outputs": [],
   "source": []
  },
  {
   "cell_type": "code",
   "execution_count": null,
   "id": "532be902-155e-40ff-8212-6d63806a1966",
   "metadata": {},
   "outputs": [],
   "source": [
    "discarded = c()\n",
    "for (accession in missing_acc) {\n",
    "    current_match = metadata[which(metadata$'analysis_accession'==accession), ]\n",
    "    discarded = rbind(discarded,current_match)\n",
    "}\n",
    "discarded[, c('sample_environment-feature', 'analysis_Submitted nucleotide sequences', 'analysis_Nucleotide sequences after length filtering','analysis_Nucleotide sequences after undetermined bases filtering')]\n",
    "\n",
    "discarded"
   ]
  },
  {
   "cell_type": "code",
   "execution_count": null,
   "id": "23e1f431-0f31-427b-9feb-5a910cd57b1c",
   "metadata": {},
   "outputs": [],
   "source": [
    "#Retrieve and explore functional results\n",
    "#acc_list <- metadata$analysis_accession[metadata$`analysis_experiment-type` == \"assembly\"]\n",
    "#func_results <- mgnify_get_analyses_results(mg, acc_list, retrievelist = c(\"go-slim\", \"taxonomy-ssu\") )\n",
    "#names(func_results)\n",
    "#func_results$`go-slim`\n",
    "#func_results$`taxonomy-ssu`"
   ]
  }
 ],
 "metadata": {
  "kernelspec": {
   "display_name": "R",
   "language": "R",
   "name": "ir"
  },
  "language_info": {
   "codemirror_mode": "r",
   "file_extension": ".r",
   "mimetype": "text/x-r-source",
   "name": "R",
   "pygments_lexer": "r",
   "version": "4.1.3"
  }
 },
 "nbformat": 4,
 "nbformat_minor": 5
}
