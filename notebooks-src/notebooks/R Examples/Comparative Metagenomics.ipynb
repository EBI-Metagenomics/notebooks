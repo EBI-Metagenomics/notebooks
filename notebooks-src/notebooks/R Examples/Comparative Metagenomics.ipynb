{
 "cells": [
  {
   "cell_type": "markdown",
   "id": "f3a383f6-829a-43b2-87ba-159d634fc2ce",
   "metadata": {},
   "source": [
    "<div style=\"max-width:1200px\"><img src=\"../_resources/mgnify_banner.png\" width=\"100%\"></div>"
   ]
  },
  {
   "cell_type": "markdown",
   "id": "9d8bedac-2993-42f4-a71e-b689466bd462",
   "metadata": {
    "tags": []
   },
   "source": [
    "<img src=\"../_resources/mgnify_logo.png\" width=\"200px\">\n",
    "\n",
    "# Comparative metagenomics at community-level\n",
    "\n",
    "## Normalization methods and alpha & beta diversity\n",
    "\n",
    "[MGnifyR](http://github.com/beadyallen/mgnifyr) is a library that provides a set of tools for easily accessing and processing MGnify data in R, making queries to MGnify databases through the [MGnify API](https://www.ebi.ac.uk/metagenomics/api/v1/). \n",
    "The benefit of MGnifyR is that data can either be fetched in tsv format or be directly combined in a phyloseq object to run an analysis in a custom workflow.\n",
    "\n",
    "In this example we aim to demonstrate how the MGnifyR tool can be used to fetch data and metadata of a MGnify metagenomic analyisis. Then we show how to generate diversity metrics for comparative metagenomics using taxonomic profiles.\n",
    "\n",
    "This is an interactive code notebook (a Jupyter Notebook). To run this code, click into each cell and press the ▶ button in the top toolbar, or press shift+enter"
   ]
  },
  {
   "cell_type": "markdown",
   "id": "047933f6-06fc-461d-8873-de5715360e76",
   "metadata": {},
   "source": [
    "## Contents\n",
    "- [Part 1. Fetch data from MGnify using MGnifyR, explore metadata and build a phyloseq object](#part1)\n",
    "  - [1.1. Fetch the MGnify Analyses accession](#part1_1)\n",
    "  - [1.2. Explore and filter samples by metadata](#part1_2)\n",
    "  - [1.3. Converting into phyloseq object](#part1_3)\n",
    "- [Part 2. Normalization, alpha diversity indices and taxonomic profiles visualization](#part2)\n",
    "   - [2.1. Cleaning the OTUs matrix](#part2_1)\n",
    "   - [2.2. Normalization by total sum scaling (TSS, relative abundance or proportions)](#part2_2)\n",
    "   - [2.3. Normalization by subsampling (rarefaction)](#part2_3)\n",
    "   - [2.4. Normalization by cumulative sum scaling (CSS)](#part2_4)\n",
    "- [Part 3. Comparative metagenomics at community-level: Beta diversity](#part3)\n",
    "- [Part 4. Detection of differentially abundant taxa](#part4)\n",
    "    - [4.1. Association testing](#part4_1)\n",
    "    - [4.2. Cofounder testing](#part4_2)\n",
    "    - [4.3. Generation of a predictive model](#part4_3)\n",
    "- [References](#refs)"
   ]
  },
  {
   "cell_type": "code",
   "execution_count": null,
   "id": "c4900c9e-7d78-47f2-bb5f-f9d6d0ba0695",
   "metadata": {},
   "outputs": [],
   "source": [
    "# Loading libraries:\n",
    "library(stringr)\n",
    "library(vegan)\n",
    "library(ggplot2)\n",
    "library(phyloseq)\n",
    "library(metagenomeSeq)\n",
    "library(MGnifyR)\n",
    "library(microbiomeMarker)\n",
    "library(plyr)\n",
    "library(SIAMCAT)\n",
    "library(tidyverse)\n",
    "library(IRdisplay)\n",
    "\n",
    "display_markdown(file = '../_resources/mgnifyr_help.md')"
   ]
  },
  {
   "cell_type": "code",
   "execution_count": null,
   "id": "9a54eed0-81ca-48ac-afb5-86f8a1fce9bc",
   "metadata": {},
   "outputs": [],
   "source": [
    "# Setting tables and figures size to display (these will be reset later):\n",
    "options(repr.matrix.max.cols=150, repr.matrix.max.rows=200)\n",
    "options(repr.plot.width=4, repr.plot.height=4)"
   ]
  },
  {
   "cell_type": "markdown",
   "id": "09672213-271c-4bcd-93d6-4eda159cb7a9",
   "metadata": {},
   "source": [
    "## Part 1. Fetch data from MGnify using MGnifyR, explore metadata and build a phyloseq object <a id='part1'/>"
   ]
  },
  {
   "cell_type": "markdown",
   "id": "7f5b4814-c2cf-47fb-ab9e-9a1d8a97c958",
   "metadata": {},
   "source": [
    "In this example we are going to fetch MGnify analysis results and metadata for TARA ocean metagenomic study corresponding to size fractions for prokaryotes ([MGYS00002008](https://www.ebi.ac.uk/metagenomics/studies/MGYS00002008#overview)).\n",
    "Find more information about the [TARA Ocean Project.](https://fondationtaraocean.org/en/expedition/tara-oceans/)"
   ]
  },
  {
   "cell_type": "markdown",
   "id": "d1c71880-51ec-434f-8dbf-7abe3d63c366",
   "metadata": {},
   "source": [
    "### 1.1. Fetch the MGnify Analyses accession <a id='part1_1'/>"
   ]
  },
  {
   "cell_type": "markdown",
   "id": "4540955c-de1a-48b4-a407-215c965dc876",
   "metadata": {},
   "source": [
    "1. The first step is to retrieve the analysis accession list."
   ]
  },
  {
   "cell_type": "code",
   "execution_count": null,
   "id": "a5359e75-f33f-4e90-8b33-305106c90936",
   "metadata": {},
   "outputs": [],
   "source": [
    "# Create your session mgnify_client object\n",
    "mg = mgnify_client(usecache = T, cache_dir = '/home/jovyan/.mgnify_cache')\n",
    "\n",
    "tara_all = mgnify_analyses_from_studies(mg, 'MGYS00002008')"
   ]
  },
  {
   "cell_type": "markdown",
   "id": "c6320d71-f49f-4e1c-88cd-e7323af8ba66",
   "metadata": {},
   "source": [
    "2. Use the list of accessions to fetch the metadata for all of the analyses from the MGnify API."
   ]
  },
  {
   "cell_type": "code",
   "execution_count": null,
   "id": "e724912b-03b5-4577-8c95-c5366e50e1de",
   "metadata": {},
   "outputs": [],
   "source": [
    "metadata = mgnify_get_analyses_metadata(mg, tara_all)\n",
    "#head(metadata)"
   ]
  },
  {
   "cell_type": "markdown",
   "id": "9a3858ee-6510-4e76-8627-08c423032e59",
   "metadata": {},
   "source": [
    "**Note**: In case you are intereseted in running the comparative metagenomic analysis using data from different studies in MGnify, you can adapt the following commands:\n",
    "\n",
    "```R\n",
    "analyses_accessions = mgnify_analyses_from_studies(mg, c(\"MGYS1\",\"MGYS2\"))\n",
    "\n",
    "metadata = mgnify_get_analyses_metadata(mg, analyses_accessions)\n",
    "```"
   ]
  },
  {
   "cell_type": "markdown",
   "id": "5df0092b-96e7-4857-8e45-e96adc81929d",
   "metadata": {},
   "source": [
    "### 1.2. Explore and filter samples by metadata <a id='part1_2'/>"
   ]
  },
  {
   "cell_type": "markdown",
   "id": "c2a8d114-4810-4d6c-8d98-c0ce44f7a5bd",
   "metadata": {},
   "source": [
    "We want to keep only **metagenomic** samples (not amplicon) of 'surface water layer ([ENVO:00002042](https://www.ebi.ac.uk/ols/ontologies/envo/terms?iri=http%3A%2F%2Fpurl.obolibrary.org%2Fobo%2FENVO_00002042))' and 'mesopelagic zone ([ENVO:00000213](https://www.ebi.ac.uk/ols/ontologies/envo/terms?iri=http%3A%2F%2Fpurl.obolibrary.org%2Fobo%2FENVO_00000213))' to compare. We also want to filter out results generated with old pipeline versions (<[v5.0](https://www.ebi.ac.uk/metagenomics/pipelines/5.0)). In the following steps we will filter out other samples before exporting to the phyloseq object. Let's first explore the metadata we fetched:"
   ]
  },
  {
   "cell_type": "markdown",
   "id": "bf79c63f-c91c-476b-b58e-5d7948d99a36",
   "metadata": {},
   "source": [
    "1) Check the number of analysis in the study."
   ]
  },
  {
   "cell_type": "code",
   "execution_count": null,
   "id": "fbdbf2f9-c411-44f1-8f91-ba3ef377ef60",
   "metadata": {},
   "outputs": [],
   "source": [
    "length(metadata$'analysis_accession')"
   ]
  },
  {
   "cell_type": "markdown",
   "id": "9e16a76e-2c80-4a7e-b247-184e2e5e8998",
   "metadata": {},
   "source": [
    "2) Check the `analysis_experiment-type` to determine whether a filtering is necesary to discard amplicon samples."
   ]
  },
  {
   "cell_type": "code",
   "execution_count": null,
   "id": "b6140e86-4b74-48dc-aae7-df2a0cde37c5",
   "metadata": {},
   "outputs": [],
   "source": [
    "unique(metadata$'analysis_experiment-type')"
   ]
  },
  {
   "cell_type": "markdown",
   "id": "58ef8de7-d22e-4d99-ade8-af0da232a406",
   "metadata": {},
   "source": [
    "3) Keep results generated only with the most updated pipeline (v5.0)."
   ]
  },
  {
   "cell_type": "code",
   "execution_count": null,
   "id": "eb8a625f-88cd-4c33-9068-2c35973a6a0a",
   "metadata": {},
   "outputs": [],
   "source": [
    "v5_metadata = metadata[which(metadata$'analysis_pipeline-version'=='5.0'), ]\n",
    "length(v5_metadata$'analysis_accession')\n",
    "\n",
    "#head(v5_metadata)"
   ]
  },
  {
   "cell_type": "markdown",
   "id": "2b64e232-c366-4d51-aaf2-159680811972",
   "metadata": {},
   "source": [
    "4) Check the `sample_environment-feature` to discover what kind of samples are part of the study and how many of each exists.\n",
    "\n",
    "*Note that for a comparative study, we need at least 5 samples per group.*"
   ]
  },
  {
   "cell_type": "code",
   "execution_count": null,
   "id": "ada5c1f9-6a06-4880-bfe1-90d9737536ba",
   "metadata": {},
   "outputs": [],
   "source": [
    "table(v5_metadata$'sample_environment-feature')"
   ]
  },
  {
   "cell_type": "markdown",
   "id": "080aa6d8-6906-48da-ae18-36feb6265660",
   "metadata": {},
   "source": [
    "Let's keep only samples having [ENVO:00002042](https://www.ebi.ac.uk/ols/ontologies/envo/terms?iri=http%3A%2F%2Fpurl.obolibrary.org%2Fobo%2FENVO_00002042) or [ENVO:00000213](https://www.ebi.ac.uk/ols/ontologies/envo/terms?iri=http%3A%2F%2Fpurl.obolibrary.org%2Fobo%2FENVO_00000213) in the `sample_environment-feature` column. We want to create a new dataframe containing the relevant samples.\n",
    "\n",
    "We are also going to create a clean label for the environment feature.\n",
    "\n",
    "<div class=\"alert alert-block alert-info\">\n",
    "To speed up the following analysis, we are going to keep only 25 samples per group (by randomly subsampling the accessions)\n",
    "</div>"
   ]
  },
  {
   "cell_type": "code",
   "execution_count": null,
   "id": "51f1eec1-7de0-4b84-b3cf-916dd266ce1b",
   "metadata": {},
   "outputs": [],
   "source": [
    "# Saving the list of relevant samples in a dataframe\n",
    "sub1 = v5_metadata[str_detect(v5_metadata$'sample_environment-feature', \"ENVO:00002042\"), ]\n",
    "set.seed(345)\n",
    "acc_s1 = sample(sub1$'analysis_accession', size=25, replace = FALSE)\n",
    "\n",
    "sub2 = v5_metadata[str_detect(v5_metadata$'sample_environment-feature', \"ENVO:00000213\"), ]\n",
    "set.seed(345)\n",
    "acc_s2 = sample(sub2$'analysis_accession', size=25, replace = FALSE)\n",
    "\n",
    "filtered_samples = c(acc_s1,acc_s2)\n",
    "\n",
    "# To create the environment feature label:\n",
    "env_label = c(rep('Surface', times=25), rep('Mesopelagic', times=25))\n"
   ]
  },
  {
   "cell_type": "markdown",
   "id": "daf123c7-fc82-41f6-97f8-6b4e9fa4111b",
   "metadata": {},
   "source": [
    "### 1.3. Converting into phyloseq object <a id='part1_3'/>"
   ]
  },
  {
   "cell_type": "markdown",
   "id": "3dc92881-75bc-4931-90a5-96c6a4cf24ff",
   "metadata": {},
   "source": [
    "1. Now that we have a new dataframe with 50 samples from either surface or mesopelagic zone water, we are going to create the phyloseq object"
   ]
  },
  {
   "cell_type": "code",
   "execution_count": null,
   "id": "95977717-ea94-4550-bc17-c8bbe3e2781c",
   "metadata": {},
   "outputs": [],
   "source": [
    "ps = mgnify_get_analyses_phyloseq(mg, filtered_samples)"
   ]
  },
  {
   "cell_type": "markdown",
   "id": "b1a7166e-b287-4668-98e6-47a08841a725",
   "metadata": {},
   "source": [
    "2. Keep only relevant columns in metadata table and transform numeric variables from characters to numbers. Add the environment label as well."
   ]
  },
  {
   "cell_type": "code",
   "execution_count": null,
   "id": "c571fc4a-a1c4-4c86-81e0-df163919a80a",
   "metadata": {},
   "outputs": [],
   "source": [
    "#sample_variables(ps)\n",
    "\n",
    "# Keeping relevant metadata only\n",
    "variables_to_keep = c('sample_temperature','sample_depth','sample_salinity','sample_chlorophyll.sensor','sample_nitrate.sensor','sample_oxygen.sensor')\n",
    "\n",
    "df = data.frame(sample_data(ps))[variables_to_keep]\n",
    "\n",
    "# Transforming character to nummeric variables\n",
    "df[] = lapply(df, function(x) as.numeric(as.character(x)))\n",
    "\n",
    "sample_data(ps) = df\n",
    "\n",
    "# Adding the env label                              \n",
    "sample_data(ps)$'env_feature' = env_label\n",
    "\n",
    "#sample_data(ps)"
   ]
  },
  {
   "cell_type": "markdown",
   "id": "f07ff95a-55b0-4664-bd53-7f65b779048d",
   "metadata": {},
   "source": [
    "## Part 2. Normalization, alpha diversity indices and taxonomic profiles visualization <a id='part2'/>"
   ]
  },
  {
   "cell_type": "markdown",
   "id": "d4e432e7-1f5f-4f29-bbbb-c615f78065f7",
   "metadata": {
    "tags": []
   },
   "source": [
    "### 2.1. Cleaning the OTUs matrix <a id='part2_1'/>"
   ]
  },
  {
   "cell_type": "markdown",
   "id": "dcedcf9c-3689-4b3c-808b-0e5e0888a9db",
   "metadata": {},
   "source": [
    "1) Remove samples with extremely low coverage – they aren't informative and interfere with the normalization process. The first step is to detect outliers by plotting some histograms."
   ]
  },
  {
   "cell_type": "code",
   "execution_count": null,
   "id": "ea09d099-82a3-4206-8241-de263d17fcd5",
   "metadata": {},
   "outputs": [],
   "source": [
    "ps\n",
    "\n",
    "options(repr.plot.width=4, repr.plot.height=4)\n",
    "hist(log10(sample_sums(ps)), breaks=50, main=\"Sample size distribution\", xlab=\"Sample size (log10)\", ylab=\"Frequency\", col=\"#007c80\")"
   ]
  },
  {
   "cell_type": "markdown",
   "id": "de3ab6e5-038d-41ec-abec-566971bedee4",
   "metadata": {},
   "source": [
    "We can see that samples with number of reads $\\leq 10 ^ {1.5}$ (i.e. $\\lesssim 32$) seem to be outliers. \n",
    "   Let's filter out the outliers and plot a new histogram."
   ]
  },
  {
   "cell_type": "code",
   "execution_count": null,
   "id": "1bc85bcf-bb7f-4105-9b37-c13d1ebf995c",
   "metadata": {},
   "outputs": [],
   "source": [
    "ps_good = subset_samples(ps, sample_sums(ps) > 32)\n",
    "ps_good\n",
    "\n",
    "hist(log10(sample_sums(ps_good)), breaks=50, main=\"Sample size distribution\", xlab=\"Sample size (log10)\", ylab=\"Frequency\", col=\"#007c80\")"
   ]
  },
  {
   "cell_type": "markdown",
   "id": "fcd738db-5e06-47c4-8216-3b919aaa2d0f",
   "metadata": {},
   "source": [
    "And let's check how many samples were discarded:"
   ]
  },
  {
   "cell_type": "code",
   "execution_count": null,
   "id": "68fb356a-04a9-4db6-8583-ecafc9b4cb9a",
   "metadata": {},
   "outputs": [],
   "source": [
    "nsamples(ps)\n",
    "nsamples(ps_good)"
   ]
  },
  {
   "cell_type": "markdown",
   "id": "0eaccdbf-3f28-4f00-abc2-ae7cd9bbb7ba",
   "metadata": {},
   "source": [
    "2) Remove singletons existing in a single sample. Singletons are OTUs of size one, meaning that only one read was assigned to that OTU. These very low-abundance OTUs could be biologically real (belonging to the rare biosphere ([1](#reference_1))), or they could be false positives due to sequencing artefacts. Singletons observed in only one sample are more likely to be artefacts, and it is good practice to remove them from the OTUs counts table to avoid artificially over-estimating the OTUs richness. You can find more discussion about this in [Robert Edgar's blog](https://drive5.com/usearch/manual/singletons.html)."
   ]
  },
  {
   "cell_type": "code",
   "execution_count": null,
   "id": "3e40e52c-826d-4280-9bb5-95c1e3abffe2",
   "metadata": {},
   "outputs": [],
   "source": [
    "ps_final = filter_taxa(ps_good, function(x) sum(x) > 1, prune=TRUE)\n",
    "ps_final"
   ]
  },
  {
   "cell_type": "markdown",
   "id": "f3bf6d10-da48-4276-b353-d70b222ca1fb",
   "metadata": {},
   "source": [
    "3) Show some stats on the sequencing depth across samples."
   ]
  },
  {
   "cell_type": "code",
   "execution_count": null,
   "id": "65e46c67-a25f-49fb-bb4f-15189a5fe6cf",
   "metadata": {},
   "outputs": [],
   "source": [
    "max_difference = max(sample_sums(ps_final))/min(sample_sums(ps_final))\n",
    "\n",
    "sprintf(\"The max difference in sequencing depth is %s\", max_difference)\n",
    "\n",
    "options(repr.plot.width=4, repr.plot.height=5)\n",
    "\n",
    "boxplot(sample_sums(ps_final), main=\"Sequencing depth across samples\", xlab=\"\", ylab=\"Number of reads\", col=\"#a6093d\")\n",
    "text(y=boxplot.stats(sample_sums(ps_final))$stats, labels=boxplot.stats(sample_sums(ps_final))$stats, x=1.25)"
   ]
  },
  {
   "cell_type": "markdown",
   "id": "b44ce62e-85d8-4517-9b7b-717cf5dde623",
   "metadata": {},
   "source": [
    "An approximately 10-fold difference in the library sizes means that we will need to apply a normalization method before continuing with the analysis. The most common normalization methods used in microbiome count data are proportions and rarefaction. However, other methods originally developed to normalize RNA-seq counts have been adapted to differential-abundance analysis in microbiome data. A discussion about how to choose the right normalization method is out of the scope of this material, but the topic has been covered in multiple forums and scientific publications. Depending on the downstream analysis we intend to perform, different methods might be appropriate. For instance, to compare groups of samples at community-level through beta-diversity, \"...proportions and rarefying produced more accurate comparisons among communities and are the only methods that fully normalized read depths across samples. Additionally, upper quartile, cumulative sum scaling (CSS), edgeR-TMM, and DESeq-VS often masked differences among communities when common OTUs differed, and they produced false positives when rare OTUs differed\" ([2](#reference_2)). On the other hand, for detection of differentially abundant species, \"both proportions and rarefied counts result in a high rate of false positives in tests for species that are differentially abundant across sample classes\" ([3](#reference_3)).\n",
    "\n",
    "In the following examples we will show three popular ways of normalization: relative abundance, rarefaction and cummulative sum scaling."
   ]
  },
  {
   "cell_type": "markdown",
   "id": "43e075eb-288b-4308-8a30-443a7693275e",
   "metadata": {},
   "source": [
    "### 2.2. Normalization by total sum scaling (TSS, relative abundance or proportions) <a id='part2_2'/>"
   ]
  },
  {
   "cell_type": "markdown",
   "id": "5c578470-b42a-40f1-9e07-51b3c1b54561",
   "metadata": {},
   "source": [
    "The simplest way to normalize the differences in sample size is to transform the OTU counts table into relative abundance by dividing by the number of total reads of each sample. This type of normalization is also referred to as relative abundance or proportions. We use this normalization to compare taxonomic profiles, while alpha diversity indices are computed on the non-normalized matrix. The reason to do so is that we need a matrix of integer numbers as input."
   ]
  },
  {
   "cell_type": "markdown",
   "id": "05ee5fa7-7fc4-4176-80c0-06b966973bef",
   "metadata": {},
   "source": [
    "1) Compute alpha diversity indices and display plots."
   ]
  },
  {
   "cell_type": "code",
   "execution_count": null,
   "id": "bc530d97-6021-4d61-951e-eaa4b4b28f40",
   "metadata": {},
   "outputs": [],
   "source": [
    "options(repr.plot.width=14, repr.plot.height=4)\n",
    "\n",
    "plot_richness(ps_final, x=\"env_feature\", color=\"env_feature\") + \n",
    "    geom_boxplot() + \n",
    "    theme_bw() + \n",
    "    scale_color_manual(values=c(\"#0a5032\", \"#a1be1f\")) + \n",
    "    labs(x='', color = \"Environment\")"
   ]
  },
  {
   "cell_type": "markdown",
   "id": "3443c9b0-5c7e-48b3-9257-a180b423f1df",
   "metadata": {},
   "source": [
    "2) Transform taxonomy raw-counts matrix into relative abundance.  <a id='part2_2_2'/>"
   ]
  },
  {
   "cell_type": "code",
   "execution_count": null,
   "id": "e4642245-7adc-4cfa-9cc1-92484d532808",
   "metadata": {},
   "outputs": [],
   "source": [
    "relab_ps = transform_sample_counts(ps_final, function(x) x/sum(x))"
   ]
  },
  {
   "cell_type": "markdown",
   "id": "6dfe3c91-38de-467f-be40-edbdd31a6fe4",
   "metadata": {},
   "source": [
    "3) Agglomerate taxonomy at Class rank and keep only the most abundant classes (threshold=1%, i.e. 0.01). In microbial data, we expect to observe abundance distributions with a long 'tail' of low-abundance organisms which often comprise the large majority of species. For this reason, once the matrix has been transformed to relative abundance, we will show the taxonomic profile at a high taxonomic rank (Class), agglomerating the counts first and using an abundance threshold of 1% to avoid displaying too many unreadable categories in the plot."
   ]
  },
  {
   "cell_type": "code",
   "execution_count": null,
   "id": "a87af8cc-6ba1-4fd6-854e-bb00fc35f2ad",
   "metadata": {},
   "outputs": [],
   "source": [
    "psglom = tax_glom(relab_ps, \"Class\")\n",
    "norare_ps = filter_taxa(psglom, function(x) mean(x) > 0.01, TRUE)"
   ]
  },
  {
   "cell_type": "markdown",
   "id": "f43f53da-3904-448e-811a-fd5c054ea7b2",
   "metadata": {},
   "source": [
    "4) Visualise the profile in barplots at Class rank in two visualization modes."
   ]
  },
  {
   "cell_type": "code",
   "execution_count": null,
   "id": "101a422d-c5ce-42fa-8b44-b5dad2c8a9d6",
   "metadata": {},
   "outputs": [],
   "source": [
    "plot_bar(norare_ps, fill = \"Class\") + \n",
    "    facet_wrap(~Class) + \n",
    "    theme(axis.text.x=element_blank(), axis.ticks.x=element_blank(), panel.background=element_rect(fill=NA), panel.grid.major=element_line(colour=\"#ebebeb\")) + \n",
    "    labs(x=NULL)\n",
    "\n",
    "plot_bar(norare_ps, fill = \"Class\") + \n",
    "    theme(axis.text.x=element_blank(), axis.ticks.x=element_blank(), panel.background=element_rect(fill=NA), panel.grid.major=element_line(colour=\"#ebebeb\")) + \n",
    "    labs(x='')"
   ]
  },
  {
   "cell_type": "markdown",
   "id": "8a9682bd-1e66-402b-9a51-34aa07fce3f5",
   "metadata": {},
   "source": [
    "### 2.3. Normalization by subsampling (rarefaction) <a id='part2_3'/>"
   ]
  },
  {
   "cell_type": "markdown",
   "id": "38390dee-688e-420e-bddf-305775d70615",
   "metadata": {},
   "source": [
    "Rarefaction is an alternative to relative abundance normalization to obtain an adjusted OTUs count matrix. The method is based on a process of subsampling to the smallest library size in the data set. The algorithm randomly removes reads until the samples reach the same library size. Despite the apparent disadvantage of discarding information from the larger samples, rarefaction is quite popular in microbial ecology."
   ]
  },
  {
   "cell_type": "markdown",
   "id": "5c9ebb63-e044-49a1-a8a8-229d70f1f69c",
   "metadata": {},
   "source": [
    "The first step is to find the smallest sample size. We can use the number of observed OTUs in the original matrix to do so."
   ]
  },
  {
   "cell_type": "markdown",
   "id": "dc7a2a99-46c6-4fe8-ae92-ebcc26075dee",
   "metadata": {},
   "source": [
    "1) Find the smallest sample size."
   ]
  },
  {
   "cell_type": "code",
   "execution_count": null,
   "id": "630cfed1-55e3-4ac7-b14e-73649c990ffd",
   "metadata": {},
   "outputs": [],
   "source": [
    "head(estimate_richness(ps_final)[order(estimate_richness(ps_final)$Observed),], 1)"
   ]
  },
  {
   "cell_type": "markdown",
   "id": "d74bf0a3-f34d-4847-9b33-241d5e6e74a2",
   "metadata": {
    "tags": []
   },
   "source": [
    "2) Rarefying to the smallest sample."
   ]
  },
  {
   "cell_type": "code",
   "execution_count": null,
   "id": "64abb3e3-c41a-4a41-935c-2bd44004ef9d",
   "metadata": {},
   "outputs": [],
   "source": [
    "ps_rare = rarefy_even_depth(ps_final, sample.size=23, replace=FALSE, rngseed=123, verbose=FALSE)\n",
    "\n",
    "#otu_table(ps_rare)"
   ]
  },
  {
   "cell_type": "markdown",
   "id": "872a4d19-8519-42ba-bf4c-35298c6cd4d4",
   "metadata": {},
   "source": [
    "3) Plot diversity indices."
   ]
  },
  {
   "cell_type": "code",
   "execution_count": null,
   "id": "dc06784b-f4f4-415a-9e61-48d5e7c77885",
   "metadata": {},
   "outputs": [],
   "source": [
    "plot_richness(ps_rare, x=\"env_feature\", color=\"env_feature\") + \n",
    "    geom_boxplot() + \n",
    "    theme_bw() + \n",
    "    scale_color_manual(values=c(\"#0a5032\", \"#a1be1f\")) + \n",
    "    labs(x='', color = \"Environment\")"
   ]
  },
  {
   "cell_type": "markdown",
   "id": "79c10037-0b4c-4613-bf82-6dbbef8f93c4",
   "metadata": {},
   "source": [
    "4) Aglomerate taxonomy at Class rank and visualize the profile (show the top 15 classes only)."
   ]
  },
  {
   "cell_type": "code",
   "execution_count": null,
   "id": "9afd4152-80be-4b82-91e7-4c95bfe1bdf5",
   "metadata": {},
   "outputs": [],
   "source": [
    "psglom = tax_glom(ps_rare, \"Class\")\n",
    "top15 = names(sort(taxa_sums(psglom), decreasing=TRUE)[1:15])\n",
    "top15_ps = prune_taxa(top15, psglom)\n",
    "\n",
    "options(repr.plot.width=14, repr.plot.height=6)\n",
    "plot_bar(top15_ps, fill=\"Class\") + \n",
    "    facet_wrap(~Class) + \n",
    "    theme(axis.text.x=element_blank(), axis.ticks.x=element_blank(), panel.background=element_rect(fill=NA), panel.grid.major=element_line(colour=\"#ebebeb\")) + \n",
    "    labs(x=NULL)\n",
    "\n",
    "options(repr.plot.width=14, repr.plot.height=4)\n",
    "plot_bar(top15_ps, fill=\"Class\") + \n",
    "    theme(axis.text.x=element_blank(), axis.ticks.x=element_blank(), panel.background=element_rect(fill=NA), panel.grid.major=element_line(colour=\"#ebebeb\")) + \n",
    "    labs(x=NULL)"
   ]
  },
  {
   "cell_type": "markdown",
   "id": "8d76c3cb-0069-4835-8703-0b313958df01",
   "metadata": {},
   "source": [
    "### 2.4. Normalization by cumulative sum scaling (CSS) <a id='part2_4'/>"
   ]
  },
  {
   "cell_type": "markdown",
   "id": "3206beb1-25ba-4494-b7ef-100ea54effef",
   "metadata": {},
   "source": [
    "The third normalization method we are going to apply is CSS. To do so, we will use the implementation on the `microbiomeMarker` library.\n",
    "Cumulative sum scaling normalization calculates scaling factors as the cumulative sum of gene (or taxa) abundances up to a data-derived threshold. This method is based on the assumption that the count distributions in each sample are equivalent for low abundance genes up to a certain threshold. Only the segment of each sample's count distribution that is relatively invariant across samples is scaled by CSS."
   ]
  },
  {
   "cell_type": "markdown",
   "id": "ffed20e0-f647-4c44-a644-f807d6497dde",
   "metadata": {},
   "source": [
    "1) Normalizing the OTU counts in the `ps_final` object."
   ]
  },
  {
   "cell_type": "code",
   "execution_count": null,
   "id": "d1e2e3ac-8a76-4590-ac0b-6ac24cd3365b",
   "metadata": {},
   "outputs": [],
   "source": [
    "ps_CSS = normalize(ps_final, method=\"CSS\")"
   ]
  },
  {
   "cell_type": "markdown",
   "id": "6fb8a5ce-5369-45d3-a558-ac3b00749133",
   "metadata": {},
   "source": [
    "2) Compute and plot alpha diversity metrics."
   ]
  },
  {
   "cell_type": "code",
   "execution_count": null,
   "id": "cf6050f8-cbc3-4e02-bc40-6eac2bd883bf",
   "metadata": {},
   "outputs": [],
   "source": [
    "plot_richness(ps_CSS, x=\"env_feature\", color=\"env_feature\") + \n",
    "    geom_boxplot() + \n",
    "    theme_bw() + \n",
    "    scale_color_manual(values=c(\"#0a5032\", \"#a1be1f\")) + \n",
    "    labs(x='', color=\"Environment\")"
   ]
  },
  {
   "cell_type": "markdown",
   "id": "ad3dcd0a-1c95-4634-a3fe-6cae15f17ee0",
   "metadata": {},
   "source": [
    "3) Aglomerate taxonomy at Class rank and visualize the profile (show the top 15 classes only)."
   ]
  },
  {
   "cell_type": "code",
   "execution_count": null,
   "id": "cebb4d78-de0b-42ba-93af-b22f10c0d663",
   "metadata": {},
   "outputs": [],
   "source": [
    "psglom = tax_glom(ps_CSS, \"Class\")\n",
    "top15 = names(sort(taxa_sums(psglom), decreasing=TRUE)[1:15])\n",
    "top15_ps = prune_taxa(top15, psglom)\n",
    "\n",
    "options(repr.plot.width=14, repr.plot.height=6)\n",
    "plot_bar(top15_ps, fill=\"Class\") + \n",
    "    facet_wrap(~Class) + \n",
    "    theme(axis.text.x=element_blank(), axis.ticks.x=element_blank(), panel.background=element_rect(fill=NA), panel.grid.major=element_line(colour=\"#ebebeb\")) + \n",
    "    labs(x=NULL)\n",
    "\n",
    "options(repr.plot.width=14, repr.plot.height=4)\n",
    "plot_bar(top15_ps, fill=\"Class\") + \n",
    "    theme(axis.text.x=element_blank(), axis.ticks.x=element_blank(), panel.background=element_rect(fill=NA), panel.grid.major=element_line(colour=\"#ebebeb\")) + \n",
    "    labs(x=NULL)"
   ]
  },
  {
   "cell_type": "markdown",
   "id": "4be89d30-1e85-451d-875e-f0b942a4a137",
   "metadata": {},
   "source": [
    "## Part 3. Comparative metagenomics at community-level: Beta diversity <a id='part3'/>"
   ]
  },
  {
   "cell_type": "markdown",
   "id": "78b8befa-2619-447b-8fe9-c8d4adba4d6c",
   "metadata": {},
   "source": [
    "According to Pereira *et al.,* (2018)([4](#reference_4)), the best normalization method for metagenomic gene abundance (tested in TARA ocean samples) is CSS for large group sizes. For this reason, we will use this method to show beta-diversity."
   ]
  },
  {
   "cell_type": "markdown",
   "id": "6f9250ff-0a36-434e-abe1-1bb5018e449d",
   "metadata": {},
   "source": [
    "1) Compute beta diversity using various methods to calculate distance, and perform principle components analysis ploting the first two axes. Using as a guide the steps described in ([5](#reference_5)), we will create a list of suitable distance methods, iterate through them, and display a combined plot. For a better visualization we are going to show the 95% confidence region with an ellipse."
   ]
  },
  {
   "cell_type": "code",
   "execution_count": null,
   "id": "ace268c3-ee4a-47ec-8050-56c509bc3380",
   "metadata": {},
   "outputs": [],
   "source": [
    "# Generating the methods list and discarding those that are not included in adonis methods list\n",
    "dist_methods = unlist(distanceMethodList)\n",
    "dist_methods = dist_methods[c(-(1:4),-(20:47))]\n",
    "\n",
    "# Iterating through the list to save the plot\n",
    "plist = vector(\"list\", length(dist_methods))\n",
    "names(plist) = dist_methods\n",
    "for( i in dist_methods ){\n",
    "    # Calculate distance matrix\n",
    "    iDist = distance(ps_CSS, method=i)\n",
    "    # Calculate ordination\n",
    "    iMDS  = ordinate(ps_CSS, \"MDS\", distance=iDist)\n",
    "    ## Make plot\n",
    "    # Don't carry over previous plot (if error, p will be blank)\n",
    "    p = NULL\n",
    "    # Create plot, store as temp variable, p\n",
    "    p = plot_ordination(ps_CSS, iMDS, color=\"env_feature\")\n",
    "    # Add title to each plot\n",
    "    p = p + ggtitle(paste(\"MDS using distance method \", i, sep=\"\"))\n",
    "    # Save the graphic to file.\n",
    "    plist[[i]] = p\n",
    "}\n",
    "\n",
    "# Create a combined plot\n",
    "df = ldply(plist, function(x) x$data)\n",
    "names(df)[1] = \"distance\"\n",
    "p = ggplot(df, aes(Axis.1, Axis.2, color=env_feature))\n",
    "p = p + geom_point(size=3, alpha=0.5)\n",
    "p = p + facet_wrap(~distance, scales=\"free\")\n",
    "p = p + ggtitle(\"MDS on various distance metrics for TARA ocean dataset\") + \n",
    "    stat_ellipse(level=0.95, type=\"norm\", geom=\"polygon\", alpha=0, aes(color=env_feature)) + \n",
    "    theme_bw() + \n",
    "    scale_color_manual(values=c(\"#0a5032\", \"#a1be1f\")) + \n",
    "    labs(color = \"Environment\") \n",
    "\n",
    "options(repr.plot.width=12, repr.plot.height=10)\n",
    "p"
   ]
  },
  {
   "cell_type": "markdown",
   "id": "58a895b2-693a-41f7-822f-e8fe4bd4b926",
   "metadata": {},
   "source": [
    "2) Select the best distance metric – the one which best segregates the data by water layer – and determine whether the two groups of samples have different centroids. To do so, we use a permanova implemented in the `vegan` library's `adonis` function. The method calculates the squared deviations of each site to the centroid and then, performs significance tests using F-tests based on sequential sums of squares from permutations of the raw data."
   ]
  },
  {
   "cell_type": "code",
   "execution_count": null,
   "id": "bfac182b-ca31-4642-a31e-f0dfcf5f1508",
   "metadata": {},
   "outputs": [],
   "source": [
    "metadata = data.frame(sample_data(ps_CSS))\n",
    "css_beta = distance(ps_CSS, method=\"canberra\")\n",
    "adonis(css_beta ~ env_feature, data = metadata, perm=1e3)"
   ]
  },
  {
   "cell_type": "markdown",
   "id": "a1dbbd65-7920-413c-b267-85a8b13597f5",
   "metadata": {},
   "source": [
    "3) Adonis assumes there is homogeneity of dispersion among groups. Let's test this assumption, to check whether the differences detected by adonis are due to variation in dispersion of the data. The strategy is to run a `betadisper` test (also from the `vegan` library) and  evaluate if there's a significant variation in beta dispersion between groups through an anova."
   ]
  },
  {
   "cell_type": "code",
   "execution_count": null,
   "id": "8c415a72-f29a-4c9f-9eb9-44e77475f297",
   "metadata": {},
   "outputs": [],
   "source": [
    "bd = betadisper(css_beta, metadata$'env_feature')\n",
    "bd\n",
    "anova(bd)"
   ]
  },
  {
   "cell_type": "markdown",
   "id": "b89f180e-ee44-4455-9e6b-81aa01164550",
   "metadata": {},
   "source": [
    "With these results, we can now accept that there is a significant difference between groups and it is not an artifact due to heterogeneous dispersion."
   ]
  },
  {
   "cell_type": "markdown",
   "id": "01750618-93de-4110-99f7-999be932a74a",
   "metadata": {},
   "source": [
    "## Part 4. Detection of differentially abundant taxa <a id='part4'/>"
   ]
  },
  {
   "cell_type": "markdown",
   "id": "7f9d2060-7d8d-4198-96d5-7580a4abe0f6",
   "metadata": {},
   "source": [
    "There are many approaches out there to detect differentially abudant taxa (or genes). Here we are using the method implemented in `SIAMCAT` library. `SIAMCAT` is an R package that puts together statistical functions to compare large-scale studies in order to detect microbial community composition changes due to environmental factors. Describing such associations in quantitative models has multiple applications, such as in predicting disease status based on microbiome data. In addition, the pipeline includes the generation of high-quality plots for visual inspection of results ([6](#reference_6)). Noteworthy that there are multiple parametra that can be adjusted for a better performance in each step of the analysis according with the dataset nature. However, in this exercise we are showing the tool behaviuor with minimal tuning in default arguments so it can be used as a template by the user."
   ]
  },
  {
   "cell_type": "markdown",
   "id": "3ba5fe1a-2f0a-41be-9ab4-f6687d7acb97",
   "metadata": {},
   "source": [
    "### 4.1. Association testing <a id='part4_1'/>"
   ]
  },
  {
   "cell_type": "markdown",
   "id": "9671a0c5-5dcf-4710-a554-e22940644e01",
   "metadata": {},
   "source": [
    "1. Preparing the data. The input for `SIAMCAT` is a matrix with normalized data as relative abundances. We will use the phyloseq object generated in step [2.2.2](#part2_2_2) of this notebook and aggregate the data at genus level."
   ]
  },
  {
   "cell_type": "code",
   "execution_count": null,
   "id": "9af07d9f-f00b-444c-894b-f4d97ed4af87",
   "metadata": {},
   "outputs": [],
   "source": [
    "psglom = tax_glom(relab_ps, \"Genus\")\n",
    "\n",
    "#sample_data(psglom)"
   ]
  },
  {
   "cell_type": "markdown",
   "id": "b68c76e0-2307-47a4-8963-b76203560d0e",
   "metadata": {},
   "source": [
    "2. Creating the `SIAMCAT` object. We first need to create a label to set which group will be used as control for comparisons. We selected arbitrary Mesopelagic as case group and Surface as control."
   ]
  },
  {
   "cell_type": "code",
   "execution_count": null,
   "id": "3f6e51d5-bf28-4278-9ff2-1b9d756d4998",
   "metadata": {},
   "outputs": [],
   "source": [
    "# Creating a siamcat label\n",
    "sc_label = create.label(meta=sample_data(psglom), label='env_feature', case='Mesopelagic')\n",
    "\n",
    "# Creating the siamcat object\n",
    "siamcat_obj = siamcat(phyloseq=psglom, label=sc_label)\n",
    "show(siamcat_obj)"
   ]
  },
  {
   "cell_type": "markdown",
   "id": "b11c1d8f-7af7-4ba3-a2fd-bda3c5ef4b60",
   "metadata": {},
   "source": [
    "3. Filtering low-abundant features by abundance (threshold=0.001) and prevalence (threshold=0.05)."
   ]
  },
  {
   "cell_type": "code",
   "execution_count": null,
   "id": "bbc9bee9-66bd-44c7-8961-85d4b96cfeeb",
   "metadata": {},
   "outputs": [],
   "source": [
    "siamcat_obj = filter.features(siamcat_obj, filter.method='abundance', cutoff=1e-03)\n",
    "siamcat_obj = filter.features(siamcat_obj, filter.method='prevalence', cutoff=0.05, feature.type='filtered')\n",
    "\n",
    "siamcat_obj"
   ]
  },
  {
   "cell_type": "markdown",
   "id": "3e260a2d-0042-4fc3-9e65-3c243c6373d4",
   "metadata": {},
   "source": [
    "4. Computing differentially abundant taxa on filtered object. "
   ]
  },
  {
   "cell_type": "code",
   "execution_count": null,
   "id": "597de76f-edd9-49bd-8339-4fc9e1ce01e0",
   "metadata": {},
   "outputs": [],
   "source": [
    "options(repr.plot.width=10, repr.plot.height=6)\n",
    "siamcat_obj = check.associations(siamcat_obj, panels=c(\"fc\",\"prevalence\"))"
   ]
  },
  {
   "cell_type": "markdown",
   "id": "c80a25ad-265b-4586-a188-f8af9d22f15b",
   "metadata": {},
   "source": [
    "For significantly associated microbial features, the plot shows: \n",
    "- The abundances of the features across the two different classes (Mesopelagic vs. Surface) \n",
    "- The significance of the enrichment calculated by a Wilcoxon test (after multiple hypothesis testing correction) \n",
    "- The generalized fold change of each feature\n",
    "- The prevalence shift between the two classes\n",
    "\n",
    "Adding \"auroc\" to the `panels` list, you can also visualize the Area Under the Receiver Operating Characteristics Curve (AU-ROC) as non-parametric effect size measure.\n"
   ]
  },
  {
   "cell_type": "markdown",
   "id": "515c631f-8b8f-47d4-aa90-d1ec8758d9b9",
   "metadata": {},
   "source": [
    "5. Printing the taxonomic labels of differentially abudant OTUs. "
   ]
  },
  {
   "cell_type": "code",
   "execution_count": null,
   "id": "4de2de7b-26e5-422a-b89a-3e379c95aa23",
   "metadata": {},
   "outputs": [],
   "source": [
    "# The results table of differentially abundant OTUs are stored in associations(siamcat_obj)\n",
    "diff_otus = as.list(rownames(associations(siamcat_obj)[associations(siamcat_obj)$p.adj < 0.05, ]))\n",
    "\n",
    "# The taxonomic label per OTU is stored in tax_table(psglom)\n",
    "tax_table(psglom)[rownames(tax_table(psglom)) %in% diff_otus, ]"
   ]
  },
  {
   "cell_type": "markdown",
   "id": "f3c4ff24-114d-49de-b1d9-b94f0817f07a",
   "metadata": {},
   "source": [
    "### 4.2. Cofounder testing <a id='part4_2'/>"
   ]
  },
  {
   "cell_type": "markdown",
   "id": "3a06e0a6-e653-4c6b-8d73-ad111e361cef",
   "metadata": {},
   "source": [
    "1. Test the associated metadata variables for potential confounding influence. The aim of this test is to check how differences between studies might influence the variance of specific taxa."
   ]
  },
  {
   "cell_type": "code",
   "execution_count": null,
   "id": "3f96c334-d899-4d1a-a9fb-daaa703c6c2b",
   "metadata": {},
   "outputs": [],
   "source": [
    "check.confounders(siamcat_obj, fn.plot='conf_check.pdf')"
   ]
  },
  {
   "cell_type": "markdown",
   "id": "fedb5262-214c-4845-a01e-a66f6f8733d3",
   "metadata": {},
   "source": [
    "The output file has been created in the current directory. You can explorecheck.confounders the PDF file following this <a href=\"conf_check.pdf\">link</a>."
   ]
  },
  {
   "cell_type": "markdown",
   "id": "6ebdbefc-39a5-4d40-9fd8-8b8c9496fb88",
   "metadata": {},
   "source": [
    "### 4.3. Generation of a predictive model"
   ]
  },
  {
   "cell_type": "markdown",
   "id": "4cf8070c-5c9c-4de0-89b2-a18a830c954b",
   "metadata": {},
   "source": [
    "Another feature of `SIAMCAT` is versatile but easy-to-use interface for the construction of machine learning (ML) meta-analysis models on the basis of microbial markers: the steps to follow include functions for data normalization, splitting the data into cross-validation folds, training the model, and making predictions based on cross-validation instances and the trained models."
   ]
  },
  {
   "cell_type": "markdown",
   "id": "4291a3bb-bc92-4762-8ec7-696ff9ee8597",
   "metadata": {},
   "source": [
    "1. Data normalisation. `SIAMCAT` offers a few normalization approaches that can be useful for subsequent statistical modeling in the sense that they transform features in a way that can increase the accuracy of the resulting models. Importantly, these normalization techniques do not make use of any label information, and can thus be applied up front to the whole data set and outside of the following cross validation."
   ]
  },
  {
   "cell_type": "code",
   "execution_count": null,
   "id": "a68ff86c-9439-491a-83c5-3dc87fc99fa0",
   "metadata": {},
   "outputs": [],
   "source": [
    "siamcat_obj = normalize.features(siamcat_obj, norm.method='log.std', norm.param=list(log.n0=1e-06, sd.min.q=0))"
   ]
  },
  {
   "cell_type": "markdown",
   "id": "a1975ac8-82d7-43d0-b4f5-7a2e7a4c48cf",
   "metadata": {},
   "source": [
    "2. Prepare cross-validation. Cross validation is a technique to assess how well a ML model would generalize to external data by partionining the dataset into training and test sets. `SIAMCAT` greatly simplifies the set-up of cross-validation schemes, including stratification of samples or keeping samples inseperable based on metadata. Here, we split the dataset into 10 parts and then train a model on 9 of these parts and use the left-out part to test the model. The whole process is repeated 10 times."
   ]
  },
  {
   "cell_type": "code",
   "execution_count": null,
   "id": "fffc110e-7497-4d6e-91d9-50a6e9df8690",
   "metadata": {},
   "outputs": [],
   "source": [
    "siamcat_obj = create.data.split(siamcat_obj, num.folds=10, num.resample=10)"
   ]
  },
  {
   "cell_type": "markdown",
   "id": "2dae8028-2d8d-422b-9c7c-ccf5dcaf2bd8",
   "metadata": {},
   "source": [
    "3. Model training. The actual model training is performed using the function `train.model`. Again, multiple options for customization are available, ranging from the machine learning method to the measure for model selection or customizable parameter set for hyperparameter tuning. Here, we train a Lasso model ([7](#reference_7))."
   ]
  },
  {
   "cell_type": "code",
   "execution_count": null,
   "id": "1914806d-024e-4601-88f4-c4cfbc975d51",
   "metadata": {},
   "outputs": [],
   "source": [
    "siamcat_obj = train.model(siamcat_obj, method='lasso')"
   ]
  },
  {
   "cell_type": "markdown",
   "id": "a251abd4-5fa0-49d0-b637-865646215480",
   "metadata": {},
   "source": [
    "4. Make predictions. This function will automatically apply the models trained in cross validation to their respective test sets and aggregate the predictions across the whole data set."
   ]
  },
  {
   "cell_type": "code",
   "execution_count": null,
   "id": "ecf48ffc-5ffa-4e56-a80e-ee07d56ab067",
   "metadata": {},
   "outputs": [],
   "source": [
    "siamcat_obj = make.predictions(siamcat_obj)"
   ]
  },
  {
   "cell_type": "markdown",
   "id": "21c5906b-f1b4-4788-b1c6-d42eedf672bf",
   "metadata": {},
   "source": [
    "5. Model evaluation and plot. In the final part, we want to find out how well the model performed and which microbial markers had been selected in the model. In order to do so, we first calculate how well the predictions fit the real data using the function `evaluate.predictions`. This function calculates the Area Under the Receiver Operating Characteristic (ROC) Curve (AU-ROC) and the Precision Recall (PR) Curve for each resampled cross-validation run."
   ]
  },
  {
   "cell_type": "code",
   "execution_count": null,
   "id": "b7de460e-9946-46a9-aff4-39f1363889f6",
   "metadata": {},
   "outputs": [],
   "source": [
    "siamcat_obj = evaluate.predictions(siamcat_obj)\n",
    "\n",
    "options(repr.plot.width=5, repr.plot.height=5)\n",
    "model.evaluation.plot(siamcat_obj)"
   ]
  },
  {
   "cell_type": "markdown",
   "id": "f293d3b4-210a-4326-85d0-46dfe43756cb",
   "metadata": {},
   "source": [
    "6. Interpretation plot. After statistical models have been trained to distinguish Mesopelagic samples from Surface, we will plot characteristics of the models (i.e. model coefficients or feature importance) alongside the input data aiding in understanding how/why the model works (or not)."
   ]
  },
  {
   "cell_type": "code",
   "execution_count": null,
   "id": "4b959876-8a35-4ff0-9018-f7a8df2e5471",
   "metadata": {},
   "outputs": [],
   "source": [
    "model.interpretation.plot(siamcat_obj, fn.plot = 'interpretation_plot.pdf')"
   ]
  },
  {
   "cell_type": "markdown",
   "id": "a81de3a6-e659-4a03-9ece-372efbe19841",
   "metadata": {},
   "source": [
    "The output file has been created in the current directory, you can explore the content of the PDF file following this <a href=\"interpretation_plot.pdf\">link</a>.\n",
    "\n",
    "The plots shows: \n",
    "- The median relative feature weight for selected features (barplot on the left) \n",
    "- The robustness of features (i.e. in how many of the models the specific feature has been selected) \n",
    "- The distribution of selected features across samples (central heatmap) \n",
    "- Which proportion of the weight of all different models are shown in the plot (boxplot on the right)\n",
    "- Distribution of metadata across samples (heatmap below)"
   ]
  },
  {
   "cell_type": "markdown",
   "id": "119204e1-81d8-4d1d-8407-776ed7e1d4dc",
   "metadata": {},
   "source": [
    "### References: <a id='refs'/>\n",
    "\n",
    "<a id=\"reference_1\">1. Lynch, M., Neufeld, J. Ecology and exploration of the rare biosphere. Nat Rev Microbiol 13: 217–229 (2015)<a> [DOI:10.1038/nrmicro3400](https://doi.org/10.1038/nrmicro3400)\n",
    "    \n",
    "<a id=\"reference_2\">2. McKnight, DT., Huerlimann, R., Bower, DS. et al. Methods for Normalizing Microbiome Data: An Ecological Perspective. Methods in Ecology and Evolution / British Ecological Society 10 (3): 389–400 (2019)<a> [DOI:10.1111/2041-210X.13115](https://doi.org/10.1111/2041-210X.13115)\n",
    "\n",
    "<a id=\"reference_3\">3. McMurdie, PJ., Holmes, S. Waste Not, Want Not: Why Rarefying Microbiome Data Is Inadmissible. PLoS Comput Biol 10(4): e1003531 (2014)<a> [DOI:10.1371/journal.pcbi.1003531](https://doi.org/10.1371/journal.pcbi.1003531)\n",
    "    \n",
    "<a id=\"reference_4\">4. Pereira, M., Wallroth, M., Jonsson, V. et al. Comparison of normalization methods for the analysis of metagenomic gene abundance data. BMC Genomics 19, 274 (2018)<a> [DOI:10.1186/s12864-018-4637-6](https://doi.org/10.1186/s12864-018-4637-6)\n",
    "    \n",
    "<a id=\"reference_5\">5. McMurdie, P., Holmes, S. Tutorial of 2018: The distance function in phyloseq. [Available at website](https://joey711.github.io/phyloseq/distance.html)\n",
    "\n",
    "<a id=\"reference_6\">6. Wirbel, J., Zych, K., Essex, M. et al. Microbiome meta-analysis and cross-disease comparison enabled by the SIAMCAT machine learning toolbox. Genome Biol 22: 93 (2021)<a> [DOI:10.1186/s13059-021-02306-1](https://doi.org/10.1186/s13059-021-02306-1)\n",
    "    \n",
    "    \n",
    "<a id=\"reference_7\">7. Tibshirani, R. Regression Shrinkage and Selection via the Lasso. Journal of the Royal Statistical Society. Series B (Methodological) 58(1): 267-288 (1996)<a> [DOI:10.1111/j.2517-6161.1996.tb02080.x](https://doi.org/10.1111/j.2517-6161.1996.tb02080.x)\n",
    "    \n",
    "Documentation and more MGnifyR code and exercises available [on GitHub](https://beadyallen.github.io/MGnifyR/) and [on rdrr site]The output file has been created in the current directory. You can explore the content of the PDF file following this <a href=\"conf_check.pdf\">link</a>.(https://rdrr.io/github/beadyallen/MGnifyR/f/vignettes/MGnifyR.Rmd)\n",
    "\n",
    "Phyloseq tutorials available [on GitHub](https://joey711.github.io/phyloseq/index.html)\n",
    "    \n",
    "Visit the [SIAMCAT documentation](https://siamcat.embl.de/)\n"
   ]
  }
 ],
 "metadata": {
  "kernelspec": {
   "display_name": "R",
   "language": "R",
   "name": "ir"
  },
  "language_info": {
   "codemirror_mode": "r",
   "file_extension": ".r",
   "mimetype": "text/x-r-source",
   "name": "R",
   "pygments_lexer": "r",
   "version": "4.1.3"
  }
 },
 "nbformat": 4,
 "nbformat_minor": 5
}
